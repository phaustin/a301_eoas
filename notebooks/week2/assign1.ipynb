{
 "cells": [
  {
   "cell_type": "markdown",
   "id": "191acdc3",
   "metadata": {},
   "source": [
    "(sec:assign1)=\n",
    "# Assignment 1, brightness temperatures\n",
    "\n",
    "- Download assign1.ipynb from the [week2 folder](https://www.dropbox.com/scl/fo/25w66p7nimcsm04dr1ce9/AOzTXQwlajVjByVQ7xWlgcA?rlkey=aup2jh41qqaposch0pn1fx0ed&st=n7iwqqem&dl=0)\n",
    "\n",
    "- For this assignment you're asked to write a function to calculate the \"brightness temperature\", defined as the temperature a blackbody would need to have to emit an observed monochromatic radiance $I_\\lambda$:\n",
    "\n",
    "$$\n",
    "  B_\\lambda(T_b) = I_{\\lambda\\,observed}\n",
    "$$\n",
    "  \n",
    "\n",
    "\n",
    "Fill in the notebooks cells indicated below and upload your notebook to canvas."
   ]
  },
  {
   "cell_type": "markdown",
   "id": "4366b428",
   "metadata": {},
   "source": [
    "## Question 1\n",
    "\n",
    "In the cell below, write a function that calculates the blackbody radiance.  You can/should just adapt the code from {ref}`sec:planck_sol` so that it evaluates W&H 4.10:\n",
    "  \n",
    "  $$\n",
    "  B_\\lambda(T)=\\frac{c_1 \\lambda^{-5}}{\\pi\\left(e^{c_2 / \\lambda T}-1\\right)}\n",
    "  $$\n",
    "\n",
    "\n",
    "  Your function should have the following name and signature"
   ]
  },
  {
   "cell_type": "markdown",
   "id": "ff4fb2ca",
   "metadata": {},
   "source": [
    "```python\n",
    "def calc_Blambda(wavel, Temp):\n",
    "    \"\"\"\n",
    "    Calculate the blackbody radiance (W&H 4.10)\n",
    "\n",
    "    Parameters\n",
    "    ----------\n",
    "\n",
    "      wavel: float or array\n",
    "           wavelength (meters)\n",
    "\n",
    "      Temp: float\n",
    "           temperature (K)\n",
    "\n",
    "    Returns\n",
    "    -------\n",
    "\n",
    "    Blambda:  float or arr\n",
    "           monochromatic blackbody radiance (W/m^2/m/sr)\n",
    "    \"\"\"\n",
    "```"
   ]
  },
  {
   "cell_type": "code",
   "execution_count": 1,
   "id": "dd9546cf-022a-4c29-a106-c0ff33266728",
   "metadata": {},
   "outputs": [],
   "source": [
    "###  Question 1\n",
    "###  your Blambda function here\n",
    "###"
   ]
  },
  {
   "cell_type": "markdown",
   "id": "9d521b93-7c17-42ed-9dc8-d5858887a608",
   "metadata": {},
   "source": [
    "## Question 2\n",
    "### brightness temperature function\n",
    "\n",
    "In the cell below, write a new function to compute the brightness temperature  $T_{bright}$.  It should have the following name and signature\n",
    "\n",
    "```python\n",
    "def calc_Tbright(wavel, I):\n",
    "    \"\"\"\n",
    "    Calculate the brightness temperature\n",
    "    \n",
    "    Parameters\n",
    "    ----------\n",
    "      wavel: float\n",
    "           wavelength (meters)\n",
    "      I: float or array\n",
    "           radiance (W/m^2/m/sr)\n",
    "    \n",
    "    Returns\n",
    "    -------\n",
    "    Tbright:  float or arr\n",
    "           brightness temperature (K)\n",
    "    \"\"\"\n",
    "\n",
    "```"
   ]
  },
  {
   "cell_type": "code",
   "execution_count": 2,
   "id": "3a43f9ca-df9b-4c2f-8726-2d745fc88144",
   "metadata": {},
   "outputs": [],
   "source": [
    "### Question 2 answer\n",
    "### your version of calc_Tbright here\n",
    "###"
   ]
  },
  {
   "cell_type": "markdown",
   "id": "63a06f3e-f883-4651-afe2-75d68ea19fc1",
   "metadata": {},
   "source": [
    "## Question 3\n",
    "\n",
    "Test your function by executing a round trip for some wavelength and temperature.  In the cell below, define a wavelength `wavelen` and a temperture `the_temp` and use them to calculate blackbody radiance `Iblack` with your function `calc_Blambda`.   Then calculate a brightness temperature `Tbright` using `calc_Tbright` and make sure it is equal to `the_temp` using the function [numpy.testing.assert_almost_equal](https://numpy.org/doc/2.1/reference/generated/numpy.testing.assert_almost_equal.html)\n",
    "\n",
    "Something like:\n",
    "\n",
    "`np.testing.assert_almost_equal(the_temp, Tbright)`"
   ]
  },
  {
   "cell_type": "code",
   "execution_count": 3,
   "id": "77b87cdc-4e24-4bfc-8b96-c66f0aa023e4",
   "metadata": {},
   "outputs": [],
   "source": [
    "### Question 3 answer\n",
    "#\n",
    "# your question 3 solution here\n",
    "#"
   ]
  }
 ],
 "metadata": {
  "jupytext": {
   "formats": "ipynb,md:myst"
  },
  "kernelspec": {
   "display_name": "Python 3 (ipykernel)",
   "language": "python",
   "name": "python3"
  },
  "language_info": {
   "codemirror_mode": {
    "name": "ipython",
    "version": 3
   },
   "file_extension": ".py",
   "mimetype": "text/x-python",
   "name": "python",
   "nbconvert_exporter": "python",
   "pygments_lexer": "ipython3",
   "version": "3.13.1"
  }
 },
 "nbformat": 4,
 "nbformat_minor": 5
}
