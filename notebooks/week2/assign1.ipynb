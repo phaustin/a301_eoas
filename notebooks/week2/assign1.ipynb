{
 "cells": [
  {
   "cell_type": "markdown",
   "id": "191acdc3",
   "metadata": {},
   "source": [
    "(sec:planck)=\n",
    "# Assignment 1, brightness temperatures - solution\n",
    "\n",
    "For this assignment you're asked to write a function to calculate the \"brightness temperature\", defined as the temperature a blackbody would need to have to emit an observed monochromatic radiance $I_\\lambda$:\n",
    "\n",
    "$$\n",
    "  B_\\lambda(T_b) = I_{\\lambda\\,observed}\n",
    "$$\n",
    "  \n",
    "\n",
    "\n",
    "Fill in the notebooks cells indicated below and upload your notebook to canvas.\n",
    "\n",
    "Download this notebook from this link: [assign1.ipynb](https://www.dropbox.com/scl/fi/0h4rc6v3zpfdffo6b2iim/planck_function.ipynb?rlkey=5oj4dxq7uabz84jwhgadpi3m6&st=lhui2utn&dl=0)"
   ]
  },
  {
   "cell_type": "markdown",
   "id": "4366b428",
   "metadata": {},
   "source": [
    "### Question 1\n",
    "\n",
    "In the cell below, write a function that calculates the blackbody radiance.  You can/should just adapt the code from {ref}`planck_sol` so that it evaluates W&H 4.10:\n",
    "  \n",
    "  $$\n",
    "  B_\\lambda(T)=\\frac{c_1 \\lambda^{-5}}{\\pi\\left(e^{c_2 / \\lambda T}-1\\right)}\n",
    "  $$\n",
    "\n",
    "\n",
    "  Your function should have the following name and signature"
   ]
  },
  {
   "cell_type": "markdown",
   "id": "ff4fb2ca",
   "metadata": {},
   "source": [
    "```python\n",
    "def calc_Blambda(wavel, Temp):\n",
    "    \"\"\"\n",
    "    Calculate the blackbody radiance (W&H 4.10)\n",
    "\n",
    "    Parameters\n",
    "    ----------\n",
    "\n",
    "      wavel: float or array\n",
    "           wavelength (meters)\n",
    "\n",
    "      Temp: float\n",
    "           temperature (K)\n",
    "\n",
    "    Returns\n",
    "    -------\n",
    "\n",
    "    Blambda:  float or arr\n",
    "           monochromatic blackbody radiance (W/m^2/m/sr)\n",
    "    \"\"\"\n",
    "```"
   ]
  },
  {
   "cell_type": "code",
   "execution_count": null,
   "id": "a403c685",
   "metadata": {},
   "outputs": [],
   "source": [
    "###  Question 1\n",
    "###  your Blambda function here\n",
    "###\n",
    "\n",
    "\n",
    "\n",
    "### Question 2\n",
    "### brightness temperature function\n",
    "\n",
    "In the cell below, write a new function to compute the brightness temperature  $T_{bright}$.  It should have the following name and signature\n",
    "\n",
    "```python\n",
    "def calc_Tbright(wavel, I):\n",
    "    \"\"\"\n",
    "    Calculate the brightness temperature\n",
    "    \n",
    "    Parameters\n",
    "    ----------\n",
    "      wavel: float\n",
    "           wavelength (meters)\n",
    "      I: float or array\n",
    "           radiance (W/m^2/m/sr)\n",
    "    \n",
    "    Returns\n",
    "    -------\n",
    "    Tbright:  float or arr\n",
    "           brightness temperature (K)\n",
    "    \"\"\""
   ]
  },
  {
   "cell_type": "code",
   "execution_count": null,
   "id": "0d0372c7",
   "metadata": {},
   "outputs": [],
   "source": [
    "### Question 2 answer\n",
    "### your version of calc_Tbright here\n",
    "###\n",
    "\n",
    "\n",
    "### Question 3\n",
    "\n",
    "Test your function by executing a round trip for some wavelength and temperature.  In the cell below, define a wavelength `wavelen` and a temperture `the_temp` and use them to calculate blackbody radiance `Iblack` with your function `calc_Blambda`.   Then calculate a brightness temperature `Tbright` using `calc_Tbright` and make sure it is equal to `the_temp` using the function [numpy.testing.assert_almost_equal](https://numpy.org/doc/2.1/reference/generated/numpy.testing.assert_almost_equal.html)\n",
    "\n",
    "Something like:\n",
    "\n",
    "`np.testing.assert_almost_equal(the_temp, Tbright)`\n",
    "\n",
    "\n",
    "\n",
    "```{code-cell} ipython3\n",
    "### Question 3 answer\n",
    "#\n",
    "# your question 3 solution here\n",
    "#"
   ]
  }
 ],
 "metadata": {
  "jupytext": {
   "formats": "ipynb,md:myst"
  },
  "kernelspec": {
   "display_name": "Python 3 (ipykernel)",
   "language": "python",
   "name": "python3"
  },
  "language_info": {
   "codemirror_mode": {
    "name": "ipython",
    "version": 3
   },
   "file_extension": ".py",
   "mimetype": "text/x-python",
   "name": "python",
   "nbconvert_exporter": "python",
   "pygments_lexer": "ipython3",
   "version": "3.11.6"
  }
 },
 "nbformat": 4,
 "nbformat_minor": 5
}
