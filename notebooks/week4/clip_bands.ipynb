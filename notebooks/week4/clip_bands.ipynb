{
 "cells": [
  {
   "cell_type": "markdown",
   "id": "4860e932",
   "metadata": {},
   "source": [
    "(week4:clip_bands)=\n",
    "# Clipping multiple bands\n",
    "\n",
    "## Introduction\n",
    "\n",
    "We are going to need to look at bands 2, 3, 4, 5, 9, 10 and 11.  This notebook uses the clipped band we wrote in\n",
    "{ref}`week3:image_zoom` to get the clipping box, then reads in each of these bands, clips to the same box and scales them,\n",
    "and writes them out to new smaller geotifs.\n",
    "\n",
    "- Download clip_bands.ipynb from the [week4 folder](https://drive.google.com/drive/folders/1-Ja2wVKVIjkZb7Gx_rfc14J_aBYiknuw?usp=sharing)\n",
    "- You'll also need to copy the 5 tif files in the [vancouver](https://drive.google.com/drive/folders/1UwTc4MnneI2eZ6rHqKFzF4YdRRbQi4sS?usp=sharing) folder into a new folder on your drive called `~/repos/a301/satdata/landsat/vancouver`"
   ]
  },
  {
   "cell_type": "code",
   "execution_count": 1,
   "id": "f6bb0117",
   "metadata": {},
   "outputs": [],
   "source": [
    "import copy\n",
    "import pprint\n",
    "from pathlib import Path\n",
    "from osgeo import gdal\n",
    "import json\n",
    "\n",
    "import cartopy\n",
    "import numpy as np\n",
    "import numpy.random\n",
    "import rasterio\n",
    "from affine import Affine\n",
    "from matplotlib import pyplot as plt\n",
    "from matplotlib.colors import Normalize\n",
    "from pyproj import CRS, Transformer\n",
    "import rioxarray\n",
    "from cartopy import crs as ccrs"
   ]
  },
  {
   "cell_type": "markdown",
   "id": "80cb072b",
   "metadata": {},
   "source": [
    "## Get the original hls tif files from disk\n",
    "\n",
    "This cell finds all the 3660 x 3660 landsat tifs we downloaded in the satdata/landsat/vancouver folder.  We can use the `*` wildcard\n",
    "so we don't have to type in long filenames, and the `**` wildcard so we look in all subfolders.  If you're interested  here's\n",
    "the [wikipedia entry on globbing](https://en.wikipedia.org/wiki/Glob_(programming)#:~:text=6%20References-,Origin,command%3A%20%2Fetc%2Fglob.)"
   ]
  },
  {
   "cell_type": "code",
   "execution_count": 2,
   "id": "1a8af47a-073a-4b8e-aedd-b6360efab22b",
   "metadata": {},
   "outputs": [
    {
     "name": "stdout",
     "output_type": "stream",
     "text": [
      "[PosixPath('/Users/phil/repos/a301/satdata/landsat/vancouver/HLS.L30.T10UDV.2015165T190019.v2.0.B03.tif'), PosixPath('/Users/phil/repos/a301/satdata/landsat/vancouver/HLS.L30.T10UDV.2015165T190019.v2.0.B02.tif'), PosixPath('/Users/phil/repos/a301/satdata/landsat/vancouver/HLS.L30.T10UDV.2015165T190019.v2.0.B11.tif'), PosixPath('/Users/phil/repos/a301/satdata/landsat/vancouver/HLS.L30.T10UDV.2015165T190019.v2.0.B05.tif'), PosixPath('/Users/phil/repos/a301/satdata/landsat/vancouver/HLS.L30.T10UDV.2015165T190019.v2.0.B04.tif'), PosixPath('/Users/phil/repos/a301/satdata/landsat/vancouver/HLS.L30.T10UDV.2015165T190019.v2.0.B10.tif'), PosixPath('/Users/phil/repos/a301/satdata/landsat/vancouver/HLS.L30.T10UDV.2015165T190019.v2.0.B09.tif')]\n"
     ]
    }
   ],
   "source": [
    "data_dir = Path().home() / 'repos/a301/satdata/landsat'\n",
    "the_tifs = list(data_dir.glob('**/vancouver/HLS.L30*tif'))\n",
    "print(the_tifs)"
   ]
  },
  {
   "cell_type": "markdown",
   "id": "07d56789-2420-42db-b365-52ee02988aaf",
   "metadata": {},
   "source": [
    "## Examine the geotif metadata\n",
    "\n",
    "### Using gdalinfo from the terminal\n",
    "\n",
    "It turns out that rioxarray only copies part of the metadata into the `DataArray`.  To get all the metadata, we can use the underlying [gdal module](https://gdal.org/en/stable/programs/gdalinfo.html). Do the following:\n",
    "\n",
    "- open a terminal\n",
    "- cd to the folder holding the geotiff\n",
    "- type `gdalinfo your_tif_name_here.tif`\n",
    "\n",
    "\n",
    "### Using the python gdal api\n",
    "\n",
    "We can also do that from inside python.  To get all the information for the first tif, do:"
   ]
  },
  {
   "cell_type": "code",
   "execution_count": 3,
   "id": "f78fee10-8c39-4d9f-aee8-44009067580e",
   "metadata": {},
   "outputs": [
    {
     "name": "stdout",
     "output_type": "stream",
     "text": [
      "type(info)=<class 'dict'>\n"
     ]
    },
    {
     "name": "stderr",
     "output_type": "stream",
     "text": [
      "/Users/phil/mini310/envs/a301/lib/python3.13/site-packages/osgeo/gdal.py:311: FutureWarning: Neither gdal.UseExceptions() nor gdal.DontUseExceptions() has been explicitly called. In GDAL 4.0, exceptions will be enabled by default.\n",
      "  warnings.warn(\n"
     ]
    },
    {
     "data": {
      "text/plain": [
       "{'description': '/Users/phil/repos/a301/satdata/landsat/vancouver/HLS.L30.T10UDV.2015165T190019.v2.0.B02.tif',\n",
       " 'driverShortName': 'GTiff',\n",
       " 'driverLongName': 'GeoTIFF',\n",
       " 'files': ['/Users/phil/repos/a301/satdata/landsat/vancouver/HLS.L30.T10UDV.2015165T190019.v2.0.B02.tif'],\n",
       " 'size': [3660, 3660],\n",
       " 'coordinateSystem': {'wkt': 'PROJCRS[\"UTM Zone 10, Northern Hemisphere\",\\n    BASEGEOGCRS[\"Unknown datum based upon the WGS 84 ellipsoid\",\\n        DATUM[\"Not specified (based on WGS 84 spheroid)\",\\n            ELLIPSOID[\"WGS 84\",6378137,298.257223563,\\n                LENGTHUNIT[\"metre\",1],\\n                ID[\"EPSG\",7030]]],\\n        PRIMEM[\"Greenwich\",0,\\n            ANGLEUNIT[\"degree\",0.0174532925199433,\\n                ID[\"EPSG\",9122]]]],\\n    CONVERSION[\"Transverse Mercator\",\\n        METHOD[\"Transverse Mercator\",\\n            ID[\"EPSG\",9807]],\\n        PARAMETER[\"Latitude of natural origin\",0,\\n            ANGLEUNIT[\"degree\",0.0174532925199433],\\n            ID[\"EPSG\",8801]],\\n        PARAMETER[\"Longitude of natural origin\",-123,\\n            ANGLEUNIT[\"degree\",0.0174532925199433],\\n            ID[\"EPSG\",8802]],\\n        PARAMETER[\"Scale factor at natural origin\",0.9996,\\n            SCALEUNIT[\"unity\",1],\\n            ID[\"EPSG\",8805]],\\n        PARAMETER[\"False easting\",500000,\\n            LENGTHUNIT[\"metre\",1],\\n            ID[\"EPSG\",8806]],\\n        PARAMETER[\"False northing\",0,\\n            LENGTHUNIT[\"metre\",1],\\n            ID[\"EPSG\",8807]]],\\n    CS[Cartesian,2],\\n        AXIS[\"easting\",east,\\n            ORDER[1],\\n            LENGTHUNIT[\"metre\",1,\\n                ID[\"EPSG\",9001]]],\\n        AXIS[\"northing\",north,\\n            ORDER[2],\\n            LENGTHUNIT[\"metre\",1,\\n                ID[\"EPSG\",9001]]]]',\n",
       "  'dataAxisToSRSAxisMapping': [1, 2]},\n",
       " 'geoTransform': [399960.0, 30.0, 0.0, 5500020.0, 0.0, -30.0],\n",
       " 'metadata': {'': {'ACCODE': 'Lasrc; Lasrc',\n",
       "   'add_offset': '0.0',\n",
       "   'arop_ave_xshift(meters)': '0, 0',\n",
       "   'arop_ave_yshift(meters)': '0, 0',\n",
       "   'arop_ncp': '0, 0',\n",
       "   'arop_rmse(meters)': '0, 0',\n",
       "   'arop_s2_refimg': 'NONE',\n",
       "   'cloud_coverage': '4',\n",
       "   'HLS_PROCESSING_TIME': '2022-03-05T21:45:14Z',\n",
       "   'HORIZONTAL_CS_NAME': 'UTM, WGS84, UTM ZONE 10; UTM, WGS84, UTM ZONE 10',\n",
       "   'L1_PROCESSING_TIME': '2020-09-09T04:39:55Z; 2020-09-09T04:39:25Z',\n",
       "   'LANDSAT_PRODUCT_ID': 'LC08_L1TP_047025_20150614_20200909_02_T1; LC08_L1TP_047026_20150614_20200909_02_T1',\n",
       "   'LANDSAT_SCENE_ID': 'LC80470252015165LGN02; LC80470262015165LGN02',\n",
       "   'long_name': 'Blue',\n",
       "   'MEAN_SUN_AZIMUTH_ANGLE': '144.194636459219',\n",
       "   'MEAN_SUN_ZENITH_ANGLE': '29.6215707600637',\n",
       "   'MEAN_VIEW_AZIMUTH_ANGLE': '108.351563730551',\n",
       "   'MEAN_VIEW_ZENITH_ANGLE': '4.81243847783454',\n",
       "   'NBAR_SOLAR_ZENITH': '28.5475827060758',\n",
       "   'NCOLS': '3660',\n",
       "   'NROWS': '3660',\n",
       "   'OVR_RESAMPLING_ALG': 'NEAREST',\n",
       "   'PROCESSING_LEVEL': 'L1TP; L1TP',\n",
       "   'scale_factor': '0.0001',\n",
       "   'SENSING_TIME': '2015-06-14T19:00:19.1429430Z; 2015-06-14T19:00:43.0255080Z',\n",
       "   'SENSOR': 'OLI_TIRS; OLI_TIRS',\n",
       "   'SENTINEL2_TILEID': '10UDV',\n",
       "   'spatial_coverage': '77',\n",
       "   'SPATIAL_RESOLUTION': '30',\n",
       "   'TIRS_SSM_MODEL': 'ACTUAL; ACTUAL',\n",
       "   'TIRS_SSM_POSITION_STATUS': 'NOMINAL; NOMINAL',\n",
       "   'ULX': '399960',\n",
       "   'ULY': '5500020',\n",
       "   'USGS_SOFTWARE': 'LPGS_15.3.1c',\n",
       "   '_FillValue': '-9999',\n",
       "   'AREA_OR_POINT': 'Area'},\n",
       "  'IMAGE_STRUCTURE': {'COMPRESSION': 'DEFLATE',\n",
       "   'INTERLEAVE': 'BAND',\n",
       "   'PREDICTOR': '2'}},\n",
       " 'cornerCoordinates': {'upperLeft': [399960.0, 5500020.0],\n",
       "  'lowerLeft': [399960.0, 5390220.0],\n",
       "  'lowerRight': [509760.0, 5390220.0],\n",
       "  'upperRight': [509760.0, 5500020.0],\n",
       "  'center': [454860.0, 5445120.0]},\n",
       " 'wgs84Extent': {'type': 'Polygon',\n",
       "  'coordinates': [[[-124.3857276, 49.6444301],\n",
       "    [-124.3584538, 48.6570208],\n",
       "    [-122.8674487, 48.6649552],\n",
       "    [-122.8647864, 49.6526439],\n",
       "    [-124.3857276, 49.6444301]]]},\n",
       " 'bands': [{'band': 1,\n",
       "   'block': [256, 256],\n",
       "   'type': 'Int16',\n",
       "   'colorInterpretation': 'Gray',\n",
       "   'description': 'Blue',\n",
       "   'noDataValue': -9999.0,\n",
       "   'overviews': [{'size': [1830, 1830]},\n",
       "    {'size': [915, 915]},\n",
       "    {'size': [458, 458]},\n",
       "    {'size': [229, 229]}],\n",
       "   'offset': 0.0,\n",
       "   'scale': 0.0001,\n",
       "   'metadata': {}}],\n",
       " 'stac': {'proj:shape': [3660, 3660],\n",
       "  'proj:wkt2': 'PROJCRS[\"UTM Zone 10, Northern Hemisphere\",\\n    BASEGEOGCRS[\"Unknown datum based upon the WGS 84 ellipsoid\",\\n        DATUM[\"Not specified (based on WGS 84 spheroid)\",\\n            ELLIPSOID[\"WGS 84\",6378137,298.257223563,\\n                LENGTHUNIT[\"metre\",1],\\n                ID[\"EPSG\",7030]]],\\n        PRIMEM[\"Greenwich\",0,\\n            ANGLEUNIT[\"degree\",0.0174532925199433,\\n                ID[\"EPSG\",9122]]]],\\n    CONVERSION[\"Transverse Mercator\",\\n        METHOD[\"Transverse Mercator\",\\n            ID[\"EPSG\",9807]],\\n        PARAMETER[\"Latitude of natural origin\",0,\\n            ANGLEUNIT[\"degree\",0.0174532925199433],\\n            ID[\"EPSG\",8801]],\\n        PARAMETER[\"Longitude of natural origin\",-123,\\n            ANGLEUNIT[\"degree\",0.0174532925199433],\\n            ID[\"EPSG\",8802]],\\n        PARAMETER[\"Scale factor at natural origin\",0.9996,\\n            SCALEUNIT[\"unity\",1],\\n            ID[\"EPSG\",8805]],\\n        PARAMETER[\"False easting\",500000,\\n            LENGTHUNIT[\"metre\",1],\\n            ID[\"EPSG\",8806]],\\n        PARAMETER[\"False northing\",0,\\n            LENGTHUNIT[\"metre\",1],\\n            ID[\"EPSG\",8807]]],\\n    CS[Cartesian,2],\\n        AXIS[\"easting\",east,\\n            ORDER[1],\\n            LENGTHUNIT[\"metre\",1,\\n                ID[\"EPSG\",9001]]],\\n        AXIS[\"northing\",north,\\n            ORDER[2],\\n            LENGTHUNIT[\"metre\",1,\\n                ID[\"EPSG\",9001]]]]',\n",
       "  'proj:epsg': None,\n",
       "  'proj:projjson': {'$schema': 'https://proj.org/schemas/v0.7/projjson.schema.json',\n",
       "   'type': 'ProjectedCRS',\n",
       "   'name': 'UTM Zone 10, Northern Hemisphere',\n",
       "   'base_crs': {'name': 'Unknown datum based upon the WGS 84 ellipsoid',\n",
       "    'datum': {'type': 'GeodeticReferenceFrame',\n",
       "     'name': 'Not specified (based on WGS 84 spheroid)',\n",
       "     'ellipsoid': {'name': 'WGS 84',\n",
       "      'semi_major_axis': 6378137,\n",
       "      'inverse_flattening': 298.257223563,\n",
       "      'id': {'authority': 'EPSG', 'code': 7030}}},\n",
       "    'coordinate_system': {'subtype': 'ellipsoidal',\n",
       "     'axis': [{'name': 'Longitude',\n",
       "       'abbreviation': 'lon',\n",
       "       'direction': 'east',\n",
       "       'unit': 'degree'},\n",
       "      {'name': 'Latitude',\n",
       "       'abbreviation': 'lat',\n",
       "       'direction': 'north',\n",
       "       'unit': 'degree'}]}},\n",
       "   'conversion': {'name': 'Transverse Mercator',\n",
       "    'method': {'name': 'Transverse Mercator',\n",
       "     'id': {'authority': 'EPSG', 'code': 9807}},\n",
       "    'parameters': [{'name': 'Latitude of natural origin',\n",
       "      'value': 0,\n",
       "      'unit': 'degree',\n",
       "      'id': {'authority': 'EPSG', 'code': 8801}},\n",
       "     {'name': 'Longitude of natural origin',\n",
       "      'value': -123,\n",
       "      'unit': 'degree',\n",
       "      'id': {'authority': 'EPSG', 'code': 8802}},\n",
       "     {'name': 'Scale factor at natural origin',\n",
       "      'value': 0.9996,\n",
       "      'unit': 'unity',\n",
       "      'id': {'authority': 'EPSG', 'code': 8805}},\n",
       "     {'name': 'False easting',\n",
       "      'value': 500000,\n",
       "      'unit': 'metre',\n",
       "      'id': {'authority': 'EPSG', 'code': 8806}},\n",
       "     {'name': 'False northing',\n",
       "      'value': 0,\n",
       "      'unit': 'metre',\n",
       "      'id': {'authority': 'EPSG', 'code': 8807}}]},\n",
       "   'coordinate_system': {'subtype': 'Cartesian',\n",
       "    'axis': [{'name': 'Easting',\n",
       "      'abbreviation': '',\n",
       "      'direction': 'east',\n",
       "      'unit': 'metre'},\n",
       "     {'name': 'Northing',\n",
       "      'abbreviation': '',\n",
       "      'direction': 'north',\n",
       "      'unit': 'metre'}]}},\n",
       "  'proj:transform': [399960.0, 30.0, 0.0, 5500020.0, 0.0, -30.0],\n",
       "  'raster:bands': [{'data_type': 'int16',\n",
       "    'nodata': None,\n",
       "    'scale': None,\n",
       "    'offset': None}],\n",
       "  'eo:bands': [{'name': 'b1', 'description': 'Blue'}]}}"
      ]
     },
     "execution_count": 3,
     "metadata": {},
     "output_type": "execute_result"
    }
   ],
   "source": [
    "info = gdal.Info(the_tifs[1], format='json')\n",
    "print(f\"{type(info)=}\")\n",
    "info"
   ]
  },
  {
   "cell_type": "markdown",
   "id": "eba5e040-9ef0-4060-82e0-01012c5151db",
   "metadata": {},
   "source": [
    "### Dump all the metadata\n",
    "\n",
    "You can print the  `info` dictionary to see the full gdal metadata dictionary.\n",
    "Scanning through it, will see that the `metadata` key has two sub-keys:"
   ]
  },
  {
   "cell_type": "code",
   "execution_count": 4,
   "id": "dd96ae28-b0e4-4673-b5f6-5a6fe864d3d7",
   "metadata": {},
   "outputs": [
    {
     "name": "stdout",
     "output_type": "stream",
     "text": [
      "info['metadata'].keys()=dict_keys(['', 'IMAGE_STRUCTURE'])\n"
     ]
    }
   ],
   "source": [
    "print(f\"{info['metadata'].keys()=}\")"
   ]
  },
  {
   "cell_type": "markdown",
   "id": "119fe818-fbf1-491f-a061-a21d12590781",
   "metadata": {},
   "source": [
    "And looking at the first key shows all of the metadata that rioxarray transfers to the DataArray attributes.  these are the entries that we'll need to change for our clipped, scaled image.  We need to change `NCOLS, NROWS, ULX, ULY and scale_factor` when we write the clipped geotif.  Descriptions of each of the metadata items are in the [hls user guide](https://lpdaac.usgs.gov/documents/1007/HLS_User_Guide_V15_provisional.pdf)"
   ]
  },
  {
   "cell_type": "code",
   "execution_count": 5,
   "id": "27c1bfa5-4432-472e-bd20-35a36d1c85c2",
   "metadata": {},
   "outputs": [
    {
     "name": "stdout",
     "output_type": "stream",
     "text": [
      "info['metadata'][''].keys()=dict_keys(['ACCODE', 'add_offset', 'arop_ave_xshift(meters)', 'arop_ave_yshift(meters)', 'arop_ncp', 'arop_rmse(meters)', 'arop_s2_refimg', 'cloud_coverage', 'HLS_PROCESSING_TIME', 'HORIZONTAL_CS_NAME', 'L1_PROCESSING_TIME', 'LANDSAT_PRODUCT_ID', 'LANDSAT_SCENE_ID', 'long_name', 'MEAN_SUN_AZIMUTH_ANGLE', 'MEAN_SUN_ZENITH_ANGLE', 'MEAN_VIEW_AZIMUTH_ANGLE', 'MEAN_VIEW_ZENITH_ANGLE', 'NBAR_SOLAR_ZENITH', 'NCOLS', 'NROWS', 'OVR_RESAMPLING_ALG', 'PROCESSING_LEVEL', 'scale_factor', 'SENSING_TIME', 'SENSOR', 'SENTINEL2_TILEID', 'spatial_coverage', 'SPATIAL_RESOLUTION', 'TIRS_SSM_MODEL', 'TIRS_SSM_POSITION_STATUS', 'ULX', 'ULY', 'USGS_SOFTWARE', '_FillValue', 'AREA_OR_POINT'])\n"
     ]
    }
   ],
   "source": [
    "print(f\"{info['metadata'][''].keys()=}\")"
   ]
  },
  {
   "cell_type": "markdown",
   "id": "41e7bd82-98af-4de9-ba63-6f47f3f836c8",
   "metadata": {},
   "source": [
    "We want to check the `long_name` key in particular, to make sure we are looking at the right wavelength:"
   ]
  },
  {
   "cell_type": "code",
   "execution_count": 6,
   "id": "ffb9515a-f17f-4ef3-a5d0-327a2d3b8d8a",
   "metadata": {},
   "outputs": [
    {
     "name": "stdout",
     "output_type": "stream",
     "text": [
      "info['metadata']['']['long_name']='Blue'\n"
     ]
    }
   ],
   "source": [
    "print(f\"{info['metadata']['']['long_name']=}\")"
   ]
  },
  {
   "cell_type": "markdown",
   "id": "2c5b2b31-d595-4ab2-93fb-e6406506dbf4",
   "metadata": {},
   "source": [
    "The exact wavelength range for each hls landsat band is given in the [spectral band table](https://lpdaac.usgs.gov/data/get-started-data/collection-overview/missions/harmonized-landsat-sentinel-2-hls-overview/#hls-spectral-bands)"
   ]
  },
  {
   "cell_type": "markdown",
   "id": "1e723544-52d1-469a-87a4-2369aa9cb461",
   "metadata": {},
   "source": [
    "## Read the bands into a dictionary and scale\n",
    "\n",
    "We're ready to read all of the bands into a dictionary, keyed by the band `long_name`.  All the band names are listed in the\n",
    "[spectral band table](https://lpdaac.usgs.gov/data/get-started-data/collection-overview/missions/harmonized-landsat-sentinel-2-hls-overview/#hls-spectral-bands). Note one complication -- the `unit` attribute is only present for brightness temperatures, not reflectivities.\n",
    "\n",
    "Two notes on the next cell:\n",
    "\n",
    "1. We use the `*=` assignment operator.  This is preferred because\n",
    "   `a *= 5` is more concise than `a = a*5` and you don't risk making a typo on the second `a`\n",
    "2. We use `hls_band.data *= hls_band.scale_factor` instead of `hls_band *= hls_band.scale_factor`.  The second version\n",
    "   converts the result into a plain numpy array and overwrites the xarray, losing all the attributes\n",
    "3. Because we set `masked=True`, all `-9999` values are changed to `np.nan` and `_FillValue` is deleted from\n",
    "   the attributes.  That means we can multiply the data by the scale factor and not worry about the changed missing value."
   ]
  },
  {
   "cell_type": "code",
   "execution_count": 7,
   "id": "4f92ae48-71b0-4835-81b0-dcaf824cc07a",
   "metadata": {},
   "outputs": [
    {
     "name": "stdout",
     "output_type": "stream",
     "text": [
      "band_name='Green'\n",
      "band_name='Blue'\n",
      "band_name='TIRS2'\n",
      "hls_band.unit='Celsius'\n",
      "band_name='NIR'\n",
      "band_name='Red'\n",
      "band_name='TIRS1'\n",
      "hls_band.unit='Celsius'\n",
      "band_name='Cirrus'\n"
     ]
    }
   ],
   "source": [
    "band_dict={}\n",
    "for tif_path in the_tifs:\n",
    "    hls_band = rioxarray.open_rasterio(tif_path,masked=True)\n",
    "    band_name = hls_band.long_name\n",
    "    #\n",
    "    # multiply the data by the scale factor\n",
    "    #\n",
    "    hls_band.data *= hls_band.scale_factor\n",
    "    print(f\"{band_name=}\")\n",
    "    band_dict[band_name] = hls_band\n",
    "    if 'unit' in hls_band.attrs:\n",
    "        print(f\"{hls_band.unit=}\")"
   ]
  },
  {
   "cell_type": "markdown",
   "id": "1687aefd-2b5c-48b1-b8d4-8d8830ecee75",
   "metadata": {},
   "source": [
    "## Read the clipped week3 band 5 file\n",
    "\n",
    "Next we want to get the affine transform from week 3 clipped band file, so we can set the same bounding box for all tifs"
   ]
  },
  {
   "cell_type": "markdown",
   "id": "5dab8668-a07b-452b-8cad-3e09065dc097",
   "metadata": {},
   "source": [
    "(bounding_box)=\n",
    "### Create the bounding box using the upper left and lower right corners\n",
    "\n",
    "This should be identical to the bounding box we found in {ref}`zoom_landsat_array`, which was:\n",
    "\n",
    "`bounding_box=(476100.0, 5447460.0, 488100.0, 5465460.0)`\n",
    "\n",
    "We can get them using the clipped affine transform.  Again, we search for the file using wild cards.  We just want\n",
    "the first file we find, which means we need convert the python generator returned by glob into a list we can index."
   ]
  },
  {
   "cell_type": "code",
   "execution_count": 8,
   "id": "50b8bba1-8ad3-4901-9c99-d02fc2835de3",
   "metadata": {},
   "outputs": [
    {
     "name": "stdout",
     "output_type": "stream",
     "text": [
      "/Users/phil/repos/a301/satdata/landsat/band5_clipped_rio.tif\n"
     ]
    },
    {
     "data": {
      "text/plain": [
       "Affine(30.0, 0.0, 476100.0,\n",
       "       0.0, -30.0, 5465460.0)"
      ]
     },
     "execution_count": 8,
     "metadata": {},
     "output_type": "execute_result"
    }
   ],
   "source": [
    "filename =  list(data_dir.glob('**/band5_clipped*'))[0]\n",
    "print(filename)\n",
    "clipped_5 = rioxarray.open_rasterio(filename,masked=True)\n",
    "clipped_transform = clipped_5.rio.transform()\n",
    "clipped_transform"
   ]
  },
  {
   "cell_type": "code",
   "execution_count": 9,
   "id": "91cc08a8-a4ea-46cd-9467-4d66ea5c7dba",
   "metadata": {},
   "outputs": [
    {
     "data": {
      "text/plain": [
       "(600, 400)"
      ]
     },
     "execution_count": 9,
     "metadata": {},
     "output_type": "execute_result"
    }
   ],
   "source": [
    "band, nrows, ncols = clipped_5.shape\n",
    "nrows, ncols"
   ]
  },
  {
   "cell_type": "code",
   "execution_count": 10,
   "id": "81d035cb-4701-4d99-b373-17a9c321006a",
   "metadata": {},
   "outputs": [
    {
     "name": "stdout",
     "output_type": "stream",
     "text": [
      "bounding_box=(476100.0, 5447460.0, 488100.0, 5465460.0)\n"
     ]
    }
   ],
   "source": [
    "ul_x, ul_y = clipped_transform * (0, 0)\n",
    "lr_x, lr_y = clipped_transform * (ncols, nrows)\n",
    "bounding_box = (ul_x, lr_y, lr_x, ul_y)\n",
    "print(f\"{bounding_box=}\")"
   ]
  },
  {
   "cell_type": "markdown",
   "id": "9430d3a4-32b5-4a8d-ab93-55f408f42891",
   "metadata": {},
   "source": [
    "### Get the pyproj crs to copy to output tif\n",
    "\n",
    "We want the improved crs we wrote out in {ref}`week3:image_zoom` for the band5 clipped tif, since  it includes the epsg code"
   ]
  },
  {
   "cell_type": "code",
   "execution_count": 11,
   "id": "125b9363-5597-43ae-ae96-f1188bc9e60e",
   "metadata": {},
   "outputs": [
    {
     "name": "stdout",
     "output_type": "stream",
     "text": [
      "good_crs.to_epsg()=32610\n"
     ]
    }
   ],
   "source": [
    "good_crs = clipped_5.rio.crs\n",
    "print(f\"{good_crs.to_epsg()=}\")"
   ]
  },
  {
   "cell_type": "markdown",
   "id": "2c2beabc-49c3-4ac9-8dd3-540e332e6332",
   "metadata": {},
   "source": [
    "## Clip the bands\n",
    "\n",
    "Loop through the dictionary and clip each xarray."
   ]
  },
  {
   "cell_type": "code",
   "execution_count": 12,
   "id": "69b61608-2f1c-4751-97f7-21832946d910",
   "metadata": {},
   "outputs": [],
   "source": [
    "for key, value in band_dict.items():\n",
    "    band_dict[key] = value.rio.clip_box(*bounding_box)"
   ]
  },
  {
   "cell_type": "markdown",
   "id": "f4dd4d3d-c5c5-441b-bd99-297e006ae78c",
   "metadata": {},
   "source": [
    "## Check the brightness temperature in band 11"
   ]
  },
  {
   "cell_type": "code",
   "execution_count": 13,
   "id": "74bc84e4-2eed-4d20-94f7-68e6122582bf",
   "metadata": {},
   "outputs": [
    {
     "data": {
      "text/plain": [
       "Text(0.5, 1.0, 'band TIRS2 (Celsius)')"
      ]
     },
     "execution_count": 13,
     "metadata": {},
     "output_type": "execute_result"
    },
    {
     "data": {
      "image/png": "[encoded data removed]",
      "text/plain": [
       "<Figure size 640x480 with 1 Axes>"
      ]
     },
     "metadata": {},
     "output_type": "display_data"
    }
   ],
   "source": [
    "key = 'TIRS2'\n",
    "fig, ax = plt.subplots(1,1)\n",
    "band_dict[key].plot.hist(ax = ax)\n",
    "ax.set_title(f\"band {key} ({band_dict[key].unit})\")"
   ]
  },
  {
   "cell_type": "markdown",
   "id": "ca9201f3-11dd-4765-82c4-89a8ea7ef6c6",
   "metadata": {},
   "source": [
    "## Write the clipped geotiffs\n",
    "\n",
    "Put these into the vancouver folder.  We can copy code from {ref}`week3:write_clipped`"
   ]
  },
  {
   "cell_type": "markdown",
   "id": "cf56fd06-dc63-4b14-83c5-e1335c1a4006",
   "metadata": {},
   "source": [
    "### Transfer the crs and the affine transform"
   ]
  },
  {
   "cell_type": "code",
   "execution_count": 14,
   "id": "9e6bba4a",
   "metadata": {},
   "outputs": [],
   "source": [
    "for key, value in band_dict.items():\n",
    "    value.rio.write_crs(good_crs, inplace=True)\n",
    "    value.rio.write_transform(clipped_transform, inplace=True)"
   ]
  },
  {
   "cell_type": "markdown",
   "id": "960777b2",
   "metadata": {},
   "source": [
    "### change some attributes\n",
    "\n",
    "We need to adjust some of the attributions for the new subscene.  To do this, copy the exiting attributes into\n",
    "a dictionary and rewrite the parts you want to change, adding any extras."
   ]
  },
  {
   "cell_type": "code",
   "execution_count": 26,
   "id": "2c8f68ba-6cbb-472f-bfc2-0c5b8208927e",
   "metadata": {},
   "outputs": [
    {
     "data": {
      "text/plain": [
       "dtype('float32')"
      ]
     },
     "execution_count": 26,
     "metadata": {},
     "output_type": "execute_result"
    }
   ],
   "source": [
    "band_dict['Red'].dtype"
   ]
  },
  {
   "cell_type": "code",
   "execution_count": 15,
   "id": "ec747c5b",
   "metadata": {},
   "outputs": [],
   "source": [
    "for key, value in band_dict.items():\n",
    "    new_attrs = value.attrs\n",
    "    new_attrs['ULX']= ul_x\n",
    "    new_attrs['ULY'] = ul_y\n",
    "    band, nrows, ncols = value.shape\n",
    "    new_attrs['NROWS'] = nrows\n",
    "    new_attrs['NCOLS'] = ncols\n",
    "    new_attrs['scale_factor']=1.0\n",
    "    new_attrs['FillValue'] = np.nan\n",
    "    new_attrs['history'] = \"written by the week4 clip_bands notebook\"\n",
    "    value.rio.update_attrs(new_attrs, inplace = True);"
   ]
  },
  {
   "cell_type": "markdown",
   "id": "48181af2",
   "metadata": {},
   "source": [
    "#### check the attributes"
   ]
  },
  {
   "cell_type": "code",
   "execution_count": 16,
   "id": "6bef3d28",
   "metadata": {},
   "outputs": [
    {
     "data": {
      "text/plain": [
       "'written by the week4 clip_bands notebook'"
      ]
     },
     "execution_count": 16,
     "metadata": {},
     "output_type": "execute_result"
    }
   ],
   "source": [
    "value.attrs['history']"
   ]
  },
  {
   "cell_type": "markdown",
   "id": "87537252",
   "metadata": {},
   "source": [
    "### Write out the new geotiffs \n",
    "\n",
    "We'll also add jpg files for browsing"
   ]
  },
  {
   "cell_type": "code",
   "execution_count": 23,
   "id": "57544095-ab67-48fc-974c-a50ba7f890ab",
   "metadata": {},
   "outputs": [
    {
     "data": {
      "text/html": [
       "<div><svg style=\"position: absolute; width: 0; height: 0; overflow: hidden\">\n",
       "<defs>\n",
       "<symbol id=\"icon-database\" viewBox=\"0 0 32 32\">\n",
       "<path d=\"M16 0c-8.837 0-16 2.239-16 5v4c0 2.761 7.163 5 16 5s16-2.239 16-5v-4c0-2.761-7.163-5-16-5z\"></path>\n",
       "<path d=\"M16 17c-8.837 0-16-2.239-16-5v6c0 2.761 7.163 5 16 5s16-2.239 16-5v-6c0 2.761-7.163 5-16 5z\"></path>\n",
       "<path d=\"M16 26c-8.837 0-16-2.239-16-5v6c0 2.761 7.163 5 16 5s16-2.239 16-5v-6c0 2.761-7.163 5-16 5z\"></path>\n",
       "</symbol>\n",
       "<symbol id=\"icon-file-text2\" viewBox=\"0 0 32 32\">\n",
       "<path d=\"M28.681 7.159c-0.694-0.947-1.662-2.053-2.724-3.116s-2.169-2.030-3.116-2.724c-1.612-1.182-2.393-1.319-2.841-1.319h-15.5c-1.378 0-2.5 1.121-2.5 2.5v27c0 1.378 1.122 2.5 2.5 2.5h23c1.378 0 2.5-1.122 2.5-2.5v-19.5c0-0.448-0.137-1.23-1.319-2.841zM24.543 5.457c0.959 0.959 1.712 1.825 2.268 2.543h-4.811v-4.811c0.718 0.556 1.584 1.309 2.543 2.268zM28 29.5c0 0.271-0.229 0.5-0.5 0.5h-23c-0.271 0-0.5-0.229-0.5-0.5v-27c0-0.271 0.229-0.5 0.5-0.5 0 0 15.499-0 15.5 0v7c0 0.552 0.448 1 1 1h7v19.5z\"></path>\n",
       "<path d=\"M23 26h-14c-0.552 0-1-0.448-1-1s0.448-1 1-1h14c0.552 0 1 0.448 1 1s-0.448 1-1 1z\"></path>\n",
       "<path d=\"M23 22h-14c-0.552 0-1-0.448-1-1s0.448-1 1-1h14c0.552 0 1 0.448 1 1s-0.448 1-1 1z\"></path>\n",
       "<path d=\"M23 18h-14c-0.552 0-1-0.448-1-1s0.448-1 1-1h14c0.552 0 1 0.448 1 1s-0.448 1-1 1z\"></path>\n",
       "</symbol>\n",
       "</defs>\n",
       "</svg>\n",
       "<style>/* CSS stylesheet for displaying xarray objects in jupyterlab.\n",
       " *\n",
       " */\n",
       "\n",
       ":root {\n",
       "  --xr-font-color0: var(--jp-content-font-color0, rgba(0, 0, 0, 1));\n",
       "  --xr-font-color2: var(--jp-content-font-color2, rgba(0, 0, 0, 0.54));\n",
       "  --xr-font-color3: var(--jp-content-font-color3, rgba(0, 0, 0, 0.38));\n",
       "  --xr-border-color: var(--jp-border-color2, #e0e0e0);\n",
       "  --xr-disabled-color: var(--jp-layout-color3, #bdbdbd);\n",
       "  --xr-background-color: var(--jp-layout-color0, white);\n",
       "  --xr-background-color-row-even: var(--jp-layout-color1, white);\n",
       "  --xr-background-color-row-odd: var(--jp-layout-color2, #eeeeee);\n",
       "}\n",
       "\n",
       "html[theme=\"dark\"],\n",
       "html[data-theme=\"dark\"],\n",
       "body[data-theme=\"dark\"],\n",
       "body.vscode-dark {\n",
       "  --xr-font-color0: rgba(255, 255, 255, 1);\n",
       "  --xr-font-color2: rgba(255, 255, 255, 0.54);\n",
       "  --xr-font-color3: rgba(255, 255, 255, 0.38);\n",
       "  --xr-border-color: #1f1f1f;\n",
       "  --xr-disabled-color: #515151;\n",
       "  --xr-background-color: #111111;\n",
       "  --xr-background-color-row-even: #111111;\n",
       "  --xr-background-color-row-odd: #313131;\n",
       "}\n",
       "\n",
       ".xr-wrap {\n",
       "  display: block !important;\n",
       "  min-width: 300px;\n",
       "  max-width: 700px;\n",
       "}\n",
       "\n",
       ".xr-text-repr-fallback {\n",
       "  /* fallback to plain text repr when CSS is not injected (untrusted notebook) */\n",
       "  display: none;\n",
       "}\n",
       "\n",
       ".xr-header {\n",
       "  padding-top: 6px;\n",
       "  padding-bottom: 6px;\n",
       "  margin-bottom: 4px;\n",
       "  border-bottom: solid 1px var(--xr-border-color);\n",
       "}\n",
       "\n",
       ".xr-header > div,\n",
       ".xr-header > ul {\n",
       "  display: inline;\n",
       "  margin-top: 0;\n",
       "  margin-bottom: 0;\n",
       "}\n",
       "\n",
       ".xr-obj-type,\n",
       ".xr-array-name {\n",
       "  margin-left: 2px;\n",
       "  margin-right: 10px;\n",
       "}\n",
       "\n",
       ".xr-obj-type {\n",
       "  color: var(--xr-font-color2);\n",
       "}\n",
       "\n",
       ".xr-sections {\n",
       "  padding-left: 0 !important;\n",
       "  display: grid;\n",
       "  grid-template-columns: 150px auto auto 1fr 0 20px 0 20px;\n",
       "}\n",
       "\n",
       ".xr-section-item {\n",
       "  display: contents;\n",
       "}\n",
       "\n",
       ".xr-section-item input {\n",
       "  display: inline-block;\n",
       "  opacity: 0;\n",
       "  height: 0;\n",
       "}\n",
       "\n",
       ".xr-section-item input + label {\n",
       "  color: var(--xr-disabled-color);\n",
       "}\n",
       "\n",
       ".xr-section-item input:enabled + label {\n",
       "  cursor: pointer;\n",
       "  color: var(--xr-font-color2);\n",
       "}\n",
       "\n",
       ".xr-section-item input:focus + label {\n",
       "  border: 2px solid var(--xr-font-color0);\n",
       "}\n",
       "\n",
       ".xr-section-item input:enabled + label:hover {\n",
       "  color: var(--xr-font-color0);\n",
       "}\n",
       "\n",
       ".xr-section-summary {\n",
       "  grid-column: 1;\n",
       "  color: var(--xr-font-color2);\n",
       "  font-weight: 500;\n",
       "}\n",
       "\n",
       ".xr-section-summary > span {\n",
       "  display: inline-block;\n",
       "  padding-left: 0.5em;\n",
       "}\n",
       "\n",
       ".xr-section-summary-in:disabled + label {\n",
       "  color: var(--xr-font-color2);\n",
       "}\n",
       "\n",
       ".xr-section-summary-in + label:before {\n",
       "  display: inline-block;\n",
       "  content: \"►\";\n",
       "  font-size: 11px;\n",
       "  width: 15px;\n",
       "  text-align: center;\n",
       "}\n",
       "\n",
       ".xr-section-summary-in:disabled + label:before {\n",
       "  color: var(--xr-disabled-color);\n",
       "}\n",
       "\n",
       ".xr-section-summary-in:checked + label:before {\n",
       "  content: \"▼\";\n",
       "}\n",
       "\n",
       ".xr-section-summary-in:checked + label > span {\n",
       "  display: none;\n",
       "}\n",
       "\n",
       ".xr-section-summary,\n",
       ".xr-section-inline-details {\n",
       "  padding-top: 4px;\n",
       "  padding-bottom: 4px;\n",
       "}\n",
       "\n",
       ".xr-section-inline-details {\n",
       "  grid-column: 2 / -1;\n",
       "}\n",
       "\n",
       ".xr-section-details {\n",
       "  display: none;\n",
       "  grid-column: 1 / -1;\n",
       "  margin-bottom: 5px;\n",
       "}\n",
       "\n",
       ".xr-section-summary-in:checked ~ .xr-section-details {\n",
       "  display: contents;\n",
       "}\n",
       "\n",
       ".xr-array-wrap {\n",
       "  grid-column: 1 / -1;\n",
       "  display: grid;\n",
       "  grid-template-columns: 20px auto;\n",
       "}\n",
       "\n",
       ".xr-array-wrap > label {\n",
       "  grid-column: 1;\n",
       "  vertical-align: top;\n",
       "}\n",
       "\n",
       ".xr-preview {\n",
       "  color: var(--xr-font-color3);\n",
       "}\n",
       "\n",
       ".xr-array-preview,\n",
       ".xr-array-data {\n",
       "  padding: 0 5px !important;\n",
       "  grid-column: 2;\n",
       "}\n",
       "\n",
       ".xr-array-data,\n",
       ".xr-array-in:checked ~ .xr-array-preview {\n",
       "  display: none;\n",
       "}\n",
       "\n",
       ".xr-array-in:checked ~ .xr-array-data,\n",
       ".xr-array-preview {\n",
       "  display: inline-block;\n",
       "}\n",
       "\n",
       ".xr-dim-list {\n",
       "  display: inline-block !important;\n",
       "  list-style: none;\n",
       "  padding: 0 !important;\n",
       "  margin: 0;\n",
       "}\n",
       "\n",
       ".xr-dim-list li {\n",
       "  display: inline-block;\n",
       "  padding: 0;\n",
       "  margin: 0;\n",
       "}\n",
       "\n",
       ".xr-dim-list:before {\n",
       "  content: \"(\";\n",
       "}\n",
       "\n",
       ".xr-dim-list:after {\n",
       "  content: \")\";\n",
       "}\n",
       "\n",
       ".xr-dim-list li:not(:last-child):after {\n",
       "  content: \",\";\n",
       "  padding-right: 5px;\n",
       "}\n",
       "\n",
       ".xr-has-index {\n",
       "  font-weight: bold;\n",
       "}\n",
       "\n",
       ".xr-var-list,\n",
       ".xr-var-item {\n",
       "  display: contents;\n",
       "}\n",
       "\n",
       ".xr-var-item > div,\n",
       ".xr-var-item label,\n",
       ".xr-var-item > .xr-var-name span {\n",
       "  background-color: var(--xr-background-color-row-even);\n",
       "  margin-bottom: 0;\n",
       "}\n",
       "\n",
       ".xr-var-item > .xr-var-name:hover span {\n",
       "  padding-right: 5px;\n",
       "}\n",
       "\n",
       ".xr-var-list > li:nth-child(odd) > div,\n",
       ".xr-var-list > li:nth-child(odd) > label,\n",
       ".xr-var-list > li:nth-child(odd) > .xr-var-name span {\n",
       "  background-color: var(--xr-background-color-row-odd);\n",
       "}\n",
       "\n",
       ".xr-var-name {\n",
       "  grid-column: 1;\n",
       "}\n",
       "\n",
       ".xr-var-dims {\n",
       "  grid-column: 2;\n",
       "}\n",
       "\n",
       ".xr-var-dtype {\n",
       "  grid-column: 3;\n",
       "  text-align: right;\n",
       "  color: var(--xr-font-color2);\n",
       "}\n",
       "\n",
       ".xr-var-preview {\n",
       "  grid-column: 4;\n",
       "}\n",
       "\n",
       ".xr-index-preview {\n",
       "  grid-column: 2 / 5;\n",
       "  color: var(--xr-font-color2);\n",
       "}\n",
       "\n",
       ".xr-var-name,\n",
       ".xr-var-dims,\n",
       ".xr-var-dtype,\n",
       ".xr-preview,\n",
       ".xr-attrs dt {\n",
       "  white-space: nowrap;\n",
       "  overflow: hidden;\n",
       "  text-overflow: ellipsis;\n",
       "  padding-right: 10px;\n",
       "}\n",
       "\n",
       ".xr-var-name:hover,\n",
       ".xr-var-dims:hover,\n",
       ".xr-var-dtype:hover,\n",
       ".xr-attrs dt:hover {\n",
       "  overflow: visible;\n",
       "  width: auto;\n",
       "  z-index: 1;\n",
       "}\n",
       "\n",
       ".xr-var-attrs,\n",
       ".xr-var-data,\n",
       ".xr-index-data {\n",
       "  display: none;\n",
       "  background-color: var(--xr-background-color) !important;\n",
       "  padding-bottom: 5px !important;\n",
       "}\n",
       "\n",
       ".xr-var-attrs-in:checked ~ .xr-var-attrs,\n",
       ".xr-var-data-in:checked ~ .xr-var-data,\n",
       ".xr-index-data-in:checked ~ .xr-index-data {\n",
       "  display: block;\n",
       "}\n",
       "\n",
       ".xr-var-data > table {\n",
       "  float: right;\n",
       "}\n",
       "\n",
       ".xr-var-name span,\n",
       ".xr-var-data,\n",
       ".xr-index-name div,\n",
       ".xr-index-data,\n",
       ".xr-attrs {\n",
       "  padding-left: 25px !important;\n",
       "}\n",
       "\n",
       ".xr-attrs,\n",
       ".xr-var-attrs,\n",
       ".xr-var-data,\n",
       ".xr-index-data {\n",
       "  grid-column: 1 / -1;\n",
       "}\n",
       "\n",
       "dl.xr-attrs {\n",
       "  padding: 0;\n",
       "  margin: 0;\n",
       "  display: grid;\n",
       "  grid-template-columns: 125px auto;\n",
       "}\n",
       "\n",
       ".xr-attrs dt,\n",
       ".xr-attrs dd {\n",
       "  padding: 0;\n",
       "  margin: 0;\n",
       "  float: left;\n",
       "  padding-right: 10px;\n",
       "  width: auto;\n",
       "}\n",
       "\n",
       ".xr-attrs dt {\n",
       "  font-weight: normal;\n",
       "  grid-column: 1;\n",
       "}\n",
       "\n",
       ".xr-attrs dt:hover span {\n",
       "  display: inline-block;\n",
       "  background: var(--xr-background-color);\n",
       "  padding-right: 10px;\n",
       "}\n",
       "\n",
       ".xr-attrs dd {\n",
       "  grid-column: 2;\n",
       "  white-space: pre-wrap;\n",
       "  word-break: break-all;\n",
       "}\n",
       "\n",
       ".xr-icon-database,\n",
       ".xr-icon-file-text2,\n",
       ".xr-no-icon {\n",
       "  display: inline-block;\n",
       "  vertical-align: middle;\n",
       "  width: 1em;\n",
       "  height: 1.5em !important;\n",
       "  stroke-width: 0;\n",
       "  stroke: currentColor;\n",
       "  fill: currentColor;\n",
       "}\n",
       "</style><pre class='xr-text-repr-fallback'>&lt;xarray.DataArray (band: 1, y: 600, x: 400)&gt; Size: 960kB\n",
       "array([[[0.0101, 0.0105, 0.0112, ..., 0.0526, 0.0375, 0.0529],\n",
       "        [0.0105, 0.0112, 0.0116, ..., 0.0359, 0.0374, 0.0459],\n",
       "        [0.0111, 0.0113, 0.011 , ..., 0.0572, 0.0494, 0.0443],\n",
       "        ...,\n",
       "        [0.0395, 0.037 , 0.0374, ..., 0.0628, 0.0646, 0.0735],\n",
       "        [0.0397, 0.0384, 0.0365, ..., 0.1259, 0.1136, 0.096 ],\n",
       "        [0.0398, 0.0395, 0.0385, ..., 0.2253, 0.2223, 0.1609]]],\n",
       "      shape=(1, 600, 400), dtype=float32)\n",
       "Coordinates:\n",
       "  * band         (band) int64 8B 1\n",
       "  * x            (x) float64 3kB 4.761e+05 4.761e+05 ... 4.881e+05 4.881e+05\n",
       "  * y            (y) float64 5kB 5.465e+06 5.465e+06 ... 5.448e+06 5.447e+06\n",
       "    spatial_ref  int64 8B 0\n",
       "Attributes: (12/37)\n",
       "    ACCODE:                    Lasrc; Lasrc\n",
       "    add_offset:                0.0\n",
       "    arop_ave_xshift(meters):   0, 0\n",
       "    arop_ave_yshift(meters):   0, 0\n",
       "    arop_ncp:                  0, 0\n",
       "    arop_rmse(meters):         0, 0\n",
       "    ...                        ...\n",
       "    ULX:                       476100.0\n",
       "    ULY:                       5465460.0\n",
       "    USGS_SOFTWARE:             LPGS_15.3.1c\n",
       "    AREA_OR_POINT:             Area\n",
       "    FillValue:                 nan\n",
       "    history:                   written by the week4 clip_bands notebook</pre><div class='xr-wrap' style='display:none'><div class='xr-header'><div class='xr-obj-type'>xarray.DataArray</div><div class='xr-array-name'></div><ul class='xr-dim-list'><li><span class='xr-has-index'>band</span>: 1</li><li><span class='xr-has-index'>y</span>: 600</li><li><span class='xr-has-index'>x</span>: 400</li></ul></div><ul class='xr-sections'><li class='xr-section-item'><div class='xr-array-wrap'><input id='section-5b87dcab-e1e4-485b-8e01-a4c3d41bacd2' class='xr-array-in' type='checkbox' checked><label for='section-5b87dcab-e1e4-485b-8e01-a4c3d41bacd2' title='Show/hide data repr'><svg class='icon xr-icon-database'><use xlink:href='#icon-database'></use></svg></label><div class='xr-array-preview xr-preview'><span>0.0101 0.0105 0.0112 0.0115 0.0111 ... 0.1909 0.2253 0.2223 0.1609</span></div><div class='xr-array-data'><pre>array([[[0.0101, 0.0105, 0.0112, ..., 0.0526, 0.0375, 0.0529],\n",
       "        [0.0105, 0.0112, 0.0116, ..., 0.0359, 0.0374, 0.0459],\n",
       "        [0.0111, 0.0113, 0.011 , ..., 0.0572, 0.0494, 0.0443],\n",
       "        ...,\n",
       "        [0.0395, 0.037 , 0.0374, ..., 0.0628, 0.0646, 0.0735],\n",
       "        [0.0397, 0.0384, 0.0365, ..., 0.1259, 0.1136, 0.096 ],\n",
       "        [0.0398, 0.0395, 0.0385, ..., 0.2253, 0.2223, 0.1609]]],\n",
       "      shape=(1, 600, 400), dtype=float32)</pre></div></div></li><li class='xr-section-item'><input id='section-f357a5f1-40ad-4474-b218-748745393ceb' class='xr-section-summary-in' type='checkbox'  checked><label for='section-f357a5f1-40ad-4474-b218-748745393ceb' class='xr-section-summary' >Coordinates: <span>(4)</span></label><div class='xr-section-inline-details'></div><div class='xr-section-details'><ul class='xr-var-list'><li class='xr-var-item'><div class='xr-var-name'><span class='xr-has-index'>band</span></div><div class='xr-var-dims'>(band)</div><div class='xr-var-dtype'>int64</div><div class='xr-var-preview xr-preview'>1</div><input id='attrs-0701fcd7-c1aa-4249-a478-331966d5e57f' class='xr-var-attrs-in' type='checkbox' disabled><label for='attrs-0701fcd7-c1aa-4249-a478-331966d5e57f' title='Show/Hide attributes'><svg class='icon xr-icon-file-text2'><use xlink:href='#icon-file-text2'></use></svg></label><input id='data-bc74375e-30cc-4a0d-bc1d-c80c113ac67d' class='xr-var-data-in' type='checkbox'><label for='data-bc74375e-30cc-4a0d-bc1d-c80c113ac67d' title='Show/Hide data repr'><svg class='icon xr-icon-database'><use xlink:href='#icon-database'></use></svg></label><div class='xr-var-attrs'><dl class='xr-attrs'></dl></div><div class='xr-var-data'><pre>array([1])</pre></div></li><li class='xr-var-item'><div class='xr-var-name'><span class='xr-has-index'>x</span></div><div class='xr-var-dims'>(x)</div><div class='xr-var-dtype'>float64</div><div class='xr-var-preview xr-preview'>4.761e+05 4.761e+05 ... 4.881e+05</div><input id='attrs-236a609c-3246-427d-b8e2-2632c69587c3' class='xr-var-attrs-in' type='checkbox' ><label for='attrs-236a609c-3246-427d-b8e2-2632c69587c3' title='Show/Hide attributes'><svg class='icon xr-icon-file-text2'><use xlink:href='#icon-file-text2'></use></svg></label><input id='data-0ac703d6-e382-4e8d-b367-d97171379bab' class='xr-var-data-in' type='checkbox'><label for='data-0ac703d6-e382-4e8d-b367-d97171379bab' title='Show/Hide data repr'><svg class='icon xr-icon-database'><use xlink:href='#icon-database'></use></svg></label><div class='xr-var-attrs'><dl class='xr-attrs'><dt><span>axis :</span></dt><dd>X</dd><dt><span>long_name :</span></dt><dd>x coordinate of projection</dd><dt><span>standard_name :</span></dt><dd>projection_x_coordinate</dd><dt><span>units :</span></dt><dd>metre</dd></dl></div><div class='xr-var-data'><pre>array([476115., 476145., 476175., ..., 488025., 488055., 488085.], shape=(400,))</pre></div></li><li class='xr-var-item'><div class='xr-var-name'><span class='xr-has-index'>y</span></div><div class='xr-var-dims'>(y)</div><div class='xr-var-dtype'>float64</div><div class='xr-var-preview xr-preview'>5.465e+06 5.465e+06 ... 5.447e+06</div><input id='attrs-53f4e6c0-f83f-4019-af2e-663b14b58e40' class='xr-var-attrs-in' type='checkbox' ><label for='attrs-53f4e6c0-f83f-4019-af2e-663b14b58e40' title='Show/Hide attributes'><svg class='icon xr-icon-file-text2'><use xlink:href='#icon-file-text2'></use></svg></label><input id='data-2d3fd5bf-7f48-4d50-8d44-017320980266' class='xr-var-data-in' type='checkbox'><label for='data-2d3fd5bf-7f48-4d50-8d44-017320980266' title='Show/Hide data repr'><svg class='icon xr-icon-database'><use xlink:href='#icon-database'></use></svg></label><div class='xr-var-attrs'><dl class='xr-attrs'><dt><span>axis :</span></dt><dd>Y</dd><dt><span>long_name :</span></dt><dd>y coordinate of projection</dd><dt><span>standard_name :</span></dt><dd>projection_y_coordinate</dd><dt><span>units :</span></dt><dd>metre</dd></dl></div><div class='xr-var-data'><pre>array([5465445., 5465415., 5465385., ..., 5447535., 5447505., 5447475.],\n",
       "      shape=(600,))</pre></div></li><li class='xr-var-item'><div class='xr-var-name'><span>spatial_ref</span></div><div class='xr-var-dims'>()</div><div class='xr-var-dtype'>int64</div><div class='xr-var-preview xr-preview'>0</div><input id='attrs-b946b5b8-18de-406a-8124-c8bef71cc7a9' class='xr-var-attrs-in' type='checkbox' ><label for='attrs-b946b5b8-18de-406a-8124-c8bef71cc7a9' title='Show/Hide attributes'><svg class='icon xr-icon-file-text2'><use xlink:href='#icon-file-text2'></use></svg></label><input id='data-624ab822-9274-427a-a264-2f92fae5266e' class='xr-var-data-in' type='checkbox'><label for='data-624ab822-9274-427a-a264-2f92fae5266e' title='Show/Hide data repr'><svg class='icon xr-icon-database'><use xlink:href='#icon-database'></use></svg></label><div class='xr-var-attrs'><dl class='xr-attrs'><dt><span>crs_wkt :</span></dt><dd>PROJCS[&quot;WGS 84 / UTM zone 10N&quot;,GEOGCS[&quot;WGS 84&quot;,DATUM[&quot;WGS_1984&quot;,SPHEROID[&quot;WGS 84&quot;,6378137,298.257223563,AUTHORITY[&quot;EPSG&quot;,&quot;7030&quot;]],AUTHORITY[&quot;EPSG&quot;,&quot;6326&quot;]],PRIMEM[&quot;Greenwich&quot;,0,AUTHORITY[&quot;EPSG&quot;,&quot;8901&quot;]],UNIT[&quot;degree&quot;,0.0174532925199433,AUTHORITY[&quot;EPSG&quot;,&quot;9122&quot;]],AUTHORITY[&quot;EPSG&quot;,&quot;4326&quot;]],PROJECTION[&quot;Transverse_Mercator&quot;],PARAMETER[&quot;latitude_of_origin&quot;,0],PARAMETER[&quot;central_meridian&quot;,-123],PARAMETER[&quot;scale_factor&quot;,0.9996],PARAMETER[&quot;false_easting&quot;,500000],PARAMETER[&quot;false_northing&quot;,0],UNIT[&quot;metre&quot;,1,AUTHORITY[&quot;EPSG&quot;,&quot;9001&quot;]],AXIS[&quot;Easting&quot;,EAST],AXIS[&quot;Northing&quot;,NORTH],AUTHORITY[&quot;EPSG&quot;,&quot;32610&quot;]]</dd><dt><span>semi_major_axis :</span></dt><dd>6378137.0</dd><dt><span>semi_minor_axis :</span></dt><dd>6356752.314245179</dd><dt><span>inverse_flattening :</span></dt><dd>298.257223563</dd><dt><span>reference_ellipsoid_name :</span></dt><dd>WGS 84</dd><dt><span>longitude_of_prime_meridian :</span></dt><dd>0.0</dd><dt><span>prime_meridian_name :</span></dt><dd>Greenwich</dd><dt><span>geographic_crs_name :</span></dt><dd>WGS 84</dd><dt><span>horizontal_datum_name :</span></dt><dd>World Geodetic System 1984</dd><dt><span>projected_crs_name :</span></dt><dd>WGS 84 / UTM zone 10N</dd><dt><span>grid_mapping_name :</span></dt><dd>transverse_mercator</dd><dt><span>latitude_of_projection_origin :</span></dt><dd>0.0</dd><dt><span>longitude_of_central_meridian :</span></dt><dd>-123.0</dd><dt><span>false_easting :</span></dt><dd>500000.0</dd><dt><span>false_northing :</span></dt><dd>0.0</dd><dt><span>scale_factor_at_central_meridian :</span></dt><dd>0.9996</dd><dt><span>spatial_ref :</span></dt><dd>PROJCS[&quot;WGS 84 / UTM zone 10N&quot;,GEOGCS[&quot;WGS 84&quot;,DATUM[&quot;WGS_1984&quot;,SPHEROID[&quot;WGS 84&quot;,6378137,298.257223563,AUTHORITY[&quot;EPSG&quot;,&quot;7030&quot;]],AUTHORITY[&quot;EPSG&quot;,&quot;6326&quot;]],PRIMEM[&quot;Greenwich&quot;,0,AUTHORITY[&quot;EPSG&quot;,&quot;8901&quot;]],UNIT[&quot;degree&quot;,0.0174532925199433,AUTHORITY[&quot;EPSG&quot;,&quot;9122&quot;]],AUTHORITY[&quot;EPSG&quot;,&quot;4326&quot;]],PROJECTION[&quot;Transverse_Mercator&quot;],PARAMETER[&quot;latitude_of_origin&quot;,0],PARAMETER[&quot;central_meridian&quot;,-123],PARAMETER[&quot;scale_factor&quot;,0.9996],PARAMETER[&quot;false_easting&quot;,500000],PARAMETER[&quot;false_northing&quot;,0],UNIT[&quot;metre&quot;,1,AUTHORITY[&quot;EPSG&quot;,&quot;9001&quot;]],AXIS[&quot;Easting&quot;,EAST],AXIS[&quot;Northing&quot;,NORTH],AUTHORITY[&quot;EPSG&quot;,&quot;32610&quot;]]</dd><dt><span>GeoTransform :</span></dt><dd>476100.0 30.0 0.0 5465460.0 0.0 -30.0</dd></dl></div><div class='xr-var-data'><pre>array(0)</pre></div></li></ul></div></li><li class='xr-section-item'><input id='section-ba923616-2cc3-4cbf-9fa0-b85d2e86bd27' class='xr-section-summary-in' type='checkbox'  ><label for='section-ba923616-2cc3-4cbf-9fa0-b85d2e86bd27' class='xr-section-summary' >Indexes: <span>(3)</span></label><div class='xr-section-inline-details'></div><div class='xr-section-details'><ul class='xr-var-list'><li class='xr-var-item'><div class='xr-index-name'><div>band</div></div><div class='xr-index-preview'>PandasIndex</div><input type='checkbox' disabled/><label></label><input id='index-efc173c9-94fb-4b0d-b3c1-eb616b42c40e' class='xr-index-data-in' type='checkbox'/><label for='index-efc173c9-94fb-4b0d-b3c1-eb616b42c40e' title='Show/Hide index repr'><svg class='icon xr-icon-database'><use xlink:href='#icon-database'></use></svg></label><div class='xr-index-data'><pre>PandasIndex(Index([1], dtype=&#x27;int64&#x27;, name=&#x27;band&#x27;))</pre></div></li><li class='xr-var-item'><div class='xr-index-name'><div>x</div></div><div class='xr-index-preview'>PandasIndex</div><input type='checkbox' disabled/><label></label><input id='index-be3e2145-5904-4fc2-8e76-6857d932f629' class='xr-index-data-in' type='checkbox'/><label for='index-be3e2145-5904-4fc2-8e76-6857d932f629' title='Show/Hide index repr'><svg class='icon xr-icon-database'><use xlink:href='#icon-database'></use></svg></label><div class='xr-index-data'><pre>PandasIndex(Index([476115.0, 476145.0, 476175.0, 476205.0, 476235.0, 476265.0, 476295.0,\n",
       "       476325.0, 476355.0, 476385.0,\n",
       "       ...\n",
       "       487815.0, 487845.0, 487875.0, 487905.0, 487935.0, 487965.0, 487995.0,\n",
       "       488025.0, 488055.0, 488085.0],\n",
       "      dtype=&#x27;float64&#x27;, name=&#x27;x&#x27;, length=400))</pre></div></li><li class='xr-var-item'><div class='xr-index-name'><div>y</div></div><div class='xr-index-preview'>PandasIndex</div><input type='checkbox' disabled/><label></label><input id='index-dc6f9f85-687d-463f-9d1c-f1d1128e4745' class='xr-index-data-in' type='checkbox'/><label for='index-dc6f9f85-687d-463f-9d1c-f1d1128e4745' title='Show/Hide index repr'><svg class='icon xr-icon-database'><use xlink:href='#icon-database'></use></svg></label><div class='xr-index-data'><pre>PandasIndex(Index([5465445.0, 5465415.0, 5465385.0, 5465355.0, 5465325.0, 5465295.0,\n",
       "       5465265.0, 5465235.0, 5465205.0, 5465175.0,\n",
       "       ...\n",
       "       5447745.0, 5447715.0, 5447685.0, 5447655.0, 5447625.0, 5447595.0,\n",
       "       5447565.0, 5447535.0, 5447505.0, 5447475.0],\n",
       "      dtype=&#x27;float64&#x27;, name=&#x27;y&#x27;, length=600))</pre></div></li></ul></div></li><li class='xr-section-item'><input id='section-16b0dcea-8f93-4129-823b-bb96ef309c85' class='xr-section-summary-in' type='checkbox'  ><label for='section-16b0dcea-8f93-4129-823b-bb96ef309c85' class='xr-section-summary' >Attributes: <span>(37)</span></label><div class='xr-section-inline-details'></div><div class='xr-section-details'><dl class='xr-attrs'><dt><span>ACCODE :</span></dt><dd>Lasrc; Lasrc</dd><dt><span>add_offset :</span></dt><dd>0.0</dd><dt><span>arop_ave_xshift(meters) :</span></dt><dd>0, 0</dd><dt><span>arop_ave_yshift(meters) :</span></dt><dd>0, 0</dd><dt><span>arop_ncp :</span></dt><dd>0, 0</dd><dt><span>arop_rmse(meters) :</span></dt><dd>0, 0</dd><dt><span>arop_s2_refimg :</span></dt><dd>NONE</dd><dt><span>cloud_coverage :</span></dt><dd>4</dd><dt><span>HLS_PROCESSING_TIME :</span></dt><dd>2022-03-05T21:45:14Z</dd><dt><span>HORIZONTAL_CS_NAME :</span></dt><dd>UTM, WGS84, UTM ZONE 10; UTM, WGS84, UTM ZONE 10</dd><dt><span>L1_PROCESSING_TIME :</span></dt><dd>2020-09-09T04:39:55Z; 2020-09-09T04:39:25Z</dd><dt><span>LANDSAT_PRODUCT_ID :</span></dt><dd>LC08_L1TP_047025_20150614_20200909_02_T1; LC08_L1TP_047026_20150614_20200909_02_T1</dd><dt><span>LANDSAT_SCENE_ID :</span></dt><dd>LC80470252015165LGN02; LC80470262015165LGN02</dd><dt><span>long_name :</span></dt><dd>Blue</dd><dt><span>MEAN_SUN_AZIMUTH_ANGLE :</span></dt><dd>144.194636459219</dd><dt><span>MEAN_SUN_ZENITH_ANGLE :</span></dt><dd>29.6215707600637</dd><dt><span>MEAN_VIEW_AZIMUTH_ANGLE :</span></dt><dd>108.351563730551</dd><dt><span>MEAN_VIEW_ZENITH_ANGLE :</span></dt><dd>4.81243847783454</dd><dt><span>NBAR_SOLAR_ZENITH :</span></dt><dd>28.5475827060758</dd><dt><span>NCOLS :</span></dt><dd>400</dd><dt><span>NROWS :</span></dt><dd>600</dd><dt><span>OVR_RESAMPLING_ALG :</span></dt><dd>NEAREST</dd><dt><span>PROCESSING_LEVEL :</span></dt><dd>L1TP; L1TP</dd><dt><span>scale_factor :</span></dt><dd>1.0</dd><dt><span>SENSING_TIME :</span></dt><dd>2015-06-14T19:00:19.1429430Z; 2015-06-14T19:00:43.0255080Z</dd><dt><span>SENSOR :</span></dt><dd>OLI_TIRS; OLI_TIRS</dd><dt><span>SENTINEL2_TILEID :</span></dt><dd>10UDV</dd><dt><span>spatial_coverage :</span></dt><dd>77</dd><dt><span>SPATIAL_RESOLUTION :</span></dt><dd>30</dd><dt><span>TIRS_SSM_MODEL :</span></dt><dd>ACTUAL; ACTUAL</dd><dt><span>TIRS_SSM_POSITION_STATUS :</span></dt><dd>NOMINAL; NOMINAL</dd><dt><span>ULX :</span></dt><dd>476100.0</dd><dt><span>ULY :</span></dt><dd>5465460.0</dd><dt><span>USGS_SOFTWARE :</span></dt><dd>LPGS_15.3.1c</dd><dt><span>AREA_OR_POINT :</span></dt><dd>Area</dd><dt><span>FillValue :</span></dt><dd>nan</dd><dt><span>history :</span></dt><dd>written by the week4 clip_bands notebook</dd></dl></div></li></ul></div></div>"
      ],
      "text/plain": [
       "<xarray.DataArray (band: 1, y: 600, x: 400)> Size: 960kB\n",
       "array([[[0.0101, 0.0105, 0.0112, ..., 0.0526, 0.0375, 0.0529],\n",
       "        [0.0105, 0.0112, 0.0116, ..., 0.0359, 0.0374, 0.0459],\n",
       "        [0.0111, 0.0113, 0.011 , ..., 0.0572, 0.0494, 0.0443],\n",
       "        ...,\n",
       "        [0.0395, 0.037 , 0.0374, ..., 0.0628, 0.0646, 0.0735],\n",
       "        [0.0397, 0.0384, 0.0365, ..., 0.1259, 0.1136, 0.096 ],\n",
       "        [0.0398, 0.0395, 0.0385, ..., 0.2253, 0.2223, 0.1609]]],\n",
       "      shape=(1, 600, 400), dtype=float32)\n",
       "Coordinates:\n",
       "  * band         (band) int64 8B 1\n",
       "  * x            (x) float64 3kB 4.761e+05 4.761e+05 ... 4.881e+05 4.881e+05\n",
       "  * y            (y) float64 5kB 5.465e+06 5.465e+06 ... 5.448e+06 5.447e+06\n",
       "    spatial_ref  int64 8B 0\n",
       "Attributes: (12/37)\n",
       "    ACCODE:                    Lasrc; Lasrc\n",
       "    add_offset:                0.0\n",
       "    arop_ave_xshift(meters):   0, 0\n",
       "    arop_ave_yshift(meters):   0, 0\n",
       "    arop_ncp:                  0, 0\n",
       "    arop_rmse(meters):         0, 0\n",
       "    ...                        ...\n",
       "    ULX:                       476100.0\n",
       "    ULY:                       5465460.0\n",
       "    USGS_SOFTWARE:             LPGS_15.3.1c\n",
       "    AREA_OR_POINT:             Area\n",
       "    FillValue:                 nan\n",
       "    history:                   written by the week4 clip_bands notebook"
      ]
     },
     "execution_count": 23,
     "metadata": {},
     "output_type": "execute_result"
    }
   ],
   "source": [
    "band_dict['Blue']"
   ]
  },
  {
   "cell_type": "code",
   "execution_count": 24,
   "id": "4f356891",
   "metadata": {},
   "outputs": [],
   "source": [
    "for key, value in band_dict.items():\n",
    "    band_name = value.long_name\n",
    "    tif_filename = data_dir / 'vancouver' / f\"week4_clipped_{band_name}.tif\"\n",
    "    #\n",
    "    # remove the file if it already exists\n",
    "    #\n",
    "    if tif_filename.exists():\n",
    "        tif_filename.unlink()\n",
    "    value.rio.to_raster(tif_filename,driver=\"GTiff\")"
   ]
  },
  {
   "cell_type": "markdown",
   "id": "62c98624",
   "metadata": {},
   "source": [
    "### read one back in to check"
   ]
  },
  {
   "cell_type": "code",
   "execution_count": 22,
   "id": "01d269a4-5b14-4f5b-85fc-e2c58f3c791a",
   "metadata": {},
   "outputs": [
    {
     "data": {
      "text/plain": [
       "(array([2.39994e+05, 0.00000e+00, 0.00000e+00, 0.00000e+00, 0.00000e+00,\n",
       "        0.00000e+00, 0.00000e+00, 0.00000e+00, 0.00000e+00, 6.00000e+00]),\n",
       " array([0.        , 0.1       , 0.2       , 0.30000001, 0.40000001,\n",
       "        0.5       , 0.60000002, 0.69999999, 0.80000001, 0.90000004,\n",
       "        1.        ]),\n",
       " <BarContainer object of 10 artists>)"
      ]
     },
     "execution_count": 22,
     "metadata": {},
     "output_type": "execute_result"
    },
    {
     "data": {
      "image/png": "[encoded data removed]",
      "text/plain": [
       "<Figure size 640x480 with 1 Axes>"
      ]
     },
     "metadata": {},
     "output_type": "display_data"
    }
   ],
   "source": [
    "small_band.plot.hist()"
   ]
  },
  {
   "cell_type": "code",
   "execution_count": 27,
   "id": "c444fe26",
   "metadata": {},
   "outputs": [
    {
     "name": "stdout",
     "output_type": "stream",
     "text": [
      "tif_filename=PosixPath('/Users/phil/repos/a301/satdata/landsat/vancouver/week4_clipped_TIRS1.tif')\n"
     ]
    },
    {
     "data": {
      "image/png": "[encoded data removed]",
      "text/plain": [
       "<Figure size 600x600 with 2 Axes>"
      ]
     },
     "metadata": {},
     "output_type": "display_data"
    }
   ],
   "source": [
    "tif_filename = list(data_dir.glob(\"**/*week4*TIRS1.tif\"))[0]\n",
    "print(f\"{tif_filename=}\")\n",
    "has_file = tif_filename.exists()\n",
    "if not has_file:\n",
    "    raise IOError(f\"can't find {filename}, something went wrong above\") \n",
    "small_band = rioxarray.open_rasterio(tif_filename,masked=True)\n",
    "band_name = small_band.long_name\n",
    "fig, ax = plt.subplots(1,1, figsize=(6,6))\n",
    "small_band.plot(ax=ax)\n",
    "ax.set_title(f\"Landsat band {band_name}\");"
   ]
  },
  {
   "cell_type": "markdown",
   "id": "b5a27079",
   "metadata": {},
   "source": [
    "#### note that we now have the correct epsg code\n",
    "\n",
    "Because we used the pyproj `good_crs` in our raster write we've fixed the missing epsg code problem."
   ]
  },
  {
   "cell_type": "code",
   "execution_count": 20,
   "id": "387a224c",
   "metadata": {},
   "outputs": [
    {
     "data": {
      "text/plain": [
       "32610"
      ]
     },
     "execution_count": 20,
     "metadata": {},
     "output_type": "execute_result"
    }
   ],
   "source": [
    "small_band.rio.crs.to_epsg()"
   ]
  }
 ],
 "metadata": {
  "jupytext": {
   "formats": "md:myst,ipynb",
   "notebook_metadata_filter": "all,-language_info,-toc,-latex_envs"
  },
  "kernelspec": {
   "display_name": "Python 3 (ipykernel)",
   "language": "python",
   "name": "python3"
  },
  "language_info": {
   "codemirror_mode": {
    "name": "ipython",
    "version": 3
   },
   "file_extension": ".py",
   "mimetype": "text/x-python",
   "name": "python",
   "nbconvert_exporter": "python",
   "pygments_lexer": "ipython3",
   "version": "3.13.1"
  }
 },
 "nbformat": 4,
 "nbformat_minor": 5
}
