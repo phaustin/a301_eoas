{
  "nbformat": 4,
  "nbformat_minor": 0,
  "metadata": {
    "colab": {
      "provenance": [],
      "include_colab_link": true
    },
    "kernelspec": {
      "name": "python3",
      "display_name": "Python 3"
    },
    "widgets": {
      "application/vnd.jupyter.widget-state+json": {
        "dd76e913a6a543958194083388d4076f": {
          "model_module": "jupyter-leaflet",
          "model_name": "LeafletMapModel",
