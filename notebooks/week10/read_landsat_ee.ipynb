{
  "nbformat": 4,
  "nbformat_minor": 0,
  "metadata": {
    "colab": {
      "provenance": [],
      "include_colab_link": true
    },
    "kernelspec": {
      "name": "python3",
      "display_name": "Python 3"
    },
    "widgets": {
      "application/vnd.jupyter.widget-state+json": {
        "14e13ede87a245d69a52495764600020": {
          "model_module": "jupyter-leaflet",
          "model_name": "LeafletMapModel",
          "model_module_version": "^0.19",
          "state": {
            "_dom_classes": [],
            "_model_module": "jupyter-leaflet",
            "_model_module_version": "^0.19",
            "_model_name": "LeafletMapModel",
            "_view_count": null,
            "_view_module": "jupyter-leaflet",
            "_view_module_version": "^0.19",
            "_view_name": "LeafletMapView",
            "bottom": 45149,
            "bounce_at_zoom_limits": true,
            "box_zoom": true,
            "center": [
              49.29468040012548,
              -122.69943237304689
            ],
            "close_popup_on_click": true,
            "controls": [
              "IPY_MODEL_35f4e08b71a9403d8ad46c0d9047a3ce",
              "IPY_MODEL_0f928488bdee4c62b9f0870ff1655966",
              "IPY_MODEL_d7653cd5b21f4eb08fa2ff6db5d05fa1",
              "IPY_MODEL_a2e3b3b93ebb4cd78469b619c92622ba",
              "IPY_MODEL_ec615ee0ae3345c2963f5fa3af99b0f9",
              "IPY_MODEL_aaea5f6a7f324275b8296041cb77f1f3"
            ],
            "crs": {
              "name": "EPSG3857",
              "custom": false
            },
            "default_style": "IPY_MODEL_867409a1485947afa26452de6939cc62",
            "double_click_zoom": true,
            "dragging": true,
            "dragging_style": "IPY_MODEL_5f353221490745c2906132ace7a45f69",
            "east": -120.48431396484376,
            "fullscreen": false,
            "inertia": true,
            "inertia_deceleration": 3000,
            "inertia_max_speed": 1500,
            "interpolation": "bilinear",
            "keyboard": true,
            "keyboard_pan_offset": 80,
            "keyboard_zoom_offset": 1,
            "layers": [
              "IPY_MODEL_c726e347a05c45a0bee296dd5e226a01",
              "IPY_MODEL_fa94bf38a7c14e7581c9ffe048aaf82a"
            ],
            "layout": "IPY_MODEL_cad83ff2c2514191b745f8380dd77455",
            "left": 20057,
            "max_zoom": null,
            "min_zoom": null,
            "modisdate": "2025-03-15",
            "north": 49.829124584847875,
            "options": [
              "bounce_at_zoom_limits",
              "box_zoom",
              "center",
              "close_popup_on_click",
              "double_click_zoom",
              "dragging",
              "fullscreen",
              "inertia",
              "inertia_deceleration",
              "inertia_max_speed",
              "interpolation",
              "keyboard",
              "keyboard_pan_offset",
              "keyboard_zoom_offset",
              "max_zoom",
              "min_zoom",
              "prefer_canvas",
              "scroll_wheel_zoom",
              "tap",
              "tap_tolerance",
              "touch_zoom",
              "world_copy_jump",
              "zoom",
              "zoom_animation_threshold",
              "zoom_delta",
              "zoom_snap"
            ],
            "panes": {},
            "prefer_canvas": false,
            "right": 21669,
            "scroll_wheel_zoom": true,
            "south": 48.75437800586312,
            "style": "IPY_MODEL_867409a1485947afa26452de6939cc62",
            "tap": true,
            "tap_tolerance": 15,
            "top": 44549,
            "touch_zoom": true,
            "west": -124.91180419921876,
            "window_url": "https://gcxoqgbixlq-496ff2e9c6d22116-0-colab.googleusercontent.com/outputframe.html?vrz=colab_20250313-060108_RC00_736449559",
            "world_copy_jump": false,
            "zoom": 9,
            "zoom_animation_threshold": 4,
            "zoom_delta": 1,
            "zoom_snap": 1
          }
        },
        "35f4e08b71a9403d8ad46c0d9047a3ce": {
          "model_module": "jupyter-leaflet",
          "model_name": "LeafletZoomControlModel",
          "model_module_version": "^0.19",
          "state": {
            "_model_module": "jupyter-leaflet",
            "_model_module_version": "^0.19",
            "_model_name": "LeafletZoomControlModel",
            "_view_count": null,
            "_view_module": "jupyter-leaflet",
            "_view_module_version": "^0.19",
            "_view_name": "LeafletZoomControlView",
            "options": [
              "position",
              "zoom_in_text",
              "zoom_in_title",
              "zoom_out_text",
              "zoom_out_title"
            ],
            "position": "topleft",
            "zoom_in_text": "+",
            "zoom_in_title": "Zoom in",
            "zoom_out_text": "-",
            "zoom_out_title": "Zoom out"
          }
        },
        "0f928488bdee4c62b9f0870ff1655966": {
          "model_module": "jupyter-leaflet",
          "model_name": "LeafletFullScreenControlModel",
          "model_module_version": "^0.19",
          "state": {
            "_model_module": "jupyter-leaflet",
            "_model_module_version": "^0.19",
            "_model_name": "LeafletFullScreenControlModel",
            "_view_count": null,
            "_view_module": "jupyter-leaflet",
            "_view_module_version": "^0.19",
            "_view_name": "LeafletFullScreenControlView",
            "options": [
              "position"
            ],
            "position": "topleft"
          }
        },
        "d7653cd5b21f4eb08fa2ff6db5d05fa1": {
          "model_module": "jupyter-leaflet",
          "model_name": "LeafletDrawControlModel",
          "model_module_version": "^0.19",
          "state": {
            "_model_module": "jupyter-leaflet",
            "_model_module_version": "^0.19",
            "_model_name": "LeafletDrawControlModel",
            "_view_count": null,
            "_view_module": "jupyter-leaflet",
            "_view_module_version": "^0.19",
            "_view_name": "LeafletDrawControlView",
            "circle": {},
            "circlemarker": {},
            "data": [],
            "edit": true,
            "marker": {
              "shapeOptions": {
                "color": "#3388ff"
              }
            },
            "options": [
              "position"
            ],
            "polygon": {
              "shapeOptions": {}
            },
            "polyline": {
              "shapeOptions": {}
            },
            "position": "topleft",
            "rectangle": {
              "shapeOptions": {
                "color": "#3388ff"
              }
            },
            "remove": true
          }
        },
        "a2e3b3b93ebb4cd78469b619c92622ba": {
          "model_module": "jupyter-leaflet",
          "model_name": "LeafletScaleControlModel",
          "model_module_version": "^0.19",
          "state": {
            "_model_module": "jupyter-leaflet",
            "_model_module_version": "^0.19",
            "_model_name": "LeafletScaleControlModel",
            "_view_count": null,
            "_view_module": "jupyter-leaflet",
            "_view_module_version": "^0.19",
            "_view_name": "LeafletScaleControlView",
            "imperial": true,
            "max_width": 100,
            "metric": true,
            "options": [
              "imperial",
              "max_width",
              "metric",
              "position",
              "update_when_idle"
            ],
            "position": "bottomleft",
            "update_when_idle": false
          }
        },
        "ec615ee0ae3345c2963f5fa3af99b0f9": {
          "model_module": "jupyter-leaflet",
          "model_name": "LeafletWidgetControlModel",
          "model_module_version": "^0.19",
          "state": {
            "_model_module": "jupyter-leaflet",
            "_model_module_version": "^0.19",
            "_model_name": "LeafletWidgetControlModel",
            "_view_count": null,
            "_view_module": "jupyter-leaflet",
            "_view_module_version": "^0.19",
            "_view_name": "LeafletWidgetControlView",
            "max_height": null,
            "max_width": null,
            "min_height": null,
            "min_width": null,
            "options": [
              "position",
              "transparent_bg"
            ],
            "position": "topright",
            "transparent_bg": false,
            "widget": "IPY_MODEL_9e5b5b5a5da64e7ea5019dfed3872a2b"
          }
        },
        "aaea5f6a7f324275b8296041cb77f1f3": {
          "model_module": "jupyter-leaflet",
          "model_name": "LeafletAttributionControlModel",
          "model_module_version": "^0.19",
          "state": {
            "_model_module": "jupyter-leaflet",
            "_model_module_version": "^0.19",
            "_model_name": "LeafletAttributionControlModel",
            "_view_count": null,
            "_view_module": "jupyter-leaflet",
            "_view_module_version": "^0.19",
            "_view_name": "LeafletAttributionControlView",
            "options": [
              "position",
              "prefix"
            ],
            "position": "bottomright",
            "prefix": "ipyleaflet"
          }
        },
        "867409a1485947afa26452de6939cc62": {
          "model_module": "jupyter-leaflet",
          "model_name": "LeafletMapStyleModel",
          "model_module_version": "^0.19",
          "state": {
            "_model_module": "jupyter-leaflet",
            "_model_module_version": "^0.19",
            "_model_name": "LeafletMapStyleModel",
            "_view_count": null,
            "_view_module": "@jupyter-widgets/base",
            "_view_module_version": "1.2.0",
            "_view_name": "StyleView",
            "cursor": "grab"
          }
        },
        "5f353221490745c2906132ace7a45f69": {
          "model_module": "jupyter-leaflet",
          "model_name": "LeafletMapStyleModel",
          "model_module_version": "^0.19",
          "state": {
            "_model_module": "jupyter-leaflet",
            "_model_module_version": "^0.19",
            "_model_name": "LeafletMapStyleModel",
            "_view_count": null,
            "_view_module": "@jupyter-widgets/base",
            "_view_module_version": "1.2.0",
            "_view_name": "StyleView",
            "cursor": "move"
          }
        },
        "c726e347a05c45a0bee296dd5e226a01": {
          "model_module": "jupyter-leaflet",
          "model_name": "LeafletTileLayerModel",
          "model_module_version": "^0.19",
          "state": {
            "_model_module": "jupyter-leaflet",
            "_model_module_version": "^0.19",
            "_model_name": "LeafletTileLayerModel",
            "_view_count": null,
            "_view_module": "jupyter-leaflet",
            "_view_module_version": "^0.19",
            "_view_name": "LeafletTileLayerView",
            "attribution": "&copy; <a href=\"https://www.openstreetmap.org/copyright\">OpenStreetMap</a> contributors",
            "base": true,
            "bottom": true,
            "bounds": null,
            "detect_retina": false,
            "loading": false,
            "max_native_zoom": null,
            "max_zoom": 30,
            "min_native_zoom": null,
            "min_zoom": 1,
            "name": "OpenStreetMap.Mapnik",
            "no_wrap": false,
            "opacity": 1,
            "options": [
              "attribution",
              "bounds",
              "detect_retina",
              "max_native_zoom",
              "max_zoom",
              "min_native_zoom",
              "min_zoom",
              "no_wrap",
              "tile_size",
              "tms",
              "zoom_offset"
            ],
            "pane": "",
            "popup": null,
            "popup_max_height": null,
            "popup_max_width": 300,
            "popup_min_width": 50,
            "show_loading": false,
            "subitems": [],
            "tile_size": 256,
            "tms": false,
            "url": "https://tile.openstreetmap.org/{z}/{x}/{y}.png",
            "visible": false,
            "zoom_offset": 0
          }
        },
        "fa94bf38a7c14e7581c9ffe048aaf82a": {
          "model_module": "jupyter-leaflet",
          "model_name": "LeafletTileLayerModel",
          "model_module_version": "^0.19",
          "state": {
            "_model_module": "jupyter-leaflet",
            "_model_module_version": "^0.19",
            "_model_name": "LeafletTileLayerModel",
            "_view_count": null,
            "_view_module": "jupyter-leaflet",
            "_view_module_version": "^0.19",
            "_view_name": "LeafletTileLayerView",
            "attribution": "Google Earth Engine",
            "base": false,
            "bottom": true,
            "bounds": null,
            "detect_retina": false,
            "loading": false,
            "max_native_zoom": null,
            "max_zoom": 24,
            "min_native_zoom": null,
            "min_zoom": 0,
            "name": "false color composite",
            "no_wrap": false,
            "opacity": 1,
            "options": [
              "attribution",
              "bounds",
              "detect_retina",
              "max_native_zoom",
              "max_zoom",
              "min_native_zoom",
              "min_zoom",
              "no_wrap",
              "tile_size",
              "tms",
              "zoom_offset"
            ],
            "pane": "",
            "popup": null,
            "popup_max_height": null,
            "popup_max_width": 300,
            "popup_min_width": 50,
            "show_loading": false,
            "subitems": [],
            "tile_size": 256,
            "tms": false,
            "url": "https://earthengine.googleapis.com/v1/projects/ee-a301/maps/0c8ddf0ae271f383053d80c5013d32bc-9c4dc63199679961416fd4e805b5df0e/tiles/{z}/{x}/{y}",
            "visible": true,
            "zoom_offset": 0
          }
        },
        "cad83ff2c2514191b745f8380dd77455": {
          "model_module": "@jupyter-widgets/base",
          "model_name": "LayoutModel",
          "model_module_version": "1.2.0",
          "state": {
            "_model_module": "@jupyter-widgets/base",
            "_model_module_version": "1.2.0",
            "_model_name": "LayoutModel",
            "_view_count": null,
            "_view_module": "@jupyter-widgets/base",
            "_view_module_version": "1.2.0",
            "_view_name": "LayoutView",
            "align_content": null,
            "align_items": null,
            "align_self": null,
            "border": null,
            "bottom": null,
            "display": null,
            "flex": null,
            "flex_flow": null,
            "grid_area": null,
            "grid_auto_columns": null,
            "grid_auto_flow": null,
            "grid_auto_rows": null,
            "grid_column": null,
            "grid_gap": null,
            "grid_row": null,
            "grid_template_areas": null,
            "grid_template_columns": null,
            "grid_template_rows": null,
            "height": "600px",
            "justify_content": null,
            "justify_items": null,
            "left": null,
            "margin": null,
            "max_height": null,
            "max_width": null,
            "min_height": null,
            "min_width": null,
            "object_fit": null,
            "object_position": null,
            "order": null,
            "overflow": null,
            "overflow_x": null,
            "overflow_y": null,
            "padding": null,
            "right": null,
            "top": null,
            "visibility": null,
            "width": null
          }
        },
        "a727634f4b0345cd82f3de2e8b1af156": {
          "model_module": "jupyter-leaflet",
          "model_name": "LeafletMapStyleModel",
          "model_module_version": "^0.19",
          "state": {
            "_model_module": "jupyter-leaflet",
            "_model_module_version": "^0.19",
            "_model_name": "LeafletMapStyleModel",
            "_view_count": null,
            "_view_module": "@jupyter-widgets/base",
            "_view_module_version": "1.2.0",
            "_view_name": "StyleView",
            "cursor": "grab"
          }
        },
        "9e5b5b5a5da64e7ea5019dfed3872a2b": {
          "model_module": "@jupyter-widgets/controls",
          "model_name": "VBoxModel",
          "model_module_version": "1.5.0",
          "state": {
            "_dom_classes": [
              "geemap-colab"
            ],
            "_model_module": "@jupyter-widgets/controls",
            "_model_module_version": "1.5.0",
            "_model_name": "VBoxModel",
            "_view_count": null,
            "_view_module": "@jupyter-widgets/controls",
            "_view_module_version": "1.5.0",
            "_view_name": "VBoxView",
            "box_style": "",
            "children": [
              "IPY_MODEL_cffb61091c194acc97989b603dcea673",
              "IPY_MODEL_b87ef41268034d0590a8e939aa78d1ab"
            ],
            "layout": "IPY_MODEL_673622fcc8cd485eb45473e966bbc1fc"
          }
        },
        "cffb61091c194acc97989b603dcea673": {
          "model_module": "@jupyter-widgets/controls",
          "model_name": "HBoxModel",
          "model_module_version": "1.5.0",
          "state": {
            "_dom_classes": [],
            "_model_module": "@jupyter-widgets/controls",
            "_model_module_version": "1.5.0",
            "_model_name": "HBoxModel",
            "_view_count": null,
            "_view_module": "@jupyter-widgets/controls",
            "_view_module_version": "1.5.0",
            "_view_name": "HBoxView",
            "box_style": "",
            "children": [
              "IPY_MODEL_73e0396283d442df867096d82b829c82",
              "IPY_MODEL_624b9b8727a346bbb7610020567eb0a1"
            ],
            "layout": "IPY_MODEL_b58465bfee6a4c31830dcc51e32166f7"
          }
        },
        "b87ef41268034d0590a8e939aa78d1ab": {
          "model_module": "@jupyter-widgets/controls",
          "model_name": "VBoxModel",
          "model_module_version": "1.5.0",
          "state": {
            "_dom_classes": [],
            "_model_module": "@jupyter-widgets/controls",
            "_model_module_version": "1.5.0",
            "_model_name": "VBoxModel",
            "_view_count": null,
            "_view_module": "@jupyter-widgets/controls",
            "_view_module_version": "1.5.0",
            "_view_name": "VBoxView",
            "box_style": "",
            "children": [
              "IPY_MODEL_e48decab1ba34773adbee258aa52b04f"
            ],
            "layout": "IPY_MODEL_4a268d4f007b4b60b8e039e10f7cb8d9"
          }
        },
        "673622fcc8cd485eb45473e966bbc1fc": {
          "model_module": "@jupyter-widgets/base",
          "model_name": "LayoutModel",
          "model_module_version": "1.2.0",
          "state": {
            "_model_module": "@jupyter-widgets/base",
            "_model_module_version": "1.2.0",
            "_model_name": "LayoutModel",
            "_view_count": null,
            "_view_module": "@jupyter-widgets/base",
            "_view_module_version": "1.2.0",
            "_view_name": "LayoutView",
            "align_content": null,
            "align_items": null,
            "align_self": null,
            "border": null,
            "bottom": null,
            "display": null,
            "flex": null,
            "flex_flow": null,
            "grid_area": null,
            "grid_auto_columns": null,
            "grid_auto_flow": null,
            "grid_auto_rows": null,
            "grid_column": null,
            "grid_gap": null,
            "grid_row": null,
            "grid_template_areas": null,
            "grid_template_columns": null,
            "grid_template_rows": null,
            "height": null,
            "justify_content": null,
            "justify_items": null,
            "left": null,
            "margin": null,
            "max_height": null,
            "max_width": null,
            "min_height": null,
            "min_width": null,
            "object_fit": null,
            "object_position": null,
            "order": null,
            "overflow": null,
            "overflow_x": null,
            "overflow_y": null,
            "padding": null,
            "right": null,
            "top": null,
            "visibility": null,
            "width": null
          }
        },
        "73e0396283d442df867096d82b829c82": {
          "model_module": "@jupyter-widgets/controls",
          "model_name": "ToggleButtonModel",
          "model_module_version": "1.5.0",
          "state": {
            "_dom_classes": [],
            "_model_module": "@jupyter-widgets/controls",
            "_model_module_version": "1.5.0",
            "_model_name": "ToggleButtonModel",
            "_view_count": null,
            "_view_module": "@jupyter-widgets/controls",
            "_view_module_version": "1.5.0",
            "_view_name": "ToggleButtonView",
            "button_style": "",
            "description": "",
            "description_tooltip": null,
            "disabled": false,
            "icon": "server",
            "layout": "IPY_MODEL_851c2e0c2b46426382e7934ef640689c",
            "style": "IPY_MODEL_1de95d53aa07450ea8ad746ce458c284",
            "tooltip": "Layers",
            "value": true
          }
        },
        "624b9b8727a346bbb7610020567eb0a1": {
          "model_module": "@jupyter-widgets/controls",
          "model_name": "ToggleButtonModel",
          "model_module_version": "1.5.0",
          "state": {
            "_dom_classes": [],
            "_model_module": "@jupyter-widgets/controls",
            "_model_module_version": "1.5.0",
            "_model_name": "ToggleButtonModel",
            "_view_count": null,
            "_view_module": "@jupyter-widgets/controls",
            "_view_module_version": "1.5.0",
            "_view_name": "ToggleButtonView",
            "button_style": "",
            "description": "",
            "description_tooltip": null,
            "disabled": false,
            "icon": "wrench",
            "layout": "IPY_MODEL_b1be6385467140719c320add12de2e2c",
            "style": "IPY_MODEL_4b15c6e1b247422d84b6847e80cdce90",
            "tooltip": "Toolbar",
            "value": false
          }
        },
        "b58465bfee6a4c31830dcc51e32166f7": {
          "model_module": "@jupyter-widgets/base",
          "model_name": "LayoutModel",
          "model_module_version": "1.2.0",
          "state": {
            "_model_module": "@jupyter-widgets/base",
            "_model_module_version": "1.2.0",
            "_model_name": "LayoutModel",
            "_view_count": null,
            "_view_module": "@jupyter-widgets/base",
            "_view_module_version": "1.2.0",
            "_view_name": "LayoutView",
            "align_content": null,
            "align_items": "center",
            "align_self": null,
            "border": null,
            "bottom": null,
            "display": "flex",
            "flex": null,
            "flex_flow": null,
            "grid_area": null,
            "grid_auto_columns": null,
            "grid_auto_flow": null,
            "grid_auto_rows": null,
            "grid_column": null,
            "grid_gap": null,
            "grid_row": null,
            "grid_template_areas": null,
            "grid_template_columns": null,
            "grid_template_rows": null,
            "height": null,
            "justify_content": "flex-end",
            "justify_items": null,
            "left": null,
            "margin": null,
            "max_height": null,
            "max_width": null,
            "min_height": null,
            "min_width": null,
            "object_fit": null,
            "object_position": null,
            "order": null,
            "overflow": null,
            "overflow_x": null,
            "overflow_y": null,
            "padding": null,
            "right": null,
            "top": null,
            "visibility": null,
            "width": null
          }
        },
        "e48decab1ba34773adbee258aa52b04f": {
          "model_module": "@jupyter-widgets/controls",
          "model_name": "VBoxModel",
          "model_module_version": "1.5.0",
          "state": {
            "_dom_classes": [
              "geemap-colab"
            ],
            "_model_module": "@jupyter-widgets/controls",
            "_model_module_version": "1.5.0",
            "_model_name": "VBoxModel",
            "_view_count": null,
            "_view_module": "@jupyter-widgets/controls",
            "_view_module_version": "1.5.0",
            "_view_name": "VBoxView",
            "box_style": "",
            "children": [
              "IPY_MODEL_72a71aeb6e084e35a9e452592d7b471d",
              "IPY_MODEL_b313f1d93e534753b5431269304296c1"
            ],
            "layout": "IPY_MODEL_208198c4a56b42e98a4b098602b9b5bd"
          }
        },
        "4a268d4f007b4b60b8e039e10f7cb8d9": {
          "model_module": "@jupyter-widgets/base",
          "model_name": "LayoutModel",
          "model_module_version": "1.2.0",
          "state": {
            "_model_module": "@jupyter-widgets/base",
            "_model_module_version": "1.2.0",
            "_model_name": "LayoutModel",
            "_view_count": null,
            "_view_module": "@jupyter-widgets/base",
            "_view_module_version": "1.2.0",
            "_view_name": "LayoutView",
            "align_content": null,
            "align_items": null,
            "align_self": null,
            "border": null,
            "bottom": null,
            "display": null,
            "flex": null,
            "flex_flow": null,
            "grid_area": null,
            "grid_auto_columns": null,
            "grid_auto_flow": null,
            "grid_auto_rows": null,
            "grid_column": null,
            "grid_gap": null,
            "grid_row": null,
            "grid_template_areas": null,
            "grid_template_columns": null,
            "grid_template_rows": null,
            "height": null,
            "justify_content": null,
            "justify_items": null,
            "left": null,
            "margin": null,
            "max_height": null,
            "max_width": null,
            "min_height": null,
            "min_width": null,
            "object_fit": null,
            "object_position": null,
            "order": null,
            "overflow": null,
            "overflow_x": null,
            "overflow_y": null,
            "padding": null,
            "right": null,
            "top": null,
            "visibility": null,
            "width": null
          }
        },
        "851c2e0c2b46426382e7934ef640689c": {
          "model_module": "@jupyter-widgets/base",
          "model_name": "LayoutModel",
          "model_module_version": "1.2.0",
          "state": {
            "_model_module": "@jupyter-widgets/base",
            "_model_module_version": "1.2.0",
            "_model_name": "LayoutModel",
            "_view_count": null,
            "_view_module": "@jupyter-widgets/base",
            "_view_module_version": "1.2.0",
            "_view_name": "LayoutView",
            "align_content": null,
            "align_items": null,
            "align_self": null,
            "border": null,
            "bottom": null,
            "display": null,
            "flex": null,
            "flex_flow": null,
            "grid_area": null,
            "grid_auto_columns": null,
            "grid_auto_flow": null,
            "grid_auto_rows": null,
            "grid_column": null,
            "grid_gap": null,
            "grid_row": null,
            "grid_template_areas": null,
            "grid_template_columns": null,
            "grid_template_rows": null,
            "height": "28px",
            "justify_content": null,
            "justify_items": null,
            "left": null,
            "margin": null,
            "max_height": null,
            "max_width": null,
            "min_height": null,
            "min_width": null,
            "object_fit": null,
            "object_position": null,
            "order": null,
            "overflow": null,
            "overflow_x": null,
            "overflow_y": null,
            "padding": null,
            "right": null,
            "top": null,
            "visibility": null,
            "width": "72px"
          }
        },
        "1de95d53aa07450ea8ad746ce458c284": {
          "model_module": "@jupyter-widgets/controls",
          "model_name": "DescriptionStyleModel",
          "model_module_version": "1.5.0",
          "state": {
            "_model_module": "@jupyter-widgets/controls",
            "_model_module_version": "1.5.0",
            "_model_name": "DescriptionStyleModel",
            "_view_count": null,
            "_view_module": "@jupyter-widgets/base",
            "_view_module_version": "1.2.0",
            "_view_name": "StyleView",
            "description_width": ""
          }
        },
        "b1be6385467140719c320add12de2e2c": {
          "model_module": "@jupyter-widgets/base",
          "model_name": "LayoutModel",
          "model_module_version": "1.2.0",
          "state": {
            "_model_module": "@jupyter-widgets/base",
            "_model_module_version": "1.2.0",
            "_model_name": "LayoutModel",
            "_view_count": null,
            "_view_module": "@jupyter-widgets/base",
            "_view_module_version": "1.2.0",
            "_view_name": "LayoutView",
            "align_content": null,
            "align_items": null,
            "align_self": null,
            "border": null,
            "bottom": null,
            "display": null,
            "flex": null,
            "flex_flow": null,
            "grid_area": null,
            "grid_auto_columns": null,
            "grid_auto_flow": null,
            "grid_auto_rows": null,
            "grid_column": null,
            "grid_gap": null,
            "grid_row": null,
            "grid_template_areas": null,
            "grid_template_columns": null,
            "grid_template_rows": null,
            "height": "28px",
            "justify_content": null,
            "justify_items": null,
            "left": null,
            "margin": null,
            "max_height": null,
            "max_width": null,
            "min_height": null,
            "min_width": null,
            "object_fit": null,
            "object_position": null,
            "order": null,
            "overflow": null,
            "overflow_x": null,
            "overflow_y": null,
            "padding": "0px 0px 0px 4px",
            "right": null,
            "top": null,
            "visibility": null,
            "width": "28px"
          }
        },
        "4b15c6e1b247422d84b6847e80cdce90": {
          "model_module": "@jupyter-widgets/controls",
          "model_name": "DescriptionStyleModel",
          "model_module_version": "1.5.0",
          "state": {
            "_model_module": "@jupyter-widgets/controls",
            "_model_module_version": "1.5.0",
            "_model_name": "DescriptionStyleModel",
            "_view_count": null,
            "_view_module": "@jupyter-widgets/base",
            "_view_module_version": "1.2.0",
            "_view_name": "StyleView",
            "description_width": ""
          }
        },
        "72a71aeb6e084e35a9e452592d7b471d": {
          "model_module": "@jupyter-widgets/controls",
          "model_name": "HBoxModel",
          "model_module_version": "1.5.0",
          "state": {
            "_dom_classes": [],
            "_model_module": "@jupyter-widgets/controls",
            "_model_module_version": "1.5.0",
            "_model_name": "HBoxModel",
            "_view_count": null,
            "_view_module": "@jupyter-widgets/controls",
            "_view_module_version": "1.5.0",
            "_view_name": "HBoxView",
            "box_style": "",
            "children": [
              "IPY_MODEL_f273d4a5b55b4c89884ca97da84cabd2",
              "IPY_MODEL_55625ff169f7472aa06ac5c5aaed88ec"
            ],
            "layout": "IPY_MODEL_4c8e74fa85b34cdf8849de6b132533f5"
          }
        },
        "b313f1d93e534753b5431269304296c1": {
          "model_module": "@jupyter-widgets/controls",
          "model_name": "VBoxModel",
          "model_module_version": "1.5.0",
          "state": {
            "_dom_classes": [],
            "_model_module": "@jupyter-widgets/controls",
            "_model_module_version": "1.5.0",
            "_model_name": "VBoxModel",
            "_view_count": null,
            "_view_module": "@jupyter-widgets/controls",
            "_view_module_version": "1.5.0",
            "_view_name": "VBoxView",
            "box_style": "",
            "children": [
              "IPY_MODEL_d9b4ca971ee340d18dd443aab82275a8",
              "IPY_MODEL_d3bc3b12d89e4bbf889d1748e9c4a428",
              "IPY_MODEL_9bfcb1bfa4154a528ac9864f81f3b9e3"
            ],
            "layout": "IPY_MODEL_1c33e12459c4424dbff14a6d8ad88a68"
          }
        },
        "208198c4a56b42e98a4b098602b9b5bd": {
          "model_module": "@jupyter-widgets/base",
          "model_name": "LayoutModel",
          "model_module_version": "1.2.0",
          "state": {
            "_model_module": "@jupyter-widgets/base",
            "_model_module_version": "1.2.0",
            "_model_name": "LayoutModel",
            "_view_count": null,
            "_view_module": "@jupyter-widgets/base",
            "_view_module_version": "1.2.0",
            "_view_name": "LayoutView",
            "align_content": null,
            "align_items": null,
            "align_self": null,
            "border": null,
            "bottom": null,
            "display": null,
            "flex": null,
            "flex_flow": null,
            "grid_area": null,
            "grid_auto_columns": null,
            "grid_auto_flow": null,
            "grid_auto_rows": null,
            "grid_column": null,
            "grid_gap": null,
            "grid_row": null,
            "grid_template_areas": null,
            "grid_template_columns": null,
            "grid_template_rows": null,
            "height": null,
            "justify_content": null,
            "justify_items": null,
            "left": null,
            "margin": null,
            "max_height": null,
            "max_width": null,
            "min_height": null,
            "min_width": null,
            "object_fit": null,
            "object_position": null,
            "order": null,
            "overflow": null,
            "overflow_x": null,
            "overflow_y": null,
            "padding": null,
            "right": null,
            "top": null,
            "visibility": null,
            "width": null
          }
        },
        "f273d4a5b55b4c89884ca97da84cabd2": {
          "model_module": "@jupyter-widgets/controls",
          "model_name": "ButtonModel",
          "model_module_version": "1.5.0",
          "state": {
            "_dom_classes": [],
            "_model_module": "@jupyter-widgets/controls",
            "_model_module_version": "1.5.0",
            "_model_name": "ButtonModel",
            "_view_count": null,
            "_view_module": "@jupyter-widgets/controls",
            "_view_module_version": "1.5.0",
            "_view_name": "ButtonView",
            "button_style": "primary",
            "description": "",
            "disabled": false,
            "icon": "times",
            "layout": "IPY_MODEL_230418f767e74a7d8373b3a4ab95cb7c",
            "style": "IPY_MODEL_74b8732c72fc440894ecf099a0d49cc9",
            "tooltip": "Close the tool"
          }
        },
        "55625ff169f7472aa06ac5c5aaed88ec": {
          "model_module": "@jupyter-widgets/controls",
          "model_name": "ToggleButtonModel",
          "model_module_version": "1.5.0",
          "state": {
            "_dom_classes": [],
            "_model_module": "@jupyter-widgets/controls",
            "_model_module_version": "1.5.0",
            "_model_name": "ToggleButtonModel",
            "_view_count": null,
            "_view_module": "@jupyter-widgets/controls",
            "_view_module_version": "1.5.0",
            "_view_name": "ToggleButtonView",
            "button_style": "",
            "description": "",
            "description_tooltip": null,
            "disabled": false,
            "icon": "server",
            "layout": "IPY_MODEL_e1e2d2ff89944ae0aff68c2f67c012ab",
            "style": "IPY_MODEL_a31f677eb91043ee8c27e20b32b23d9d",
            "tooltip": "Layer Manager",
            "value": true
          }
        },
        "4c8e74fa85b34cdf8849de6b132533f5": {
          "model_module": "@jupyter-widgets/base",
          "model_name": "LayoutModel",
          "model_module_version": "1.2.0",
          "state": {
            "_model_module": "@jupyter-widgets/base",
            "_model_module_version": "1.2.0",
            "_model_name": "LayoutModel",
            "_view_count": null,
            "_view_module": "@jupyter-widgets/base",
            "_view_module_version": "1.2.0",
            "_view_name": "LayoutView",
            "align_content": null,
            "align_items": null,
            "align_self": null,
            "border": null,
            "bottom": null,
            "display": "none",
            "flex": null,
            "flex_flow": null,
            "grid_area": null,
            "grid_auto_columns": null,
            "grid_auto_flow": null,
            "grid_auto_rows": null,
            "grid_column": null,
            "grid_gap": null,
            "grid_row": null,
            "grid_template_areas": null,
            "grid_template_columns": null,
            "grid_template_rows": null,
            "height": null,
            "justify_content": null,
            "justify_items": null,
            "left": null,
            "margin": null,
            "max_height": null,
            "max_width": null,
            "min_height": null,
            "min_width": null,
            "object_fit": null,
            "object_position": null,
            "order": null,
            "overflow": null,
            "overflow_x": null,
            "overflow_y": null,
            "padding": null,
            "right": null,
            "top": null,
            "visibility": null,
            "width": null
          }
        },
        "d9b4ca971ee340d18dd443aab82275a8": {
          "model_module": "@jupyter-widgets/controls",
          "model_name": "CheckboxModel",
          "model_module_version": "1.5.0",
          "state": {
            "_dom_classes": [],
            "_model_module": "@jupyter-widgets/controls",
            "_model_module_version": "1.5.0",
            "_model_name": "CheckboxModel",
            "_view_count": null,
            "_view_module": "@jupyter-widgets/controls",
            "_view_module_version": "1.5.0",
            "_view_name": "CheckboxView",
            "description": "All layers on/off",
            "description_tooltip": null,
            "disabled": false,
            "indent": false,
            "layout": "IPY_MODEL_34bb828edec44160baf331206635426d",
            "style": "IPY_MODEL_2d1a219cfe464217833916dcbeec1f95",
            "value": false
          }
        },
        "d3bc3b12d89e4bbf889d1748e9c4a428": {
          "model_module": "@jupyter-widgets/controls",
          "model_name": "HBoxModel",
          "model_module_version": "1.5.0",
          "state": {
            "_dom_classes": [],
            "_model_module": "@jupyter-widgets/controls",
            "_model_module_version": "1.5.0",
            "_model_name": "HBoxModel",
            "_view_count": null,
            "_view_module": "@jupyter-widgets/controls",
            "_view_module_version": "1.5.0",
            "_view_name": "HBoxView",
            "box_style": "",
            "children": [
              "IPY_MODEL_031ed68e846b4d1a968fdc67aebb9430",
              "IPY_MODEL_60feb37f72ff4b30bfc25119eee6b9da",
              "IPY_MODEL_af7619cf38e444cf9d6d5e95b62e3452",
              "IPY_MODEL_bd858001ebb1434a8290fc4521d03e03"
            ],
            "layout": "IPY_MODEL_74d867078dcd4f2cb8192814df424ee4"
          }
        },
        "9bfcb1bfa4154a528ac9864f81f3b9e3": {
          "model_module": "@jupyter-widgets/controls",
          "model_name": "HBoxModel",
          "model_module_version": "1.5.0",
          "state": {
            "_dom_classes": [],
            "_model_module": "@jupyter-widgets/controls",
            "_model_module_version": "1.5.0",
            "_model_name": "HBoxModel",
            "_view_count": null,
            "_view_module": "@jupyter-widgets/controls",
            "_view_module_version": "1.5.0",
            "_view_name": "HBoxView",
            "box_style": "",
            "children": [
              "IPY_MODEL_3726a7d5d2da44c6ba04732d5055348f",
              "IPY_MODEL_488749dd81404171a21feb8ed90a6336",
              "IPY_MODEL_58e4cf2788e54b47acd6462abcf4ac77",
              "IPY_MODEL_fafecbeb30ab4573adcd49c62d9e51d2"
            ],
            "layout": "IPY_MODEL_257cc870d3b3483d843e53fa4ee3eaf2"
          }
        },
        "1c33e12459c4424dbff14a6d8ad88a68": {
          "model_module": "@jupyter-widgets/base",
          "model_name": "LayoutModel",
          "model_module_version": "1.2.0",
          "state": {
            "_model_module": "@jupyter-widgets/base",
            "_model_module_version": "1.2.0",
            "_model_name": "LayoutModel",
            "_view_count": null,
            "_view_module": "@jupyter-widgets/base",
            "_view_module_version": "1.2.0",
            "_view_name": "LayoutView",
            "align_content": null,
            "align_items": null,
            "align_self": null,
            "border": null,
            "bottom": null,
            "display": null,
            "flex": null,
            "flex_flow": null,
            "grid_area": null,
            "grid_auto_columns": null,
            "grid_auto_flow": null,
            "grid_auto_rows": null,
            "grid_column": null,
            "grid_gap": null,
            "grid_row": null,
            "grid_template_areas": null,
            "grid_template_columns": null,
            "grid_template_rows": null,
            "height": null,
            "justify_content": null,
            "justify_items": null,
            "left": null,
            "margin": null,
            "max_height": null,
            "max_width": null,
            "min_height": null,
            "min_width": null,
            "object_fit": null,
            "object_position": null,
            "order": null,
            "overflow": null,
            "overflow_x": null,
            "overflow_y": null,
            "padding": null,
            "right": null,
            "top": null,
            "visibility": null,
            "width": null
          }
        },
        "230418f767e74a7d8373b3a4ab95cb7c": {
          "model_module": "@jupyter-widgets/base",
          "model_name": "LayoutModel",
          "model_module_version": "1.2.0",
          "state": {
            "_model_module": "@jupyter-widgets/base",
            "_model_module_version": "1.2.0",
            "_model_name": "LayoutModel",
            "_view_count": null,
            "_view_module": "@jupyter-widgets/base",
            "_view_module_version": "1.2.0",
            "_view_name": "LayoutView",
            "align_content": null,
            "align_items": null,
            "align_self": null,
            "border": null,
            "bottom": null,
            "display": null,
            "flex": null,
            "flex_flow": null,
            "grid_area": null,
            "grid_auto_columns": null,
            "grid_auto_flow": null,
            "grid_auto_rows": null,
            "grid_column": null,
            "grid_gap": null,
            "grid_row": null,
            "grid_template_areas": null,
            "grid_template_columns": null,
            "grid_template_rows": null,
            "height": "28px",
            "justify_content": null,
            "justify_items": null,
            "left": null,
            "margin": null,
            "max_height": null,
            "max_width": null,
            "min_height": null,
            "min_width": null,
            "object_fit": null,
            "object_position": null,
            "order": null,
            "overflow": null,
            "overflow_x": null,
            "overflow_y": null,
            "padding": "0px",
            "right": null,
            "top": null,
            "visibility": null,
            "width": "28px"
          }
        },
        "74b8732c72fc440894ecf099a0d49cc9": {
          "model_module": "@jupyter-widgets/controls",
          "model_name": "ButtonStyleModel",
          "model_module_version": "1.5.0",
          "state": {
            "_model_module": "@jupyter-widgets/controls",
            "_model_module_version": "1.5.0",
            "_model_name": "ButtonStyleModel",
            "_view_count": null,
            "_view_module": "@jupyter-widgets/base",
            "_view_module_version": "1.2.0",
            "_view_name": "StyleView",
            "button_color": null,
            "font_weight": ""
          }
        },
        "e1e2d2ff89944ae0aff68c2f67c012ab": {
          "model_module": "@jupyter-widgets/base",
          "model_name": "LayoutModel",
          "model_module_version": "1.2.0",
          "state": {
            "_model_module": "@jupyter-widgets/base",
            "_model_module_version": "1.2.0",
            "_model_name": "LayoutModel",
            "_view_count": null,
            "_view_module": "@jupyter-widgets/base",
            "_view_module_version": "1.2.0",
            "_view_name": "LayoutView",
            "align_content": null,
            "align_items": null,
            "align_self": null,
            "border": null,
            "bottom": null,
            "display": null,
            "flex": null,
            "flex_flow": null,
            "grid_area": null,
            "grid_auto_columns": null,
            "grid_auto_flow": null,
            "grid_auto_rows": null,
            "grid_column": null,
            "grid_gap": null,
            "grid_row": null,
            "grid_template_areas": null,
            "grid_template_columns": null,
            "grid_template_rows": null,
            "height": "28px",
            "justify_content": null,
            "justify_items": null,
            "left": null,
            "margin": null,
            "max_height": null,
            "max_width": null,
            "min_height": null,
            "min_width": null,
            "object_fit": null,
            "object_position": null,
            "order": null,
            "overflow": null,
            "overflow_x": null,
            "overflow_y": null,
            "padding": "0px 0px 0px 4px",
            "right": null,
            "top": null,
            "visibility": null,
            "width": "28px"
          }
        },
        "a31f677eb91043ee8c27e20b32b23d9d": {
          "model_module": "@jupyter-widgets/controls",
          "model_name": "DescriptionStyleModel",
          "model_module_version": "1.5.0",
          "state": {
            "_model_module": "@jupyter-widgets/controls",
            "_model_module_version": "1.5.0",
            "_model_name": "DescriptionStyleModel",
            "_view_count": null,
            "_view_module": "@jupyter-widgets/base",
            "_view_module_version": "1.2.0",
            "_view_name": "StyleView",
            "description_width": ""
          }
        },
        "34bb828edec44160baf331206635426d": {
          "model_module": "@jupyter-widgets/base",
          "model_name": "LayoutModel",
          "model_module_version": "1.2.0",
          "state": {
            "_model_module": "@jupyter-widgets/base",
            "_model_module_version": "1.2.0",
            "_model_name": "LayoutModel",
            "_view_count": null,
            "_view_module": "@jupyter-widgets/base",
            "_view_module_version": "1.2.0",
            "_view_name": "LayoutView",
            "align_content": null,
            "align_items": null,
            "align_self": null,
            "border": null,
            "bottom": null,
            "display": null,
            "flex": null,
            "flex_flow": null,
            "grid_area": null,
            "grid_auto_columns": null,
            "grid_auto_flow": null,
            "grid_auto_rows": null,
            "grid_column": null,
            "grid_gap": null,
            "grid_row": null,
            "grid_template_areas": null,
            "grid_template_columns": null,
            "grid_template_rows": null,
            "height": "18px",
            "justify_content": null,
            "justify_items": null,
            "left": null,
            "margin": null,
            "max_height": null,
            "max_width": null,
            "min_height": null,
            "min_width": null,
            "object_fit": null,
            "object_position": null,
            "order": null,
            "overflow": null,
            "overflow_x": null,
            "overflow_y": null,
            "padding": "0px 4px 25px 4px",
            "right": null,
            "top": null,
            "visibility": null,
            "width": "30ex"
          }
        },
        "2d1a219cfe464217833916dcbeec1f95": {
          "model_module": "@jupyter-widgets/controls",
          "model_name": "DescriptionStyleModel",
          "model_module_version": "1.5.0",
          "state": {
            "_model_module": "@jupyter-widgets/controls",
            "_model_module_version": "1.5.0",
            "_model_name": "DescriptionStyleModel",
            "_view_count": null,
            "_view_module": "@jupyter-widgets/base",
            "_view_module_version": "1.2.0",
            "_view_name": "StyleView",
            "description_width": ""
          }
        },
        "031ed68e846b4d1a968fdc67aebb9430": {
          "model_module": "@jupyter-widgets/controls",
          "model_name": "CheckboxModel",
          "model_module_version": "1.5.0",
          "state": {
            "_dom_classes": [],
            "_model_module": "@jupyter-widgets/controls",
            "_model_module_version": "1.5.0",
            "_model_name": "CheckboxModel",
            "_view_count": null,
            "_view_module": "@jupyter-widgets/controls",
            "_view_module_version": "1.5.0",
            "_view_name": "CheckboxView",
            "description": "OpenStreetMap.Mapnik",
            "description_tooltip": null,
            "disabled": false,
            "indent": false,
            "layout": "IPY_MODEL_f208b463b29e41f589c40cfbbacbc54b",
            "style": "IPY_MODEL_2c7a094287c84ba6b73672329d41b6b6",
            "value": false
          }
        },
        "60feb37f72ff4b30bfc25119eee6b9da": {
          "model_module": "@jupyter-widgets/controls",
          "model_name": "FloatSliderModel",
          "model_module_version": "1.5.0",
          "state": {
            "_dom_classes": [],
            "_model_module": "@jupyter-widgets/controls",
            "_model_module_version": "1.5.0",
            "_model_name": "FloatSliderModel",
            "_view_count": null,
            "_view_module": "@jupyter-widgets/controls",
            "_view_module_version": "1.5.0",
            "_view_name": "FloatSliderView",
            "continuous_update": true,
            "description": "",
            "description_tooltip": null,
            "disabled": false,
            "layout": "IPY_MODEL_c7ce24c7c82e42d6931cb651ef8948fa",
            "max": 1,
            "min": 0,
            "orientation": "horizontal",
            "readout": false,
            "readout_format": ".2f",
            "step": 0.01,
            "style": "IPY_MODEL_6ab5f0f4b7a64c379ee195a36c4fa2b1",
            "value": 1
          }
        },
        "af7619cf38e444cf9d6d5e95b62e3452": {
          "model_module": "@jupyter-widgets/controls",
          "model_name": "ButtonModel",
          "model_module_version": "1.5.0",
          "state": {
            "_dom_classes": [],
            "_model_module": "@jupyter-widgets/controls",
            "_model_module_version": "1.5.0",
            "_model_name": "ButtonModel",
            "_view_count": null,
            "_view_module": "@jupyter-widgets/controls",
            "_view_module_version": "1.5.0",
            "_view_name": "ButtonView",
            "button_style": "",
            "description": "",
            "disabled": false,
            "icon": "gear",
            "layout": "IPY_MODEL_58a7a3a79d3344009f12456a58be20dc",
            "style": "IPY_MODEL_61fc53561dc947dab367ca63bd3f82b4",
            "tooltip": "OpenStreetMap.Mapnik"
          }
        },
        "bd858001ebb1434a8290fc4521d03e03": {
          "model_module": "@jupyter-widgets/controls",
          "model_name": "ButtonModel",
          "model_module_version": "1.5.0",
          "state": {
            "_dom_classes": [],
            "_model_module": "@jupyter-widgets/controls",
            "_model_module_version": "1.5.0",
            "_model_name": "ButtonModel",
            "_view_count": null,
            "_view_module": "@jupyter-widgets/controls",
            "_view_module_version": "1.5.0",
            "_view_name": "ButtonView",
            "button_style": "",
            "description": "",
            "disabled": false,
            "icon": "times",
            "layout": "IPY_MODEL_bafa0cc0866a4e0581b2b31389480b22",
            "style": "IPY_MODEL_0a9ad1effd3b4a68a063b41976853b95",
            "tooltip": "Loaded"
          }
        },
        "74d867078dcd4f2cb8192814df424ee4": {
          "model_module": "@jupyter-widgets/base",
          "model_name": "LayoutModel",
          "model_module_version": "1.2.0",
          "state": {
            "_model_module": "@jupyter-widgets/base",
            "_model_module_version": "1.2.0",
            "_model_name": "LayoutModel",
            "_view_count": null,
            "_view_module": "@jupyter-widgets/base",
            "_view_module_version": "1.2.0",
            "_view_name": "LayoutView",
            "align_content": null,
            "align_items": null,
            "align_self": null,
            "border": null,
            "bottom": null,
            "display": null,
            "flex": null,
            "flex_flow": null,
            "grid_area": null,
            "grid_auto_columns": null,
            "grid_auto_flow": null,
            "grid_auto_rows": null,
            "grid_column": null,
            "grid_gap": null,
            "grid_row": null,
            "grid_template_areas": null,
            "grid_template_columns": null,
            "grid_template_rows": null,
            "height": null,
            "justify_content": null,
            "justify_items": null,
            "left": null,
            "margin": null,
            "max_height": null,
            "max_width": null,
            "min_height": null,
            "min_width": null,
            "object_fit": null,
            "object_position": null,
            "order": null,
            "overflow": null,
            "overflow_x": null,
            "overflow_y": null,
            "padding": "0px 4px 0px 4px",
            "right": null,
            "top": null,
            "visibility": null,
            "width": null
          }
        },
        "3726a7d5d2da44c6ba04732d5055348f": {
          "model_module": "@jupyter-widgets/controls",
          "model_name": "CheckboxModel",
          "model_module_version": "1.5.0",
          "state": {
            "_dom_classes": [],
            "_model_module": "@jupyter-widgets/controls",
            "_model_module_version": "1.5.0",
            "_model_name": "CheckboxModel",
            "_view_count": null,
            "_view_module": "@jupyter-widgets/controls",
            "_view_module_version": "1.5.0",
            "_view_name": "CheckboxView",
            "description": "false color composite",
            "description_tooltip": null,
            "disabled": false,
            "indent": false,
            "layout": "IPY_MODEL_ecce5f9cb5b64e8b8b76eca18324d4ad",
            "style": "IPY_MODEL_df0888c1e0664a029e9805b8f8eae131",
            "value": true
          }
        },
        "488749dd81404171a21feb8ed90a6336": {
          "model_module": "@jupyter-widgets/controls",
          "model_name": "FloatSliderModel",
          "model_module_version": "1.5.0",
          "state": {
            "_dom_classes": [],
            "_model_module": "@jupyter-widgets/controls",
            "_model_module_version": "1.5.0",
            "_model_name": "FloatSliderModel",
            "_view_count": null,
            "_view_module": "@jupyter-widgets/controls",
            "_view_module_version": "1.5.0",
            "_view_name": "FloatSliderView",
            "continuous_update": true,
            "description": "",
            "description_tooltip": null,
            "disabled": false,
            "layout": "IPY_MODEL_ca84d9a4f84249f998ef58a054b39663",
            "max": 1,
            "min": 0,
            "orientation": "horizontal",
            "readout": false,
            "readout_format": ".2f",
            "step": 0.01,
            "style": "IPY_MODEL_03f9aa44d9c649a894b864eecb97bdaa",
            "value": 1
          }
        },
        "58e4cf2788e54b47acd6462abcf4ac77": {
          "model_module": "@jupyter-widgets/controls",
          "model_name": "ButtonModel",
          "model_module_version": "1.5.0",
          "state": {
            "_dom_classes": [],
            "_model_module": "@jupyter-widgets/controls",
            "_model_module_version": "1.5.0",
            "_model_name": "ButtonModel",
            "_view_count": null,
            "_view_module": "@jupyter-widgets/controls",
            "_view_module_version": "1.5.0",
            "_view_name": "ButtonView",
            "button_style": "",
            "description": "",
            "disabled": false,
            "icon": "gear",
            "layout": "IPY_MODEL_d0f81c079b5e49a29863cdcf754f41fe",
            "style": "IPY_MODEL_a445814c3f944a638e2359154da2b5d9",
            "tooltip": "false color composite"
          }
        },
        "fafecbeb30ab4573adcd49c62d9e51d2": {
          "model_module": "@jupyter-widgets/controls",
          "model_name": "ButtonModel",
          "model_module_version": "1.5.0",
          "state": {
            "_dom_classes": [],
            "_model_module": "@jupyter-widgets/controls",
            "_model_module_version": "1.5.0",
            "_model_name": "ButtonModel",
            "_view_count": null,
            "_view_module": "@jupyter-widgets/controls",
            "_view_module_version": "1.5.0",
            "_view_name": "ButtonView",
            "button_style": "",
            "description": "",
            "disabled": false,
            "icon": "times",
            "layout": "IPY_MODEL_9de72f9d784546c891525fc16e18fcbc",
            "style": "IPY_MODEL_7fe6a791dc504263becdf387344fb032",
            "tooltip": "Loaded"
          }
        },
        "257cc870d3b3483d843e53fa4ee3eaf2": {
          "model_module": "@jupyter-widgets/base",
          "model_name": "LayoutModel",
          "model_module_version": "1.2.0",
          "state": {
            "_model_module": "@jupyter-widgets/base",
            "_model_module_version": "1.2.0",
            "_model_name": "LayoutModel",
            "_view_count": null,
            "_view_module": "@jupyter-widgets/base",
            "_view_module_version": "1.2.0",
            "_view_name": "LayoutView",
            "align_content": null,
            "align_items": null,
            "align_self": null,
            "border": null,
            "bottom": null,
            "display": null,
            "flex": null,
            "flex_flow": null,
            "grid_area": null,
            "grid_auto_columns": null,
            "grid_auto_flow": null,
            "grid_auto_rows": null,
            "grid_column": null,
            "grid_gap": null,
            "grid_row": null,
            "grid_template_areas": null,
            "grid_template_columns": null,
            "grid_template_rows": null,
            "height": null,
            "justify_content": null,
            "justify_items": null,
            "left": null,
            "margin": null,
            "max_height": null,
            "max_width": null,
            "min_height": null,
            "min_width": null,
            "object_fit": null,
            "object_position": null,
            "order": null,
            "overflow": null,
            "overflow_x": null,
            "overflow_y": null,
            "padding": "0px 4px 0px 4px",
            "right": null,
            "top": null,
            "visibility": null,
            "width": null
          }
        },
        "f208b463b29e41f589c40cfbbacbc54b": {
          "model_module": "@jupyter-widgets/base",
          "model_name": "LayoutModel",
          "model_module_version": "1.2.0",
          "state": {
            "_model_module": "@jupyter-widgets/base",
            "_model_module_version": "1.2.0",
            "_model_name": "LayoutModel",
            "_view_count": null,
            "_view_module": "@jupyter-widgets/base",
            "_view_module_version": "1.2.0",
            "_view_name": "LayoutView",
            "align_content": null,
            "align_items": null,
            "align_self": null,
            "border": null,
            "bottom": null,
            "display": null,
            "flex": null,
            "flex_flow": null,
            "grid_area": null,
            "grid_auto_columns": null,
            "grid_auto_flow": null,
            "grid_auto_rows": null,
            "grid_column": null,
            "grid_gap": null,
            "grid_row": null,
            "grid_template_areas": null,
            "grid_template_columns": null,
            "grid_template_rows": null,
            "height": "18px",
            "justify_content": null,
            "justify_items": null,
            "left": null,
            "margin": null,
            "max_height": null,
            "max_width": null,
            "min_height": null,
            "min_width": null,
            "object_fit": null,
            "object_position": null,
            "order": null,
            "overflow": null,
            "overflow_x": null,
            "overflow_y": null,
            "padding": null,
            "right": null,
            "top": null,
            "visibility": null,
            "width": "140px"
          }
        },
        "2c7a094287c84ba6b73672329d41b6b6": {
          "model_module": "@jupyter-widgets/controls",
          "model_name": "DescriptionStyleModel",
          "model_module_version": "1.5.0",
          "state": {
            "_model_module": "@jupyter-widgets/controls",
            "_model_module_version": "1.5.0",
            "_model_name": "DescriptionStyleModel",
            "_view_count": null,
            "_view_module": "@jupyter-widgets/base",
            "_view_module_version": "1.2.0",
            "_view_name": "StyleView",
            "description_width": ""
          }
        },
        "c7ce24c7c82e42d6931cb651ef8948fa": {
          "model_module": "@jupyter-widgets/base",
          "model_name": "LayoutModel",
          "model_module_version": "1.2.0",
          "state": {
            "_model_module": "@jupyter-widgets/base",
            "_model_module_version": "1.2.0",
            "_model_name": "LayoutModel",
            "_view_count": null,
            "_view_module": "@jupyter-widgets/base",
            "_view_module_version": "1.2.0",
            "_view_name": "LayoutView",
            "align_content": null,
            "align_items": null,
            "align_self": null,
            "border": null,
            "bottom": null,
            "display": null,
            "flex": null,
            "flex_flow": null,
            "grid_area": null,
            "grid_auto_columns": null,
            "grid_auto_flow": null,
            "grid_auto_rows": null,
            "grid_column": null,
            "grid_gap": null,
            "grid_row": null,
            "grid_template_areas": null,
            "grid_template_columns": null,
            "grid_template_rows": null,
            "height": null,
            "justify_content": null,
            "justify_items": null,
            "left": null,
            "margin": null,
            "max_height": null,
            "max_width": null,
            "min_height": null,
            "min_width": null,
            "object_fit": null,
            "object_position": null,
            "order": null,
            "overflow": null,
            "overflow_x": null,
            "overflow_y": null,
            "padding": "0px 3px 0px 0px",
            "right": null,
            "top": null,
            "visibility": null,
            "width": "70px"
          }
        },
        "6ab5f0f4b7a64c379ee195a36c4fa2b1": {
          "model_module": "@jupyter-widgets/controls",
          "model_name": "SliderStyleModel",
          "model_module_version": "1.5.0",
          "state": {
            "_model_module": "@jupyter-widgets/controls",
            "_model_module_version": "1.5.0",
            "_model_name": "SliderStyleModel",
            "_view_count": null,
            "_view_module": "@jupyter-widgets/base",
            "_view_module_version": "1.2.0",
            "_view_name": "StyleView",
            "description_width": "",
            "handle_color": null
          }
        },
        "58a7a3a79d3344009f12456a58be20dc": {
          "model_module": "@jupyter-widgets/base",
          "model_name": "LayoutModel",
          "model_module_version": "1.2.0",
          "state": {
            "_model_module": "@jupyter-widgets/base",
            "_model_module_version": "1.2.0",
            "_model_name": "LayoutModel",
            "_view_count": null,
            "_view_module": "@jupyter-widgets/base",
            "_view_module_version": "1.2.0",
            "_view_name": "LayoutView",
            "align_content": null,
            "align_items": null,
            "align_self": null,
            "border": null,
            "bottom": null,
            "display": null,
            "flex": null,
            "flex_flow": null,
            "grid_area": null,
            "grid_auto_columns": null,
            "grid_auto_flow": null,
            "grid_auto_rows": null,
            "grid_column": null,
            "grid_gap": null,
            "grid_row": null,
            "grid_template_areas": null,
            "grid_template_columns": null,
            "grid_template_rows": null,
            "height": "25px",
            "justify_content": null,
            "justify_items": null,
            "left": null,
            "margin": null,
            "max_height": null,
            "max_width": null,
            "min_height": null,
            "min_width": null,
            "object_fit": null,
            "object_position": null,
            "order": null,
            "overflow": null,
            "overflow_x": null,
            "overflow_y": null,
            "padding": "0px",
            "right": null,
            "top": null,
            "visibility": null,
            "width": "25px"
          }
        },
        "61fc53561dc947dab367ca63bd3f82b4": {
          "model_module": "@jupyter-widgets/controls",
          "model_name": "ButtonStyleModel",
          "model_module_version": "1.5.0",
          "state": {
            "_model_module": "@jupyter-widgets/controls",
            "_model_module_version": "1.5.0",
            "_model_name": "ButtonStyleModel",
            "_view_count": null,
            "_view_module": "@jupyter-widgets/base",
            "_view_module_version": "1.2.0",
            "_view_name": "StyleView",
            "button_color": null,
            "font_weight": ""
          }
        },
        "bafa0cc0866a4e0581b2b31389480b22": {
          "model_module": "@jupyter-widgets/base",
          "model_name": "LayoutModel",
          "model_module_version": "1.2.0",
          "state": {
            "_model_module": "@jupyter-widgets/base",
            "_model_module_version": "1.2.0",
            "_model_name": "LayoutModel",
            "_view_count": null,
            "_view_module": "@jupyter-widgets/base",
            "_view_module_version": "1.2.0",
            "_view_name": "LayoutView",
            "align_content": null,
            "align_items": null,
            "align_self": null,
            "border": null,
            "bottom": null,
            "display": null,
            "flex": null,
            "flex_flow": null,
            "grid_area": null,
            "grid_auto_columns": null,
            "grid_auto_flow": null,
            "grid_auto_rows": null,
            "grid_column": null,
            "grid_gap": null,
            "grid_row": null,
            "grid_template_areas": null,
            "grid_template_columns": null,
            "grid_template_rows": null,
            "height": "25px",
            "justify_content": null,
            "justify_items": null,
            "left": null,
            "margin": null,
            "max_height": null,
            "max_width": null,
            "min_height": null,
            "min_width": null,
            "object_fit": null,
            "object_position": null,
            "order": null,
            "overflow": null,
            "overflow_x": null,
            "overflow_y": null,
            "padding": "0px",
            "right": null,
            "top": null,
            "visibility": null,
            "width": "25px"
          }
        },
        "0a9ad1effd3b4a68a063b41976853b95": {
          "model_module": "@jupyter-widgets/controls",
          "model_name": "ButtonStyleModel",
          "model_module_version": "1.5.0",
          "state": {
            "_model_module": "@jupyter-widgets/controls",
            "_model_module_version": "1.5.0",
            "_model_name": "ButtonStyleModel",
            "_view_count": null,
            "_view_module": "@jupyter-widgets/base",
            "_view_module_version": "1.2.0",
            "_view_name": "StyleView",
            "button_color": null,
            "font_weight": ""
          }
        },
        "ecce5f9cb5b64e8b8b76eca18324d4ad": {
          "model_module": "@jupyter-widgets/base",
          "model_name": "LayoutModel",
          "model_module_version": "1.2.0",
          "state": {
            "_model_module": "@jupyter-widgets/base",
            "_model_module_version": "1.2.0",
            "_model_name": "LayoutModel",
            "_view_count": null,
            "_view_module": "@jupyter-widgets/base",
            "_view_module_version": "1.2.0",
            "_view_name": "LayoutView",
            "align_content": null,
            "align_items": null,
            "align_self": null,
            "border": null,
            "bottom": null,
            "display": null,
            "flex": null,
            "flex_flow": null,
            "grid_area": null,
            "grid_auto_columns": null,
            "grid_auto_flow": null,
            "grid_auto_rows": null,
            "grid_column": null,
            "grid_gap": null,
            "grid_row": null,
            "grid_template_areas": null,
            "grid_template_columns": null,
            "grid_template_rows": null,
            "height": "18px",
            "justify_content": null,
            "justify_items": null,
            "left": null,
            "margin": null,
            "max_height": null,
            "max_width": null,
            "min_height": null,
            "min_width": null,
            "object_fit": null,
            "object_position": null,
            "order": null,
            "overflow": null,
            "overflow_x": null,
            "overflow_y": null,
            "padding": null,
            "right": null,
            "top": null,
            "visibility": null,
            "width": "140px"
          }
        },
        "df0888c1e0664a029e9805b8f8eae131": {
          "model_module": "@jupyter-widgets/controls",
          "model_name": "DescriptionStyleModel",
          "model_module_version": "1.5.0",
          "state": {
            "_model_module": "@jupyter-widgets/controls",
            "_model_module_version": "1.5.0",
            "_model_name": "DescriptionStyleModel",
            "_view_count": null,
            "_view_module": "@jupyter-widgets/base",
            "_view_module_version": "1.2.0",
            "_view_name": "StyleView",
            "description_width": ""
          }
        },
        "ca84d9a4f84249f998ef58a054b39663": {
          "model_module": "@jupyter-widgets/base",
          "model_name": "LayoutModel",
          "model_module_version": "1.2.0",
          "state": {
            "_model_module": "@jupyter-widgets/base",
            "_model_module_version": "1.2.0",
            "_model_name": "LayoutModel",
            "_view_count": null,
            "_view_module": "@jupyter-widgets/base",
            "_view_module_version": "1.2.0",
            "_view_name": "LayoutView",
            "align_content": null,
            "align_items": null,
            "align_self": null,
            "border": null,
            "bottom": null,
            "display": null,
            "flex": null,
            "flex_flow": null,
            "grid_area": null,
            "grid_auto_columns": null,
            "grid_auto_flow": null,
            "grid_auto_rows": null,
            "grid_column": null,
            "grid_gap": null,
            "grid_row": null,
            "grid_template_areas": null,
            "grid_template_columns": null,
            "grid_template_rows": null,
            "height": null,
            "justify_content": null,
            "justify_items": null,
            "left": null,
            "margin": null,
            "max_height": null,
            "max_width": null,
            "min_height": null,
            "min_width": null,
            "object_fit": null,
            "object_position": null,
            "order": null,
            "overflow": null,
            "overflow_x": null,
            "overflow_y": null,
            "padding": "0px 3px 0px 0px",
            "right": null,
            "top": null,
            "visibility": null,
            "width": "70px"
          }
        },
        "03f9aa44d9c649a894b864eecb97bdaa": {
          "model_module": "@jupyter-widgets/controls",
          "model_name": "SliderStyleModel",
          "model_module_version": "1.5.0",
          "state": {
            "_model_module": "@jupyter-widgets/controls",
            "_model_module_version": "1.5.0",
            "_model_name": "SliderStyleModel",
            "_view_count": null,
            "_view_module": "@jupyter-widgets/base",
            "_view_module_version": "1.2.0",
            "_view_name": "StyleView",
            "description_width": "",
            "handle_color": null
          }
        },
        "d0f81c079b5e49a29863cdcf754f41fe": {
          "model_module": "@jupyter-widgets/base",
          "model_name": "LayoutModel",
          "model_module_version": "1.2.0",
          "state": {
            "_model_module": "@jupyter-widgets/base",
            "_model_module_version": "1.2.0",
            "_model_name": "LayoutModel",
            "_view_count": null,
            "_view_module": "@jupyter-widgets/base",
            "_view_module_version": "1.2.0",
            "_view_name": "LayoutView",
            "align_content": null,
            "align_items": null,
            "align_self": null,
            "border": null,
            "bottom": null,
            "display": null,
            "flex": null,
            "flex_flow": null,
            "grid_area": null,
            "grid_auto_columns": null,
            "grid_auto_flow": null,
            "grid_auto_rows": null,
            "grid_column": null,
            "grid_gap": null,
            "grid_row": null,
            "grid_template_areas": null,
            "grid_template_columns": null,
            "grid_template_rows": null,
            "height": "25px",
            "justify_content": null,
            "justify_items": null,
            "left": null,
            "margin": null,
            "max_height": null,
            "max_width": null,
            "min_height": null,
            "min_width": null,
            "object_fit": null,
            "object_position": null,
            "order": null,
            "overflow": null,
            "overflow_x": null,
            "overflow_y": null,
            "padding": "0px",
            "right": null,
            "top": null,
            "visibility": null,
            "width": "25px"
          }
        },
        "a445814c3f944a638e2359154da2b5d9": {
          "model_module": "@jupyter-widgets/controls",
          "model_name": "ButtonStyleModel",
          "model_module_version": "1.5.0",
          "state": {
            "_model_module": "@jupyter-widgets/controls",
            "_model_module_version": "1.5.0",
            "_model_name": "ButtonStyleModel",
            "_view_count": null,
            "_view_module": "@jupyter-widgets/base",
            "_view_module_version": "1.2.0",
            "_view_name": "StyleView",
            "button_color": null,
            "font_weight": ""
          }
        },
        "9de72f9d784546c891525fc16e18fcbc": {
          "model_module": "@jupyter-widgets/base",
          "model_name": "LayoutModel",
          "model_module_version": "1.2.0",
          "state": {
            "_model_module": "@jupyter-widgets/base",
            "_model_module_version": "1.2.0",
            "_model_name": "LayoutModel",
            "_view_count": null,
            "_view_module": "@jupyter-widgets/base",
            "_view_module_version": "1.2.0",
            "_view_name": "LayoutView",
            "align_content": null,
            "align_items": null,
            "align_self": null,
            "border": null,
            "bottom": null,
            "display": null,
            "flex": null,
            "flex_flow": null,
            "grid_area": null,
            "grid_auto_columns": null,
            "grid_auto_flow": null,
            "grid_auto_rows": null,
            "grid_column": null,
            "grid_gap": null,
            "grid_row": null,
            "grid_template_areas": null,
            "grid_template_columns": null,
            "grid_template_rows": null,
            "height": "25px",
            "justify_content": null,
            "justify_items": null,
            "left": null,
            "margin": null,
            "max_height": null,
            "max_width": null,
            "min_height": null,
            "min_width": null,
            "object_fit": null,
            "object_position": null,
            "order": null,
            "overflow": null,
            "overflow_x": null,
            "overflow_y": null,
            "padding": "0px",
            "right": null,
            "top": null,
            "visibility": null,
            "width": "25px"
          }
        },
        "7fe6a791dc504263becdf387344fb032": {
          "model_module": "@jupyter-widgets/controls",
          "model_name": "ButtonStyleModel",
          "model_module_version": "1.5.0",
          "state": {
            "_model_module": "@jupyter-widgets/controls",
            "_model_module_version": "1.5.0",
            "_model_name": "ButtonStyleModel",
            "_view_count": null,
            "_view_module": "@jupyter-widgets/base",
            "_view_module_version": "1.2.0",
            "_view_name": "StyleView",
            "button_color": null,
            "font_weight": ""
          }
        }
      }
    }
  },
  "cells": [
    {
      "cell_type": "markdown",
      "metadata": {
        "id": "view-in-github",
        "colab_type": "text"
      },
      "source": [
        "<a href=\"https://colab.research.google.com/github/phaustin/a301_eoas/blob/main/read_landsat_ee.ipynb\" target=\"_parent\"><img src=\"https://colab.research.google.com/assets/colab-badge.svg\" alt=\"Open In Colab\"/></a>"
      ]
    },
    {
      "cell_type": "code",
      "metadata": {
        "id": "8kdsGkYJXXKc"
      },
      "source": [
        "#@title Copyright 2020 The Earth Engine Community Authors { display-mode: \"form\" }\n",
        "#\n",
        "# Licensed under the Apache License, Version 2.0 (the \"License\");\n",
        "# you may not use this file except in compliance with the License.\n",
        "# You may obtain a copy of the License at\n",
        "#\n",
        "# https://www.apache.org/licenses/LICENSE-2.0\n",
        "#\n",
        "# Unless required by applicable law or agreed to in writing, software\n",
        "# distributed under the License is distributed on an \"AS IS\" BASIS,\n",
        "# WITHOUT WARRANTIES OR CONDITIONS OF ANY KIND, either express or implied.\n",
        "# See the License for the specific language governing permissions and\n",
        "# limitations under the License."
      ],
      "execution_count": null,
      "outputs": []
    },
    {
      "cell_type": "markdown",
      "metadata": {
        "id": "l18M9_r5XmAQ"
      },
      "source": [
        "# An Intro to the Earth Engine Python API\n",
        "\n",
        "Author: guiattard\n",
        "\n",
        "Within the last decade, a large amount of geospatial data, such as satellite data (e.g. land surface temperature, vegetation) or the output of large scale, even global models (e.g. wind speed, groundwater recharge), have become freely available from multiple national agencies and universities (e.g. NASA, USGS, NOAA, and ESA). These geospatial data are used every day by scientists and engineers of all fields, to predict weather, prevent disasters, secure water supply, or study the consequences of climate change. When using these geospatial data, a few questions arise:\n",
        "\n",
        "- What data are available and where can it be found?\n",
        "- How can we access these data?\n",
        "- How can we manipulate these petabytes of data?\n",
        "\n",
        "In this tutorial, an introduction to the [Google Earth Engine Python API](https://developers.google.com/earth-engine/guides/python_install) is presented. After some setup and some exploration of the Earth Engine Data Catalog, we’ll see how to handle geospatial datasets with [pandas](https://pandas.pydata.org/) and make some plots with matplotlib.\n",
        "\n",
        "First, we’ll see how to get the timeseries of a variable for a region of interest. An application of this procedure will be done to extract land surface temperature in an urban and a rural area near the city of Lyon, France to illustrate the heat island effect. Secondly, we will detail procedures for static mapping and exporting results as a GeoTIFF.\n",
        "\n",
        "Finally, the folium library will be introduced to make interactive maps. In this last part, we’ll see how to include some GEE datasets as tile layers of a folium map."
      ]
    },
    {
      "cell_type": "code",
      "metadata": {
        "id": "XeFsiSp2aDL6",
        "colab": {
          "base_uri": "https://localhost:8080/",
          "height": 17
        },
        "outputId": "a10df717-340e-4d03-867e-514e85c11a1a"
      },
      "source": [
        "import ee\n",
        "import geemap.core as geemap\n",
        "import geemap as gem\n",
        "\n",
        "# Trigger the authentication flow.\n",
        "ee.Authenticate()\n",
        "\n",
        "# Initialize the library.\n",
        "ee.Initialize(project='ee-a301')"
      ],
      "execution_count": 55,
      "outputs": [
        {
          "output_type": "display_data",
          "data": {
            "text/plain": [
              "<IPython.core.display.HTML object>"
            ],
            "text/html": [
              "\n",
              "            <style>\n",
              "                .geemap-dark {\n",
              "                    --jp-widgets-color: white;\n",
              "                    --jp-widgets-label-color: white;\n",
              "                    --jp-ui-font-color1: white;\n",
              "                    --jp-layout-color2: #454545;\n",
              "                    background-color: #383838;\n",
              "                }\n",
              "\n",
              "                .geemap-dark .jupyter-button {\n",
              "                    --jp-layout-color3: #383838;\n",
              "                }\n",
              "\n",
              "                .geemap-colab {\n",
              "                    background-color: var(--colab-primary-surface-color, white);\n",
              "                }\n",
              "\n",
              "                .geemap-colab .jupyter-button {\n",
              "                    --jp-layout-color3: var(--colab-primary-surface-color, white);\n",
              "                }\n",
              "            </style>\n",
              "            "
            ]
          },
          "metadata": {}
        }
      ]
    },
    {
      "cell_type": "code",
      "source": [
        "gem.ee_to_numpy"
      ],
      "metadata": {
        "colab": {
          "base_uri": "https://localhost:8080/",
          "height": 187
        },
        "id": "159aonZb0tDN",
        "outputId": "9cdaf826-09d1-40ef-f46e-d7b72599a908"
      },
      "execution_count": 56,
      "outputs": [
        {
          "output_type": "display_data",
          "data": {
            "text/plain": [
              "<IPython.core.display.HTML object>"
            ],
            "text/html": [
              "\n",
              "            <style>\n",
              "                .geemap-dark {\n",
              "                    --jp-widgets-color: white;\n",
              "                    --jp-widgets-label-color: white;\n",
              "                    --jp-ui-font-color1: white;\n",
              "                    --jp-layout-color2: #454545;\n",
              "                    background-color: #383838;\n",
              "                }\n",
              "\n",
              "                .geemap-dark .jupyter-button {\n",
              "                    --jp-layout-color3: #383838;\n",
              "                }\n",
              "\n",
              "                .geemap-colab {\n",
              "                    background-color: var(--colab-primary-surface-color, white);\n",
              "                }\n",
              "\n",
              "                .geemap-colab .jupyter-button {\n",
              "                    --jp-layout-color3: var(--colab-primary-surface-color, white);\n",
              "                }\n",
              "            </style>\n",
              "            "
            ]
          },
          "metadata": {}
        },
        {
          "output_type": "execute_result",
          "data": {
            "text/plain": [
              "<function geemap.common.ee_to_numpy(ee_object, region=None, scale=None, bands=None, **kwargs)>"
            ],
            "text/html": [
              "<div style=\"max-width:800px; border: 1px solid var(--colab-border-color);\"><style>\n",
              "      pre.function-repr-contents {\n",
              "        overflow-x: auto;\n",
              "        padding: 8px 12px;\n",
              "        max-height: 500px;\n",
              "      }\n",
              "\n",
              "      pre.function-repr-contents.function-repr-contents-collapsed {\n",
              "        cursor: pointer;\n",
              "        max-height: 100px;\n",
              "      }\n",
              "    </style>\n",
              "    <pre style=\"white-space: initial; background:\n",
              "         var(--colab-secondary-surface-color); padding: 8px 12px;\n",
              "         border-bottom: 1px solid var(--colab-border-color);\"><b>geemap.common.ee_to_numpy</b><br/>def ee_to_numpy(ee_object, region=None, scale=None, bands=None, **kwargs)</pre><pre class=\"function-repr-contents function-repr-contents-collapsed\" style=\"\"><a class=\"filepath\" style=\"display:none\" href=\"#\">/usr/local/lib/python3.11/dist-packages/geemap/common.py</a>Extracts a rectangular region of pixels from an image into a numpy array.\n",
              "\n",
              "Args:\n",
              "    ee_object (ee.Image): The image to sample.\n",
              "    region (ee.Geometry, optional): The region to sample. Defaults to None.\n",
              "    bands (list, optional): The list of band names to extract. Defaults to None.\n",
              "    scale (int, optional): A nominal scale in meters of the projection to sample in. Defaults to None.\n",
              "\n",
              "Returns:\n",
              "    np.ndarray: A 3D numpy array in the format of [row, column, band].</pre>\n",
              "      <script>\n",
              "      if (google.colab.kernel.accessAllowed && google.colab.files && google.colab.files.view) {\n",
              "        for (const element of document.querySelectorAll('.filepath')) {\n",
              "          element.style.display = 'block'\n",
              "          element.onclick = (event) => {\n",
              "            event.preventDefault();\n",
              "            event.stopPropagation();\n",
              "            google.colab.files.view(element.textContent, 3111);\n",
              "          };\n",
              "        }\n",
              "      }\n",
              "      for (const element of document.querySelectorAll('.function-repr-contents')) {\n",
              "        element.onclick = (event) => {\n",
              "          event.preventDefault();\n",
              "          event.stopPropagation();\n",
              "          element.classList.toggle('function-repr-contents-collapsed');\n",
              "        };\n",
              "      }\n",
              "      </script>\n",
              "      </div>"
            ]
          },
          "metadata": {},
          "execution_count": 56
        }
      ]
    },
    {
      "cell_type": "markdown",
      "metadata": {
        "id": "u6V2UYFlPAPj"
      },
      "source": [
        "## Getting started with Collections\n",
        "\n",
        "In the Earth Engine Data Catalog, datasets can be of different types:\n",
        "\n",
        "- *Features* which are geometric objects with a list of properties. For example, a watershed with some properties such as *name* and *area*, is an `ee.Feature`.\n",
        "- *Images* which are like features, but may include several bands. For example, the ground elevation given by the USGS [here](https://developers.google.com/earth-engine/datasets/catalog/USGS_SRTMGL1_003) is an `ee.Image`.\n",
        "- *Collections* which are groups of features or images. For example, the [Global Administrative Unit Layers](https://developers.google.com/earth-engine/datasets/catalog/FAO_GAUL_2015_level0) giving administrative boundaries is a `ee.FeatureCollection` and the [MODIS Land Surface Temperature](https://developers.google.com/earth-engine/datasets/catalog/MODIS_006_MOD11A1) dataset is an `ee.ImageCollection`.\n",
        "\n",
        "If you want to know more about different data models, you may want to visit the [Earth Engine User Guide](https://developers.google.com/earth-engine).\n",
        "\n",
        "In the following sections, we work with the MODIS [land cover (LC)](https://developers.google.com/earth-engine/datasets/catalog/MODIS_006_MCD12Q1), the MODIS [land surface temperature (LST)](https://developers.google.com/earth-engine/datasets/catalog/MODIS_006_MOD11A1) and with the USGS [ground elevation (ELV)](https://developers.google.com/earth-engine/datasets/catalog/USGS_SRTMGL1_003), which are `ee.ImageCollections`. The dataset descriptions provide us with all the information we need to import and manipulate these datasets: the availability, the provider, the Earth Engine Snippet, and the available bands associated with images in the collection.\n",
        "\n",
        "Now, to import the LC, LST and ELV collections, we can copy and paste the Earth Engine Snippets:"
      ]
    },
    {
      "cell_type": "code",
      "metadata": {
        "id": "i6WDkfesPYeV"
      },
      "source": [
        "# Import the MODIS land cover collection.\n",
        "l7= ee.ImageCollection('LANDSAT/LE07/C02/T1_L2')"
      ],
      "execution_count": null,
      "outputs": []
    },
    {
      "cell_type": "markdown",
      "metadata": {
        "id": "GMMR8rvDPd9r"
      },
      "source": [
        "All of these images come in a different resolution, frequency, and possibly projection, ranging from daily images in a 1 km resolution for LST (hence an `ee.ImageCollection` — a collection of several `ee.Images`) to a single image representing data for the year 2000 in a 30 m resolution for the ELV. While we need to have an eye on the frequency, GEE takes care of resolution and projection by resampling and reprojecting all data we are going to work with to a common projection (learn more about [projections in Earth Engine](https://developers.google.com/earth-engine/guides/projections)). We can define the resolution (called scale in GEE) whenever necessary and of course have the option to force no reprojection.\n",
        "\n",
        "As you can see in the description of the datasets, they include several sets of information stored in several bands. For example, these bands are associated with the LST collection:\n",
        "\n",
        "- _LST\\_Day\\_1km_: Daytime Land Surface Temperature\n",
        "- _Day\\_view\\_time_: Local time of day observation\n",
        "- _LST\\_Night\\_1km_: Nighttime Land Surface Temperature\n",
        "- etc.\n",
        "\n",
        "The description page of the collection tells us that the name of the band associated with the daytime LST is _LST\\_Day\\_1km_ which is in units of Kelvin. In addition, values are ranging from 7,500 to 65,535 with a corrective scale of 0.02.\n",
        "\n",
        "Then, we have to filter the collection on the period of time we want. We can do that using the `filterDate()` method. We also need to select the bands we want to work with. Therefore, we decide to focus on daytime LST so we select the daytime band _LST\\_Day\\_1km_ and its associated quality indicator _QC\\_Day_ with the `select()` method."
      ]
    },
    {
      "cell_type": "code",
      "metadata": {
        "id": "jhoBd-aEPrD7"
      },
      "source": [
        "# Initial date of interest (inclusive).\n",
        "i_date = '2010-08-01'\n",
        "\n",
        "# Final date of interest (exclusive).\n",
        "f_date = '2010-08-31'\n",
        "\n",
        "# Selection of appropriate bands and dates for LST.\n",
        "l7_aug = l7.filterDate(i_date, f_date)"
      ],
      "execution_count": null,
      "outputs": []
    },
    {
      "cell_type": "code",
      "source": [
        "ubc_lon = -123.2460 #degrees West\n",
        "ubc_lat = 49.2606  # degrees North"
      ],
      "metadata": {
        "id": "LlRPBOQi2PW2",
        "colab": {
          "base_uri": "https://localhost:8080/",
          "height": 17
        },
        "outputId": "5003667a-86ac-4b3d-a72d-61c1fb929c71"
      },
      "execution_count": null,
      "outputs": [
        {
          "output_type": "display_data",
          "data": {
            "text/plain": [
              "<IPython.core.display.HTML object>"
            ],
            "text/html": [
              "\n",
              "            <style>\n",
              "                .geemap-dark {\n",
              "                    --jp-widgets-color: white;\n",
              "                    --jp-widgets-label-color: white;\n",
              "                    --jp-ui-font-color1: white;\n",
              "                    --jp-layout-color2: #454545;\n",
              "                    background-color: #383838;\n",
              "                }\n",
              "\n",
              "                .geemap-dark .jupyter-button {\n",
              "                    --jp-layout-color3: #383838;\n",
              "                }\n",
              "\n",
              "                .geemap-colab {\n",
              "                    background-color: var(--colab-primary-surface-color, white);\n",
              "                }\n",
              "\n",
              "                .geemap-colab .jupyter-button {\n",
              "                    --jp-layout-color3: var(--colab-primary-surface-color, white);\n",
              "                }\n",
              "            </style>\n",
              "            "
            ]
          },
          "metadata": {}
        }
      ]
    },
    {
      "cell_type": "code",
      "source": [
        "\n",
        "# Filter the collection to select scenes with less than 70% cloud cover\n",
        "filtered_collection = l7_aug.filterMetadata('CLOUD_COVER', 'less_than', 10)\n",
        "\n",
        "# Print the number of scenes in the filtered collection\n",
        "print('Number of scenes with less than 10% cloud cover:', filtered_collection.size().getInfo())"
      ],
      "metadata": {
        "id": "DwyoAYIY10ay"
      },
      "execution_count": null,
      "outputs": []
    },
    {
      "cell_type": "code",
      "source": [
        "l7_aug=l7_aug.select()"
      ],
      "metadata": {
        "colab": {
          "base_uri": "https://localhost:8080/"
        },
        "id": "12_CPfXRLHrD",
        "outputId": "0c6e3c91-5b0f-4969-b11d-52b6c60a8e0f"
      },
      "execution_count": null,
      "outputs": [
        {
          "output_type": "execute_result",
          "data": {
            "text/plain": [
              "<ee.imagecollection.ImageCollection at 0x787b969c8b50>"
            ]
          },
          "metadata": {},
          "execution_count": 10
        }
      ]
    },
    {
      "cell_type": "markdown",
      "metadata": {
        "id": "fIQrdLTxPvKT"
      },
      "source": [
        "Now, we can either upload existing shape files or define some points with longitude and latitude coordinates where we want to know more about LC, LST and ELV. For this example, let's use two point locations:\n",
        "\n",
        "- The first one in the urban area of Lyon, France\n",
        "- The second one, 30 kilometers away from the city center, in a rural area"
      ]
    },
    {
      "cell_type": "code",
      "source": [
        "# Load Landsat 8 data, filter by date, month, and bounds.\n",
        "collection = (\n",
        "    #ee.ImageCollection('LANDSAT/LC08/C02/T1_TOA')\n",
        "    ee.ImageCollection('LANDSAT/LE07/C02/T1_L2')\n",
        "    # Three years of data\n",
        "    .filterDate('2008-01-01', '2010-01-01')\n",
        "    # Only July-Aug observations\n",
        "    .filter(ee.Filter.calendarRange(7, 8, 'month'))\n",
        "    # Intersecting ROI\n",
        "    .filterBounds(ee.Geometry.Point(ubc_lon, ubc_lat))\n",
        ")\n",
        "\n",
        "# # Also filter the collection by the CLOUD_COVER property.\n",
        "# filtered = collection.filter(ee.Filter.lt('CLOUD_COVER',15))\n",
        "\n",
        "# # Create two composites to check the effect of filtering by CLOUD_COVER.\n",
        "# bad_composite = collection.mean()\n",
        "# good_composite = filtered.mean()\n",
        "\n",
        "# # Display the composites.\n",
        "# m = geemap.Map()\n",
        "# m.set_center(25.8544, -18.08874, 13)\n",
        "# m.add_layer(\n",
        "#     bad_composite,\n",
        "#     {'bands': ['SR_B3', 'SR_B2', 'SR_B1'], 'min': 0.05, 'max': 0.35, 'gamma': 1.1},\n",
        "#     'Bad composite',\n",
        "# )\n",
        "# m.add_layer(\n",
        "#     good_composite,\n",
        "#     {'bands': ['SR_B3', 'SR_B2', 'SR_B1'], 'min': 0.05, 'max': 0.35, 'gamma': 1.1},\n",
        "#     'Good composite',\n",
        "# )\n",
        "# m"
      ],
      "metadata": {
        "colab": {
          "base_uri": "https://localhost:8080/",
          "height": 17
        },
        "id": "qBSRCZJ5_l-k",
        "outputId": "d59b0d69-3dae-4c2e-8ec2-b311b52d3a2c"
      },
      "execution_count": 49,
      "outputs": [
        {
          "output_type": "display_data",
          "data": {
            "text/plain": [
              "<IPython.core.display.HTML object>"
            ],
            "text/html": [
              "\n",
              "            <style>\n",
              "                .geemap-dark {\n",
              "                    --jp-widgets-color: white;\n",
              "                    --jp-widgets-label-color: white;\n",
              "                    --jp-ui-font-color1: white;\n",
              "                    --jp-layout-color2: #454545;\n",
              "                    background-color: #383838;\n",
              "                }\n",
              "\n",
              "                .geemap-dark .jupyter-button {\n",
              "                    --jp-layout-color3: #383838;\n",
              "                }\n",
              "\n",
              "                .geemap-colab {\n",
              "                    background-color: var(--colab-primary-surface-color, white);\n",
              "                }\n",
              "\n",
              "                .geemap-colab .jupyter-button {\n",
              "                    --jp-layout-color3: var(--colab-primary-surface-color, white);\n",
              "                }\n",
              "            </style>\n",
              "            "
            ]
          },
          "metadata": {}
        }
      ]
    },
    {
      "cell_type": "code",
      "source": [
        "collection.size()"
      ],
      "metadata": {
        "colab": {
          "base_uri": "https://localhost:8080/",
          "height": 68
        },
        "id": "OY3oGtOpzEZF",
        "outputId": "396d5604-195c-42ce-e0cf-a2c8c46c0381"
      },
      "execution_count": 50,
      "outputs": [
        {
          "output_type": "display_data",
          "data": {
            "text/plain": [
              "<IPython.core.display.HTML object>"
            ],
            "text/html": [
              "\n",
              "            <style>\n",
              "                .geemap-dark {\n",
              "                    --jp-widgets-color: white;\n",
              "                    --jp-widgets-label-color: white;\n",
              "                    --jp-ui-font-color1: white;\n",
              "                    --jp-layout-color2: #454545;\n",
              "                    background-color: #383838;\n",
              "                }\n",
              "\n",
              "                .geemap-dark .jupyter-button {\n",
              "                    --jp-layout-color3: #383838;\n",
              "                }\n",
              "\n",
              "                .geemap-colab {\n",
              "                    background-color: var(--colab-primary-surface-color, white);\n",
              "                }\n",
              "\n",
              "                .geemap-colab .jupyter-button {\n",
              "                    --jp-layout-color3: var(--colab-primary-surface-color, white);\n",
              "                }\n",
              "            </style>\n",
              "            "
            ]
          },
          "metadata": {}
        },
        {
          "output_type": "execute_result",
          "data": {
            "text/plain": [
              "<ee.ee_number.Number at 0x7fab3a8f00d0>"
            ],
            "text/html": [
              "<div><style>:root {\n",
              "  --font-color-primary: var(--jp-content-font-color0, rgba(0, 0, 0, 1));\n",
              "  --font-color-secondary: var(--jp-content-font-color2, rgba(0, 0, 0, 0.7));\n",
              "  --font-color-accent: rgba(123, 31, 162, 1);\n",
              "  --border-color: var(--jp-border-color2, #e0e0e0);\n",
              "  --background-color: var(--jp-layout-color0, white);\n",
              "  --background-color-row-even: var(--jp-layout-color1, white);\n",
              "  --background-color-row-odd: var(--jp-layout-color2, #eeeeee);\n",
              "}\n",
              "\n",
              "html[theme=\"dark\"],\n",
              "body[data-theme=\"dark\"],\n",
              "body.vscode-dark {\n",
              "  --font-color-primary: rgba(255, 255, 255, 1);\n",
              "  --font-color-secondary: rgba(255, 255, 255, 0.7);\n",
              "  --font-color-accent: rgb(173, 132, 190);\n",
              "  --border-color: #2e2e2e;\n",
              "  --background-color: #111111;\n",
              "  --background-color-row-even: #111111;\n",
              "  --background-color-row-odd: #313131;\n",
              "}\n",
              "\n",
              ".eerepr {\n",
              "  padding: 1em;\n",
              "  line-height: 1.5em;\n",
              "  min-width: 300px;\n",
              "  max-width: 1200px;\n",
              "  overflow-y: scroll;\n",
              "  max-height: 600px;\n",
              "  border: 1px solid var(--border-color);\n",
              "  font-family: monospace;\n",
              "  font-size: 14px;\n",
              "}\n",
              "\n",
              ".eerepr li {\n",
              "  list-style-type: none;\n",
              "  margin: 0;\n",
              "}\n",
              "\n",
              ".eerepr ul {\n",
              "  padding-left: 1.5em !important;\n",
              "  margin: 0;\n",
              "}\n",
              "\n",
              ".eerepr > ul {\n",
              "  padding-left: 0 !important;\n",
              "}\n",
              "\n",
              ".eerepr summary {\n",
              "  color: var(--font-color-secondary);\n",
              "  cursor: pointer;\n",
              "  margin: 0;\n",
              "}\n",
              "\n",
              ".eerepr summary:hover {\n",
              "  color: var(--font-color-primary);\n",
              "  background-color: var(--background-color-row-odd)\n",
              "}\n",
              "\n",
              ".ee-k {\n",
              "  color: var(--font-color-accent);\n",
              "  margin-right: 6px;\n",
              "}\n",
              "\n",
              ".ee-v {\n",
              "  color: var(--font-color-primary);\n",
              "}\n",
              "\n",
              ".eerepr details > summary::before {\n",
              "  content: '▼';\n",
              "  display: inline-block;\n",
              "  margin-right: 6px;\n",
              "  transition: transform 0.2s;\n",
              "  transform: rotate(-90deg);\n",
              "}\n",
              "\n",
              ".eerepr details[open] > summary::before {\n",
              "  transform: rotate(0deg);\n",
              "}\n",
              "\n",
              ".eerepr details summary::-webkit-details-marker {\n",
              "  display:none;\n",
              "}\n",
              "\n",
              ".eerepr details summary {\n",
              "  list-style-type: none;\n",
              "}\n",
              "</style><div class='eerepr'><ul><li><span class='ee-v'>14</span></li></ul></div></div>"
            ]
          },
          "metadata": {},
          "execution_count": 50
        }
      ]
    },
    {
      "cell_type": "code",
      "source": [
        "cloud_cover_values = collection.aggregate_array('CLOUD_COVER').getInfo()\n",
        "print(cloud_cover_values)"
      ],
      "metadata": {
        "colab": {
          "base_uri": "https://localhost:8080/",
          "height": 35
        },
        "id": "Whcl43dNzo__",
        "outputId": "561c0080-db0e-40e5-8658-4b1444a6b044"
      },
      "execution_count": 52,
      "outputs": [
        {
          "output_type": "display_data",
          "data": {
            "text/plain": [
              "<IPython.core.display.HTML object>"
            ],
            "text/html": [
              "\n",
              "            <style>\n",
              "                .geemap-dark {\n",
              "                    --jp-widgets-color: white;\n",
              "                    --jp-widgets-label-color: white;\n",
              "                    --jp-ui-font-color1: white;\n",
              "                    --jp-layout-color2: #454545;\n",
              "                    background-color: #383838;\n",
              "                }\n",
              "\n",
              "                .geemap-dark .jupyter-button {\n",
              "                    --jp-layout-color3: #383838;\n",
              "                }\n",
              "\n",
              "                .geemap-colab {\n",
              "                    background-color: var(--colab-primary-surface-color, white);\n",
              "                }\n",
              "\n",
              "                .geemap-colab .jupyter-button {\n",
              "                    --jp-layout-color3: var(--colab-primary-surface-color, white);\n",
              "                }\n",
              "            </style>\n",
              "            "
            ]
          },
          "metadata": {}
        },
        {
          "output_type": "stream",
          "name": "stdout",
          "text": [
            "[89, 3, 1, 85, 72, 13, 1, 65, 99, 96, 58, 23, 79, 28]\n"
          ]
        }
      ]
    },
    {
      "cell_type": "code",
      "source": [
        "image = ee.Image(collection.toList(collection.size()).get(2))\n",
        "thumbnail_url = image.getThumbURL({\n",
        "  'bands': ['SR_B4'],\n",
        "  'min': 0,\n",
        "  'max': 0.3,\n",
        "  'region': image.geometry().bounds(),\n",
        "  'dimensions': 512,\n",
        "})\n",
        "thumbnail_url"
      ],
      "metadata": {
        "colab": {
          "base_uri": "https://localhost:8080/",
          "height": 35
        },
        "id": "NQxT10Fz44ly",
        "outputId": "4331a811-851c-44d8-fff4-0eaf2fd4630c"
      },
      "execution_count": 74,
      "outputs": [
        {
          "output_type": "display_data",
          "data": {
            "text/plain": [
              "<IPython.core.display.HTML object>"
            ],
            "text/html": [
              "\n",
              "            <style>\n",
              "                .geemap-dark {\n",
              "                    --jp-widgets-color: white;\n",
              "                    --jp-widgets-label-color: white;\n",
              "                    --jp-ui-font-color1: white;\n",
              "                    --jp-layout-color2: #454545;\n",
              "                    background-color: #383838;\n",
              "                }\n",
              "\n",
              "                .geemap-dark .jupyter-button {\n",
              "                    --jp-layout-color3: #383838;\n",
              "                }\n",
              "\n",
              "                .geemap-colab {\n",
              "                    background-color: var(--colab-primary-surface-color, white);\n",
              "                }\n",
              "\n",
              "                .geemap-colab .jupyter-button {\n",
              "                    --jp-layout-color3: var(--colab-primary-surface-color, white);\n",
              "                }\n",
              "            </style>\n",
              "            "
            ]
          },
          "metadata": {}
        },
        {
          "output_type": "execute_result",
          "data": {
            "text/plain": [
              "'https://earthengine.googleapis.com/v1/projects/ee-a301/thumbnails/5e32c7cfe82070fc7abcfcf6b93cbb41-a93a5be725be42c381e58f92f885e2ac:getPixels'"
            ],
            "application/vnd.google.colaboratory.intrinsic+json": {
              "type": "string"
            }
          },
          "metadata": {},
          "execution_count": 74
        }
      ]
    },
    {
      "cell_type": "code",
      "source": [
        "# prompt: get png file for thumbnail of single band in image\n",
        "\n",
        "# Get the first image in the collection\n",
        "first_image = ee.Image(collection.first())\n",
        "\n",
        "# Define visualization parameters for the desired band (e.g., 'SR_B4')\n",
        "vis_params = {\n",
        "    'bands': ['SR_B4'],\n",
        "    'min': 0,\n",
        "    'max': 0.3,\n",
        "    'dimensions': 512  # Adjust the dimensions as needed\n",
        "}\n",
        "\n",
        "\n",
        "# Generate the thumbnail URL\n",
        "thumbnail_url = first_image.getThumbURL(vis_params)\n",
        "\n",
        "\n",
        "# Display the thumbnail URL (you can also save it as an image if needed)\n",
        "thumbnail_url\n",
        "\n",
        "# Optionally save the thumbnail as a PNG file\n",
        "# import requests\n",
        "# from io import BytesIO\n",
        "# from PIL import Image\n",
        "\n",
        "# response = requests.get(thumbnail_url)\n",
        "# image = Image.open(BytesIO(response.content))\n",
        "# image.save(\"thumbnail.png\")\n"
      ],
      "metadata": {
        "id": "oIXGRlL85ebZ"
      },
      "execution_count": null,
      "outputs": []
    },
    {
      "cell_type": "code",
      "source": [
        "# prompt: mask the image for cloud and water\n",
        "\n",
        "# Import the necessary libraries if not already imported.\n",
        "import ee\n",
        "import geemap.core as geemap\n",
        "import geemap as gem\n",
        "\n",
        "# Assuming 'collection' is defined as in your provided code.\n",
        "\n",
        "# Function to mask clouds and water\n",
        "def maskCloudsAndWater(image):\n",
        "    qa = image.select('QA_PIXEL')\n",
        "    # Bits 3 and 5 are cloud shadow and cloud, respectively.\n",
        "    cloud = qa.bitwiseAnd(1 << 3).eq(0)\n",
        "    cloudShadows = qa.bitwiseAnd(1 << 5).eq(0)\n",
        "    # Water bit\n",
        "    water = qa.bitwiseAnd(1 << 2).eq(0)  # Assuming bit 2 represents water\n",
        "    mask = cloud.And(cloudShadows).And(water)\n",
        "    return image.updateMask(mask)\n",
        "\n",
        "# Apply the cloud and water masking function to the image collection\n",
        "masked_collection = collection.map(maskCloudsAndWater)\n",
        "\n",
        "# Example: Display the first masked image\n",
        "first_masked_image = ee.Image(masked_collection.first())\n",
        "\n",
        "# Define visualization parameters (adjust as needed)\n",
        "vis_params = {\n",
        "    'bands': ['SR_B4', 'SR_B3', 'SR_B2'],  # Example bands\n",
        "    'min': 0,\n",
        "    'max': 0.3,\n",
        "    'dimensions': 512\n",
        "}\n",
        "\n",
        "# Generate the thumbnail URL of the masked image\n",
        "thumbnail_url = first_masked_image.getThumbURL(vis_params)\n",
        "\n",
        "# Print or display the thumbnail URL\n",
        "thumbnail_url\n",
        "\n",
        "# You can then use the masked_collection for further analysis.\n"
      ],
      "metadata": {
        "id": "UNzWlQOm7ANN"
      },
      "execution_count": null,
      "outputs": []
    },
    {
      "cell_type": "code",
      "source": [
        "# prompt: clip collection to a roi of 10 km around (ubc_lon, ubc_lat)\n",
        "\n",
        "# Define the region of interest (ROI)\n",
        "roi = ee.Geometry.Point(ubc_lon, ubc_lat).buffer(10000) # 10 km buffer\n",
        "\n",
        "# Clip the image collection to the ROI\n",
        "clipped_collection = collection.map(lambda image: image.clip(roi))\n",
        "\n",
        "# Print the number of scenes in the clipped collection\n",
        "print('Number of scenes in the clipped collection:', clipped_collection.size().getInfo())\n",
        "\n",
        "# You can now further process the clipped_collection\n",
        "# For example, create a mosaic or calculate statistics within the ROI\n"
      ],
      "metadata": {
        "id": "jXuTl0Vscs2t",
        "colab": {
          "base_uri": "https://localhost:8080/",
          "height": 35
        },
        "outputId": "357c3fce-0200-46b1-bddb-dd2fc118e72e"
      },
      "execution_count": 51,
      "outputs": [
        {
          "output_type": "display_data",
          "data": {
            "text/plain": [
              "<IPython.core.display.HTML object>"
            ],
            "text/html": [
              "\n",
              "            <style>\n",
              "                .geemap-dark {\n",
              "                    --jp-widgets-color: white;\n",
              "                    --jp-widgets-label-color: white;\n",
              "                    --jp-ui-font-color1: white;\n",
              "                    --jp-layout-color2: #454545;\n",
              "                    background-color: #383838;\n",
              "                }\n",
              "\n",
              "                .geemap-dark .jupyter-button {\n",
              "                    --jp-layout-color3: #383838;\n",
              "                }\n",
              "\n",
              "                .geemap-colab {\n",
              "                    background-color: var(--colab-primary-surface-color, white);\n",
              "                }\n",
              "\n",
              "                .geemap-colab .jupyter-button {\n",
              "                    --jp-layout-color3: var(--colab-primary-surface-color, white);\n",
              "                }\n",
              "            </style>\n",
              "            "
            ]
          },
          "metadata": {}
        },
        {
          "output_type": "stream",
          "name": "stdout",
          "text": [
            "Number of scenes in the clipped collection: 14\n"
          ]
        }
      ]
    },
    {
      "cell_type": "code",
      "source": [
        "cloud_cover_values = clipped_collection.aggregate_array('CLOUD_COVER').getInfo()\n",
        "print(cloud_cover_values)"
      ],
      "metadata": {
        "colab": {
          "base_uri": "https://localhost:8080/",
          "height": 35
        },
        "id": "QuZdWEaRz0aN",
        "outputId": "0174093f-914f-4c2e-afd2-8013a9e741cb"
      },
      "execution_count": 53,
      "outputs": [
        {
          "output_type": "display_data",
          "data": {
            "text/plain": [
              "<IPython.core.display.HTML object>"
            ],
            "text/html": [
              "\n",
              "            <style>\n",
              "                .geemap-dark {\n",
              "                    --jp-widgets-color: white;\n",
              "                    --jp-widgets-label-color: white;\n",
              "                    --jp-ui-font-color1: white;\n",
              "                    --jp-layout-color2: #454545;\n",
              "                    background-color: #383838;\n",
              "                }\n",
              "\n",
              "                .geemap-dark .jupyter-button {\n",
              "                    --jp-layout-color3: #383838;\n",
              "                }\n",
              "\n",
              "                .geemap-colab {\n",
              "                    background-color: var(--colab-primary-surface-color, white);\n",
              "                }\n",
              "\n",
              "                .geemap-colab .jupyter-button {\n",
              "                    --jp-layout-color3: var(--colab-primary-surface-color, white);\n",
              "                }\n",
              "            </style>\n",
              "            "
            ]
          },
          "metadata": {}
        },
        {
          "output_type": "stream",
          "name": "stdout",
          "text": [
            "[89, 3, 1, 85, 72, 13, 1, 65, 99, 96, 58, 23, 79, 28]\n"
          ]
        }
      ]
    },
    {
      "cell_type": "code",
      "source": [
        "# prompt: get the third image from a collection\n",
        "\n",
        "# Assuming 'clipped_collection' is your image collection.\n",
        "try:\n",
        "  third_image = ee.Image(clipped_collection.toList(clipped_collection.size()).get(2))\n",
        "  print(third_image)\n",
        "except Exception as e:\n",
        "  print(f\"Error accessing the third image: {e}\")\n",
        "  print(\"Check if your collection has at least three images.\")\n"
      ],
      "metadata": {
        "id": "uInIu2wx1_NA"
      },
      "execution_count": null,
      "outputs": []
    },
    {
      "cell_type": "code",
      "source": [
        "image = ee.Image(clipped_collection.toList(clipped_collection.size()).get(2))\n",
        "thumbnail_url = image.getThumbURL({\n",
        "  'bands': ['SR_B4', 'SR_B3', 'SR_B2'],\n",
        "  'min': 0,\n",
        "  'max': 0.3,\n",
        "  'region': image.geometry().bounds(),\n",
        "  'dimensions': 512,\n",
        "})\n",
        "thumbnail_url"
      ],
      "metadata": {
        "colab": {
          "base_uri": "https://localhost:8080/",
          "height": 35
        },
        "id": "jQuKx0Js3Yzb",
        "outputId": "7fd52a9e-8c65-45ef-aa2c-677b0e274b33"
      },
      "execution_count": 71,
      "outputs": [
        {
          "output_type": "display_data",
          "data": {
            "text/plain": [
              "<IPython.core.display.HTML object>"
            ],
            "text/html": [
              "\n",
              "            <style>\n",
              "                .geemap-dark {\n",
              "                    --jp-widgets-color: white;\n",
              "                    --jp-widgets-label-color: white;\n",
              "                    --jp-ui-font-color1: white;\n",
              "                    --jp-layout-color2: #454545;\n",
              "                    background-color: #383838;\n",
              "                }\n",
              "\n",
              "                .geemap-dark .jupyter-button {\n",
              "                    --jp-layout-color3: #383838;\n",
              "                }\n",
              "\n",
              "                .geemap-colab {\n",
              "                    background-color: var(--colab-primary-surface-color, white);\n",
              "                }\n",
              "\n",
              "                .geemap-colab .jupyter-button {\n",
              "                    --jp-layout-color3: var(--colab-primary-surface-color, white);\n",
              "                }\n",
              "            </style>\n",
              "            "
            ]
          },
          "metadata": {}
        },
        {
          "output_type": "execute_result",
          "data": {
            "text/plain": [
              "'https://earthengine.googleapis.com/v1/projects/ee-a301/thumbnails/f7e440163849b3c71de292ce67645139-c0df2ee3474e8255d4f0896ff96e99ae:getPixels'"
            ],
            "application/vnd.google.colaboratory.intrinsic+json": {
              "type": "string"
            }
          },
          "metadata": {},
          "execution_count": 71
        }
      ]
    },
    {
      "cell_type": "code",
      "source": [
        "image.geometry().bounds()"
      ],
      "metadata": {
        "colab": {
          "base_uri": "https://localhost:8080/",
          "height": 257
        },
        "id": "GoAKB77w4jqk",
        "outputId": "868082f6-5fee-4ced-fa6a-9ff803d02eed"
      },
      "execution_count": 72,
      "outputs": [
        {
          "output_type": "display_data",
          "data": {
            "text/plain": [
              "<IPython.core.display.HTML object>"
            ],
            "text/html": [
              "\n",
              "            <style>\n",
              "                .geemap-dark {\n",
              "                    --jp-widgets-color: white;\n",
              "                    --jp-widgets-label-color: white;\n",
              "                    --jp-ui-font-color1: white;\n",
              "                    --jp-layout-color2: #454545;\n",
              "                    background-color: #383838;\n",
              "                }\n",
              "\n",
              "                .geemap-dark .jupyter-button {\n",
              "                    --jp-layout-color3: #383838;\n",
              "                }\n",
              "\n",
              "                .geemap-colab {\n",
              "                    background-color: var(--colab-primary-surface-color, white);\n",
              "                }\n",
              "\n",
              "                .geemap-colab .jupyter-button {\n",
              "                    --jp-layout-color3: var(--colab-primary-surface-color, white);\n",
              "                }\n",
              "            </style>\n",
              "            "
            ]
          },
          "metadata": {}
        },
        {
          "output_type": "execute_result",
          "data": {
            "text/plain": [
              "ee.Geometry({\n",
              "  \"functionInvocationValue\": {\n",
              "    \"functionName\": \"Geometry.bounds\",\n",
              "    \"arguments\": {\n",
              "      \"geometry\": {\n",
              "        \"functionInvocationValue\": {\n",
              "          \"functionName\": \"Image.geometry\",\n",
              "          \"arguments\": {\n",
              "            \"feature\": {\n",
              "              \"functionInvocationValue\": {\n",
              "                \"functionName\": \"List.get\",\n",
              "                \"arguments\": {\n",
              "                  \"index\": {\n",
              "                    \"constantValue\": 2\n",
              "                  },\n",
              "                  \"list\": {\n",
              "                    \"functionInvocationValue\": {\n",
              "                      \"functionName\": \"Collection.toList\",\n",
              "                      \"arguments\": {\n",
              "                        \"collection\": {\n",
              "                          \"functionInvocationValue\": {\n",
              "                            \"functionName\": \"Collection.map\",\n",
              "                            \"arguments\": {\n",
              "                              \"baseAlgorithm\": {\n",
              "                                \"functionDefinitionValue\": {\n",
              "                                  \"argumentNames\": [\n",
              "                                    \"_MAPPING_VAR_0_0\"\n",
              "                                  ],\n",
              "                                  \"body\": {\n",
              "                                    \"functionInvocationValue\": {\n",
              "                                      \"functionName\": \"Image.clip\",\n",
              "                                      \"arguments\": {\n",
              "                                        \"geometry\": {\n",
              "                                          \"functionInvocationValue\": {\n",
              "                                            \"functionName\": \"Geometry.buffer\",\n",
              "                                            \"arguments\": {\n",
              "                                              \"distance\": {\n",
              "                                                \"constantValue\": 10000\n",
              "                                              },\n",
              "                                              \"geometry\": {\n",
              "                                                \"functionInvocationValue\": {\n",
              "                                                  \"functionName\": \"GeometryConstructors.Point\",\n",
              "                                                  \"arguments\": {\n",
              "                                                    \"coordinates\": {\n",
              "                                                      \"constantValue\": [\n",
              "                                                        -123.246,\n",
              "                                                        49.2606\n",
              "                                                      ]\n",
              "                                                    }\n",
              "                                                  }\n",
              "                                                }\n",
              "                                              }\n",
              "                                            }\n",
              "                                          }\n",
              "                                        },\n",
              "                                        \"input\": {\n",
              "                                          \"argumentReference\": \"_MAPPING_VAR_0_0\"\n",
              "                                        }\n",
              "                                      }\n",
              "                                    }\n",
              "                                  }\n",
              "                                }\n",
              "                              },\n",
              "                              \"collection\": {\n",
              "                                \"functionInvocationValue\": {\n",
              "                                  \"functionName\": \"Collection.filter\",\n",
              "                                  \"arguments\": {\n",
              "                                    \"collection\": {\n",
              "                                      \"functionInvocationValue\": {\n",
              "                                        \"functionName\": \"Collection.filter\",\n",
              "                                        \"arguments\": {\n",
              "                                          \"collection\": {\n",
              "                                            \"functionInvocationValue\": {\n",
              "                                              \"functionName\": \"Collection.filter\",\n",
              "                                              \"arguments\": {\n",
              "                                                \"collection\": {\n",
              "                                                  \"functionInvocationValue\": {\n",
              "                                                    \"functionName\": \"ImageCollection.load\",\n",
              "                                                    \"arguments\": {\n",
              "                                                      \"id\": {\n",
              "                                                        \"constantValue\": \"LANDSAT/LE07/C02/T1_L2\"\n",
              "                                                      }\n",
              "                                                    }\n",
              "                                                  }\n",
              "                                                },\n",
              "                                                \"filter\": {\n",
              "                                                  \"functionInvocationValue\": {\n",
              "                                                    \"functionName\": \"Filter.dateRangeContains\",\n",
              "                                                    \"arguments\": {\n",
              "                                                      \"leftValue\": {\n",
              "                                                        \"functionInvocationValue\": {\n",
              "                                                          \"functionName\": \"DateRange\",\n",
              "                                                          \"arguments\": {\n",
              "                                                            \"end\": {\n",
              "                                                              \"constantValue\": \"2010-01-01\"\n",
              "                                                            },\n",
              "                                                            \"start\": {\n",
              "                                                              \"constantValue\": \"2008-01-01\"\n",
              "                                                            }\n",
              "                                                          }\n",
              "                                                        }\n",
              "                                                      },\n",
              "                                                      \"rightField\": {\n",
              "                                                        \"constantValue\": \"system:time_start\"\n",
              "                                                      }\n",
              "                                                    }\n",
              "                                                  }\n",
              "                                                }\n",
              "                                              }\n",
              "                                            }\n",
              "                                          },\n",
              "                                          \"filter\": {\n",
              "                                            \"functionInvocationValue\": {\n",
              "                                              \"functionName\": \"Filter.calendarRange\",\n",
              "                                              \"arguments\": {\n",
              "                                                \"end\": {\n",
              "                                                  \"constantValue\": 8\n",
              "                                                },\n",
              "                                                \"field\": {\n",
              "                                                  \"constantValue\": \"month\"\n",
              "                                                },\n",
              "                                                \"start\": {\n",
              "                                                  \"constantValue\": 7\n",
              "                                                }\n",
              "                                              }\n",
              "                                            }\n",
              "                                          }\n",
              "                                        }\n",
              "                                      }\n",
              "                                    },\n",
              "                                    \"filter\": {\n",
              "                                      \"functionInvocationValue\": {\n",
              "                                        \"functionName\": \"Filter.intersects\",\n",
              "                                        \"arguments\": {\n",
              "                                          \"leftField\": {\n",
              "                                            \"constantValue\": \".all\"\n",
              "                                          },\n",
              "                                          \"rightValue\": {\n",
              "                                            \"functionInvocationValue\": {\n",
              "                                              \"functionName\": \"Feature\",\n",
              "                                              \"arguments\": {\n",
              "                                                \"geometry\": {\n",
              "                                                  \"functionInvocationValue\": {\n",
              "                                                    \"functionName\": \"GeometryConstructors.Point\",\n",
              "                                                    \"arguments\": {\n",
              "                                                      \"coordinates\": {\n",
              "                                                        \"constantValue\": [\n",
              "                                                          -123.246,\n",
              "                                                          49.2606\n",
              "                                                        ]\n",
              "                                                      }\n",
              "                                                    }\n",
              "                                                  }\n",
              "                                                }\n",
              "                                              }\n",
              "                                            }\n",
              "                                          }\n",
              "                                        }\n",
              "                                      }\n",
              "                                    }\n",
              "                                  }\n",
              "                                }\n",
              "                              }\n",
              "                            }\n",
              "                          }\n",
              "                        },\n",
              "                        \"count\": {\n",
              "                          \"functionInvocationValue\": {\n",
              "                            \"functionName\": \"Collection.size\",\n",
              "                            \"arguments\": {\n",
              "                              \"collection\": {\n",
              "                                \"functionInvocationValue\": {\n",
              "                                  \"functionName\": \"Collection.map\",\n",
              "                                  \"arguments\": {\n",
              "                                    \"baseAlgorithm\": {\n",
              "                                      \"functionDefinitionValue\": {\n",
              "                                        \"argumentNames\": [\n",
              "                                          \"_MAPPING_VAR_0_0\"\n",
              "                                        ],\n",
              "                                        \"body\": {\n",
              "                                          \"functionInvocationValue\": {\n",
              "                                            \"functionName\": \"Image.clip\",\n",
              "                                            \"arguments\": {\n",
              "                                              \"geometry\": {\n",
              "                                                \"functionInvocationValue\": {\n",
              "                                                  \"functionName\": \"Geometry.buffer\",\n",
              "                                                  \"arguments\": {\n",
              "                                                    \"distance\": {\n",
              "                                                      \"constantValue\": 10000\n",
              "                                                    },\n",
              "                                                    \"geometry\": {\n",
              "                                                      \"functionInvocationValue\": {\n",
              "                                                        \"functionName\": \"GeometryConstructors.Point\",\n",
              "                                                        \"arguments\": {\n",
              "                                                          \"coordinates\": {\n",
              "                                                            \"constantValue\": [\n",
              "                                                              -123.246,\n",
              "                                                              49.2606\n",
              "                                                            ]\n",
              "                                                          }\n",
              "                                                        }\n",
              "                                                      }\n",
              "                                                    }\n",
              "                                                  }\n",
              "                                                }\n",
              "                                              },\n",
              "                                              \"input\": {\n",
              "                                                \"argumentReference\": \"_MAPPING_VAR_0_0\"\n",
              "                                              }\n",
              "                                            }\n",
              "                                          }\n",
              "                                        }\n",
              "                                      }\n",
              "                                    },\n",
              "                                    \"collection\": {\n",
              "                                      \"functionInvocationValue\": {\n",
              "                                        \"functionName\": \"Collection.filter\",\n",
              "                                        \"arguments\": {\n",
              "                                          \"collection\": {\n",
              "                                            \"functionInvocationValue\": {\n",
              "                                              \"functionName\": \"Collection.filter\",\n",
              "                                              \"arguments\": {\n",
              "                                                \"collection\": {\n",
              "                                                  \"functionInvocationValue\": {\n",
              "                                                    \"functionName\": \"Collection.filter\",\n",
              "                                                    \"arguments\": {\n",
              "                                                      \"collection\": {\n",
              "                                                        \"functionInvocationValue\": {\n",
              "                                                          \"functionName\": \"ImageCollection.load\",\n",
              "                                                          \"arguments\": {\n",
              "                                                            \"id\": {\n",
              "                                                              \"constantValue\": \"LANDSAT/LE07/C02/T1_L2\"\n",
              "                                                            }\n",
              "                                                          }\n",
              "                                                        }\n",
              "                                                      },\n",
              "                                                      \"filter\": {\n",
              "                                                        \"functionInvocationValue\": {\n",
              "                                                          \"functionName\": \"Filter.dateRangeContains\",\n",
              "                                                          \"arguments\": {\n",
              "                                                            \"leftValue\": {\n",
              "                                                              \"functionInvocationValue\": {\n",
              "                                                                \"functionName\": \"DateRange\",\n",
              "                                                                \"arguments\": {\n",
              "                                                                  \"end\": {\n",
              "                                                                    \"constantValue\": \"2010-01-01\"\n",
              "                                                                  },\n",
              "                                                                  \"start\": {\n",
              "                                                                    \"constantValue\": \"2008-01-01\"\n",
              "                                                                  }\n",
              "                                                                }\n",
              "                                                              }\n",
              "                                                            },\n",
              "                                                            \"rightField\": {\n",
              "                                                              \"constantValue\": \"system:time_start\"\n",
              "                                                            }\n",
              "                                                          }\n",
              "                                                        }\n",
              "                                                      }\n",
              "                                                    }\n",
              "                                                  }\n",
              "                                                },\n",
              "                                                \"filter\": {\n",
              "                                                  \"functionInvocationValue\": {\n",
              "                                                    \"functionName\": \"Filter.calendarRange\",\n",
              "                                                    \"arguments\": {\n",
              "                                                      \"end\": {\n",
              "                                                        \"constantValue\": 8\n",
              "                                                      },\n",
              "                                                      \"field\": {\n",
              "                                                        \"constantValue\": \"month\"\n",
              "                                                      },\n",
              "                                                      \"start\": {\n",
              "                                                        \"constantValue\": 7\n",
              "                                                      }\n",
              "                                                    }\n",
              "                                                  }\n",
              "                                                }\n",
              "                                              }\n",
              "                                            }\n",
              "                                          },\n",
              "                                          \"filter\": {\n",
              "                                            \"functionInvocationValue\": {\n",
              "                                              \"functionName\": \"Filter.intersects\",\n",
              "                                              \"arguments\": {\n",
              "                                                \"leftField\": {\n",
              "                                                  \"constantValue\": \".all\"\n",
              "                                                },\n",
              "                                                \"rightValue\": {\n",
              "                                                  \"functionInvocationValue\": {\n",
              "                                                    \"functionName\": \"Feature\",\n",
              "                                                    \"arguments\": {\n",
              "                                                      \"geometry\": {\n",
              "                                                        \"functionInvocationValue\": {\n",
              "                                                          \"functionName\": \"GeometryConstructors.Point\",\n",
              "                                                          \"arguments\": {\n",
              "                                                            \"coordinates\": {\n",
              "                                                              \"constantValue\": [\n",
              "                                                                -123.246,\n",
              "                                                                49.2606\n",
              "                                                              ]\n",
              "                                                            }\n",
              "                                                          }\n",
              "                                                        }\n",
              "                                                      }\n",
              "                                                    }\n",
              "                                                  }\n",
              "                                                }\n",
              "                                              }\n",
              "                                            }\n",
              "                                          }\n",
              "                                        }\n",
              "                                      }\n",
              "                                    }\n",
              "                                  }\n",
              "                                }\n",
              "                              }\n",
              "                            }\n",
              "                          }\n",
              "                        }\n",
              "                      }\n",
              "                    }\n",
              "                  }\n",
              "                }\n",
              "              }\n",
              "            }\n",
              "          }\n",
              "        }\n",
              "      }\n",
              "    }\n",
              "  }\n",
              "})"
            ],
            "text/html": [
              "<div><style>:root {\n",
              "  --font-color-primary: var(--jp-content-font-color0, rgba(0, 0, 0, 1));\n",
              "  --font-color-secondary: var(--jp-content-font-color2, rgba(0, 0, 0, 0.7));\n",
              "  --font-color-accent: rgba(123, 31, 162, 1);\n",
              "  --border-color: var(--jp-border-color2, #e0e0e0);\n",
              "  --background-color: var(--jp-layout-color0, white);\n",
              "  --background-color-row-even: var(--jp-layout-color1, white);\n",
              "  --background-color-row-odd: var(--jp-layout-color2, #eeeeee);\n",
              "}\n",
              "\n",
              "html[theme=\"dark\"],\n",
              "body[data-theme=\"dark\"],\n",
              "body.vscode-dark {\n",
              "  --font-color-primary: rgba(255, 255, 255, 1);\n",
              "  --font-color-secondary: rgba(255, 255, 255, 0.7);\n",
              "  --font-color-accent: rgb(173, 132, 190);\n",
              "  --border-color: #2e2e2e;\n",
              "  --background-color: #111111;\n",
              "  --background-color-row-even: #111111;\n",
              "  --background-color-row-odd: #313131;\n",
              "}\n",
              "\n",
              ".eerepr {\n",
              "  padding: 1em;\n",
              "  line-height: 1.5em;\n",
              "  min-width: 300px;\n",
              "  max-width: 1200px;\n",
              "  overflow-y: scroll;\n",
              "  max-height: 600px;\n",
              "  border: 1px solid var(--border-color);\n",
              "  font-family: monospace;\n",
              "  font-size: 14px;\n",
              "}\n",
              "\n",
              ".eerepr li {\n",
              "  list-style-type: none;\n",
              "  margin: 0;\n",
              "}\n",
              "\n",
              ".eerepr ul {\n",
              "  padding-left: 1.5em !important;\n",
              "  margin: 0;\n",
              "}\n",
              "\n",
              ".eerepr > ul {\n",
              "  padding-left: 0 !important;\n",
              "}\n",
              "\n",
              ".eerepr summary {\n",
              "  color: var(--font-color-secondary);\n",
              "  cursor: pointer;\n",
              "  margin: 0;\n",
              "}\n",
              "\n",
              ".eerepr summary:hover {\n",
              "  color: var(--font-color-primary);\n",
              "  background-color: var(--background-color-row-odd)\n",
              "}\n",
              "\n",
              ".ee-k {\n",
              "  color: var(--font-color-accent);\n",
              "  margin-right: 6px;\n",
              "}\n",
              "\n",
              ".ee-v {\n",
              "  color: var(--font-color-primary);\n",
              "}\n",
              "\n",
              ".eerepr details > summary::before {\n",
              "  content: '▼';\n",
              "  display: inline-block;\n",
              "  margin-right: 6px;\n",
              "  transition: transform 0.2s;\n",
              "  transform: rotate(-90deg);\n",
              "}\n",
              "\n",
              ".eerepr details[open] > summary::before {\n",
              "  transform: rotate(0deg);\n",
              "}\n",
              "\n",
              ".eerepr details summary::-webkit-details-marker {\n",
              "  display:none;\n",
              "}\n",
              "\n",
              ".eerepr details summary {\n",
              "  list-style-type: none;\n",
              "}\n",
              "</style><div class='eerepr'><ul><li><details><summary>Polygon (5 vertices)</summary><ul><li><span class='ee-k'>type:</span><span class='ee-v'>Polygon</span></li><li><details><summary>coordinates: List (1 element)</summary><ul><li><details><summary>0: List (5 elements)</summary><ul><li><details><summary>0: [-123.38273412012424, 49.17064585951622]</summary><ul><li><span class='ee-k'>0:</span><span class='ee-v'>-123.38273412012424</span></li><li><span class='ee-k'>1:</span><span class='ee-v'>49.17064585951622</span></li></ul></details></li><li><details><summary>1: [-123.10877502012703, 49.17064585951622]</summary><ul><li><span class='ee-k'>0:</span><span class='ee-v'>-123.10877502012703</span></li><li><span class='ee-k'>1:</span><span class='ee-v'>49.17064585951622</span></li></ul></details></li><li><details><summary>2: [-123.10877502012703, 49.35058865951484]</summary><ul><li><span class='ee-k'>0:</span><span class='ee-v'>-123.10877502012703</span></li><li><span class='ee-k'>1:</span><span class='ee-v'>49.35058865951484</span></li></ul></details></li><li><details><summary>3: [-123.38273412012424, 49.35058865951484]</summary><ul><li><span class='ee-k'>0:</span><span class='ee-v'>-123.38273412012424</span></li><li><span class='ee-k'>1:</span><span class='ee-v'>49.35058865951484</span></li></ul></details></li><li><details><summary>4: [-123.38273412012424, 49.17064585951622]</summary><ul><li><span class='ee-k'>0:</span><span class='ee-v'>-123.38273412012424</span></li><li><span class='ee-k'>1:</span><span class='ee-v'>49.17064585951622</span></li></ul></details></li></ul></details></li></ul></details></li><li><span class='ee-k'>geodesic:</span><span class='ee-v'>False</span></li></ul></details></li></ul></div></div>"
            ]
          },
          "metadata": {},
          "execution_count": 72
        }
      ]
    },
    {
      "cell_type": "code",
      "source": [
        "# # Load an image.\n",
        "image2 = ee.Image(clipped_collection.toList(clipped_collection.size()).get(2))\n",
        "# Define the visualization parameters.\n",
        "image_viz_params = {\n",
        "    'bands': ['SR_B5', 'SR_B4', 'SR_B3'],\n",
        "    'min': 0,\n",
        "    'max': 0.5,\n",
        "    'gamma': [0.95, 1.1, 1],\n",
        "}\n",
        "\n",
        "# Define a map centered on San Francisco Bay.\n",
        "map_l8 = geemap.Map(center=[ubc_lat, ubc_lon], zoom=10)\n",
        "\n",
        "# Add the image layer to the map and display it.\n",
        "map_l8.add_layer(image2, image_viz_params, 'false color composite')\n",
        "display(map_l8)"
      ],
      "metadata": {
        "colab": {
          "base_uri": "https://localhost:8080/",
          "height": 621,
          "referenced_widgets": [
            "14e13ede87a245d69a52495764600020",
            "35f4e08b71a9403d8ad46c0d9047a3ce",
            "0f928488bdee4c62b9f0870ff1655966",
            "d7653cd5b21f4eb08fa2ff6db5d05fa1",
            "a2e3b3b93ebb4cd78469b619c92622ba",
            "ec615ee0ae3345c2963f5fa3af99b0f9",
            "aaea5f6a7f324275b8296041cb77f1f3",
            "867409a1485947afa26452de6939cc62",
            "5f353221490745c2906132ace7a45f69",
            "c726e347a05c45a0bee296dd5e226a01",
            "fa94bf38a7c14e7581c9ffe048aaf82a",
            "cad83ff2c2514191b745f8380dd77455",
            "a727634f4b0345cd82f3de2e8b1af156",
            "9e5b5b5a5da64e7ea5019dfed3872a2b",
            "cffb61091c194acc97989b603dcea673",
            "b87ef41268034d0590a8e939aa78d1ab",
            "673622fcc8cd485eb45473e966bbc1fc",
            "73e0396283d442df867096d82b829c82",
            "624b9b8727a346bbb7610020567eb0a1",
            "b58465bfee6a4c31830dcc51e32166f7",
            "e48decab1ba34773adbee258aa52b04f",
            "4a268d4f007b4b60b8e039e10f7cb8d9",
            "851c2e0c2b46426382e7934ef640689c",
            "1de95d53aa07450ea8ad746ce458c284",
            "b1be6385467140719c320add12de2e2c",
            "4b15c6e1b247422d84b6847e80cdce90",
            "72a71aeb6e084e35a9e452592d7b471d",
            "b313f1d93e534753b5431269304296c1",
            "208198c4a56b42e98a4b098602b9b5bd",
            "f273d4a5b55b4c89884ca97da84cabd2",
            "55625ff169f7472aa06ac5c5aaed88ec",
            "4c8e74fa85b34cdf8849de6b132533f5",
            "d9b4ca971ee340d18dd443aab82275a8",
            "d3bc3b12d89e4bbf889d1748e9c4a428",
            "9bfcb1bfa4154a528ac9864f81f3b9e3",
            "1c33e12459c4424dbff14a6d8ad88a68",
            "230418f767e74a7d8373b3a4ab95cb7c",
            "74b8732c72fc440894ecf099a0d49cc9",
            "e1e2d2ff89944ae0aff68c2f67c012ab",
            "a31f677eb91043ee8c27e20b32b23d9d",
            "34bb828edec44160baf331206635426d",
            "2d1a219cfe464217833916dcbeec1f95",
            "031ed68e846b4d1a968fdc67aebb9430",
            "60feb37f72ff4b30bfc25119eee6b9da",
            "af7619cf38e444cf9d6d5e95b62e3452",
            "bd858001ebb1434a8290fc4521d03e03",
            "74d867078dcd4f2cb8192814df424ee4",
            "3726a7d5d2da44c6ba04732d5055348f",
            "488749dd81404171a21feb8ed90a6336",
            "58e4cf2788e54b47acd6462abcf4ac77",
            "fafecbeb30ab4573adcd49c62d9e51d2",
            "257cc870d3b3483d843e53fa4ee3eaf2",
            "f208b463b29e41f589c40cfbbacbc54b",
            "2c7a094287c84ba6b73672329d41b6b6",
            "c7ce24c7c82e42d6931cb651ef8948fa",
            "6ab5f0f4b7a64c379ee195a36c4fa2b1",
            "58a7a3a79d3344009f12456a58be20dc",
            "61fc53561dc947dab367ca63bd3f82b4",
            "bafa0cc0866a4e0581b2b31389480b22",
            "0a9ad1effd3b4a68a063b41976853b95",
            "ecce5f9cb5b64e8b8b76eca18324d4ad",
            "df0888c1e0664a029e9805b8f8eae131",
            "ca84d9a4f84249f998ef58a054b39663",
            "03f9aa44d9c649a894b864eecb97bdaa",
            "d0f81c079b5e49a29863cdcf754f41fe",
            "a445814c3f944a638e2359154da2b5d9",
            "9de72f9d784546c891525fc16e18fcbc",
            "7fe6a791dc504263becdf387344fb032"
          ]
        },
        "id": "eugEDwpJz_dI",
        "outputId": "30efa1e1-d327-4fae-c05b-e54828a87a51"
      },
      "execution_count": 63,
      "outputs": [
        {
          "output_type": "display_data",
          "data": {
            "text/plain": [
              "<IPython.core.display.HTML object>"
            ],
            "text/html": [
              "\n",
              "            <style>\n",
              "                .geemap-dark {\n",
              "                    --jp-widgets-color: white;\n",
              "                    --jp-widgets-label-color: white;\n",
              "                    --jp-ui-font-color1: white;\n",
              "                    --jp-layout-color2: #454545;\n",
              "                    background-color: #383838;\n",
              "                }\n",
              "\n",
              "                .geemap-dark .jupyter-button {\n",
              "                    --jp-layout-color3: #383838;\n",
              "                }\n",
              "\n",
              "                .geemap-colab {\n",
              "                    background-color: var(--colab-primary-surface-color, white);\n",
              "                }\n",
              "\n",
              "                .geemap-colab .jupyter-button {\n",
              "                    --jp-layout-color3: var(--colab-primary-surface-color, white);\n",
              "                }\n",
              "            </style>\n",
              "            "
            ]
          },
          "metadata": {}
        },
        {
          "output_type": "display_data",
          "data": {
            "text/plain": [
              "Map(center=[49.2606, -123.246], controls=(ZoomControl(options=['position', 'zoom_in_text', 'zoom_in_title', 'z…"
            ],
            "application/vnd.jupyter.widget-view+json": {
              "version_major": 2,
              "version_minor": 0,
              "model_id": "14e13ede87a245d69a52495764600020"
            }
          },
          "metadata": {
            "application/vnd.jupyter.widget-view+json": {
              "colab": {
                "custom_widget_manager": {
                  "url": "https://ssl.gstatic.com/colaboratory-static/widgets/colab-cdn-widget-manager/2b70e893a8ba7c0f/manager.min.js"
                }
              }
            }
          }
        }
      ]
    },
    {
      "cell_type": "code",
      "source": [
        "display(image2)"
      ],
      "metadata": {
        "colab": {
          "base_uri": "https://localhost:8080/",
          "height": 647
        },
        "id": "WvFSS1lZ2vKC",
        "outputId": "5df2803e-695d-4c06-d1f7-1cea74bf0042"
      },
      "execution_count": 64,
      "outputs": [
        {
          "output_type": "display_data",
          "data": {
            "text/plain": [
              "<IPython.core.display.HTML object>"
            ],
            "text/html": [
              "\n",
              "            <style>\n",
              "                .geemap-dark {\n",
              "                    --jp-widgets-color: white;\n",
              "                    --jp-widgets-label-color: white;\n",
              "                    --jp-ui-font-color1: white;\n",
              "                    --jp-layout-color2: #454545;\n",
              "                    background-color: #383838;\n",
              "                }\n",
              "\n",
              "                .geemap-dark .jupyter-button {\n",
              "                    --jp-layout-color3: #383838;\n",
              "                }\n",
              "\n",
              "                .geemap-colab {\n",
              "                    background-color: var(--colab-primary-surface-color, white);\n",
              "                }\n",
              "\n",
              "                .geemap-colab .jupyter-button {\n",
              "                    --jp-layout-color3: var(--colab-primary-surface-color, white);\n",
              "                }\n",
              "            </style>\n",
              "            "
            ]
          },
          "metadata": {}
        },
        {
          "output_type": "display_data",
          "data": {
            "text/plain": [
              "<ee.image.Image at 0x7fab40a87710>"
            ],
            "text/html": [
              "<div><style>:root {\n",
              "  --font-color-primary: var(--jp-content-font-color0, rgba(0, 0, 0, 1));\n",
              "  --font-color-secondary: var(--jp-content-font-color2, rgba(0, 0, 0, 0.7));\n",
              "  --font-color-accent: rgba(123, 31, 162, 1);\n",
              "  --border-color: var(--jp-border-color2, #e0e0e0);\n",
              "  --background-color: var(--jp-layout-color0, white);\n",
              "  --background-color-row-even: var(--jp-layout-color1, white);\n",
              "  --background-color-row-odd: var(--jp-layout-color2, #eeeeee);\n",
              "}\n",
              "\n",
              "html[theme=\"dark\"],\n",
              "body[data-theme=\"dark\"],\n",
              "body.vscode-dark {\n",
              "  --font-color-primary: rgba(255, 255, 255, 1);\n",
              "  --font-color-secondary: rgba(255, 255, 255, 0.7);\n",
              "  --font-color-accent: rgb(173, 132, 190);\n",
              "  --border-color: #2e2e2e;\n",
              "  --background-color: #111111;\n",
              "  --background-color-row-even: #111111;\n",
              "  --background-color-row-odd: #313131;\n",
              "}\n",
              "\n",
              ".eerepr {\n",
              "  padding: 1em;\n",
              "  line-height: 1.5em;\n",
              "  min-width: 300px;\n",
              "  max-width: 1200px;\n",
              "  overflow-y: scroll;\n",
              "  max-height: 600px;\n",
              "  border: 1px solid var(--border-color);\n",
              "  font-family: monospace;\n",
              "  font-size: 14px;\n",
              "}\n",
              "\n",
              ".eerepr li {\n",
              "  list-style-type: none;\n",
              "  margin: 0;\n",
              "}\n",
              "\n",
              ".eerepr ul {\n",
              "  padding-left: 1.5em !important;\n",
              "  margin: 0;\n",
              "}\n",
              "\n",
              ".eerepr > ul {\n",
              "  padding-left: 0 !important;\n",
              "}\n",
              "\n",
              ".eerepr summary {\n",
              "  color: var(--font-color-secondary);\n",
              "  cursor: pointer;\n",
              "  margin: 0;\n",
              "}\n",
              "\n",
              ".eerepr summary:hover {\n",
              "  color: var(--font-color-primary);\n",
              "  background-color: var(--background-color-row-odd)\n",
              "}\n",
              "\n",
              ".ee-k {\n",
              "  color: var(--font-color-accent);\n",
              "  margin-right: 6px;\n",
              "}\n",
              "\n",
              ".ee-v {\n",
              "  color: var(--font-color-primary);\n",
              "}\n",
              "\n",
              ".eerepr details > summary::before {\n",
              "  content: '▼';\n",
              "  display: inline-block;\n",
              "  margin-right: 6px;\n",
              "  transition: transform 0.2s;\n",
              "  transform: rotate(-90deg);\n",
              "}\n",
              "\n",
              ".eerepr details[open] > summary::before {\n",
              "  transform: rotate(0deg);\n",
              "}\n",
              "\n",
              ".eerepr details summary::-webkit-details-marker {\n",
              "  display:none;\n",
              "}\n",
              "\n",
              ".eerepr details summary {\n",
              "  list-style-type: none;\n",
              "}\n",
              "</style><div class='eerepr'><ul><li><details><summary>Image LANDSAT/LE07/C02/T1_L2/LE07_047026_20080805 (19 bands)</summary><ul><li><span class='ee-k'>type:</span><span class='ee-v'>Image</span></li><li><span class='ee-k'>id:</span><span class='ee-v'>LANDSAT/LE07/C02/T1_L2/LE07_047026_20080805</span></li><li><span class='ee-k'>version:</span><span class='ee-v'>1622813814087997</span></li><li><details><summary>bands: List (19 elements)</summary><ul><li><details><summary>0: \"SR_B1\", unsigned int16, EPSG:32610, 666x667 px</summary><ul><li><span class='ee-k'>id:</span><span class='ee-v'>SR_B1</span></li><li><span class='ee-k'>crs:</span><span class='ee-v'>EPSG:32610</span></li><li><details><summary>crs_transform: [30, 0, 388785, 0, -30, 5523915]</summary><ul><li><span class='ee-k'>0:</span><span class='ee-v'>30</span></li><li><span class='ee-k'>1:</span><span class='ee-v'>0</span></li><li><span class='ee-k'>2:</span><span class='ee-v'>388785</span></li><li><span class='ee-k'>3:</span><span class='ee-v'>0</span></li><li><span class='ee-k'>4:</span><span class='ee-v'>-30</span></li><li><span class='ee-k'>5:</span><span class='ee-v'>5523915</span></li></ul></details></li><li><details><summary>data_type: unsigned int16</summary><ul><li><span class='ee-k'>type:</span><span class='ee-v'>PixelType</span></li><li><span class='ee-k'>max:</span><span class='ee-v'>65535</span></li><li><span class='ee-k'>min:</span><span class='ee-v'>0</span></li><li><span class='ee-k'>precision:</span><span class='ee-v'>int</span></li></ul></details></li><li><details><summary>dimensions: [666, 667]</summary><ul><li><span class='ee-k'>0:</span><span class='ee-v'>666</span></li><li><span class='ee-k'>1:</span><span class='ee-v'>667</span></li></ul></details></li><li><details><summary>origin: [2778, 1915]</summary><ul><li><span class='ee-k'>0:</span><span class='ee-v'>2778</span></li><li><span class='ee-k'>1:</span><span class='ee-v'>1915</span></li></ul></details></li></ul></details></li><li><details><summary>1: \"SR_B2\", unsigned int16, EPSG:32610, 666x667 px</summary><ul><li><span class='ee-k'>id:</span><span class='ee-v'>SR_B2</span></li><li><span class='ee-k'>crs:</span><span class='ee-v'>EPSG:32610</span></li><li><details><summary>crs_transform: [30, 0, 388785, 0, -30, 5523915]</summary><ul><li><span class='ee-k'>0:</span><span class='ee-v'>30</span></li><li><span class='ee-k'>1:</span><span class='ee-v'>0</span></li><li><span class='ee-k'>2:</span><span class='ee-v'>388785</span></li><li><span class='ee-k'>3:</span><span class='ee-v'>0</span></li><li><span class='ee-k'>4:</span><span class='ee-v'>-30</span></li><li><span class='ee-k'>5:</span><span class='ee-v'>5523915</span></li></ul></details></li><li><details><summary>data_type: unsigned int16</summary><ul><li><span class='ee-k'>type:</span><span class='ee-v'>PixelType</span></li><li><span class='ee-k'>max:</span><span class='ee-v'>65535</span></li><li><span class='ee-k'>min:</span><span class='ee-v'>0</span></li><li><span class='ee-k'>precision:</span><span class='ee-v'>int</span></li></ul></details></li><li><details><summary>dimensions: [666, 667]</summary><ul><li><span class='ee-k'>0:</span><span class='ee-v'>666</span></li><li><span class='ee-k'>1:</span><span class='ee-v'>667</span></li></ul></details></li><li><details><summary>origin: [2778, 1915]</summary><ul><li><span class='ee-k'>0:</span><span class='ee-v'>2778</span></li><li><span class='ee-k'>1:</span><span class='ee-v'>1915</span></li></ul></details></li></ul></details></li><li><details><summary>2: \"SR_B3\", unsigned int16, EPSG:32610, 666x667 px</summary><ul><li><span class='ee-k'>id:</span><span class='ee-v'>SR_B3</span></li><li><span class='ee-k'>crs:</span><span class='ee-v'>EPSG:32610</span></li><li><details><summary>crs_transform: [30, 0, 388785, 0, -30, 5523915]</summary><ul><li><span class='ee-k'>0:</span><span class='ee-v'>30</span></li><li><span class='ee-k'>1:</span><span class='ee-v'>0</span></li><li><span class='ee-k'>2:</span><span class='ee-v'>388785</span></li><li><span class='ee-k'>3:</span><span class='ee-v'>0</span></li><li><span class='ee-k'>4:</span><span class='ee-v'>-30</span></li><li><span class='ee-k'>5:</span><span class='ee-v'>5523915</span></li></ul></details></li><li><details><summary>data_type: unsigned int16</summary><ul><li><span class='ee-k'>type:</span><span class='ee-v'>PixelType</span></li><li><span class='ee-k'>max:</span><span class='ee-v'>65535</span></li><li><span class='ee-k'>min:</span><span class='ee-v'>0</span></li><li><span class='ee-k'>precision:</span><span class='ee-v'>int</span></li></ul></details></li><li><details><summary>dimensions: [666, 667]</summary><ul><li><span class='ee-k'>0:</span><span class='ee-v'>666</span></li><li><span class='ee-k'>1:</span><span class='ee-v'>667</span></li></ul></details></li><li><details><summary>origin: [2778, 1915]</summary><ul><li><span class='ee-k'>0:</span><span class='ee-v'>2778</span></li><li><span class='ee-k'>1:</span><span class='ee-v'>1915</span></li></ul></details></li></ul></details></li><li><details><summary>3: \"SR_B4\", unsigned int16, EPSG:32610, 666x667 px</summary><ul><li><span class='ee-k'>id:</span><span class='ee-v'>SR_B4</span></li><li><span class='ee-k'>crs:</span><span class='ee-v'>EPSG:32610</span></li><li><details><summary>crs_transform: [30, 0, 388785, 0, -30, 5523915]</summary><ul><li><span class='ee-k'>0:</span><span class='ee-v'>30</span></li><li><span class='ee-k'>1:</span><span class='ee-v'>0</span></li><li><span class='ee-k'>2:</span><span class='ee-v'>388785</span></li><li><span class='ee-k'>3:</span><span class='ee-v'>0</span></li><li><span class='ee-k'>4:</span><span class='ee-v'>-30</span></li><li><span class='ee-k'>5:</span><span class='ee-v'>5523915</span></li></ul></details></li><li><details><summary>data_type: unsigned int16</summary><ul><li><span class='ee-k'>type:</span><span class='ee-v'>PixelType</span></li><li><span class='ee-k'>max:</span><span class='ee-v'>65535</span></li><li><span class='ee-k'>min:</span><span class='ee-v'>0</span></li><li><span class='ee-k'>precision:</span><span class='ee-v'>int</span></li></ul></details></li><li><details><summary>dimensions: [666, 667]</summary><ul><li><span class='ee-k'>0:</span><span class='ee-v'>666</span></li><li><span class='ee-k'>1:</span><span class='ee-v'>667</span></li></ul></details></li><li><details><summary>origin: [2778, 1915]</summary><ul><li><span class='ee-k'>0:</span><span class='ee-v'>2778</span></li><li><span class='ee-k'>1:</span><span class='ee-v'>1915</span></li></ul></details></li></ul></details></li><li><details><summary>4: \"SR_B5\", unsigned int16, EPSG:32610, 666x667 px</summary><ul><li><span class='ee-k'>id:</span><span class='ee-v'>SR_B5</span></li><li><span class='ee-k'>crs:</span><span class='ee-v'>EPSG:32610</span></li><li><details><summary>crs_transform: [30, 0, 388785, 0, -30, 5523915]</summary><ul><li><span class='ee-k'>0:</span><span class='ee-v'>30</span></li><li><span class='ee-k'>1:</span><span class='ee-v'>0</span></li><li><span class='ee-k'>2:</span><span class='ee-v'>388785</span></li><li><span class='ee-k'>3:</span><span class='ee-v'>0</span></li><li><span class='ee-k'>4:</span><span class='ee-v'>-30</span></li><li><span class='ee-k'>5:</span><span class='ee-v'>5523915</span></li></ul></details></li><li><details><summary>data_type: unsigned int16</summary><ul><li><span class='ee-k'>type:</span><span class='ee-v'>PixelType</span></li><li><span class='ee-k'>max:</span><span class='ee-v'>65535</span></li><li><span class='ee-k'>min:</span><span class='ee-v'>0</span></li><li><span class='ee-k'>precision:</span><span class='ee-v'>int</span></li></ul></details></li><li><details><summary>dimensions: [666, 667]</summary><ul><li><span class='ee-k'>0:</span><span class='ee-v'>666</span></li><li><span class='ee-k'>1:</span><span class='ee-v'>667</span></li></ul></details></li><li><details><summary>origin: [2778, 1915]</summary><ul><li><span class='ee-k'>0:</span><span class='ee-v'>2778</span></li><li><span class='ee-k'>1:</span><span class='ee-v'>1915</span></li></ul></details></li></ul></details></li><li><details><summary>5: \"SR_B7\", unsigned int16, EPSG:32610, 666x667 px</summary><ul><li><span class='ee-k'>id:</span><span class='ee-v'>SR_B7</span></li><li><span class='ee-k'>crs:</span><span class='ee-v'>EPSG:32610</span></li><li><details><summary>crs_transform: [30, 0, 388785, 0, -30, 5523915]</summary><ul><li><span class='ee-k'>0:</span><span class='ee-v'>30</span></li><li><span class='ee-k'>1:</span><span class='ee-v'>0</span></li><li><span class='ee-k'>2:</span><span class='ee-v'>388785</span></li><li><span class='ee-k'>3:</span><span class='ee-v'>0</span></li><li><span class='ee-k'>4:</span><span class='ee-v'>-30</span></li><li><span class='ee-k'>5:</span><span class='ee-v'>5523915</span></li></ul></details></li><li><details><summary>data_type: unsigned int16</summary><ul><li><span class='ee-k'>type:</span><span class='ee-v'>PixelType</span></li><li><span class='ee-k'>max:</span><span class='ee-v'>65535</span></li><li><span class='ee-k'>min:</span><span class='ee-v'>0</span></li><li><span class='ee-k'>precision:</span><span class='ee-v'>int</span></li></ul></details></li><li><details><summary>dimensions: [666, 667]</summary><ul><li><span class='ee-k'>0:</span><span class='ee-v'>666</span></li><li><span class='ee-k'>1:</span><span class='ee-v'>667</span></li></ul></details></li><li><details><summary>origin: [2778, 1915]</summary><ul><li><span class='ee-k'>0:</span><span class='ee-v'>2778</span></li><li><span class='ee-k'>1:</span><span class='ee-v'>1915</span></li></ul></details></li></ul></details></li><li><details><summary>6: \"SR_ATMOS_OPACITY\", signed int16, EPSG:32610, 666x667 px</summary><ul><li><span class='ee-k'>id:</span><span class='ee-v'>SR_ATMOS_OPACITY</span></li><li><span class='ee-k'>crs:</span><span class='ee-v'>EPSG:32610</span></li><li><details><summary>crs_transform: [30, 0, 388785, 0, -30, 5523915]</summary><ul><li><span class='ee-k'>0:</span><span class='ee-v'>30</span></li><li><span class='ee-k'>1:</span><span class='ee-v'>0</span></li><li><span class='ee-k'>2:</span><span class='ee-v'>388785</span></li><li><span class='ee-k'>3:</span><span class='ee-v'>0</span></li><li><span class='ee-k'>4:</span><span class='ee-v'>-30</span></li><li><span class='ee-k'>5:</span><span class='ee-v'>5523915</span></li></ul></details></li><li><details><summary>data_type: signed int16</summary><ul><li><span class='ee-k'>type:</span><span class='ee-v'>PixelType</span></li><li><span class='ee-k'>max:</span><span class='ee-v'>32767</span></li><li><span class='ee-k'>min:</span><span class='ee-v'>-32768</span></li><li><span class='ee-k'>precision:</span><span class='ee-v'>int</span></li></ul></details></li><li><details><summary>dimensions: [666, 667]</summary><ul><li><span class='ee-k'>0:</span><span class='ee-v'>666</span></li><li><span class='ee-k'>1:</span><span class='ee-v'>667</span></li></ul></details></li><li><details><summary>origin: [2778, 1915]</summary><ul><li><span class='ee-k'>0:</span><span class='ee-v'>2778</span></li><li><span class='ee-k'>1:</span><span class='ee-v'>1915</span></li></ul></details></li></ul></details></li><li><details><summary>7: \"SR_CLOUD_QA\", unsigned int8, EPSG:32610, 666x667 px</summary><ul><li><span class='ee-k'>id:</span><span class='ee-v'>SR_CLOUD_QA</span></li><li><span class='ee-k'>crs:</span><span class='ee-v'>EPSG:32610</span></li><li><details><summary>crs_transform: [30, 0, 388785, 0, -30, 5523915]</summary><ul><li><span class='ee-k'>0:</span><span class='ee-v'>30</span></li><li><span class='ee-k'>1:</span><span class='ee-v'>0</span></li><li><span class='ee-k'>2:</span><span class='ee-v'>388785</span></li><li><span class='ee-k'>3:</span><span class='ee-v'>0</span></li><li><span class='ee-k'>4:</span><span class='ee-v'>-30</span></li><li><span class='ee-k'>5:</span><span class='ee-v'>5523915</span></li></ul></details></li><li><details><summary>data_type: unsigned int8</summary><ul><li><span class='ee-k'>type:</span><span class='ee-v'>PixelType</span></li><li><span class='ee-k'>max:</span><span class='ee-v'>255</span></li><li><span class='ee-k'>min:</span><span class='ee-v'>0</span></li><li><span class='ee-k'>precision:</span><span class='ee-v'>int</span></li></ul></details></li><li><details><summary>dimensions: [666, 667]</summary><ul><li><span class='ee-k'>0:</span><span class='ee-v'>666</span></li><li><span class='ee-k'>1:</span><span class='ee-v'>667</span></li></ul></details></li><li><details><summary>origin: [2778, 1915]</summary><ul><li><span class='ee-k'>0:</span><span class='ee-v'>2778</span></li><li><span class='ee-k'>1:</span><span class='ee-v'>1915</span></li></ul></details></li></ul></details></li><li><details><summary>8: \"ST_B6\", unsigned int16, EPSG:32610, 666x667 px</summary><ul><li><span class='ee-k'>id:</span><span class='ee-v'>ST_B6</span></li><li><span class='ee-k'>crs:</span><span class='ee-v'>EPSG:32610</span></li><li><details><summary>crs_transform: [30, 0, 388785, 0, -30, 5523915]</summary><ul><li><span class='ee-k'>0:</span><span class='ee-v'>30</span></li><li><span class='ee-k'>1:</span><span class='ee-v'>0</span></li><li><span class='ee-k'>2:</span><span class='ee-v'>388785</span></li><li><span class='ee-k'>3:</span><span class='ee-v'>0</span></li><li><span class='ee-k'>4:</span><span class='ee-v'>-30</span></li><li><span class='ee-k'>5:</span><span class='ee-v'>5523915</span></li></ul></details></li><li><details><summary>data_type: unsigned int16</summary><ul><li><span class='ee-k'>type:</span><span class='ee-v'>PixelType</span></li><li><span class='ee-k'>max:</span><span class='ee-v'>65535</span></li><li><span class='ee-k'>min:</span><span class='ee-v'>0</span></li><li><span class='ee-k'>precision:</span><span class='ee-v'>int</span></li></ul></details></li><li><details><summary>dimensions: [666, 667]</summary><ul><li><span class='ee-k'>0:</span><span class='ee-v'>666</span></li><li><span class='ee-k'>1:</span><span class='ee-v'>667</span></li></ul></details></li><li><details><summary>origin: [2778, 1915]</summary><ul><li><span class='ee-k'>0:</span><span class='ee-v'>2778</span></li><li><span class='ee-k'>1:</span><span class='ee-v'>1915</span></li></ul></details></li></ul></details></li><li><details><summary>9: \"ST_ATRAN\", signed int16, EPSG:32610, 666x667 px</summary><ul><li><span class='ee-k'>id:</span><span class='ee-v'>ST_ATRAN</span></li><li><span class='ee-k'>crs:</span><span class='ee-v'>EPSG:32610</span></li><li><details><summary>crs_transform: [30, 0, 388785, 0, -30, 5523915]</summary><ul><li><span class='ee-k'>0:</span><span class='ee-v'>30</span></li><li><span class='ee-k'>1:</span><span class='ee-v'>0</span></li><li><span class='ee-k'>2:</span><span class='ee-v'>388785</span></li><li><span class='ee-k'>3:</span><span class='ee-v'>0</span></li><li><span class='ee-k'>4:</span><span class='ee-v'>-30</span></li><li><span class='ee-k'>5:</span><span class='ee-v'>5523915</span></li></ul></details></li><li><details><summary>data_type: signed int16</summary><ul><li><span class='ee-k'>type:</span><span class='ee-v'>PixelType</span></li><li><span class='ee-k'>max:</span><span class='ee-v'>32767</span></li><li><span class='ee-k'>min:</span><span class='ee-v'>-32768</span></li><li><span class='ee-k'>precision:</span><span class='ee-v'>int</span></li></ul></details></li><li><details><summary>dimensions: [666, 667]</summary><ul><li><span class='ee-k'>0:</span><span class='ee-v'>666</span></li><li><span class='ee-k'>1:</span><span class='ee-v'>667</span></li></ul></details></li><li><details><summary>origin: [2778, 1915]</summary><ul><li><span class='ee-k'>0:</span><span class='ee-v'>2778</span></li><li><span class='ee-k'>1:</span><span class='ee-v'>1915</span></li></ul></details></li></ul></details></li><li><details><summary>10: \"ST_CDIST\", signed int16, EPSG:32610, 666x667 px</summary><ul><li><span class='ee-k'>id:</span><span class='ee-v'>ST_CDIST</span></li><li><span class='ee-k'>crs:</span><span class='ee-v'>EPSG:32610</span></li><li><details><summary>crs_transform: [30, 0, 388785, 0, -30, 5523915]</summary><ul><li><span class='ee-k'>0:</span><span class='ee-v'>30</span></li><li><span class='ee-k'>1:</span><span class='ee-v'>0</span></li><li><span class='ee-k'>2:</span><span class='ee-v'>388785</span></li><li><span class='ee-k'>3:</span><span class='ee-v'>0</span></li><li><span class='ee-k'>4:</span><span class='ee-v'>-30</span></li><li><span class='ee-k'>5:</span><span class='ee-v'>5523915</span></li></ul></details></li><li><details><summary>data_type: signed int16</summary><ul><li><span class='ee-k'>type:</span><span class='ee-v'>PixelType</span></li><li><span class='ee-k'>max:</span><span class='ee-v'>32767</span></li><li><span class='ee-k'>min:</span><span class='ee-v'>-32768</span></li><li><span class='ee-k'>precision:</span><span class='ee-v'>int</span></li></ul></details></li><li><details><summary>dimensions: [666, 667]</summary><ul><li><span class='ee-k'>0:</span><span class='ee-v'>666</span></li><li><span class='ee-k'>1:</span><span class='ee-v'>667</span></li></ul></details></li><li><details><summary>origin: [2778, 1915]</summary><ul><li><span class='ee-k'>0:</span><span class='ee-v'>2778</span></li><li><span class='ee-k'>1:</span><span class='ee-v'>1915</span></li></ul></details></li></ul></details></li><li><details><summary>11: \"ST_DRAD\", signed int16, EPSG:32610, 666x667 px</summary><ul><li><span class='ee-k'>id:</span><span class='ee-v'>ST_DRAD</span></li><li><span class='ee-k'>crs:</span><span class='ee-v'>EPSG:32610</span></li><li><details><summary>crs_transform: [30, 0, 388785, 0, -30, 5523915]</summary><ul><li><span class='ee-k'>0:</span><span class='ee-v'>30</span></li><li><span class='ee-k'>1:</span><span class='ee-v'>0</span></li><li><span class='ee-k'>2:</span><span class='ee-v'>388785</span></li><li><span class='ee-k'>3:</span><span class='ee-v'>0</span></li><li><span class='ee-k'>4:</span><span class='ee-v'>-30</span></li><li><span class='ee-k'>5:</span><span class='ee-v'>5523915</span></li></ul></details></li><li><details><summary>data_type: signed int16</summary><ul><li><span class='ee-k'>type:</span><span class='ee-v'>PixelType</span></li><li><span class='ee-k'>max:</span><span class='ee-v'>32767</span></li><li><span class='ee-k'>min:</span><span class='ee-v'>-32768</span></li><li><span class='ee-k'>precision:</span><span class='ee-v'>int</span></li></ul></details></li><li><details><summary>dimensions: [666, 667]</summary><ul><li><span class='ee-k'>0:</span><span class='ee-v'>666</span></li><li><span class='ee-k'>1:</span><span class='ee-v'>667</span></li></ul></details></li><li><details><summary>origin: [2778, 1915]</summary><ul><li><span class='ee-k'>0:</span><span class='ee-v'>2778</span></li><li><span class='ee-k'>1:</span><span class='ee-v'>1915</span></li></ul></details></li></ul></details></li><li><details><summary>12: \"ST_EMIS\", signed int16, EPSG:32610, 666x667 px</summary><ul><li><span class='ee-k'>id:</span><span class='ee-v'>ST_EMIS</span></li><li><span class='ee-k'>crs:</span><span class='ee-v'>EPSG:32610</span></li><li><details><summary>crs_transform: [30, 0, 388785, 0, -30, 5523915]</summary><ul><li><span class='ee-k'>0:</span><span class='ee-v'>30</span></li><li><span class='ee-k'>1:</span><span class='ee-v'>0</span></li><li><span class='ee-k'>2:</span><span class='ee-v'>388785</span></li><li><span class='ee-k'>3:</span><span class='ee-v'>0</span></li><li><span class='ee-k'>4:</span><span class='ee-v'>-30</span></li><li><span class='ee-k'>5:</span><span class='ee-v'>5523915</span></li></ul></details></li><li><details><summary>data_type: signed int16</summary><ul><li><span class='ee-k'>type:</span><span class='ee-v'>PixelType</span></li><li><span class='ee-k'>max:</span><span class='ee-v'>32767</span></li><li><span class='ee-k'>min:</span><span class='ee-v'>-32768</span></li><li><span class='ee-k'>precision:</span><span class='ee-v'>int</span></li></ul></details></li><li><details><summary>dimensions: [666, 667]</summary><ul><li><span class='ee-k'>0:</span><span class='ee-v'>666</span></li><li><span class='ee-k'>1:</span><span class='ee-v'>667</span></li></ul></details></li><li><details><summary>origin: [2778, 1915]</summary><ul><li><span class='ee-k'>0:</span><span class='ee-v'>2778</span></li><li><span class='ee-k'>1:</span><span class='ee-v'>1915</span></li></ul></details></li></ul></details></li><li><details><summary>13: \"ST_EMSD\", signed int16, EPSG:32610, 666x667 px</summary><ul><li><span class='ee-k'>id:</span><span class='ee-v'>ST_EMSD</span></li><li><span class='ee-k'>crs:</span><span class='ee-v'>EPSG:32610</span></li><li><details><summary>crs_transform: [30, 0, 388785, 0, -30, 5523915]</summary><ul><li><span class='ee-k'>0:</span><span class='ee-v'>30</span></li><li><span class='ee-k'>1:</span><span class='ee-v'>0</span></li><li><span class='ee-k'>2:</span><span class='ee-v'>388785</span></li><li><span class='ee-k'>3:</span><span class='ee-v'>0</span></li><li><span class='ee-k'>4:</span><span class='ee-v'>-30</span></li><li><span class='ee-k'>5:</span><span class='ee-v'>5523915</span></li></ul></details></li><li><details><summary>data_type: signed int16</summary><ul><li><span class='ee-k'>type:</span><span class='ee-v'>PixelType</span></li><li><span class='ee-k'>max:</span><span class='ee-v'>32767</span></li><li><span class='ee-k'>min:</span><span class='ee-v'>-32768</span></li><li><span class='ee-k'>precision:</span><span class='ee-v'>int</span></li></ul></details></li><li><details><summary>dimensions: [666, 667]</summary><ul><li><span class='ee-k'>0:</span><span class='ee-v'>666</span></li><li><span class='ee-k'>1:</span><span class='ee-v'>667</span></li></ul></details></li><li><details><summary>origin: [2778, 1915]</summary><ul><li><span class='ee-k'>0:</span><span class='ee-v'>2778</span></li><li><span class='ee-k'>1:</span><span class='ee-v'>1915</span></li></ul></details></li></ul></details></li><li><details><summary>14: \"ST_QA\", signed int16, EPSG:32610, 666x667 px</summary><ul><li><span class='ee-k'>id:</span><span class='ee-v'>ST_QA</span></li><li><span class='ee-k'>crs:</span><span class='ee-v'>EPSG:32610</span></li><li><details><summary>crs_transform: [30, 0, 388785, 0, -30, 5523915]</summary><ul><li><span class='ee-k'>0:</span><span class='ee-v'>30</span></li><li><span class='ee-k'>1:</span><span class='ee-v'>0</span></li><li><span class='ee-k'>2:</span><span class='ee-v'>388785</span></li><li><span class='ee-k'>3:</span><span class='ee-v'>0</span></li><li><span class='ee-k'>4:</span><span class='ee-v'>-30</span></li><li><span class='ee-k'>5:</span><span class='ee-v'>5523915</span></li></ul></details></li><li><details><summary>data_type: signed int16</summary><ul><li><span class='ee-k'>type:</span><span class='ee-v'>PixelType</span></li><li><span class='ee-k'>max:</span><span class='ee-v'>32767</span></li><li><span class='ee-k'>min:</span><span class='ee-v'>-32768</span></li><li><span class='ee-k'>precision:</span><span class='ee-v'>int</span></li></ul></details></li><li><details><summary>dimensions: [666, 667]</summary><ul><li><span class='ee-k'>0:</span><span class='ee-v'>666</span></li><li><span class='ee-k'>1:</span><span class='ee-v'>667</span></li></ul></details></li><li><details><summary>origin: [2778, 1915]</summary><ul><li><span class='ee-k'>0:</span><span class='ee-v'>2778</span></li><li><span class='ee-k'>1:</span><span class='ee-v'>1915</span></li></ul></details></li></ul></details></li><li><details><summary>15: \"ST_TRAD\", signed int16, EPSG:32610, 666x667 px</summary><ul><li><span class='ee-k'>id:</span><span class='ee-v'>ST_TRAD</span></li><li><span class='ee-k'>crs:</span><span class='ee-v'>EPSG:32610</span></li><li><details><summary>crs_transform: [30, 0, 388785, 0, -30, 5523915]</summary><ul><li><span class='ee-k'>0:</span><span class='ee-v'>30</span></li><li><span class='ee-k'>1:</span><span class='ee-v'>0</span></li><li><span class='ee-k'>2:</span><span class='ee-v'>388785</span></li><li><span class='ee-k'>3:</span><span class='ee-v'>0</span></li><li><span class='ee-k'>4:</span><span class='ee-v'>-30</span></li><li><span class='ee-k'>5:</span><span class='ee-v'>5523915</span></li></ul></details></li><li><details><summary>data_type: signed int16</summary><ul><li><span class='ee-k'>type:</span><span class='ee-v'>PixelType</span></li><li><span class='ee-k'>max:</span><span class='ee-v'>32767</span></li><li><span class='ee-k'>min:</span><span class='ee-v'>-32768</span></li><li><span class='ee-k'>precision:</span><span class='ee-v'>int</span></li></ul></details></li><li><details><summary>dimensions: [666, 667]</summary><ul><li><span class='ee-k'>0:</span><span class='ee-v'>666</span></li><li><span class='ee-k'>1:</span><span class='ee-v'>667</span></li></ul></details></li><li><details><summary>origin: [2778, 1915]</summary><ul><li><span class='ee-k'>0:</span><span class='ee-v'>2778</span></li><li><span class='ee-k'>1:</span><span class='ee-v'>1915</span></li></ul></details></li></ul></details></li><li><details><summary>16: \"ST_URAD\", signed int16, EPSG:32610, 666x667 px</summary><ul><li><span class='ee-k'>id:</span><span class='ee-v'>ST_URAD</span></li><li><span class='ee-k'>crs:</span><span class='ee-v'>EPSG:32610</span></li><li><details><summary>crs_transform: [30, 0, 388785, 0, -30, 5523915]</summary><ul><li><span class='ee-k'>0:</span><span class='ee-v'>30</span></li><li><span class='ee-k'>1:</span><span class='ee-v'>0</span></li><li><span class='ee-k'>2:</span><span class='ee-v'>388785</span></li><li><span class='ee-k'>3:</span><span class='ee-v'>0</span></li><li><span class='ee-k'>4:</span><span class='ee-v'>-30</span></li><li><span class='ee-k'>5:</span><span class='ee-v'>5523915</span></li></ul></details></li><li><details><summary>data_type: signed int16</summary><ul><li><span class='ee-k'>type:</span><span class='ee-v'>PixelType</span></li><li><span class='ee-k'>max:</span><span class='ee-v'>32767</span></li><li><span class='ee-k'>min:</span><span class='ee-v'>-32768</span></li><li><span class='ee-k'>precision:</span><span class='ee-v'>int</span></li></ul></details></li><li><details><summary>dimensions: [666, 667]</summary><ul><li><span class='ee-k'>0:</span><span class='ee-v'>666</span></li><li><span class='ee-k'>1:</span><span class='ee-v'>667</span></li></ul></details></li><li><details><summary>origin: [2778, 1915]</summary><ul><li><span class='ee-k'>0:</span><span class='ee-v'>2778</span></li><li><span class='ee-k'>1:</span><span class='ee-v'>1915</span></li></ul></details></li></ul></details></li><li><details><summary>17: \"QA_PIXEL\", unsigned int16, EPSG:32610, 666x667 px</summary><ul><li><span class='ee-k'>id:</span><span class='ee-v'>QA_PIXEL</span></li><li><span class='ee-k'>crs:</span><span class='ee-v'>EPSG:32610</span></li><li><details><summary>crs_transform: [30, 0, 388785, 0, -30, 5523915]</summary><ul><li><span class='ee-k'>0:</span><span class='ee-v'>30</span></li><li><span class='ee-k'>1:</span><span class='ee-v'>0</span></li><li><span class='ee-k'>2:</span><span class='ee-v'>388785</span></li><li><span class='ee-k'>3:</span><span class='ee-v'>0</span></li><li><span class='ee-k'>4:</span><span class='ee-v'>-30</span></li><li><span class='ee-k'>5:</span><span class='ee-v'>5523915</span></li></ul></details></li><li><details><summary>data_type: unsigned int16</summary><ul><li><span class='ee-k'>type:</span><span class='ee-v'>PixelType</span></li><li><span class='ee-k'>max:</span><span class='ee-v'>65535</span></li><li><span class='ee-k'>min:</span><span class='ee-v'>0</span></li><li><span class='ee-k'>precision:</span><span class='ee-v'>int</span></li></ul></details></li><li><details><summary>dimensions: [666, 667]</summary><ul><li><span class='ee-k'>0:</span><span class='ee-v'>666</span></li><li><span class='ee-k'>1:</span><span class='ee-v'>667</span></li></ul></details></li><li><details><summary>origin: [2778, 1915]</summary><ul><li><span class='ee-k'>0:</span><span class='ee-v'>2778</span></li><li><span class='ee-k'>1:</span><span class='ee-v'>1915</span></li></ul></details></li></ul></details></li><li><details><summary>18: \"QA_RADSAT\", unsigned int16, EPSG:32610, 666x667 px</summary><ul><li><span class='ee-k'>id:</span><span class='ee-v'>QA_RADSAT</span></li><li><span class='ee-k'>crs:</span><span class='ee-v'>EPSG:32610</span></li><li><details><summary>crs_transform: [30, 0, 388785, 0, -30, 5523915]</summary><ul><li><span class='ee-k'>0:</span><span class='ee-v'>30</span></li><li><span class='ee-k'>1:</span><span class='ee-v'>0</span></li><li><span class='ee-k'>2:</span><span class='ee-v'>388785</span></li><li><span class='ee-k'>3:</span><span class='ee-v'>0</span></li><li><span class='ee-k'>4:</span><span class='ee-v'>-30</span></li><li><span class='ee-k'>5:</span><span class='ee-v'>5523915</span></li></ul></details></li><li><details><summary>data_type: unsigned int16</summary><ul><li><span class='ee-k'>type:</span><span class='ee-v'>PixelType</span></li><li><span class='ee-k'>max:</span><span class='ee-v'>65535</span></li><li><span class='ee-k'>min:</span><span class='ee-v'>0</span></li><li><span class='ee-k'>precision:</span><span class='ee-v'>int</span></li></ul></details></li><li><details><summary>dimensions: [666, 667]</summary><ul><li><span class='ee-k'>0:</span><span class='ee-v'>666</span></li><li><span class='ee-k'>1:</span><span class='ee-v'>667</span></li></ul></details></li><li><details><summary>origin: [2778, 1915]</summary><ul><li><span class='ee-k'>0:</span><span class='ee-v'>2778</span></li><li><span class='ee-k'>1:</span><span class='ee-v'>1915</span></li></ul></details></li></ul></details></li></ul></details></li><li><details><summary>properties: Object (130 properties)</summary><ul><li><span class='ee-k'>ALGORITHM_SOURCE_SURFACE_REFLECTANCE:</span><span class='ee-v'>LEDAPS_3.4.0</span></li><li><span class='ee-k'>ALGORITHM_SOURCE_SURFACE_TEMPERATURE:</span><span class='ee-v'>st_1.3.0</span></li><li><span class='ee-k'>CLOUD_COVER:</span><span class='ee-v'>1</span></li><li><span class='ee-k'>CLOUD_COVER_LAND:</span><span class='ee-v'>1</span></li><li><span class='ee-k'>COLLECTION_CATEGORY:</span><span class='ee-v'>T1</span></li><li><span class='ee-k'>COLLECTION_NUMBER:</span><span class='ee-v'>2</span></li><li><span class='ee-k'>CORRECTION_BIAS_BAND_1:</span><span class='ee-v'>INTERNAL_CALIBRATION</span></li><li><span class='ee-k'>CORRECTION_BIAS_BAND_2:</span><span class='ee-v'>INTERNAL_CALIBRATION</span></li><li><span class='ee-k'>CORRECTION_BIAS_BAND_3:</span><span class='ee-v'>INTERNAL_CALIBRATION</span></li><li><span class='ee-k'>CORRECTION_BIAS_BAND_4:</span><span class='ee-v'>INTERNAL_CALIBRATION</span></li><li><span class='ee-k'>CORRECTION_BIAS_BAND_5:</span><span class='ee-v'>INTERNAL_CALIBRATION</span></li><li><span class='ee-k'>CORRECTION_BIAS_BAND_6_VCID_1:</span><span class='ee-v'>INTERNAL_CALIBRATION</span></li><li><span class='ee-k'>CORRECTION_BIAS_BAND_6_VCID_2:</span><span class='ee-v'>INTERNAL_CALIBRATION</span></li><li><span class='ee-k'>CORRECTION_BIAS_BAND_7:</span><span class='ee-v'>INTERNAL_CALIBRATION</span></li><li><span class='ee-k'>CORRECTION_BIAS_BAND_8:</span><span class='ee-v'>INTERNAL_CALIBRATION</span></li><li><span class='ee-k'>CORRECTION_GAIN_BAND_1:</span><span class='ee-v'>CPF</span></li><li><span class='ee-k'>CORRECTION_GAIN_BAND_2:</span><span class='ee-v'>CPF</span></li><li><span class='ee-k'>CORRECTION_GAIN_BAND_3:</span><span class='ee-v'>CPF</span></li><li><span class='ee-k'>CORRECTION_GAIN_BAND_4:</span><span class='ee-v'>CPF</span></li><li><span class='ee-k'>CORRECTION_GAIN_BAND_5:</span><span class='ee-v'>CPF</span></li><li><span class='ee-k'>CORRECTION_GAIN_BAND_6_VCID_1:</span><span class='ee-v'>CPF</span></li><li><span class='ee-k'>CORRECTION_GAIN_BAND_6_VCID_2:</span><span class='ee-v'>CPF</span></li><li><span class='ee-k'>CORRECTION_GAIN_BAND_7:</span><span class='ee-v'>CPF</span></li><li><span class='ee-k'>CORRECTION_GAIN_BAND_8:</span><span class='ee-v'>CPF</span></li><li><span class='ee-k'>DATA_SOURCE_AIR_TEMPERATURE:</span><span class='ee-v'>NCEP</span></li><li><span class='ee-k'>DATA_SOURCE_ELEVATION:</span><span class='ee-v'>GLS2000</span></li><li><span class='ee-k'>DATA_SOURCE_OZONE:</span><span class='ee-v'>TOMS</span></li><li><span class='ee-k'>DATA_SOURCE_PRESSURE:</span><span class='ee-v'>NCEP</span></li><li><span class='ee-k'>DATA_SOURCE_REANALYSIS:</span><span class='ee-v'>GEOS-5 FP-IT</span></li><li><span class='ee-k'>DATA_SOURCE_WATER_VAPOR:</span><span class='ee-v'>NCEP</span></li><li><span class='ee-k'>DATE_ACQUIRED:</span><span class='ee-v'>2008-08-05</span></li><li><span class='ee-k'>DATE_PRODUCT_GENERATED:</span><span class='ee-v'>1599939437000</span></li><li><span class='ee-k'>DATUM:</span><span class='ee-v'>WGS84</span></li><li><span class='ee-k'>EARTH_SUN_DISTANCE:</span><span class='ee-v'>1.0143077</span></li><li><span class='ee-k'>ELLIPSOID:</span><span class='ee-v'>WGS84</span></li><li><span class='ee-k'>EPHEMERIS_TYPE:</span><span class='ee-v'>DEFINITIVE</span></li><li><span class='ee-k'>GAIN_BAND_1:</span><span class='ee-v'>H</span></li><li><span class='ee-k'>GAIN_BAND_2:</span><span class='ee-v'>H</span></li><li><span class='ee-k'>GAIN_BAND_3:</span><span class='ee-v'>H</span></li><li><span class='ee-k'>GAIN_BAND_4:</span><span class='ee-v'>L</span></li><li><span class='ee-k'>GAIN_BAND_5:</span><span class='ee-v'>H</span></li><li><span class='ee-k'>GAIN_BAND_6_VCID_1:</span><span class='ee-v'>L</span></li><li><span class='ee-k'>GAIN_BAND_6_VCID_2:</span><span class='ee-v'>H</span></li><li><span class='ee-k'>GAIN_BAND_7:</span><span class='ee-v'>H</span></li><li><span class='ee-k'>GAIN_BAND_8:</span><span class='ee-v'>L</span></li><li><span class='ee-k'>GAIN_CHANGE_BAND_1:</span><span class='ee-v'>HH</span></li><li><span class='ee-k'>GAIN_CHANGE_BAND_2:</span><span class='ee-v'>HH</span></li><li><span class='ee-k'>GAIN_CHANGE_BAND_3:</span><span class='ee-v'>HH</span></li><li><span class='ee-k'>GAIN_CHANGE_BAND_4:</span><span class='ee-v'>LL</span></li><li><span class='ee-k'>GAIN_CHANGE_BAND_5:</span><span class='ee-v'>HH</span></li><li><span class='ee-k'>GAIN_CHANGE_BAND_6_VCID_1:</span><span class='ee-v'>LL</span></li><li><span class='ee-k'>GAIN_CHANGE_BAND_6_VCID_2:</span><span class='ee-v'>HH</span></li><li><span class='ee-k'>GAIN_CHANGE_BAND_7:</span><span class='ee-v'>HH</span></li><li><span class='ee-k'>GAIN_CHANGE_BAND_8:</span><span class='ee-v'>LL</span></li><li><span class='ee-k'>GAIN_CHANGE_SCAN_BAND_1:</span><span class='ee-v'>0</span></li><li><span class='ee-k'>GAIN_CHANGE_SCAN_BAND_2:</span><span class='ee-v'>0</span></li><li><span class='ee-k'>GAIN_CHANGE_SCAN_BAND_3:</span><span class='ee-v'>0</span></li><li><span class='ee-k'>GAIN_CHANGE_SCAN_BAND_4:</span><span class='ee-v'>0</span></li><li><span class='ee-k'>GAIN_CHANGE_SCAN_BAND_5:</span><span class='ee-v'>0</span></li><li><span class='ee-k'>GAIN_CHANGE_SCAN_BAND_6_VCID_1:</span><span class='ee-v'>0</span></li><li><span class='ee-k'>GAIN_CHANGE_SCAN_BAND_6_VCID_2:</span><span class='ee-v'>0</span></li><li><span class='ee-k'>GAIN_CHANGE_SCAN_BAND_7:</span><span class='ee-v'>0</span></li><li><span class='ee-k'>GAIN_CHANGE_SCAN_BAND_8:</span><span class='ee-v'>0</span></li><li><span class='ee-k'>GEOMETRIC_RMSE_MODEL:</span><span class='ee-v'>3.938</span></li><li><span class='ee-k'>GEOMETRIC_RMSE_MODEL_X:</span><span class='ee-v'>2.577</span></li><li><span class='ee-k'>GEOMETRIC_RMSE_MODEL_Y:</span><span class='ee-v'>2.978</span></li><li><span class='ee-k'>GRID_CELL_SIZE_REFLECTIVE:</span><span class='ee-v'>30</span></li><li><span class='ee-k'>GRID_CELL_SIZE_THERMAL:</span><span class='ee-v'>30</span></li><li><span class='ee-k'>GROUND_CONTROL_POINTS_MODEL:</span><span class='ee-v'>1168</span></li><li><span class='ee-k'>GROUND_CONTROL_POINTS_VERSION:</span><span class='ee-v'>5</span></li><li><span class='ee-k'>IMAGE_QUALITY:</span><span class='ee-v'>9</span></li><li><span class='ee-k'>L1_DATE_PRODUCT_GENERATED:</span><span class='ee-v'>2020-09-12T19:22:15Z</span></li><li><span class='ee-k'>L1_LANDSAT_PRODUCT_ID:</span><span class='ee-v'>LE07_L1TP_047026_20080805_20200912_02_T1</span></li><li><span class='ee-k'>L1_PROCESSING_LEVEL:</span><span class='ee-v'>L1TP</span></li><li><span class='ee-k'>L1_PROCESSING_SOFTWARE_VERSION:</span><span class='ee-v'>LPGS_15.3.1c</span></li><li><span class='ee-k'>L1_REQUEST_ID:</span><span class='ee-v'>L2</span></li><li><span class='ee-k'>LANDSAT_PRODUCT_ID:</span><span class='ee-v'>LE07_L2SP_047026_20080805_20200912_02_T1</span></li><li><span class='ee-k'>LANDSAT_SCENE_ID:</span><span class='ee-v'>LE70470262008218EDC00</span></li><li><span class='ee-k'>MAP_PROJECTION:</span><span class='ee-v'>UTM</span></li><li><span class='ee-k'>ORIENTATION:</span><span class='ee-v'>NORTH_UP</span></li><li><span class='ee-k'>PROCESSING_LEVEL:</span><span class='ee-v'>L2SP</span></li><li><span class='ee-k'>PROCESSING_SOFTWARE_VERSION:</span><span class='ee-v'>LPGS_15.3.1c</span></li><li><span class='ee-k'>REFLECTANCE_ADD_BAND_1:</span><span class='ee-v'>-0.2</span></li><li><span class='ee-k'>REFLECTANCE_ADD_BAND_2:</span><span class='ee-v'>-0.2</span></li><li><span class='ee-k'>REFLECTANCE_ADD_BAND_3:</span><span class='ee-v'>-0.2</span></li><li><span class='ee-k'>REFLECTANCE_ADD_BAND_4:</span><span class='ee-v'>-0.2</span></li><li><span class='ee-k'>REFLECTANCE_ADD_BAND_5:</span><span class='ee-v'>-0.2</span></li><li><span class='ee-k'>REFLECTANCE_ADD_BAND_7:</span><span class='ee-v'>-0.2</span></li><li><span class='ee-k'>REFLECTANCE_MULT_BAND_1:</span><span class='ee-v'>2.75e-05</span></li><li><span class='ee-k'>REFLECTANCE_MULT_BAND_2:</span><span class='ee-v'>2.75e-05</span></li><li><span class='ee-k'>REFLECTANCE_MULT_BAND_3:</span><span class='ee-v'>2.75e-05</span></li><li><span class='ee-k'>REFLECTANCE_MULT_BAND_4:</span><span class='ee-v'>2.75e-05</span></li><li><span class='ee-k'>REFLECTANCE_MULT_BAND_5:</span><span class='ee-v'>2.75e-05</span></li><li><span class='ee-k'>REFLECTANCE_MULT_BAND_7:</span><span class='ee-v'>2.75e-05</span></li><li><span class='ee-k'>REFLECTIVE_LINES:</span><span class='ee-v'>7361</span></li><li><span class='ee-k'>REFLECTIVE_SAMPLES:</span><span class='ee-v'>8181</span></li><li><span class='ee-k'>REQUEST_ID:</span><span class='ee-v'>L2</span></li><li><span class='ee-k'>SATURATION_BAND_1:</span><span class='ee-v'>Y</span></li><li><span class='ee-k'>SATURATION_BAND_2:</span><span class='ee-v'>Y</span></li><li><span class='ee-k'>SATURATION_BAND_3:</span><span class='ee-v'>Y</span></li><li><span class='ee-k'>SATURATION_BAND_4:</span><span class='ee-v'>Y</span></li><li><span class='ee-k'>SATURATION_BAND_5:</span><span class='ee-v'>Y</span></li><li><span class='ee-k'>SATURATION_BAND_6_VCID_1:</span><span class='ee-v'>N</span></li><li><span class='ee-k'>SATURATION_BAND_6_VCID_2:</span><span class='ee-v'>N</span></li><li><span class='ee-k'>SATURATION_BAND_7:</span><span class='ee-v'>Y</span></li><li><span class='ee-k'>SATURATION_BAND_8:</span><span class='ee-v'>N</span></li><li><span class='ee-k'>SCENE_CENTER_TIME:</span><span class='ee-v'>18:50:39.3258907Z</span></li><li><span class='ee-k'>SENSOR_ANOMALIES:</span><span class='ee-v'>NONE</span></li><li><span class='ee-k'>SENSOR_ID:</span><span class='ee-v'>ETM</span></li><li><span class='ee-k'>SENSOR_MODE:</span><span class='ee-v'>BUMPER</span></li><li><span class='ee-k'>SENSOR_MODE_SLC:</span><span class='ee-v'>OFF</span></li><li><span class='ee-k'>SPACECRAFT_ID:</span><span class='ee-v'>LANDSAT_7</span></li><li><span class='ee-k'>STATION_ID:</span><span class='ee-v'>EDC</span></li><li><span class='ee-k'>SUN_AZIMUTH:</span><span class='ee-v'>143.46596867</span></li><li><span class='ee-k'>SUN_ELEVATION:</span><span class='ee-v'>53.24924745</span></li><li><span class='ee-k'>TEMPERATURE_ADD_BAND_ST_B6:</span><span class='ee-v'>149</span></li><li><span class='ee-k'>TEMPERATURE_MAXIMUM_BAND_ST_B6:</span><span class='ee-v'>372.999941</span></li><li><span class='ee-k'>TEMPERATURE_MINIMUM_BAND_ST_B6:</span><span class='ee-v'>149.003418</span></li><li><span class='ee-k'>TEMPERATURE_MULT_BAND_ST_B6:</span><span class='ee-v'>0.00341802</span></li><li><span class='ee-k'>THERMAL_LINES:</span><span class='ee-v'>7361</span></li><li><span class='ee-k'>THERMAL_SAMPLES:</span><span class='ee-v'>8181</span></li><li><span class='ee-k'>UTM_ZONE:</span><span class='ee-v'>10</span></li><li><span class='ee-k'>WRS_PATH:</span><span class='ee-v'>47</span></li><li><span class='ee-k'>WRS_ROW:</span><span class='ee-v'>26</span></li><li><span class='ee-k'>WRS_TYPE:</span><span class='ee-v'>2</span></li><li><span class='ee-k'>system:asset_size:</span><span class='ee-v'>586232620</span></li><li><details><summary>system:footprint: Polygon (24 vertices)</summary><ul><li><span class='ee-k'>type:</span><span class='ee-v'>Polygon</span></li><li><details><summary>coordinates: List (1 element)</summary><ul><li><details><summary>0: List (24 elements)</summary><ul><li><details><summary>0: [-123.24600000000001, 49.35058865951481]</summary><ul><li><span class='ee-k'>0:</span><span class='ee-v'>-123.24600000000001</span></li><li><span class='ee-k'>1:</span><span class='ee-v'>49.35058865951481</span></li></ul></details></li><li><details><summary>1: [-123.28458164684125, 49.34700069604188]</summary><ul><li><span class='ee-k'>0:</span><span class='ee-v'>-123.28458164684125</span></li><li><span class='ee-k'>1:</span><span class='ee-v'>49.34700069604188</span></li></ul></details></li><li><details><summary>2: [-123.32007643696014, 49.33652390500039]</summary><ul><li><span class='ee-k'>0:</span><span class='ee-v'>-123.32007643696014</span></li><li><span class='ee-k'>1:</span><span class='ee-v'>49.33652390500039</span></li></ul></details></li><li><details><summary>3: [-123.34964817495259, 49.319996260587814]</summary><ul><li><span class='ee-k'>0:</span><span class='ee-v'>-123.34964817495259</span></li><li><span class='ee-k'>1:</span><span class='ee-v'>49.319996260587814</span></li></ul></details></li><li><details><summary>4: [-123.3709404708974, 49.29873864593105]</summary><ul><li><span class='ee-k'>0:</span><span class='ee-v'>-123.3709404708974</span></li><li><span class='ee-k'>1:</span><span class='ee-v'>49.29873864593105</span></li></ul></details></li><li><details><summary>5: [-123.38226506529955, 49.27444805505966]</summary><ul><li><span class='ee-k'>0:</span><span class='ee-v'>-123.38226506529955</span></li><li><span class='ee-k'>1:</span><span class='ee-v'>49.27444805505966</span></li></ul></details></li><li><details><summary>6: [-123.38273412012424, 49.24906098546364]</summary><ul><li><span class='ee-k'>0:</span><span class='ee-v'>-123.38273412012424</span></li><li><span class='ee-k'>1:</span><span class='ee-v'>49.24906098546364</span></li></ul></details></li><li><details><summary>7: [-123.37232662132382, 49.22459837253746]</summary><ul><li><span class='ee-k'>0:</span><span class='ee-v'>-123.37232662132382</span></li><li><span class='ee-k'>1:</span><span class='ee-v'>49.22459837253746</span></li></ul></details></li><li><details><summary>8: [-123.3518849567381, 49.20300469266797]</summary><ul><li><span class='ee-k'>0:</span><span class='ee-v'>-123.3518849567381</span></li><li><span class='ee-k'>1:</span><span class='ee-v'>49.20300469266797</span></li></ul></details></li><li><details><summary>9: [-123.32304353228395, 49.185994046129444]</summary><ul><li><span class='ee-k'>0:</span><span class='ee-v'>-123.32304353228395</span></li><li><span class='ee-k'>1:</span><span class='ee-v'>49.185994046129444</span></li></ul></details></li><li><details><summary>10: [-123.28809644349256, 49.174915198304134]</summary><ul><li><span class='ee-k'>0:</span><span class='ee-v'>-123.28809644349256</span></li><li><span class='ee-k'>1:</span><span class='ee-v'>49.174915198304134</span></li></ul></details></li><li><details><summary>11: [-123.24981540955972, 49.17064585951625]</summary><ul><li><span class='ee-k'>0:</span><span class='ee-v'>-123.24981540955972</span></li><li><span class='ee-k'>1:</span><span class='ee-v'>49.17064585951625</span></li></ul></details></li><li><details><summary>12: [-123.21123227966504, 49.17352411113648]</summary><ul><li><span class='ee-k'>0:</span><span class='ee-v'>-123.21123227966504</span></li><li><span class='ee-k'>1:</span><span class='ee-v'>49.17352411113648</span></li></ul></details></li><li><details><summary>13: [-123.17540245048482, 49.18332203884045]</summary><ul><li><span class='ee-k'>0:</span><span class='ee-v'>-123.17540245048482</span></li><li><span class='ee-k'>1:</span><span class='ee-v'>49.18332203884045</span></li></ul></details></li><li><details><summary>14: [-123.14516656293702, 49.1992635046307]</summary><ul><li><span class='ee-k'>0:</span><span class='ee-v'>-123.14516656293702</span></li><li><span class='ee-k'>1:</span><span class='ee-v'>49.1992635046307</span></li></ul></details></li><li><details><summary>15: [-123.1229279367207, 49.22008475652874]</summary><ul><li><span class='ee-k'>0:</span><span class='ee-v'>-123.1229279367207</span></li><li><span class='ee-k'>1:</span><span class='ee-v'>49.22008475652874</span></li></ul></details></li><li><details><summary>16: [-123.11046235944214, 49.24413341154005]</summary><ul><li><span class='ee-k'>0:</span><span class='ee-v'>-123.11046235944214</span></li><li><span class='ee-k'>1:</span><span class='ee-v'>49.24413341154005</span></li></ul></details></li><li><details><summary>17: [-123.10877502012703, 49.26949843070997]</summary><ul><li><span class='ee-k'>0:</span><span class='ee-v'>-123.10877502012703</span></li><li><span class='ee-k'>1:</span><span class='ee-v'>49.26949843070997</span></li></ul></details></li><li><details><summary>18: [-123.11801648869312, 49.29416122392341]</summary><ul><li><span class='ee-k'>0:</span><span class='ee-v'>-123.11801648869312</span></li><li><span class='ee-k'>1:</span><span class='ee-v'>49.29416122392341</span></li></ul></details></li><li><details><summary>19: [-123.13746566149744, 49.31615617606601]</summary><ul><li><span class='ee-k'>0:</span><span class='ee-v'>-123.13746566149744</span></li><li><span class='ee-k'>1:</span><span class='ee-v'>49.31615617606601</span></li></ul></details></li><li><details><summary>20: [-123.16558260928608, 49.33372787028143]</summary><ul><li><span class='ee-k'>0:</span><span class='ee-v'>-123.16558260928608</span></li><li><span class='ee-k'>1:</span><span class='ee-v'>49.33372787028143</span></li></ul></details></li><li><details><summary>21: [-123.20012855591487, 49.34547226044481]</summary><ul><li><span class='ee-k'>0:</span><span class='ee-v'>-123.20012855591487</span></li><li><span class='ee-k'>1:</span><span class='ee-v'>49.34547226044481</span></li></ul></details></li><li><details><summary>22: [-123.23834427122769, 49.35045010579123]</summary><ul><li><span class='ee-k'>0:</span><span class='ee-v'>-123.23834427122769</span></li><li><span class='ee-k'>1:</span><span class='ee-v'>49.35045010579123</span></li></ul></details></li><li><details><summary>23: [-123.24600000000001, 49.35058865951481]</summary><ul><li><span class='ee-k'>0:</span><span class='ee-v'>-123.24600000000001</span></li><li><span class='ee-k'>1:</span><span class='ee-v'>49.35058865951481</span></li></ul></details></li></ul></details></li></ul></details></li></ul></details></li><li><span class='ee-k'>system:index:</span><span class='ee-v'>LE07_047026_20080805</span></li><li><span class='ee-k'>system:time_end:</span><span class='ee-v'>1217962239325</span></li><li><span class='ee-k'>system:time_start:</span><span class='ee-v'>1217962239325</span></li></ul></details></li></ul></details></li></ul></div></div>"
            ]
          },
          "metadata": {}
        }
      ]
    },
    {
      "cell_type": "code",
      "source": [
        "# prompt: download a tiff file for b3_sr for the roi of all images in clipped_collection\n",
        "\n",
        "# Import necessary libraries\n",
        "import ee\n",
        "import geemap.core as geemap\n",
        "\n",
        "# Assuming 'clipped_collection' is already defined as in the provided code\n",
        "\n",
        "# Function to download a TIFF file for a specific band and image\n",
        "def download_b3_tiff(image):\n",
        "    # Get the image ID\n",
        "    image_id = image.id().getInfo()\n",
        "\n",
        "    # Define the output filename\n",
        "    filename = f'/content/drive/MyDrive/b3_sr_{image_id}.tif'  # Specify your desired folder and filename\n",
        "\n",
        "    # Export the image as a GeoTIFF\n",
        "    geemap.ee_export_image(\n",
        "        image.select('SR_B3'),  # Select the desired band\n",
        "        filename=filename,\n",
        "        scale=30,  # Adjust the scale as needed\n",
        "        region=image.geometry(),  # Use the image's geometry for the region\n",
        "        file_per_band=False  # Export as a single TIFF file\n",
        "    )\n",
        "\n",
        "# Iterate through the images in the clipped collection and download the B3 band\n",
        "for i in range(clipped_collection.size().getInfo()):\n",
        "  image = ee.Image(clipped_collection.toList(clipped_collection.size()).get(i))\n",
        "  download_b3_tiff(image)\n",
        "\n"
      ],
      "metadata": {
        "id": "vAXBwcOTdNAD"
      },
      "execution_count": null,
      "outputs": []
    },
    {
      "cell_type": "code",
      "source": [
        "display('Collection:', filtered)"
      ],
      "metadata": {
        "colab": {
          "base_uri": "https://localhost:8080/",
          "height": 86
        },
        "id": "hN19NyamBS7R",
        "outputId": "0d626380-d9b2-4480-82b0-6fa7862ba889"
      },
      "execution_count": null,
      "outputs": [
        {
          "output_type": "display_data",
          "data": {
            "text/plain": [
              "<IPython.core.display.HTML object>"
            ],
            "text/html": [
              "\n",
              "            <style>\n",
              "                .geemap-dark {\n",
              "                    --jp-widgets-color: white;\n",
              "                    --jp-widgets-label-color: white;\n",
              "                    --jp-ui-font-color1: white;\n",
              "                    --jp-layout-color2: #454545;\n",
              "                    background-color: #383838;\n",
              "                }\n",
              "\n",
              "                .geemap-dark .jupyter-button {\n",
              "                    --jp-layout-color3: #383838;\n",
              "                }\n",
              "\n",
              "                .geemap-colab {\n",
              "                    background-color: var(--colab-primary-surface-color, white);\n",
              "                }\n",
              "\n",
              "                .geemap-colab .jupyter-button {\n",
              "                    --jp-layout-color3: var(--colab-primary-surface-color, white);\n",
              "                }\n",
              "            </style>\n",
              "            "
            ]
          },
          "metadata": {}
        },
        {
          "output_type": "display_data",
          "data": {
            "text/plain": [
              "'Collection:'"
            ],
            "application/vnd.google.colaboratory.intrinsic+json": {
              "type": "string"
            }
          },
          "metadata": {}
        },
        {
          "output_type": "display_data",
          "data": {
            "text/plain": [
              "<ee.imagecollection.ImageCollection at 0x7fab40bc1f90>"
            ],
            "text/html": [
              "<div><style>:root {\n",
              "  --font-color-primary: var(--jp-content-font-color0, rgba(0, 0, 0, 1));\n",
              "  --font-color-secondary: var(--jp-content-font-color2, rgba(0, 0, 0, 0.7));\n",
              "  --font-color-accent: rgba(123, 31, 162, 1);\n",
              "  --border-color: var(--jp-border-color2, #e0e0e0);\n",
              "  --background-color: var(--jp-layout-color0, white);\n",
              "  --background-color-row-even: var(--jp-layout-color1, white);\n",
              "  --background-color-row-odd: var(--jp-layout-color2, #eeeeee);\n",
              "}\n",
              "\n",
              "html[theme=\"dark\"],\n",
              "body[data-theme=\"dark\"],\n",
              "body.vscode-dark {\n",
              "  --font-color-primary: rgba(255, 255, 255, 1);\n",
              "  --font-color-secondary: rgba(255, 255, 255, 0.7);\n",
              "  --font-color-accent: rgb(173, 132, 190);\n",
              "  --border-color: #2e2e2e;\n",
              "  --background-color: #111111;\n",
              "  --background-color-row-even: #111111;\n",
              "  --background-color-row-odd: #313131;\n",
              "}\n",
              "\n",
              ".eerepr {\n",
              "  padding: 1em;\n",
              "  line-height: 1.5em;\n",
              "  min-width: 300px;\n",
              "  max-width: 1200px;\n",
              "  overflow-y: scroll;\n",
              "  max-height: 600px;\n",
              "  border: 1px solid var(--border-color);\n",
              "  font-family: monospace;\n",
              "  font-size: 14px;\n",
              "}\n",
              "\n",
              ".eerepr li {\n",
              "  list-style-type: none;\n",
              "  margin: 0;\n",
              "}\n",
              "\n",
              ".eerepr ul {\n",
              "  padding-left: 1.5em !important;\n",
              "  margin: 0;\n",
              "}\n",
              "\n",
              ".eerepr > ul {\n",
              "  padding-left: 0 !important;\n",
              "}\n",
              "\n",
              ".eerepr summary {\n",
              "  color: var(--font-color-secondary);\n",
              "  cursor: pointer;\n",
              "  margin: 0;\n",
              "}\n",
              "\n",
              ".eerepr summary:hover {\n",
              "  color: var(--font-color-primary);\n",
              "  background-color: var(--background-color-row-odd)\n",
              "}\n",
              "\n",
              ".ee-k {\n",
              "  color: var(--font-color-accent);\n",
              "  margin-right: 6px;\n",
              "}\n",
              "\n",
              ".ee-v {\n",
              "  color: var(--font-color-primary);\n",
              "}\n",
              "\n",
              ".eerepr details > summary::before {\n",
              "  content: '▼';\n",
              "  display: inline-block;\n",
              "  margin-right: 6px;\n",
              "  transition: transform 0.2s;\n",
              "  transform: rotate(-90deg);\n",
              "}\n",
              "\n",
              ".eerepr details[open] > summary::before {\n",
              "  transform: rotate(0deg);\n",
              "}\n",
              "\n",
              ".eerepr details summary::-webkit-details-marker {\n",
              "  display:none;\n",
              "}\n",
              "\n",
              ".eerepr details summary {\n",
              "  list-style-type: none;\n",
              "}\n",
              "</style><div class='eerepr'><ul><li><details><summary>ImageCollection LANDSAT/LE07/C02/T1_L2  (15 elements)</summary><ul><li><span class='ee-k'>type:</span><span class='ee-v'>ImageCollection</span></li><li><span class='ee-k'>id:</span><span class='ee-v'>LANDSAT/LE07/C02/T1_L2</span></li><li><span class='ee-k'>version:</span><span class='ee-v'>1724299751217428</span></li><li><details><summary>bands: []</summary><ul></ul></details></li><li><details><summary>properties: Object (22 properties)</summary><ul><li><details><summary>date_range: [915148800000, 1649203200000]</summary><ul><li><span class='ee-k'>0:</span><span class='ee-v'>915148800000</span></li><li><span class='ee-k'>1:</span><span class='ee-v'>1649203200000</span></li></ul></details></li><li><span class='ee-k'>description:</span><span class='ee-v'>&lt;p&gt;This dataset contains atmospherically corrected\n",
              "surface reflectance and land surface temperature derived from the data\n",
              "produced by the Landsat 7 ETM+ sensor.\n",
              "These images contain 4 visible and near-infrared (VNIR) bands and\n",
              "2 short-wave infrared (SWIR) bands processed to orthorectified surface\n",
              "reflectance, and one thermal infrared (TIR) band processed to orthorectified\n",
              "surface temperature. They also contain intermediate bands used in\n",
              "calculation of the ST products, as well as QA bands.&lt;/p&gt;&lt;p&gt;Landsat 7 SR products are created with the Landsat Ecosystem Disturbance\n",
              "Adaptive Processing System (LEDAPS) algorithm (version 3.4.0).\n",
              "All Collection 2 ST products are created with a single-channel algorithm\n",
              "jointly created by the Rochester Institute of Technology (RIT) and\n",
              "National Aeronautics and Space Administration (NASA)\n",
              "Jet Propulsion Laboratory (JPL).&lt;/p&gt;&lt;p&gt;Strips of collected data are packaged into overlapping &amp;quot;scenes&amp;quot; covering approximately\n",
              "170km x 183km using a &lt;a href=&quot;https://landsat.gsfc.nasa.gov/about/worldwide-reference-system&quot;&gt;standardized reference grid&lt;/a&gt;.&lt;/p&gt;&lt;p&gt;Note that\n",
              "&lt;a href=&quot;https://www.sciencedirect.com/science/article/pii/S2666017221000134?via%3Dihub&quot;&gt;Landsat 7&amp;#39;s orbit has been drifting to an earlier acquisition time since 2017&lt;/a&gt;.&lt;/p&gt;&lt;p&gt;Some assets have only SR data, in which case ST bands are present but empty.\n",
              "For assets with both ST and SR bands, &amp;#39;PROCESSING_LEVEL&amp;#39; is set to &amp;#39;L2SP&amp;#39;.\n",
              "For assets with only SR bands, &amp;#39;PROCESSING_LEVEL&amp;#39; is set to &amp;#39;L2SR&amp;#39;.&lt;/p&gt;&lt;p&gt;&lt;a href=&quot;/earth-engine/guides/landsat&quot;&gt;Additional documentation and usage examples.&lt;/a&gt;&lt;/p&gt;&lt;p&gt;Data provider notes:&lt;/p&gt;&lt;ul&gt;&lt;li&gt;&lt;p&gt;Data products must contain both optical and thermal data to be\n",
              "successfully processed to surface temperature, as ASTER NDVI is\n",
              "required to temporally adjust the ASTER GED product to the target Landsat\n",
              "scene. Therefore, night time acquisitions cannot be processed to\n",
              "surface temperature.&lt;/p&gt;&lt;/li&gt;&lt;li&gt;&lt;p&gt;A known error exists in the surface temperature retrievals relative\n",
              "to clouds and possibly cloud shadows. The characterization of these\n",
              "issues has been documented by\n",
              "&lt;a href=&quot;https://doi.org/10.3390/rs61111244&quot;&gt;Cook et al., (2014)&lt;/a&gt;.&lt;/p&gt;&lt;/li&gt;&lt;li&gt;&lt;p&gt;For Landsat 7 ETM+ products, Band 6 TOA BT and ST data are generated from\n",
              "ETM+ Band 6 High (6H) and 6 Low (6L) merged together. The merged band\n",
              "contains unsaturated pixels from Band 6H. If Band 6H pixels have a BT\n",
              "outside of the 6H dynamic range (240 to 322 Kelvin) then 6L band pixels\n",
              "are used. Pixels that are saturated in Band 6L remain saturated in the\n",
              "merged Band 6 product. The merged thermal radiance is then used in the\n",
              "creation of the TOA BT and ST data.&lt;/p&gt;&lt;/li&gt;&lt;/ul&gt;&lt;p&gt;&lt;b&gt;Provider: &lt;a href=&quot;https://www.usgs.gov/core-science-systems/nli/landsat/landsat-collection-2-level-2-science-products&quot;&gt;USGS&lt;/a&gt;&lt;/b&gt;&lt;br&gt;&lt;p&gt;&lt;b&gt;Resolution&lt;/b&gt;&lt;br&gt;30 meters\n",
              "&lt;/p&gt;&lt;p&gt;&lt;b&gt;Revisit Interval&lt;/b&gt;&lt;br&gt;\n",
              "  16 days\n",
              "&lt;/p&gt;&lt;p&gt;&lt;b&gt;Bands&lt;/b&gt;&lt;table class=&quot;eecat&quot;&gt;&lt;tr&gt;&lt;th scope=&quot;col&quot;&gt;Name&lt;/th&gt;&lt;th scope=&quot;col&quot;&gt;Units&lt;/th&gt;&lt;th scope=&quot;col&quot;&gt;Min&lt;/th&gt;&lt;th scope=&quot;col&quot;&gt;Max&lt;/th&gt;&lt;th scope=&quot;col&quot;&gt;Scale&lt;/th&gt;&lt;th scope=&quot;col&quot;&gt;Offset&lt;/th&gt;&lt;th scope=&quot;col&quot;&gt;Wavelength&lt;/th&gt;&lt;th scope=&quot;col&quot;&gt;Description&lt;/th&gt;&lt;/tr&gt;&lt;tr&gt;&lt;td&gt;SR_B1&lt;/td&gt;&lt;td&gt;&lt;/td&gt;&lt;td&gt;\n",
              "          1\n",
              "&lt;/td&gt;&lt;td&gt;\n",
              "          65455\n",
              "&lt;/td&gt;&lt;td&gt;2.75e-05&lt;/td&gt;&lt;td&gt;-0.2&lt;/td&gt;&lt;td&gt;0.45-0.52 &amp;mu;m&lt;/td&gt;&lt;td&gt;&lt;p&gt;Band 1 (blue) surface reflectance&lt;/p&gt;&lt;/td&gt;&lt;/tr&gt;&lt;tr&gt;&lt;td&gt;SR_B2&lt;/td&gt;&lt;td&gt;&lt;/td&gt;&lt;td&gt;\n",
              "          1\n",
              "&lt;/td&gt;&lt;td&gt;\n",
              "          65455\n",
              "&lt;/td&gt;&lt;td&gt;2.75e-05&lt;/td&gt;&lt;td&gt;-0.2&lt;/td&gt;&lt;td&gt;0.52-0.60 &amp;mu;m&lt;/td&gt;&lt;td&gt;&lt;p&gt;Band 2 (green) surface reflectance&lt;/p&gt;&lt;/td&gt;&lt;/tr&gt;&lt;tr&gt;&lt;td&gt;SR_B3&lt;/td&gt;&lt;td&gt;&lt;/td&gt;&lt;td&gt;\n",
              "          1\n",
              "&lt;/td&gt;&lt;td&gt;\n",
              "          65455\n",
              "&lt;/td&gt;&lt;td&gt;2.75e-05&lt;/td&gt;&lt;td&gt;-0.2&lt;/td&gt;&lt;td&gt;0.63-0.69 &amp;mu;m&lt;/td&gt;&lt;td&gt;&lt;p&gt;Band 3 (red) surface reflectance&lt;/p&gt;&lt;/td&gt;&lt;/tr&gt;&lt;tr&gt;&lt;td&gt;SR_B4&lt;/td&gt;&lt;td&gt;&lt;/td&gt;&lt;td&gt;\n",
              "          1\n",
              "&lt;/td&gt;&lt;td&gt;\n",
              "          65455\n",
              "&lt;/td&gt;&lt;td&gt;2.75e-05&lt;/td&gt;&lt;td&gt;-0.2&lt;/td&gt;&lt;td&gt;0.77-0.90 &amp;mu;m&lt;/td&gt;&lt;td&gt;&lt;p&gt;Band 4 (near infrared) surface reflectance&lt;/p&gt;&lt;/td&gt;&lt;/tr&gt;&lt;tr&gt;&lt;td&gt;SR_B5&lt;/td&gt;&lt;td&gt;&lt;/td&gt;&lt;td&gt;\n",
              "          1\n",
              "&lt;/td&gt;&lt;td&gt;\n",
              "          65455\n",
              "&lt;/td&gt;&lt;td&gt;2.75e-05&lt;/td&gt;&lt;td&gt;-0.2&lt;/td&gt;&lt;td&gt;1.55-1.75 &amp;mu;m&lt;/td&gt;&lt;td&gt;&lt;p&gt;Band 5 (shortwave infrared 1) surface reflectance&lt;/p&gt;&lt;/td&gt;&lt;/tr&gt;&lt;tr&gt;&lt;td&gt;SR_B7&lt;/td&gt;&lt;td&gt;&lt;/td&gt;&lt;td&gt;\n",
              "          1\n",
              "&lt;/td&gt;&lt;td&gt;\n",
              "          65455\n",
              "&lt;/td&gt;&lt;td&gt;2.75e-05&lt;/td&gt;&lt;td&gt;-0.2&lt;/td&gt;&lt;td&gt;2.08-2.35 &amp;mu;m&lt;/td&gt;&lt;td&gt;&lt;p&gt;Band 7 (shortwave infrared 2) surface reflectance&lt;/p&gt;&lt;/td&gt;&lt;/tr&gt;&lt;tr&gt;&lt;td&gt;SR_ATMOS_OPACITY&lt;/td&gt;&lt;td&gt;&lt;/td&gt;&lt;td&gt;\n",
              "          0\n",
              "&lt;/td&gt;&lt;td&gt;\n",
              "          10000\n",
              "&lt;/td&gt;&lt;td&gt;0.001&lt;/td&gt;&lt;td&gt;&lt;/td&gt;&lt;td&gt;&lt;/td&gt;&lt;td&gt;&lt;p&gt;A general interpretation of atmospheric opacity\n",
              "generated by LEDAPS and based on the radiance viewed over Dark Dense\n",
              "Vegetation (DDV) within the scene. A general interpretation of atmospheric\n",
              "opacity is that values (after scaling by 0.001 is applied)\n",
              "less than 0.1 are clear, 0.1-0.3 are average,\n",
              "and values greater than 0.3 indicate haze or other cloud situations.\n",
              "SR values from pixels with high atmospheric opacity will be less reliable,\n",
              "especially under high solar zenith angle conditions. The\n",
              "SR_ATMOS_OPACITY band is provided for advanced users and for product quality\n",
              "assessment and has not been validated. Most users are advised to instead use\n",
              "the QA_PIXEL band information for cloud discrimination.&lt;/p&gt;&lt;/td&gt;&lt;/tr&gt;&lt;tr&gt;&lt;td&gt;SR_CLOUD_QA&lt;/td&gt;&lt;td&gt;&lt;/td&gt;&lt;td&gt;&lt;/td&gt;&lt;td&gt;&lt;/td&gt;&lt;td&gt;&lt;/td&gt;&lt;td&gt;&lt;/td&gt;&lt;td&gt;&lt;/td&gt;&lt;td&gt;&lt;p&gt;Cloud Quality Assessment&lt;/p&gt;&lt;/td&gt;&lt;/tr&gt;&lt;tr&gt;&lt;td colspan=100&gt;\n",
              "      Bitmask for SR_CLOUD_QA\n",
              "&lt;ul&gt;&lt;li&gt;\n",
              "          Bit 0: Dark Dense Vegetation (DDV)\n",
              "&lt;ul&gt;&lt;/ul&gt;&lt;/li&gt;&lt;li&gt;\n",
              "          Bit 1: Cloud\n",
              "&lt;ul&gt;&lt;/ul&gt;&lt;/li&gt;&lt;li&gt;\n",
              "          Bit 2: Cloud Shadow\n",
              "&lt;ul&gt;&lt;/ul&gt;&lt;/li&gt;&lt;li&gt;\n",
              "          Bit 3: Adjacent to Cloud\n",
              "&lt;ul&gt;&lt;/ul&gt;&lt;/li&gt;&lt;li&gt;\n",
              "          Bit 4: Snow\n",
              "&lt;ul&gt;&lt;/ul&gt;&lt;/li&gt;&lt;li&gt;\n",
              "          Bit 5: Water\n",
              "&lt;ul&gt;&lt;/ul&gt;&lt;/li&gt;&lt;/ul&gt;&lt;/td&gt;&lt;/tr&gt;&lt;tr&gt;&lt;td&gt;ST_B6&lt;/td&gt;&lt;td&gt;Kelvin&lt;/td&gt;&lt;td&gt;\n",
              "          0\n",
              "&lt;/td&gt;&lt;td&gt;\n",
              "          65535\n",
              "&lt;/td&gt;&lt;td&gt;0.00341802&lt;/td&gt;&lt;td&gt;149&lt;/td&gt;&lt;td&gt;10.40-12.50 &amp;mu;m&lt;/td&gt;&lt;td&gt;&lt;p&gt;Band 6 surface temperature. If &amp;#39;PROCESSING_LEVEL&amp;#39; is set to &amp;#39;L2SR&amp;#39;, this band is fully masked out.&lt;/p&gt;&lt;/td&gt;&lt;/tr&gt;&lt;tr&gt;&lt;td&gt;ST_ATRAN&lt;/td&gt;&lt;td&gt;&lt;/td&gt;&lt;td&gt;\n",
              "          0\n",
              "&lt;/td&gt;&lt;td&gt;\n",
              "          10000\n",
              "&lt;/td&gt;&lt;td&gt;0.0001&lt;/td&gt;&lt;td&gt;&lt;/td&gt;&lt;td&gt;&lt;/td&gt;&lt;td&gt;&lt;p&gt;Atmospheric Transmittance. If &amp;#39;PROCESSING_LEVEL&amp;#39; is set to &amp;#39;L2SR&amp;#39;, this band is fully masked out.&lt;/p&gt;&lt;/td&gt;&lt;/tr&gt;&lt;tr&gt;&lt;td&gt;ST_CDIST&lt;/td&gt;&lt;td&gt;km&lt;/td&gt;&lt;td&gt;\n",
              "          0\n",
              "&lt;/td&gt;&lt;td&gt;\n",
              "          24000\n",
              "&lt;/td&gt;&lt;td&gt;0.01&lt;/td&gt;&lt;td&gt;&lt;/td&gt;&lt;td&gt;&lt;/td&gt;&lt;td&gt;&lt;p&gt;Pixel distance to cloud. If &amp;#39;PROCESSING_LEVEL&amp;#39; is set to &amp;#39;L2SR&amp;#39;, this band is fully masked out.&lt;/p&gt;&lt;/td&gt;&lt;/tr&gt;&lt;tr&gt;&lt;td&gt;ST_DRAD&lt;/td&gt;&lt;td&gt;W/(m^2*sr*um)/ DN&lt;/td&gt;&lt;td&gt;\n",
              "          0\n",
              "&lt;/td&gt;&lt;td&gt;\n",
              "          28000\n",
              "&lt;/td&gt;&lt;td&gt;0.001&lt;/td&gt;&lt;td&gt;&lt;/td&gt;&lt;td&gt;&lt;/td&gt;&lt;td&gt;&lt;p&gt;Downwelled Radiance. If &amp;#39;PROCESSING_LEVEL&amp;#39; is set to &amp;#39;L2SR&amp;#39;, this band is fully masked out.&lt;/p&gt;&lt;/td&gt;&lt;/tr&gt;&lt;tr&gt;&lt;td&gt;ST_EMIS&lt;/td&gt;&lt;td&gt;&lt;/td&gt;&lt;td&gt;\n",
              "          0\n",
              "&lt;/td&gt;&lt;td&gt;\n",
              "          10000\n",
              "&lt;/td&gt;&lt;td&gt;0.0001&lt;/td&gt;&lt;td&gt;&lt;/td&gt;&lt;td&gt;&lt;/td&gt;&lt;td&gt;&lt;p&gt;Emissivity estimated from ASTER GED. If &amp;#39;PROCESSING_LEVEL&amp;#39; is set to &amp;#39;L2SR&amp;#39;, this band is fully masked out.&lt;/p&gt;&lt;/td&gt;&lt;/tr&gt;&lt;tr&gt;&lt;td&gt;ST_EMSD&lt;/td&gt;&lt;td&gt;&lt;/td&gt;&lt;td&gt;\n",
              "          0\n",
              "&lt;/td&gt;&lt;td&gt;\n",
              "          10000\n",
              "&lt;/td&gt;&lt;td&gt;0.0001&lt;/td&gt;&lt;td&gt;&lt;/td&gt;&lt;td&gt;&lt;/td&gt;&lt;td&gt;&lt;p&gt;Emissivity standard deviation. If &amp;#39;PROCESSING_LEVEL&amp;#39; is set to &amp;#39;L2SR&amp;#39;, this band is fully masked out.&lt;/p&gt;&lt;/td&gt;&lt;/tr&gt;&lt;tr&gt;&lt;td&gt;ST_QA&lt;/td&gt;&lt;td&gt;K&lt;/td&gt;&lt;td&gt;\n",
              "          0\n",
              "&lt;/td&gt;&lt;td&gt;\n",
              "          32767\n",
              "&lt;/td&gt;&lt;td&gt;0.01&lt;/td&gt;&lt;td&gt;&lt;/td&gt;&lt;td&gt;&lt;/td&gt;&lt;td&gt;&lt;p&gt;Uncertainty of the Surface Temperature band. If &amp;#39;PROCESSING_LEVEL&amp;#39; is set to &amp;#39;L2SR&amp;#39;, this band is fully masked out.&lt;/p&gt;&lt;/td&gt;&lt;/tr&gt;&lt;tr&gt;&lt;td&gt;ST_TRAD&lt;/td&gt;&lt;td&gt;W/(m^2*sr*um)/ DN&lt;/td&gt;&lt;td&gt;\n",
              "          0\n",
              "&lt;/td&gt;&lt;td&gt;\n",
              "          22000\n",
              "&lt;/td&gt;&lt;td&gt;0.001&lt;/td&gt;&lt;td&gt;&lt;/td&gt;&lt;td&gt;&lt;/td&gt;&lt;td&gt;&lt;p&gt;Thermal band converted to radiance. If &amp;#39;PROCESSING_LEVEL&amp;#39; is set to &amp;#39;L2SR&amp;#39;, this band is fully masked out.&lt;/p&gt;&lt;/td&gt;&lt;/tr&gt;&lt;tr&gt;&lt;td&gt;ST_URAD&lt;/td&gt;&lt;td&gt;W/(m^2*sr*um)/ DN&lt;/td&gt;&lt;td&gt;\n",
              "          0\n",
              "&lt;/td&gt;&lt;td&gt;\n",
              "          28000\n",
              "&lt;/td&gt;&lt;td&gt;0.001&lt;/td&gt;&lt;td&gt;&lt;/td&gt;&lt;td&gt;&lt;/td&gt;&lt;td&gt;&lt;p&gt;Upwelled Radiance. If &amp;#39;PROCESSING_LEVEL&amp;#39; is set to &amp;#39;L2SR&amp;#39;, this band is fully masked out.&lt;/p&gt;&lt;/td&gt;&lt;/tr&gt;&lt;tr&gt;&lt;td&gt;QA_PIXEL&lt;/td&gt;&lt;td&gt;&lt;/td&gt;&lt;td&gt;&lt;/td&gt;&lt;td&gt;&lt;/td&gt;&lt;td&gt;&lt;/td&gt;&lt;td&gt;&lt;/td&gt;&lt;td&gt;&lt;/td&gt;&lt;td&gt;&lt;p&gt;Pixel quality attributes generated from the CFMASK algorithm.&lt;/p&gt;&lt;/td&gt;&lt;/tr&gt;&lt;tr&gt;&lt;td colspan=100&gt;\n",
              "      Bitmask for QA_PIXEL\n",
              "&lt;ul&gt;&lt;li&gt;\n",
              "          Bit 0: Fill\n",
              "&lt;ul&gt;&lt;/ul&gt;&lt;/li&gt;&lt;li&gt;\n",
              "          Bit 1: Dilated Cloud\n",
              "&lt;ul&gt;&lt;/ul&gt;&lt;/li&gt;&lt;li&gt;\n",
              "          Bit 2: Unused\n",
              "&lt;ul&gt;&lt;/ul&gt;&lt;/li&gt;&lt;li&gt;\n",
              "          Bit 3: Cloud\n",
              "&lt;ul&gt;&lt;/ul&gt;&lt;/li&gt;&lt;li&gt;\n",
              "          Bit 4: Cloud Shadow\n",
              "&lt;ul&gt;&lt;/ul&gt;&lt;/li&gt;&lt;li&gt;\n",
              "          Bit 5: Snow\n",
              "&lt;ul&gt;&lt;/ul&gt;&lt;/li&gt;&lt;li&gt;\n",
              "          Bit 6: Clear\n",
              "&lt;ul&gt;&lt;li&gt;0: Cloud or Dilated Cloud bits are set&lt;/li&gt;&lt;li&gt;1: Cloud and Dilated Cloud bits are not set&lt;/li&gt;&lt;/ul&gt;&lt;/li&gt;&lt;li&gt;\n",
              "          Bit 7: Water\n",
              "&lt;ul&gt;&lt;/ul&gt;&lt;/li&gt;&lt;li&gt;\n",
              "          Bits 8-9: Cloud Confidence\n",
              "&lt;ul&gt;&lt;li&gt;0: None&lt;/li&gt;&lt;li&gt;1: Low&lt;/li&gt;&lt;li&gt;2: Medium&lt;/li&gt;&lt;li&gt;3: High&lt;/li&gt;&lt;/ul&gt;&lt;/li&gt;&lt;li&gt;\n",
              "          Bits 10-11: Cloud Shadow Confidence\n",
              "&lt;ul&gt;&lt;li&gt;0: None&lt;/li&gt;&lt;li&gt;1: Low&lt;/li&gt;&lt;li&gt;2: Medium&lt;/li&gt;&lt;li&gt;3: High&lt;/li&gt;&lt;/ul&gt;&lt;/li&gt;&lt;li&gt;\n",
              "          Bits 12-13: Snow/Ice Confidence\n",
              "&lt;ul&gt;&lt;li&gt;0: None&lt;/li&gt;&lt;li&gt;1: Low&lt;/li&gt;&lt;li&gt;2: Medium&lt;/li&gt;&lt;li&gt;3: High&lt;/li&gt;&lt;/ul&gt;&lt;/li&gt;&lt;li&gt;\n",
              "          Bits 14-15: Cirrus Confidence\n",
              "&lt;ul&gt;&lt;li&gt;0: None&lt;/li&gt;&lt;li&gt;1: Low&lt;/li&gt;&lt;li&gt;2: Medium&lt;/li&gt;&lt;li&gt;3: High&lt;/li&gt;&lt;/ul&gt;&lt;/li&gt;&lt;/ul&gt;&lt;/td&gt;&lt;/tr&gt;&lt;tr&gt;&lt;td&gt;QA_RADSAT&lt;/td&gt;&lt;td&gt;&lt;/td&gt;&lt;td&gt;&lt;/td&gt;&lt;td&gt;&lt;/td&gt;&lt;td&gt;&lt;/td&gt;&lt;td&gt;&lt;/td&gt;&lt;td&gt;&lt;/td&gt;&lt;td&gt;&lt;p&gt;Radiometric saturation QA&lt;/p&gt;&lt;/td&gt;&lt;/tr&gt;&lt;tr&gt;&lt;td colspan=100&gt;\n",
              "      Bitmask for QA_RADSAT\n",
              "&lt;ul&gt;&lt;li&gt;\n",
              "          Bit 0: Band 1 data saturated\n",
              "&lt;ul&gt;&lt;/ul&gt;&lt;/li&gt;&lt;li&gt;\n",
              "          Bit 1: Band 2 data saturated\n",
              "&lt;ul&gt;&lt;/ul&gt;&lt;/li&gt;&lt;li&gt;\n",
              "          Bit 2: Band 3 data saturated\n",
              "&lt;ul&gt;&lt;/ul&gt;&lt;/li&gt;&lt;li&gt;\n",
              "          Bit 3: Band 4 data saturated\n",
              "&lt;ul&gt;&lt;/ul&gt;&lt;/li&gt;&lt;li&gt;\n",
              "          Bit 4: Band 5 data saturated\n",
              "&lt;ul&gt;&lt;/ul&gt;&lt;/li&gt;&lt;li&gt;\n",
              "          Bit 5: Band 6L data saturated\n",
              "&lt;ul&gt;&lt;/ul&gt;&lt;/li&gt;&lt;li&gt;\n",
              "          Bit 6: Band 7 data saturated\n",
              "&lt;ul&gt;&lt;/ul&gt;&lt;/li&gt;&lt;li&gt;\n",
              "          Bit 7: Unused\n",
              "&lt;ul&gt;&lt;/ul&gt;&lt;/li&gt;&lt;li&gt;\n",
              "          Bit 8: Band 6H data saturated\n",
              "&lt;ul&gt;&lt;/ul&gt;&lt;/li&gt;&lt;li&gt;\n",
              "          Bit 9: Dropped pixel\n",
              "&lt;ul&gt;&lt;li&gt;0: Pixel present&lt;/li&gt;&lt;li&gt;1: Detector doesn&amp;#39;t have a value&lt;/li&gt;&lt;/ul&gt;&lt;/li&gt;&lt;/ul&gt;&lt;/td&gt;&lt;/tr&gt;&lt;/table&gt;&lt;p&gt;&lt;b&gt;Image Properties&lt;/b&gt;&lt;table class=&quot;eecat&quot;&gt;&lt;tr&gt;&lt;th scope=&quot;col&quot;&gt;Name&lt;/th&gt;&lt;th scope=&quot;col&quot;&gt;Type&lt;/th&gt;&lt;th scope=&quot;col&quot;&gt;Description&lt;/th&gt;&lt;/tr&gt;&lt;tr&gt;&lt;td&gt;ALGORITHM_SOURCE_SURFACE_REFLECTANCE&lt;/td&gt;&lt;td&gt;STRING&lt;/td&gt;&lt;td&gt;&lt;p&gt;Name and version of the surface reflectance algorithm.&lt;/p&gt;&lt;/td&gt;&lt;/tr&gt;&lt;tr&gt;&lt;td&gt;ALGORITHM_SOURCE_SURFACE_TEMPERATURE&lt;/td&gt;&lt;td&gt;STRING&lt;/td&gt;&lt;td&gt;&lt;p&gt;Name and version of the surface temperature algorithm.&lt;/p&gt;&lt;/td&gt;&lt;/tr&gt;&lt;tr&gt;&lt;td&gt;CLOUD_COVER&lt;/td&gt;&lt;td&gt;DOUBLE&lt;/td&gt;&lt;td&gt;&lt;p&gt;Percentage cloud cover (0-100), -1 = not calculated.&lt;/p&gt;&lt;/td&gt;&lt;/tr&gt;&lt;tr&gt;&lt;td&gt;CLOUD_COVER_LAND&lt;/td&gt;&lt;td&gt;DOUBLE&lt;/td&gt;&lt;td&gt;&lt;p&gt;Percentage cloud cover over land (0-100), -1 = not calculated.&lt;/p&gt;&lt;/td&gt;&lt;/tr&gt;&lt;tr&gt;&lt;td&gt;COLLECTION_CATEGORY&lt;/td&gt;&lt;td&gt;STRING&lt;/td&gt;&lt;td&gt;&lt;p&gt;Scene collection category, &amp;quot;T1&amp;quot; or &amp;quot;T2&amp;quot;.&lt;/p&gt;&lt;/td&gt;&lt;/tr&gt;&lt;tr&gt;&lt;td&gt;DATA_SOURCE_AIR_TEMPERATURE&lt;/td&gt;&lt;td&gt;STRING&lt;/td&gt;&lt;td&gt;&lt;p&gt;Air temperature data source.&lt;/p&gt;&lt;/td&gt;&lt;/tr&gt;&lt;tr&gt;&lt;td&gt;DATA_SOURCE_ELEVATION&lt;/td&gt;&lt;td&gt;STRING&lt;/td&gt;&lt;td&gt;&lt;p&gt;Elevation data source.&lt;/p&gt;&lt;/td&gt;&lt;/tr&gt;&lt;tr&gt;&lt;td&gt;DATA_SOURCE_OZONE&lt;/td&gt;&lt;td&gt;STRING&lt;/td&gt;&lt;td&gt;&lt;p&gt;Ozone data source.&lt;/p&gt;&lt;/td&gt;&lt;/tr&gt;&lt;tr&gt;&lt;td&gt;DATA_SOURCE_PRESSURE&lt;/td&gt;&lt;td&gt;STRING&lt;/td&gt;&lt;td&gt;&lt;p&gt;Pressure data source.&lt;/p&gt;&lt;/td&gt;&lt;/tr&gt;&lt;tr&gt;&lt;td&gt;DATA_SOURCE_REANALYSIS&lt;/td&gt;&lt;td&gt;STRING&lt;/td&gt;&lt;td&gt;&lt;p&gt;Reanalysis data source.&lt;/p&gt;&lt;/td&gt;&lt;/tr&gt;&lt;tr&gt;&lt;td&gt;DATA_SOURCE_WATER_VAPOR&lt;/td&gt;&lt;td&gt;STRING&lt;/td&gt;&lt;td&gt;&lt;p&gt;Water vapor data source.&lt;/p&gt;&lt;/td&gt;&lt;/tr&gt;&lt;tr&gt;&lt;td&gt;DATE_PRODUCT_GENERATED&lt;/td&gt;&lt;td&gt;DOUBLE&lt;/td&gt;&lt;td&gt;&lt;p&gt;Timestamp of the date when the product was generated.&lt;/p&gt;&lt;/td&gt;&lt;/tr&gt;&lt;tr&gt;&lt;td&gt;EARTH_SUN_DISTANCE&lt;/td&gt;&lt;td&gt;DOUBLE&lt;/td&gt;&lt;td&gt;&lt;p&gt;Earth-Sun distance (AU).&lt;/p&gt;&lt;/td&gt;&lt;/tr&gt;&lt;tr&gt;&lt;td&gt;EPHEMERIS_TYPE&lt;/td&gt;&lt;td&gt;PROPERTY_TYPE_UNSPECIFIED&lt;/td&gt;&lt;td&gt;&lt;p&gt;Identifier to inform the user of the orbital ephemeris type used:\n",
              "&amp;quot;DEFINITIVE&amp;quot; or &amp;quot;PREDICTIVE&amp;quot;. If the field is not present, the user should\n",
              "assume &amp;quot;PREDICTIVE&amp;quot;.&lt;/p&gt;&lt;/td&gt;&lt;/tr&gt;&lt;tr&gt;&lt;td&gt;GEOMETRIC_RMSE_MODEL&lt;/td&gt;&lt;td&gt;DOUBLE&lt;/td&gt;&lt;td&gt;&lt;p&gt;Combined RMSE (Root Mean Square Error) of the geometric\n",
              "residuals (meters) in both across-track and along-track\n",
              "directions.&lt;/p&gt;&lt;/td&gt;&lt;/tr&gt;&lt;tr&gt;&lt;td&gt;GEOMETRIC_RMSE_MODEL_X&lt;/td&gt;&lt;td&gt;DOUBLE&lt;/td&gt;&lt;td&gt;&lt;p&gt;RMSE (Root Mean Square Error) of the geometric residuals (meters)\n",
              "measured on the GCPs (Ground Control Points) used in geometric\n",
              "precision correction in the across-track direction.&lt;/p&gt;&lt;/td&gt;&lt;/tr&gt;&lt;tr&gt;&lt;td&gt;GEOMETRIC_RMSE_MODEL_Y&lt;/td&gt;&lt;td&gt;DOUBLE&lt;/td&gt;&lt;td&gt;&lt;p&gt;RMSE (Root Mean Square Error) of the geometric residuals (meters)\n",
              "measured on the GCPs (Ground Control Points) used in geometric\n",
              "precision correction in the along-track direction.&lt;/p&gt;&lt;/td&gt;&lt;/tr&gt;&lt;tr&gt;&lt;td&gt;GROUND_CONTROL_POINTS_MODEL&lt;/td&gt;&lt;td&gt;DOUBLE&lt;/td&gt;&lt;td&gt;&lt;p&gt;Number of GCPs used in the precision correction process.\n",
              "This parameter is only present if the PROCESSING_LEVEL is L1TP.&lt;/p&gt;&lt;/td&gt;&lt;/tr&gt;&lt;tr&gt;&lt;td&gt;GROUND_CONTROL_POINTS_VERSION&lt;/td&gt;&lt;td&gt;DOUBLE&lt;/td&gt;&lt;td&gt;&lt;p&gt;GCP dataset version used in the precision correction process. This\n",
              "parameter is only present if the PROCESSING_LEVEL is L1TP.&lt;/p&gt;&lt;/td&gt;&lt;/tr&gt;&lt;tr&gt;&lt;td&gt;IMAGE_QUALITY&lt;/td&gt;&lt;td&gt;INT&lt;/td&gt;&lt;td&gt;&lt;p&gt;Composite image quality for the bands.\n",
              "0 = worst, 9 = best, -1 = quality not calculated or assessed.&lt;/p&gt;&lt;/td&gt;&lt;/tr&gt;&lt;tr&gt;&lt;td&gt;L1_DATE_PRODUCT_GENERATED&lt;/td&gt;&lt;td&gt;STRING&lt;/td&gt;&lt;td&gt;&lt;p&gt;Product generation date for the corresponding L1 product.&lt;/p&gt;&lt;/td&gt;&lt;/tr&gt;&lt;tr&gt;&lt;td&gt;L1_LANDSAT_PRODUCT_ID&lt;/td&gt;&lt;td&gt;STRING&lt;/td&gt;&lt;td&gt;&lt;p&gt;Landsat Product Identifier for the corresponding L1 product.&lt;/p&gt;&lt;/td&gt;&lt;/tr&gt;&lt;tr&gt;&lt;td&gt;L1_PROCESSING_LEVEL&lt;/td&gt;&lt;td&gt;STRING&lt;/td&gt;&lt;td&gt;&lt;p&gt;Processing Level for the corresponding L1 product.&lt;/p&gt;&lt;/td&gt;&lt;/tr&gt;&lt;tr&gt;&lt;td&gt;L1_PROCESSING_SOFTWARE_VERSION&lt;/td&gt;&lt;td&gt;STRING&lt;/td&gt;&lt;td&gt;&lt;p&gt;Processing software version for the corresponding L1 product.&lt;/p&gt;&lt;/td&gt;&lt;/tr&gt;&lt;tr&gt;&lt;td&gt;LANDSAT_PRODUCT_ID&lt;/td&gt;&lt;td&gt;STRING&lt;/td&gt;&lt;td&gt;&lt;p&gt;Landsat Product Identifier&lt;/p&gt;&lt;/td&gt;&lt;/tr&gt;&lt;tr&gt;&lt;td&gt;LANDSAT_SCENE_ID&lt;/td&gt;&lt;td&gt;STRING&lt;/td&gt;&lt;td&gt;&lt;p&gt;Short Landsat Scene Identifier&lt;/p&gt;&lt;/td&gt;&lt;/tr&gt;&lt;tr&gt;&lt;td&gt;PROCESSING_LEVEL&lt;/td&gt;&lt;td&gt;STRING&lt;/td&gt;&lt;td&gt;&lt;p&gt;&amp;quot;L2SP&amp;quot; when both SR and LST bands are present, or &amp;quot;L2SR&amp;quot; when only\n",
              "SR bands are present.&lt;/p&gt;&lt;/td&gt;&lt;/tr&gt;&lt;tr&gt;&lt;td&gt;PROCESSING_SOFTWARE_VERSION&lt;/td&gt;&lt;td&gt;STRING&lt;/td&gt;&lt;td&gt;&lt;p&gt;The processing software version that created the product.&lt;/p&gt;&lt;/td&gt;&lt;/tr&gt;&lt;tr&gt;&lt;td&gt;SCENE_CENTER_TIME&lt;/td&gt;&lt;td&gt;STRING&lt;/td&gt;&lt;td&gt;&lt;p&gt;Time of the observations as in ISO 8601 string.&lt;/p&gt;&lt;/td&gt;&lt;/tr&gt;&lt;tr&gt;&lt;td&gt;SENSOR_ID&lt;/td&gt;&lt;td&gt;STRING&lt;/td&gt;&lt;td&gt;&lt;p&gt;Name of the sensor.&lt;/p&gt;&lt;/td&gt;&lt;/tr&gt;&lt;tr&gt;&lt;td&gt;SPACECRAFT_ID&lt;/td&gt;&lt;td&gt;STRING&lt;/td&gt;&lt;td&gt;&lt;p&gt;Name of the spacecraft.&lt;/p&gt;&lt;/td&gt;&lt;/tr&gt;&lt;tr&gt;&lt;td&gt;SUN_AZIMUTH&lt;/td&gt;&lt;td&gt;DOUBLE&lt;/td&gt;&lt;td&gt;&lt;p&gt;Sun azimuth angle in degrees for the image center location at the\n",
              "image center acquisition time. A positive value indicates angles to the\n",
              "east or clockwise from the north. A negative value indicates angles to\n",
              "the west or counterclockwise from the north.&lt;/p&gt;&lt;/td&gt;&lt;/tr&gt;&lt;tr&gt;&lt;td&gt;SUN_ELEVATION&lt;/td&gt;&lt;td&gt;DOUBLE&lt;/td&gt;&lt;td&gt;&lt;p&gt;Sun elevation angle in degrees for the image center location at the\n",
              "image center acquisition time. A positive value indicates a daytime\n",
              "scene. A negative value indicates a nighttime scene.\n",
              "Note: For reflectance calculation, the sun zenith angle is needed,\n",
              "which is 90 - sun elevation angle.&lt;/p&gt;&lt;/td&gt;&lt;/tr&gt;&lt;tr&gt;&lt;td&gt;TEMPERATURE_MAXIMUM_BAND_ST_B6&lt;/td&gt;&lt;td&gt;DOUBLE&lt;/td&gt;&lt;td&gt;&lt;p&gt;Maximum achievable temperature value for Band 6.&lt;/p&gt;&lt;/td&gt;&lt;/tr&gt;&lt;tr&gt;&lt;td&gt;TEMPERATURE_MINIMUM_BAND_ST_B6&lt;/td&gt;&lt;td&gt;DOUBLE&lt;/td&gt;&lt;td&gt;&lt;p&gt;Minimum achievable temperature value for Band 6.&lt;/p&gt;&lt;/td&gt;&lt;/tr&gt;&lt;tr&gt;&lt;td&gt;WRS_PATH&lt;/td&gt;&lt;td&gt;INT&lt;/td&gt;&lt;td&gt;&lt;p&gt;WRS path number of scene.&lt;/p&gt;&lt;/td&gt;&lt;/tr&gt;&lt;tr&gt;&lt;td&gt;WRS_ROW&lt;/td&gt;&lt;td&gt;INT&lt;/td&gt;&lt;td&gt;&lt;p&gt;WRS row number of scene.&lt;/p&gt;&lt;/td&gt;&lt;/tr&gt;&lt;/table&gt;&lt;p&gt;&lt;b&gt;Terms of Use&lt;/b&gt;&lt;br&gt;&lt;p&gt;Landsat datasets are federally created data\n",
              "and therefore reside in the public domain and may be used, transferred, or reproduced without copyright restriction.&lt;/p&gt;&lt;p&gt;Acknowledgement or credit of the USGS as data source should be provided\n",
              "by including a line of text citation such as the example shown below.&lt;/p&gt;&lt;p&gt;(Product, Image, Photograph, or Dataset Name) courtesy of\n",
              "the U.S. Geological Survey&lt;/p&gt;&lt;p&gt;Example: Landsat-7 image courtesy of the U.S. Geological Survey&lt;/p&gt;&lt;p&gt;See the\n",
              "&lt;a href=&quot;https://www.usgs.gov/information-policies-and-instructions/usgs-visual-identity-system&quot;&gt;USGS Visual Identity System Guidance&lt;/a&gt;\n",
              "for further details on proper citation and acknowledgement of USGS products.&lt;/p&gt;&lt;style&gt;\n",
              "  table.eecat {\n",
              "  border: 1px solid black;\n",
              "  border-collapse: collapse;\n",
              "  font-size: 13px;\n",
              "  }\n",
              "  table.eecat td, tr, th {\n",
              "  text-align: left; vertical-align: top;\n",
              "  border: 1px solid gray; padding: 3px;\n",
              "  }\n",
              "  td.nobreak { white-space: nowrap; }\n",
              "&lt;/style&gt;</span></li><li><details><summary>keywords: List (11 elements)</summary><ul><li><span class='ee-k'>0:</span><span class='ee-v'>cfmask</span></li><li><span class='ee-k'>1:</span><span class='ee-v'>cloud</span></li><li><span class='ee-k'>2:</span><span class='ee-v'>etm</span></li><li><span class='ee-k'>3:</span><span class='ee-v'>fmask</span></li><li><span class='ee-k'>4:</span><span class='ee-v'>global</span></li><li><span class='ee-k'>5:</span><span class='ee-v'>landsat</span></li><li><span class='ee-k'>6:</span><span class='ee-v'>lasrc</span></li><li><span class='ee-k'>7:</span><span class='ee-v'>lst</span></li><li><span class='ee-k'>8:</span><span class='ee-v'>reflectance</span></li><li><span class='ee-k'>9:</span><span class='ee-v'>sr</span></li><li><span class='ee-k'>10:</span><span class='ee-v'>usgs</span></li></ul></details></li><li><span class='ee-k'>period:</span><span class='ee-v'>0</span></li><li><details><summary>product_tags: List (10 elements)</summary><ul><li><span class='ee-k'>0:</span><span class='ee-v'>global</span></li><li><span class='ee-k'>1:</span><span class='ee-v'>sr</span></li><li><span class='ee-k'>2:</span><span class='ee-v'>reflectance</span></li><li><span class='ee-k'>3:</span><span class='ee-v'>lst</span></li><li><span class='ee-k'>4:</span><span class='ee-v'>cloud</span></li><li><span class='ee-k'>5:</span><span class='ee-v'>lasrc</span></li><li><span class='ee-k'>6:</span><span class='ee-v'>fmask</span></li><li><span class='ee-k'>7:</span><span class='ee-v'>cfmask</span></li><li><span class='ee-k'>8:</span><span class='ee-v'>etm</span></li><li><span class='ee-k'>9:</span><span class='ee-v'>le07</span></li></ul></details></li><li><span class='ee-k'>provider:</span><span class='ee-v'>USGS</span></li><li><span class='ee-k'>provider_url:</span><span class='ee-v'>https://www.usgs.gov/core-science-systems/nli/landsat/landsat-collection-2-level-2-science-products</span></li><li><span class='ee-k'>sample:</span><span class='ee-v'>https://mw1.google.com/ges/dd/images/LANDSAT_SR_sample.png</span></li><li><details><summary>source_tags: ['landsat', 'usgs']</summary><ul><li><span class='ee-k'>0:</span><span class='ee-v'>landsat</span></li><li><span class='ee-k'>1:</span><span class='ee-v'>usgs</span></li></ul></details></li><li><details><summary>tags: List (11 elements)</summary><ul><li><span class='ee-k'>0:</span><span class='ee-v'>cfmask</span></li><li><span class='ee-k'>1:</span><span class='ee-v'>cloud</span></li><li><span class='ee-k'>2:</span><span class='ee-v'>etm</span></li><li><span class='ee-k'>3:</span><span class='ee-v'>fmask</span></li><li><span class='ee-k'>4:</span><span class='ee-v'>global</span></li><li><span class='ee-k'>5:</span><span class='ee-v'>landsat</span></li><li><span class='ee-k'>6:</span><span class='ee-v'>lasrc</span></li><li><span class='ee-k'>7:</span><span class='ee-v'>lst</span></li><li><span class='ee-k'>8:</span><span class='ee-v'>reflectance</span></li><li><span class='ee-k'>9:</span><span class='ee-v'>sr</span></li><li><span class='ee-k'>10:</span><span class='ee-v'>usgs</span></li></ul></details></li><li><span class='ee-k'>thumb:</span><span class='ee-v'>https://mw1.google.com/ges/dd/images/LANDSAT_SR_thumb.png</span></li><li><span class='ee-k'>title:</span><span class='ee-v'>USGS Landsat 7 Level 2, Collection 2, Tier 1</span></li><li><span class='ee-k'>type_name:</span><span class='ee-v'>ImageCollection</span></li><li><span class='ee-k'>visualization_0_bands:</span><span class='ee-v'>SR_B3,SR_B2,SR_B1</span></li><li><span class='ee-k'>visualization_0_gain:</span><span class='ee-v'>1.4,1.2,1.0</span></li><li><span class='ee-k'>visualization_0_name:</span><span class='ee-v'>True Color (321)</span></li><li><span class='ee-k'>visualization_1_bands:</span><span class='ee-v'>SR_B4,SR_B3,SR_B2</span></li><li><span class='ee-k'>visualization_1_gain:</span><span class='ee-v'>1.4,1.2,1.4</span></li><li><span class='ee-k'>visualization_1_name:</span><span class='ee-v'>Near Infrared (432)</span></li><li><span class='ee-k'>visualization_2_bands:</span><span class='ee-v'>SR_B7,SR_B4,SR_B2</span></li><li><span class='ee-k'>visualization_2_gain:</span><span class='ee-v'>1.8,1.9,1.9</span></li><li><span class='ee-k'>visualization_2_name:</span><span class='ee-v'>Shortwave Infrared (742)</span></li></ul></details></li><li><details><summary>features: List (15 elements)</summary><ul><li><details><summary>0: Image LANDSAT/LE07/C02/T1_L2/LE07_173072_20151116 (19 bands)</summary><ul><li><span class='ee-k'>type:</span><span class='ee-v'>Image</span></li><li><span class='ee-k'>id:</span><span class='ee-v'>LANDSAT/LE07/C02/T1_L2/LE07_173072_20151116</span></li><li><span class='ee-k'>version:</span><span class='ee-v'>1624542014084980.0</span></li><li><details><summary>bands: List (19 elements)</summary><ul><li><details><summary>0: \"SR_B1\", unsigned int16, EPSG:32635, 8071x6971 px</summary><ul><li><span class='ee-k'>id:</span><span class='ee-v'>SR_B1</span></li><li><span class='ee-k'>crs:</span><span class='ee-v'>EPSG:32635</span></li><li><details><summary>crs_transform: [30, 0, 261285, 0, -30, -1812585]</summary><ul><li><span class='ee-k'>0:</span><span class='ee-v'>30</span></li><li><span class='ee-k'>1:</span><span class='ee-v'>0</span></li><li><span class='ee-k'>2:</span><span class='ee-v'>261285</span></li><li><span class='ee-k'>3:</span><span class='ee-v'>0</span></li><li><span class='ee-k'>4:</span><span class='ee-v'>-30</span></li><li><span class='ee-k'>5:</span><span class='ee-v'>-1812585</span></li></ul></details></li><li><details><summary>data_type: unsigned int16</summary><ul><li><span class='ee-k'>type:</span><span class='ee-v'>PixelType</span></li><li><span class='ee-k'>max:</span><span class='ee-v'>65535</span></li><li><span class='ee-k'>min:</span><span class='ee-v'>0</span></li><li><span class='ee-k'>precision:</span><span class='ee-v'>int</span></li></ul></details></li><li><details><summary>dimensions: [8071, 6971]</summary><ul><li><span class='ee-k'>0:</span><span class='ee-v'>8071</span></li><li><span class='ee-k'>1:</span><span class='ee-v'>6971</span></li></ul></details></li></ul></details></li><li><details><summary>1: \"SR_B2\", unsigned int16, EPSG:32635, 8071x6971 px</summary><ul><li><span class='ee-k'>id:</span><span class='ee-v'>SR_B2</span></li><li><span class='ee-k'>crs:</span><span class='ee-v'>EPSG:32635</span></li><li><details><summary>crs_transform: [30, 0, 261285, 0, -30, -1812585]</summary><ul><li><span class='ee-k'>0:</span><span class='ee-v'>30</span></li><li><span class='ee-k'>1:</span><span class='ee-v'>0</span></li><li><span class='ee-k'>2:</span><span class='ee-v'>261285</span></li><li><span class='ee-k'>3:</span><span class='ee-v'>0</span></li><li><span class='ee-k'>4:</span><span class='ee-v'>-30</span></li><li><span class='ee-k'>5:</span><span class='ee-v'>-1812585</span></li></ul></details></li><li><details><summary>data_type: unsigned int16</summary><ul><li><span class='ee-k'>type:</span><span class='ee-v'>PixelType</span></li><li><span class='ee-k'>max:</span><span class='ee-v'>65535</span></li><li><span class='ee-k'>min:</span><span class='ee-v'>0</span></li><li><span class='ee-k'>precision:</span><span class='ee-v'>int</span></li></ul></details></li><li><details><summary>dimensions: [8071, 6971]</summary><ul><li><span class='ee-k'>0:</span><span class='ee-v'>8071</span></li><li><span class='ee-k'>1:</span><span class='ee-v'>6971</span></li></ul></details></li></ul></details></li><li><details><summary>2: \"SR_B3\", unsigned int16, EPSG:32635, 8071x6971 px</summary><ul><li><span class='ee-k'>id:</span><span class='ee-v'>SR_B3</span></li><li><span class='ee-k'>crs:</span><span class='ee-v'>EPSG:32635</span></li><li><details><summary>crs_transform: [30, 0, 261285, 0, -30, -1812585]</summary><ul><li><span class='ee-k'>0:</span><span class='ee-v'>30</span></li><li><span class='ee-k'>1:</span><span class='ee-v'>0</span></li><li><span class='ee-k'>2:</span><span class='ee-v'>261285</span></li><li><span class='ee-k'>3:</span><span class='ee-v'>0</span></li><li><span class='ee-k'>4:</span><span class='ee-v'>-30</span></li><li><span class='ee-k'>5:</span><span class='ee-v'>-1812585</span></li></ul></details></li><li><details><summary>data_type: unsigned int16</summary><ul><li><span class='ee-k'>type:</span><span class='ee-v'>PixelType</span></li><li><span class='ee-k'>max:</span><span class='ee-v'>65535</span></li><li><span class='ee-k'>min:</span><span class='ee-v'>0</span></li><li><span class='ee-k'>precision:</span><span class='ee-v'>int</span></li></ul></details></li><li><details><summary>dimensions: [8071, 6971]</summary><ul><li><span class='ee-k'>0:</span><span class='ee-v'>8071</span></li><li><span class='ee-k'>1:</span><span class='ee-v'>6971</span></li></ul></details></li></ul></details></li><li><details><summary>3: \"SR_B4\", unsigned int16, EPSG:32635, 8071x6971 px</summary><ul><li><span class='ee-k'>id:</span><span class='ee-v'>SR_B4</span></li><li><span class='ee-k'>crs:</span><span class='ee-v'>EPSG:32635</span></li><li><details><summary>crs_transform: [30, 0, 261285, 0, -30, -1812585]</summary><ul><li><span class='ee-k'>0:</span><span class='ee-v'>30</span></li><li><span class='ee-k'>1:</span><span class='ee-v'>0</span></li><li><span class='ee-k'>2:</span><span class='ee-v'>261285</span></li><li><span class='ee-k'>3:</span><span class='ee-v'>0</span></li><li><span class='ee-k'>4:</span><span class='ee-v'>-30</span></li><li><span class='ee-k'>5:</span><span class='ee-v'>-1812585</span></li></ul></details></li><li><details><summary>data_type: unsigned int16</summary><ul><li><span class='ee-k'>type:</span><span class='ee-v'>PixelType</span></li><li><span class='ee-k'>max:</span><span class='ee-v'>65535</span></li><li><span class='ee-k'>min:</span><span class='ee-v'>0</span></li><li><span class='ee-k'>precision:</span><span class='ee-v'>int</span></li></ul></details></li><li><details><summary>dimensions: [8071, 6971]</summary><ul><li><span class='ee-k'>0:</span><span class='ee-v'>8071</span></li><li><span class='ee-k'>1:</span><span class='ee-v'>6971</span></li></ul></details></li></ul></details></li><li><details><summary>4: \"SR_B5\", unsigned int16, EPSG:32635, 8071x6971 px</summary><ul><li><span class='ee-k'>id:</span><span class='ee-v'>SR_B5</span></li><li><span class='ee-k'>crs:</span><span class='ee-v'>EPSG:32635</span></li><li><details><summary>crs_transform: [30, 0, 261285, 0, -30, -1812585]</summary><ul><li><span class='ee-k'>0:</span><span class='ee-v'>30</span></li><li><span class='ee-k'>1:</span><span class='ee-v'>0</span></li><li><span class='ee-k'>2:</span><span class='ee-v'>261285</span></li><li><span class='ee-k'>3:</span><span class='ee-v'>0</span></li><li><span class='ee-k'>4:</span><span class='ee-v'>-30</span></li><li><span class='ee-k'>5:</span><span class='ee-v'>-1812585</span></li></ul></details></li><li><details><summary>data_type: unsigned int16</summary><ul><li><span class='ee-k'>type:</span><span class='ee-v'>PixelType</span></li><li><span class='ee-k'>max:</span><span class='ee-v'>65535</span></li><li><span class='ee-k'>min:</span><span class='ee-v'>0</span></li><li><span class='ee-k'>precision:</span><span class='ee-v'>int</span></li></ul></details></li><li><details><summary>dimensions: [8071, 6971]</summary><ul><li><span class='ee-k'>0:</span><span class='ee-v'>8071</span></li><li><span class='ee-k'>1:</span><span class='ee-v'>6971</span></li></ul></details></li></ul></details></li><li><details><summary>5: \"SR_B7\", unsigned int16, EPSG:32635, 8071x6971 px</summary><ul><li><span class='ee-k'>id:</span><span class='ee-v'>SR_B7</span></li><li><span class='ee-k'>crs:</span><span class='ee-v'>EPSG:32635</span></li><li><details><summary>crs_transform: [30, 0, 261285, 0, -30, -1812585]</summary><ul><li><span class='ee-k'>0:</span><span class='ee-v'>30</span></li><li><span class='ee-k'>1:</span><span class='ee-v'>0</span></li><li><span class='ee-k'>2:</span><span class='ee-v'>261285</span></li><li><span class='ee-k'>3:</span><span class='ee-v'>0</span></li><li><span class='ee-k'>4:</span><span class='ee-v'>-30</span></li><li><span class='ee-k'>5:</span><span class='ee-v'>-1812585</span></li></ul></details></li><li><details><summary>data_type: unsigned int16</summary><ul><li><span class='ee-k'>type:</span><span class='ee-v'>PixelType</span></li><li><span class='ee-k'>max:</span><span class='ee-v'>65535</span></li><li><span class='ee-k'>min:</span><span class='ee-v'>0</span></li><li><span class='ee-k'>precision:</span><span class='ee-v'>int</span></li></ul></details></li><li><details><summary>dimensions: [8071, 6971]</summary><ul><li><span class='ee-k'>0:</span><span class='ee-v'>8071</span></li><li><span class='ee-k'>1:</span><span class='ee-v'>6971</span></li></ul></details></li></ul></details></li><li><details><summary>6: \"SR_ATMOS_OPACITY\", signed int16, EPSG:32635, 8071x6971 px</summary><ul><li><span class='ee-k'>id:</span><span class='ee-v'>SR_ATMOS_OPACITY</span></li><li><span class='ee-k'>crs:</span><span class='ee-v'>EPSG:32635</span></li><li><details><summary>crs_transform: [30, 0, 261285, 0, -30, -1812585]</summary><ul><li><span class='ee-k'>0:</span><span class='ee-v'>30</span></li><li><span class='ee-k'>1:</span><span class='ee-v'>0</span></li><li><span class='ee-k'>2:</span><span class='ee-v'>261285</span></li><li><span class='ee-k'>3:</span><span class='ee-v'>0</span></li><li><span class='ee-k'>4:</span><span class='ee-v'>-30</span></li><li><span class='ee-k'>5:</span><span class='ee-v'>-1812585</span></li></ul></details></li><li><details><summary>data_type: signed int16</summary><ul><li><span class='ee-k'>type:</span><span class='ee-v'>PixelType</span></li><li><span class='ee-k'>max:</span><span class='ee-v'>32767</span></li><li><span class='ee-k'>min:</span><span class='ee-v'>-32768</span></li><li><span class='ee-k'>precision:</span><span class='ee-v'>int</span></li></ul></details></li><li><details><summary>dimensions: [8071, 6971]</summary><ul><li><span class='ee-k'>0:</span><span class='ee-v'>8071</span></li><li><span class='ee-k'>1:</span><span class='ee-v'>6971</span></li></ul></details></li></ul></details></li><li><details><summary>7: \"SR_CLOUD_QA\", unsigned int8, EPSG:32635, 8071x6971 px</summary><ul><li><span class='ee-k'>id:</span><span class='ee-v'>SR_CLOUD_QA</span></li><li><span class='ee-k'>crs:</span><span class='ee-v'>EPSG:32635</span></li><li><details><summary>crs_transform: [30, 0, 261285, 0, -30, -1812585]</summary><ul><li><span class='ee-k'>0:</span><span class='ee-v'>30</span></li><li><span class='ee-k'>1:</span><span class='ee-v'>0</span></li><li><span class='ee-k'>2:</span><span class='ee-v'>261285</span></li><li><span class='ee-k'>3:</span><span class='ee-v'>0</span></li><li><span class='ee-k'>4:</span><span class='ee-v'>-30</span></li><li><span class='ee-k'>5:</span><span class='ee-v'>-1812585</span></li></ul></details></li><li><details><summary>data_type: unsigned int8</summary><ul><li><span class='ee-k'>type:</span><span class='ee-v'>PixelType</span></li><li><span class='ee-k'>max:</span><span class='ee-v'>255</span></li><li><span class='ee-k'>min:</span><span class='ee-v'>0</span></li><li><span class='ee-k'>precision:</span><span class='ee-v'>int</span></li></ul></details></li><li><details><summary>dimensions: [8071, 6971]</summary><ul><li><span class='ee-k'>0:</span><span class='ee-v'>8071</span></li><li><span class='ee-k'>1:</span><span class='ee-v'>6971</span></li></ul></details></li></ul></details></li><li><details><summary>8: \"ST_B6\", unsigned int16, EPSG:32635, 8071x6971 px</summary><ul><li><span class='ee-k'>id:</span><span class='ee-v'>ST_B6</span></li><li><span class='ee-k'>crs:</span><span class='ee-v'>EPSG:32635</span></li><li><details><summary>crs_transform: [30, 0, 261285, 0, -30, -1812585]</summary><ul><li><span class='ee-k'>0:</span><span class='ee-v'>30</span></li><li><span class='ee-k'>1:</span><span class='ee-v'>0</span></li><li><span class='ee-k'>2:</span><span class='ee-v'>261285</span></li><li><span class='ee-k'>3:</span><span class='ee-v'>0</span></li><li><span class='ee-k'>4:</span><span class='ee-v'>-30</span></li><li><span class='ee-k'>5:</span><span class='ee-v'>-1812585</span></li></ul></details></li><li><details><summary>data_type: unsigned int16</summary><ul><li><span class='ee-k'>type:</span><span class='ee-v'>PixelType</span></li><li><span class='ee-k'>max:</span><span class='ee-v'>65535</span></li><li><span class='ee-k'>min:</span><span class='ee-v'>0</span></li><li><span class='ee-k'>precision:</span><span class='ee-v'>int</span></li></ul></details></li><li><details><summary>dimensions: [8071, 6971]</summary><ul><li><span class='ee-k'>0:</span><span class='ee-v'>8071</span></li><li><span class='ee-k'>1:</span><span class='ee-v'>6971</span></li></ul></details></li></ul></details></li><li><details><summary>9: \"ST_ATRAN\", signed int16, EPSG:32635, 8071x6971 px</summary><ul><li><span class='ee-k'>id:</span><span class='ee-v'>ST_ATRAN</span></li><li><span class='ee-k'>crs:</span><span class='ee-v'>EPSG:32635</span></li><li><details><summary>crs_transform: [30, 0, 261285, 0, -30, -1812585]</summary><ul><li><span class='ee-k'>0:</span><span class='ee-v'>30</span></li><li><span class='ee-k'>1:</span><span class='ee-v'>0</span></li><li><span class='ee-k'>2:</span><span class='ee-v'>261285</span></li><li><span class='ee-k'>3:</span><span class='ee-v'>0</span></li><li><span class='ee-k'>4:</span><span class='ee-v'>-30</span></li><li><span class='ee-k'>5:</span><span class='ee-v'>-1812585</span></li></ul></details></li><li><details><summary>data_type: signed int16</summary><ul><li><span class='ee-k'>type:</span><span class='ee-v'>PixelType</span></li><li><span class='ee-k'>max:</span><span class='ee-v'>32767</span></li><li><span class='ee-k'>min:</span><span class='ee-v'>-32768</span></li><li><span class='ee-k'>precision:</span><span class='ee-v'>int</span></li></ul></details></li><li><details><summary>dimensions: [8071, 6971]</summary><ul><li><span class='ee-k'>0:</span><span class='ee-v'>8071</span></li><li><span class='ee-k'>1:</span><span class='ee-v'>6971</span></li></ul></details></li></ul></details></li><li><details><summary>10: \"ST_CDIST\", signed int16, EPSG:32635, 8071x6971 px</summary><ul><li><span class='ee-k'>id:</span><span class='ee-v'>ST_CDIST</span></li><li><span class='ee-k'>crs:</span><span class='ee-v'>EPSG:32635</span></li><li><details><summary>crs_transform: [30, 0, 261285, 0, -30, -1812585]</summary><ul><li><span class='ee-k'>0:</span><span class='ee-v'>30</span></li><li><span class='ee-k'>1:</span><span class='ee-v'>0</span></li><li><span class='ee-k'>2:</span><span class='ee-v'>261285</span></li><li><span class='ee-k'>3:</span><span class='ee-v'>0</span></li><li><span class='ee-k'>4:</span><span class='ee-v'>-30</span></li><li><span class='ee-k'>5:</span><span class='ee-v'>-1812585</span></li></ul></details></li><li><details><summary>data_type: signed int16</summary><ul><li><span class='ee-k'>type:</span><span class='ee-v'>PixelType</span></li><li><span class='ee-k'>max:</span><span class='ee-v'>32767</span></li><li><span class='ee-k'>min:</span><span class='ee-v'>-32768</span></li><li><span class='ee-k'>precision:</span><span class='ee-v'>int</span></li></ul></details></li><li><details><summary>dimensions: [8071, 6971]</summary><ul><li><span class='ee-k'>0:</span><span class='ee-v'>8071</span></li><li><span class='ee-k'>1:</span><span class='ee-v'>6971</span></li></ul></details></li></ul></details></li><li><details><summary>11: \"ST_DRAD\", signed int16, EPSG:32635, 8071x6971 px</summary><ul><li><span class='ee-k'>id:</span><span class='ee-v'>ST_DRAD</span></li><li><span class='ee-k'>crs:</span><span class='ee-v'>EPSG:32635</span></li><li><details><summary>crs_transform: [30, 0, 261285, 0, -30, -1812585]</summary><ul><li><span class='ee-k'>0:</span><span class='ee-v'>30</span></li><li><span class='ee-k'>1:</span><span class='ee-v'>0</span></li><li><span class='ee-k'>2:</span><span class='ee-v'>261285</span></li><li><span class='ee-k'>3:</span><span class='ee-v'>0</span></li><li><span class='ee-k'>4:</span><span class='ee-v'>-30</span></li><li><span class='ee-k'>5:</span><span class='ee-v'>-1812585</span></li></ul></details></li><li><details><summary>data_type: signed int16</summary><ul><li><span class='ee-k'>type:</span><span class='ee-v'>PixelType</span></li><li><span class='ee-k'>max:</span><span class='ee-v'>32767</span></li><li><span class='ee-k'>min:</span><span class='ee-v'>-32768</span></li><li><span class='ee-k'>precision:</span><span class='ee-v'>int</span></li></ul></details></li><li><details><summary>dimensions: [8071, 6971]</summary><ul><li><span class='ee-k'>0:</span><span class='ee-v'>8071</span></li><li><span class='ee-k'>1:</span><span class='ee-v'>6971</span></li></ul></details></li></ul></details></li><li><details><summary>12: \"ST_EMIS\", signed int16, EPSG:32635, 8071x6971 px</summary><ul><li><span class='ee-k'>id:</span><span class='ee-v'>ST_EMIS</span></li><li><span class='ee-k'>crs:</span><span class='ee-v'>EPSG:32635</span></li><li><details><summary>crs_transform: [30, 0, 261285, 0, -30, -1812585]</summary><ul><li><span class='ee-k'>0:</span><span class='ee-v'>30</span></li><li><span class='ee-k'>1:</span><span class='ee-v'>0</span></li><li><span class='ee-k'>2:</span><span class='ee-v'>261285</span></li><li><span class='ee-k'>3:</span><span class='ee-v'>0</span></li><li><span class='ee-k'>4:</span><span class='ee-v'>-30</span></li><li><span class='ee-k'>5:</span><span class='ee-v'>-1812585</span></li></ul></details></li><li><details><summary>data_type: signed int16</summary><ul><li><span class='ee-k'>type:</span><span class='ee-v'>PixelType</span></li><li><span class='ee-k'>max:</span><span class='ee-v'>32767</span></li><li><span class='ee-k'>min:</span><span class='ee-v'>-32768</span></li><li><span class='ee-k'>precision:</span><span class='ee-v'>int</span></li></ul></details></li><li><details><summary>dimensions: [8071, 6971]</summary><ul><li><span class='ee-k'>0:</span><span class='ee-v'>8071</span></li><li><span class='ee-k'>1:</span><span class='ee-v'>6971</span></li></ul></details></li></ul></details></li><li><details><summary>13: \"ST_EMSD\", signed int16, EPSG:32635, 8071x6971 px</summary><ul><li><span class='ee-k'>id:</span><span class='ee-v'>ST_EMSD</span></li><li><span class='ee-k'>crs:</span><span class='ee-v'>EPSG:32635</span></li><li><details><summary>crs_transform: [30, 0, 261285, 0, -30, -1812585]</summary><ul><li><span class='ee-k'>0:</span><span class='ee-v'>30</span></li><li><span class='ee-k'>1:</span><span class='ee-v'>0</span></li><li><span class='ee-k'>2:</span><span class='ee-v'>261285</span></li><li><span class='ee-k'>3:</span><span class='ee-v'>0</span></li><li><span class='ee-k'>4:</span><span class='ee-v'>-30</span></li><li><span class='ee-k'>5:</span><span class='ee-v'>-1812585</span></li></ul></details></li><li><details><summary>data_type: signed int16</summary><ul><li><span class='ee-k'>type:</span><span class='ee-v'>PixelType</span></li><li><span class='ee-k'>max:</span><span class='ee-v'>32767</span></li><li><span class='ee-k'>min:</span><span class='ee-v'>-32768</span></li><li><span class='ee-k'>precision:</span><span class='ee-v'>int</span></li></ul></details></li><li><details><summary>dimensions: [8071, 6971]</summary><ul><li><span class='ee-k'>0:</span><span class='ee-v'>8071</span></li><li><span class='ee-k'>1:</span><span class='ee-v'>6971</span></li></ul></details></li></ul></details></li><li><details><summary>14: \"ST_QA\", signed int16, EPSG:32635, 8071x6971 px</summary><ul><li><span class='ee-k'>id:</span><span class='ee-v'>ST_QA</span></li><li><span class='ee-k'>crs:</span><span class='ee-v'>EPSG:32635</span></li><li><details><summary>crs_transform: [30, 0, 261285, 0, -30, -1812585]</summary><ul><li><span class='ee-k'>0:</span><span class='ee-v'>30</span></li><li><span class='ee-k'>1:</span><span class='ee-v'>0</span></li><li><span class='ee-k'>2:</span><span class='ee-v'>261285</span></li><li><span class='ee-k'>3:</span><span class='ee-v'>0</span></li><li><span class='ee-k'>4:</span><span class='ee-v'>-30</span></li><li><span class='ee-k'>5:</span><span class='ee-v'>-1812585</span></li></ul></details></li><li><details><summary>data_type: signed int16</summary><ul><li><span class='ee-k'>type:</span><span class='ee-v'>PixelType</span></li><li><span class='ee-k'>max:</span><span class='ee-v'>32767</span></li><li><span class='ee-k'>min:</span><span class='ee-v'>-32768</span></li><li><span class='ee-k'>precision:</span><span class='ee-v'>int</span></li></ul></details></li><li><details><summary>dimensions: [8071, 6971]</summary><ul><li><span class='ee-k'>0:</span><span class='ee-v'>8071</span></li><li><span class='ee-k'>1:</span><span class='ee-v'>6971</span></li></ul></details></li></ul></details></li><li><details><summary>15: \"ST_TRAD\", signed int16, EPSG:32635, 8071x6971 px</summary><ul><li><span class='ee-k'>id:</span><span class='ee-v'>ST_TRAD</span></li><li><span class='ee-k'>crs:</span><span class='ee-v'>EPSG:32635</span></li><li><details><summary>crs_transform: [30, 0, 261285, 0, -30, -1812585]</summary><ul><li><span class='ee-k'>0:</span><span class='ee-v'>30</span></li><li><span class='ee-k'>1:</span><span class='ee-v'>0</span></li><li><span class='ee-k'>2:</span><span class='ee-v'>261285</span></li><li><span class='ee-k'>3:</span><span class='ee-v'>0</span></li><li><span class='ee-k'>4:</span><span class='ee-v'>-30</span></li><li><span class='ee-k'>5:</span><span class='ee-v'>-1812585</span></li></ul></details></li><li><details><summary>data_type: signed int16</summary><ul><li><span class='ee-k'>type:</span><span class='ee-v'>PixelType</span></li><li><span class='ee-k'>max:</span><span class='ee-v'>32767</span></li><li><span class='ee-k'>min:</span><span class='ee-v'>-32768</span></li><li><span class='ee-k'>precision:</span><span class='ee-v'>int</span></li></ul></details></li><li><details><summary>dimensions: [8071, 6971]</summary><ul><li><span class='ee-k'>0:</span><span class='ee-v'>8071</span></li><li><span class='ee-k'>1:</span><span class='ee-v'>6971</span></li></ul></details></li></ul></details></li><li><details><summary>16: \"ST_URAD\", signed int16, EPSG:32635, 8071x6971 px</summary><ul><li><span class='ee-k'>id:</span><span class='ee-v'>ST_URAD</span></li><li><span class='ee-k'>crs:</span><span class='ee-v'>EPSG:32635</span></li><li><details><summary>crs_transform: [30, 0, 261285, 0, -30, -1812585]</summary><ul><li><span class='ee-k'>0:</span><span class='ee-v'>30</span></li><li><span class='ee-k'>1:</span><span class='ee-v'>0</span></li><li><span class='ee-k'>2:</span><span class='ee-v'>261285</span></li><li><span class='ee-k'>3:</span><span class='ee-v'>0</span></li><li><span class='ee-k'>4:</span><span class='ee-v'>-30</span></li><li><span class='ee-k'>5:</span><span class='ee-v'>-1812585</span></li></ul></details></li><li><details><summary>data_type: signed int16</summary><ul><li><span class='ee-k'>type:</span><span class='ee-v'>PixelType</span></li><li><span class='ee-k'>max:</span><span class='ee-v'>32767</span></li><li><span class='ee-k'>min:</span><span class='ee-v'>-32768</span></li><li><span class='ee-k'>precision:</span><span class='ee-v'>int</span></li></ul></details></li><li><details><summary>dimensions: [8071, 6971]</summary><ul><li><span class='ee-k'>0:</span><span class='ee-v'>8071</span></li><li><span class='ee-k'>1:</span><span class='ee-v'>6971</span></li></ul></details></li></ul></details></li><li><details><summary>17: \"QA_PIXEL\", unsigned int16, EPSG:32635, 8071x6971 px</summary><ul><li><span class='ee-k'>id:</span><span class='ee-v'>QA_PIXEL</span></li><li><span class='ee-k'>crs:</span><span class='ee-v'>EPSG:32635</span></li><li><details><summary>crs_transform: [30, 0, 261285, 0, -30, -1812585]</summary><ul><li><span class='ee-k'>0:</span><span class='ee-v'>30</span></li><li><span class='ee-k'>1:</span><span class='ee-v'>0</span></li><li><span class='ee-k'>2:</span><span class='ee-v'>261285</span></li><li><span class='ee-k'>3:</span><span class='ee-v'>0</span></li><li><span class='ee-k'>4:</span><span class='ee-v'>-30</span></li><li><span class='ee-k'>5:</span><span class='ee-v'>-1812585</span></li></ul></details></li><li><details><summary>data_type: unsigned int16</summary><ul><li><span class='ee-k'>type:</span><span class='ee-v'>PixelType</span></li><li><span class='ee-k'>max:</span><span class='ee-v'>65535</span></li><li><span class='ee-k'>min:</span><span class='ee-v'>0</span></li><li><span class='ee-k'>precision:</span><span class='ee-v'>int</span></li></ul></details></li><li><details><summary>dimensions: [8071, 6971]</summary><ul><li><span class='ee-k'>0:</span><span class='ee-v'>8071</span></li><li><span class='ee-k'>1:</span><span class='ee-v'>6971</span></li></ul></details></li></ul></details></li><li><details><summary>18: \"QA_RADSAT\", unsigned int16, EPSG:32635, 8071x6971 px</summary><ul><li><span class='ee-k'>id:</span><span class='ee-v'>QA_RADSAT</span></li><li><span class='ee-k'>crs:</span><span class='ee-v'>EPSG:32635</span></li><li><details><summary>crs_transform: [30, 0, 261285, 0, -30, -1812585]</summary><ul><li><span class='ee-k'>0:</span><span class='ee-v'>30</span></li><li><span class='ee-k'>1:</span><span class='ee-v'>0</span></li><li><span class='ee-k'>2:</span><span class='ee-v'>261285</span></li><li><span class='ee-k'>3:</span><span class='ee-v'>0</span></li><li><span class='ee-k'>4:</span><span class='ee-v'>-30</span></li><li><span class='ee-k'>5:</span><span class='ee-v'>-1812585</span></li></ul></details></li><li><details><summary>data_type: unsigned int16</summary><ul><li><span class='ee-k'>type:</span><span class='ee-v'>PixelType</span></li><li><span class='ee-k'>max:</span><span class='ee-v'>65535</span></li><li><span class='ee-k'>min:</span><span class='ee-v'>0</span></li><li><span class='ee-k'>precision:</span><span class='ee-v'>int</span></li></ul></details></li><li><details><summary>dimensions: [8071, 6971]</summary><ul><li><span class='ee-k'>0:</span><span class='ee-v'>8071</span></li><li><span class='ee-k'>1:</span><span class='ee-v'>6971</span></li></ul></details></li></ul></details></li></ul></details></li><li><details><summary>properties: Object (130 properties)</summary><ul><li><span class='ee-k'>ALGORITHM_SOURCE_SURFACE_REFLECTANCE:</span><span class='ee-v'>LEDAPS_3.4.0</span></li><li><span class='ee-k'>ALGORITHM_SOURCE_SURFACE_TEMPERATURE:</span><span class='ee-v'>st_1.3.0</span></li><li><span class='ee-k'>CLOUD_COVER:</span><span class='ee-v'>1</span></li><li><span class='ee-k'>CLOUD_COVER_LAND:</span><span class='ee-v'>1</span></li><li><span class='ee-k'>COLLECTION_CATEGORY:</span><span class='ee-v'>T1</span></li><li><span class='ee-k'>COLLECTION_NUMBER:</span><span class='ee-v'>2</span></li><li><span class='ee-k'>CORRECTION_BIAS_BAND_1:</span><span class='ee-v'>INTERNAL_CALIBRATION</span></li><li><span class='ee-k'>CORRECTION_BIAS_BAND_2:</span><span class='ee-v'>INTERNAL_CALIBRATION</span></li><li><span class='ee-k'>CORRECTION_BIAS_BAND_3:</span><span class='ee-v'>INTERNAL_CALIBRATION</span></li><li><span class='ee-k'>CORRECTION_BIAS_BAND_4:</span><span class='ee-v'>INTERNAL_CALIBRATION</span></li><li><span class='ee-k'>CORRECTION_BIAS_BAND_5:</span><span class='ee-v'>INTERNAL_CALIBRATION</span></li><li><span class='ee-k'>CORRECTION_BIAS_BAND_6_VCID_1:</span><span class='ee-v'>INTERNAL_CALIBRATION</span></li><li><span class='ee-k'>CORRECTION_BIAS_BAND_6_VCID_2:</span><span class='ee-v'>INTERNAL_CALIBRATION</span></li><li><span class='ee-k'>CORRECTION_BIAS_BAND_7:</span><span class='ee-v'>INTERNAL_CALIBRATION</span></li><li><span class='ee-k'>CORRECTION_BIAS_BAND_8:</span><span class='ee-v'>INTERNAL_CALIBRATION</span></li><li><span class='ee-k'>CORRECTION_GAIN_BAND_1:</span><span class='ee-v'>CPF</span></li><li><span class='ee-k'>CORRECTION_GAIN_BAND_2:</span><span class='ee-v'>CPF</span></li><li><span class='ee-k'>CORRECTION_GAIN_BAND_3:</span><span class='ee-v'>CPF</span></li><li><span class='ee-k'>CORRECTION_GAIN_BAND_4:</span><span class='ee-v'>CPF</span></li><li><span class='ee-k'>CORRECTION_GAIN_BAND_5:</span><span class='ee-v'>CPF</span></li><li><span class='ee-k'>CORRECTION_GAIN_BAND_6_VCID_1:</span><span class='ee-v'>CPF</span></li><li><span class='ee-k'>CORRECTION_GAIN_BAND_6_VCID_2:</span><span class='ee-v'>CPF</span></li><li><span class='ee-k'>CORRECTION_GAIN_BAND_7:</span><span class='ee-v'>CPF</span></li><li><span class='ee-k'>CORRECTION_GAIN_BAND_8:</span><span class='ee-v'>CPF</span></li><li><span class='ee-k'>DATA_SOURCE_AIR_TEMPERATURE:</span><span class='ee-v'>NCEP</span></li><li><span class='ee-k'>DATA_SOURCE_ELEVATION:</span><span class='ee-v'>GLS2000</span></li><li><span class='ee-k'>DATA_SOURCE_OZONE:</span><span class='ee-v'>TOMS</span></li><li><span class='ee-k'>DATA_SOURCE_PRESSURE:</span><span class='ee-v'>NCEP</span></li><li><span class='ee-k'>DATA_SOURCE_REANALYSIS:</span><span class='ee-v'>GEOS-5 FP-IT</span></li><li><span class='ee-k'>DATA_SOURCE_WATER_VAPOR:</span><span class='ee-v'>NCEP</span></li><li><span class='ee-k'>DATE_ACQUIRED:</span><span class='ee-v'>2015-11-16</span></li><li><span class='ee-k'>DATE_PRODUCT_GENERATED:</span><span class='ee-v'>1599130970000</span></li><li><span class='ee-k'>DATUM:</span><span class='ee-v'>WGS84</span></li><li><span class='ee-k'>EARTH_SUN_DISTANCE:</span><span class='ee-v'>0.9890091</span></li><li><span class='ee-k'>ELLIPSOID:</span><span class='ee-v'>WGS84</span></li><li><span class='ee-k'>EPHEMERIS_TYPE:</span><span class='ee-v'>DEFINITIVE</span></li><li><span class='ee-k'>GAIN_BAND_1:</span><span class='ee-v'>H</span></li><li><span class='ee-k'>GAIN_BAND_2:</span><span class='ee-v'>H</span></li><li><span class='ee-k'>GAIN_BAND_3:</span><span class='ee-v'>H</span></li><li><span class='ee-k'>GAIN_BAND_4:</span><span class='ee-v'>L</span></li><li><span class='ee-k'>GAIN_BAND_5:</span><span class='ee-v'>H</span></li><li><span class='ee-k'>GAIN_BAND_6_VCID_1:</span><span class='ee-v'>L</span></li><li><span class='ee-k'>GAIN_BAND_6_VCID_2:</span><span class='ee-v'>H</span></li><li><span class='ee-k'>GAIN_BAND_7:</span><span class='ee-v'>H</span></li><li><span class='ee-k'>GAIN_BAND_8:</span><span class='ee-v'>L</span></li><li><span class='ee-k'>GAIN_CHANGE_BAND_1:</span><span class='ee-v'>HH</span></li><li><span class='ee-k'>GAIN_CHANGE_BAND_2:</span><span class='ee-v'>HH</span></li><li><span class='ee-k'>GAIN_CHANGE_BAND_3:</span><span class='ee-v'>HH</span></li><li><span class='ee-k'>GAIN_CHANGE_BAND_4:</span><span class='ee-v'>LL</span></li><li><span class='ee-k'>GAIN_CHANGE_BAND_5:</span><span class='ee-v'>HH</span></li><li><span class='ee-k'>GAIN_CHANGE_BAND_6_VCID_1:</span><span class='ee-v'>LL</span></li><li><span class='ee-k'>GAIN_CHANGE_BAND_6_VCID_2:</span><span class='ee-v'>HH</span></li><li><span class='ee-k'>GAIN_CHANGE_BAND_7:</span><span class='ee-v'>HH</span></li><li><span class='ee-k'>GAIN_CHANGE_BAND_8:</span><span class='ee-v'>LL</span></li><li><span class='ee-k'>GAIN_CHANGE_SCAN_BAND_1:</span><span class='ee-v'>0</span></li><li><span class='ee-k'>GAIN_CHANGE_SCAN_BAND_2:</span><span class='ee-v'>0</span></li><li><span class='ee-k'>GAIN_CHANGE_SCAN_BAND_3:</span><span class='ee-v'>0</span></li><li><span class='ee-k'>GAIN_CHANGE_SCAN_BAND_4:</span><span class='ee-v'>0</span></li><li><span class='ee-k'>GAIN_CHANGE_SCAN_BAND_5:</span><span class='ee-v'>0</span></li><li><span class='ee-k'>GAIN_CHANGE_SCAN_BAND_6_VCID_1:</span><span class='ee-v'>0</span></li><li><span class='ee-k'>GAIN_CHANGE_SCAN_BAND_6_VCID_2:</span><span class='ee-v'>0</span></li><li><span class='ee-k'>GAIN_CHANGE_SCAN_BAND_7:</span><span class='ee-v'>0</span></li><li><span class='ee-k'>GAIN_CHANGE_SCAN_BAND_8:</span><span class='ee-v'>0</span></li><li><span class='ee-k'>GEOMETRIC_RMSE_MODEL:</span><span class='ee-v'>4.71</span></li><li><span class='ee-k'>GEOMETRIC_RMSE_MODEL_X:</span><span class='ee-v'>3.16</span></li><li><span class='ee-k'>GEOMETRIC_RMSE_MODEL_Y:</span><span class='ee-v'>3.492</span></li><li><span class='ee-k'>GRID_CELL_SIZE_REFLECTIVE:</span><span class='ee-v'>30</span></li><li><span class='ee-k'>GRID_CELL_SIZE_THERMAL:</span><span class='ee-v'>30</span></li><li><span class='ee-k'>GROUND_CONTROL_POINTS_MODEL:</span><span class='ee-v'>592</span></li><li><span class='ee-k'>GROUND_CONTROL_POINTS_VERSION:</span><span class='ee-v'>5</span></li><li><span class='ee-k'>IMAGE_QUALITY:</span><span class='ee-v'>9</span></li><li><span class='ee-k'>L1_DATE_PRODUCT_GENERATED:</span><span class='ee-v'>2020-09-03T10:38:28Z</span></li><li><span class='ee-k'>L1_LANDSAT_PRODUCT_ID:</span><span class='ee-v'>LE07_L1TP_173072_20151116_20200903_02_T1</span></li><li><span class='ee-k'>L1_PROCESSING_LEVEL:</span><span class='ee-v'>L1TP</span></li><li><span class='ee-k'>L1_PROCESSING_SOFTWARE_VERSION:</span><span class='ee-v'>LPGS_15.3.1c</span></li><li><span class='ee-k'>L1_REQUEST_ID:</span><span class='ee-v'>L2</span></li><li><span class='ee-k'>LANDSAT_PRODUCT_ID:</span><span class='ee-v'>LE07_L2SP_173072_20151116_20200903_02_T1</span></li><li><span class='ee-k'>LANDSAT_SCENE_ID:</span><span class='ee-v'>LE71730722015320SG100</span></li><li><span class='ee-k'>MAP_PROJECTION:</span><span class='ee-v'>UTM</span></li><li><span class='ee-k'>ORIENTATION:</span><span class='ee-v'>NORTH_UP</span></li><li><span class='ee-k'>PROCESSING_LEVEL:</span><span class='ee-v'>L2SP</span></li><li><span class='ee-k'>PROCESSING_SOFTWARE_VERSION:</span><span class='ee-v'>LPGS_15.3.1c</span></li><li><span class='ee-k'>REFLECTANCE_ADD_BAND_1:</span><span class='ee-v'>-0.2</span></li><li><span class='ee-k'>REFLECTANCE_ADD_BAND_2:</span><span class='ee-v'>-0.2</span></li><li><span class='ee-k'>REFLECTANCE_ADD_BAND_3:</span><span class='ee-v'>-0.2</span></li><li><span class='ee-k'>REFLECTANCE_ADD_BAND_4:</span><span class='ee-v'>-0.2</span></li><li><span class='ee-k'>REFLECTANCE_ADD_BAND_5:</span><span class='ee-v'>-0.2</span></li><li><span class='ee-k'>REFLECTANCE_ADD_BAND_7:</span><span class='ee-v'>-0.2</span></li><li><span class='ee-k'>REFLECTANCE_MULT_BAND_1:</span><span class='ee-v'>2.75e-05</span></li><li><span class='ee-k'>REFLECTANCE_MULT_BAND_2:</span><span class='ee-v'>2.75e-05</span></li><li><span class='ee-k'>REFLECTANCE_MULT_BAND_3:</span><span class='ee-v'>2.75e-05</span></li><li><span class='ee-k'>REFLECTANCE_MULT_BAND_4:</span><span class='ee-v'>2.75e-05</span></li><li><span class='ee-k'>REFLECTANCE_MULT_BAND_5:</span><span class='ee-v'>2.75e-05</span></li><li><span class='ee-k'>REFLECTANCE_MULT_BAND_7:</span><span class='ee-v'>2.75e-05</span></li><li><span class='ee-k'>REFLECTIVE_LINES:</span><span class='ee-v'>6971</span></li><li><span class='ee-k'>REFLECTIVE_SAMPLES:</span><span class='ee-v'>8071</span></li><li><span class='ee-k'>REQUEST_ID:</span><span class='ee-v'>L2</span></li><li><span class='ee-k'>SATURATION_BAND_1:</span><span class='ee-v'>Y</span></li><li><span class='ee-k'>SATURATION_BAND_2:</span><span class='ee-v'>Y</span></li><li><span class='ee-k'>SATURATION_BAND_3:</span><span class='ee-v'>Y</span></li><li><span class='ee-k'>SATURATION_BAND_4:</span><span class='ee-v'>Y</span></li><li><span class='ee-k'>SATURATION_BAND_5:</span><span class='ee-v'>Y</span></li><li><span class='ee-k'>SATURATION_BAND_6_VCID_1:</span><span class='ee-v'>N</span></li><li><span class='ee-k'>SATURATION_BAND_6_VCID_2:</span><span class='ee-v'>Y</span></li><li><span class='ee-k'>SATURATION_BAND_7:</span><span class='ee-v'>Y</span></li><li><span class='ee-k'>SATURATION_BAND_8:</span><span class='ee-v'>N</span></li><li><span class='ee-k'>SCENE_CENTER_TIME:</span><span class='ee-v'>08:19:12.3295884Z</span></li><li><span class='ee-k'>SENSOR_ANOMALIES:</span><span class='ee-v'>NONE</span></li><li><span class='ee-k'>SENSOR_ID:</span><span class='ee-v'>ETM</span></li><li><span class='ee-k'>SENSOR_MODE:</span><span class='ee-v'>BUMPER</span></li><li><span class='ee-k'>SENSOR_MODE_SLC:</span><span class='ee-v'>OFF</span></li><li><span class='ee-k'>SPACECRAFT_ID:</span><span class='ee-v'>LANDSAT_7</span></li><li><span class='ee-k'>STATION_ID:</span><span class='ee-v'>SG1</span></li><li><span class='ee-k'>SUN_AZIMUTH:</span><span class='ee-v'>97.11233108</span></li><li><span class='ee-k'>SUN_ELEVATION:</span><span class='ee-v'>65.75117854</span></li><li><span class='ee-k'>TEMPERATURE_ADD_BAND_ST_B6:</span><span class='ee-v'>149</span></li><li><span class='ee-k'>TEMPERATURE_MAXIMUM_BAND_ST_B6:</span><span class='ee-v'>372.999941</span></li><li><span class='ee-k'>TEMPERATURE_MINIMUM_BAND_ST_B6:</span><span class='ee-v'>149.003418</span></li><li><span class='ee-k'>TEMPERATURE_MULT_BAND_ST_B6:</span><span class='ee-v'>0.00341802</span></li><li><span class='ee-k'>THERMAL_LINES:</span><span class='ee-v'>6971</span></li><li><span class='ee-k'>THERMAL_SAMPLES:</span><span class='ee-v'>8071</span></li><li><span class='ee-k'>UTM_ZONE:</span><span class='ee-v'>35</span></li><li><span class='ee-k'>WRS_PATH:</span><span class='ee-v'>173</span></li><li><span class='ee-k'>WRS_ROW:</span><span class='ee-v'>72</span></li><li><span class='ee-k'>WRS_TYPE:</span><span class='ee-v'>2</span></li><li><span class='ee-k'>system:asset_size:</span><span class='ee-v'>568876473</span></li><li><details><summary>system:footprint: LinearRing (19 vertices)</summary><ul><li><span class='ee-k'>type:</span><span class='ee-v'>LinearRing</span></li><li><details><summary>coordinates: List (19 elements)</summary><ul><li><details><summary>0: [24.808867181087173, -17.985120626523063]</summary><ul><li><span class='ee-k'>0:</span><span class='ee-v'>24.808867181087173</span></li><li><span class='ee-k'>1:</span><span class='ee-v'>-17.985120626523063</span></li></ul></details></li><li><details><summary>1: [24.805461452296598, -18.002304758439795]</summary><ul><li><span class='ee-k'>0:</span><span class='ee-v'>24.805461452296598</span></li><li><span class='ee-k'>1:</span><span class='ee-v'>-18.002304758439795</span></li></ul></details></li><li><details><summary>2: [24.81022873891642, -18.006309261892994]</summary><ul><li><span class='ee-k'>0:</span><span class='ee-v'>24.81022873891642</span></li><li><span class='ee-k'>1:</span><span class='ee-v'>-18.006309261892994</span></li></ul></details></li><li><details><summary>3: [26.297878674497976, -18.227745784759545]</summary><ul><li><span class='ee-k'>0:</span><span class='ee-v'>26.297878674497976</span></li><li><span class='ee-k'>1:</span><span class='ee-v'>-18.227745784759545</span></li></ul></details></li><li><details><summary>4: [26.619817649468068, -18.274075004106894]</summary><ul><li><span class='ee-k'>0:</span><span class='ee-v'>26.619817649468068</span></li><li><span class='ee-k'>1:</span><span class='ee-v'>-18.274075004106894</span></li></ul></details></li><li><details><summary>5: [26.62361488132254, -18.262715150658867]</summary><ul><li><span class='ee-k'>0:</span><span class='ee-v'>26.62361488132254</span></li><li><span class='ee-k'>1:</span><span class='ee-v'>-18.262715150658867</span></li></ul></details></li><li><details><summary>6: [26.6296327929825, -18.236684231635778]</summary><ul><li><span class='ee-k'>0:</span><span class='ee-v'>26.6296327929825</span></li><li><span class='ee-k'>1:</span><span class='ee-v'>-18.236684231635778</span></li></ul></details></li><li><details><summary>7: [26.65815529959397, -18.111001018077953]</summary><ul><li><span class='ee-k'>0:</span><span class='ee-v'>26.65815529959397</span></li><li><span class='ee-k'>1:</span><span class='ee-v'>-18.111001018077953</span></li></ul></details></li><li><details><summary>8: [26.96899337807129, -16.704364304855225]</summary><ul><li><span class='ee-k'>0:</span><span class='ee-v'>26.96899337807129</span></li><li><span class='ee-k'>1:</span><span class='ee-v'>-16.704364304855225</span></li></ul></details></li><li><details><summary>9: [26.97635191550852, -16.670017775919856]</summary><ul><li><span class='ee-k'>0:</span><span class='ee-v'>26.97635191550852</span></li><li><span class='ee-k'>1:</span><span class='ee-v'>-16.670017775919856</span></li></ul></details></li><li><details><summary>10: [26.974847926230023, -16.661893576031172]</summary><ul><li><span class='ee-k'>0:</span><span class='ee-v'>26.974847926230023</span></li><li><span class='ee-k'>1:</span><span class='ee-v'>-16.661893576031172</span></li></ul></details></li><li><details><summary>11: [25.1838262608168, -16.396945973075027]</summary><ul><li><span class='ee-k'>0:</span><span class='ee-v'>25.1838262608168</span></li><li><span class='ee-k'>1:</span><span class='ee-v'>-16.396945973075027</span></li></ul></details></li><li><details><summary>12: [25.176765013844953, -16.403640761574064]</summary><ul><li><span class='ee-k'>0:</span><span class='ee-v'>25.176765013844953</span></li><li><span class='ee-k'>1:</span><span class='ee-v'>-16.403640761574064</span></li></ul></details></li><li><details><summary>13: [25.16976377122907, -16.429408839338866]</summary><ul><li><span class='ee-k'>0:</span><span class='ee-v'>25.16976377122907</span></li><li><span class='ee-k'>1:</span><span class='ee-v'>-16.429408839338866</span></li></ul></details></li><li><details><summary>14: [25.13288932382037, -16.58387435196062]</summary><ul><li><span class='ee-k'>0:</span><span class='ee-v'>25.13288932382037</span></li><li><span class='ee-k'>1:</span><span class='ee-v'>-16.58387435196062</span></li></ul></details></li><li><details><summary>15: [24.913288216742693, -17.528785700083397]</summary><ul><li><span class='ee-k'>0:</span><span class='ee-v'>24.913288216742693</span></li><li><span class='ee-k'>1:</span><span class='ee-v'>-17.528785700083397</span></li></ul></details></li><li><details><summary>16: [24.84691392459051, -17.812909617852213]</summary><ul><li><span class='ee-k'>0:</span><span class='ee-v'>24.84691392459051</span></li><li><span class='ee-k'>1:</span><span class='ee-v'>-17.812909617852213</span></li></ul></details></li><li><details><summary>17: [24.816096582062414, -17.949969038164593]</summary><ul><li><span class='ee-k'>0:</span><span class='ee-v'>24.816096582062414</span></li><li><span class='ee-k'>1:</span><span class='ee-v'>-17.949969038164593</span></li></ul></details></li><li><details><summary>18: [24.808867181087173, -17.985120626523063]</summary><ul><li><span class='ee-k'>0:</span><span class='ee-v'>24.808867181087173</span></li><li><span class='ee-k'>1:</span><span class='ee-v'>-17.985120626523063</span></li></ul></details></li></ul></details></li></ul></details></li><li><span class='ee-k'>system:index:</span><span class='ee-v'>LE07_173072_20151116</span></li><li><span class='ee-k'>system:time_end:</span><span class='ee-v'>1447661952329</span></li><li><span class='ee-k'>system:time_start:</span><span class='ee-v'>1447661952329</span></li></ul></details></li></ul></details></li><li><details><summary>1: Image LANDSAT/LE07/C02/T1_L2/LE07_173072_20160204 (19 bands)</summary><ul><li><span class='ee-k'>type:</span><span class='ee-v'>Image</span></li><li><span class='ee-k'>id:</span><span class='ee-v'>LANDSAT/LE07/C02/T1_L2/LE07_173072_20160204</span></li><li><span class='ee-k'>version:</span><span class='ee-v'>1624545173122177</span></li><li><details><summary>bands: List (19 elements)</summary><ul><li><details><summary>0: \"SR_B1\", unsigned int16, EPSG:32635, 8071x6981 px</summary><ul><li><span class='ee-k'>id:</span><span class='ee-v'>SR_B1</span></li><li><span class='ee-k'>crs:</span><span class='ee-v'>EPSG:32635</span></li><li><details><summary>crs_transform: [30, 0, 260085, 0, -30, -1812585]</summary><ul><li><span class='ee-k'>0:</span><span class='ee-v'>30</span></li><li><span class='ee-k'>1:</span><span class='ee-v'>0</span></li><li><span class='ee-k'>2:</span><span class='ee-v'>260085</span></li><li><span class='ee-k'>3:</span><span class='ee-v'>0</span></li><li><span class='ee-k'>4:</span><span class='ee-v'>-30</span></li><li><span class='ee-k'>5:</span><span class='ee-v'>-1812585</span></li></ul></details></li><li><details><summary>data_type: unsigned int16</summary><ul><li><span class='ee-k'>type:</span><span class='ee-v'>PixelType</span></li><li><span class='ee-k'>max:</span><span class='ee-v'>65535</span></li><li><span class='ee-k'>min:</span><span class='ee-v'>0</span></li><li><span class='ee-k'>precision:</span><span class='ee-v'>int</span></li></ul></details></li><li><details><summary>dimensions: [8071, 6981]</summary><ul><li><span class='ee-k'>0:</span><span class='ee-v'>8071</span></li><li><span class='ee-k'>1:</span><span class='ee-v'>6981</span></li></ul></details></li></ul></details></li><li><details><summary>1: \"SR_B2\", unsigned int16, EPSG:32635, 8071x6981 px</summary><ul><li><span class='ee-k'>id:</span><span class='ee-v'>SR_B2</span></li><li><span class='ee-k'>crs:</span><span class='ee-v'>EPSG:32635</span></li><li><details><summary>crs_transform: [30, 0, 260085, 0, -30, -1812585]</summary><ul><li><span class='ee-k'>0:</span><span class='ee-v'>30</span></li><li><span class='ee-k'>1:</span><span class='ee-v'>0</span></li><li><span class='ee-k'>2:</span><span class='ee-v'>260085</span></li><li><span class='ee-k'>3:</span><span class='ee-v'>0</span></li><li><span class='ee-k'>4:</span><span class='ee-v'>-30</span></li><li><span class='ee-k'>5:</span><span class='ee-v'>-1812585</span></li></ul></details></li><li><details><summary>data_type: unsigned int16</summary><ul><li><span class='ee-k'>type:</span><span class='ee-v'>PixelType</span></li><li><span class='ee-k'>max:</span><span class='ee-v'>65535</span></li><li><span class='ee-k'>min:</span><span class='ee-v'>0</span></li><li><span class='ee-k'>precision:</span><span class='ee-v'>int</span></li></ul></details></li><li><details><summary>dimensions: [8071, 6981]</summary><ul><li><span class='ee-k'>0:</span><span class='ee-v'>8071</span></li><li><span class='ee-k'>1:</span><span class='ee-v'>6981</span></li></ul></details></li></ul></details></li><li><details><summary>2: \"SR_B3\", unsigned int16, EPSG:32635, 8071x6981 px</summary><ul><li><span class='ee-k'>id:</span><span class='ee-v'>SR_B3</span></li><li><span class='ee-k'>crs:</span><span class='ee-v'>EPSG:32635</span></li><li><details><summary>crs_transform: [30, 0, 260085, 0, -30, -1812585]</summary><ul><li><span class='ee-k'>0:</span><span class='ee-v'>30</span></li><li><span class='ee-k'>1:</span><span class='ee-v'>0</span></li><li><span class='ee-k'>2:</span><span class='ee-v'>260085</span></li><li><span class='ee-k'>3:</span><span class='ee-v'>0</span></li><li><span class='ee-k'>4:</span><span class='ee-v'>-30</span></li><li><span class='ee-k'>5:</span><span class='ee-v'>-1812585</span></li></ul></details></li><li><details><summary>data_type: unsigned int16</summary><ul><li><span class='ee-k'>type:</span><span class='ee-v'>PixelType</span></li><li><span class='ee-k'>max:</span><span class='ee-v'>65535</span></li><li><span class='ee-k'>min:</span><span class='ee-v'>0</span></li><li><span class='ee-k'>precision:</span><span class='ee-v'>int</span></li></ul></details></li><li><details><summary>dimensions: [8071, 6981]</summary><ul><li><span class='ee-k'>0:</span><span class='ee-v'>8071</span></li><li><span class='ee-k'>1:</span><span class='ee-v'>6981</span></li></ul></details></li></ul></details></li><li><details><summary>3: \"SR_B4\", unsigned int16, EPSG:32635, 8071x6981 px</summary><ul><li><span class='ee-k'>id:</span><span class='ee-v'>SR_B4</span></li><li><span class='ee-k'>crs:</span><span class='ee-v'>EPSG:32635</span></li><li><details><summary>crs_transform: [30, 0, 260085, 0, -30, -1812585]</summary><ul><li><span class='ee-k'>0:</span><span class='ee-v'>30</span></li><li><span class='ee-k'>1:</span><span class='ee-v'>0</span></li><li><span class='ee-k'>2:</span><span class='ee-v'>260085</span></li><li><span class='ee-k'>3:</span><span class='ee-v'>0</span></li><li><span class='ee-k'>4:</span><span class='ee-v'>-30</span></li><li><span class='ee-k'>5:</span><span class='ee-v'>-1812585</span></li></ul></details></li><li><details><summary>data_type: unsigned int16</summary><ul><li><span class='ee-k'>type:</span><span class='ee-v'>PixelType</span></li><li><span class='ee-k'>max:</span><span class='ee-v'>65535</span></li><li><span class='ee-k'>min:</span><span class='ee-v'>0</span></li><li><span class='ee-k'>precision:</span><span class='ee-v'>int</span></li></ul></details></li><li><details><summary>dimensions: [8071, 6981]</summary><ul><li><span class='ee-k'>0:</span><span class='ee-v'>8071</span></li><li><span class='ee-k'>1:</span><span class='ee-v'>6981</span></li></ul></details></li></ul></details></li><li><details><summary>4: \"SR_B5\", unsigned int16, EPSG:32635, 8071x6981 px</summary><ul><li><span class='ee-k'>id:</span><span class='ee-v'>SR_B5</span></li><li><span class='ee-k'>crs:</span><span class='ee-v'>EPSG:32635</span></li><li><details><summary>crs_transform: [30, 0, 260085, 0, -30, -1812585]</summary><ul><li><span class='ee-k'>0:</span><span class='ee-v'>30</span></li><li><span class='ee-k'>1:</span><span class='ee-v'>0</span></li><li><span class='ee-k'>2:</span><span class='ee-v'>260085</span></li><li><span class='ee-k'>3:</span><span class='ee-v'>0</span></li><li><span class='ee-k'>4:</span><span class='ee-v'>-30</span></li><li><span class='ee-k'>5:</span><span class='ee-v'>-1812585</span></li></ul></details></li><li><details><summary>data_type: unsigned int16</summary><ul><li><span class='ee-k'>type:</span><span class='ee-v'>PixelType</span></li><li><span class='ee-k'>max:</span><span class='ee-v'>65535</span></li><li><span class='ee-k'>min:</span><span class='ee-v'>0</span></li><li><span class='ee-k'>precision:</span><span class='ee-v'>int</span></li></ul></details></li><li><details><summary>dimensions: [8071, 6981]</summary><ul><li><span class='ee-k'>0:</span><span class='ee-v'>8071</span></li><li><span class='ee-k'>1:</span><span class='ee-v'>6981</span></li></ul></details></li></ul></details></li><li><details><summary>5: \"SR_B7\", unsigned int16, EPSG:32635, 8071x6981 px</summary><ul><li><span class='ee-k'>id:</span><span class='ee-v'>SR_B7</span></li><li><span class='ee-k'>crs:</span><span class='ee-v'>EPSG:32635</span></li><li><details><summary>crs_transform: [30, 0, 260085, 0, -30, -1812585]</summary><ul><li><span class='ee-k'>0:</span><span class='ee-v'>30</span></li><li><span class='ee-k'>1:</span><span class='ee-v'>0</span></li><li><span class='ee-k'>2:</span><span class='ee-v'>260085</span></li><li><span class='ee-k'>3:</span><span class='ee-v'>0</span></li><li><span class='ee-k'>4:</span><span class='ee-v'>-30</span></li><li><span class='ee-k'>5:</span><span class='ee-v'>-1812585</span></li></ul></details></li><li><details><summary>data_type: unsigned int16</summary><ul><li><span class='ee-k'>type:</span><span class='ee-v'>PixelType</span></li><li><span class='ee-k'>max:</span><span class='ee-v'>65535</span></li><li><span class='ee-k'>min:</span><span class='ee-v'>0</span></li><li><span class='ee-k'>precision:</span><span class='ee-v'>int</span></li></ul></details></li><li><details><summary>dimensions: [8071, 6981]</summary><ul><li><span class='ee-k'>0:</span><span class='ee-v'>8071</span></li><li><span class='ee-k'>1:</span><span class='ee-v'>6981</span></li></ul></details></li></ul></details></li><li><details><summary>6: \"SR_ATMOS_OPACITY\", signed int16, EPSG:32635, 8071x6981 px</summary><ul><li><span class='ee-k'>id:</span><span class='ee-v'>SR_ATMOS_OPACITY</span></li><li><span class='ee-k'>crs:</span><span class='ee-v'>EPSG:32635</span></li><li><details><summary>crs_transform: [30, 0, 260085, 0, -30, -1812585]</summary><ul><li><span class='ee-k'>0:</span><span class='ee-v'>30</span></li><li><span class='ee-k'>1:</span><span class='ee-v'>0</span></li><li><span class='ee-k'>2:</span><span class='ee-v'>260085</span></li><li><span class='ee-k'>3:</span><span class='ee-v'>0</span></li><li><span class='ee-k'>4:</span><span class='ee-v'>-30</span></li><li><span class='ee-k'>5:</span><span class='ee-v'>-1812585</span></li></ul></details></li><li><details><summary>data_type: signed int16</summary><ul><li><span class='ee-k'>type:</span><span class='ee-v'>PixelType</span></li><li><span class='ee-k'>max:</span><span class='ee-v'>32767</span></li><li><span class='ee-k'>min:</span><span class='ee-v'>-32768</span></li><li><span class='ee-k'>precision:</span><span class='ee-v'>int</span></li></ul></details></li><li><details><summary>dimensions: [8071, 6981]</summary><ul><li><span class='ee-k'>0:</span><span class='ee-v'>8071</span></li><li><span class='ee-k'>1:</span><span class='ee-v'>6981</span></li></ul></details></li></ul></details></li><li><details><summary>7: \"SR_CLOUD_QA\", unsigned int8, EPSG:32635, 8071x6981 px</summary><ul><li><span class='ee-k'>id:</span><span class='ee-v'>SR_CLOUD_QA</span></li><li><span class='ee-k'>crs:</span><span class='ee-v'>EPSG:32635</span></li><li><details><summary>crs_transform: [30, 0, 260085, 0, -30, -1812585]</summary><ul><li><span class='ee-k'>0:</span><span class='ee-v'>30</span></li><li><span class='ee-k'>1:</span><span class='ee-v'>0</span></li><li><span class='ee-k'>2:</span><span class='ee-v'>260085</span></li><li><span class='ee-k'>3:</span><span class='ee-v'>0</span></li><li><span class='ee-k'>4:</span><span class='ee-v'>-30</span></li><li><span class='ee-k'>5:</span><span class='ee-v'>-1812585</span></li></ul></details></li><li><details><summary>data_type: unsigned int8</summary><ul><li><span class='ee-k'>type:</span><span class='ee-v'>PixelType</span></li><li><span class='ee-k'>max:</span><span class='ee-v'>255</span></li><li><span class='ee-k'>min:</span><span class='ee-v'>0</span></li><li><span class='ee-k'>precision:</span><span class='ee-v'>int</span></li></ul></details></li><li><details><summary>dimensions: [8071, 6981]</summary><ul><li><span class='ee-k'>0:</span><span class='ee-v'>8071</span></li><li><span class='ee-k'>1:</span><span class='ee-v'>6981</span></li></ul></details></li></ul></details></li><li><details><summary>8: \"ST_B6\", unsigned int16, EPSG:32635, 8071x6981 px</summary><ul><li><span class='ee-k'>id:</span><span class='ee-v'>ST_B6</span></li><li><span class='ee-k'>crs:</span><span class='ee-v'>EPSG:32635</span></li><li><details><summary>crs_transform: [30, 0, 260085, 0, -30, -1812585]</summary><ul><li><span class='ee-k'>0:</span><span class='ee-v'>30</span></li><li><span class='ee-k'>1:</span><span class='ee-v'>0</span></li><li><span class='ee-k'>2:</span><span class='ee-v'>260085</span></li><li><span class='ee-k'>3:</span><span class='ee-v'>0</span></li><li><span class='ee-k'>4:</span><span class='ee-v'>-30</span></li><li><span class='ee-k'>5:</span><span class='ee-v'>-1812585</span></li></ul></details></li><li><details><summary>data_type: unsigned int16</summary><ul><li><span class='ee-k'>type:</span><span class='ee-v'>PixelType</span></li><li><span class='ee-k'>max:</span><span class='ee-v'>65535</span></li><li><span class='ee-k'>min:</span><span class='ee-v'>0</span></li><li><span class='ee-k'>precision:</span><span class='ee-v'>int</span></li></ul></details></li><li><details><summary>dimensions: [8071, 6981]</summary><ul><li><span class='ee-k'>0:</span><span class='ee-v'>8071</span></li><li><span class='ee-k'>1:</span><span class='ee-v'>6981</span></li></ul></details></li></ul></details></li><li><details><summary>9: \"ST_ATRAN\", signed int16, EPSG:32635, 8071x6981 px</summary><ul><li><span class='ee-k'>id:</span><span class='ee-v'>ST_ATRAN</span></li><li><span class='ee-k'>crs:</span><span class='ee-v'>EPSG:32635</span></li><li><details><summary>crs_transform: [30, 0, 260085, 0, -30, -1812585]</summary><ul><li><span class='ee-k'>0:</span><span class='ee-v'>30</span></li><li><span class='ee-k'>1:</span><span class='ee-v'>0</span></li><li><span class='ee-k'>2:</span><span class='ee-v'>260085</span></li><li><span class='ee-k'>3:</span><span class='ee-v'>0</span></li><li><span class='ee-k'>4:</span><span class='ee-v'>-30</span></li><li><span class='ee-k'>5:</span><span class='ee-v'>-1812585</span></li></ul></details></li><li><details><summary>data_type: signed int16</summary><ul><li><span class='ee-k'>type:</span><span class='ee-v'>PixelType</span></li><li><span class='ee-k'>max:</span><span class='ee-v'>32767</span></li><li><span class='ee-k'>min:</span><span class='ee-v'>-32768</span></li><li><span class='ee-k'>precision:</span><span class='ee-v'>int</span></li></ul></details></li><li><details><summary>dimensions: [8071, 6981]</summary><ul><li><span class='ee-k'>0:</span><span class='ee-v'>8071</span></li><li><span class='ee-k'>1:</span><span class='ee-v'>6981</span></li></ul></details></li></ul></details></li><li><details><summary>10: \"ST_CDIST\", signed int16, EPSG:32635, 8071x6981 px</summary><ul><li><span class='ee-k'>id:</span><span class='ee-v'>ST_CDIST</span></li><li><span class='ee-k'>crs:</span><span class='ee-v'>EPSG:32635</span></li><li><details><summary>crs_transform: [30, 0, 260085, 0, -30, -1812585]</summary><ul><li><span class='ee-k'>0:</span><span class='ee-v'>30</span></li><li><span class='ee-k'>1:</span><span class='ee-v'>0</span></li><li><span class='ee-k'>2:</span><span class='ee-v'>260085</span></li><li><span class='ee-k'>3:</span><span class='ee-v'>0</span></li><li><span class='ee-k'>4:</span><span class='ee-v'>-30</span></li><li><span class='ee-k'>5:</span><span class='ee-v'>-1812585</span></li></ul></details></li><li><details><summary>data_type: signed int16</summary><ul><li><span class='ee-k'>type:</span><span class='ee-v'>PixelType</span></li><li><span class='ee-k'>max:</span><span class='ee-v'>32767</span></li><li><span class='ee-k'>min:</span><span class='ee-v'>-32768</span></li><li><span class='ee-k'>precision:</span><span class='ee-v'>int</span></li></ul></details></li><li><details><summary>dimensions: [8071, 6981]</summary><ul><li><span class='ee-k'>0:</span><span class='ee-v'>8071</span></li><li><span class='ee-k'>1:</span><span class='ee-v'>6981</span></li></ul></details></li></ul></details></li><li><details><summary>11: \"ST_DRAD\", signed int16, EPSG:32635, 8071x6981 px</summary><ul><li><span class='ee-k'>id:</span><span class='ee-v'>ST_DRAD</span></li><li><span class='ee-k'>crs:</span><span class='ee-v'>EPSG:32635</span></li><li><details><summary>crs_transform: [30, 0, 260085, 0, -30, -1812585]</summary><ul><li><span class='ee-k'>0:</span><span class='ee-v'>30</span></li><li><span class='ee-k'>1:</span><span class='ee-v'>0</span></li><li><span class='ee-k'>2:</span><span class='ee-v'>260085</span></li><li><span class='ee-k'>3:</span><span class='ee-v'>0</span></li><li><span class='ee-k'>4:</span><span class='ee-v'>-30</span></li><li><span class='ee-k'>5:</span><span class='ee-v'>-1812585</span></li></ul></details></li><li><details><summary>data_type: signed int16</summary><ul><li><span class='ee-k'>type:</span><span class='ee-v'>PixelType</span></li><li><span class='ee-k'>max:</span><span class='ee-v'>32767</span></li><li><span class='ee-k'>min:</span><span class='ee-v'>-32768</span></li><li><span class='ee-k'>precision:</span><span class='ee-v'>int</span></li></ul></details></li><li><details><summary>dimensions: [8071, 6981]</summary><ul><li><span class='ee-k'>0:</span><span class='ee-v'>8071</span></li><li><span class='ee-k'>1:</span><span class='ee-v'>6981</span></li></ul></details></li></ul></details></li><li><details><summary>12: \"ST_EMIS\", signed int16, EPSG:32635, 8071x6981 px</summary><ul><li><span class='ee-k'>id:</span><span class='ee-v'>ST_EMIS</span></li><li><span class='ee-k'>crs:</span><span class='ee-v'>EPSG:32635</span></li><li><details><summary>crs_transform: [30, 0, 260085, 0, -30, -1812585]</summary><ul><li><span class='ee-k'>0:</span><span class='ee-v'>30</span></li><li><span class='ee-k'>1:</span><span class='ee-v'>0</span></li><li><span class='ee-k'>2:</span><span class='ee-v'>260085</span></li><li><span class='ee-k'>3:</span><span class='ee-v'>0</span></li><li><span class='ee-k'>4:</span><span class='ee-v'>-30</span></li><li><span class='ee-k'>5:</span><span class='ee-v'>-1812585</span></li></ul></details></li><li><details><summary>data_type: signed int16</summary><ul><li><span class='ee-k'>type:</span><span class='ee-v'>PixelType</span></li><li><span class='ee-k'>max:</span><span class='ee-v'>32767</span></li><li><span class='ee-k'>min:</span><span class='ee-v'>-32768</span></li><li><span class='ee-k'>precision:</span><span class='ee-v'>int</span></li></ul></details></li><li><details><summary>dimensions: [8071, 6981]</summary><ul><li><span class='ee-k'>0:</span><span class='ee-v'>8071</span></li><li><span class='ee-k'>1:</span><span class='ee-v'>6981</span></li></ul></details></li></ul></details></li><li><details><summary>13: \"ST_EMSD\", signed int16, EPSG:32635, 8071x6981 px</summary><ul><li><span class='ee-k'>id:</span><span class='ee-v'>ST_EMSD</span></li><li><span class='ee-k'>crs:</span><span class='ee-v'>EPSG:32635</span></li><li><details><summary>crs_transform: [30, 0, 260085, 0, -30, -1812585]</summary><ul><li><span class='ee-k'>0:</span><span class='ee-v'>30</span></li><li><span class='ee-k'>1:</span><span class='ee-v'>0</span></li><li><span class='ee-k'>2:</span><span class='ee-v'>260085</span></li><li><span class='ee-k'>3:</span><span class='ee-v'>0</span></li><li><span class='ee-k'>4:</span><span class='ee-v'>-30</span></li><li><span class='ee-k'>5:</span><span class='ee-v'>-1812585</span></li></ul></details></li><li><details><summary>data_type: signed int16</summary><ul><li><span class='ee-k'>type:</span><span class='ee-v'>PixelType</span></li><li><span class='ee-k'>max:</span><span class='ee-v'>32767</span></li><li><span class='ee-k'>min:</span><span class='ee-v'>-32768</span></li><li><span class='ee-k'>precision:</span><span class='ee-v'>int</span></li></ul></details></li><li><details><summary>dimensions: [8071, 6981]</summary><ul><li><span class='ee-k'>0:</span><span class='ee-v'>8071</span></li><li><span class='ee-k'>1:</span><span class='ee-v'>6981</span></li></ul></details></li></ul></details></li><li><details><summary>14: \"ST_QA\", signed int16, EPSG:32635, 8071x6981 px</summary><ul><li><span class='ee-k'>id:</span><span class='ee-v'>ST_QA</span></li><li><span class='ee-k'>crs:</span><span class='ee-v'>EPSG:32635</span></li><li><details><summary>crs_transform: [30, 0, 260085, 0, -30, -1812585]</summary><ul><li><span class='ee-k'>0:</span><span class='ee-v'>30</span></li><li><span class='ee-k'>1:</span><span class='ee-v'>0</span></li><li><span class='ee-k'>2:</span><span class='ee-v'>260085</span></li><li><span class='ee-k'>3:</span><span class='ee-v'>0</span></li><li><span class='ee-k'>4:</span><span class='ee-v'>-30</span></li><li><span class='ee-k'>5:</span><span class='ee-v'>-1812585</span></li></ul></details></li><li><details><summary>data_type: signed int16</summary><ul><li><span class='ee-k'>type:</span><span class='ee-v'>PixelType</span></li><li><span class='ee-k'>max:</span><span class='ee-v'>32767</span></li><li><span class='ee-k'>min:</span><span class='ee-v'>-32768</span></li><li><span class='ee-k'>precision:</span><span class='ee-v'>int</span></li></ul></details></li><li><details><summary>dimensions: [8071, 6981]</summary><ul><li><span class='ee-k'>0:</span><span class='ee-v'>8071</span></li><li><span class='ee-k'>1:</span><span class='ee-v'>6981</span></li></ul></details></li></ul></details></li><li><details><summary>15: \"ST_TRAD\", signed int16, EPSG:32635, 8071x6981 px</summary><ul><li><span class='ee-k'>id:</span><span class='ee-v'>ST_TRAD</span></li><li><span class='ee-k'>crs:</span><span class='ee-v'>EPSG:32635</span></li><li><details><summary>crs_transform: [30, 0, 260085, 0, -30, -1812585]</summary><ul><li><span class='ee-k'>0:</span><span class='ee-v'>30</span></li><li><span class='ee-k'>1:</span><span class='ee-v'>0</span></li><li><span class='ee-k'>2:</span><span class='ee-v'>260085</span></li><li><span class='ee-k'>3:</span><span class='ee-v'>0</span></li><li><span class='ee-k'>4:</span><span class='ee-v'>-30</span></li><li><span class='ee-k'>5:</span><span class='ee-v'>-1812585</span></li></ul></details></li><li><details><summary>data_type: signed int16</summary><ul><li><span class='ee-k'>type:</span><span class='ee-v'>PixelType</span></li><li><span class='ee-k'>max:</span><span class='ee-v'>32767</span></li><li><span class='ee-k'>min:</span><span class='ee-v'>-32768</span></li><li><span class='ee-k'>precision:</span><span class='ee-v'>int</span></li></ul></details></li><li><details><summary>dimensions: [8071, 6981]</summary><ul><li><span class='ee-k'>0:</span><span class='ee-v'>8071</span></li><li><span class='ee-k'>1:</span><span class='ee-v'>6981</span></li></ul></details></li></ul></details></li><li><details><summary>16: \"ST_URAD\", signed int16, EPSG:32635, 8071x6981 px</summary><ul><li><span class='ee-k'>id:</span><span class='ee-v'>ST_URAD</span></li><li><span class='ee-k'>crs:</span><span class='ee-v'>EPSG:32635</span></li><li><details><summary>crs_transform: [30, 0, 260085, 0, -30, -1812585]</summary><ul><li><span class='ee-k'>0:</span><span class='ee-v'>30</span></li><li><span class='ee-k'>1:</span><span class='ee-v'>0</span></li><li><span class='ee-k'>2:</span><span class='ee-v'>260085</span></li><li><span class='ee-k'>3:</span><span class='ee-v'>0</span></li><li><span class='ee-k'>4:</span><span class='ee-v'>-30</span></li><li><span class='ee-k'>5:</span><span class='ee-v'>-1812585</span></li></ul></details></li><li><details><summary>data_type: signed int16</summary><ul><li><span class='ee-k'>type:</span><span class='ee-v'>PixelType</span></li><li><span class='ee-k'>max:</span><span class='ee-v'>32767</span></li><li><span class='ee-k'>min:</span><span class='ee-v'>-32768</span></li><li><span class='ee-k'>precision:</span><span class='ee-v'>int</span></li></ul></details></li><li><details><summary>dimensions: [8071, 6981]</summary><ul><li><span class='ee-k'>0:</span><span class='ee-v'>8071</span></li><li><span class='ee-k'>1:</span><span class='ee-v'>6981</span></li></ul></details></li></ul></details></li><li><details><summary>17: \"QA_PIXEL\", unsigned int16, EPSG:32635, 8071x6981 px</summary><ul><li><span class='ee-k'>id:</span><span class='ee-v'>QA_PIXEL</span></li><li><span class='ee-k'>crs:</span><span class='ee-v'>EPSG:32635</span></li><li><details><summary>crs_transform: [30, 0, 260085, 0, -30, -1812585]</summary><ul><li><span class='ee-k'>0:</span><span class='ee-v'>30</span></li><li><span class='ee-k'>1:</span><span class='ee-v'>0</span></li><li><span class='ee-k'>2:</span><span class='ee-v'>260085</span></li><li><span class='ee-k'>3:</span><span class='ee-v'>0</span></li><li><span class='ee-k'>4:</span><span class='ee-v'>-30</span></li><li><span class='ee-k'>5:</span><span class='ee-v'>-1812585</span></li></ul></details></li><li><details><summary>data_type: unsigned int16</summary><ul><li><span class='ee-k'>type:</span><span class='ee-v'>PixelType</span></li><li><span class='ee-k'>max:</span><span class='ee-v'>65535</span></li><li><span class='ee-k'>min:</span><span class='ee-v'>0</span></li><li><span class='ee-k'>precision:</span><span class='ee-v'>int</span></li></ul></details></li><li><details><summary>dimensions: [8071, 6981]</summary><ul><li><span class='ee-k'>0:</span><span class='ee-v'>8071</span></li><li><span class='ee-k'>1:</span><span class='ee-v'>6981</span></li></ul></details></li></ul></details></li><li><details><summary>18: \"QA_RADSAT\", unsigned int16, EPSG:32635, 8071x6981 px</summary><ul><li><span class='ee-k'>id:</span><span class='ee-v'>QA_RADSAT</span></li><li><span class='ee-k'>crs:</span><span class='ee-v'>EPSG:32635</span></li><li><details><summary>crs_transform: [30, 0, 260085, 0, -30, -1812585]</summary><ul><li><span class='ee-k'>0:</span><span class='ee-v'>30</span></li><li><span class='ee-k'>1:</span><span class='ee-v'>0</span></li><li><span class='ee-k'>2:</span><span class='ee-v'>260085</span></li><li><span class='ee-k'>3:</span><span class='ee-v'>0</span></li><li><span class='ee-k'>4:</span><span class='ee-v'>-30</span></li><li><span class='ee-k'>5:</span><span class='ee-v'>-1812585</span></li></ul></details></li><li><details><summary>data_type: unsigned int16</summary><ul><li><span class='ee-k'>type:</span><span class='ee-v'>PixelType</span></li><li><span class='ee-k'>max:</span><span class='ee-v'>65535</span></li><li><span class='ee-k'>min:</span><span class='ee-v'>0</span></li><li><span class='ee-k'>precision:</span><span class='ee-v'>int</span></li></ul></details></li><li><details><summary>dimensions: [8071, 6981]</summary><ul><li><span class='ee-k'>0:</span><span class='ee-v'>8071</span></li><li><span class='ee-k'>1:</span><span class='ee-v'>6981</span></li></ul></details></li></ul></details></li></ul></details></li><li><details><summary>properties: Object (130 properties)</summary><ul><li><span class='ee-k'>ALGORITHM_SOURCE_SURFACE_REFLECTANCE:</span><span class='ee-v'>LEDAPS_3.4.0</span></li><li><span class='ee-k'>ALGORITHM_SOURCE_SURFACE_TEMPERATURE:</span><span class='ee-v'>st_1.3.0</span></li><li><span class='ee-k'>CLOUD_COVER:</span><span class='ee-v'>1</span></li><li><span class='ee-k'>CLOUD_COVER_LAND:</span><span class='ee-v'>1</span></li><li><span class='ee-k'>COLLECTION_CATEGORY:</span><span class='ee-v'>T1</span></li><li><span class='ee-k'>COLLECTION_NUMBER:</span><span class='ee-v'>2</span></li><li><span class='ee-k'>CORRECTION_BIAS_BAND_1:</span><span class='ee-v'>INTERNAL_CALIBRATION</span></li><li><span class='ee-k'>CORRECTION_BIAS_BAND_2:</span><span class='ee-v'>INTERNAL_CALIBRATION</span></li><li><span class='ee-k'>CORRECTION_BIAS_BAND_3:</span><span class='ee-v'>INTERNAL_CALIBRATION</span></li><li><span class='ee-k'>CORRECTION_BIAS_BAND_4:</span><span class='ee-v'>INTERNAL_CALIBRATION</span></li><li><span class='ee-k'>CORRECTION_BIAS_BAND_5:</span><span class='ee-v'>INTERNAL_CALIBRATION</span></li><li><span class='ee-k'>CORRECTION_BIAS_BAND_6_VCID_1:</span><span class='ee-v'>INTERNAL_CALIBRATION</span></li><li><span class='ee-k'>CORRECTION_BIAS_BAND_6_VCID_2:</span><span class='ee-v'>INTERNAL_CALIBRATION</span></li><li><span class='ee-k'>CORRECTION_BIAS_BAND_7:</span><span class='ee-v'>INTERNAL_CALIBRATION</span></li><li><span class='ee-k'>CORRECTION_BIAS_BAND_8:</span><span class='ee-v'>INTERNAL_CALIBRATION</span></li><li><span class='ee-k'>CORRECTION_GAIN_BAND_1:</span><span class='ee-v'>CPF</span></li><li><span class='ee-k'>CORRECTION_GAIN_BAND_2:</span><span class='ee-v'>CPF</span></li><li><span class='ee-k'>CORRECTION_GAIN_BAND_3:</span><span class='ee-v'>CPF</span></li><li><span class='ee-k'>CORRECTION_GAIN_BAND_4:</span><span class='ee-v'>CPF</span></li><li><span class='ee-k'>CORRECTION_GAIN_BAND_5:</span><span class='ee-v'>CPF</span></li><li><span class='ee-k'>CORRECTION_GAIN_BAND_6_VCID_1:</span><span class='ee-v'>CPF</span></li><li><span class='ee-k'>CORRECTION_GAIN_BAND_6_VCID_2:</span><span class='ee-v'>CPF</span></li><li><span class='ee-k'>CORRECTION_GAIN_BAND_7:</span><span class='ee-v'>CPF</span></li><li><span class='ee-k'>CORRECTION_GAIN_BAND_8:</span><span class='ee-v'>CPF</span></li><li><span class='ee-k'>DATA_SOURCE_AIR_TEMPERATURE:</span><span class='ee-v'>NCEP</span></li><li><span class='ee-k'>DATA_SOURCE_ELEVATION:</span><span class='ee-v'>GLS2000</span></li><li><span class='ee-k'>DATA_SOURCE_OZONE:</span><span class='ee-v'>TOMS</span></li><li><span class='ee-k'>DATA_SOURCE_PRESSURE:</span><span class='ee-v'>NCEP</span></li><li><span class='ee-k'>DATA_SOURCE_REANALYSIS:</span><span class='ee-v'>GEOS-5 FP-IT</span></li><li><span class='ee-k'>DATA_SOURCE_WATER_VAPOR:</span><span class='ee-v'>NCEP</span></li><li><span class='ee-k'>DATE_ACQUIRED:</span><span class='ee-v'>2016-02-04</span></li><li><span class='ee-k'>DATE_PRODUCT_GENERATED:</span><span class='ee-v'>1599107432000</span></li><li><span class='ee-k'>DATUM:</span><span class='ee-v'>WGS84</span></li><li><span class='ee-k'>EARTH_SUN_DISTANCE:</span><span class='ee-v'>0.9857158</span></li><li><span class='ee-k'>ELLIPSOID:</span><span class='ee-v'>WGS84</span></li><li><span class='ee-k'>EPHEMERIS_TYPE:</span><span class='ee-v'>DEFINITIVE</span></li><li><span class='ee-k'>GAIN_BAND_1:</span><span class='ee-v'>L</span></li><li><span class='ee-k'>GAIN_BAND_2:</span><span class='ee-v'>L</span></li><li><span class='ee-k'>GAIN_BAND_3:</span><span class='ee-v'>L</span></li><li><span class='ee-k'>GAIN_BAND_4:</span><span class='ee-v'>L</span></li><li><span class='ee-k'>GAIN_BAND_5:</span><span class='ee-v'>L</span></li><li><span class='ee-k'>GAIN_BAND_6_VCID_1:</span><span class='ee-v'>L</span></li><li><span class='ee-k'>GAIN_BAND_6_VCID_2:</span><span class='ee-v'>H</span></li><li><span class='ee-k'>GAIN_BAND_7:</span><span class='ee-v'>L</span></li><li><span class='ee-k'>GAIN_BAND_8:</span><span class='ee-v'>L</span></li><li><span class='ee-k'>GAIN_CHANGE_BAND_1:</span><span class='ee-v'>LL</span></li><li><span class='ee-k'>GAIN_CHANGE_BAND_2:</span><span class='ee-v'>LL</span></li><li><span class='ee-k'>GAIN_CHANGE_BAND_3:</span><span class='ee-v'>LL</span></li><li><span class='ee-k'>GAIN_CHANGE_BAND_4:</span><span class='ee-v'>LL</span></li><li><span class='ee-k'>GAIN_CHANGE_BAND_5:</span><span class='ee-v'>LL</span></li><li><span class='ee-k'>GAIN_CHANGE_BAND_6_VCID_1:</span><span class='ee-v'>LL</span></li><li><span class='ee-k'>GAIN_CHANGE_BAND_6_VCID_2:</span><span class='ee-v'>HH</span></li><li><span class='ee-k'>GAIN_CHANGE_BAND_7:</span><span class='ee-v'>LL</span></li><li><span class='ee-k'>GAIN_CHANGE_BAND_8:</span><span class='ee-v'>LL</span></li><li><span class='ee-k'>GAIN_CHANGE_SCAN_BAND_1:</span><span class='ee-v'>0</span></li><li><span class='ee-k'>GAIN_CHANGE_SCAN_BAND_2:</span><span class='ee-v'>0</span></li><li><span class='ee-k'>GAIN_CHANGE_SCAN_BAND_3:</span><span class='ee-v'>0</span></li><li><span class='ee-k'>GAIN_CHANGE_SCAN_BAND_4:</span><span class='ee-v'>0</span></li><li><span class='ee-k'>GAIN_CHANGE_SCAN_BAND_5:</span><span class='ee-v'>0</span></li><li><span class='ee-k'>GAIN_CHANGE_SCAN_BAND_6_VCID_1:</span><span class='ee-v'>0</span></li><li><span class='ee-k'>GAIN_CHANGE_SCAN_BAND_6_VCID_2:</span><span class='ee-v'>0</span></li><li><span class='ee-k'>GAIN_CHANGE_SCAN_BAND_7:</span><span class='ee-v'>0</span></li><li><span class='ee-k'>GAIN_CHANGE_SCAN_BAND_8:</span><span class='ee-v'>0</span></li><li><span class='ee-k'>GEOMETRIC_RMSE_MODEL:</span><span class='ee-v'>4.779</span></li><li><span class='ee-k'>GEOMETRIC_RMSE_MODEL_X:</span><span class='ee-v'>2.962</span></li><li><span class='ee-k'>GEOMETRIC_RMSE_MODEL_Y:</span><span class='ee-v'>3.751</span></li><li><span class='ee-k'>GRID_CELL_SIZE_REFLECTIVE:</span><span class='ee-v'>30</span></li><li><span class='ee-k'>GRID_CELL_SIZE_THERMAL:</span><span class='ee-v'>30</span></li><li><span class='ee-k'>GROUND_CONTROL_POINTS_MODEL:</span><span class='ee-v'>700</span></li><li><span class='ee-k'>GROUND_CONTROL_POINTS_VERSION:</span><span class='ee-v'>5</span></li><li><span class='ee-k'>IMAGE_QUALITY:</span><span class='ee-v'>9</span></li><li><span class='ee-k'>L1_DATE_PRODUCT_GENERATED:</span><span class='ee-v'>2020-09-03T04:13:10Z</span></li><li><span class='ee-k'>L1_LANDSAT_PRODUCT_ID:</span><span class='ee-v'>LE07_L1TP_173072_20160204_20200903_02_T1</span></li><li><span class='ee-k'>L1_PROCESSING_LEVEL:</span><span class='ee-v'>L1TP</span></li><li><span class='ee-k'>L1_PROCESSING_SOFTWARE_VERSION:</span><span class='ee-v'>LPGS_15.3.1c</span></li><li><span class='ee-k'>L1_REQUEST_ID:</span><span class='ee-v'>L2</span></li><li><span class='ee-k'>LANDSAT_PRODUCT_ID:</span><span class='ee-v'>LE07_L2SP_173072_20160204_20200903_02_T1</span></li><li><span class='ee-k'>LANDSAT_SCENE_ID:</span><span class='ee-v'>LE71730722016035SG100</span></li><li><span class='ee-k'>MAP_PROJECTION:</span><span class='ee-v'>UTM</span></li><li><span class='ee-k'>ORIENTATION:</span><span class='ee-v'>NORTH_UP</span></li><li><span class='ee-k'>PROCESSING_LEVEL:</span><span class='ee-v'>L2SP</span></li><li><span class='ee-k'>PROCESSING_SOFTWARE_VERSION:</span><span class='ee-v'>LPGS_15.3.1c</span></li><li><span class='ee-k'>REFLECTANCE_ADD_BAND_1:</span><span class='ee-v'>-0.2</span></li><li><span class='ee-k'>REFLECTANCE_ADD_BAND_2:</span><span class='ee-v'>-0.2</span></li><li><span class='ee-k'>REFLECTANCE_ADD_BAND_3:</span><span class='ee-v'>-0.2</span></li><li><span class='ee-k'>REFLECTANCE_ADD_BAND_4:</span><span class='ee-v'>-0.2</span></li><li><span class='ee-k'>REFLECTANCE_ADD_BAND_5:</span><span class='ee-v'>-0.2</span></li><li><span class='ee-k'>REFLECTANCE_ADD_BAND_7:</span><span class='ee-v'>-0.2</span></li><li><span class='ee-k'>REFLECTANCE_MULT_BAND_1:</span><span class='ee-v'>2.75e-05</span></li><li><span class='ee-k'>REFLECTANCE_MULT_BAND_2:</span><span class='ee-v'>2.75e-05</span></li><li><span class='ee-k'>REFLECTANCE_MULT_BAND_3:</span><span class='ee-v'>2.75e-05</span></li><li><span class='ee-k'>REFLECTANCE_MULT_BAND_4:</span><span class='ee-v'>2.75e-05</span></li><li><span class='ee-k'>REFLECTANCE_MULT_BAND_5:</span><span class='ee-v'>2.75e-05</span></li><li><span class='ee-k'>REFLECTANCE_MULT_BAND_7:</span><span class='ee-v'>2.75e-05</span></li><li><span class='ee-k'>REFLECTIVE_LINES:</span><span class='ee-v'>6981</span></li><li><span class='ee-k'>REFLECTIVE_SAMPLES:</span><span class='ee-v'>8071</span></li><li><span class='ee-k'>REQUEST_ID:</span><span class='ee-v'>L2</span></li><li><span class='ee-k'>SATURATION_BAND_1:</span><span class='ee-v'>Y</span></li><li><span class='ee-k'>SATURATION_BAND_2:</span><span class='ee-v'>Y</span></li><li><span class='ee-k'>SATURATION_BAND_3:</span><span class='ee-v'>Y</span></li><li><span class='ee-k'>SATURATION_BAND_4:</span><span class='ee-v'>Y</span></li><li><span class='ee-k'>SATURATION_BAND_5:</span><span class='ee-v'>Y</span></li><li><span class='ee-k'>SATURATION_BAND_6_VCID_1:</span><span class='ee-v'>N</span></li><li><span class='ee-k'>SATURATION_BAND_6_VCID_2:</span><span class='ee-v'>N</span></li><li><span class='ee-k'>SATURATION_BAND_7:</span><span class='ee-v'>Y</span></li><li><span class='ee-k'>SATURATION_BAND_8:</span><span class='ee-v'>N</span></li><li><span class='ee-k'>SCENE_CENTER_TIME:</span><span class='ee-v'>08:20:18.1706966Z</span></li><li><span class='ee-k'>SENSOR_ANOMALIES:</span><span class='ee-v'>NONE</span></li><li><span class='ee-k'>SENSOR_ID:</span><span class='ee-v'>ETM</span></li><li><span class='ee-k'>SENSOR_MODE:</span><span class='ee-v'>BUMPER</span></li><li><span class='ee-k'>SENSOR_MODE_SLC:</span><span class='ee-v'>OFF</span></li><li><span class='ee-k'>SPACECRAFT_ID:</span><span class='ee-v'>LANDSAT_7</span></li><li><span class='ee-k'>STATION_ID:</span><span class='ee-v'>SG1</span></li><li><span class='ee-k'>SUN_AZIMUTH:</span><span class='ee-v'>93.04576977</span></li><li><span class='ee-k'>SUN_ELEVATION:</span><span class='ee-v'>58.9108572</span></li><li><span class='ee-k'>TEMPERATURE_ADD_BAND_ST_B6:</span><span class='ee-v'>149</span></li><li><span class='ee-k'>TEMPERATURE_MAXIMUM_BAND_ST_B6:</span><span class='ee-v'>372.999941</span></li><li><span class='ee-k'>TEMPERATURE_MINIMUM_BAND_ST_B6:</span><span class='ee-v'>149.003418</span></li><li><span class='ee-k'>TEMPERATURE_MULT_BAND_ST_B6:</span><span class='ee-v'>0.00341802</span></li><li><span class='ee-k'>THERMAL_LINES:</span><span class='ee-v'>6981</span></li><li><span class='ee-k'>THERMAL_SAMPLES:</span><span class='ee-v'>8071</span></li><li><span class='ee-k'>UTM_ZONE:</span><span class='ee-v'>35</span></li><li><span class='ee-k'>WRS_PATH:</span><span class='ee-v'>173</span></li><li><span class='ee-k'>WRS_ROW:</span><span class='ee-v'>72</span></li><li><span class='ee-k'>WRS_TYPE:</span><span class='ee-v'>2</span></li><li><span class='ee-k'>system:asset_size:</span><span class='ee-v'>610403131</span></li><li><details><summary>system:footprint: LinearRing (21 vertices)</summary><ul><li><span class='ee-k'>type:</span><span class='ee-v'>LinearRing</span></li><li><details><summary>coordinates: List (21 elements)</summary><ul><li><details><summary>0: [26.632612223974863, -18.169172617899402]</summary><ul><li><span class='ee-k'>0:</span><span class='ee-v'>26.632612223974863</span></li><li><span class='ee-k'>1:</span><span class='ee-v'>-18.169172617899402</span></li></ul></details></li><li><details><summary>1: [26.659508185168864, -18.04883035802812]</summary><ul><li><span class='ee-k'>0:</span><span class='ee-v'>26.659508185168864</span></li><li><span class='ee-k'>1:</span><span class='ee-v'>-18.04883035802812</span></li></ul></details></li><li><details><summary>2: [26.96309473977613, -16.67206978252606]</summary><ul><li><span class='ee-k'>0:</span><span class='ee-v'>26.96309473977613</span></li><li><span class='ee-k'>1:</span><span class='ee-v'>-16.67206978252606</span></li></ul></details></li><li><details><summary>3: [26.963439699152588, -16.664124795948222]</summary><ul><li><span class='ee-k'>0:</span><span class='ee-v'>26.963439699152588</span></li><li><span class='ee-k'>1:</span><span class='ee-v'>-16.664124795948222</span></li></ul></details></li><li><details><summary>4: [25.170637871983512, -16.398165522447474]</summary><ul><li><span class='ee-k'>0:</span><span class='ee-v'>25.170637871983512</span></li><li><span class='ee-k'>1:</span><span class='ee-v'>-16.398165522447474</span></li></ul></details></li><li><details><summary>5: [25.16355624796416, -16.404878681620843]</summary><ul><li><span class='ee-k'>0:</span><span class='ee-v'>25.16355624796416</span></li><li><span class='ee-k'>1:</span><span class='ee-v'>-16.404878681620843</span></li></ul></details></li><li><details><summary>6: [25.158604165406057, -16.42144681469036]</summary><ul><li><span class='ee-k'>0:</span><span class='ee-v'>25.158604165406057</span></li><li><span class='ee-k'>1:</span><span class='ee-v'>-16.42144681469036</span></li></ul></details></li><li><details><summary>7: [25.15141262091788, -16.45184490762954]</summary><ul><li><span class='ee-k'>0:</span><span class='ee-v'>25.15141262091788</span></li><li><span class='ee-k'>1:</span><span class='ee-v'>-16.45184490762954</span></li></ul></details></li><li><details><summary>8: [24.972334801806355, -17.22068853566616]</summary><ul><li><span class='ee-k'>0:</span><span class='ee-v'>24.972334801806355</span></li><li><span class='ee-k'>1:</span><span class='ee-v'>-17.22068853566616</span></li></ul></details></li><li><details><summary>9: [24.86428034240639, -17.684639582113217]</summary><ul><li><span class='ee-k'>0:</span><span class='ee-v'>24.86428034240639</span></li><li><span class='ee-k'>1:</span><span class='ee-v'>-17.684639582113217</span></li></ul></details></li><li><details><summary>10: [24.790214743777803, -18.002387452935263]</summary><ul><li><span class='ee-k'>0:</span><span class='ee-v'>24.790214743777803</span></li><li><span class='ee-k'>1:</span><span class='ee-v'>-18.002387452935263</span></li></ul></details></li><li><details><summary>11: [24.79089193629501, -18.003050947254323]</summary><ul><li><span class='ee-k'>0:</span><span class='ee-v'>24.79089193629501</span></li><li><span class='ee-k'>1:</span><span class='ee-v'>-18.003050947254323</span></li></ul></details></li><li><details><summary>12: [24.79373555116272, -18.005281449267933]</summary><ul><li><span class='ee-k'>0:</span><span class='ee-v'>24.79373555116272</span></li><li><span class='ee-k'>1:</span><span class='ee-v'>-18.005281449267933</span></li></ul></details></li><li><details><summary>13: [24.797578928134424, -18.007032032714942]</summary><ul><li><span class='ee-k'>0:</span><span class='ee-v'>24.797578928134424</span></li><li><span class='ee-k'>1:</span><span class='ee-v'>-18.007032032714942</span></li></ul></details></li><li><details><summary>14: [25.183262217202547, -18.0657419493942]</summary><ul><li><span class='ee-k'>0:</span><span class='ee-v'>25.183262217202547</span></li><li><span class='ee-k'>1:</span><span class='ee-v'>-18.0657419493942</span></li></ul></details></li><li><details><summary>15: [26.60437587223595, -18.27507856329177]</summary><ul><li><span class='ee-k'>0:</span><span class='ee-v'>26.60437587223595</span></li><li><span class='ee-k'>1:</span><span class='ee-v'>-18.27507856329177</span></li></ul></details></li><li><details><summary>16: [26.606411843807656, -18.275082712545437]</summary><ul><li><span class='ee-k'>0:</span><span class='ee-v'>26.606411843807656</span></li><li><span class='ee-k'>1:</span><span class='ee-v'>-18.275082712545437</span></li></ul></details></li><li><details><summary>17: [26.608818418408294, -18.272507411476415]</summary><ul><li><span class='ee-k'>0:</span><span class='ee-v'>26.608818418408294</span></li><li><span class='ee-k'>1:</span><span class='ee-v'>-18.272507411476415</span></li></ul></details></li><li><details><summary>18: [26.611126082298853, -18.264039218619192]</summary><ul><li><span class='ee-k'>0:</span><span class='ee-v'>26.611126082298853</span></li><li><span class='ee-k'>1:</span><span class='ee-v'>-18.264039218619192</span></li></ul></details></li><li><details><summary>19: [26.61649911329402, -18.24116585417963]</summary><ul><li><span class='ee-k'>0:</span><span class='ee-v'>26.61649911329402</span></li><li><span class='ee-k'>1:</span><span class='ee-v'>-18.24116585417963</span></li></ul></details></li><li><details><summary>20: [26.632612223974863, -18.169172617899402]</summary><ul><li><span class='ee-k'>0:</span><span class='ee-v'>26.632612223974863</span></li><li><span class='ee-k'>1:</span><span class='ee-v'>-18.169172617899402</span></li></ul></details></li></ul></details></li></ul></details></li><li><span class='ee-k'>system:index:</span><span class='ee-v'>LE07_173072_20160204</span></li><li><span class='ee-k'>system:time_end:</span><span class='ee-v'>1454574018170</span></li><li><span class='ee-k'>system:time_start:</span><span class='ee-v'>1454574018170</span></li></ul></details></li></ul></details></li><li><details><summary>2: Image LANDSAT/LE07/C02/T1_L2/LE07_173072_20160220 (19 bands)</summary><ul><li><span class='ee-k'>type:</span><span class='ee-v'>Image</span></li><li><span class='ee-k'>id:</span><span class='ee-v'>LANDSAT/LE07/C02/T1_L2/LE07_173072_20160220</span></li><li><span class='ee-k'>version:</span><span class='ee-v'>1624546686395233</span></li><li><details><summary>bands: List (19 elements)</summary><ul><li><details><summary>0: \"SR_B1\", unsigned int16, EPSG:32635, 8071x6981 px</summary><ul><li><span class='ee-k'>id:</span><span class='ee-v'>SR_B1</span></li><li><span class='ee-k'>crs:</span><span class='ee-v'>EPSG:32635</span></li><li><details><summary>crs_transform: [30, 0, 262785, 0, -30, -1812585]</summary><ul><li><span class='ee-k'>0:</span><span class='ee-v'>30</span></li><li><span class='ee-k'>1:</span><span class='ee-v'>0</span></li><li><span class='ee-k'>2:</span><span class='ee-v'>262785</span></li><li><span class='ee-k'>3:</span><span class='ee-v'>0</span></li><li><span class='ee-k'>4:</span><span class='ee-v'>-30</span></li><li><span class='ee-k'>5:</span><span class='ee-v'>-1812585</span></li></ul></details></li><li><details><summary>data_type: unsigned int16</summary><ul><li><span class='ee-k'>type:</span><span class='ee-v'>PixelType</span></li><li><span class='ee-k'>max:</span><span class='ee-v'>65535</span></li><li><span class='ee-k'>min:</span><span class='ee-v'>0</span></li><li><span class='ee-k'>precision:</span><span class='ee-v'>int</span></li></ul></details></li><li><details><summary>dimensions: [8071, 6981]</summary><ul><li><span class='ee-k'>0:</span><span class='ee-v'>8071</span></li><li><span class='ee-k'>1:</span><span class='ee-v'>6981</span></li></ul></details></li></ul></details></li><li><details><summary>1: \"SR_B2\", unsigned int16, EPSG:32635, 8071x6981 px</summary><ul><li><span class='ee-k'>id:</span><span class='ee-v'>SR_B2</span></li><li><span class='ee-k'>crs:</span><span class='ee-v'>EPSG:32635</span></li><li><details><summary>crs_transform: [30, 0, 262785, 0, -30, -1812585]</summary><ul><li><span class='ee-k'>0:</span><span class='ee-v'>30</span></li><li><span class='ee-k'>1:</span><span class='ee-v'>0</span></li><li><span class='ee-k'>2:</span><span class='ee-v'>262785</span></li><li><span class='ee-k'>3:</span><span class='ee-v'>0</span></li><li><span class='ee-k'>4:</span><span class='ee-v'>-30</span></li><li><span class='ee-k'>5:</span><span class='ee-v'>-1812585</span></li></ul></details></li><li><details><summary>data_type: unsigned int16</summary><ul><li><span class='ee-k'>type:</span><span class='ee-v'>PixelType</span></li><li><span class='ee-k'>max:</span><span class='ee-v'>65535</span></li><li><span class='ee-k'>min:</span><span class='ee-v'>0</span></li><li><span class='ee-k'>precision:</span><span class='ee-v'>int</span></li></ul></details></li><li><details><summary>dimensions: [8071, 6981]</summary><ul><li><span class='ee-k'>0:</span><span class='ee-v'>8071</span></li><li><span class='ee-k'>1:</span><span class='ee-v'>6981</span></li></ul></details></li></ul></details></li><li><details><summary>2: \"SR_B3\", unsigned int16, EPSG:32635, 8071x6981 px</summary><ul><li><span class='ee-k'>id:</span><span class='ee-v'>SR_B3</span></li><li><span class='ee-k'>crs:</span><span class='ee-v'>EPSG:32635</span></li><li><details><summary>crs_transform: [30, 0, 262785, 0, -30, -1812585]</summary><ul><li><span class='ee-k'>0:</span><span class='ee-v'>30</span></li><li><span class='ee-k'>1:</span><span class='ee-v'>0</span></li><li><span class='ee-k'>2:</span><span class='ee-v'>262785</span></li><li><span class='ee-k'>3:</span><span class='ee-v'>0</span></li><li><span class='ee-k'>4:</span><span class='ee-v'>-30</span></li><li><span class='ee-k'>5:</span><span class='ee-v'>-1812585</span></li></ul></details></li><li><details><summary>data_type: unsigned int16</summary><ul><li><span class='ee-k'>type:</span><span class='ee-v'>PixelType</span></li><li><span class='ee-k'>max:</span><span class='ee-v'>65535</span></li><li><span class='ee-k'>min:</span><span class='ee-v'>0</span></li><li><span class='ee-k'>precision:</span><span class='ee-v'>int</span></li></ul></details></li><li><details><summary>dimensions: [8071, 6981]</summary><ul><li><span class='ee-k'>0:</span><span class='ee-v'>8071</span></li><li><span class='ee-k'>1:</span><span class='ee-v'>6981</span></li></ul></details></li></ul></details></li><li><details><summary>3: \"SR_B4\", unsigned int16, EPSG:32635, 8071x6981 px</summary><ul><li><span class='ee-k'>id:</span><span class='ee-v'>SR_B4</span></li><li><span class='ee-k'>crs:</span><span class='ee-v'>EPSG:32635</span></li><li><details><summary>crs_transform: [30, 0, 262785, 0, -30, -1812585]</summary><ul><li><span class='ee-k'>0:</span><span class='ee-v'>30</span></li><li><span class='ee-k'>1:</span><span class='ee-v'>0</span></li><li><span class='ee-k'>2:</span><span class='ee-v'>262785</span></li><li><span class='ee-k'>3:</span><span class='ee-v'>0</span></li><li><span class='ee-k'>4:</span><span class='ee-v'>-30</span></li><li><span class='ee-k'>5:</span><span class='ee-v'>-1812585</span></li></ul></details></li><li><details><summary>data_type: unsigned int16</summary><ul><li><span class='ee-k'>type:</span><span class='ee-v'>PixelType</span></li><li><span class='ee-k'>max:</span><span class='ee-v'>65535</span></li><li><span class='ee-k'>min:</span><span class='ee-v'>0</span></li><li><span class='ee-k'>precision:</span><span class='ee-v'>int</span></li></ul></details></li><li><details><summary>dimensions: [8071, 6981]</summary><ul><li><span class='ee-k'>0:</span><span class='ee-v'>8071</span></li><li><span class='ee-k'>1:</span><span class='ee-v'>6981</span></li></ul></details></li></ul></details></li><li><details><summary>4: \"SR_B5\", unsigned int16, EPSG:32635, 8071x6981 px</summary><ul><li><span class='ee-k'>id:</span><span class='ee-v'>SR_B5</span></li><li><span class='ee-k'>crs:</span><span class='ee-v'>EPSG:32635</span></li><li><details><summary>crs_transform: [30, 0, 262785, 0, -30, -1812585]</summary><ul><li><span class='ee-k'>0:</span><span class='ee-v'>30</span></li><li><span class='ee-k'>1:</span><span class='ee-v'>0</span></li><li><span class='ee-k'>2:</span><span class='ee-v'>262785</span></li><li><span class='ee-k'>3:</span><span class='ee-v'>0</span></li><li><span class='ee-k'>4:</span><span class='ee-v'>-30</span></li><li><span class='ee-k'>5:</span><span class='ee-v'>-1812585</span></li></ul></details></li><li><details><summary>data_type: unsigned int16</summary><ul><li><span class='ee-k'>type:</span><span class='ee-v'>PixelType</span></li><li><span class='ee-k'>max:</span><span class='ee-v'>65535</span></li><li><span class='ee-k'>min:</span><span class='ee-v'>0</span></li><li><span class='ee-k'>precision:</span><span class='ee-v'>int</span></li></ul></details></li><li><details><summary>dimensions: [8071, 6981]</summary><ul><li><span class='ee-k'>0:</span><span class='ee-v'>8071</span></li><li><span class='ee-k'>1:</span><span class='ee-v'>6981</span></li></ul></details></li></ul></details></li><li><details><summary>5: \"SR_B7\", unsigned int16, EPSG:32635, 8071x6981 px</summary><ul><li><span class='ee-k'>id:</span><span class='ee-v'>SR_B7</span></li><li><span class='ee-k'>crs:</span><span class='ee-v'>EPSG:32635</span></li><li><details><summary>crs_transform: [30, 0, 262785, 0, -30, -1812585]</summary><ul><li><span class='ee-k'>0:</span><span class='ee-v'>30</span></li><li><span class='ee-k'>1:</span><span class='ee-v'>0</span></li><li><span class='ee-k'>2:</span><span class='ee-v'>262785</span></li><li><span class='ee-k'>3:</span><span class='ee-v'>0</span></li><li><span class='ee-k'>4:</span><span class='ee-v'>-30</span></li><li><span class='ee-k'>5:</span><span class='ee-v'>-1812585</span></li></ul></details></li><li><details><summary>data_type: unsigned int16</summary><ul><li><span class='ee-k'>type:</span><span class='ee-v'>PixelType</span></li><li><span class='ee-k'>max:</span><span class='ee-v'>65535</span></li><li><span class='ee-k'>min:</span><span class='ee-v'>0</span></li><li><span class='ee-k'>precision:</span><span class='ee-v'>int</span></li></ul></details></li><li><details><summary>dimensions: [8071, 6981]</summary><ul><li><span class='ee-k'>0:</span><span class='ee-v'>8071</span></li><li><span class='ee-k'>1:</span><span class='ee-v'>6981</span></li></ul></details></li></ul></details></li><li><details><summary>6: \"SR_ATMOS_OPACITY\", signed int16, EPSG:32635, 8071x6981 px</summary><ul><li><span class='ee-k'>id:</span><span class='ee-v'>SR_ATMOS_OPACITY</span></li><li><span class='ee-k'>crs:</span><span class='ee-v'>EPSG:32635</span></li><li><details><summary>crs_transform: [30, 0, 262785, 0, -30, -1812585]</summary><ul><li><span class='ee-k'>0:</span><span class='ee-v'>30</span></li><li><span class='ee-k'>1:</span><span class='ee-v'>0</span></li><li><span class='ee-k'>2:</span><span class='ee-v'>262785</span></li><li><span class='ee-k'>3:</span><span class='ee-v'>0</span></li><li><span class='ee-k'>4:</span><span class='ee-v'>-30</span></li><li><span class='ee-k'>5:</span><span class='ee-v'>-1812585</span></li></ul></details></li><li><details><summary>data_type: signed int16</summary><ul><li><span class='ee-k'>type:</span><span class='ee-v'>PixelType</span></li><li><span class='ee-k'>max:</span><span class='ee-v'>32767</span></li><li><span class='ee-k'>min:</span><span class='ee-v'>-32768</span></li><li><span class='ee-k'>precision:</span><span class='ee-v'>int</span></li></ul></details></li><li><details><summary>dimensions: [8071, 6981]</summary><ul><li><span class='ee-k'>0:</span><span class='ee-v'>8071</span></li><li><span class='ee-k'>1:</span><span class='ee-v'>6981</span></li></ul></details></li></ul></details></li><li><details><summary>7: \"SR_CLOUD_QA\", unsigned int8, EPSG:32635, 8071x6981 px</summary><ul><li><span class='ee-k'>id:</span><span class='ee-v'>SR_CLOUD_QA</span></li><li><span class='ee-k'>crs:</span><span class='ee-v'>EPSG:32635</span></li><li><details><summary>crs_transform: [30, 0, 262785, 0, -30, -1812585]</summary><ul><li><span class='ee-k'>0:</span><span class='ee-v'>30</span></li><li><span class='ee-k'>1:</span><span class='ee-v'>0</span></li><li><span class='ee-k'>2:</span><span class='ee-v'>262785</span></li><li><span class='ee-k'>3:</span><span class='ee-v'>0</span></li><li><span class='ee-k'>4:</span><span class='ee-v'>-30</span></li><li><span class='ee-k'>5:</span><span class='ee-v'>-1812585</span></li></ul></details></li><li><details><summary>data_type: unsigned int8</summary><ul><li><span class='ee-k'>type:</span><span class='ee-v'>PixelType</span></li><li><span class='ee-k'>max:</span><span class='ee-v'>255</span></li><li><span class='ee-k'>min:</span><span class='ee-v'>0</span></li><li><span class='ee-k'>precision:</span><span class='ee-v'>int</span></li></ul></details></li><li><details><summary>dimensions: [8071, 6981]</summary><ul><li><span class='ee-k'>0:</span><span class='ee-v'>8071</span></li><li><span class='ee-k'>1:</span><span class='ee-v'>6981</span></li></ul></details></li></ul></details></li><li><details><summary>8: \"ST_B6\", unsigned int16, EPSG:32635, 8071x6981 px</summary><ul><li><span class='ee-k'>id:</span><span class='ee-v'>ST_B6</span></li><li><span class='ee-k'>crs:</span><span class='ee-v'>EPSG:32635</span></li><li><details><summary>crs_transform: [30, 0, 262785, 0, -30, -1812585]</summary><ul><li><span class='ee-k'>0:</span><span class='ee-v'>30</span></li><li><span class='ee-k'>1:</span><span class='ee-v'>0</span></li><li><span class='ee-k'>2:</span><span class='ee-v'>262785</span></li><li><span class='ee-k'>3:</span><span class='ee-v'>0</span></li><li><span class='ee-k'>4:</span><span class='ee-v'>-30</span></li><li><span class='ee-k'>5:</span><span class='ee-v'>-1812585</span></li></ul></details></li><li><details><summary>data_type: unsigned int16</summary><ul><li><span class='ee-k'>type:</span><span class='ee-v'>PixelType</span></li><li><span class='ee-k'>max:</span><span class='ee-v'>65535</span></li><li><span class='ee-k'>min:</span><span class='ee-v'>0</span></li><li><span class='ee-k'>precision:</span><span class='ee-v'>int</span></li></ul></details></li><li><details><summary>dimensions: [8071, 6981]</summary><ul><li><span class='ee-k'>0:</span><span class='ee-v'>8071</span></li><li><span class='ee-k'>1:</span><span class='ee-v'>6981</span></li></ul></details></li></ul></details></li><li><details><summary>9: \"ST_ATRAN\", signed int16, EPSG:32635, 8071x6981 px</summary><ul><li><span class='ee-k'>id:</span><span class='ee-v'>ST_ATRAN</span></li><li><span class='ee-k'>crs:</span><span class='ee-v'>EPSG:32635</span></li><li><details><summary>crs_transform: [30, 0, 262785, 0, -30, -1812585]</summary><ul><li><span class='ee-k'>0:</span><span class='ee-v'>30</span></li><li><span class='ee-k'>1:</span><span class='ee-v'>0</span></li><li><span class='ee-k'>2:</span><span class='ee-v'>262785</span></li><li><span class='ee-k'>3:</span><span class='ee-v'>0</span></li><li><span class='ee-k'>4:</span><span class='ee-v'>-30</span></li><li><span class='ee-k'>5:</span><span class='ee-v'>-1812585</span></li></ul></details></li><li><details><summary>data_type: signed int16</summary><ul><li><span class='ee-k'>type:</span><span class='ee-v'>PixelType</span></li><li><span class='ee-k'>max:</span><span class='ee-v'>32767</span></li><li><span class='ee-k'>min:</span><span class='ee-v'>-32768</span></li><li><span class='ee-k'>precision:</span><span class='ee-v'>int</span></li></ul></details></li><li><details><summary>dimensions: [8071, 6981]</summary><ul><li><span class='ee-k'>0:</span><span class='ee-v'>8071</span></li><li><span class='ee-k'>1:</span><span class='ee-v'>6981</span></li></ul></details></li></ul></details></li><li><details><summary>10: \"ST_CDIST\", signed int16, EPSG:32635, 8071x6981 px</summary><ul><li><span class='ee-k'>id:</span><span class='ee-v'>ST_CDIST</span></li><li><span class='ee-k'>crs:</span><span class='ee-v'>EPSG:32635</span></li><li><details><summary>crs_transform: [30, 0, 262785, 0, -30, -1812585]</summary><ul><li><span class='ee-k'>0:</span><span class='ee-v'>30</span></li><li><span class='ee-k'>1:</span><span class='ee-v'>0</span></li><li><span class='ee-k'>2:</span><span class='ee-v'>262785</span></li><li><span class='ee-k'>3:</span><span class='ee-v'>0</span></li><li><span class='ee-k'>4:</span><span class='ee-v'>-30</span></li><li><span class='ee-k'>5:</span><span class='ee-v'>-1812585</span></li></ul></details></li><li><details><summary>data_type: signed int16</summary><ul><li><span class='ee-k'>type:</span><span class='ee-v'>PixelType</span></li><li><span class='ee-k'>max:</span><span class='ee-v'>32767</span></li><li><span class='ee-k'>min:</span><span class='ee-v'>-32768</span></li><li><span class='ee-k'>precision:</span><span class='ee-v'>int</span></li></ul></details></li><li><details><summary>dimensions: [8071, 6981]</summary><ul><li><span class='ee-k'>0:</span><span class='ee-v'>8071</span></li><li><span class='ee-k'>1:</span><span class='ee-v'>6981</span></li></ul></details></li></ul></details></li><li><details><summary>11: \"ST_DRAD\", signed int16, EPSG:32635, 8071x6981 px</summary><ul><li><span class='ee-k'>id:</span><span class='ee-v'>ST_DRAD</span></li><li><span class='ee-k'>crs:</span><span class='ee-v'>EPSG:32635</span></li><li><details><summary>crs_transform: [30, 0, 262785, 0, -30, -1812585]</summary><ul><li><span class='ee-k'>0:</span><span class='ee-v'>30</span></li><li><span class='ee-k'>1:</span><span class='ee-v'>0</span></li><li><span class='ee-k'>2:</span><span class='ee-v'>262785</span></li><li><span class='ee-k'>3:</span><span class='ee-v'>0</span></li><li><span class='ee-k'>4:</span><span class='ee-v'>-30</span></li><li><span class='ee-k'>5:</span><span class='ee-v'>-1812585</span></li></ul></details></li><li><details><summary>data_type: signed int16</summary><ul><li><span class='ee-k'>type:</span><span class='ee-v'>PixelType</span></li><li><span class='ee-k'>max:</span><span class='ee-v'>32767</span></li><li><span class='ee-k'>min:</span><span class='ee-v'>-32768</span></li><li><span class='ee-k'>precision:</span><span class='ee-v'>int</span></li></ul></details></li><li><details><summary>dimensions: [8071, 6981]</summary><ul><li><span class='ee-k'>0:</span><span class='ee-v'>8071</span></li><li><span class='ee-k'>1:</span><span class='ee-v'>6981</span></li></ul></details></li></ul></details></li><li><details><summary>12: \"ST_EMIS\", signed int16, EPSG:32635, 8071x6981 px</summary><ul><li><span class='ee-k'>id:</span><span class='ee-v'>ST_EMIS</span></li><li><span class='ee-k'>crs:</span><span class='ee-v'>EPSG:32635</span></li><li><details><summary>crs_transform: [30, 0, 262785, 0, -30, -1812585]</summary><ul><li><span class='ee-k'>0:</span><span class='ee-v'>30</span></li><li><span class='ee-k'>1:</span><span class='ee-v'>0</span></li><li><span class='ee-k'>2:</span><span class='ee-v'>262785</span></li><li><span class='ee-k'>3:</span><span class='ee-v'>0</span></li><li><span class='ee-k'>4:</span><span class='ee-v'>-30</span></li><li><span class='ee-k'>5:</span><span class='ee-v'>-1812585</span></li></ul></details></li><li><details><summary>data_type: signed int16</summary><ul><li><span class='ee-k'>type:</span><span class='ee-v'>PixelType</span></li><li><span class='ee-k'>max:</span><span class='ee-v'>32767</span></li><li><span class='ee-k'>min:</span><span class='ee-v'>-32768</span></li><li><span class='ee-k'>precision:</span><span class='ee-v'>int</span></li></ul></details></li><li><details><summary>dimensions: [8071, 6981]</summary><ul><li><span class='ee-k'>0:</span><span class='ee-v'>8071</span></li><li><span class='ee-k'>1:</span><span class='ee-v'>6981</span></li></ul></details></li></ul></details></li><li><details><summary>13: \"ST_EMSD\", signed int16, EPSG:32635, 8071x6981 px</summary><ul><li><span class='ee-k'>id:</span><span class='ee-v'>ST_EMSD</span></li><li><span class='ee-k'>crs:</span><span class='ee-v'>EPSG:32635</span></li><li><details><summary>crs_transform: [30, 0, 262785, 0, -30, -1812585]</summary><ul><li><span class='ee-k'>0:</span><span class='ee-v'>30</span></li><li><span class='ee-k'>1:</span><span class='ee-v'>0</span></li><li><span class='ee-k'>2:</span><span class='ee-v'>262785</span></li><li><span class='ee-k'>3:</span><span class='ee-v'>0</span></li><li><span class='ee-k'>4:</span><span class='ee-v'>-30</span></li><li><span class='ee-k'>5:</span><span class='ee-v'>-1812585</span></li></ul></details></li><li><details><summary>data_type: signed int16</summary><ul><li><span class='ee-k'>type:</span><span class='ee-v'>PixelType</span></li><li><span class='ee-k'>max:</span><span class='ee-v'>32767</span></li><li><span class='ee-k'>min:</span><span class='ee-v'>-32768</span></li><li><span class='ee-k'>precision:</span><span class='ee-v'>int</span></li></ul></details></li><li><details><summary>dimensions: [8071, 6981]</summary><ul><li><span class='ee-k'>0:</span><span class='ee-v'>8071</span></li><li><span class='ee-k'>1:</span><span class='ee-v'>6981</span></li></ul></details></li></ul></details></li><li><details><summary>14: \"ST_QA\", signed int16, EPSG:32635, 8071x6981 px</summary><ul><li><span class='ee-k'>id:</span><span class='ee-v'>ST_QA</span></li><li><span class='ee-k'>crs:</span><span class='ee-v'>EPSG:32635</span></li><li><details><summary>crs_transform: [30, 0, 262785, 0, -30, -1812585]</summary><ul><li><span class='ee-k'>0:</span><span class='ee-v'>30</span></li><li><span class='ee-k'>1:</span><span class='ee-v'>0</span></li><li><span class='ee-k'>2:</span><span class='ee-v'>262785</span></li><li><span class='ee-k'>3:</span><span class='ee-v'>0</span></li><li><span class='ee-k'>4:</span><span class='ee-v'>-30</span></li><li><span class='ee-k'>5:</span><span class='ee-v'>-1812585</span></li></ul></details></li><li><details><summary>data_type: signed int16</summary><ul><li><span class='ee-k'>type:</span><span class='ee-v'>PixelType</span></li><li><span class='ee-k'>max:</span><span class='ee-v'>32767</span></li><li><span class='ee-k'>min:</span><span class='ee-v'>-32768</span></li><li><span class='ee-k'>precision:</span><span class='ee-v'>int</span></li></ul></details></li><li><details><summary>dimensions: [8071, 6981]</summary><ul><li><span class='ee-k'>0:</span><span class='ee-v'>8071</span></li><li><span class='ee-k'>1:</span><span class='ee-v'>6981</span></li></ul></details></li></ul></details></li><li><details><summary>15: \"ST_TRAD\", signed int16, EPSG:32635, 8071x6981 px</summary><ul><li><span class='ee-k'>id:</span><span class='ee-v'>ST_TRAD</span></li><li><span class='ee-k'>crs:</span><span class='ee-v'>EPSG:32635</span></li><li><details><summary>crs_transform: [30, 0, 262785, 0, -30, -1812585]</summary><ul><li><span class='ee-k'>0:</span><span class='ee-v'>30</span></li><li><span class='ee-k'>1:</span><span class='ee-v'>0</span></li><li><span class='ee-k'>2:</span><span class='ee-v'>262785</span></li><li><span class='ee-k'>3:</span><span class='ee-v'>0</span></li><li><span class='ee-k'>4:</span><span class='ee-v'>-30</span></li><li><span class='ee-k'>5:</span><span class='ee-v'>-1812585</span></li></ul></details></li><li><details><summary>data_type: signed int16</summary><ul><li><span class='ee-k'>type:</span><span class='ee-v'>PixelType</span></li><li><span class='ee-k'>max:</span><span class='ee-v'>32767</span></li><li><span class='ee-k'>min:</span><span class='ee-v'>-32768</span></li><li><span class='ee-k'>precision:</span><span class='ee-v'>int</span></li></ul></details></li><li><details><summary>dimensions: [8071, 6981]</summary><ul><li><span class='ee-k'>0:</span><span class='ee-v'>8071</span></li><li><span class='ee-k'>1:</span><span class='ee-v'>6981</span></li></ul></details></li></ul></details></li><li><details><summary>16: \"ST_URAD\", signed int16, EPSG:32635, 8071x6981 px</summary><ul><li><span class='ee-k'>id:</span><span class='ee-v'>ST_URAD</span></li><li><span class='ee-k'>crs:</span><span class='ee-v'>EPSG:32635</span></li><li><details><summary>crs_transform: [30, 0, 262785, 0, -30, -1812585]</summary><ul><li><span class='ee-k'>0:</span><span class='ee-v'>30</span></li><li><span class='ee-k'>1:</span><span class='ee-v'>0</span></li><li><span class='ee-k'>2:</span><span class='ee-v'>262785</span></li><li><span class='ee-k'>3:</span><span class='ee-v'>0</span></li><li><span class='ee-k'>4:</span><span class='ee-v'>-30</span></li><li><span class='ee-k'>5:</span><span class='ee-v'>-1812585</span></li></ul></details></li><li><details><summary>data_type: signed int16</summary><ul><li><span class='ee-k'>type:</span><span class='ee-v'>PixelType</span></li><li><span class='ee-k'>max:</span><span class='ee-v'>32767</span></li><li><span class='ee-k'>min:</span><span class='ee-v'>-32768</span></li><li><span class='ee-k'>precision:</span><span class='ee-v'>int</span></li></ul></details></li><li><details><summary>dimensions: [8071, 6981]</summary><ul><li><span class='ee-k'>0:</span><span class='ee-v'>8071</span></li><li><span class='ee-k'>1:</span><span class='ee-v'>6981</span></li></ul></details></li></ul></details></li><li><details><summary>17: \"QA_PIXEL\", unsigned int16, EPSG:32635, 8071x6981 px</summary><ul><li><span class='ee-k'>id:</span><span class='ee-v'>QA_PIXEL</span></li><li><span class='ee-k'>crs:</span><span class='ee-v'>EPSG:32635</span></li><li><details><summary>crs_transform: [30, 0, 262785, 0, -30, -1812585]</summary><ul><li><span class='ee-k'>0:</span><span class='ee-v'>30</span></li><li><span class='ee-k'>1:</span><span class='ee-v'>0</span></li><li><span class='ee-k'>2:</span><span class='ee-v'>262785</span></li><li><span class='ee-k'>3:</span><span class='ee-v'>0</span></li><li><span class='ee-k'>4:</span><span class='ee-v'>-30</span></li><li><span class='ee-k'>5:</span><span class='ee-v'>-1812585</span></li></ul></details></li><li><details><summary>data_type: unsigned int16</summary><ul><li><span class='ee-k'>type:</span><span class='ee-v'>PixelType</span></li><li><span class='ee-k'>max:</span><span class='ee-v'>65535</span></li><li><span class='ee-k'>min:</span><span class='ee-v'>0</span></li><li><span class='ee-k'>precision:</span><span class='ee-v'>int</span></li></ul></details></li><li><details><summary>dimensions: [8071, 6981]</summary><ul><li><span class='ee-k'>0:</span><span class='ee-v'>8071</span></li><li><span class='ee-k'>1:</span><span class='ee-v'>6981</span></li></ul></details></li></ul></details></li><li><details><summary>18: \"QA_RADSAT\", unsigned int16, EPSG:32635, 8071x6981 px</summary><ul><li><span class='ee-k'>id:</span><span class='ee-v'>QA_RADSAT</span></li><li><span class='ee-k'>crs:</span><span class='ee-v'>EPSG:32635</span></li><li><details><summary>crs_transform: [30, 0, 262785, 0, -30, -1812585]</summary><ul><li><span class='ee-k'>0:</span><span class='ee-v'>30</span></li><li><span class='ee-k'>1:</span><span class='ee-v'>0</span></li><li><span class='ee-k'>2:</span><span class='ee-v'>262785</span></li><li><span class='ee-k'>3:</span><span class='ee-v'>0</span></li><li><span class='ee-k'>4:</span><span class='ee-v'>-30</span></li><li><span class='ee-k'>5:</span><span class='ee-v'>-1812585</span></li></ul></details></li><li><details><summary>data_type: unsigned int16</summary><ul><li><span class='ee-k'>type:</span><span class='ee-v'>PixelType</span></li><li><span class='ee-k'>max:</span><span class='ee-v'>65535</span></li><li><span class='ee-k'>min:</span><span class='ee-v'>0</span></li><li><span class='ee-k'>precision:</span><span class='ee-v'>int</span></li></ul></details></li><li><details><summary>dimensions: [8071, 6981]</summary><ul><li><span class='ee-k'>0:</span><span class='ee-v'>8071</span></li><li><span class='ee-k'>1:</span><span class='ee-v'>6981</span></li></ul></details></li></ul></details></li></ul></details></li><li><details><summary>properties: Object (130 properties)</summary><ul><li><span class='ee-k'>ALGORITHM_SOURCE_SURFACE_REFLECTANCE:</span><span class='ee-v'>LEDAPS_3.4.0</span></li><li><span class='ee-k'>ALGORITHM_SOURCE_SURFACE_TEMPERATURE:</span><span class='ee-v'>st_1.3.0</span></li><li><span class='ee-k'>CLOUD_COVER:</span><span class='ee-v'>6</span></li><li><span class='ee-k'>CLOUD_COVER_LAND:</span><span class='ee-v'>6</span></li><li><span class='ee-k'>COLLECTION_CATEGORY:</span><span class='ee-v'>T1</span></li><li><span class='ee-k'>COLLECTION_NUMBER:</span><span class='ee-v'>2</span></li><li><span class='ee-k'>CORRECTION_BIAS_BAND_1:</span><span class='ee-v'>INTERNAL_CALIBRATION</span></li><li><span class='ee-k'>CORRECTION_BIAS_BAND_2:</span><span class='ee-v'>INTERNAL_CALIBRATION</span></li><li><span class='ee-k'>CORRECTION_BIAS_BAND_3:</span><span class='ee-v'>INTERNAL_CALIBRATION</span></li><li><span class='ee-k'>CORRECTION_BIAS_BAND_4:</span><span class='ee-v'>INTERNAL_CALIBRATION</span></li><li><span class='ee-k'>CORRECTION_BIAS_BAND_5:</span><span class='ee-v'>INTERNAL_CALIBRATION</span></li><li><span class='ee-k'>CORRECTION_BIAS_BAND_6_VCID_1:</span><span class='ee-v'>INTERNAL_CALIBRATION</span></li><li><span class='ee-k'>CORRECTION_BIAS_BAND_6_VCID_2:</span><span class='ee-v'>INTERNAL_CALIBRATION</span></li><li><span class='ee-k'>CORRECTION_BIAS_BAND_7:</span><span class='ee-v'>INTERNAL_CALIBRATION</span></li><li><span class='ee-k'>CORRECTION_BIAS_BAND_8:</span><span class='ee-v'>INTERNAL_CALIBRATION</span></li><li><span class='ee-k'>CORRECTION_GAIN_BAND_1:</span><span class='ee-v'>CPF</span></li><li><span class='ee-k'>CORRECTION_GAIN_BAND_2:</span><span class='ee-v'>CPF</span></li><li><span class='ee-k'>CORRECTION_GAIN_BAND_3:</span><span class='ee-v'>CPF</span></li><li><span class='ee-k'>CORRECTION_GAIN_BAND_4:</span><span class='ee-v'>CPF</span></li><li><span class='ee-k'>CORRECTION_GAIN_BAND_5:</span><span class='ee-v'>CPF</span></li><li><span class='ee-k'>CORRECTION_GAIN_BAND_6_VCID_1:</span><span class='ee-v'>CPF</span></li><li><span class='ee-k'>CORRECTION_GAIN_BAND_6_VCID_2:</span><span class='ee-v'>CPF</span></li><li><span class='ee-k'>CORRECTION_GAIN_BAND_7:</span><span class='ee-v'>CPF</span></li><li><span class='ee-k'>CORRECTION_GAIN_BAND_8:</span><span class='ee-v'>CPF</span></li><li><span class='ee-k'>DATA_SOURCE_AIR_TEMPERATURE:</span><span class='ee-v'>NCEP</span></li><li><span class='ee-k'>DATA_SOURCE_ELEVATION:</span><span class='ee-v'>GLS2000</span></li><li><span class='ee-k'>DATA_SOURCE_OZONE:</span><span class='ee-v'>TOMS</span></li><li><span class='ee-k'>DATA_SOURCE_PRESSURE:</span><span class='ee-v'>NCEP</span></li><li><span class='ee-k'>DATA_SOURCE_REANALYSIS:</span><span class='ee-v'>GEOS-5 FP-IT</span></li><li><span class='ee-k'>DATA_SOURCE_WATER_VAPOR:</span><span class='ee-v'>NCEP</span></li><li><span class='ee-k'>DATE_ACQUIRED:</span><span class='ee-v'>2016-02-20</span></li><li><span class='ee-k'>DATE_PRODUCT_GENERATED:</span><span class='ee-v'>1599107525000</span></li><li><span class='ee-k'>DATUM:</span><span class='ee-v'>WGS84</span></li><li><span class='ee-k'>EARTH_SUN_DISTANCE:</span><span class='ee-v'>0.9886499</span></li><li><span class='ee-k'>ELLIPSOID:</span><span class='ee-v'>WGS84</span></li><li><span class='ee-k'>EPHEMERIS_TYPE:</span><span class='ee-v'>DEFINITIVE</span></li><li><span class='ee-k'>GAIN_BAND_1:</span><span class='ee-v'>H</span></li><li><span class='ee-k'>GAIN_BAND_2:</span><span class='ee-v'>H</span></li><li><span class='ee-k'>GAIN_BAND_3:</span><span class='ee-v'>H</span></li><li><span class='ee-k'>GAIN_BAND_4:</span><span class='ee-v'>L</span></li><li><span class='ee-k'>GAIN_BAND_5:</span><span class='ee-v'>H</span></li><li><span class='ee-k'>GAIN_BAND_6_VCID_1:</span><span class='ee-v'>L</span></li><li><span class='ee-k'>GAIN_BAND_6_VCID_2:</span><span class='ee-v'>H</span></li><li><span class='ee-k'>GAIN_BAND_7:</span><span class='ee-v'>H</span></li><li><span class='ee-k'>GAIN_BAND_8:</span><span class='ee-v'>L</span></li><li><span class='ee-k'>GAIN_CHANGE_BAND_1:</span><span class='ee-v'>HH</span></li><li><span class='ee-k'>GAIN_CHANGE_BAND_2:</span><span class='ee-v'>HH</span></li><li><span class='ee-k'>GAIN_CHANGE_BAND_3:</span><span class='ee-v'>HH</span></li><li><span class='ee-k'>GAIN_CHANGE_BAND_4:</span><span class='ee-v'>LL</span></li><li><span class='ee-k'>GAIN_CHANGE_BAND_5:</span><span class='ee-v'>HH</span></li><li><span class='ee-k'>GAIN_CHANGE_BAND_6_VCID_1:</span><span class='ee-v'>LL</span></li><li><span class='ee-k'>GAIN_CHANGE_BAND_6_VCID_2:</span><span class='ee-v'>HH</span></li><li><span class='ee-k'>GAIN_CHANGE_BAND_7:</span><span class='ee-v'>HH</span></li><li><span class='ee-k'>GAIN_CHANGE_BAND_8:</span><span class='ee-v'>LL</span></li><li><span class='ee-k'>GAIN_CHANGE_SCAN_BAND_1:</span><span class='ee-v'>0</span></li><li><span class='ee-k'>GAIN_CHANGE_SCAN_BAND_2:</span><span class='ee-v'>0</span></li><li><span class='ee-k'>GAIN_CHANGE_SCAN_BAND_3:</span><span class='ee-v'>0</span></li><li><span class='ee-k'>GAIN_CHANGE_SCAN_BAND_4:</span><span class='ee-v'>0</span></li><li><span class='ee-k'>GAIN_CHANGE_SCAN_BAND_5:</span><span class='ee-v'>0</span></li><li><span class='ee-k'>GAIN_CHANGE_SCAN_BAND_6_VCID_1:</span><span class='ee-v'>0</span></li><li><span class='ee-k'>GAIN_CHANGE_SCAN_BAND_6_VCID_2:</span><span class='ee-v'>0</span></li><li><span class='ee-k'>GAIN_CHANGE_SCAN_BAND_7:</span><span class='ee-v'>0</span></li><li><span class='ee-k'>GAIN_CHANGE_SCAN_BAND_8:</span><span class='ee-v'>0</span></li><li><span class='ee-k'>GEOMETRIC_RMSE_MODEL:</span><span class='ee-v'>4.265</span></li><li><span class='ee-k'>GEOMETRIC_RMSE_MODEL_X:</span><span class='ee-v'>2.714</span></li><li><span class='ee-k'>GEOMETRIC_RMSE_MODEL_Y:</span><span class='ee-v'>3.29</span></li><li><span class='ee-k'>GRID_CELL_SIZE_REFLECTIVE:</span><span class='ee-v'>30</span></li><li><span class='ee-k'>GRID_CELL_SIZE_THERMAL:</span><span class='ee-v'>30</span></li><li><span class='ee-k'>GROUND_CONTROL_POINTS_MODEL:</span><span class='ee-v'>534</span></li><li><span class='ee-k'>GROUND_CONTROL_POINTS_VERSION:</span><span class='ee-v'>5</span></li><li><span class='ee-k'>IMAGE_QUALITY:</span><span class='ee-v'>9</span></li><li><span class='ee-k'>L1_DATE_PRODUCT_GENERATED:</span><span class='ee-v'>2020-09-03T04:14:39Z</span></li><li><span class='ee-k'>L1_LANDSAT_PRODUCT_ID:</span><span class='ee-v'>LE07_L1TP_173072_20160220_20200903_02_T1</span></li><li><span class='ee-k'>L1_PROCESSING_LEVEL:</span><span class='ee-v'>L1TP</span></li><li><span class='ee-k'>L1_PROCESSING_SOFTWARE_VERSION:</span><span class='ee-v'>LPGS_15.3.1c</span></li><li><span class='ee-k'>L1_REQUEST_ID:</span><span class='ee-v'>L2</span></li><li><span class='ee-k'>LANDSAT_PRODUCT_ID:</span><span class='ee-v'>LE07_L2SP_173072_20160220_20200903_02_T1</span></li><li><span class='ee-k'>LANDSAT_SCENE_ID:</span><span class='ee-v'>LE71730722016051SG100</span></li><li><span class='ee-k'>MAP_PROJECTION:</span><span class='ee-v'>UTM</span></li><li><span class='ee-k'>ORIENTATION:</span><span class='ee-v'>NORTH_UP</span></li><li><span class='ee-k'>PROCESSING_LEVEL:</span><span class='ee-v'>L2SP</span></li><li><span class='ee-k'>PROCESSING_SOFTWARE_VERSION:</span><span class='ee-v'>LPGS_15.3.1c</span></li><li><span class='ee-k'>REFLECTANCE_ADD_BAND_1:</span><span class='ee-v'>-0.2</span></li><li><span class='ee-k'>REFLECTANCE_ADD_BAND_2:</span><span class='ee-v'>-0.2</span></li><li><span class='ee-k'>REFLECTANCE_ADD_BAND_3:</span><span class='ee-v'>-0.2</span></li><li><span class='ee-k'>REFLECTANCE_ADD_BAND_4:</span><span class='ee-v'>-0.2</span></li><li><span class='ee-k'>REFLECTANCE_ADD_BAND_5:</span><span class='ee-v'>-0.2</span></li><li><span class='ee-k'>REFLECTANCE_ADD_BAND_7:</span><span class='ee-v'>-0.2</span></li><li><span class='ee-k'>REFLECTANCE_MULT_BAND_1:</span><span class='ee-v'>2.75e-05</span></li><li><span class='ee-k'>REFLECTANCE_MULT_BAND_2:</span><span class='ee-v'>2.75e-05</span></li><li><span class='ee-k'>REFLECTANCE_MULT_BAND_3:</span><span class='ee-v'>2.75e-05</span></li><li><span class='ee-k'>REFLECTANCE_MULT_BAND_4:</span><span class='ee-v'>2.75e-05</span></li><li><span class='ee-k'>REFLECTANCE_MULT_BAND_5:</span><span class='ee-v'>2.75e-05</span></li><li><span class='ee-k'>REFLECTANCE_MULT_BAND_7:</span><span class='ee-v'>2.75e-05</span></li><li><span class='ee-k'>REFLECTIVE_LINES:</span><span class='ee-v'>6981</span></li><li><span class='ee-k'>REFLECTIVE_SAMPLES:</span><span class='ee-v'>8071</span></li><li><span class='ee-k'>REQUEST_ID:</span><span class='ee-v'>L2</span></li><li><span class='ee-k'>SATURATION_BAND_1:</span><span class='ee-v'>Y</span></li><li><span class='ee-k'>SATURATION_BAND_2:</span><span class='ee-v'>Y</span></li><li><span class='ee-k'>SATURATION_BAND_3:</span><span class='ee-v'>Y</span></li><li><span class='ee-k'>SATURATION_BAND_4:</span><span class='ee-v'>Y</span></li><li><span class='ee-k'>SATURATION_BAND_5:</span><span class='ee-v'>Y</span></li><li><span class='ee-k'>SATURATION_BAND_6_VCID_1:</span><span class='ee-v'>N</span></li><li><span class='ee-k'>SATURATION_BAND_6_VCID_2:</span><span class='ee-v'>N</span></li><li><span class='ee-k'>SATURATION_BAND_7:</span><span class='ee-v'>Y</span></li><li><span class='ee-k'>SATURATION_BAND_8:</span><span class='ee-v'>N</span></li><li><span class='ee-k'>SCENE_CENTER_TIME:</span><span class='ee-v'>08:20:20.8418656Z</span></li><li><span class='ee-k'>SENSOR_ANOMALIES:</span><span class='ee-v'>NONE</span></li><li><span class='ee-k'>SENSOR_ID:</span><span class='ee-v'>ETM</span></li><li><span class='ee-k'>SENSOR_MODE:</span><span class='ee-v'>BUMPER</span></li><li><span class='ee-k'>SENSOR_MODE_SLC:</span><span class='ee-v'>OFF</span></li><li><span class='ee-k'>SPACECRAFT_ID:</span><span class='ee-v'>LANDSAT_7</span></li><li><span class='ee-k'>STATION_ID:</span><span class='ee-v'>SG1</span></li><li><span class='ee-k'>SUN_AZIMUTH:</span><span class='ee-v'>83.11184746</span></li><li><span class='ee-k'>SUN_ELEVATION:</span><span class='ee-v'>57.96047611</span></li><li><span class='ee-k'>TEMPERATURE_ADD_BAND_ST_B6:</span><span class='ee-v'>149</span></li><li><span class='ee-k'>TEMPERATURE_MAXIMUM_BAND_ST_B6:</span><span class='ee-v'>372.999941</span></li><li><span class='ee-k'>TEMPERATURE_MINIMUM_BAND_ST_B6:</span><span class='ee-v'>149.003418</span></li><li><span class='ee-k'>TEMPERATURE_MULT_BAND_ST_B6:</span><span class='ee-v'>0.00341802</span></li><li><span class='ee-k'>THERMAL_LINES:</span><span class='ee-v'>6981</span></li><li><span class='ee-k'>THERMAL_SAMPLES:</span><span class='ee-v'>8071</span></li><li><span class='ee-k'>UTM_ZONE:</span><span class='ee-v'>35</span></li><li><span class='ee-k'>WRS_PATH:</span><span class='ee-v'>173</span></li><li><span class='ee-k'>WRS_ROW:</span><span class='ee-v'>72</span></li><li><span class='ee-k'>WRS_TYPE:</span><span class='ee-v'>2</span></li><li><span class='ee-k'>system:asset_size:</span><span class='ee-v'>632226330</span></li><li><details><summary>system:footprint: LinearRing (20 vertices)</summary><ul><li><span class='ee-k'>type:</span><span class='ee-v'>LinearRing</span></li><li><details><summary>coordinates: List (20 elements)</summary><ul><li><details><summary>0: [26.24971230108507, -18.221684428317108]</summary><ul><li><span class='ee-k'>0:</span><span class='ee-v'>26.24971230108507</span></li><li><span class='ee-k'>1:</span><span class='ee-v'>-18.221684428317108</span></li></ul></details></li><li><details><summary>1: [26.632889867948588, -18.276896332642682]</summary><ul><li><span class='ee-k'>0:</span><span class='ee-v'>26.632889867948588</span></li><li><span class='ee-k'>1:</span><span class='ee-v'>-18.276896332642682</span></li></ul></details></li><li><details><summary>2: [26.636339426432247, -18.27421098918986]</summary><ul><li><span class='ee-k'>0:</span><span class='ee-v'>26.636339426432247</span></li><li><span class='ee-k'>1:</span><span class='ee-v'>-18.27421098918986</span></li></ul></details></li><li><details><summary>3: [26.638846805487145, -18.26500406501501]</summary><ul><li><span class='ee-k'>0:</span><span class='ee-v'>26.638846805487145</span></li><li><span class='ee-k'>1:</span><span class='ee-v'>-18.26500406501501</span></li></ul></details></li><li><details><summary>4: [26.664127131930528, -18.153774957697006]</summary><ul><li><span class='ee-k'>0:</span><span class='ee-v'>26.664127131930528</span></li><li><span class='ee-k'>1:</span><span class='ee-v'>-18.153774957697006</span></li></ul></details></li><li><details><summary>5: [26.97059505421839, -16.765704863834774]</summary><ul><li><span class='ee-k'>0:</span><span class='ee-v'>26.97059505421839</span></li><li><span class='ee-k'>1:</span><span class='ee-v'>-16.765704863834774</span></li></ul></details></li><li><details><summary>6: [26.983344790798967, -16.70707743936045]</summary><ul><li><span class='ee-k'>0:</span><span class='ee-v'>26.983344790798967</span></li><li><span class='ee-k'>1:</span><span class='ee-v'>-16.70707743936045</span></li></ul></details></li><li><details><summary>7: [26.990674625150582, -16.67258149363188]</summary><ul><li><span class='ee-k'>0:</span><span class='ee-v'>26.990674625150582</span></li><li><span class='ee-k'>1:</span><span class='ee-v'>-16.67258149363188</span></li></ul></details></li><li><details><summary>8: [26.98893199024919, -16.66446043658017]</summary><ul><li><span class='ee-k'>0:</span><span class='ee-v'>26.98893199024919</span></li><li><span class='ee-k'>1:</span><span class='ee-v'>-16.66446043658017</span></li></ul></details></li><li><details><summary>9: [25.197651031291716, -16.39940800802934]</summary><ul><li><span class='ee-k'>0:</span><span class='ee-v'>25.197651031291716</span></li><li><span class='ee-k'>1:</span><span class='ee-v'>-16.39940800802934</span></li></ul></details></li><li><details><summary>10: [25.191353320005824, -16.405663877884056]</summary><ul><li><span class='ee-k'>0:</span><span class='ee-v'>25.191353320005824</span></li><li><span class='ee-k'>1:</span><span class='ee-v'>-16.405663877884056</span></li></ul></details></li><li><details><summary>11: [25.18583175115093, -16.42330898890708]</summary><ul><li><span class='ee-k'>0:</span><span class='ee-v'>25.18583175115093</span></li><li><span class='ee-k'>1:</span><span class='ee-v'>-16.42330898890708</span></li></ul></details></li><li><details><summary>12: [25.140154479211898, -16.617984362418632]</summary><ul><li><span class='ee-k'>0:</span><span class='ee-v'>25.140154479211898</span></li><li><span class='ee-k'>1:</span><span class='ee-v'>-16.617984362418632</span></li></ul></details></li><li><details><summary>13: [24.933032599353595, -17.50649734684377]</summary><ul><li><span class='ee-k'>0:</span><span class='ee-v'>24.933032599353595</span></li><li><span class='ee-k'>1:</span><span class='ee-v'>-17.50649734684377</span></li></ul></details></li><li><details><summary>14: [24.897067356457846, -17.66114378796725]</summary><ul><li><span class='ee-k'>0:</span><span class='ee-v'>24.897067356457846</span></li><li><span class='ee-k'>1:</span><span class='ee-v'>-17.66114378796725</span></li></ul></details></li><li><details><summary>15: [24.826040230846242, -17.970403143130493]</summary><ul><li><span class='ee-k'>0:</span><span class='ee-v'>24.826040230846242</span></li><li><span class='ee-k'>1:</span><span class='ee-v'>-17.970403143130493</span></li></ul></details></li><li><details><summary>16: [24.820340455763766, -17.996103173653292]</summary><ul><li><span class='ee-k'>0:</span><span class='ee-v'>24.820340455763766</span></li><li><span class='ee-k'>1:</span><span class='ee-v'>-17.996103173653292</span></li></ul></details></li><li><details><summary>17: [24.819653629275674, -18.005177555431022]</summary><ul><li><span class='ee-k'>0:</span><span class='ee-v'>24.819653629275674</span></li><li><span class='ee-k'>1:</span><span class='ee-v'>-18.005177555431022</span></li></ul></details></li><li><details><summary>18: [24.823770402318175, -18.009210294542342]</summary><ul><li><span class='ee-k'>0:</span><span class='ee-v'>24.823770402318175</span></li><li><span class='ee-k'>1:</span><span class='ee-v'>-18.009210294542342</span></li></ul></details></li><li><details><summary>19: [26.24971230108507, -18.221684428317108]</summary><ul><li><span class='ee-k'>0:</span><span class='ee-v'>26.24971230108507</span></li><li><span class='ee-k'>1:</span><span class='ee-v'>-18.221684428317108</span></li></ul></details></li></ul></details></li></ul></details></li><li><span class='ee-k'>system:index:</span><span class='ee-v'>LE07_173072_20160220</span></li><li><span class='ee-k'>system:time_end:</span><span class='ee-v'>1455956420841</span></li><li><span class='ee-k'>system:time_start:</span><span class='ee-v'>1455956420841</span></li></ul></details></li></ul></details></li><li><details><summary>3: Image LANDSAT/LE07/C02/T1_L2/LE07_173072_20161102 (19 bands)</summary><ul><li><span class='ee-k'>type:</span><span class='ee-v'>Image</span></li><li><span class='ee-k'>id:</span><span class='ee-v'>LANDSAT/LE07/C02/T1_L2/LE07_173072_20161102</span></li><li><span class='ee-k'>version:</span><span class='ee-v'>1624537202026334</span></li><li><details><summary>bands: List (19 elements)</summary><ul><li><details><summary>0: \"SR_B1\", unsigned int16, EPSG:32635, 8071x6941 px</summary><ul><li><span class='ee-k'>id:</span><span class='ee-v'>SR_B1</span></li><li><span class='ee-k'>crs:</span><span class='ee-v'>EPSG:32635</span></li><li><details><summary>crs_transform: [30, 0, 260985, 0, -30, -1813185]</summary><ul><li><span class='ee-k'>0:</span><span class='ee-v'>30</span></li><li><span class='ee-k'>1:</span><span class='ee-v'>0</span></li><li><span class='ee-k'>2:</span><span class='ee-v'>260985</span></li><li><span class='ee-k'>3:</span><span class='ee-v'>0</span></li><li><span class='ee-k'>4:</span><span class='ee-v'>-30</span></li><li><span class='ee-k'>5:</span><span class='ee-v'>-1813185</span></li></ul></details></li><li><details><summary>data_type: unsigned int16</summary><ul><li><span class='ee-k'>type:</span><span class='ee-v'>PixelType</span></li><li><span class='ee-k'>max:</span><span class='ee-v'>65535</span></li><li><span class='ee-k'>min:</span><span class='ee-v'>0</span></li><li><span class='ee-k'>precision:</span><span class='ee-v'>int</span></li></ul></details></li><li><details><summary>dimensions: [8071, 6941]</summary><ul><li><span class='ee-k'>0:</span><span class='ee-v'>8071</span></li><li><span class='ee-k'>1:</span><span class='ee-v'>6941</span></li></ul></details></li></ul></details></li><li><details><summary>1: \"SR_B2\", unsigned int16, EPSG:32635, 8071x6941 px</summary><ul><li><span class='ee-k'>id:</span><span class='ee-v'>SR_B2</span></li><li><span class='ee-k'>crs:</span><span class='ee-v'>EPSG:32635</span></li><li><details><summary>crs_transform: [30, 0, 260985, 0, -30, -1813185]</summary><ul><li><span class='ee-k'>0:</span><span class='ee-v'>30</span></li><li><span class='ee-k'>1:</span><span class='ee-v'>0</span></li><li><span class='ee-k'>2:</span><span class='ee-v'>260985</span></li><li><span class='ee-k'>3:</span><span class='ee-v'>0</span></li><li><span class='ee-k'>4:</span><span class='ee-v'>-30</span></li><li><span class='ee-k'>5:</span><span class='ee-v'>-1813185</span></li></ul></details></li><li><details><summary>data_type: unsigned int16</summary><ul><li><span class='ee-k'>type:</span><span class='ee-v'>PixelType</span></li><li><span class='ee-k'>max:</span><span class='ee-v'>65535</span></li><li><span class='ee-k'>min:</span><span class='ee-v'>0</span></li><li><span class='ee-k'>precision:</span><span class='ee-v'>int</span></li></ul></details></li><li><details><summary>dimensions: [8071, 6941]</summary><ul><li><span class='ee-k'>0:</span><span class='ee-v'>8071</span></li><li><span class='ee-k'>1:</span><span class='ee-v'>6941</span></li></ul></details></li></ul></details></li><li><details><summary>2: \"SR_B3\", unsigned int16, EPSG:32635, 8071x6941 px</summary><ul><li><span class='ee-k'>id:</span><span class='ee-v'>SR_B3</span></li><li><span class='ee-k'>crs:</span><span class='ee-v'>EPSG:32635</span></li><li><details><summary>crs_transform: [30, 0, 260985, 0, -30, -1813185]</summary><ul><li><span class='ee-k'>0:</span><span class='ee-v'>30</span></li><li><span class='ee-k'>1:</span><span class='ee-v'>0</span></li><li><span class='ee-k'>2:</span><span class='ee-v'>260985</span></li><li><span class='ee-k'>3:</span><span class='ee-v'>0</span></li><li><span class='ee-k'>4:</span><span class='ee-v'>-30</span></li><li><span class='ee-k'>5:</span><span class='ee-v'>-1813185</span></li></ul></details></li><li><details><summary>data_type: unsigned int16</summary><ul><li><span class='ee-k'>type:</span><span class='ee-v'>PixelType</span></li><li><span class='ee-k'>max:</span><span class='ee-v'>65535</span></li><li><span class='ee-k'>min:</span><span class='ee-v'>0</span></li><li><span class='ee-k'>precision:</span><span class='ee-v'>int</span></li></ul></details></li><li><details><summary>dimensions: [8071, 6941]</summary><ul><li><span class='ee-k'>0:</span><span class='ee-v'>8071</span></li><li><span class='ee-k'>1:</span><span class='ee-v'>6941</span></li></ul></details></li></ul></details></li><li><details><summary>3: \"SR_B4\", unsigned int16, EPSG:32635, 8071x6941 px</summary><ul><li><span class='ee-k'>id:</span><span class='ee-v'>SR_B4</span></li><li><span class='ee-k'>crs:</span><span class='ee-v'>EPSG:32635</span></li><li><details><summary>crs_transform: [30, 0, 260985, 0, -30, -1813185]</summary><ul><li><span class='ee-k'>0:</span><span class='ee-v'>30</span></li><li><span class='ee-k'>1:</span><span class='ee-v'>0</span></li><li><span class='ee-k'>2:</span><span class='ee-v'>260985</span></li><li><span class='ee-k'>3:</span><span class='ee-v'>0</span></li><li><span class='ee-k'>4:</span><span class='ee-v'>-30</span></li><li><span class='ee-k'>5:</span><span class='ee-v'>-1813185</span></li></ul></details></li><li><details><summary>data_type: unsigned int16</summary><ul><li><span class='ee-k'>type:</span><span class='ee-v'>PixelType</span></li><li><span class='ee-k'>max:</span><span class='ee-v'>65535</span></li><li><span class='ee-k'>min:</span><span class='ee-v'>0</span></li><li><span class='ee-k'>precision:</span><span class='ee-v'>int</span></li></ul></details></li><li><details><summary>dimensions: [8071, 6941]</summary><ul><li><span class='ee-k'>0:</span><span class='ee-v'>8071</span></li><li><span class='ee-k'>1:</span><span class='ee-v'>6941</span></li></ul></details></li></ul></details></li><li><details><summary>4: \"SR_B5\", unsigned int16, EPSG:32635, 8071x6941 px</summary><ul><li><span class='ee-k'>id:</span><span class='ee-v'>SR_B5</span></li><li><span class='ee-k'>crs:</span><span class='ee-v'>EPSG:32635</span></li><li><details><summary>crs_transform: [30, 0, 260985, 0, -30, -1813185]</summary><ul><li><span class='ee-k'>0:</span><span class='ee-v'>30</span></li><li><span class='ee-k'>1:</span><span class='ee-v'>0</span></li><li><span class='ee-k'>2:</span><span class='ee-v'>260985</span></li><li><span class='ee-k'>3:</span><span class='ee-v'>0</span></li><li><span class='ee-k'>4:</span><span class='ee-v'>-30</span></li><li><span class='ee-k'>5:</span><span class='ee-v'>-1813185</span></li></ul></details></li><li><details><summary>data_type: unsigned int16</summary><ul><li><span class='ee-k'>type:</span><span class='ee-v'>PixelType</span></li><li><span class='ee-k'>max:</span><span class='ee-v'>65535</span></li><li><span class='ee-k'>min:</span><span class='ee-v'>0</span></li><li><span class='ee-k'>precision:</span><span class='ee-v'>int</span></li></ul></details></li><li><details><summary>dimensions: [8071, 6941]</summary><ul><li><span class='ee-k'>0:</span><span class='ee-v'>8071</span></li><li><span class='ee-k'>1:</span><span class='ee-v'>6941</span></li></ul></details></li></ul></details></li><li><details><summary>5: \"SR_B7\", unsigned int16, EPSG:32635, 8071x6941 px</summary><ul><li><span class='ee-k'>id:</span><span class='ee-v'>SR_B7</span></li><li><span class='ee-k'>crs:</span><span class='ee-v'>EPSG:32635</span></li><li><details><summary>crs_transform: [30, 0, 260985, 0, -30, -1813185]</summary><ul><li><span class='ee-k'>0:</span><span class='ee-v'>30</span></li><li><span class='ee-k'>1:</span><span class='ee-v'>0</span></li><li><span class='ee-k'>2:</span><span class='ee-v'>260985</span></li><li><span class='ee-k'>3:</span><span class='ee-v'>0</span></li><li><span class='ee-k'>4:</span><span class='ee-v'>-30</span></li><li><span class='ee-k'>5:</span><span class='ee-v'>-1813185</span></li></ul></details></li><li><details><summary>data_type: unsigned int16</summary><ul><li><span class='ee-k'>type:</span><span class='ee-v'>PixelType</span></li><li><span class='ee-k'>max:</span><span class='ee-v'>65535</span></li><li><span class='ee-k'>min:</span><span class='ee-v'>0</span></li><li><span class='ee-k'>precision:</span><span class='ee-v'>int</span></li></ul></details></li><li><details><summary>dimensions: [8071, 6941]</summary><ul><li><span class='ee-k'>0:</span><span class='ee-v'>8071</span></li><li><span class='ee-k'>1:</span><span class='ee-v'>6941</span></li></ul></details></li></ul></details></li><li><details><summary>6: \"SR_ATMOS_OPACITY\", signed int16, EPSG:32635, 8071x6941 px</summary><ul><li><span class='ee-k'>id:</span><span class='ee-v'>SR_ATMOS_OPACITY</span></li><li><span class='ee-k'>crs:</span><span class='ee-v'>EPSG:32635</span></li><li><details><summary>crs_transform: [30, 0, 260985, 0, -30, -1813185]</summary><ul><li><span class='ee-k'>0:</span><span class='ee-v'>30</span></li><li><span class='ee-k'>1:</span><span class='ee-v'>0</span></li><li><span class='ee-k'>2:</span><span class='ee-v'>260985</span></li><li><span class='ee-k'>3:</span><span class='ee-v'>0</span></li><li><span class='ee-k'>4:</span><span class='ee-v'>-30</span></li><li><span class='ee-k'>5:</span><span class='ee-v'>-1813185</span></li></ul></details></li><li><details><summary>data_type: signed int16</summary><ul><li><span class='ee-k'>type:</span><span class='ee-v'>PixelType</span></li><li><span class='ee-k'>max:</span><span class='ee-v'>32767</span></li><li><span class='ee-k'>min:</span><span class='ee-v'>-32768</span></li><li><span class='ee-k'>precision:</span><span class='ee-v'>int</span></li></ul></details></li><li><details><summary>dimensions: [8071, 6941]</summary><ul><li><span class='ee-k'>0:</span><span class='ee-v'>8071</span></li><li><span class='ee-k'>1:</span><span class='ee-v'>6941</span></li></ul></details></li></ul></details></li><li><details><summary>7: \"SR_CLOUD_QA\", unsigned int8, EPSG:32635, 8071x6941 px</summary><ul><li><span class='ee-k'>id:</span><span class='ee-v'>SR_CLOUD_QA</span></li><li><span class='ee-k'>crs:</span><span class='ee-v'>EPSG:32635</span></li><li><details><summary>crs_transform: [30, 0, 260985, 0, -30, -1813185]</summary><ul><li><span class='ee-k'>0:</span><span class='ee-v'>30</span></li><li><span class='ee-k'>1:</span><span class='ee-v'>0</span></li><li><span class='ee-k'>2:</span><span class='ee-v'>260985</span></li><li><span class='ee-k'>3:</span><span class='ee-v'>0</span></li><li><span class='ee-k'>4:</span><span class='ee-v'>-30</span></li><li><span class='ee-k'>5:</span><span class='ee-v'>-1813185</span></li></ul></details></li><li><details><summary>data_type: unsigned int8</summary><ul><li><span class='ee-k'>type:</span><span class='ee-v'>PixelType</span></li><li><span class='ee-k'>max:</span><span class='ee-v'>255</span></li><li><span class='ee-k'>min:</span><span class='ee-v'>0</span></li><li><span class='ee-k'>precision:</span><span class='ee-v'>int</span></li></ul></details></li><li><details><summary>dimensions: [8071, 6941]</summary><ul><li><span class='ee-k'>0:</span><span class='ee-v'>8071</span></li><li><span class='ee-k'>1:</span><span class='ee-v'>6941</span></li></ul></details></li></ul></details></li><li><details><summary>8: \"ST_B6\", unsigned int16, EPSG:32635, 8071x6941 px</summary><ul><li><span class='ee-k'>id:</span><span class='ee-v'>ST_B6</span></li><li><span class='ee-k'>crs:</span><span class='ee-v'>EPSG:32635</span></li><li><details><summary>crs_transform: [30, 0, 260985, 0, -30, -1813185]</summary><ul><li><span class='ee-k'>0:</span><span class='ee-v'>30</span></li><li><span class='ee-k'>1:</span><span class='ee-v'>0</span></li><li><span class='ee-k'>2:</span><span class='ee-v'>260985</span></li><li><span class='ee-k'>3:</span><span class='ee-v'>0</span></li><li><span class='ee-k'>4:</span><span class='ee-v'>-30</span></li><li><span class='ee-k'>5:</span><span class='ee-v'>-1813185</span></li></ul></details></li><li><details><summary>data_type: unsigned int16</summary><ul><li><span class='ee-k'>type:</span><span class='ee-v'>PixelType</span></li><li><span class='ee-k'>max:</span><span class='ee-v'>65535</span></li><li><span class='ee-k'>min:</span><span class='ee-v'>0</span></li><li><span class='ee-k'>precision:</span><span class='ee-v'>int</span></li></ul></details></li><li><details><summary>dimensions: [8071, 6941]</summary><ul><li><span class='ee-k'>0:</span><span class='ee-v'>8071</span></li><li><span class='ee-k'>1:</span><span class='ee-v'>6941</span></li></ul></details></li></ul></details></li><li><details><summary>9: \"ST_ATRAN\", signed int16, EPSG:32635, 8071x6941 px</summary><ul><li><span class='ee-k'>id:</span><span class='ee-v'>ST_ATRAN</span></li><li><span class='ee-k'>crs:</span><span class='ee-v'>EPSG:32635</span></li><li><details><summary>crs_transform: [30, 0, 260985, 0, -30, -1813185]</summary><ul><li><span class='ee-k'>0:</span><span class='ee-v'>30</span></li><li><span class='ee-k'>1:</span><span class='ee-v'>0</span></li><li><span class='ee-k'>2:</span><span class='ee-v'>260985</span></li><li><span class='ee-k'>3:</span><span class='ee-v'>0</span></li><li><span class='ee-k'>4:</span><span class='ee-v'>-30</span></li><li><span class='ee-k'>5:</span><span class='ee-v'>-1813185</span></li></ul></details></li><li><details><summary>data_type: signed int16</summary><ul><li><span class='ee-k'>type:</span><span class='ee-v'>PixelType</span></li><li><span class='ee-k'>max:</span><span class='ee-v'>32767</span></li><li><span class='ee-k'>min:</span><span class='ee-v'>-32768</span></li><li><span class='ee-k'>precision:</span><span class='ee-v'>int</span></li></ul></details></li><li><details><summary>dimensions: [8071, 6941]</summary><ul><li><span class='ee-k'>0:</span><span class='ee-v'>8071</span></li><li><span class='ee-k'>1:</span><span class='ee-v'>6941</span></li></ul></details></li></ul></details></li><li><details><summary>10: \"ST_CDIST\", signed int16, EPSG:32635, 8071x6941 px</summary><ul><li><span class='ee-k'>id:</span><span class='ee-v'>ST_CDIST</span></li><li><span class='ee-k'>crs:</span><span class='ee-v'>EPSG:32635</span></li><li><details><summary>crs_transform: [30, 0, 260985, 0, -30, -1813185]</summary><ul><li><span class='ee-k'>0:</span><span class='ee-v'>30</span></li><li><span class='ee-k'>1:</span><span class='ee-v'>0</span></li><li><span class='ee-k'>2:</span><span class='ee-v'>260985</span></li><li><span class='ee-k'>3:</span><span class='ee-v'>0</span></li><li><span class='ee-k'>4:</span><span class='ee-v'>-30</span></li><li><span class='ee-k'>5:</span><span class='ee-v'>-1813185</span></li></ul></details></li><li><details><summary>data_type: signed int16</summary><ul><li><span class='ee-k'>type:</span><span class='ee-v'>PixelType</span></li><li><span class='ee-k'>max:</span><span class='ee-v'>32767</span></li><li><span class='ee-k'>min:</span><span class='ee-v'>-32768</span></li><li><span class='ee-k'>precision:</span><span class='ee-v'>int</span></li></ul></details></li><li><details><summary>dimensions: [8071, 6941]</summary><ul><li><span class='ee-k'>0:</span><span class='ee-v'>8071</span></li><li><span class='ee-k'>1:</span><span class='ee-v'>6941</span></li></ul></details></li></ul></details></li><li><details><summary>11: \"ST_DRAD\", signed int16, EPSG:32635, 8071x6941 px</summary><ul><li><span class='ee-k'>id:</span><span class='ee-v'>ST_DRAD</span></li><li><span class='ee-k'>crs:</span><span class='ee-v'>EPSG:32635</span></li><li><details><summary>crs_transform: [30, 0, 260985, 0, -30, -1813185]</summary><ul><li><span class='ee-k'>0:</span><span class='ee-v'>30</span></li><li><span class='ee-k'>1:</span><span class='ee-v'>0</span></li><li><span class='ee-k'>2:</span><span class='ee-v'>260985</span></li><li><span class='ee-k'>3:</span><span class='ee-v'>0</span></li><li><span class='ee-k'>4:</span><span class='ee-v'>-30</span></li><li><span class='ee-k'>5:</span><span class='ee-v'>-1813185</span></li></ul></details></li><li><details><summary>data_type: signed int16</summary><ul><li><span class='ee-k'>type:</span><span class='ee-v'>PixelType</span></li><li><span class='ee-k'>max:</span><span class='ee-v'>32767</span></li><li><span class='ee-k'>min:</span><span class='ee-v'>-32768</span></li><li><span class='ee-k'>precision:</span><span class='ee-v'>int</span></li></ul></details></li><li><details><summary>dimensions: [8071, 6941]</summary><ul><li><span class='ee-k'>0:</span><span class='ee-v'>8071</span></li><li><span class='ee-k'>1:</span><span class='ee-v'>6941</span></li></ul></details></li></ul></details></li><li><details><summary>12: \"ST_EMIS\", signed int16, EPSG:32635, 8071x6941 px</summary><ul><li><span class='ee-k'>id:</span><span class='ee-v'>ST_EMIS</span></li><li><span class='ee-k'>crs:</span><span class='ee-v'>EPSG:32635</span></li><li><details><summary>crs_transform: [30, 0, 260985, 0, -30, -1813185]</summary><ul><li><span class='ee-k'>0:</span><span class='ee-v'>30</span></li><li><span class='ee-k'>1:</span><span class='ee-v'>0</span></li><li><span class='ee-k'>2:</span><span class='ee-v'>260985</span></li><li><span class='ee-k'>3:</span><span class='ee-v'>0</span></li><li><span class='ee-k'>4:</span><span class='ee-v'>-30</span></li><li><span class='ee-k'>5:</span><span class='ee-v'>-1813185</span></li></ul></details></li><li><details><summary>data_type: signed int16</summary><ul><li><span class='ee-k'>type:</span><span class='ee-v'>PixelType</span></li><li><span class='ee-k'>max:</span><span class='ee-v'>32767</span></li><li><span class='ee-k'>min:</span><span class='ee-v'>-32768</span></li><li><span class='ee-k'>precision:</span><span class='ee-v'>int</span></li></ul></details></li><li><details><summary>dimensions: [8071, 6941]</summary><ul><li><span class='ee-k'>0:</span><span class='ee-v'>8071</span></li><li><span class='ee-k'>1:</span><span class='ee-v'>6941</span></li></ul></details></li></ul></details></li><li><details><summary>13: \"ST_EMSD\", signed int16, EPSG:32635, 8071x6941 px</summary><ul><li><span class='ee-k'>id:</span><span class='ee-v'>ST_EMSD</span></li><li><span class='ee-k'>crs:</span><span class='ee-v'>EPSG:32635</span></li><li><details><summary>crs_transform: [30, 0, 260985, 0, -30, -1813185]</summary><ul><li><span class='ee-k'>0:</span><span class='ee-v'>30</span></li><li><span class='ee-k'>1:</span><span class='ee-v'>0</span></li><li><span class='ee-k'>2:</span><span class='ee-v'>260985</span></li><li><span class='ee-k'>3:</span><span class='ee-v'>0</span></li><li><span class='ee-k'>4:</span><span class='ee-v'>-30</span></li><li><span class='ee-k'>5:</span><span class='ee-v'>-1813185</span></li></ul></details></li><li><details><summary>data_type: signed int16</summary><ul><li><span class='ee-k'>type:</span><span class='ee-v'>PixelType</span></li><li><span class='ee-k'>max:</span><span class='ee-v'>32767</span></li><li><span class='ee-k'>min:</span><span class='ee-v'>-32768</span></li><li><span class='ee-k'>precision:</span><span class='ee-v'>int</span></li></ul></details></li><li><details><summary>dimensions: [8071, 6941]</summary><ul><li><span class='ee-k'>0:</span><span class='ee-v'>8071</span></li><li><span class='ee-k'>1:</span><span class='ee-v'>6941</span></li></ul></details></li></ul></details></li><li><details><summary>14: \"ST_QA\", signed int16, EPSG:32635, 8071x6941 px</summary><ul><li><span class='ee-k'>id:</span><span class='ee-v'>ST_QA</span></li><li><span class='ee-k'>crs:</span><span class='ee-v'>EPSG:32635</span></li><li><details><summary>crs_transform: [30, 0, 260985, 0, -30, -1813185]</summary><ul><li><span class='ee-k'>0:</span><span class='ee-v'>30</span></li><li><span class='ee-k'>1:</span><span class='ee-v'>0</span></li><li><span class='ee-k'>2:</span><span class='ee-v'>260985</span></li><li><span class='ee-k'>3:</span><span class='ee-v'>0</span></li><li><span class='ee-k'>4:</span><span class='ee-v'>-30</span></li><li><span class='ee-k'>5:</span><span class='ee-v'>-1813185</span></li></ul></details></li><li><details><summary>data_type: signed int16</summary><ul><li><span class='ee-k'>type:</span><span class='ee-v'>PixelType</span></li><li><span class='ee-k'>max:</span><span class='ee-v'>32767</span></li><li><span class='ee-k'>min:</span><span class='ee-v'>-32768</span></li><li><span class='ee-k'>precision:</span><span class='ee-v'>int</span></li></ul></details></li><li><details><summary>dimensions: [8071, 6941]</summary><ul><li><span class='ee-k'>0:</span><span class='ee-v'>8071</span></li><li><span class='ee-k'>1:</span><span class='ee-v'>6941</span></li></ul></details></li></ul></details></li><li><details><summary>15: \"ST_TRAD\", signed int16, EPSG:32635, 8071x6941 px</summary><ul><li><span class='ee-k'>id:</span><span class='ee-v'>ST_TRAD</span></li><li><span class='ee-k'>crs:</span><span class='ee-v'>EPSG:32635</span></li><li><details><summary>crs_transform: [30, 0, 260985, 0, -30, -1813185]</summary><ul><li><span class='ee-k'>0:</span><span class='ee-v'>30</span></li><li><span class='ee-k'>1:</span><span class='ee-v'>0</span></li><li><span class='ee-k'>2:</span><span class='ee-v'>260985</span></li><li><span class='ee-k'>3:</span><span class='ee-v'>0</span></li><li><span class='ee-k'>4:</span><span class='ee-v'>-30</span></li><li><span class='ee-k'>5:</span><span class='ee-v'>-1813185</span></li></ul></details></li><li><details><summary>data_type: signed int16</summary><ul><li><span class='ee-k'>type:</span><span class='ee-v'>PixelType</span></li><li><span class='ee-k'>max:</span><span class='ee-v'>32767</span></li><li><span class='ee-k'>min:</span><span class='ee-v'>-32768</span></li><li><span class='ee-k'>precision:</span><span class='ee-v'>int</span></li></ul></details></li><li><details><summary>dimensions: [8071, 6941]</summary><ul><li><span class='ee-k'>0:</span><span class='ee-v'>8071</span></li><li><span class='ee-k'>1:</span><span class='ee-v'>6941</span></li></ul></details></li></ul></details></li><li><details><summary>16: \"ST_URAD\", signed int16, EPSG:32635, 8071x6941 px</summary><ul><li><span class='ee-k'>id:</span><span class='ee-v'>ST_URAD</span></li><li><span class='ee-k'>crs:</span><span class='ee-v'>EPSG:32635</span></li><li><details><summary>crs_transform: [30, 0, 260985, 0, -30, -1813185]</summary><ul><li><span class='ee-k'>0:</span><span class='ee-v'>30</span></li><li><span class='ee-k'>1:</span><span class='ee-v'>0</span></li><li><span class='ee-k'>2:</span><span class='ee-v'>260985</span></li><li><span class='ee-k'>3:</span><span class='ee-v'>0</span></li><li><span class='ee-k'>4:</span><span class='ee-v'>-30</span></li><li><span class='ee-k'>5:</span><span class='ee-v'>-1813185</span></li></ul></details></li><li><details><summary>data_type: signed int16</summary><ul><li><span class='ee-k'>type:</span><span class='ee-v'>PixelType</span></li><li><span class='ee-k'>max:</span><span class='ee-v'>32767</span></li><li><span class='ee-k'>min:</span><span class='ee-v'>-32768</span></li><li><span class='ee-k'>precision:</span><span class='ee-v'>int</span></li></ul></details></li><li><details><summary>dimensions: [8071, 6941]</summary><ul><li><span class='ee-k'>0:</span><span class='ee-v'>8071</span></li><li><span class='ee-k'>1:</span><span class='ee-v'>6941</span></li></ul></details></li></ul></details></li><li><details><summary>17: \"QA_PIXEL\", unsigned int16, EPSG:32635, 8071x6941 px</summary><ul><li><span class='ee-k'>id:</span><span class='ee-v'>QA_PIXEL</span></li><li><span class='ee-k'>crs:</span><span class='ee-v'>EPSG:32635</span></li><li><details><summary>crs_transform: [30, 0, 260985, 0, -30, -1813185]</summary><ul><li><span class='ee-k'>0:</span><span class='ee-v'>30</span></li><li><span class='ee-k'>1:</span><span class='ee-v'>0</span></li><li><span class='ee-k'>2:</span><span class='ee-v'>260985</span></li><li><span class='ee-k'>3:</span><span class='ee-v'>0</span></li><li><span class='ee-k'>4:</span><span class='ee-v'>-30</span></li><li><span class='ee-k'>5:</span><span class='ee-v'>-1813185</span></li></ul></details></li><li><details><summary>data_type: unsigned int16</summary><ul><li><span class='ee-k'>type:</span><span class='ee-v'>PixelType</span></li><li><span class='ee-k'>max:</span><span class='ee-v'>65535</span></li><li><span class='ee-k'>min:</span><span class='ee-v'>0</span></li><li><span class='ee-k'>precision:</span><span class='ee-v'>int</span></li></ul></details></li><li><details><summary>dimensions: [8071, 6941]</summary><ul><li><span class='ee-k'>0:</span><span class='ee-v'>8071</span></li><li><span class='ee-k'>1:</span><span class='ee-v'>6941</span></li></ul></details></li></ul></details></li><li><details><summary>18: \"QA_RADSAT\", unsigned int16, EPSG:32635, 8071x6941 px</summary><ul><li><span class='ee-k'>id:</span><span class='ee-v'>QA_RADSAT</span></li><li><span class='ee-k'>crs:</span><span class='ee-v'>EPSG:32635</span></li><li><details><summary>crs_transform: [30, 0, 260985, 0, -30, -1813185]</summary><ul><li><span class='ee-k'>0:</span><span class='ee-v'>30</span></li><li><span class='ee-k'>1:</span><span class='ee-v'>0</span></li><li><span class='ee-k'>2:</span><span class='ee-v'>260985</span></li><li><span class='ee-k'>3:</span><span class='ee-v'>0</span></li><li><span class='ee-k'>4:</span><span class='ee-v'>-30</span></li><li><span class='ee-k'>5:</span><span class='ee-v'>-1813185</span></li></ul></details></li><li><details><summary>data_type: unsigned int16</summary><ul><li><span class='ee-k'>type:</span><span class='ee-v'>PixelType</span></li><li><span class='ee-k'>max:</span><span class='ee-v'>65535</span></li><li><span class='ee-k'>min:</span><span class='ee-v'>0</span></li><li><span class='ee-k'>precision:</span><span class='ee-v'>int</span></li></ul></details></li><li><details><summary>dimensions: [8071, 6941]</summary><ul><li><span class='ee-k'>0:</span><span class='ee-v'>8071</span></li><li><span class='ee-k'>1:</span><span class='ee-v'>6941</span></li></ul></details></li></ul></details></li></ul></details></li><li><details><summary>properties: Object (130 properties)</summary><ul><li><span class='ee-k'>ALGORITHM_SOURCE_SURFACE_REFLECTANCE:</span><span class='ee-v'>LEDAPS_3.4.0</span></li><li><span class='ee-k'>ALGORITHM_SOURCE_SURFACE_TEMPERATURE:</span><span class='ee-v'>st_1.3.0</span></li><li><span class='ee-k'>CLOUD_COVER:</span><span class='ee-v'>12</span></li><li><span class='ee-k'>CLOUD_COVER_LAND:</span><span class='ee-v'>12</span></li><li><span class='ee-k'>COLLECTION_CATEGORY:</span><span class='ee-v'>T1</span></li><li><span class='ee-k'>COLLECTION_NUMBER:</span><span class='ee-v'>2</span></li><li><span class='ee-k'>CORRECTION_BIAS_BAND_1:</span><span class='ee-v'>INTERNAL_CALIBRATION</span></li><li><span class='ee-k'>CORRECTION_BIAS_BAND_2:</span><span class='ee-v'>INTERNAL_CALIBRATION</span></li><li><span class='ee-k'>CORRECTION_BIAS_BAND_3:</span><span class='ee-v'>INTERNAL_CALIBRATION</span></li><li><span class='ee-k'>CORRECTION_BIAS_BAND_4:</span><span class='ee-v'>INTERNAL_CALIBRATION</span></li><li><span class='ee-k'>CORRECTION_BIAS_BAND_5:</span><span class='ee-v'>INTERNAL_CALIBRATION</span></li><li><span class='ee-k'>CORRECTION_BIAS_BAND_6_VCID_1:</span><span class='ee-v'>INTERNAL_CALIBRATION</span></li><li><span class='ee-k'>CORRECTION_BIAS_BAND_6_VCID_2:</span><span class='ee-v'>INTERNAL_CALIBRATION</span></li><li><span class='ee-k'>CORRECTION_BIAS_BAND_7:</span><span class='ee-v'>INTERNAL_CALIBRATION</span></li><li><span class='ee-k'>CORRECTION_BIAS_BAND_8:</span><span class='ee-v'>INTERNAL_CALIBRATION</span></li><li><span class='ee-k'>CORRECTION_GAIN_BAND_1:</span><span class='ee-v'>CPF</span></li><li><span class='ee-k'>CORRECTION_GAIN_BAND_2:</span><span class='ee-v'>CPF</span></li><li><span class='ee-k'>CORRECTION_GAIN_BAND_3:</span><span class='ee-v'>CPF</span></li><li><span class='ee-k'>CORRECTION_GAIN_BAND_4:</span><span class='ee-v'>CPF</span></li><li><span class='ee-k'>CORRECTION_GAIN_BAND_5:</span><span class='ee-v'>CPF</span></li><li><span class='ee-k'>CORRECTION_GAIN_BAND_6_VCID_1:</span><span class='ee-v'>CPF</span></li><li><span class='ee-k'>CORRECTION_GAIN_BAND_6_VCID_2:</span><span class='ee-v'>CPF</span></li><li><span class='ee-k'>CORRECTION_GAIN_BAND_7:</span><span class='ee-v'>CPF</span></li><li><span class='ee-k'>CORRECTION_GAIN_BAND_8:</span><span class='ee-v'>CPF</span></li><li><span class='ee-k'>DATA_SOURCE_AIR_TEMPERATURE:</span><span class='ee-v'>NCEP</span></li><li><span class='ee-k'>DATA_SOURCE_ELEVATION:</span><span class='ee-v'>GLS2000</span></li><li><span class='ee-k'>DATA_SOURCE_OZONE:</span><span class='ee-v'>TOMS</span></li><li><span class='ee-k'>DATA_SOURCE_PRESSURE:</span><span class='ee-v'>NCEP</span></li><li><span class='ee-k'>DATA_SOURCE_REANALYSIS:</span><span class='ee-v'>GEOS-5 FP-IT</span></li><li><span class='ee-k'>DATA_SOURCE_WATER_VAPOR:</span><span class='ee-v'>NCEP</span></li><li><span class='ee-k'>DATE_ACQUIRED:</span><span class='ee-v'>2016-11-02</span></li><li><span class='ee-k'>DATE_PRODUCT_GENERATED:</span><span class='ee-v'>1598976890000</span></li><li><span class='ee-k'>DATUM:</span><span class='ee-v'>WGS84</span></li><li><span class='ee-k'>EARTH_SUN_DISTANCE:</span><span class='ee-v'>0.9921699</span></li><li><span class='ee-k'>ELLIPSOID:</span><span class='ee-v'>WGS84</span></li><li><span class='ee-k'>EPHEMERIS_TYPE:</span><span class='ee-v'>DEFINITIVE</span></li><li><span class='ee-k'>GAIN_BAND_1:</span><span class='ee-v'>H</span></li><li><span class='ee-k'>GAIN_BAND_2:</span><span class='ee-v'>H</span></li><li><span class='ee-k'>GAIN_BAND_3:</span><span class='ee-v'>H</span></li><li><span class='ee-k'>GAIN_BAND_4:</span><span class='ee-v'>L</span></li><li><span class='ee-k'>GAIN_BAND_5:</span><span class='ee-v'>H</span></li><li><span class='ee-k'>GAIN_BAND_6_VCID_1:</span><span class='ee-v'>L</span></li><li><span class='ee-k'>GAIN_BAND_6_VCID_2:</span><span class='ee-v'>H</span></li><li><span class='ee-k'>GAIN_BAND_7:</span><span class='ee-v'>H</span></li><li><span class='ee-k'>GAIN_BAND_8:</span><span class='ee-v'>L</span></li><li><span class='ee-k'>GAIN_CHANGE_BAND_1:</span><span class='ee-v'>HH</span></li><li><span class='ee-k'>GAIN_CHANGE_BAND_2:</span><span class='ee-v'>HH</span></li><li><span class='ee-k'>GAIN_CHANGE_BAND_3:</span><span class='ee-v'>HH</span></li><li><span class='ee-k'>GAIN_CHANGE_BAND_4:</span><span class='ee-v'>LL</span></li><li><span class='ee-k'>GAIN_CHANGE_BAND_5:</span><span class='ee-v'>HH</span></li><li><span class='ee-k'>GAIN_CHANGE_BAND_6_VCID_1:</span><span class='ee-v'>LL</span></li><li><span class='ee-k'>GAIN_CHANGE_BAND_6_VCID_2:</span><span class='ee-v'>HH</span></li><li><span class='ee-k'>GAIN_CHANGE_BAND_7:</span><span class='ee-v'>HH</span></li><li><span class='ee-k'>GAIN_CHANGE_BAND_8:</span><span class='ee-v'>LL</span></li><li><span class='ee-k'>GAIN_CHANGE_SCAN_BAND_1:</span><span class='ee-v'>0</span></li><li><span class='ee-k'>GAIN_CHANGE_SCAN_BAND_2:</span><span class='ee-v'>0</span></li><li><span class='ee-k'>GAIN_CHANGE_SCAN_BAND_3:</span><span class='ee-v'>0</span></li><li><span class='ee-k'>GAIN_CHANGE_SCAN_BAND_4:</span><span class='ee-v'>0</span></li><li><span class='ee-k'>GAIN_CHANGE_SCAN_BAND_5:</span><span class='ee-v'>0</span></li><li><span class='ee-k'>GAIN_CHANGE_SCAN_BAND_6_VCID_1:</span><span class='ee-v'>0</span></li><li><span class='ee-k'>GAIN_CHANGE_SCAN_BAND_6_VCID_2:</span><span class='ee-v'>0</span></li><li><span class='ee-k'>GAIN_CHANGE_SCAN_BAND_7:</span><span class='ee-v'>0</span></li><li><span class='ee-k'>GAIN_CHANGE_SCAN_BAND_8:</span><span class='ee-v'>0</span></li><li><span class='ee-k'>GEOMETRIC_RMSE_MODEL:</span><span class='ee-v'>4.521</span></li><li><span class='ee-k'>GEOMETRIC_RMSE_MODEL_X:</span><span class='ee-v'>3.155</span></li><li><span class='ee-k'>GEOMETRIC_RMSE_MODEL_Y:</span><span class='ee-v'>3.238</span></li><li><span class='ee-k'>GRID_CELL_SIZE_REFLECTIVE:</span><span class='ee-v'>30</span></li><li><span class='ee-k'>GRID_CELL_SIZE_THERMAL:</span><span class='ee-v'>30</span></li><li><span class='ee-k'>GROUND_CONTROL_POINTS_MODEL:</span><span class='ee-v'>416</span></li><li><span class='ee-k'>GROUND_CONTROL_POINTS_VERSION:</span><span class='ee-v'>5</span></li><li><span class='ee-k'>IMAGE_QUALITY:</span><span class='ee-v'>9</span></li><li><span class='ee-k'>L1_DATE_PRODUCT_GENERATED:</span><span class='ee-v'>2020-09-01T16:00:19Z</span></li><li><span class='ee-k'>L1_LANDSAT_PRODUCT_ID:</span><span class='ee-v'>LE07_L1TP_173072_20161102_20200901_02_T1</span></li><li><span class='ee-k'>L1_PROCESSING_LEVEL:</span><span class='ee-v'>L1TP</span></li><li><span class='ee-k'>L1_PROCESSING_SOFTWARE_VERSION:</span><span class='ee-v'>LPGS_15.3.1c</span></li><li><span class='ee-k'>L1_REQUEST_ID:</span><span class='ee-v'>L2</span></li><li><span class='ee-k'>LANDSAT_PRODUCT_ID:</span><span class='ee-v'>LE07_L2SP_173072_20161102_20200901_02_T1</span></li><li><span class='ee-k'>LANDSAT_SCENE_ID:</span><span class='ee-v'>LE71730722016307SG100</span></li><li><span class='ee-k'>MAP_PROJECTION:</span><span class='ee-v'>UTM</span></li><li><span class='ee-k'>ORIENTATION:</span><span class='ee-v'>NORTH_UP</span></li><li><span class='ee-k'>PROCESSING_LEVEL:</span><span class='ee-v'>L2SP</span></li><li><span class='ee-k'>PROCESSING_SOFTWARE_VERSION:</span><span class='ee-v'>LPGS_15.3.1c</span></li><li><span class='ee-k'>REFLECTANCE_ADD_BAND_1:</span><span class='ee-v'>-0.2</span></li><li><span class='ee-k'>REFLECTANCE_ADD_BAND_2:</span><span class='ee-v'>-0.2</span></li><li><span class='ee-k'>REFLECTANCE_ADD_BAND_3:</span><span class='ee-v'>-0.2</span></li><li><span class='ee-k'>REFLECTANCE_ADD_BAND_4:</span><span class='ee-v'>-0.2</span></li><li><span class='ee-k'>REFLECTANCE_ADD_BAND_5:</span><span class='ee-v'>-0.2</span></li><li><span class='ee-k'>REFLECTANCE_ADD_BAND_7:</span><span class='ee-v'>-0.2</span></li><li><span class='ee-k'>REFLECTANCE_MULT_BAND_1:</span><span class='ee-v'>2.75e-05</span></li><li><span class='ee-k'>REFLECTANCE_MULT_BAND_2:</span><span class='ee-v'>2.75e-05</span></li><li><span class='ee-k'>REFLECTANCE_MULT_BAND_3:</span><span class='ee-v'>2.75e-05</span></li><li><span class='ee-k'>REFLECTANCE_MULT_BAND_4:</span><span class='ee-v'>2.75e-05</span></li><li><span class='ee-k'>REFLECTANCE_MULT_BAND_5:</span><span class='ee-v'>2.75e-05</span></li><li><span class='ee-k'>REFLECTANCE_MULT_BAND_7:</span><span class='ee-v'>2.75e-05</span></li><li><span class='ee-k'>REFLECTIVE_LINES:</span><span class='ee-v'>6941</span></li><li><span class='ee-k'>REFLECTIVE_SAMPLES:</span><span class='ee-v'>8071</span></li><li><span class='ee-k'>REQUEST_ID:</span><span class='ee-v'>L2</span></li><li><span class='ee-k'>SATURATION_BAND_1:</span><span class='ee-v'>Y</span></li><li><span class='ee-k'>SATURATION_BAND_2:</span><span class='ee-v'>Y</span></li><li><span class='ee-k'>SATURATION_BAND_3:</span><span class='ee-v'>Y</span></li><li><span class='ee-k'>SATURATION_BAND_4:</span><span class='ee-v'>Y</span></li><li><span class='ee-k'>SATURATION_BAND_5:</span><span class='ee-v'>Y</span></li><li><span class='ee-k'>SATURATION_BAND_6_VCID_1:</span><span class='ee-v'>N</span></li><li><span class='ee-k'>SATURATION_BAND_6_VCID_2:</span><span class='ee-v'>Y</span></li><li><span class='ee-k'>SATURATION_BAND_7:</span><span class='ee-v'>Y</span></li><li><span class='ee-k'>SATURATION_BAND_8:</span><span class='ee-v'>N</span></li><li><span class='ee-k'>SCENE_CENTER_TIME:</span><span class='ee-v'>08:21:07.6121737Z</span></li><li><span class='ee-k'>SENSOR_ANOMALIES:</span><span class='ee-v'>NONE</span></li><li><span class='ee-k'>SENSOR_ID:</span><span class='ee-v'>ETM</span></li><li><span class='ee-k'>SENSOR_MODE:</span><span class='ee-v'>BUMPER</span></li><li><span class='ee-k'>SENSOR_MODE_SLC:</span><span class='ee-v'>OFF</span></li><li><span class='ee-k'>SPACECRAFT_ID:</span><span class='ee-v'>LANDSAT_7</span></li><li><span class='ee-k'>STATION_ID:</span><span class='ee-v'>SG1</span></li><li><span class='ee-k'>SUN_AZIMUTH:</span><span class='ee-v'>87.74573563</span></li><li><span class='ee-k'>SUN_ELEVATION:</span><span class='ee-v'>66.14814711</span></li><li><span class='ee-k'>TEMPERATURE_ADD_BAND_ST_B6:</span><span class='ee-v'>149</span></li><li><span class='ee-k'>TEMPERATURE_MAXIMUM_BAND_ST_B6:</span><span class='ee-v'>372.999941</span></li><li><span class='ee-k'>TEMPERATURE_MINIMUM_BAND_ST_B6:</span><span class='ee-v'>149.003418</span></li><li><span class='ee-k'>TEMPERATURE_MULT_BAND_ST_B6:</span><span class='ee-v'>0.00341802</span></li><li><span class='ee-k'>THERMAL_LINES:</span><span class='ee-v'>6941</span></li><li><span class='ee-k'>THERMAL_SAMPLES:</span><span class='ee-v'>8071</span></li><li><span class='ee-k'>UTM_ZONE:</span><span class='ee-v'>35</span></li><li><span class='ee-k'>WRS_PATH:</span><span class='ee-v'>173</span></li><li><span class='ee-k'>WRS_ROW:</span><span class='ee-v'>72</span></li><li><span class='ee-k'>WRS_TYPE:</span><span class='ee-v'>2</span></li><li><span class='ee-k'>system:asset_size:</span><span class='ee-v'>577026301</span></li><li><details><summary>system:footprint: LinearRing (19 vertices)</summary><ul><li><span class='ee-k'>type:</span><span class='ee-v'>LinearRing</span></li><li><details><summary>coordinates: List (19 elements)</summary><ul><li><details><summary>0: [26.624523961792804, -18.27137150927305]</summary><ul><li><span class='ee-k'>0:</span><span class='ee-v'>26.624523961792804</span></li><li><span class='ee-k'>1:</span><span class='ee-v'>-18.27137150927305</span></li></ul></details></li><li><details><summary>1: [26.62668292331273, -18.26931742539629]</summary><ul><li><span class='ee-k'>0:</span><span class='ee-v'>26.62668292331273</span></li><li><span class='ee-k'>1:</span><span class='ee-v'>-18.26931742539629</span></li></ul></details></li><li><details><summary>2: [26.670346538662585, -18.07382274368288]</summary><ul><li><span class='ee-k'>0:</span><span class='ee-v'>26.670346538662585</span></li><li><span class='ee-k'>1:</span><span class='ee-v'>-18.07382274368288</span></li></ul></details></li><li><details><summary>3: [26.979553527529504, -16.66767826658571]</summary><ul><li><span class='ee-k'>0:</span><span class='ee-v'>26.979553527529504</span></li><li><span class='ee-k'>1:</span><span class='ee-v'>-16.66767826658571</span></li></ul></details></li><li><details><summary>4: [26.968771585843815, -16.65930383333896]</summary><ul><li><span class='ee-k'>0:</span><span class='ee-v'>26.968771585843815</span></li><li><span class='ee-k'>1:</span><span class='ee-v'>-16.65930383333896</span></li></ul></details></li><li><details><summary>5: [25.182005486429123, -16.402643361853475]</summary><ul><li><span class='ee-k'>0:</span><span class='ee-v'>25.182005486429123</span></li><li><span class='ee-k'>1:</span><span class='ee-v'>-16.402643361853475</span></li></ul></details></li><li><details><summary>6: [25.176692460085846, -16.40991053399158]</summary><ul><li><span class='ee-k'>0:</span><span class='ee-v'>25.176692460085846</span></li><li><span class='ee-k'>1:</span><span class='ee-v'>-16.40991053399158</span></li></ul></details></li><li><details><summary>7: [25.16998596059467, -16.435646793327088]</summary><ul><li><span class='ee-k'>0:</span><span class='ee-v'>25.16998596059467</span></li><li><span class='ee-k'>1:</span><span class='ee-v'>-16.435646793327088</span></li></ul></details></li><li><details><summary>8: [25.14274001263276, -16.548868118209967]</summary><ul><li><span class='ee-k'>0:</span><span class='ee-v'>25.14274001263276</span></li><li><span class='ee-k'>1:</span><span class='ee-v'>-16.548868118209967</span></li></ul></details></li><li><details><summary>9: [25.101393419625698, -16.72779981177185]</summary><ul><li><span class='ee-k'>0:</span><span class='ee-v'>25.101393419625698</span></li><li><span class='ee-k'>1:</span><span class='ee-v'>-16.72779981177185</span></li></ul></details></li><li><details><summary>10: [24.92414575834353, -17.493124492815667]</summary><ul><li><span class='ee-k'>0:</span><span class='ee-v'>24.92414575834353</span></li><li><span class='ee-k'>1:</span><span class='ee-v'>-17.493124492815667</span></li></ul></details></li><li><details><summary>11: [24.85838967019648, -17.775906559937773]</summary><ul><li><span class='ee-k'>0:</span><span class='ee-v'>24.85838967019648</span></li><li><span class='ee-k'>1:</span><span class='ee-v'>-17.775906559937773</span></li></ul></details></li><li><details><summary>12: [24.83033650963777, -17.89673761314919]</summary><ul><li><span class='ee-k'>0:</span><span class='ee-v'>24.83033650963777</span></li><li><span class='ee-k'>1:</span><span class='ee-v'>-17.89673761314919</span></li></ul></details></li><li><details><summary>13: [24.806979158853935, -17.99951286409233]</summary><ul><li><span class='ee-k'>0:</span><span class='ee-v'>24.806979158853935</span></li><li><span class='ee-k'>1:</span><span class='ee-v'>-17.99951286409233</span></li></ul></details></li><li><details><summary>14: [24.809728457134927, -18.011755880214892]</summary><ul><li><span class='ee-k'>0:</span><span class='ee-v'>24.809728457134927</span></li><li><span class='ee-k'>1:</span><span class='ee-v'>-18.011755880214892</span></li></ul></details></li><li><details><summary>15: [25.041995170218353, -18.046162367418265]</summary><ul><li><span class='ee-k'>0:</span><span class='ee-v'>25.041995170218353</span></li><li><span class='ee-k'>1:</span><span class='ee-v'>-18.046162367418265</span></li></ul></details></li><li><details><summary>16: [26.542964804833126, -18.261339949333074]</summary><ul><li><span class='ee-k'>0:</span><span class='ee-v'>26.542964804833126</span></li><li><span class='ee-k'>1:</span><span class='ee-v'>-18.261339949333074</span></li></ul></details></li><li><details><summary>17: [26.61279623794998, -18.27102804371024]</summary><ul><li><span class='ee-k'>0:</span><span class='ee-v'>26.61279623794998</span></li><li><span class='ee-k'>1:</span><span class='ee-v'>-18.27102804371024</span></li></ul></details></li><li><details><summary>18: [26.624523961792804, -18.27137150927305]</summary><ul><li><span class='ee-k'>0:</span><span class='ee-v'>26.624523961792804</span></li><li><span class='ee-k'>1:</span><span class='ee-v'>-18.27137150927305</span></li></ul></details></li></ul></details></li></ul></details></li><li><span class='ee-k'>system:index:</span><span class='ee-v'>LE07_173072_20161102</span></li><li><span class='ee-k'>system:time_end:</span><span class='ee-v'>1478074867612</span></li><li><span class='ee-k'>system:time_start:</span><span class='ee-v'>1478074867612</span></li></ul></details></li></ul></details></li><li><details><summary>4: Image LANDSAT/LE07/C02/T1_L2/LE07_173072_20161118 (19 bands)</summary><ul><li><span class='ee-k'>type:</span><span class='ee-v'>Image</span></li><li><span class='ee-k'>id:</span><span class='ee-v'>LANDSAT/LE07/C02/T1_L2/LE07_173072_20161118</span></li><li><span class='ee-k'>version:</span><span class='ee-v'>1624534718303386</span></li><li><details><summary>bands: List (19 elements)</summary><ul><li><details><summary>0: \"SR_B1\", unsigned int16, EPSG:32635, 8071x6941 px</summary><ul><li><span class='ee-k'>id:</span><span class='ee-v'>SR_B1</span></li><li><span class='ee-k'>crs:</span><span class='ee-v'>EPSG:32635</span></li><li><details><summary>crs_transform: [30, 0, 262185, 0, -30, -1813185]</summary><ul><li><span class='ee-k'>0:</span><span class='ee-v'>30</span></li><li><span class='ee-k'>1:</span><span class='ee-v'>0</span></li><li><span class='ee-k'>2:</span><span class='ee-v'>262185</span></li><li><span class='ee-k'>3:</span><span class='ee-v'>0</span></li><li><span class='ee-k'>4:</span><span class='ee-v'>-30</span></li><li><span class='ee-k'>5:</span><span class='ee-v'>-1813185</span></li></ul></details></li><li><details><summary>data_type: unsigned int16</summary><ul><li><span class='ee-k'>type:</span><span class='ee-v'>PixelType</span></li><li><span class='ee-k'>max:</span><span class='ee-v'>65535</span></li><li><span class='ee-k'>min:</span><span class='ee-v'>0</span></li><li><span class='ee-k'>precision:</span><span class='ee-v'>int</span></li></ul></details></li><li><details><summary>dimensions: [8071, 6941]</summary><ul><li><span class='ee-k'>0:</span><span class='ee-v'>8071</span></li><li><span class='ee-k'>1:</span><span class='ee-v'>6941</span></li></ul></details></li></ul></details></li><li><details><summary>1: \"SR_B2\", unsigned int16, EPSG:32635, 8071x6941 px</summary><ul><li><span class='ee-k'>id:</span><span class='ee-v'>SR_B2</span></li><li><span class='ee-k'>crs:</span><span class='ee-v'>EPSG:32635</span></li><li><details><summary>crs_transform: [30, 0, 262185, 0, -30, -1813185]</summary><ul><li><span class='ee-k'>0:</span><span class='ee-v'>30</span></li><li><span class='ee-k'>1:</span><span class='ee-v'>0</span></li><li><span class='ee-k'>2:</span><span class='ee-v'>262185</span></li><li><span class='ee-k'>3:</span><span class='ee-v'>0</span></li><li><span class='ee-k'>4:</span><span class='ee-v'>-30</span></li><li><span class='ee-k'>5:</span><span class='ee-v'>-1813185</span></li></ul></details></li><li><details><summary>data_type: unsigned int16</summary><ul><li><span class='ee-k'>type:</span><span class='ee-v'>PixelType</span></li><li><span class='ee-k'>max:</span><span class='ee-v'>65535</span></li><li><span class='ee-k'>min:</span><span class='ee-v'>0</span></li><li><span class='ee-k'>precision:</span><span class='ee-v'>int</span></li></ul></details></li><li><details><summary>dimensions: [8071, 6941]</summary><ul><li><span class='ee-k'>0:</span><span class='ee-v'>8071</span></li><li><span class='ee-k'>1:</span><span class='ee-v'>6941</span></li></ul></details></li></ul></details></li><li><details><summary>2: \"SR_B3\", unsigned int16, EPSG:32635, 8071x6941 px</summary><ul><li><span class='ee-k'>id:</span><span class='ee-v'>SR_B3</span></li><li><span class='ee-k'>crs:</span><span class='ee-v'>EPSG:32635</span></li><li><details><summary>crs_transform: [30, 0, 262185, 0, -30, -1813185]</summary><ul><li><span class='ee-k'>0:</span><span class='ee-v'>30</span></li><li><span class='ee-k'>1:</span><span class='ee-v'>0</span></li><li><span class='ee-k'>2:</span><span class='ee-v'>262185</span></li><li><span class='ee-k'>3:</span><span class='ee-v'>0</span></li><li><span class='ee-k'>4:</span><span class='ee-v'>-30</span></li><li><span class='ee-k'>5:</span><span class='ee-v'>-1813185</span></li></ul></details></li><li><details><summary>data_type: unsigned int16</summary><ul><li><span class='ee-k'>type:</span><span class='ee-v'>PixelType</span></li><li><span class='ee-k'>max:</span><span class='ee-v'>65535</span></li><li><span class='ee-k'>min:</span><span class='ee-v'>0</span></li><li><span class='ee-k'>precision:</span><span class='ee-v'>int</span></li></ul></details></li><li><details><summary>dimensions: [8071, 6941]</summary><ul><li><span class='ee-k'>0:</span><span class='ee-v'>8071</span></li><li><span class='ee-k'>1:</span><span class='ee-v'>6941</span></li></ul></details></li></ul></details></li><li><details><summary>3: \"SR_B4\", unsigned int16, EPSG:32635, 8071x6941 px</summary><ul><li><span class='ee-k'>id:</span><span class='ee-v'>SR_B4</span></li><li><span class='ee-k'>crs:</span><span class='ee-v'>EPSG:32635</span></li><li><details><summary>crs_transform: [30, 0, 262185, 0, -30, -1813185]</summary><ul><li><span class='ee-k'>0:</span><span class='ee-v'>30</span></li><li><span class='ee-k'>1:</span><span class='ee-v'>0</span></li><li><span class='ee-k'>2:</span><span class='ee-v'>262185</span></li><li><span class='ee-k'>3:</span><span class='ee-v'>0</span></li><li><span class='ee-k'>4:</span><span class='ee-v'>-30</span></li><li><span class='ee-k'>5:</span><span class='ee-v'>-1813185</span></li></ul></details></li><li><details><summary>data_type: unsigned int16</summary><ul><li><span class='ee-k'>type:</span><span class='ee-v'>PixelType</span></li><li><span class='ee-k'>max:</span><span class='ee-v'>65535</span></li><li><span class='ee-k'>min:</span><span class='ee-v'>0</span></li><li><span class='ee-k'>precision:</span><span class='ee-v'>int</span></li></ul></details></li><li><details><summary>dimensions: [8071, 6941]</summary><ul><li><span class='ee-k'>0:</span><span class='ee-v'>8071</span></li><li><span class='ee-k'>1:</span><span class='ee-v'>6941</span></li></ul></details></li></ul></details></li><li><details><summary>4: \"SR_B5\", unsigned int16, EPSG:32635, 8071x6941 px</summary><ul><li><span class='ee-k'>id:</span><span class='ee-v'>SR_B5</span></li><li><span class='ee-k'>crs:</span><span class='ee-v'>EPSG:32635</span></li><li><details><summary>crs_transform: [30, 0, 262185, 0, -30, -1813185]</summary><ul><li><span class='ee-k'>0:</span><span class='ee-v'>30</span></li><li><span class='ee-k'>1:</span><span class='ee-v'>0</span></li><li><span class='ee-k'>2:</span><span class='ee-v'>262185</span></li><li><span class='ee-k'>3:</span><span class='ee-v'>0</span></li><li><span class='ee-k'>4:</span><span class='ee-v'>-30</span></li><li><span class='ee-k'>5:</span><span class='ee-v'>-1813185</span></li></ul></details></li><li><details><summary>data_type: unsigned int16</summary><ul><li><span class='ee-k'>type:</span><span class='ee-v'>PixelType</span></li><li><span class='ee-k'>max:</span><span class='ee-v'>65535</span></li><li><span class='ee-k'>min:</span><span class='ee-v'>0</span></li><li><span class='ee-k'>precision:</span><span class='ee-v'>int</span></li></ul></details></li><li><details><summary>dimensions: [8071, 6941]</summary><ul><li><span class='ee-k'>0:</span><span class='ee-v'>8071</span></li><li><span class='ee-k'>1:</span><span class='ee-v'>6941</span></li></ul></details></li></ul></details></li><li><details><summary>5: \"SR_B7\", unsigned int16, EPSG:32635, 8071x6941 px</summary><ul><li><span class='ee-k'>id:</span><span class='ee-v'>SR_B7</span></li><li><span class='ee-k'>crs:</span><span class='ee-v'>EPSG:32635</span></li><li><details><summary>crs_transform: [30, 0, 262185, 0, -30, -1813185]</summary><ul><li><span class='ee-k'>0:</span><span class='ee-v'>30</span></li><li><span class='ee-k'>1:</span><span class='ee-v'>0</span></li><li><span class='ee-k'>2:</span><span class='ee-v'>262185</span></li><li><span class='ee-k'>3:</span><span class='ee-v'>0</span></li><li><span class='ee-k'>4:</span><span class='ee-v'>-30</span></li><li><span class='ee-k'>5:</span><span class='ee-v'>-1813185</span></li></ul></details></li><li><details><summary>data_type: unsigned int16</summary><ul><li><span class='ee-k'>type:</span><span class='ee-v'>PixelType</span></li><li><span class='ee-k'>max:</span><span class='ee-v'>65535</span></li><li><span class='ee-k'>min:</span><span class='ee-v'>0</span></li><li><span class='ee-k'>precision:</span><span class='ee-v'>int</span></li></ul></details></li><li><details><summary>dimensions: [8071, 6941]</summary><ul><li><span class='ee-k'>0:</span><span class='ee-v'>8071</span></li><li><span class='ee-k'>1:</span><span class='ee-v'>6941</span></li></ul></details></li></ul></details></li><li><details><summary>6: \"SR_ATMOS_OPACITY\", signed int16, EPSG:32635, 8071x6941 px</summary><ul><li><span class='ee-k'>id:</span><span class='ee-v'>SR_ATMOS_OPACITY</span></li><li><span class='ee-k'>crs:</span><span class='ee-v'>EPSG:32635</span></li><li><details><summary>crs_transform: [30, 0, 262185, 0, -30, -1813185]</summary><ul><li><span class='ee-k'>0:</span><span class='ee-v'>30</span></li><li><span class='ee-k'>1:</span><span class='ee-v'>0</span></li><li><span class='ee-k'>2:</span><span class='ee-v'>262185</span></li><li><span class='ee-k'>3:</span><span class='ee-v'>0</span></li><li><span class='ee-k'>4:</span><span class='ee-v'>-30</span></li><li><span class='ee-k'>5:</span><span class='ee-v'>-1813185</span></li></ul></details></li><li><details><summary>data_type: signed int16</summary><ul><li><span class='ee-k'>type:</span><span class='ee-v'>PixelType</span></li><li><span class='ee-k'>max:</span><span class='ee-v'>32767</span></li><li><span class='ee-k'>min:</span><span class='ee-v'>-32768</span></li><li><span class='ee-k'>precision:</span><span class='ee-v'>int</span></li></ul></details></li><li><details><summary>dimensions: [8071, 6941]</summary><ul><li><span class='ee-k'>0:</span><span class='ee-v'>8071</span></li><li><span class='ee-k'>1:</span><span class='ee-v'>6941</span></li></ul></details></li></ul></details></li><li><details><summary>7: \"SR_CLOUD_QA\", unsigned int8, EPSG:32635, 8071x6941 px</summary><ul><li><span class='ee-k'>id:</span><span class='ee-v'>SR_CLOUD_QA</span></li><li><span class='ee-k'>crs:</span><span class='ee-v'>EPSG:32635</span></li><li><details><summary>crs_transform: [30, 0, 262185, 0, -30, -1813185]</summary><ul><li><span class='ee-k'>0:</span><span class='ee-v'>30</span></li><li><span class='ee-k'>1:</span><span class='ee-v'>0</span></li><li><span class='ee-k'>2:</span><span class='ee-v'>262185</span></li><li><span class='ee-k'>3:</span><span class='ee-v'>0</span></li><li><span class='ee-k'>4:</span><span class='ee-v'>-30</span></li><li><span class='ee-k'>5:</span><span class='ee-v'>-1813185</span></li></ul></details></li><li><details><summary>data_type: unsigned int8</summary><ul><li><span class='ee-k'>type:</span><span class='ee-v'>PixelType</span></li><li><span class='ee-k'>max:</span><span class='ee-v'>255</span></li><li><span class='ee-k'>min:</span><span class='ee-v'>0</span></li><li><span class='ee-k'>precision:</span><span class='ee-v'>int</span></li></ul></details></li><li><details><summary>dimensions: [8071, 6941]</summary><ul><li><span class='ee-k'>0:</span><span class='ee-v'>8071</span></li><li><span class='ee-k'>1:</span><span class='ee-v'>6941</span></li></ul></details></li></ul></details></li><li><details><summary>8: \"ST_B6\", unsigned int16, EPSG:32635, 8071x6941 px</summary><ul><li><span class='ee-k'>id:</span><span class='ee-v'>ST_B6</span></li><li><span class='ee-k'>crs:</span><span class='ee-v'>EPSG:32635</span></li><li><details><summary>crs_transform: [30, 0, 262185, 0, -30, -1813185]</summary><ul><li><span class='ee-k'>0:</span><span class='ee-v'>30</span></li><li><span class='ee-k'>1:</span><span class='ee-v'>0</span></li><li><span class='ee-k'>2:</span><span class='ee-v'>262185</span></li><li><span class='ee-k'>3:</span><span class='ee-v'>0</span></li><li><span class='ee-k'>4:</span><span class='ee-v'>-30</span></li><li><span class='ee-k'>5:</span><span class='ee-v'>-1813185</span></li></ul></details></li><li><details><summary>data_type: unsigned int16</summary><ul><li><span class='ee-k'>type:</span><span class='ee-v'>PixelType</span></li><li><span class='ee-k'>max:</span><span class='ee-v'>65535</span></li><li><span class='ee-k'>min:</span><span class='ee-v'>0</span></li><li><span class='ee-k'>precision:</span><span class='ee-v'>int</span></li></ul></details></li><li><details><summary>dimensions: [8071, 6941]</summary><ul><li><span class='ee-k'>0:</span><span class='ee-v'>8071</span></li><li><span class='ee-k'>1:</span><span class='ee-v'>6941</span></li></ul></details></li></ul></details></li><li><details><summary>9: \"ST_ATRAN\", signed int16, EPSG:32635, 8071x6941 px</summary><ul><li><span class='ee-k'>id:</span><span class='ee-v'>ST_ATRAN</span></li><li><span class='ee-k'>crs:</span><span class='ee-v'>EPSG:32635</span></li><li><details><summary>crs_transform: [30, 0, 262185, 0, -30, -1813185]</summary><ul><li><span class='ee-k'>0:</span><span class='ee-v'>30</span></li><li><span class='ee-k'>1:</span><span class='ee-v'>0</span></li><li><span class='ee-k'>2:</span><span class='ee-v'>262185</span></li><li><span class='ee-k'>3:</span><span class='ee-v'>0</span></li><li><span class='ee-k'>4:</span><span class='ee-v'>-30</span></li><li><span class='ee-k'>5:</span><span class='ee-v'>-1813185</span></li></ul></details></li><li><details><summary>data_type: signed int16</summary><ul><li><span class='ee-k'>type:</span><span class='ee-v'>PixelType</span></li><li><span class='ee-k'>max:</span><span class='ee-v'>32767</span></li><li><span class='ee-k'>min:</span><span class='ee-v'>-32768</span></li><li><span class='ee-k'>precision:</span><span class='ee-v'>int</span></li></ul></details></li><li><details><summary>dimensions: [8071, 6941]</summary><ul><li><span class='ee-k'>0:</span><span class='ee-v'>8071</span></li><li><span class='ee-k'>1:</span><span class='ee-v'>6941</span></li></ul></details></li></ul></details></li><li><details><summary>10: \"ST_CDIST\", signed int16, EPSG:32635, 8071x6941 px</summary><ul><li><span class='ee-k'>id:</span><span class='ee-v'>ST_CDIST</span></li><li><span class='ee-k'>crs:</span><span class='ee-v'>EPSG:32635</span></li><li><details><summary>crs_transform: [30, 0, 262185, 0, -30, -1813185]</summary><ul><li><span class='ee-k'>0:</span><span class='ee-v'>30</span></li><li><span class='ee-k'>1:</span><span class='ee-v'>0</span></li><li><span class='ee-k'>2:</span><span class='ee-v'>262185</span></li><li><span class='ee-k'>3:</span><span class='ee-v'>0</span></li><li><span class='ee-k'>4:</span><span class='ee-v'>-30</span></li><li><span class='ee-k'>5:</span><span class='ee-v'>-1813185</span></li></ul></details></li><li><details><summary>data_type: signed int16</summary><ul><li><span class='ee-k'>type:</span><span class='ee-v'>PixelType</span></li><li><span class='ee-k'>max:</span><span class='ee-v'>32767</span></li><li><span class='ee-k'>min:</span><span class='ee-v'>-32768</span></li><li><span class='ee-k'>precision:</span><span class='ee-v'>int</span></li></ul></details></li><li><details><summary>dimensions: [8071, 6941]</summary><ul><li><span class='ee-k'>0:</span><span class='ee-v'>8071</span></li><li><span class='ee-k'>1:</span><span class='ee-v'>6941</span></li></ul></details></li></ul></details></li><li><details><summary>11: \"ST_DRAD\", signed int16, EPSG:32635, 8071x6941 px</summary><ul><li><span class='ee-k'>id:</span><span class='ee-v'>ST_DRAD</span></li><li><span class='ee-k'>crs:</span><span class='ee-v'>EPSG:32635</span></li><li><details><summary>crs_transform: [30, 0, 262185, 0, -30, -1813185]</summary><ul><li><span class='ee-k'>0:</span><span class='ee-v'>30</span></li><li><span class='ee-k'>1:</span><span class='ee-v'>0</span></li><li><span class='ee-k'>2:</span><span class='ee-v'>262185</span></li><li><span class='ee-k'>3:</span><span class='ee-v'>0</span></li><li><span class='ee-k'>4:</span><span class='ee-v'>-30</span></li><li><span class='ee-k'>5:</span><span class='ee-v'>-1813185</span></li></ul></details></li><li><details><summary>data_type: signed int16</summary><ul><li><span class='ee-k'>type:</span><span class='ee-v'>PixelType</span></li><li><span class='ee-k'>max:</span><span class='ee-v'>32767</span></li><li><span class='ee-k'>min:</span><span class='ee-v'>-32768</span></li><li><span class='ee-k'>precision:</span><span class='ee-v'>int</span></li></ul></details></li><li><details><summary>dimensions: [8071, 6941]</summary><ul><li><span class='ee-k'>0:</span><span class='ee-v'>8071</span></li><li><span class='ee-k'>1:</span><span class='ee-v'>6941</span></li></ul></details></li></ul></details></li><li><details><summary>12: \"ST_EMIS\", signed int16, EPSG:32635, 8071x6941 px</summary><ul><li><span class='ee-k'>id:</span><span class='ee-v'>ST_EMIS</span></li><li><span class='ee-k'>crs:</span><span class='ee-v'>EPSG:32635</span></li><li><details><summary>crs_transform: [30, 0, 262185, 0, -30, -1813185]</summary><ul><li><span class='ee-k'>0:</span><span class='ee-v'>30</span></li><li><span class='ee-k'>1:</span><span class='ee-v'>0</span></li><li><span class='ee-k'>2:</span><span class='ee-v'>262185</span></li><li><span class='ee-k'>3:</span><span class='ee-v'>0</span></li><li><span class='ee-k'>4:</span><span class='ee-v'>-30</span></li><li><span class='ee-k'>5:</span><span class='ee-v'>-1813185</span></li></ul></details></li><li><details><summary>data_type: signed int16</summary><ul><li><span class='ee-k'>type:</span><span class='ee-v'>PixelType</span></li><li><span class='ee-k'>max:</span><span class='ee-v'>32767</span></li><li><span class='ee-k'>min:</span><span class='ee-v'>-32768</span></li><li><span class='ee-k'>precision:</span><span class='ee-v'>int</span></li></ul></details></li><li><details><summary>dimensions: [8071, 6941]</summary><ul><li><span class='ee-k'>0:</span><span class='ee-v'>8071</span></li><li><span class='ee-k'>1:</span><span class='ee-v'>6941</span></li></ul></details></li></ul></details></li><li><details><summary>13: \"ST_EMSD\", signed int16, EPSG:32635, 8071x6941 px</summary><ul><li><span class='ee-k'>id:</span><span class='ee-v'>ST_EMSD</span></li><li><span class='ee-k'>crs:</span><span class='ee-v'>EPSG:32635</span></li><li><details><summary>crs_transform: [30, 0, 262185, 0, -30, -1813185]</summary><ul><li><span class='ee-k'>0:</span><span class='ee-v'>30</span></li><li><span class='ee-k'>1:</span><span class='ee-v'>0</span></li><li><span class='ee-k'>2:</span><span class='ee-v'>262185</span></li><li><span class='ee-k'>3:</span><span class='ee-v'>0</span></li><li><span class='ee-k'>4:</span><span class='ee-v'>-30</span></li><li><span class='ee-k'>5:</span><span class='ee-v'>-1813185</span></li></ul></details></li><li><details><summary>data_type: signed int16</summary><ul><li><span class='ee-k'>type:</span><span class='ee-v'>PixelType</span></li><li><span class='ee-k'>max:</span><span class='ee-v'>32767</span></li><li><span class='ee-k'>min:</span><span class='ee-v'>-32768</span></li><li><span class='ee-k'>precision:</span><span class='ee-v'>int</span></li></ul></details></li><li><details><summary>dimensions: [8071, 6941]</summary><ul><li><span class='ee-k'>0:</span><span class='ee-v'>8071</span></li><li><span class='ee-k'>1:</span><span class='ee-v'>6941</span></li></ul></details></li></ul></details></li><li><details><summary>14: \"ST_QA\", signed int16, EPSG:32635, 8071x6941 px</summary><ul><li><span class='ee-k'>id:</span><span class='ee-v'>ST_QA</span></li><li><span class='ee-k'>crs:</span><span class='ee-v'>EPSG:32635</span></li><li><details><summary>crs_transform: [30, 0, 262185, 0, -30, -1813185]</summary><ul><li><span class='ee-k'>0:</span><span class='ee-v'>30</span></li><li><span class='ee-k'>1:</span><span class='ee-v'>0</span></li><li><span class='ee-k'>2:</span><span class='ee-v'>262185</span></li><li><span class='ee-k'>3:</span><span class='ee-v'>0</span></li><li><span class='ee-k'>4:</span><span class='ee-v'>-30</span></li><li><span class='ee-k'>5:</span><span class='ee-v'>-1813185</span></li></ul></details></li><li><details><summary>data_type: signed int16</summary><ul><li><span class='ee-k'>type:</span><span class='ee-v'>PixelType</span></li><li><span class='ee-k'>max:</span><span class='ee-v'>32767</span></li><li><span class='ee-k'>min:</span><span class='ee-v'>-32768</span></li><li><span class='ee-k'>precision:</span><span class='ee-v'>int</span></li></ul></details></li><li><details><summary>dimensions: [8071, 6941]</summary><ul><li><span class='ee-k'>0:</span><span class='ee-v'>8071</span></li><li><span class='ee-k'>1:</span><span class='ee-v'>6941</span></li></ul></details></li></ul></details></li><li><details><summary>15: \"ST_TRAD\", signed int16, EPSG:32635, 8071x6941 px</summary><ul><li><span class='ee-k'>id:</span><span class='ee-v'>ST_TRAD</span></li><li><span class='ee-k'>crs:</span><span class='ee-v'>EPSG:32635</span></li><li><details><summary>crs_transform: [30, 0, 262185, 0, -30, -1813185]</summary><ul><li><span class='ee-k'>0:</span><span class='ee-v'>30</span></li><li><span class='ee-k'>1:</span><span class='ee-v'>0</span></li><li><span class='ee-k'>2:</span><span class='ee-v'>262185</span></li><li><span class='ee-k'>3:</span><span class='ee-v'>0</span></li><li><span class='ee-k'>4:</span><span class='ee-v'>-30</span></li><li><span class='ee-k'>5:</span><span class='ee-v'>-1813185</span></li></ul></details></li><li><details><summary>data_type: signed int16</summary><ul><li><span class='ee-k'>type:</span><span class='ee-v'>PixelType</span></li><li><span class='ee-k'>max:</span><span class='ee-v'>32767</span></li><li><span class='ee-k'>min:</span><span class='ee-v'>-32768</span></li><li><span class='ee-k'>precision:</span><span class='ee-v'>int</span></li></ul></details></li><li><details><summary>dimensions: [8071, 6941]</summary><ul><li><span class='ee-k'>0:</span><span class='ee-v'>8071</span></li><li><span class='ee-k'>1:</span><span class='ee-v'>6941</span></li></ul></details></li></ul></details></li><li><details><summary>16: \"ST_URAD\", signed int16, EPSG:32635, 8071x6941 px</summary><ul><li><span class='ee-k'>id:</span><span class='ee-v'>ST_URAD</span></li><li><span class='ee-k'>crs:</span><span class='ee-v'>EPSG:32635</span></li><li><details><summary>crs_transform: [30, 0, 262185, 0, -30, -1813185]</summary><ul><li><span class='ee-k'>0:</span><span class='ee-v'>30</span></li><li><span class='ee-k'>1:</span><span class='ee-v'>0</span></li><li><span class='ee-k'>2:</span><span class='ee-v'>262185</span></li><li><span class='ee-k'>3:</span><span class='ee-v'>0</span></li><li><span class='ee-k'>4:</span><span class='ee-v'>-30</span></li><li><span class='ee-k'>5:</span><span class='ee-v'>-1813185</span></li></ul></details></li><li><details><summary>data_type: signed int16</summary><ul><li><span class='ee-k'>type:</span><span class='ee-v'>PixelType</span></li><li><span class='ee-k'>max:</span><span class='ee-v'>32767</span></li><li><span class='ee-k'>min:</span><span class='ee-v'>-32768</span></li><li><span class='ee-k'>precision:</span><span class='ee-v'>int</span></li></ul></details></li><li><details><summary>dimensions: [8071, 6941]</summary><ul><li><span class='ee-k'>0:</span><span class='ee-v'>8071</span></li><li><span class='ee-k'>1:</span><span class='ee-v'>6941</span></li></ul></details></li></ul></details></li><li><details><summary>17: \"QA_PIXEL\", unsigned int16, EPSG:32635, 8071x6941 px</summary><ul><li><span class='ee-k'>id:</span><span class='ee-v'>QA_PIXEL</span></li><li><span class='ee-k'>crs:</span><span class='ee-v'>EPSG:32635</span></li><li><details><summary>crs_transform: [30, 0, 262185, 0, -30, -1813185]</summary><ul><li><span class='ee-k'>0:</span><span class='ee-v'>30</span></li><li><span class='ee-k'>1:</span><span class='ee-v'>0</span></li><li><span class='ee-k'>2:</span><span class='ee-v'>262185</span></li><li><span class='ee-k'>3:</span><span class='ee-v'>0</span></li><li><span class='ee-k'>4:</span><span class='ee-v'>-30</span></li><li><span class='ee-k'>5:</span><span class='ee-v'>-1813185</span></li></ul></details></li><li><details><summary>data_type: unsigned int16</summary><ul><li><span class='ee-k'>type:</span><span class='ee-v'>PixelType</span></li><li><span class='ee-k'>max:</span><span class='ee-v'>65535</span></li><li><span class='ee-k'>min:</span><span class='ee-v'>0</span></li><li><span class='ee-k'>precision:</span><span class='ee-v'>int</span></li></ul></details></li><li><details><summary>dimensions: [8071, 6941]</summary><ul><li><span class='ee-k'>0:</span><span class='ee-v'>8071</span></li><li><span class='ee-k'>1:</span><span class='ee-v'>6941</span></li></ul></details></li></ul></details></li><li><details><summary>18: \"QA_RADSAT\", unsigned int16, EPSG:32635, 8071x6941 px</summary><ul><li><span class='ee-k'>id:</span><span class='ee-v'>QA_RADSAT</span></li><li><span class='ee-k'>crs:</span><span class='ee-v'>EPSG:32635</span></li><li><details><summary>crs_transform: [30, 0, 262185, 0, -30, -1813185]</summary><ul><li><span class='ee-k'>0:</span><span class='ee-v'>30</span></li><li><span class='ee-k'>1:</span><span class='ee-v'>0</span></li><li><span class='ee-k'>2:</span><span class='ee-v'>262185</span></li><li><span class='ee-k'>3:</span><span class='ee-v'>0</span></li><li><span class='ee-k'>4:</span><span class='ee-v'>-30</span></li><li><span class='ee-k'>5:</span><span class='ee-v'>-1813185</span></li></ul></details></li><li><details><summary>data_type: unsigned int16</summary><ul><li><span class='ee-k'>type:</span><span class='ee-v'>PixelType</span></li><li><span class='ee-k'>max:</span><span class='ee-v'>65535</span></li><li><span class='ee-k'>min:</span><span class='ee-v'>0</span></li><li><span class='ee-k'>precision:</span><span class='ee-v'>int</span></li></ul></details></li><li><details><summary>dimensions: [8071, 6941]</summary><ul><li><span class='ee-k'>0:</span><span class='ee-v'>8071</span></li><li><span class='ee-k'>1:</span><span class='ee-v'>6941</span></li></ul></details></li></ul></details></li></ul></details></li><li><details><summary>properties: Object (130 properties)</summary><ul><li><span class='ee-k'>ALGORITHM_SOURCE_SURFACE_REFLECTANCE:</span><span class='ee-v'>LEDAPS_3.4.0</span></li><li><span class='ee-k'>ALGORITHM_SOURCE_SURFACE_TEMPERATURE:</span><span class='ee-v'>st_1.3.0</span></li><li><span class='ee-k'>CLOUD_COVER:</span><span class='ee-v'>1</span></li><li><span class='ee-k'>CLOUD_COVER_LAND:</span><span class='ee-v'>1</span></li><li><span class='ee-k'>COLLECTION_CATEGORY:</span><span class='ee-v'>T1</span></li><li><span class='ee-k'>COLLECTION_NUMBER:</span><span class='ee-v'>2</span></li><li><span class='ee-k'>CORRECTION_BIAS_BAND_1:</span><span class='ee-v'>INTERNAL_CALIBRATION</span></li><li><span class='ee-k'>CORRECTION_BIAS_BAND_2:</span><span class='ee-v'>INTERNAL_CALIBRATION</span></li><li><span class='ee-k'>CORRECTION_BIAS_BAND_3:</span><span class='ee-v'>INTERNAL_CALIBRATION</span></li><li><span class='ee-k'>CORRECTION_BIAS_BAND_4:</span><span class='ee-v'>INTERNAL_CALIBRATION</span></li><li><span class='ee-k'>CORRECTION_BIAS_BAND_5:</span><span class='ee-v'>INTERNAL_CALIBRATION</span></li><li><span class='ee-k'>CORRECTION_BIAS_BAND_6_VCID_1:</span><span class='ee-v'>INTERNAL_CALIBRATION</span></li><li><span class='ee-k'>CORRECTION_BIAS_BAND_6_VCID_2:</span><span class='ee-v'>INTERNAL_CALIBRATION</span></li><li><span class='ee-k'>CORRECTION_BIAS_BAND_7:</span><span class='ee-v'>INTERNAL_CALIBRATION</span></li><li><span class='ee-k'>CORRECTION_BIAS_BAND_8:</span><span class='ee-v'>INTERNAL_CALIBRATION</span></li><li><span class='ee-k'>CORRECTION_GAIN_BAND_1:</span><span class='ee-v'>CPF</span></li><li><span class='ee-k'>CORRECTION_GAIN_BAND_2:</span><span class='ee-v'>CPF</span></li><li><span class='ee-k'>CORRECTION_GAIN_BAND_3:</span><span class='ee-v'>CPF</span></li><li><span class='ee-k'>CORRECTION_GAIN_BAND_4:</span><span class='ee-v'>CPF</span></li><li><span class='ee-k'>CORRECTION_GAIN_BAND_5:</span><span class='ee-v'>CPF</span></li><li><span class='ee-k'>CORRECTION_GAIN_BAND_6_VCID_1:</span><span class='ee-v'>CPF</span></li><li><span class='ee-k'>CORRECTION_GAIN_BAND_6_VCID_2:</span><span class='ee-v'>CPF</span></li><li><span class='ee-k'>CORRECTION_GAIN_BAND_7:</span><span class='ee-v'>CPF</span></li><li><span class='ee-k'>CORRECTION_GAIN_BAND_8:</span><span class='ee-v'>CPF</span></li><li><span class='ee-k'>DATA_SOURCE_AIR_TEMPERATURE:</span><span class='ee-v'>NCEP</span></li><li><span class='ee-k'>DATA_SOURCE_ELEVATION:</span><span class='ee-v'>GLS2000</span></li><li><span class='ee-k'>DATA_SOURCE_OZONE:</span><span class='ee-v'>TOMS</span></li><li><span class='ee-k'>DATA_SOURCE_PRESSURE:</span><span class='ee-v'>NCEP</span></li><li><span class='ee-k'>DATA_SOURCE_REANALYSIS:</span><span class='ee-v'>GEOS-5 FP-IT</span></li><li><span class='ee-k'>DATA_SOURCE_WATER_VAPOR:</span><span class='ee-v'>NCEP</span></li><li><span class='ee-k'>DATE_ACQUIRED:</span><span class='ee-v'>2016-11-18</span></li><li><span class='ee-k'>DATE_PRODUCT_GENERATED:</span><span class='ee-v'>1598976889000</span></li><li><span class='ee-k'>DATUM:</span><span class='ee-v'>WGS84</span></li><li><span class='ee-k'>EARTH_SUN_DISTANCE:</span><span class='ee-v'>0.9884225</span></li><li><span class='ee-k'>ELLIPSOID:</span><span class='ee-v'>WGS84</span></li><li><span class='ee-k'>EPHEMERIS_TYPE:</span><span class='ee-v'>DEFINITIVE</span></li><li><span class='ee-k'>GAIN_BAND_1:</span><span class='ee-v'>L</span></li><li><span class='ee-k'>GAIN_BAND_2:</span><span class='ee-v'>L</span></li><li><span class='ee-k'>GAIN_BAND_3:</span><span class='ee-v'>L</span></li><li><span class='ee-k'>GAIN_BAND_4:</span><span class='ee-v'>L</span></li><li><span class='ee-k'>GAIN_BAND_5:</span><span class='ee-v'>L</span></li><li><span class='ee-k'>GAIN_BAND_6_VCID_1:</span><span class='ee-v'>L</span></li><li><span class='ee-k'>GAIN_BAND_6_VCID_2:</span><span class='ee-v'>H</span></li><li><span class='ee-k'>GAIN_BAND_7:</span><span class='ee-v'>L</span></li><li><span class='ee-k'>GAIN_BAND_8:</span><span class='ee-v'>L</span></li><li><span class='ee-k'>GAIN_CHANGE_BAND_1:</span><span class='ee-v'>LL</span></li><li><span class='ee-k'>GAIN_CHANGE_BAND_2:</span><span class='ee-v'>LL</span></li><li><span class='ee-k'>GAIN_CHANGE_BAND_3:</span><span class='ee-v'>LL</span></li><li><span class='ee-k'>GAIN_CHANGE_BAND_4:</span><span class='ee-v'>LL</span></li><li><span class='ee-k'>GAIN_CHANGE_BAND_5:</span><span class='ee-v'>LL</span></li><li><span class='ee-k'>GAIN_CHANGE_BAND_6_VCID_1:</span><span class='ee-v'>LL</span></li><li><span class='ee-k'>GAIN_CHANGE_BAND_6_VCID_2:</span><span class='ee-v'>HH</span></li><li><span class='ee-k'>GAIN_CHANGE_BAND_7:</span><span class='ee-v'>LL</span></li><li><span class='ee-k'>GAIN_CHANGE_BAND_8:</span><span class='ee-v'>LL</span></li><li><span class='ee-k'>GAIN_CHANGE_SCAN_BAND_1:</span><span class='ee-v'>0</span></li><li><span class='ee-k'>GAIN_CHANGE_SCAN_BAND_2:</span><span class='ee-v'>0</span></li><li><span class='ee-k'>GAIN_CHANGE_SCAN_BAND_3:</span><span class='ee-v'>0</span></li><li><span class='ee-k'>GAIN_CHANGE_SCAN_BAND_4:</span><span class='ee-v'>0</span></li><li><span class='ee-k'>GAIN_CHANGE_SCAN_BAND_5:</span><span class='ee-v'>0</span></li><li><span class='ee-k'>GAIN_CHANGE_SCAN_BAND_6_VCID_1:</span><span class='ee-v'>0</span></li><li><span class='ee-k'>GAIN_CHANGE_SCAN_BAND_6_VCID_2:</span><span class='ee-v'>0</span></li><li><span class='ee-k'>GAIN_CHANGE_SCAN_BAND_7:</span><span class='ee-v'>0</span></li><li><span class='ee-k'>GAIN_CHANGE_SCAN_BAND_8:</span><span class='ee-v'>0</span></li><li><span class='ee-k'>GEOMETRIC_RMSE_MODEL:</span><span class='ee-v'>4.552</span></li><li><span class='ee-k'>GEOMETRIC_RMSE_MODEL_X:</span><span class='ee-v'>3.019</span></li><li><span class='ee-k'>GEOMETRIC_RMSE_MODEL_Y:</span><span class='ee-v'>3.407</span></li><li><span class='ee-k'>GRID_CELL_SIZE_REFLECTIVE:</span><span class='ee-v'>30</span></li><li><span class='ee-k'>GRID_CELL_SIZE_THERMAL:</span><span class='ee-v'>30</span></li><li><span class='ee-k'>GROUND_CONTROL_POINTS_MODEL:</span><span class='ee-v'>542</span></li><li><span class='ee-k'>GROUND_CONTROL_POINTS_VERSION:</span><span class='ee-v'>5</span></li><li><span class='ee-k'>IMAGE_QUALITY:</span><span class='ee-v'>9</span></li><li><span class='ee-k'>L1_DATE_PRODUCT_GENERATED:</span><span class='ee-v'>2020-09-01T16:00:15Z</span></li><li><span class='ee-k'>L1_LANDSAT_PRODUCT_ID:</span><span class='ee-v'>LE07_L1TP_173072_20161118_20200901_02_T1</span></li><li><span class='ee-k'>L1_PROCESSING_LEVEL:</span><span class='ee-v'>L1TP</span></li><li><span class='ee-k'>L1_PROCESSING_SOFTWARE_VERSION:</span><span class='ee-v'>LPGS_15.3.1c</span></li><li><span class='ee-k'>L1_REQUEST_ID:</span><span class='ee-v'>L2</span></li><li><span class='ee-k'>LANDSAT_PRODUCT_ID:</span><span class='ee-v'>LE07_L2SP_173072_20161118_20200901_02_T1</span></li><li><span class='ee-k'>LANDSAT_SCENE_ID:</span><span class='ee-v'>LE71730722016323SG100</span></li><li><span class='ee-k'>MAP_PROJECTION:</span><span class='ee-v'>UTM</span></li><li><span class='ee-k'>ORIENTATION:</span><span class='ee-v'>NORTH_UP</span></li><li><span class='ee-k'>PROCESSING_LEVEL:</span><span class='ee-v'>L2SP</span></li><li><span class='ee-k'>PROCESSING_SOFTWARE_VERSION:</span><span class='ee-v'>LPGS_15.3.1c</span></li><li><span class='ee-k'>REFLECTANCE_ADD_BAND_1:</span><span class='ee-v'>-0.2</span></li><li><span class='ee-k'>REFLECTANCE_ADD_BAND_2:</span><span class='ee-v'>-0.2</span></li><li><span class='ee-k'>REFLECTANCE_ADD_BAND_3:</span><span class='ee-v'>-0.2</span></li><li><span class='ee-k'>REFLECTANCE_ADD_BAND_4:</span><span class='ee-v'>-0.2</span></li><li><span class='ee-k'>REFLECTANCE_ADD_BAND_5:</span><span class='ee-v'>-0.2</span></li><li><span class='ee-k'>REFLECTANCE_ADD_BAND_7:</span><span class='ee-v'>-0.2</span></li><li><span class='ee-k'>REFLECTANCE_MULT_BAND_1:</span><span class='ee-v'>2.75e-05</span></li><li><span class='ee-k'>REFLECTANCE_MULT_BAND_2:</span><span class='ee-v'>2.75e-05</span></li><li><span class='ee-k'>REFLECTANCE_MULT_BAND_3:</span><span class='ee-v'>2.75e-05</span></li><li><span class='ee-k'>REFLECTANCE_MULT_BAND_4:</span><span class='ee-v'>2.75e-05</span></li><li><span class='ee-k'>REFLECTANCE_MULT_BAND_5:</span><span class='ee-v'>2.75e-05</span></li><li><span class='ee-k'>REFLECTANCE_MULT_BAND_7:</span><span class='ee-v'>2.75e-05</span></li><li><span class='ee-k'>REFLECTIVE_LINES:</span><span class='ee-v'>6941</span></li><li><span class='ee-k'>REFLECTIVE_SAMPLES:</span><span class='ee-v'>8071</span></li><li><span class='ee-k'>REQUEST_ID:</span><span class='ee-v'>L2</span></li><li><span class='ee-k'>SATURATION_BAND_1:</span><span class='ee-v'>Y</span></li><li><span class='ee-k'>SATURATION_BAND_2:</span><span class='ee-v'>Y</span></li><li><span class='ee-k'>SATURATION_BAND_3:</span><span class='ee-v'>Y</span></li><li><span class='ee-k'>SATURATION_BAND_4:</span><span class='ee-v'>Y</span></li><li><span class='ee-k'>SATURATION_BAND_5:</span><span class='ee-v'>Y</span></li><li><span class='ee-k'>SATURATION_BAND_6_VCID_1:</span><span class='ee-v'>N</span></li><li><span class='ee-k'>SATURATION_BAND_6_VCID_2:</span><span class='ee-v'>Y</span></li><li><span class='ee-k'>SATURATION_BAND_7:</span><span class='ee-v'>Y</span></li><li><span class='ee-k'>SATURATION_BAND_8:</span><span class='ee-v'>N</span></li><li><span class='ee-k'>SCENE_CENTER_TIME:</span><span class='ee-v'>08:21:00.3485845Z</span></li><li><span class='ee-k'>SENSOR_ANOMALIES:</span><span class='ee-v'>NONE</span></li><li><span class='ee-k'>SENSOR_ID:</span><span class='ee-v'>ETM</span></li><li><span class='ee-k'>SENSOR_MODE:</span><span class='ee-v'>BUMPER</span></li><li><span class='ee-k'>SENSOR_MODE_SLC:</span><span class='ee-v'>OFF</span></li><li><span class='ee-k'>SPACECRAFT_ID:</span><span class='ee-v'>LANDSAT_7</span></li><li><span class='ee-k'>STATION_ID:</span><span class='ee-v'>SG1</span></li><li><span class='ee-k'>SUN_AZIMUTH:</span><span class='ee-v'>98.74248237</span></li><li><span class='ee-k'>SUN_ELEVATION:</span><span class='ee-v'>66.06675027</span></li><li><span class='ee-k'>TEMPERATURE_ADD_BAND_ST_B6:</span><span class='ee-v'>149</span></li><li><span class='ee-k'>TEMPERATURE_MAXIMUM_BAND_ST_B6:</span><span class='ee-v'>372.999941</span></li><li><span class='ee-k'>TEMPERATURE_MINIMUM_BAND_ST_B6:</span><span class='ee-v'>149.003418</span></li><li><span class='ee-k'>TEMPERATURE_MULT_BAND_ST_B6:</span><span class='ee-v'>0.00341802</span></li><li><span class='ee-k'>THERMAL_LINES:</span><span class='ee-v'>6941</span></li><li><span class='ee-k'>THERMAL_SAMPLES:</span><span class='ee-v'>8071</span></li><li><span class='ee-k'>UTM_ZONE:</span><span class='ee-v'>35</span></li><li><span class='ee-k'>WRS_PATH:</span><span class='ee-v'>173</span></li><li><span class='ee-k'>WRS_ROW:</span><span class='ee-v'>72</span></li><li><span class='ee-k'>WRS_TYPE:</span><span class='ee-v'>2</span></li><li><span class='ee-k'>system:asset_size:</span><span class='ee-v'>547702083</span></li><li><details><summary>system:footprint: LinearRing (19 vertices)</summary><ul><li><span class='ee-k'>type:</span><span class='ee-v'>LinearRing</span></li><li><details><summary>coordinates: List (19 elements)</summary><ul><li><details><summary>0: [25.171251604716176, -16.480388211189563]</summary><ul><li><span class='ee-k'>0:</span><span class='ee-v'>25.171251604716176</span></li><li><span class='ee-k'>1:</span><span class='ee-v'>-16.480388211189563</span></li></ul></details></li><li><details><summary>1: [25.165108886484578, -16.506089151300294]</summary><ul><li><span class='ee-k'>0:</span><span class='ee-v'>25.165108886484578</span></li><li><span class='ee-k'>1:</span><span class='ee-v'>-16.506089151300294</span></li></ul></details></li><li><details><summary>2: [25.120841894779208, -16.695177610841526]</summary><ul><li><span class='ee-k'>0:</span><span class='ee-v'>25.120841894779208</span></li><li><span class='ee-k'>1:</span><span class='ee-v'>-16.695177610841526</span></li></ul></details></li><li><details><summary>3: [25.04520559126725, -17.021644415215995]</summary><ul><li><span class='ee-k'>0:</span><span class='ee-v'>25.04520559126725</span></li><li><span class='ee-k'>1:</span><span class='ee-v'>-17.021644415215995</span></li></ul></details></li><li><details><summary>4: [24.832398190452473, -17.94017476105774]</summary><ul><li><span class='ee-k'>0:</span><span class='ee-v'>24.832398190452473</span></li><li><span class='ee-k'>1:</span><span class='ee-v'>-17.94017476105774</span></li></ul></details></li><li><details><summary>5: [24.821660039138237, -17.991651519808073]</summary><ul><li><span class='ee-k'>0:</span><span class='ee-v'>24.821660039138237</span></li><li><span class='ee-k'>1:</span><span class='ee-v'>-17.991651519808073</span></li></ul></details></li><li><details><summary>6: [24.820251795088375, -18.00092457435534]</summary><ul><li><span class='ee-k'>0:</span><span class='ee-v'>24.820251795088375</span></li><li><span class='ee-k'>1:</span><span class='ee-v'>-18.00092457435534</span></li></ul></details></li><li><details><summary>7: [24.82099866322742, -18.012912436647753]</summary><ul><li><span class='ee-k'>0:</span><span class='ee-v'>24.82099866322742</span></li><li><span class='ee-k'>1:</span><span class='ee-v'>-18.012912436647753</span></li></ul></details></li><li><details><summary>8: [25.425243450542574, -18.101480258836816]</summary><ul><li><span class='ee-k'>0:</span><span class='ee-v'>25.425243450542574</span></li><li><span class='ee-k'>1:</span><span class='ee-v'>-18.101480258836816</span></li></ul></details></li><li><details><summary>9: [26.40718731368671, -18.241154118751147]</summary><ul><li><span class='ee-k'>0:</span><span class='ee-v'>26.40718731368671</span></li><li><span class='ee-k'>1:</span><span class='ee-v'>-18.241154118751147</span></li></ul></details></li><li><details><summary>10: [26.62443623892548, -18.27132289942159]</summary><ul><li><span class='ee-k'>0:</span><span class='ee-v'>26.62443623892548</span></li><li><span class='ee-k'>1:</span><span class='ee-v'>-18.27132289942159</span></li></ul></details></li><li><details><summary>11: [26.6359072223653, -18.27134510786777]</summary><ul><li><span class='ee-k'>0:</span><span class='ee-v'>26.6359072223653</span></li><li><span class='ee-k'>1:</span><span class='ee-v'>-18.27134510786777</span></li></ul></details></li><li><details><summary>12: [26.638624498264125, -18.269334264516804]</summary><ul><li><span class='ee-k'>0:</span><span class='ee-v'>26.638624498264125</span></li><li><span class='ee-k'>1:</span><span class='ee-v'>-18.269334264516804</span></li></ul></details></li><li><details><summary>13: [26.677278006914978, -18.097126279962595]</summary><ul><li><span class='ee-k'>0:</span><span class='ee-v'>26.677278006914978</span></li><li><span class='ee-k'>1:</span><span class='ee-v'>-18.097126279962595</span></li></ul></details></li><li><details><summary>14: [26.9918870328258, -16.66873361141493]</summary><ul><li><span class='ee-k'>0:</span><span class='ee-v'>26.9918870328258</span></li><li><span class='ee-k'>1:</span><span class='ee-v'>-16.66873361141493</span></li></ul></details></li><li><details><summary>15: [26.981332259787997, -16.660254107305477]</summary><ul><li><span class='ee-k'>0:</span><span class='ee-v'>26.981332259787997</span></li><li><span class='ee-k'>1:</span><span class='ee-v'>-16.660254107305477</span></li></ul></details></li><li><details><summary>16: [25.194793385028543, -16.404227058271882]</summary><ul><li><span class='ee-k'>0:</span><span class='ee-v'>25.194793385028543</span></li><li><span class='ee-k'>1:</span><span class='ee-v'>-16.404227058271882</span></li></ul></details></li><li><details><summary>17: [25.188484218564472, -16.411346847154043]</summary><ul><li><span class='ee-k'>0:</span><span class='ee-v'>25.188484218564472</span></li><li><span class='ee-k'>1:</span><span class='ee-v'>-16.411346847154043</span></li></ul></details></li><li><details><summary>18: [25.171251604716176, -16.480388211189563]</summary><ul><li><span class='ee-k'>0:</span><span class='ee-v'>25.171251604716176</span></li><li><span class='ee-k'>1:</span><span class='ee-v'>-16.480388211189563</span></li></ul></details></li></ul></details></li></ul></details></li><li><span class='ee-k'>system:index:</span><span class='ee-v'>LE07_173072_20161118</span></li><li><span class='ee-k'>system:time_end:</span><span class='ee-v'>1479457260348</span></li><li><span class='ee-k'>system:time_start:</span><span class='ee-v'>1479457260348</span></li></ul></details></li></ul></details></li><li><details><summary>5: Image LANDSAT/LE07/C02/T1_L2/LE07_173072_20161204 (19 bands)</summary><ul><li><span class='ee-k'>type:</span><span class='ee-v'>Image</span></li><li><span class='ee-k'>id:</span><span class='ee-v'>LANDSAT/LE07/C02/T1_L2/LE07_173072_20161204</span></li><li><span class='ee-k'>version:</span><span class='ee-v'>1624535260264558</span></li><li><details><summary>bands: List (19 elements)</summary><ul><li><details><summary>0: \"SR_B1\", unsigned int16, EPSG:32635, 8071x6971 px</summary><ul><li><span class='ee-k'>id:</span><span class='ee-v'>SR_B1</span></li><li><span class='ee-k'>crs:</span><span class='ee-v'>EPSG:32635</span></li><li><details><summary>crs_transform: [30, 0, 261585, 0, -30, -1812885]</summary><ul><li><span class='ee-k'>0:</span><span class='ee-v'>30</span></li><li><span class='ee-k'>1:</span><span class='ee-v'>0</span></li><li><span class='ee-k'>2:</span><span class='ee-v'>261585</span></li><li><span class='ee-k'>3:</span><span class='ee-v'>0</span></li><li><span class='ee-k'>4:</span><span class='ee-v'>-30</span></li><li><span class='ee-k'>5:</span><span class='ee-v'>-1812885</span></li></ul></details></li><li><details><summary>data_type: unsigned int16</summary><ul><li><span class='ee-k'>type:</span><span class='ee-v'>PixelType</span></li><li><span class='ee-k'>max:</span><span class='ee-v'>65535</span></li><li><span class='ee-k'>min:</span><span class='ee-v'>0</span></li><li><span class='ee-k'>precision:</span><span class='ee-v'>int</span></li></ul></details></li><li><details><summary>dimensions: [8071, 6971]</summary><ul><li><span class='ee-k'>0:</span><span class='ee-v'>8071</span></li><li><span class='ee-k'>1:</span><span class='ee-v'>6971</span></li></ul></details></li></ul></details></li><li><details><summary>1: \"SR_B2\", unsigned int16, EPSG:32635, 8071x6971 px</summary><ul><li><span class='ee-k'>id:</span><span class='ee-v'>SR_B2</span></li><li><span class='ee-k'>crs:</span><span class='ee-v'>EPSG:32635</span></li><li><details><summary>crs_transform: [30, 0, 261585, 0, -30, -1812885]</summary><ul><li><span class='ee-k'>0:</span><span class='ee-v'>30</span></li><li><span class='ee-k'>1:</span><span class='ee-v'>0</span></li><li><span class='ee-k'>2:</span><span class='ee-v'>261585</span></li><li><span class='ee-k'>3:</span><span class='ee-v'>0</span></li><li><span class='ee-k'>4:</span><span class='ee-v'>-30</span></li><li><span class='ee-k'>5:</span><span class='ee-v'>-1812885</span></li></ul></details></li><li><details><summary>data_type: unsigned int16</summary><ul><li><span class='ee-k'>type:</span><span class='ee-v'>PixelType</span></li><li><span class='ee-k'>max:</span><span class='ee-v'>65535</span></li><li><span class='ee-k'>min:</span><span class='ee-v'>0</span></li><li><span class='ee-k'>precision:</span><span class='ee-v'>int</span></li></ul></details></li><li><details><summary>dimensions: [8071, 6971]</summary><ul><li><span class='ee-k'>0:</span><span class='ee-v'>8071</span></li><li><span class='ee-k'>1:</span><span class='ee-v'>6971</span></li></ul></details></li></ul></details></li><li><details><summary>2: \"SR_B3\", unsigned int16, EPSG:32635, 8071x6971 px</summary><ul><li><span class='ee-k'>id:</span><span class='ee-v'>SR_B3</span></li><li><span class='ee-k'>crs:</span><span class='ee-v'>EPSG:32635</span></li><li><details><summary>crs_transform: [30, 0, 261585, 0, -30, -1812885]</summary><ul><li><span class='ee-k'>0:</span><span class='ee-v'>30</span></li><li><span class='ee-k'>1:</span><span class='ee-v'>0</span></li><li><span class='ee-k'>2:</span><span class='ee-v'>261585</span></li><li><span class='ee-k'>3:</span><span class='ee-v'>0</span></li><li><span class='ee-k'>4:</span><span class='ee-v'>-30</span></li><li><span class='ee-k'>5:</span><span class='ee-v'>-1812885</span></li></ul></details></li><li><details><summary>data_type: unsigned int16</summary><ul><li><span class='ee-k'>type:</span><span class='ee-v'>PixelType</span></li><li><span class='ee-k'>max:</span><span class='ee-v'>65535</span></li><li><span class='ee-k'>min:</span><span class='ee-v'>0</span></li><li><span class='ee-k'>precision:</span><span class='ee-v'>int</span></li></ul></details></li><li><details><summary>dimensions: [8071, 6971]</summary><ul><li><span class='ee-k'>0:</span><span class='ee-v'>8071</span></li><li><span class='ee-k'>1:</span><span class='ee-v'>6971</span></li></ul></details></li></ul></details></li><li><details><summary>3: \"SR_B4\", unsigned int16, EPSG:32635, 8071x6971 px</summary><ul><li><span class='ee-k'>id:</span><span class='ee-v'>SR_B4</span></li><li><span class='ee-k'>crs:</span><span class='ee-v'>EPSG:32635</span></li><li><details><summary>crs_transform: [30, 0, 261585, 0, -30, -1812885]</summary><ul><li><span class='ee-k'>0:</span><span class='ee-v'>30</span></li><li><span class='ee-k'>1:</span><span class='ee-v'>0</span></li><li><span class='ee-k'>2:</span><span class='ee-v'>261585</span></li><li><span class='ee-k'>3:</span><span class='ee-v'>0</span></li><li><span class='ee-k'>4:</span><span class='ee-v'>-30</span></li><li><span class='ee-k'>5:</span><span class='ee-v'>-1812885</span></li></ul></details></li><li><details><summary>data_type: unsigned int16</summary><ul><li><span class='ee-k'>type:</span><span class='ee-v'>PixelType</span></li><li><span class='ee-k'>max:</span><span class='ee-v'>65535</span></li><li><span class='ee-k'>min:</span><span class='ee-v'>0</span></li><li><span class='ee-k'>precision:</span><span class='ee-v'>int</span></li></ul></details></li><li><details><summary>dimensions: [8071, 6971]</summary><ul><li><span class='ee-k'>0:</span><span class='ee-v'>8071</span></li><li><span class='ee-k'>1:</span><span class='ee-v'>6971</span></li></ul></details></li></ul></details></li><li><details><summary>4: \"SR_B5\", unsigned int16, EPSG:32635, 8071x6971 px</summary><ul><li><span class='ee-k'>id:</span><span class='ee-v'>SR_B5</span></li><li><span class='ee-k'>crs:</span><span class='ee-v'>EPSG:32635</span></li><li><details><summary>crs_transform: [30, 0, 261585, 0, -30, -1812885]</summary><ul><li><span class='ee-k'>0:</span><span class='ee-v'>30</span></li><li><span class='ee-k'>1:</span><span class='ee-v'>0</span></li><li><span class='ee-k'>2:</span><span class='ee-v'>261585</span></li><li><span class='ee-k'>3:</span><span class='ee-v'>0</span></li><li><span class='ee-k'>4:</span><span class='ee-v'>-30</span></li><li><span class='ee-k'>5:</span><span class='ee-v'>-1812885</span></li></ul></details></li><li><details><summary>data_type: unsigned int16</summary><ul><li><span class='ee-k'>type:</span><span class='ee-v'>PixelType</span></li><li><span class='ee-k'>max:</span><span class='ee-v'>65535</span></li><li><span class='ee-k'>min:</span><span class='ee-v'>0</span></li><li><span class='ee-k'>precision:</span><span class='ee-v'>int</span></li></ul></details></li><li><details><summary>dimensions: [8071, 6971]</summary><ul><li><span class='ee-k'>0:</span><span class='ee-v'>8071</span></li><li><span class='ee-k'>1:</span><span class='ee-v'>6971</span></li></ul></details></li></ul></details></li><li><details><summary>5: \"SR_B7\", unsigned int16, EPSG:32635, 8071x6971 px</summary><ul><li><span class='ee-k'>id:</span><span class='ee-v'>SR_B7</span></li><li><span class='ee-k'>crs:</span><span class='ee-v'>EPSG:32635</span></li><li><details><summary>crs_transform: [30, 0, 261585, 0, -30, -1812885]</summary><ul><li><span class='ee-k'>0:</span><span class='ee-v'>30</span></li><li><span class='ee-k'>1:</span><span class='ee-v'>0</span></li><li><span class='ee-k'>2:</span><span class='ee-v'>261585</span></li><li><span class='ee-k'>3:</span><span class='ee-v'>0</span></li><li><span class='ee-k'>4:</span><span class='ee-v'>-30</span></li><li><span class='ee-k'>5:</span><span class='ee-v'>-1812885</span></li></ul></details></li><li><details><summary>data_type: unsigned int16</summary><ul><li><span class='ee-k'>type:</span><span class='ee-v'>PixelType</span></li><li><span class='ee-k'>max:</span><span class='ee-v'>65535</span></li><li><span class='ee-k'>min:</span><span class='ee-v'>0</span></li><li><span class='ee-k'>precision:</span><span class='ee-v'>int</span></li></ul></details></li><li><details><summary>dimensions: [8071, 6971]</summary><ul><li><span class='ee-k'>0:</span><span class='ee-v'>8071</span></li><li><span class='ee-k'>1:</span><span class='ee-v'>6971</span></li></ul></details></li></ul></details></li><li><details><summary>6: \"SR_ATMOS_OPACITY\", signed int16, EPSG:32635, 8071x6971 px</summary><ul><li><span class='ee-k'>id:</span><span class='ee-v'>SR_ATMOS_OPACITY</span></li><li><span class='ee-k'>crs:</span><span class='ee-v'>EPSG:32635</span></li><li><details><summary>crs_transform: [30, 0, 261585, 0, -30, -1812885]</summary><ul><li><span class='ee-k'>0:</span><span class='ee-v'>30</span></li><li><span class='ee-k'>1:</span><span class='ee-v'>0</span></li><li><span class='ee-k'>2:</span><span class='ee-v'>261585</span></li><li><span class='ee-k'>3:</span><span class='ee-v'>0</span></li><li><span class='ee-k'>4:</span><span class='ee-v'>-30</span></li><li><span class='ee-k'>5:</span><span class='ee-v'>-1812885</span></li></ul></details></li><li><details><summary>data_type: signed int16</summary><ul><li><span class='ee-k'>type:</span><span class='ee-v'>PixelType</span></li><li><span class='ee-k'>max:</span><span class='ee-v'>32767</span></li><li><span class='ee-k'>min:</span><span class='ee-v'>-32768</span></li><li><span class='ee-k'>precision:</span><span class='ee-v'>int</span></li></ul></details></li><li><details><summary>dimensions: [8071, 6971]</summary><ul><li><span class='ee-k'>0:</span><span class='ee-v'>8071</span></li><li><span class='ee-k'>1:</span><span class='ee-v'>6971</span></li></ul></details></li></ul></details></li><li><details><summary>7: \"SR_CLOUD_QA\", unsigned int8, EPSG:32635, 8071x6971 px</summary><ul><li><span class='ee-k'>id:</span><span class='ee-v'>SR_CLOUD_QA</span></li><li><span class='ee-k'>crs:</span><span class='ee-v'>EPSG:32635</span></li><li><details><summary>crs_transform: [30, 0, 261585, 0, -30, -1812885]</summary><ul><li><span class='ee-k'>0:</span><span class='ee-v'>30</span></li><li><span class='ee-k'>1:</span><span class='ee-v'>0</span></li><li><span class='ee-k'>2:</span><span class='ee-v'>261585</span></li><li><span class='ee-k'>3:</span><span class='ee-v'>0</span></li><li><span class='ee-k'>4:</span><span class='ee-v'>-30</span></li><li><span class='ee-k'>5:</span><span class='ee-v'>-1812885</span></li></ul></details></li><li><details><summary>data_type: unsigned int8</summary><ul><li><span class='ee-k'>type:</span><span class='ee-v'>PixelType</span></li><li><span class='ee-k'>max:</span><span class='ee-v'>255</span></li><li><span class='ee-k'>min:</span><span class='ee-v'>0</span></li><li><span class='ee-k'>precision:</span><span class='ee-v'>int</span></li></ul></details></li><li><details><summary>dimensions: [8071, 6971]</summary><ul><li><span class='ee-k'>0:</span><span class='ee-v'>8071</span></li><li><span class='ee-k'>1:</span><span class='ee-v'>6971</span></li></ul></details></li></ul></details></li><li><details><summary>8: \"ST_B6\", unsigned int16, EPSG:32635, 8071x6971 px</summary><ul><li><span class='ee-k'>id:</span><span class='ee-v'>ST_B6</span></li><li><span class='ee-k'>crs:</span><span class='ee-v'>EPSG:32635</span></li><li><details><summary>crs_transform: [30, 0, 261585, 0, -30, -1812885]</summary><ul><li><span class='ee-k'>0:</span><span class='ee-v'>30</span></li><li><span class='ee-k'>1:</span><span class='ee-v'>0</span></li><li><span class='ee-k'>2:</span><span class='ee-v'>261585</span></li><li><span class='ee-k'>3:</span><span class='ee-v'>0</span></li><li><span class='ee-k'>4:</span><span class='ee-v'>-30</span></li><li><span class='ee-k'>5:</span><span class='ee-v'>-1812885</span></li></ul></details></li><li><details><summary>data_type: unsigned int16</summary><ul><li><span class='ee-k'>type:</span><span class='ee-v'>PixelType</span></li><li><span class='ee-k'>max:</span><span class='ee-v'>65535</span></li><li><span class='ee-k'>min:</span><span class='ee-v'>0</span></li><li><span class='ee-k'>precision:</span><span class='ee-v'>int</span></li></ul></details></li><li><details><summary>dimensions: [8071, 6971]</summary><ul><li><span class='ee-k'>0:</span><span class='ee-v'>8071</span></li><li><span class='ee-k'>1:</span><span class='ee-v'>6971</span></li></ul></details></li></ul></details></li><li><details><summary>9: \"ST_ATRAN\", signed int16, EPSG:32635, 8071x6971 px</summary><ul><li><span class='ee-k'>id:</span><span class='ee-v'>ST_ATRAN</span></li><li><span class='ee-k'>crs:</span><span class='ee-v'>EPSG:32635</span></li><li><details><summary>crs_transform: [30, 0, 261585, 0, -30, -1812885]</summary><ul><li><span class='ee-k'>0:</span><span class='ee-v'>30</span></li><li><span class='ee-k'>1:</span><span class='ee-v'>0</span></li><li><span class='ee-k'>2:</span><span class='ee-v'>261585</span></li><li><span class='ee-k'>3:</span><span class='ee-v'>0</span></li><li><span class='ee-k'>4:</span><span class='ee-v'>-30</span></li><li><span class='ee-k'>5:</span><span class='ee-v'>-1812885</span></li></ul></details></li><li><details><summary>data_type: signed int16</summary><ul><li><span class='ee-k'>type:</span><span class='ee-v'>PixelType</span></li><li><span class='ee-k'>max:</span><span class='ee-v'>32767</span></li><li><span class='ee-k'>min:</span><span class='ee-v'>-32768</span></li><li><span class='ee-k'>precision:</span><span class='ee-v'>int</span></li></ul></details></li><li><details><summary>dimensions: [8071, 6971]</summary><ul><li><span class='ee-k'>0:</span><span class='ee-v'>8071</span></li><li><span class='ee-k'>1:</span><span class='ee-v'>6971</span></li></ul></details></li></ul></details></li><li><details><summary>10: \"ST_CDIST\", signed int16, EPSG:32635, 8071x6971 px</summary><ul><li><span class='ee-k'>id:</span><span class='ee-v'>ST_CDIST</span></li><li><span class='ee-k'>crs:</span><span class='ee-v'>EPSG:32635</span></li><li><details><summary>crs_transform: [30, 0, 261585, 0, -30, -1812885]</summary><ul><li><span class='ee-k'>0:</span><span class='ee-v'>30</span></li><li><span class='ee-k'>1:</span><span class='ee-v'>0</span></li><li><span class='ee-k'>2:</span><span class='ee-v'>261585</span></li><li><span class='ee-k'>3:</span><span class='ee-v'>0</span></li><li><span class='ee-k'>4:</span><span class='ee-v'>-30</span></li><li><span class='ee-k'>5:</span><span class='ee-v'>-1812885</span></li></ul></details></li><li><details><summary>data_type: signed int16</summary><ul><li><span class='ee-k'>type:</span><span class='ee-v'>PixelType</span></li><li><span class='ee-k'>max:</span><span class='ee-v'>32767</span></li><li><span class='ee-k'>min:</span><span class='ee-v'>-32768</span></li><li><span class='ee-k'>precision:</span><span class='ee-v'>int</span></li></ul></details></li><li><details><summary>dimensions: [8071, 6971]</summary><ul><li><span class='ee-k'>0:</span><span class='ee-v'>8071</span></li><li><span class='ee-k'>1:</span><span class='ee-v'>6971</span></li></ul></details></li></ul></details></li><li><details><summary>11: \"ST_DRAD\", signed int16, EPSG:32635, 8071x6971 px</summary><ul><li><span class='ee-k'>id:</span><span class='ee-v'>ST_DRAD</span></li><li><span class='ee-k'>crs:</span><span class='ee-v'>EPSG:32635</span></li><li><details><summary>crs_transform: [30, 0, 261585, 0, -30, -1812885]</summary><ul><li><span class='ee-k'>0:</span><span class='ee-v'>30</span></li><li><span class='ee-k'>1:</span><span class='ee-v'>0</span></li><li><span class='ee-k'>2:</span><span class='ee-v'>261585</span></li><li><span class='ee-k'>3:</span><span class='ee-v'>0</span></li><li><span class='ee-k'>4:</span><span class='ee-v'>-30</span></li><li><span class='ee-k'>5:</span><span class='ee-v'>-1812885</span></li></ul></details></li><li><details><summary>data_type: signed int16</summary><ul><li><span class='ee-k'>type:</span><span class='ee-v'>PixelType</span></li><li><span class='ee-k'>max:</span><span class='ee-v'>32767</span></li><li><span class='ee-k'>min:</span><span class='ee-v'>-32768</span></li><li><span class='ee-k'>precision:</span><span class='ee-v'>int</span></li></ul></details></li><li><details><summary>dimensions: [8071, 6971]</summary><ul><li><span class='ee-k'>0:</span><span class='ee-v'>8071</span></li><li><span class='ee-k'>1:</span><span class='ee-v'>6971</span></li></ul></details></li></ul></details></li><li><details><summary>12: \"ST_EMIS\", signed int16, EPSG:32635, 8071x6971 px</summary><ul><li><span class='ee-k'>id:</span><span class='ee-v'>ST_EMIS</span></li><li><span class='ee-k'>crs:</span><span class='ee-v'>EPSG:32635</span></li><li><details><summary>crs_transform: [30, 0, 261585, 0, -30, -1812885]</summary><ul><li><span class='ee-k'>0:</span><span class='ee-v'>30</span></li><li><span class='ee-k'>1:</span><span class='ee-v'>0</span></li><li><span class='ee-k'>2:</span><span class='ee-v'>261585</span></li><li><span class='ee-k'>3:</span><span class='ee-v'>0</span></li><li><span class='ee-k'>4:</span><span class='ee-v'>-30</span></li><li><span class='ee-k'>5:</span><span class='ee-v'>-1812885</span></li></ul></details></li><li><details><summary>data_type: signed int16</summary><ul><li><span class='ee-k'>type:</span><span class='ee-v'>PixelType</span></li><li><span class='ee-k'>max:</span><span class='ee-v'>32767</span></li><li><span class='ee-k'>min:</span><span class='ee-v'>-32768</span></li><li><span class='ee-k'>precision:</span><span class='ee-v'>int</span></li></ul></details></li><li><details><summary>dimensions: [8071, 6971]</summary><ul><li><span class='ee-k'>0:</span><span class='ee-v'>8071</span></li><li><span class='ee-k'>1:</span><span class='ee-v'>6971</span></li></ul></details></li></ul></details></li><li><details><summary>13: \"ST_EMSD\", signed int16, EPSG:32635, 8071x6971 px</summary><ul><li><span class='ee-k'>id:</span><span class='ee-v'>ST_EMSD</span></li><li><span class='ee-k'>crs:</span><span class='ee-v'>EPSG:32635</span></li><li><details><summary>crs_transform: [30, 0, 261585, 0, -30, -1812885]</summary><ul><li><span class='ee-k'>0:</span><span class='ee-v'>30</span></li><li><span class='ee-k'>1:</span><span class='ee-v'>0</span></li><li><span class='ee-k'>2:</span><span class='ee-v'>261585</span></li><li><span class='ee-k'>3:</span><span class='ee-v'>0</span></li><li><span class='ee-k'>4:</span><span class='ee-v'>-30</span></li><li><span class='ee-k'>5:</span><span class='ee-v'>-1812885</span></li></ul></details></li><li><details><summary>data_type: signed int16</summary><ul><li><span class='ee-k'>type:</span><span class='ee-v'>PixelType</span></li><li><span class='ee-k'>max:</span><span class='ee-v'>32767</span></li><li><span class='ee-k'>min:</span><span class='ee-v'>-32768</span></li><li><span class='ee-k'>precision:</span><span class='ee-v'>int</span></li></ul></details></li><li><details><summary>dimensions: [8071, 6971]</summary><ul><li><span class='ee-k'>0:</span><span class='ee-v'>8071</span></li><li><span class='ee-k'>1:</span><span class='ee-v'>6971</span></li></ul></details></li></ul></details></li><li><details><summary>14: \"ST_QA\", signed int16, EPSG:32635, 8071x6971 px</summary><ul><li><span class='ee-k'>id:</span><span class='ee-v'>ST_QA</span></li><li><span class='ee-k'>crs:</span><span class='ee-v'>EPSG:32635</span></li><li><details><summary>crs_transform: [30, 0, 261585, 0, -30, -1812885]</summary><ul><li><span class='ee-k'>0:</span><span class='ee-v'>30</span></li><li><span class='ee-k'>1:</span><span class='ee-v'>0</span></li><li><span class='ee-k'>2:</span><span class='ee-v'>261585</span></li><li><span class='ee-k'>3:</span><span class='ee-v'>0</span></li><li><span class='ee-k'>4:</span><span class='ee-v'>-30</span></li><li><span class='ee-k'>5:</span><span class='ee-v'>-1812885</span></li></ul></details></li><li><details><summary>data_type: signed int16</summary><ul><li><span class='ee-k'>type:</span><span class='ee-v'>PixelType</span></li><li><span class='ee-k'>max:</span><span class='ee-v'>32767</span></li><li><span class='ee-k'>min:</span><span class='ee-v'>-32768</span></li><li><span class='ee-k'>precision:</span><span class='ee-v'>int</span></li></ul></details></li><li><details><summary>dimensions: [8071, 6971]</summary><ul><li><span class='ee-k'>0:</span><span class='ee-v'>8071</span></li><li><span class='ee-k'>1:</span><span class='ee-v'>6971</span></li></ul></details></li></ul></details></li><li><details><summary>15: \"ST_TRAD\", signed int16, EPSG:32635, 8071x6971 px</summary><ul><li><span class='ee-k'>id:</span><span class='ee-v'>ST_TRAD</span></li><li><span class='ee-k'>crs:</span><span class='ee-v'>EPSG:32635</span></li><li><details><summary>crs_transform: [30, 0, 261585, 0, -30, -1812885]</summary><ul><li><span class='ee-k'>0:</span><span class='ee-v'>30</span></li><li><span class='ee-k'>1:</span><span class='ee-v'>0</span></li><li><span class='ee-k'>2:</span><span class='ee-v'>261585</span></li><li><span class='ee-k'>3:</span><span class='ee-v'>0</span></li><li><span class='ee-k'>4:</span><span class='ee-v'>-30</span></li><li><span class='ee-k'>5:</span><span class='ee-v'>-1812885</span></li></ul></details></li><li><details><summary>data_type: signed int16</summary><ul><li><span class='ee-k'>type:</span><span class='ee-v'>PixelType</span></li><li><span class='ee-k'>max:</span><span class='ee-v'>32767</span></li><li><span class='ee-k'>min:</span><span class='ee-v'>-32768</span></li><li><span class='ee-k'>precision:</span><span class='ee-v'>int</span></li></ul></details></li><li><details><summary>dimensions: [8071, 6971]</summary><ul><li><span class='ee-k'>0:</span><span class='ee-v'>8071</span></li><li><span class='ee-k'>1:</span><span class='ee-v'>6971</span></li></ul></details></li></ul></details></li><li><details><summary>16: \"ST_URAD\", signed int16, EPSG:32635, 8071x6971 px</summary><ul><li><span class='ee-k'>id:</span><span class='ee-v'>ST_URAD</span></li><li><span class='ee-k'>crs:</span><span class='ee-v'>EPSG:32635</span></li><li><details><summary>crs_transform: [30, 0, 261585, 0, -30, -1812885]</summary><ul><li><span class='ee-k'>0:</span><span class='ee-v'>30</span></li><li><span class='ee-k'>1:</span><span class='ee-v'>0</span></li><li><span class='ee-k'>2:</span><span class='ee-v'>261585</span></li><li><span class='ee-k'>3:</span><span class='ee-v'>0</span></li><li><span class='ee-k'>4:</span><span class='ee-v'>-30</span></li><li><span class='ee-k'>5:</span><span class='ee-v'>-1812885</span></li></ul></details></li><li><details><summary>data_type: signed int16</summary><ul><li><span class='ee-k'>type:</span><span class='ee-v'>PixelType</span></li><li><span class='ee-k'>max:</span><span class='ee-v'>32767</span></li><li><span class='ee-k'>min:</span><span class='ee-v'>-32768</span></li><li><span class='ee-k'>precision:</span><span class='ee-v'>int</span></li></ul></details></li><li><details><summary>dimensions: [8071, 6971]</summary><ul><li><span class='ee-k'>0:</span><span class='ee-v'>8071</span></li><li><span class='ee-k'>1:</span><span class='ee-v'>6971</span></li></ul></details></li></ul></details></li><li><details><summary>17: \"QA_PIXEL\", unsigned int16, EPSG:32635, 8071x6971 px</summary><ul><li><span class='ee-k'>id:</span><span class='ee-v'>QA_PIXEL</span></li><li><span class='ee-k'>crs:</span><span class='ee-v'>EPSG:32635</span></li><li><details><summary>crs_transform: [30, 0, 261585, 0, -30, -1812885]</summary><ul><li><span class='ee-k'>0:</span><span class='ee-v'>30</span></li><li><span class='ee-k'>1:</span><span class='ee-v'>0</span></li><li><span class='ee-k'>2:</span><span class='ee-v'>261585</span></li><li><span class='ee-k'>3:</span><span class='ee-v'>0</span></li><li><span class='ee-k'>4:</span><span class='ee-v'>-30</span></li><li><span class='ee-k'>5:</span><span class='ee-v'>-1812885</span></li></ul></details></li><li><details><summary>data_type: unsigned int16</summary><ul><li><span class='ee-k'>type:</span><span class='ee-v'>PixelType</span></li><li><span class='ee-k'>max:</span><span class='ee-v'>65535</span></li><li><span class='ee-k'>min:</span><span class='ee-v'>0</span></li><li><span class='ee-k'>precision:</span><span class='ee-v'>int</span></li></ul></details></li><li><details><summary>dimensions: [8071, 6971]</summary><ul><li><span class='ee-k'>0:</span><span class='ee-v'>8071</span></li><li><span class='ee-k'>1:</span><span class='ee-v'>6971</span></li></ul></details></li></ul></details></li><li><details><summary>18: \"QA_RADSAT\", unsigned int16, EPSG:32635, 8071x6971 px</summary><ul><li><span class='ee-k'>id:</span><span class='ee-v'>QA_RADSAT</span></li><li><span class='ee-k'>crs:</span><span class='ee-v'>EPSG:32635</span></li><li><details><summary>crs_transform: [30, 0, 261585, 0, -30, -1812885]</summary><ul><li><span class='ee-k'>0:</span><span class='ee-v'>30</span></li><li><span class='ee-k'>1:</span><span class='ee-v'>0</span></li><li><span class='ee-k'>2:</span><span class='ee-v'>261585</span></li><li><span class='ee-k'>3:</span><span class='ee-v'>0</span></li><li><span class='ee-k'>4:</span><span class='ee-v'>-30</span></li><li><span class='ee-k'>5:</span><span class='ee-v'>-1812885</span></li></ul></details></li><li><details><summary>data_type: unsigned int16</summary><ul><li><span class='ee-k'>type:</span><span class='ee-v'>PixelType</span></li><li><span class='ee-k'>max:</span><span class='ee-v'>65535</span></li><li><span class='ee-k'>min:</span><span class='ee-v'>0</span></li><li><span class='ee-k'>precision:</span><span class='ee-v'>int</span></li></ul></details></li><li><details><summary>dimensions: [8071, 6971]</summary><ul><li><span class='ee-k'>0:</span><span class='ee-v'>8071</span></li><li><span class='ee-k'>1:</span><span class='ee-v'>6971</span></li></ul></details></li></ul></details></li></ul></details></li><li><details><summary>properties: Object (130 properties)</summary><ul><li><span class='ee-k'>ALGORITHM_SOURCE_SURFACE_REFLECTANCE:</span><span class='ee-v'>LEDAPS_3.4.0</span></li><li><span class='ee-k'>ALGORITHM_SOURCE_SURFACE_TEMPERATURE:</span><span class='ee-v'>st_1.3.0</span></li><li><span class='ee-k'>CLOUD_COVER:</span><span class='ee-v'>14</span></li><li><span class='ee-k'>CLOUD_COVER_LAND:</span><span class='ee-v'>14</span></li><li><span class='ee-k'>COLLECTION_CATEGORY:</span><span class='ee-v'>T1</span></li><li><span class='ee-k'>COLLECTION_NUMBER:</span><span class='ee-v'>2</span></li><li><span class='ee-k'>CORRECTION_BIAS_BAND_1:</span><span class='ee-v'>INTERNAL_CALIBRATION</span></li><li><span class='ee-k'>CORRECTION_BIAS_BAND_2:</span><span class='ee-v'>INTERNAL_CALIBRATION</span></li><li><span class='ee-k'>CORRECTION_BIAS_BAND_3:</span><span class='ee-v'>INTERNAL_CALIBRATION</span></li><li><span class='ee-k'>CORRECTION_BIAS_BAND_4:</span><span class='ee-v'>INTERNAL_CALIBRATION</span></li><li><span class='ee-k'>CORRECTION_BIAS_BAND_5:</span><span class='ee-v'>INTERNAL_CALIBRATION</span></li><li><span class='ee-k'>CORRECTION_BIAS_BAND_6_VCID_1:</span><span class='ee-v'>INTERNAL_CALIBRATION</span></li><li><span class='ee-k'>CORRECTION_BIAS_BAND_6_VCID_2:</span><span class='ee-v'>INTERNAL_CALIBRATION</span></li><li><span class='ee-k'>CORRECTION_BIAS_BAND_7:</span><span class='ee-v'>INTERNAL_CALIBRATION</span></li><li><span class='ee-k'>CORRECTION_BIAS_BAND_8:</span><span class='ee-v'>INTERNAL_CALIBRATION</span></li><li><span class='ee-k'>CORRECTION_GAIN_BAND_1:</span><span class='ee-v'>CPF</span></li><li><span class='ee-k'>CORRECTION_GAIN_BAND_2:</span><span class='ee-v'>CPF</span></li><li><span class='ee-k'>CORRECTION_GAIN_BAND_3:</span><span class='ee-v'>CPF</span></li><li><span class='ee-k'>CORRECTION_GAIN_BAND_4:</span><span class='ee-v'>CPF</span></li><li><span class='ee-k'>CORRECTION_GAIN_BAND_5:</span><span class='ee-v'>CPF</span></li><li><span class='ee-k'>CORRECTION_GAIN_BAND_6_VCID_1:</span><span class='ee-v'>CPF</span></li><li><span class='ee-k'>CORRECTION_GAIN_BAND_6_VCID_2:</span><span class='ee-v'>CPF</span></li><li><span class='ee-k'>CORRECTION_GAIN_BAND_7:</span><span class='ee-v'>CPF</span></li><li><span class='ee-k'>CORRECTION_GAIN_BAND_8:</span><span class='ee-v'>CPF</span></li><li><span class='ee-k'>DATA_SOURCE_AIR_TEMPERATURE:</span><span class='ee-v'>NCEP</span></li><li><span class='ee-k'>DATA_SOURCE_ELEVATION:</span><span class='ee-v'>GLS2000</span></li><li><span class='ee-k'>DATA_SOURCE_OZONE:</span><span class='ee-v'>TOMS</span></li><li><span class='ee-k'>DATA_SOURCE_PRESSURE:</span><span class='ee-v'>NCEP</span></li><li><span class='ee-k'>DATA_SOURCE_REANALYSIS:</span><span class='ee-v'>GEOS-5 FP-IT</span></li><li><span class='ee-k'>DATA_SOURCE_WATER_VAPOR:</span><span class='ee-v'>NCEP</span></li><li><span class='ee-k'>DATE_ACQUIRED:</span><span class='ee-v'>2016-12-04</span></li><li><span class='ee-k'>DATE_PRODUCT_GENERATED:</span><span class='ee-v'>1602179516000</span></li><li><span class='ee-k'>DATUM:</span><span class='ee-v'>WGS84</span></li><li><span class='ee-k'>EARTH_SUN_DISTANCE:</span><span class='ee-v'>0.985556</span></li><li><span class='ee-k'>ELLIPSOID:</span><span class='ee-v'>WGS84</span></li><li><span class='ee-k'>EPHEMERIS_TYPE:</span><span class='ee-v'>DEFINITIVE</span></li><li><span class='ee-k'>GAIN_BAND_1:</span><span class='ee-v'>H</span></li><li><span class='ee-k'>GAIN_BAND_2:</span><span class='ee-v'>H</span></li><li><span class='ee-k'>GAIN_BAND_3:</span><span class='ee-v'>H</span></li><li><span class='ee-k'>GAIN_BAND_4:</span><span class='ee-v'>L</span></li><li><span class='ee-k'>GAIN_BAND_5:</span><span class='ee-v'>H</span></li><li><span class='ee-k'>GAIN_BAND_6_VCID_1:</span><span class='ee-v'>L</span></li><li><span class='ee-k'>GAIN_BAND_6_VCID_2:</span><span class='ee-v'>H</span></li><li><span class='ee-k'>GAIN_BAND_7:</span><span class='ee-v'>H</span></li><li><span class='ee-k'>GAIN_BAND_8:</span><span class='ee-v'>L</span></li><li><span class='ee-k'>GAIN_CHANGE_BAND_1:</span><span class='ee-v'>HH</span></li><li><span class='ee-k'>GAIN_CHANGE_BAND_2:</span><span class='ee-v'>HH</span></li><li><span class='ee-k'>GAIN_CHANGE_BAND_3:</span><span class='ee-v'>HH</span></li><li><span class='ee-k'>GAIN_CHANGE_BAND_4:</span><span class='ee-v'>LL</span></li><li><span class='ee-k'>GAIN_CHANGE_BAND_5:</span><span class='ee-v'>HH</span></li><li><span class='ee-k'>GAIN_CHANGE_BAND_6_VCID_1:</span><span class='ee-v'>LL</span></li><li><span class='ee-k'>GAIN_CHANGE_BAND_6_VCID_2:</span><span class='ee-v'>HH</span></li><li><span class='ee-k'>GAIN_CHANGE_BAND_7:</span><span class='ee-v'>HH</span></li><li><span class='ee-k'>GAIN_CHANGE_BAND_8:</span><span class='ee-v'>LL</span></li><li><span class='ee-k'>GAIN_CHANGE_SCAN_BAND_1:</span><span class='ee-v'>0</span></li><li><span class='ee-k'>GAIN_CHANGE_SCAN_BAND_2:</span><span class='ee-v'>0</span></li><li><span class='ee-k'>GAIN_CHANGE_SCAN_BAND_3:</span><span class='ee-v'>0</span></li><li><span class='ee-k'>GAIN_CHANGE_SCAN_BAND_4:</span><span class='ee-v'>0</span></li><li><span class='ee-k'>GAIN_CHANGE_SCAN_BAND_5:</span><span class='ee-v'>0</span></li><li><span class='ee-k'>GAIN_CHANGE_SCAN_BAND_6_VCID_1:</span><span class='ee-v'>0</span></li><li><span class='ee-k'>GAIN_CHANGE_SCAN_BAND_6_VCID_2:</span><span class='ee-v'>0</span></li><li><span class='ee-k'>GAIN_CHANGE_SCAN_BAND_7:</span><span class='ee-v'>0</span></li><li><span class='ee-k'>GAIN_CHANGE_SCAN_BAND_8:</span><span class='ee-v'>0</span></li><li><span class='ee-k'>GEOMETRIC_RMSE_MODEL:</span><span class='ee-v'>4.556</span></li><li><span class='ee-k'>GEOMETRIC_RMSE_MODEL_X:</span><span class='ee-v'>3.098</span></li><li><span class='ee-k'>GEOMETRIC_RMSE_MODEL_Y:</span><span class='ee-v'>3.341</span></li><li><span class='ee-k'>GRID_CELL_SIZE_REFLECTIVE:</span><span class='ee-v'>30</span></li><li><span class='ee-k'>GRID_CELL_SIZE_THERMAL:</span><span class='ee-v'>30</span></li><li><span class='ee-k'>GROUND_CONTROL_POINTS_MODEL:</span><span class='ee-v'>396</span></li><li><span class='ee-k'>GROUND_CONTROL_POINTS_VERSION:</span><span class='ee-v'>5</span></li><li><span class='ee-k'>IMAGE_QUALITY:</span><span class='ee-v'>9</span></li><li><span class='ee-k'>L1_DATE_PRODUCT_GENERATED:</span><span class='ee-v'>2020-10-08T17:37:27Z</span></li><li><span class='ee-k'>L1_LANDSAT_PRODUCT_ID:</span><span class='ee-v'>LE07_L1TP_173072_20161204_20201008_02_T1</span></li><li><span class='ee-k'>L1_PROCESSING_LEVEL:</span><span class='ee-v'>L1TP</span></li><li><span class='ee-k'>L1_PROCESSING_SOFTWARE_VERSION:</span><span class='ee-v'>LPGS_15.3.1c</span></li><li><span class='ee-k'>L1_REQUEST_ID:</span><span class='ee-v'>L2</span></li><li><span class='ee-k'>LANDSAT_PRODUCT_ID:</span><span class='ee-v'>LE07_L2SP_173072_20161204_20201008_02_T1</span></li><li><span class='ee-k'>LANDSAT_SCENE_ID:</span><span class='ee-v'>LE71730722016339SG100</span></li><li><span class='ee-k'>MAP_PROJECTION:</span><span class='ee-v'>UTM</span></li><li><span class='ee-k'>ORIENTATION:</span><span class='ee-v'>NORTH_UP</span></li><li><span class='ee-k'>PROCESSING_LEVEL:</span><span class='ee-v'>L2SP</span></li><li><span class='ee-k'>PROCESSING_SOFTWARE_VERSION:</span><span class='ee-v'>LPGS_15.3.1c</span></li><li><span class='ee-k'>REFLECTANCE_ADD_BAND_1:</span><span class='ee-v'>-0.2</span></li><li><span class='ee-k'>REFLECTANCE_ADD_BAND_2:</span><span class='ee-v'>-0.2</span></li><li><span class='ee-k'>REFLECTANCE_ADD_BAND_3:</span><span class='ee-v'>-0.2</span></li><li><span class='ee-k'>REFLECTANCE_ADD_BAND_4:</span><span class='ee-v'>-0.2</span></li><li><span class='ee-k'>REFLECTANCE_ADD_BAND_5:</span><span class='ee-v'>-0.2</span></li><li><span class='ee-k'>REFLECTANCE_ADD_BAND_7:</span><span class='ee-v'>-0.2</span></li><li><span class='ee-k'>REFLECTANCE_MULT_BAND_1:</span><span class='ee-v'>2.75e-05</span></li><li><span class='ee-k'>REFLECTANCE_MULT_BAND_2:</span><span class='ee-v'>2.75e-05</span></li><li><span class='ee-k'>REFLECTANCE_MULT_BAND_3:</span><span class='ee-v'>2.75e-05</span></li><li><span class='ee-k'>REFLECTANCE_MULT_BAND_4:</span><span class='ee-v'>2.75e-05</span></li><li><span class='ee-k'>REFLECTANCE_MULT_BAND_5:</span><span class='ee-v'>2.75e-05</span></li><li><span class='ee-k'>REFLECTANCE_MULT_BAND_7:</span><span class='ee-v'>2.75e-05</span></li><li><span class='ee-k'>REFLECTIVE_LINES:</span><span class='ee-v'>6971</span></li><li><span class='ee-k'>REFLECTIVE_SAMPLES:</span><span class='ee-v'>8071</span></li><li><span class='ee-k'>REQUEST_ID:</span><span class='ee-v'>L2</span></li><li><span class='ee-k'>SATURATION_BAND_1:</span><span class='ee-v'>Y</span></li><li><span class='ee-k'>SATURATION_BAND_2:</span><span class='ee-v'>Y</span></li><li><span class='ee-k'>SATURATION_BAND_3:</span><span class='ee-v'>Y</span></li><li><span class='ee-k'>SATURATION_BAND_4:</span><span class='ee-v'>Y</span></li><li><span class='ee-k'>SATURATION_BAND_5:</span><span class='ee-v'>Y</span></li><li><span class='ee-k'>SATURATION_BAND_6_VCID_1:</span><span class='ee-v'>N</span></li><li><span class='ee-k'>SATURATION_BAND_6_VCID_2:</span><span class='ee-v'>Y</span></li><li><span class='ee-k'>SATURATION_BAND_7:</span><span class='ee-v'>Y</span></li><li><span class='ee-k'>SATURATION_BAND_8:</span><span class='ee-v'>N</span></li><li><span class='ee-k'>SCENE_CENTER_TIME:</span><span class='ee-v'>08:20:58.1751073Z</span></li><li><span class='ee-k'>SENSOR_ANOMALIES:</span><span class='ee-v'>NONE</span></li><li><span class='ee-k'>SENSOR_ID:</span><span class='ee-v'>ETM</span></li><li><span class='ee-k'>SENSOR_MODE:</span><span class='ee-v'>BUMPER</span></li><li><span class='ee-k'>SENSOR_MODE_SLC:</span><span class='ee-v'>OFF</span></li><li><span class='ee-k'>SPACECRAFT_ID:</span><span class='ee-v'>LANDSAT_7</span></li><li><span class='ee-k'>STATION_ID:</span><span class='ee-v'>SG1</span></li><li><span class='ee-k'>SUN_AZIMUTH:</span><span class='ee-v'>105.63862323</span></li><li><span class='ee-k'>SUN_ELEVATION:</span><span class='ee-v'>64.67156304</span></li><li><span class='ee-k'>TEMPERATURE_ADD_BAND_ST_B6:</span><span class='ee-v'>149</span></li><li><span class='ee-k'>TEMPERATURE_MAXIMUM_BAND_ST_B6:</span><span class='ee-v'>372.999941</span></li><li><span class='ee-k'>TEMPERATURE_MINIMUM_BAND_ST_B6:</span><span class='ee-v'>149.003418</span></li><li><span class='ee-k'>TEMPERATURE_MULT_BAND_ST_B6:</span><span class='ee-v'>0.00341802</span></li><li><span class='ee-k'>THERMAL_LINES:</span><span class='ee-v'>6971</span></li><li><span class='ee-k'>THERMAL_SAMPLES:</span><span class='ee-v'>8071</span></li><li><span class='ee-k'>UTM_ZONE:</span><span class='ee-v'>35</span></li><li><span class='ee-k'>WRS_PATH:</span><span class='ee-v'>173</span></li><li><span class='ee-k'>WRS_ROW:</span><span class='ee-v'>72</span></li><li><span class='ee-k'>WRS_TYPE:</span><span class='ee-v'>2</span></li><li><span class='ee-k'>system:asset_size:</span><span class='ee-v'>599091390</span></li><li><details><summary>system:footprint: LinearRing (19 vertices)</summary><ul><li><span class='ee-k'>type:</span><span class='ee-v'>LinearRing</span></li><li><details><summary>coordinates: List (19 elements)</summary><ul><li><details><summary>0: [26.97762081674592, -16.664307530501688]</summary><ul><li><span class='ee-k'>0:</span><span class='ee-v'>26.97762081674592</span></li><li><span class='ee-k'>1:</span><span class='ee-v'>-16.664307530501688</span></li></ul></details></li><li><details><summary>1: [26.87227440175173, -16.64922402118414]</summary><ul><li><span class='ee-k'>0:</span><span class='ee-v'>26.87227440175173</span></li><li><span class='ee-k'>1:</span><span class='ee-v'>-16.64922402118414</span></li></ul></details></li><li><details><summary>2: [25.184862705305218, -16.400164736740123]</summary><ul><li><span class='ee-k'>0:</span><span class='ee-v'>25.184862705305218</span></li><li><span class='ee-k'>1:</span><span class='ee-v'>-16.400164736740123</span></li></ul></details></li><li><details><summary>3: [25.18038960486702, -16.406937234945563]</summary><ul><li><span class='ee-k'>0:</span><span class='ee-v'>25.18038960486702</span></li><li><span class='ee-k'>1:</span><span class='ee-v'>-16.406937234945563</span></li></ul></details></li><li><details><summary>4: [25.176357464147948, -16.415619658624102]</summary><ul><li><span class='ee-k'>0:</span><span class='ee-v'>25.176357464147948</span></li><li><span class='ee-k'>1:</span><span class='ee-v'>-16.415619658624102</span></li></ul></details></li><li><details><summary>5: [25.06751268703632, -16.87900902748636]</summary><ul><li><span class='ee-k'>0:</span><span class='ee-v'>25.06751268703632</span></li><li><span class='ee-k'>1:</span><span class='ee-v'>-16.87900902748636</span></li></ul></details></li><li><details><summary>6: [24.87648922701234, -17.704285485250892]</summary><ul><li><span class='ee-k'>0:</span><span class='ee-v'>24.87648922701234</span></li><li><span class='ee-k'>1:</span><span class='ee-v'>-17.704285485250892</span></li></ul></details></li><li><details><summary>7: [24.83111595789889, -17.902438997200715]</summary><ul><li><span class='ee-k'>0:</span><span class='ee-v'>24.83111595789889</span></li><li><span class='ee-k'>1:</span><span class='ee-v'>-17.902438997200715</span></li></ul></details></li><li><details><summary>8: [24.812511605190085, -17.988141725610376]</summary><ul><li><span class='ee-k'>0:</span><span class='ee-v'>24.812511605190085</span></li><li><span class='ee-k'>1:</span><span class='ee-v'>-17.988141725610376</span></li></ul></details></li><li><details><summary>9: [24.80907140603871, -18.005763934350128]</summary><ul><li><span class='ee-k'>0:</span><span class='ee-v'>24.80907140603871</span></li><li><span class='ee-k'>1:</span><span class='ee-v'>-18.005763934350128</span></li></ul></details></li><li><details><summary>10: [24.812577083304895, -18.009511083851404]</summary><ul><li><span class='ee-k'>0:</span><span class='ee-v'>24.812577083304895</span></li><li><span class='ee-k'>1:</span><span class='ee-v'>-18.009511083851404</span></li></ul></details></li><li><details><summary>11: [25.939285582365848, -18.177416297867477]</summary><ul><li><span class='ee-k'>0:</span><span class='ee-v'>25.939285582365848</span></li><li><span class='ee-k'>1:</span><span class='ee-v'>-18.177416297867477</span></li></ul></details></li><li><details><summary>12: [26.371855180137977, -18.240050385570562]</summary><ul><li><span class='ee-k'>0:</span><span class='ee-v'>26.371855180137977</span></li><li><span class='ee-k'>1:</span><span class='ee-v'>-18.240050385570562</span></li></ul></details></li><li><details><summary>13: [26.623075765369364, -18.27595163689193]</summary><ul><li><span class='ee-k'>0:</span><span class='ee-v'>26.623075765369364</span></li><li><span class='ee-k'>1:</span><span class='ee-v'>-18.27595163689193</span></li></ul></details></li><li><details><summary>14: [26.627260268385022, -18.273393347424097]</summary><ul><li><span class='ee-k'>0:</span><span class='ee-v'>26.627260268385022</span></li><li><span class='ee-k'>1:</span><span class='ee-v'>-18.273393347424097</span></li></ul></details></li><li><details><summary>15: [26.669646876373726, -18.08409792654698]</summary><ul><li><span class='ee-k'>0:</span><span class='ee-v'>26.669646876373726</span></li><li><span class='ee-k'>1:</span><span class='ee-v'>-18.08409792654698</span></li></ul></details></li><li><details><summary>16: [26.976311672728393, -16.68972060278236]</summary><ul><li><span class='ee-k'>0:</span><span class='ee-v'>26.976311672728393</span></li><li><span class='ee-k'>1:</span><span class='ee-v'>-16.68972060278236</span></li></ul></details></li><li><details><summary>17: [26.979985052475367, -16.672571998476236]</summary><ul><li><span class='ee-k'>0:</span><span class='ee-v'>26.979985052475367</span></li><li><span class='ee-k'>1:</span><span class='ee-v'>-16.672571998476236</span></li></ul></details></li><li><details><summary>18: [26.97762081674592, -16.664307530501688]</summary><ul><li><span class='ee-k'>0:</span><span class='ee-v'>26.97762081674592</span></li><li><span class='ee-k'>1:</span><span class='ee-v'>-16.664307530501688</span></li></ul></details></li></ul></details></li></ul></details></li><li><span class='ee-k'>system:index:</span><span class='ee-v'>LE07_173072_20161204</span></li><li><span class='ee-k'>system:time_end:</span><span class='ee-v'>1480839658175</span></li><li><span class='ee-k'>system:time_start:</span><span class='ee-v'>1480839658175</span></li></ul></details></li></ul></details></li><li><details><summary>6: Image LANDSAT/LE07/C02/T1_L2/LE07_173072_20171105 (19 bands)</summary><ul><li><span class='ee-k'>type:</span><span class='ee-v'>Image</span></li><li><span class='ee-k'>id:</span><span class='ee-v'>LANDSAT/LE07/C02/T1_L2/LE07_173072_20171105</span></li><li><span class='ee-k'>version:</span><span class='ee-v'>1624536678849160.0</span></li><li><details><summary>bands: List (19 elements)</summary><ul><li><details><summary>0: \"SR_B1\", unsigned int16, EPSG:32635, 8081x6941 px</summary><ul><li><span class='ee-k'>id:</span><span class='ee-v'>SR_B1</span></li><li><span class='ee-k'>crs:</span><span class='ee-v'>EPSG:32635</span></li><li><details><summary>crs_transform: [30, 0, 255885, 0, -30, -1813185]</summary><ul><li><span class='ee-k'>0:</span><span class='ee-v'>30</span></li><li><span class='ee-k'>1:</span><span class='ee-v'>0</span></li><li><span class='ee-k'>2:</span><span class='ee-v'>255885</span></li><li><span class='ee-k'>3:</span><span class='ee-v'>0</span></li><li><span class='ee-k'>4:</span><span class='ee-v'>-30</span></li><li><span class='ee-k'>5:</span><span class='ee-v'>-1813185</span></li></ul></details></li><li><details><summary>data_type: unsigned int16</summary><ul><li><span class='ee-k'>type:</span><span class='ee-v'>PixelType</span></li><li><span class='ee-k'>max:</span><span class='ee-v'>65535</span></li><li><span class='ee-k'>min:</span><span class='ee-v'>0</span></li><li><span class='ee-k'>precision:</span><span class='ee-v'>int</span></li></ul></details></li><li><details><summary>dimensions: [8081, 6941]</summary><ul><li><span class='ee-k'>0:</span><span class='ee-v'>8081</span></li><li><span class='ee-k'>1:</span><span class='ee-v'>6941</span></li></ul></details></li></ul></details></li><li><details><summary>1: \"SR_B2\", unsigned int16, EPSG:32635, 8081x6941 px</summary><ul><li><span class='ee-k'>id:</span><span class='ee-v'>SR_B2</span></li><li><span class='ee-k'>crs:</span><span class='ee-v'>EPSG:32635</span></li><li><details><summary>crs_transform: [30, 0, 255885, 0, -30, -1813185]</summary><ul><li><span class='ee-k'>0:</span><span class='ee-v'>30</span></li><li><span class='ee-k'>1:</span><span class='ee-v'>0</span></li><li><span class='ee-k'>2:</span><span class='ee-v'>255885</span></li><li><span class='ee-k'>3:</span><span class='ee-v'>0</span></li><li><span class='ee-k'>4:</span><span class='ee-v'>-30</span></li><li><span class='ee-k'>5:</span><span class='ee-v'>-1813185</span></li></ul></details></li><li><details><summary>data_type: unsigned int16</summary><ul><li><span class='ee-k'>type:</span><span class='ee-v'>PixelType</span></li><li><span class='ee-k'>max:</span><span class='ee-v'>65535</span></li><li><span class='ee-k'>min:</span><span class='ee-v'>0</span></li><li><span class='ee-k'>precision:</span><span class='ee-v'>int</span></li></ul></details></li><li><details><summary>dimensions: [8081, 6941]</summary><ul><li><span class='ee-k'>0:</span><span class='ee-v'>8081</span></li><li><span class='ee-k'>1:</span><span class='ee-v'>6941</span></li></ul></details></li></ul></details></li><li><details><summary>2: \"SR_B3\", unsigned int16, EPSG:32635, 8081x6941 px</summary><ul><li><span class='ee-k'>id:</span><span class='ee-v'>SR_B3</span></li><li><span class='ee-k'>crs:</span><span class='ee-v'>EPSG:32635</span></li><li><details><summary>crs_transform: [30, 0, 255885, 0, -30, -1813185]</summary><ul><li><span class='ee-k'>0:</span><span class='ee-v'>30</span></li><li><span class='ee-k'>1:</span><span class='ee-v'>0</span></li><li><span class='ee-k'>2:</span><span class='ee-v'>255885</span></li><li><span class='ee-k'>3:</span><span class='ee-v'>0</span></li><li><span class='ee-k'>4:</span><span class='ee-v'>-30</span></li><li><span class='ee-k'>5:</span><span class='ee-v'>-1813185</span></li></ul></details></li><li><details><summary>data_type: unsigned int16</summary><ul><li><span class='ee-k'>type:</span><span class='ee-v'>PixelType</span></li><li><span class='ee-k'>max:</span><span class='ee-v'>65535</span></li><li><span class='ee-k'>min:</span><span class='ee-v'>0</span></li><li><span class='ee-k'>precision:</span><span class='ee-v'>int</span></li></ul></details></li><li><details><summary>dimensions: [8081, 6941]</summary><ul><li><span class='ee-k'>0:</span><span class='ee-v'>8081</span></li><li><span class='ee-k'>1:</span><span class='ee-v'>6941</span></li></ul></details></li></ul></details></li><li><details><summary>3: \"SR_B4\", unsigned int16, EPSG:32635, 8081x6941 px</summary><ul><li><span class='ee-k'>id:</span><span class='ee-v'>SR_B4</span></li><li><span class='ee-k'>crs:</span><span class='ee-v'>EPSG:32635</span></li><li><details><summary>crs_transform: [30, 0, 255885, 0, -30, -1813185]</summary><ul><li><span class='ee-k'>0:</span><span class='ee-v'>30</span></li><li><span class='ee-k'>1:</span><span class='ee-v'>0</span></li><li><span class='ee-k'>2:</span><span class='ee-v'>255885</span></li><li><span class='ee-k'>3:</span><span class='ee-v'>0</span></li><li><span class='ee-k'>4:</span><span class='ee-v'>-30</span></li><li><span class='ee-k'>5:</span><span class='ee-v'>-1813185</span></li></ul></details></li><li><details><summary>data_type: unsigned int16</summary><ul><li><span class='ee-k'>type:</span><span class='ee-v'>PixelType</span></li><li><span class='ee-k'>max:</span><span class='ee-v'>65535</span></li><li><span class='ee-k'>min:</span><span class='ee-v'>0</span></li><li><span class='ee-k'>precision:</span><span class='ee-v'>int</span></li></ul></details></li><li><details><summary>dimensions: [8081, 6941]</summary><ul><li><span class='ee-k'>0:</span><span class='ee-v'>8081</span></li><li><span class='ee-k'>1:</span><span class='ee-v'>6941</span></li></ul></details></li></ul></details></li><li><details><summary>4: \"SR_B5\", unsigned int16, EPSG:32635, 8081x6941 px</summary><ul><li><span class='ee-k'>id:</span><span class='ee-v'>SR_B5</span></li><li><span class='ee-k'>crs:</span><span class='ee-v'>EPSG:32635</span></li><li><details><summary>crs_transform: [30, 0, 255885, 0, -30, -1813185]</summary><ul><li><span class='ee-k'>0:</span><span class='ee-v'>30</span></li><li><span class='ee-k'>1:</span><span class='ee-v'>0</span></li><li><span class='ee-k'>2:</span><span class='ee-v'>255885</span></li><li><span class='ee-k'>3:</span><span class='ee-v'>0</span></li><li><span class='ee-k'>4:</span><span class='ee-v'>-30</span></li><li><span class='ee-k'>5:</span><span class='ee-v'>-1813185</span></li></ul></details></li><li><details><summary>data_type: unsigned int16</summary><ul><li><span class='ee-k'>type:</span><span class='ee-v'>PixelType</span></li><li><span class='ee-k'>max:</span><span class='ee-v'>65535</span></li><li><span class='ee-k'>min:</span><span class='ee-v'>0</span></li><li><span class='ee-k'>precision:</span><span class='ee-v'>int</span></li></ul></details></li><li><details><summary>dimensions: [8081, 6941]</summary><ul><li><span class='ee-k'>0:</span><span class='ee-v'>8081</span></li><li><span class='ee-k'>1:</span><span class='ee-v'>6941</span></li></ul></details></li></ul></details></li><li><details><summary>5: \"SR_B7\", unsigned int16, EPSG:32635, 8081x6941 px</summary><ul><li><span class='ee-k'>id:</span><span class='ee-v'>SR_B7</span></li><li><span class='ee-k'>crs:</span><span class='ee-v'>EPSG:32635</span></li><li><details><summary>crs_transform: [30, 0, 255885, 0, -30, -1813185]</summary><ul><li><span class='ee-k'>0:</span><span class='ee-v'>30</span></li><li><span class='ee-k'>1:</span><span class='ee-v'>0</span></li><li><span class='ee-k'>2:</span><span class='ee-v'>255885</span></li><li><span class='ee-k'>3:</span><span class='ee-v'>0</span></li><li><span class='ee-k'>4:</span><span class='ee-v'>-30</span></li><li><span class='ee-k'>5:</span><span class='ee-v'>-1813185</span></li></ul></details></li><li><details><summary>data_type: unsigned int16</summary><ul><li><span class='ee-k'>type:</span><span class='ee-v'>PixelType</span></li><li><span class='ee-k'>max:</span><span class='ee-v'>65535</span></li><li><span class='ee-k'>min:</span><span class='ee-v'>0</span></li><li><span class='ee-k'>precision:</span><span class='ee-v'>int</span></li></ul></details></li><li><details><summary>dimensions: [8081, 6941]</summary><ul><li><span class='ee-k'>0:</span><span class='ee-v'>8081</span></li><li><span class='ee-k'>1:</span><span class='ee-v'>6941</span></li></ul></details></li></ul></details></li><li><details><summary>6: \"SR_ATMOS_OPACITY\", signed int16, EPSG:32635, 8081x6941 px</summary><ul><li><span class='ee-k'>id:</span><span class='ee-v'>SR_ATMOS_OPACITY</span></li><li><span class='ee-k'>crs:</span><span class='ee-v'>EPSG:32635</span></li><li><details><summary>crs_transform: [30, 0, 255885, 0, -30, -1813185]</summary><ul><li><span class='ee-k'>0:</span><span class='ee-v'>30</span></li><li><span class='ee-k'>1:</span><span class='ee-v'>0</span></li><li><span class='ee-k'>2:</span><span class='ee-v'>255885</span></li><li><span class='ee-k'>3:</span><span class='ee-v'>0</span></li><li><span class='ee-k'>4:</span><span class='ee-v'>-30</span></li><li><span class='ee-k'>5:</span><span class='ee-v'>-1813185</span></li></ul></details></li><li><details><summary>data_type: signed int16</summary><ul><li><span class='ee-k'>type:</span><span class='ee-v'>PixelType</span></li><li><span class='ee-k'>max:</span><span class='ee-v'>32767</span></li><li><span class='ee-k'>min:</span><span class='ee-v'>-32768</span></li><li><span class='ee-k'>precision:</span><span class='ee-v'>int</span></li></ul></details></li><li><details><summary>dimensions: [8081, 6941]</summary><ul><li><span class='ee-k'>0:</span><span class='ee-v'>8081</span></li><li><span class='ee-k'>1:</span><span class='ee-v'>6941</span></li></ul></details></li></ul></details></li><li><details><summary>7: \"SR_CLOUD_QA\", unsigned int8, EPSG:32635, 8081x6941 px</summary><ul><li><span class='ee-k'>id:</span><span class='ee-v'>SR_CLOUD_QA</span></li><li><span class='ee-k'>crs:</span><span class='ee-v'>EPSG:32635</span></li><li><details><summary>crs_transform: [30, 0, 255885, 0, -30, -1813185]</summary><ul><li><span class='ee-k'>0:</span><span class='ee-v'>30</span></li><li><span class='ee-k'>1:</span><span class='ee-v'>0</span></li><li><span class='ee-k'>2:</span><span class='ee-v'>255885</span></li><li><span class='ee-k'>3:</span><span class='ee-v'>0</span></li><li><span class='ee-k'>4:</span><span class='ee-v'>-30</span></li><li><span class='ee-k'>5:</span><span class='ee-v'>-1813185</span></li></ul></details></li><li><details><summary>data_type: unsigned int8</summary><ul><li><span class='ee-k'>type:</span><span class='ee-v'>PixelType</span></li><li><span class='ee-k'>max:</span><span class='ee-v'>255</span></li><li><span class='ee-k'>min:</span><span class='ee-v'>0</span></li><li><span class='ee-k'>precision:</span><span class='ee-v'>int</span></li></ul></details></li><li><details><summary>dimensions: [8081, 6941]</summary><ul><li><span class='ee-k'>0:</span><span class='ee-v'>8081</span></li><li><span class='ee-k'>1:</span><span class='ee-v'>6941</span></li></ul></details></li></ul></details></li><li><details><summary>8: \"ST_B6\", unsigned int16, EPSG:32635, 8081x6941 px</summary><ul><li><span class='ee-k'>id:</span><span class='ee-v'>ST_B6</span></li><li><span class='ee-k'>crs:</span><span class='ee-v'>EPSG:32635</span></li><li><details><summary>crs_transform: [30, 0, 255885, 0, -30, -1813185]</summary><ul><li><span class='ee-k'>0:</span><span class='ee-v'>30</span></li><li><span class='ee-k'>1:</span><span class='ee-v'>0</span></li><li><span class='ee-k'>2:</span><span class='ee-v'>255885</span></li><li><span class='ee-k'>3:</span><span class='ee-v'>0</span></li><li><span class='ee-k'>4:</span><span class='ee-v'>-30</span></li><li><span class='ee-k'>5:</span><span class='ee-v'>-1813185</span></li></ul></details></li><li><details><summary>data_type: unsigned int16</summary><ul><li><span class='ee-k'>type:</span><span class='ee-v'>PixelType</span></li><li><span class='ee-k'>max:</span><span class='ee-v'>65535</span></li><li><span class='ee-k'>min:</span><span class='ee-v'>0</span></li><li><span class='ee-k'>precision:</span><span class='ee-v'>int</span></li></ul></details></li><li><details><summary>dimensions: [8081, 6941]</summary><ul><li><span class='ee-k'>0:</span><span class='ee-v'>8081</span></li><li><span class='ee-k'>1:</span><span class='ee-v'>6941</span></li></ul></details></li></ul></details></li><li><details><summary>9: \"ST_ATRAN\", signed int16, EPSG:32635, 8081x6941 px</summary><ul><li><span class='ee-k'>id:</span><span class='ee-v'>ST_ATRAN</span></li><li><span class='ee-k'>crs:</span><span class='ee-v'>EPSG:32635</span></li><li><details><summary>crs_transform: [30, 0, 255885, 0, -30, -1813185]</summary><ul><li><span class='ee-k'>0:</span><span class='ee-v'>30</span></li><li><span class='ee-k'>1:</span><span class='ee-v'>0</span></li><li><span class='ee-k'>2:</span><span class='ee-v'>255885</span></li><li><span class='ee-k'>3:</span><span class='ee-v'>0</span></li><li><span class='ee-k'>4:</span><span class='ee-v'>-30</span></li><li><span class='ee-k'>5:</span><span class='ee-v'>-1813185</span></li></ul></details></li><li><details><summary>data_type: signed int16</summary><ul><li><span class='ee-k'>type:</span><span class='ee-v'>PixelType</span></li><li><span class='ee-k'>max:</span><span class='ee-v'>32767</span></li><li><span class='ee-k'>min:</span><span class='ee-v'>-32768</span></li><li><span class='ee-k'>precision:</span><span class='ee-v'>int</span></li></ul></details></li><li><details><summary>dimensions: [8081, 6941]</summary><ul><li><span class='ee-k'>0:</span><span class='ee-v'>8081</span></li><li><span class='ee-k'>1:</span><span class='ee-v'>6941</span></li></ul></details></li></ul></details></li><li><details><summary>10: \"ST_CDIST\", signed int16, EPSG:32635, 8081x6941 px</summary><ul><li><span class='ee-k'>id:</span><span class='ee-v'>ST_CDIST</span></li><li><span class='ee-k'>crs:</span><span class='ee-v'>EPSG:32635</span></li><li><details><summary>crs_transform: [30, 0, 255885, 0, -30, -1813185]</summary><ul><li><span class='ee-k'>0:</span><span class='ee-v'>30</span></li><li><span class='ee-k'>1:</span><span class='ee-v'>0</span></li><li><span class='ee-k'>2:</span><span class='ee-v'>255885</span></li><li><span class='ee-k'>3:</span><span class='ee-v'>0</span></li><li><span class='ee-k'>4:</span><span class='ee-v'>-30</span></li><li><span class='ee-k'>5:</span><span class='ee-v'>-1813185</span></li></ul></details></li><li><details><summary>data_type: signed int16</summary><ul><li><span class='ee-k'>type:</span><span class='ee-v'>PixelType</span></li><li><span class='ee-k'>max:</span><span class='ee-v'>32767</span></li><li><span class='ee-k'>min:</span><span class='ee-v'>-32768</span></li><li><span class='ee-k'>precision:</span><span class='ee-v'>int</span></li></ul></details></li><li><details><summary>dimensions: [8081, 6941]</summary><ul><li><span class='ee-k'>0:</span><span class='ee-v'>8081</span></li><li><span class='ee-k'>1:</span><span class='ee-v'>6941</span></li></ul></details></li></ul></details></li><li><details><summary>11: \"ST_DRAD\", signed int16, EPSG:32635, 8081x6941 px</summary><ul><li><span class='ee-k'>id:</span><span class='ee-v'>ST_DRAD</span></li><li><span class='ee-k'>crs:</span><span class='ee-v'>EPSG:32635</span></li><li><details><summary>crs_transform: [30, 0, 255885, 0, -30, -1813185]</summary><ul><li><span class='ee-k'>0:</span><span class='ee-v'>30</span></li><li><span class='ee-k'>1:</span><span class='ee-v'>0</span></li><li><span class='ee-k'>2:</span><span class='ee-v'>255885</span></li><li><span class='ee-k'>3:</span><span class='ee-v'>0</span></li><li><span class='ee-k'>4:</span><span class='ee-v'>-30</span></li><li><span class='ee-k'>5:</span><span class='ee-v'>-1813185</span></li></ul></details></li><li><details><summary>data_type: signed int16</summary><ul><li><span class='ee-k'>type:</span><span class='ee-v'>PixelType</span></li><li><span class='ee-k'>max:</span><span class='ee-v'>32767</span></li><li><span class='ee-k'>min:</span><span class='ee-v'>-32768</span></li><li><span class='ee-k'>precision:</span><span class='ee-v'>int</span></li></ul></details></li><li><details><summary>dimensions: [8081, 6941]</summary><ul><li><span class='ee-k'>0:</span><span class='ee-v'>8081</span></li><li><span class='ee-k'>1:</span><span class='ee-v'>6941</span></li></ul></details></li></ul></details></li><li><details><summary>12: \"ST_EMIS\", signed int16, EPSG:32635, 8081x6941 px</summary><ul><li><span class='ee-k'>id:</span><span class='ee-v'>ST_EMIS</span></li><li><span class='ee-k'>crs:</span><span class='ee-v'>EPSG:32635</span></li><li><details><summary>crs_transform: [30, 0, 255885, 0, -30, -1813185]</summary><ul><li><span class='ee-k'>0:</span><span class='ee-v'>30</span></li><li><span class='ee-k'>1:</span><span class='ee-v'>0</span></li><li><span class='ee-k'>2:</span><span class='ee-v'>255885</span></li><li><span class='ee-k'>3:</span><span class='ee-v'>0</span></li><li><span class='ee-k'>4:</span><span class='ee-v'>-30</span></li><li><span class='ee-k'>5:</span><span class='ee-v'>-1813185</span></li></ul></details></li><li><details><summary>data_type: signed int16</summary><ul><li><span class='ee-k'>type:</span><span class='ee-v'>PixelType</span></li><li><span class='ee-k'>max:</span><span class='ee-v'>32767</span></li><li><span class='ee-k'>min:</span><span class='ee-v'>-32768</span></li><li><span class='ee-k'>precision:</span><span class='ee-v'>int</span></li></ul></details></li><li><details><summary>dimensions: [8081, 6941]</summary><ul><li><span class='ee-k'>0:</span><span class='ee-v'>8081</span></li><li><span class='ee-k'>1:</span><span class='ee-v'>6941</span></li></ul></details></li></ul></details></li><li><details><summary>13: \"ST_EMSD\", signed int16, EPSG:32635, 8081x6941 px</summary><ul><li><span class='ee-k'>id:</span><span class='ee-v'>ST_EMSD</span></li><li><span class='ee-k'>crs:</span><span class='ee-v'>EPSG:32635</span></li><li><details><summary>crs_transform: [30, 0, 255885, 0, -30, -1813185]</summary><ul><li><span class='ee-k'>0:</span><span class='ee-v'>30</span></li><li><span class='ee-k'>1:</span><span class='ee-v'>0</span></li><li><span class='ee-k'>2:</span><span class='ee-v'>255885</span></li><li><span class='ee-k'>3:</span><span class='ee-v'>0</span></li><li><span class='ee-k'>4:</span><span class='ee-v'>-30</span></li><li><span class='ee-k'>5:</span><span class='ee-v'>-1813185</span></li></ul></details></li><li><details><summary>data_type: signed int16</summary><ul><li><span class='ee-k'>type:</span><span class='ee-v'>PixelType</span></li><li><span class='ee-k'>max:</span><span class='ee-v'>32767</span></li><li><span class='ee-k'>min:</span><span class='ee-v'>-32768</span></li><li><span class='ee-k'>precision:</span><span class='ee-v'>int</span></li></ul></details></li><li><details><summary>dimensions: [8081, 6941]</summary><ul><li><span class='ee-k'>0:</span><span class='ee-v'>8081</span></li><li><span class='ee-k'>1:</span><span class='ee-v'>6941</span></li></ul></details></li></ul></details></li><li><details><summary>14: \"ST_QA\", signed int16, EPSG:32635, 8081x6941 px</summary><ul><li><span class='ee-k'>id:</span><span class='ee-v'>ST_QA</span></li><li><span class='ee-k'>crs:</span><span class='ee-v'>EPSG:32635</span></li><li><details><summary>crs_transform: [30, 0, 255885, 0, -30, -1813185]</summary><ul><li><span class='ee-k'>0:</span><span class='ee-v'>30</span></li><li><span class='ee-k'>1:</span><span class='ee-v'>0</span></li><li><span class='ee-k'>2:</span><span class='ee-v'>255885</span></li><li><span class='ee-k'>3:</span><span class='ee-v'>0</span></li><li><span class='ee-k'>4:</span><span class='ee-v'>-30</span></li><li><span class='ee-k'>5:</span><span class='ee-v'>-1813185</span></li></ul></details></li><li><details><summary>data_type: signed int16</summary><ul><li><span class='ee-k'>type:</span><span class='ee-v'>PixelType</span></li><li><span class='ee-k'>max:</span><span class='ee-v'>32767</span></li><li><span class='ee-k'>min:</span><span class='ee-v'>-32768</span></li><li><span class='ee-k'>precision:</span><span class='ee-v'>int</span></li></ul></details></li><li><details><summary>dimensions: [8081, 6941]</summary><ul><li><span class='ee-k'>0:</span><span class='ee-v'>8081</span></li><li><span class='ee-k'>1:</span><span class='ee-v'>6941</span></li></ul></details></li></ul></details></li><li><details><summary>15: \"ST_TRAD\", signed int16, EPSG:32635, 8081x6941 px</summary><ul><li><span class='ee-k'>id:</span><span class='ee-v'>ST_TRAD</span></li><li><span class='ee-k'>crs:</span><span class='ee-v'>EPSG:32635</span></li><li><details><summary>crs_transform: [30, 0, 255885, 0, -30, -1813185]</summary><ul><li><span class='ee-k'>0:</span><span class='ee-v'>30</span></li><li><span class='ee-k'>1:</span><span class='ee-v'>0</span></li><li><span class='ee-k'>2:</span><span class='ee-v'>255885</span></li><li><span class='ee-k'>3:</span><span class='ee-v'>0</span></li><li><span class='ee-k'>4:</span><span class='ee-v'>-30</span></li><li><span class='ee-k'>5:</span><span class='ee-v'>-1813185</span></li></ul></details></li><li><details><summary>data_type: signed int16</summary><ul><li><span class='ee-k'>type:</span><span class='ee-v'>PixelType</span></li><li><span class='ee-k'>max:</span><span class='ee-v'>32767</span></li><li><span class='ee-k'>min:</span><span class='ee-v'>-32768</span></li><li><span class='ee-k'>precision:</span><span class='ee-v'>int</span></li></ul></details></li><li><details><summary>dimensions: [8081, 6941]</summary><ul><li><span class='ee-k'>0:</span><span class='ee-v'>8081</span></li><li><span class='ee-k'>1:</span><span class='ee-v'>6941</span></li></ul></details></li></ul></details></li><li><details><summary>16: \"ST_URAD\", signed int16, EPSG:32635, 8081x6941 px</summary><ul><li><span class='ee-k'>id:</span><span class='ee-v'>ST_URAD</span></li><li><span class='ee-k'>crs:</span><span class='ee-v'>EPSG:32635</span></li><li><details><summary>crs_transform: [30, 0, 255885, 0, -30, -1813185]</summary><ul><li><span class='ee-k'>0:</span><span class='ee-v'>30</span></li><li><span class='ee-k'>1:</span><span class='ee-v'>0</span></li><li><span class='ee-k'>2:</span><span class='ee-v'>255885</span></li><li><span class='ee-k'>3:</span><span class='ee-v'>0</span></li><li><span class='ee-k'>4:</span><span class='ee-v'>-30</span></li><li><span class='ee-k'>5:</span><span class='ee-v'>-1813185</span></li></ul></details></li><li><details><summary>data_type: signed int16</summary><ul><li><span class='ee-k'>type:</span><span class='ee-v'>PixelType</span></li><li><span class='ee-k'>max:</span><span class='ee-v'>32767</span></li><li><span class='ee-k'>min:</span><span class='ee-v'>-32768</span></li><li><span class='ee-k'>precision:</span><span class='ee-v'>int</span></li></ul></details></li><li><details><summary>dimensions: [8081, 6941]</summary><ul><li><span class='ee-k'>0:</span><span class='ee-v'>8081</span></li><li><span class='ee-k'>1:</span><span class='ee-v'>6941</span></li></ul></details></li></ul></details></li><li><details><summary>17: \"QA_PIXEL\", unsigned int16, EPSG:32635, 8081x6941 px</summary><ul><li><span class='ee-k'>id:</span><span class='ee-v'>QA_PIXEL</span></li><li><span class='ee-k'>crs:</span><span class='ee-v'>EPSG:32635</span></li><li><details><summary>crs_transform: [30, 0, 255885, 0, -30, -1813185]</summary><ul><li><span class='ee-k'>0:</span><span class='ee-v'>30</span></li><li><span class='ee-k'>1:</span><span class='ee-v'>0</span></li><li><span class='ee-k'>2:</span><span class='ee-v'>255885</span></li><li><span class='ee-k'>3:</span><span class='ee-v'>0</span></li><li><span class='ee-k'>4:</span><span class='ee-v'>-30</span></li><li><span class='ee-k'>5:</span><span class='ee-v'>-1813185</span></li></ul></details></li><li><details><summary>data_type: unsigned int16</summary><ul><li><span class='ee-k'>type:</span><span class='ee-v'>PixelType</span></li><li><span class='ee-k'>max:</span><span class='ee-v'>65535</span></li><li><span class='ee-k'>min:</span><span class='ee-v'>0</span></li><li><span class='ee-k'>precision:</span><span class='ee-v'>int</span></li></ul></details></li><li><details><summary>dimensions: [8081, 6941]</summary><ul><li><span class='ee-k'>0:</span><span class='ee-v'>8081</span></li><li><span class='ee-k'>1:</span><span class='ee-v'>6941</span></li></ul></details></li></ul></details></li><li><details><summary>18: \"QA_RADSAT\", unsigned int16, EPSG:32635, 8081x6941 px</summary><ul><li><span class='ee-k'>id:</span><span class='ee-v'>QA_RADSAT</span></li><li><span class='ee-k'>crs:</span><span class='ee-v'>EPSG:32635</span></li><li><details><summary>crs_transform: [30, 0, 255885, 0, -30, -1813185]</summary><ul><li><span class='ee-k'>0:</span><span class='ee-v'>30</span></li><li><span class='ee-k'>1:</span><span class='ee-v'>0</span></li><li><span class='ee-k'>2:</span><span class='ee-v'>255885</span></li><li><span class='ee-k'>3:</span><span class='ee-v'>0</span></li><li><span class='ee-k'>4:</span><span class='ee-v'>-30</span></li><li><span class='ee-k'>5:</span><span class='ee-v'>-1813185</span></li></ul></details></li><li><details><summary>data_type: unsigned int16</summary><ul><li><span class='ee-k'>type:</span><span class='ee-v'>PixelType</span></li><li><span class='ee-k'>max:</span><span class='ee-v'>65535</span></li><li><span class='ee-k'>min:</span><span class='ee-v'>0</span></li><li><span class='ee-k'>precision:</span><span class='ee-v'>int</span></li></ul></details></li><li><details><summary>dimensions: [8081, 6941]</summary><ul><li><span class='ee-k'>0:</span><span class='ee-v'>8081</span></li><li><span class='ee-k'>1:</span><span class='ee-v'>6941</span></li></ul></details></li></ul></details></li></ul></details></li><li><details><summary>properties: Object (130 properties)</summary><ul><li><span class='ee-k'>ALGORITHM_SOURCE_SURFACE_REFLECTANCE:</span><span class='ee-v'>LEDAPS_3.4.0</span></li><li><span class='ee-k'>ALGORITHM_SOURCE_SURFACE_TEMPERATURE:</span><span class='ee-v'>st_1.3.0</span></li><li><span class='ee-k'>CLOUD_COVER:</span><span class='ee-v'>0</span></li><li><span class='ee-k'>CLOUD_COVER_LAND:</span><span class='ee-v'>0</span></li><li><span class='ee-k'>COLLECTION_CATEGORY:</span><span class='ee-v'>T1</span></li><li><span class='ee-k'>COLLECTION_NUMBER:</span><span class='ee-v'>2</span></li><li><span class='ee-k'>CORRECTION_BIAS_BAND_1:</span><span class='ee-v'>INTERNAL_CALIBRATION</span></li><li><span class='ee-k'>CORRECTION_BIAS_BAND_2:</span><span class='ee-v'>INTERNAL_CALIBRATION</span></li><li><span class='ee-k'>CORRECTION_BIAS_BAND_3:</span><span class='ee-v'>INTERNAL_CALIBRATION</span></li><li><span class='ee-k'>CORRECTION_BIAS_BAND_4:</span><span class='ee-v'>INTERNAL_CALIBRATION</span></li><li><span class='ee-k'>CORRECTION_BIAS_BAND_5:</span><span class='ee-v'>INTERNAL_CALIBRATION</span></li><li><span class='ee-k'>CORRECTION_BIAS_BAND_6_VCID_1:</span><span class='ee-v'>INTERNAL_CALIBRATION</span></li><li><span class='ee-k'>CORRECTION_BIAS_BAND_6_VCID_2:</span><span class='ee-v'>INTERNAL_CALIBRATION</span></li><li><span class='ee-k'>CORRECTION_BIAS_BAND_7:</span><span class='ee-v'>INTERNAL_CALIBRATION</span></li><li><span class='ee-k'>CORRECTION_BIAS_BAND_8:</span><span class='ee-v'>INTERNAL_CALIBRATION</span></li><li><span class='ee-k'>CORRECTION_GAIN_BAND_1:</span><span class='ee-v'>CPF</span></li><li><span class='ee-k'>CORRECTION_GAIN_BAND_2:</span><span class='ee-v'>CPF</span></li><li><span class='ee-k'>CORRECTION_GAIN_BAND_3:</span><span class='ee-v'>CPF</span></li><li><span class='ee-k'>CORRECTION_GAIN_BAND_4:</span><span class='ee-v'>CPF</span></li><li><span class='ee-k'>CORRECTION_GAIN_BAND_5:</span><span class='ee-v'>CPF</span></li><li><span class='ee-k'>CORRECTION_GAIN_BAND_6_VCID_1:</span><span class='ee-v'>CPF</span></li><li><span class='ee-k'>CORRECTION_GAIN_BAND_6_VCID_2:</span><span class='ee-v'>CPF</span></li><li><span class='ee-k'>CORRECTION_GAIN_BAND_7:</span><span class='ee-v'>CPF</span></li><li><span class='ee-k'>CORRECTION_GAIN_BAND_8:</span><span class='ee-v'>CPF</span></li><li><span class='ee-k'>DATA_SOURCE_AIR_TEMPERATURE:</span><span class='ee-v'>NCEP</span></li><li><span class='ee-k'>DATA_SOURCE_ELEVATION:</span><span class='ee-v'>GLS2000</span></li><li><span class='ee-k'>DATA_SOURCE_OZONE:</span><span class='ee-v'>TOMS</span></li><li><span class='ee-k'>DATA_SOURCE_PRESSURE:</span><span class='ee-v'>NCEP</span></li><li><span class='ee-k'>DATA_SOURCE_REANALYSIS:</span><span class='ee-v'>GEOS-5 FP-IT</span></li><li><span class='ee-k'>DATA_SOURCE_WATER_VAPOR:</span><span class='ee-v'>NCEP</span></li><li><span class='ee-k'>DATE_ACQUIRED:</span><span class='ee-v'>2017-11-05</span></li><li><span class='ee-k'>DATE_PRODUCT_GENERATED:</span><span class='ee-v'>1598793850000</span></li><li><span class='ee-k'>DATUM:</span><span class='ee-v'>WGS84</span></li><li><span class='ee-k'>EARTH_SUN_DISTANCE:</span><span class='ee-v'>0.991478</span></li><li><span class='ee-k'>ELLIPSOID:</span><span class='ee-v'>WGS84</span></li><li><span class='ee-k'>EPHEMERIS_TYPE:</span><span class='ee-v'>DEFINITIVE</span></li><li><span class='ee-k'>GAIN_BAND_1:</span><span class='ee-v'>H</span></li><li><span class='ee-k'>GAIN_BAND_2:</span><span class='ee-v'>H</span></li><li><span class='ee-k'>GAIN_BAND_3:</span><span class='ee-v'>H</span></li><li><span class='ee-k'>GAIN_BAND_4:</span><span class='ee-v'>L</span></li><li><span class='ee-k'>GAIN_BAND_5:</span><span class='ee-v'>H</span></li><li><span class='ee-k'>GAIN_BAND_6_VCID_1:</span><span class='ee-v'>L</span></li><li><span class='ee-k'>GAIN_BAND_6_VCID_2:</span><span class='ee-v'>H</span></li><li><span class='ee-k'>GAIN_BAND_7:</span><span class='ee-v'>H</span></li><li><span class='ee-k'>GAIN_BAND_8:</span><span class='ee-v'>L</span></li><li><span class='ee-k'>GAIN_CHANGE_BAND_1:</span><span class='ee-v'>HH</span></li><li><span class='ee-k'>GAIN_CHANGE_BAND_2:</span><span class='ee-v'>HH</span></li><li><span class='ee-k'>GAIN_CHANGE_BAND_3:</span><span class='ee-v'>HH</span></li><li><span class='ee-k'>GAIN_CHANGE_BAND_4:</span><span class='ee-v'>LL</span></li><li><span class='ee-k'>GAIN_CHANGE_BAND_5:</span><span class='ee-v'>HH</span></li><li><span class='ee-k'>GAIN_CHANGE_BAND_6_VCID_1:</span><span class='ee-v'>LL</span></li><li><span class='ee-k'>GAIN_CHANGE_BAND_6_VCID_2:</span><span class='ee-v'>HH</span></li><li><span class='ee-k'>GAIN_CHANGE_BAND_7:</span><span class='ee-v'>HH</span></li><li><span class='ee-k'>GAIN_CHANGE_BAND_8:</span><span class='ee-v'>LL</span></li><li><span class='ee-k'>GAIN_CHANGE_SCAN_BAND_1:</span><span class='ee-v'>0</span></li><li><span class='ee-k'>GAIN_CHANGE_SCAN_BAND_2:</span><span class='ee-v'>0</span></li><li><span class='ee-k'>GAIN_CHANGE_SCAN_BAND_3:</span><span class='ee-v'>0</span></li><li><span class='ee-k'>GAIN_CHANGE_SCAN_BAND_4:</span><span class='ee-v'>0</span></li><li><span class='ee-k'>GAIN_CHANGE_SCAN_BAND_5:</span><span class='ee-v'>0</span></li><li><span class='ee-k'>GAIN_CHANGE_SCAN_BAND_6_VCID_1:</span><span class='ee-v'>0</span></li><li><span class='ee-k'>GAIN_CHANGE_SCAN_BAND_6_VCID_2:</span><span class='ee-v'>0</span></li><li><span class='ee-k'>GAIN_CHANGE_SCAN_BAND_7:</span><span class='ee-v'>0</span></li><li><span class='ee-k'>GAIN_CHANGE_SCAN_BAND_8:</span><span class='ee-v'>0</span></li><li><span class='ee-k'>GEOMETRIC_RMSE_MODEL:</span><span class='ee-v'>4.912</span></li><li><span class='ee-k'>GEOMETRIC_RMSE_MODEL_X:</span><span class='ee-v'>3.15</span></li><li><span class='ee-k'>GEOMETRIC_RMSE_MODEL_Y:</span><span class='ee-v'>3.769</span></li><li><span class='ee-k'>GRID_CELL_SIZE_REFLECTIVE:</span><span class='ee-v'>30</span></li><li><span class='ee-k'>GRID_CELL_SIZE_THERMAL:</span><span class='ee-v'>30</span></li><li><span class='ee-k'>GROUND_CONTROL_POINTS_MODEL:</span><span class='ee-v'>557</span></li><li><span class='ee-k'>GROUND_CONTROL_POINTS_VERSION:</span><span class='ee-v'>5</span></li><li><span class='ee-k'>IMAGE_QUALITY:</span><span class='ee-v'>9</span></li><li><span class='ee-k'>L1_DATE_PRODUCT_GENERATED:</span><span class='ee-v'>2020-08-30T13:09:49Z</span></li><li><span class='ee-k'>L1_LANDSAT_PRODUCT_ID:</span><span class='ee-v'>LE07_L1TP_173072_20171105_20200830_02_T1</span></li><li><span class='ee-k'>L1_PROCESSING_LEVEL:</span><span class='ee-v'>L1TP</span></li><li><span class='ee-k'>L1_PROCESSING_SOFTWARE_VERSION:</span><span class='ee-v'>LPGS_15.3.1c</span></li><li><span class='ee-k'>L1_REQUEST_ID:</span><span class='ee-v'>L2</span></li><li><span class='ee-k'>LANDSAT_PRODUCT_ID:</span><span class='ee-v'>LE07_L2SP_173072_20171105_20200830_02_T1</span></li><li><span class='ee-k'>LANDSAT_SCENE_ID:</span><span class='ee-v'>LE71730722017309SG100</span></li><li><span class='ee-k'>MAP_PROJECTION:</span><span class='ee-v'>UTM</span></li><li><span class='ee-k'>ORIENTATION:</span><span class='ee-v'>NORTH_UP</span></li><li><span class='ee-k'>PROCESSING_LEVEL:</span><span class='ee-v'>L2SP</span></li><li><span class='ee-k'>PROCESSING_SOFTWARE_VERSION:</span><span class='ee-v'>LPGS_15.3.1c</span></li><li><span class='ee-k'>REFLECTANCE_ADD_BAND_1:</span><span class='ee-v'>-0.2</span></li><li><span class='ee-k'>REFLECTANCE_ADD_BAND_2:</span><span class='ee-v'>-0.2</span></li><li><span class='ee-k'>REFLECTANCE_ADD_BAND_3:</span><span class='ee-v'>-0.2</span></li><li><span class='ee-k'>REFLECTANCE_ADD_BAND_4:</span><span class='ee-v'>-0.2</span></li><li><span class='ee-k'>REFLECTANCE_ADD_BAND_5:</span><span class='ee-v'>-0.2</span></li><li><span class='ee-k'>REFLECTANCE_ADD_BAND_7:</span><span class='ee-v'>-0.2</span></li><li><span class='ee-k'>REFLECTANCE_MULT_BAND_1:</span><span class='ee-v'>2.75e-05</span></li><li><span class='ee-k'>REFLECTANCE_MULT_BAND_2:</span><span class='ee-v'>2.75e-05</span></li><li><span class='ee-k'>REFLECTANCE_MULT_BAND_3:</span><span class='ee-v'>2.75e-05</span></li><li><span class='ee-k'>REFLECTANCE_MULT_BAND_4:</span><span class='ee-v'>2.75e-05</span></li><li><span class='ee-k'>REFLECTANCE_MULT_BAND_5:</span><span class='ee-v'>2.75e-05</span></li><li><span class='ee-k'>REFLECTANCE_MULT_BAND_7:</span><span class='ee-v'>2.75e-05</span></li><li><span class='ee-k'>REFLECTIVE_LINES:</span><span class='ee-v'>6941</span></li><li><span class='ee-k'>REFLECTIVE_SAMPLES:</span><span class='ee-v'>8081</span></li><li><span class='ee-k'>REQUEST_ID:</span><span class='ee-v'>L2</span></li><li><span class='ee-k'>SATURATION_BAND_1:</span><span class='ee-v'>Y</span></li><li><span class='ee-k'>SATURATION_BAND_2:</span><span class='ee-v'>Y</span></li><li><span class='ee-k'>SATURATION_BAND_3:</span><span class='ee-v'>Y</span></li><li><span class='ee-k'>SATURATION_BAND_4:</span><span class='ee-v'>N</span></li><li><span class='ee-k'>SATURATION_BAND_5:</span><span class='ee-v'>Y</span></li><li><span class='ee-k'>SATURATION_BAND_6_VCID_1:</span><span class='ee-v'>Y</span></li><li><span class='ee-k'>SATURATION_BAND_6_VCID_2:</span><span class='ee-v'>Y</span></li><li><span class='ee-k'>SATURATION_BAND_7:</span><span class='ee-v'>Y</span></li><li><span class='ee-k'>SATURATION_BAND_8:</span><span class='ee-v'>N</span></li><li><span class='ee-k'>SCENE_CENTER_TIME:</span><span class='ee-v'>08:21:06.0154538Z</span></li><li><span class='ee-k'>SENSOR_ANOMALIES:</span><span class='ee-v'>NONE</span></li><li><span class='ee-k'>SENSOR_ID:</span><span class='ee-v'>ETM</span></li><li><span class='ee-k'>SENSOR_MODE:</span><span class='ee-v'>BUMPER</span></li><li><span class='ee-k'>SENSOR_MODE_SLC:</span><span class='ee-v'>OFF</span></li><li><span class='ee-k'>SPACECRAFT_ID:</span><span class='ee-v'>LANDSAT_7</span></li><li><span class='ee-k'>STATION_ID:</span><span class='ee-v'>SG1</span></li><li><span class='ee-k'>SUN_AZIMUTH:</span><span class='ee-v'>89.85266127</span></li><li><span class='ee-k'>SUN_ELEVATION:</span><span class='ee-v'>66.20997817</span></li><li><span class='ee-k'>TEMPERATURE_ADD_BAND_ST_B6:</span><span class='ee-v'>149</span></li><li><span class='ee-k'>TEMPERATURE_MAXIMUM_BAND_ST_B6:</span><span class='ee-v'>372.999941</span></li><li><span class='ee-k'>TEMPERATURE_MINIMUM_BAND_ST_B6:</span><span class='ee-v'>149.003418</span></li><li><span class='ee-k'>TEMPERATURE_MULT_BAND_ST_B6:</span><span class='ee-v'>0.00341802</span></li><li><span class='ee-k'>THERMAL_LINES:</span><span class='ee-v'>6941</span></li><li><span class='ee-k'>THERMAL_SAMPLES:</span><span class='ee-v'>8081</span></li><li><span class='ee-k'>UTM_ZONE:</span><span class='ee-v'>35</span></li><li><span class='ee-k'>WRS_PATH:</span><span class='ee-v'>173</span></li><li><span class='ee-k'>WRS_ROW:</span><span class='ee-v'>72</span></li><li><span class='ee-k'>WRS_TYPE:</span><span class='ee-v'>2</span></li><li><span class='ee-k'>system:asset_size:</span><span class='ee-v'>559589116</span></li><li><details><summary>system:footprint: LinearRing (20 vertices)</summary><ul><li><span class='ee-k'>type:</span><span class='ee-v'>LinearRing</span></li><li><details><summary>coordinates: List (20 elements)</summary><ul><li><details><summary>0: [25.126611325844454, -16.418986278765022]</summary><ul><li><span class='ee-k'>0:</span><span class='ee-v'>25.126611325844454</span></li><li><span class='ee-k'>1:</span><span class='ee-v'>-16.418986278765022</span></li></ul></details></li><li><details><summary>1: [25.124281180837816, -16.427379139832997]</summary><ul><li><span class='ee-k'>0:</span><span class='ee-v'>25.124281180837816</span></li><li><span class='ee-k'>1:</span><span class='ee-v'>-16.427379139832997</span></li></ul></details></li><li><details><summary>2: [25.102934051943382, -16.513936329708795]</summary><ul><li><span class='ee-k'>0:</span><span class='ee-v'>25.102934051943382</span></li><li><span class='ee-k'>1:</span><span class='ee-v'>-16.513936329708795</span></li></ul></details></li><li><details><summary>3: [25.092962522377768, -16.556405743558393]</summary><ul><li><span class='ee-k'>0:</span><span class='ee-v'>25.092962522377768</span></li><li><span class='ee-k'>1:</span><span class='ee-v'>-16.556405743558393</span></li></ul></details></li><li><details><summary>4: [24.97159414534375, -17.081230555067062]</summary><ul><li><span class='ee-k'>0:</span><span class='ee-v'>24.97159414534375</span></li><li><span class='ee-k'>1:</span><span class='ee-v'>-17.081230555067062</span></li></ul></details></li><li><details><summary>5: [24.84938291514239, -17.605884129192134]</summary><ul><li><span class='ee-k'>0:</span><span class='ee-v'>24.84938291514239</span></li><li><span class='ee-k'>1:</span><span class='ee-v'>-17.605884129192134</span></li></ul></details></li><li><details><summary>6: [24.758529901647297, -18.00112345942163]</summary><ul><li><span class='ee-k'>0:</span><span class='ee-v'>24.758529901647297</span></li><li><span class='ee-k'>1:</span><span class='ee-v'>-18.00112345942163</span></li></ul></details></li><li><details><summary>7: [24.761030032011178, -18.013284470546353]</summary><ul><li><span class='ee-k'>0:</span><span class='ee-v'>24.761030032011178</span></li><li><span class='ee-k'>1:</span><span class='ee-v'>-18.013284470546353</span></li></ul></details></li><li><details><summary>8: [24.87757951311145, -18.030556643699807]</summary><ul><li><span class='ee-k'>0:</span><span class='ee-v'>24.87757951311145</span></li><li><span class='ee-k'>1:</span><span class='ee-v'>-18.030556643699807</span></li></ul></details></li><li><details><summary>9: [26.56717504590929, -18.27201536536506]</summary><ul><li><span class='ee-k'>0:</span><span class='ee-v'>26.56717504590929</span></li><li><span class='ee-k'>1:</span><span class='ee-v'>-18.27201536536506</span></li></ul></details></li><li><details><summary>10: [26.577714905438174, -18.272038936770368]</summary><ul><li><span class='ee-k'>0:</span><span class='ee-v'>26.577714905438174</span></li><li><span class='ee-k'>1:</span><span class='ee-v'>-18.272038936770368</span></li></ul></details></li><li><details><summary>11: [26.580721743759195, -18.270038012129152]</summary><ul><li><span class='ee-k'>0:</span><span class='ee-v'>26.580721743759195</span></li><li><span class='ee-k'>1:</span><span class='ee-v'>-18.270038012129152</span></li></ul></details></li><li><details><summary>12: [26.58618098038196, -18.246816187730172]</summary><ul><li><span class='ee-k'>0:</span><span class='ee-v'>26.58618098038196</span></li><li><span class='ee-k'>1:</span><span class='ee-v'>-18.246816187730172</span></li></ul></details></li><li><details><summary>13: [26.600242686810063, -18.183749752943463]</summary><ul><li><span class='ee-k'>0:</span><span class='ee-v'>26.600242686810063</span></li><li><span class='ee-k'>1:</span><span class='ee-v'>-18.183749752943463</span></li></ul></details></li><li><details><summary>14: [26.62936450191478, -18.052917399462583]</summary><ul><li><span class='ee-k'>0:</span><span class='ee-v'>26.62936450191478</span></li><li><span class='ee-k'>1:</span><span class='ee-v'>-18.052917399462583</span></li></ul></details></li><li><details><summary>15: [26.934322259250337, -16.66772012035339]</summary><ul><li><span class='ee-k'>0:</span><span class='ee-v'>26.934322259250337</span></li><li><span class='ee-k'>1:</span><span class='ee-v'>-16.66772012035339</span></li></ul></details></li><li><details><summary>16: [26.923535418651685, -16.65933806501914]</summary><ul><li><span class='ee-k'>0:</span><span class='ee-v'>26.923535418651685</span></li><li><span class='ee-k'>1:</span><span class='ee-v'>-16.65933806501914</span></li></ul></details></li><li><details><summary>17: [25.133496071641034, -16.403162776464928]</summary><ul><li><span class='ee-k'>0:</span><span class='ee-v'>25.133496071641034</span></li><li><span class='ee-k'>1:</span><span class='ee-v'>-16.403162776464928</span></li></ul></details></li><li><details><summary>18: [25.129512560393053, -16.41030771295296]</summary><ul><li><span class='ee-k'>0:</span><span class='ee-v'>25.129512560393053</span></li><li><span class='ee-k'>1:</span><span class='ee-v'>-16.41030771295296</span></li></ul></details></li><li><details><summary>19: [25.126611325844454, -16.418986278765022]</summary><ul><li><span class='ee-k'>0:</span><span class='ee-v'>25.126611325844454</span></li><li><span class='ee-k'>1:</span><span class='ee-v'>-16.418986278765022</span></li></ul></details></li></ul></details></li></ul></details></li><li><span class='ee-k'>system:index:</span><span class='ee-v'>LE07_173072_20171105</span></li><li><span class='ee-k'>system:time_end:</span><span class='ee-v'>1509870066015</span></li><li><span class='ee-k'>system:time_start:</span><span class='ee-v'>1509870066015</span></li></ul></details></li></ul></details></li><li><details><summary>7: Image LANDSAT/LE07/C02/T1_L2/LE07_173072_20171121 (19 bands)</summary><ul><li><span class='ee-k'>type:</span><span class='ee-v'>Image</span></li><li><span class='ee-k'>id:</span><span class='ee-v'>LANDSAT/LE07/C02/T1_L2/LE07_173072_20171121</span></li><li><span class='ee-k'>version:</span><span class='ee-v'>1624622574371545</span></li><li><details><summary>bands: List (19 elements)</summary><ul><li><details><summary>0: \"SR_B1\", unsigned int16, EPSG:32635, 8081x6951 px</summary><ul><li><span class='ee-k'>id:</span><span class='ee-v'>SR_B1</span></li><li><span class='ee-k'>crs:</span><span class='ee-v'>EPSG:32635</span></li><li><details><summary>crs_transform: [30, 0, 255285, 0, -30, -1812885]</summary><ul><li><span class='ee-k'>0:</span><span class='ee-v'>30</span></li><li><span class='ee-k'>1:</span><span class='ee-v'>0</span></li><li><span class='ee-k'>2:</span><span class='ee-v'>255285</span></li><li><span class='ee-k'>3:</span><span class='ee-v'>0</span></li><li><span class='ee-k'>4:</span><span class='ee-v'>-30</span></li><li><span class='ee-k'>5:</span><span class='ee-v'>-1812885</span></li></ul></details></li><li><details><summary>data_type: unsigned int16</summary><ul><li><span class='ee-k'>type:</span><span class='ee-v'>PixelType</span></li><li><span class='ee-k'>max:</span><span class='ee-v'>65535</span></li><li><span class='ee-k'>min:</span><span class='ee-v'>0</span></li><li><span class='ee-k'>precision:</span><span class='ee-v'>int</span></li></ul></details></li><li><details><summary>dimensions: [8081, 6951]</summary><ul><li><span class='ee-k'>0:</span><span class='ee-v'>8081</span></li><li><span class='ee-k'>1:</span><span class='ee-v'>6951</span></li></ul></details></li></ul></details></li><li><details><summary>1: \"SR_B2\", unsigned int16, EPSG:32635, 8081x6951 px</summary><ul><li><span class='ee-k'>id:</span><span class='ee-v'>SR_B2</span></li><li><span class='ee-k'>crs:</span><span class='ee-v'>EPSG:32635</span></li><li><details><summary>crs_transform: [30, 0, 255285, 0, -30, -1812885]</summary><ul><li><span class='ee-k'>0:</span><span class='ee-v'>30</span></li><li><span class='ee-k'>1:</span><span class='ee-v'>0</span></li><li><span class='ee-k'>2:</span><span class='ee-v'>255285</span></li><li><span class='ee-k'>3:</span><span class='ee-v'>0</span></li><li><span class='ee-k'>4:</span><span class='ee-v'>-30</span></li><li><span class='ee-k'>5:</span><span class='ee-v'>-1812885</span></li></ul></details></li><li><details><summary>data_type: unsigned int16</summary><ul><li><span class='ee-k'>type:</span><span class='ee-v'>PixelType</span></li><li><span class='ee-k'>max:</span><span class='ee-v'>65535</span></li><li><span class='ee-k'>min:</span><span class='ee-v'>0</span></li><li><span class='ee-k'>precision:</span><span class='ee-v'>int</span></li></ul></details></li><li><details><summary>dimensions: [8081, 6951]</summary><ul><li><span class='ee-k'>0:</span><span class='ee-v'>8081</span></li><li><span class='ee-k'>1:</span><span class='ee-v'>6951</span></li></ul></details></li></ul></details></li><li><details><summary>2: \"SR_B3\", unsigned int16, EPSG:32635, 8081x6951 px</summary><ul><li><span class='ee-k'>id:</span><span class='ee-v'>SR_B3</span></li><li><span class='ee-k'>crs:</span><span class='ee-v'>EPSG:32635</span></li><li><details><summary>crs_transform: [30, 0, 255285, 0, -30, -1812885]</summary><ul><li><span class='ee-k'>0:</span><span class='ee-v'>30</span></li><li><span class='ee-k'>1:</span><span class='ee-v'>0</span></li><li><span class='ee-k'>2:</span><span class='ee-v'>255285</span></li><li><span class='ee-k'>3:</span><span class='ee-v'>0</span></li><li><span class='ee-k'>4:</span><span class='ee-v'>-30</span></li><li><span class='ee-k'>5:</span><span class='ee-v'>-1812885</span></li></ul></details></li><li><details><summary>data_type: unsigned int16</summary><ul><li><span class='ee-k'>type:</span><span class='ee-v'>PixelType</span></li><li><span class='ee-k'>max:</span><span class='ee-v'>65535</span></li><li><span class='ee-k'>min:</span><span class='ee-v'>0</span></li><li><span class='ee-k'>precision:</span><span class='ee-v'>int</span></li></ul></details></li><li><details><summary>dimensions: [8081, 6951]</summary><ul><li><span class='ee-k'>0:</span><span class='ee-v'>8081</span></li><li><span class='ee-k'>1:</span><span class='ee-v'>6951</span></li></ul></details></li></ul></details></li><li><details><summary>3: \"SR_B4\", unsigned int16, EPSG:32635, 8081x6951 px</summary><ul><li><span class='ee-k'>id:</span><span class='ee-v'>SR_B4</span></li><li><span class='ee-k'>crs:</span><span class='ee-v'>EPSG:32635</span></li><li><details><summary>crs_transform: [30, 0, 255285, 0, -30, -1812885]</summary><ul><li><span class='ee-k'>0:</span><span class='ee-v'>30</span></li><li><span class='ee-k'>1:</span><span class='ee-v'>0</span></li><li><span class='ee-k'>2:</span><span class='ee-v'>255285</span></li><li><span class='ee-k'>3:</span><span class='ee-v'>0</span></li><li><span class='ee-k'>4:</span><span class='ee-v'>-30</span></li><li><span class='ee-k'>5:</span><span class='ee-v'>-1812885</span></li></ul></details></li><li><details><summary>data_type: unsigned int16</summary><ul><li><span class='ee-k'>type:</span><span class='ee-v'>PixelType</span></li><li><span class='ee-k'>max:</span><span class='ee-v'>65535</span></li><li><span class='ee-k'>min:</span><span class='ee-v'>0</span></li><li><span class='ee-k'>precision:</span><span class='ee-v'>int</span></li></ul></details></li><li><details><summary>dimensions: [8081, 6951]</summary><ul><li><span class='ee-k'>0:</span><span class='ee-v'>8081</span></li><li><span class='ee-k'>1:</span><span class='ee-v'>6951</span></li></ul></details></li></ul></details></li><li><details><summary>4: \"SR_B5\", unsigned int16, EPSG:32635, 8081x6951 px</summary><ul><li><span class='ee-k'>id:</span><span class='ee-v'>SR_B5</span></li><li><span class='ee-k'>crs:</span><span class='ee-v'>EPSG:32635</span></li><li><details><summary>crs_transform: [30, 0, 255285, 0, -30, -1812885]</summary><ul><li><span class='ee-k'>0:</span><span class='ee-v'>30</span></li><li><span class='ee-k'>1:</span><span class='ee-v'>0</span></li><li><span class='ee-k'>2:</span><span class='ee-v'>255285</span></li><li><span class='ee-k'>3:</span><span class='ee-v'>0</span></li><li><span class='ee-k'>4:</span><span class='ee-v'>-30</span></li><li><span class='ee-k'>5:</span><span class='ee-v'>-1812885</span></li></ul></details></li><li><details><summary>data_type: unsigned int16</summary><ul><li><span class='ee-k'>type:</span><span class='ee-v'>PixelType</span></li><li><span class='ee-k'>max:</span><span class='ee-v'>65535</span></li><li><span class='ee-k'>min:</span><span class='ee-v'>0</span></li><li><span class='ee-k'>precision:</span><span class='ee-v'>int</span></li></ul></details></li><li><details><summary>dimensions: [8081, 6951]</summary><ul><li><span class='ee-k'>0:</span><span class='ee-v'>8081</span></li><li><span class='ee-k'>1:</span><span class='ee-v'>6951</span></li></ul></details></li></ul></details></li><li><details><summary>5: \"SR_B7\", unsigned int16, EPSG:32635, 8081x6951 px</summary><ul><li><span class='ee-k'>id:</span><span class='ee-v'>SR_B7</span></li><li><span class='ee-k'>crs:</span><span class='ee-v'>EPSG:32635</span></li><li><details><summary>crs_transform: [30, 0, 255285, 0, -30, -1812885]</summary><ul><li><span class='ee-k'>0:</span><span class='ee-v'>30</span></li><li><span class='ee-k'>1:</span><span class='ee-v'>0</span></li><li><span class='ee-k'>2:</span><span class='ee-v'>255285</span></li><li><span class='ee-k'>3:</span><span class='ee-v'>0</span></li><li><span class='ee-k'>4:</span><span class='ee-v'>-30</span></li><li><span class='ee-k'>5:</span><span class='ee-v'>-1812885</span></li></ul></details></li><li><details><summary>data_type: unsigned int16</summary><ul><li><span class='ee-k'>type:</span><span class='ee-v'>PixelType</span></li><li><span class='ee-k'>max:</span><span class='ee-v'>65535</span></li><li><span class='ee-k'>min:</span><span class='ee-v'>0</span></li><li><span class='ee-k'>precision:</span><span class='ee-v'>int</span></li></ul></details></li><li><details><summary>dimensions: [8081, 6951]</summary><ul><li><span class='ee-k'>0:</span><span class='ee-v'>8081</span></li><li><span class='ee-k'>1:</span><span class='ee-v'>6951</span></li></ul></details></li></ul></details></li><li><details><summary>6: \"SR_ATMOS_OPACITY\", signed int16, EPSG:32635, 8081x6951 px</summary><ul><li><span class='ee-k'>id:</span><span class='ee-v'>SR_ATMOS_OPACITY</span></li><li><span class='ee-k'>crs:</span><span class='ee-v'>EPSG:32635</span></li><li><details><summary>crs_transform: [30, 0, 255285, 0, -30, -1812885]</summary><ul><li><span class='ee-k'>0:</span><span class='ee-v'>30</span></li><li><span class='ee-k'>1:</span><span class='ee-v'>0</span></li><li><span class='ee-k'>2:</span><span class='ee-v'>255285</span></li><li><span class='ee-k'>3:</span><span class='ee-v'>0</span></li><li><span class='ee-k'>4:</span><span class='ee-v'>-30</span></li><li><span class='ee-k'>5:</span><span class='ee-v'>-1812885</span></li></ul></details></li><li><details><summary>data_type: signed int16</summary><ul><li><span class='ee-k'>type:</span><span class='ee-v'>PixelType</span></li><li><span class='ee-k'>max:</span><span class='ee-v'>32767</span></li><li><span class='ee-k'>min:</span><span class='ee-v'>-32768</span></li><li><span class='ee-k'>precision:</span><span class='ee-v'>int</span></li></ul></details></li><li><details><summary>dimensions: [8081, 6951]</summary><ul><li><span class='ee-k'>0:</span><span class='ee-v'>8081</span></li><li><span class='ee-k'>1:</span><span class='ee-v'>6951</span></li></ul></details></li></ul></details></li><li><details><summary>7: \"SR_CLOUD_QA\", unsigned int8, EPSG:32635, 8081x6951 px</summary><ul><li><span class='ee-k'>id:</span><span class='ee-v'>SR_CLOUD_QA</span></li><li><span class='ee-k'>crs:</span><span class='ee-v'>EPSG:32635</span></li><li><details><summary>crs_transform: [30, 0, 255285, 0, -30, -1812885]</summary><ul><li><span class='ee-k'>0:</span><span class='ee-v'>30</span></li><li><span class='ee-k'>1:</span><span class='ee-v'>0</span></li><li><span class='ee-k'>2:</span><span class='ee-v'>255285</span></li><li><span class='ee-k'>3:</span><span class='ee-v'>0</span></li><li><span class='ee-k'>4:</span><span class='ee-v'>-30</span></li><li><span class='ee-k'>5:</span><span class='ee-v'>-1812885</span></li></ul></details></li><li><details><summary>data_type: unsigned int8</summary><ul><li><span class='ee-k'>type:</span><span class='ee-v'>PixelType</span></li><li><span class='ee-k'>max:</span><span class='ee-v'>255</span></li><li><span class='ee-k'>min:</span><span class='ee-v'>0</span></li><li><span class='ee-k'>precision:</span><span class='ee-v'>int</span></li></ul></details></li><li><details><summary>dimensions: [8081, 6951]</summary><ul><li><span class='ee-k'>0:</span><span class='ee-v'>8081</span></li><li><span class='ee-k'>1:</span><span class='ee-v'>6951</span></li></ul></details></li></ul></details></li><li><details><summary>8: \"ST_B6\", unsigned int16, EPSG:32635, 8081x6951 px</summary><ul><li><span class='ee-k'>id:</span><span class='ee-v'>ST_B6</span></li><li><span class='ee-k'>crs:</span><span class='ee-v'>EPSG:32635</span></li><li><details><summary>crs_transform: [30, 0, 255285, 0, -30, -1812885]</summary><ul><li><span class='ee-k'>0:</span><span class='ee-v'>30</span></li><li><span class='ee-k'>1:</span><span class='ee-v'>0</span></li><li><span class='ee-k'>2:</span><span class='ee-v'>255285</span></li><li><span class='ee-k'>3:</span><span class='ee-v'>0</span></li><li><span class='ee-k'>4:</span><span class='ee-v'>-30</span></li><li><span class='ee-k'>5:</span><span class='ee-v'>-1812885</span></li></ul></details></li><li><details><summary>data_type: unsigned int16</summary><ul><li><span class='ee-k'>type:</span><span class='ee-v'>PixelType</span></li><li><span class='ee-k'>max:</span><span class='ee-v'>65535</span></li><li><span class='ee-k'>min:</span><span class='ee-v'>0</span></li><li><span class='ee-k'>precision:</span><span class='ee-v'>int</span></li></ul></details></li><li><details><summary>dimensions: [8081, 6951]</summary><ul><li><span class='ee-k'>0:</span><span class='ee-v'>8081</span></li><li><span class='ee-k'>1:</span><span class='ee-v'>6951</span></li></ul></details></li></ul></details></li><li><details><summary>9: \"ST_ATRAN\", signed int16, EPSG:32635, 8081x6951 px</summary><ul><li><span class='ee-k'>id:</span><span class='ee-v'>ST_ATRAN</span></li><li><span class='ee-k'>crs:</span><span class='ee-v'>EPSG:32635</span></li><li><details><summary>crs_transform: [30, 0, 255285, 0, -30, -1812885]</summary><ul><li><span class='ee-k'>0:</span><span class='ee-v'>30</span></li><li><span class='ee-k'>1:</span><span class='ee-v'>0</span></li><li><span class='ee-k'>2:</span><span class='ee-v'>255285</span></li><li><span class='ee-k'>3:</span><span class='ee-v'>0</span></li><li><span class='ee-k'>4:</span><span class='ee-v'>-30</span></li><li><span class='ee-k'>5:</span><span class='ee-v'>-1812885</span></li></ul></details></li><li><details><summary>data_type: signed int16</summary><ul><li><span class='ee-k'>type:</span><span class='ee-v'>PixelType</span></li><li><span class='ee-k'>max:</span><span class='ee-v'>32767</span></li><li><span class='ee-k'>min:</span><span class='ee-v'>-32768</span></li><li><span class='ee-k'>precision:</span><span class='ee-v'>int</span></li></ul></details></li><li><details><summary>dimensions: [8081, 6951]</summary><ul><li><span class='ee-k'>0:</span><span class='ee-v'>8081</span></li><li><span class='ee-k'>1:</span><span class='ee-v'>6951</span></li></ul></details></li></ul></details></li><li><details><summary>10: \"ST_CDIST\", signed int16, EPSG:32635, 8081x6951 px</summary><ul><li><span class='ee-k'>id:</span><span class='ee-v'>ST_CDIST</span></li><li><span class='ee-k'>crs:</span><span class='ee-v'>EPSG:32635</span></li><li><details><summary>crs_transform: [30, 0, 255285, 0, -30, -1812885]</summary><ul><li><span class='ee-k'>0:</span><span class='ee-v'>30</span></li><li><span class='ee-k'>1:</span><span class='ee-v'>0</span></li><li><span class='ee-k'>2:</span><span class='ee-v'>255285</span></li><li><span class='ee-k'>3:</span><span class='ee-v'>0</span></li><li><span class='ee-k'>4:</span><span class='ee-v'>-30</span></li><li><span class='ee-k'>5:</span><span class='ee-v'>-1812885</span></li></ul></details></li><li><details><summary>data_type: signed int16</summary><ul><li><span class='ee-k'>type:</span><span class='ee-v'>PixelType</span></li><li><span class='ee-k'>max:</span><span class='ee-v'>32767</span></li><li><span class='ee-k'>min:</span><span class='ee-v'>-32768</span></li><li><span class='ee-k'>precision:</span><span class='ee-v'>int</span></li></ul></details></li><li><details><summary>dimensions: [8081, 6951]</summary><ul><li><span class='ee-k'>0:</span><span class='ee-v'>8081</span></li><li><span class='ee-k'>1:</span><span class='ee-v'>6951</span></li></ul></details></li></ul></details></li><li><details><summary>11: \"ST_DRAD\", signed int16, EPSG:32635, 8081x6951 px</summary><ul><li><span class='ee-k'>id:</span><span class='ee-v'>ST_DRAD</span></li><li><span class='ee-k'>crs:</span><span class='ee-v'>EPSG:32635</span></li><li><details><summary>crs_transform: [30, 0, 255285, 0, -30, -1812885]</summary><ul><li><span class='ee-k'>0:</span><span class='ee-v'>30</span></li><li><span class='ee-k'>1:</span><span class='ee-v'>0</span></li><li><span class='ee-k'>2:</span><span class='ee-v'>255285</span></li><li><span class='ee-k'>3:</span><span class='ee-v'>0</span></li><li><span class='ee-k'>4:</span><span class='ee-v'>-30</span></li><li><span class='ee-k'>5:</span><span class='ee-v'>-1812885</span></li></ul></details></li><li><details><summary>data_type: signed int16</summary><ul><li><span class='ee-k'>type:</span><span class='ee-v'>PixelType</span></li><li><span class='ee-k'>max:</span><span class='ee-v'>32767</span></li><li><span class='ee-k'>min:</span><span class='ee-v'>-32768</span></li><li><span class='ee-k'>precision:</span><span class='ee-v'>int</span></li></ul></details></li><li><details><summary>dimensions: [8081, 6951]</summary><ul><li><span class='ee-k'>0:</span><span class='ee-v'>8081</span></li><li><span class='ee-k'>1:</span><span class='ee-v'>6951</span></li></ul></details></li></ul></details></li><li><details><summary>12: \"ST_EMIS\", signed int16, EPSG:32635, 8081x6951 px</summary><ul><li><span class='ee-k'>id:</span><span class='ee-v'>ST_EMIS</span></li><li><span class='ee-k'>crs:</span><span class='ee-v'>EPSG:32635</span></li><li><details><summary>crs_transform: [30, 0, 255285, 0, -30, -1812885]</summary><ul><li><span class='ee-k'>0:</span><span class='ee-v'>30</span></li><li><span class='ee-k'>1:</span><span class='ee-v'>0</span></li><li><span class='ee-k'>2:</span><span class='ee-v'>255285</span></li><li><span class='ee-k'>3:</span><span class='ee-v'>0</span></li><li><span class='ee-k'>4:</span><span class='ee-v'>-30</span></li><li><span class='ee-k'>5:</span><span class='ee-v'>-1812885</span></li></ul></details></li><li><details><summary>data_type: signed int16</summary><ul><li><span class='ee-k'>type:</span><span class='ee-v'>PixelType</span></li><li><span class='ee-k'>max:</span><span class='ee-v'>32767</span></li><li><span class='ee-k'>min:</span><span class='ee-v'>-32768</span></li><li><span class='ee-k'>precision:</span><span class='ee-v'>int</span></li></ul></details></li><li><details><summary>dimensions: [8081, 6951]</summary><ul><li><span class='ee-k'>0:</span><span class='ee-v'>8081</span></li><li><span class='ee-k'>1:</span><span class='ee-v'>6951</span></li></ul></details></li></ul></details></li><li><details><summary>13: \"ST_EMSD\", signed int16, EPSG:32635, 8081x6951 px</summary><ul><li><span class='ee-k'>id:</span><span class='ee-v'>ST_EMSD</span></li><li><span class='ee-k'>crs:</span><span class='ee-v'>EPSG:32635</span></li><li><details><summary>crs_transform: [30, 0, 255285, 0, -30, -1812885]</summary><ul><li><span class='ee-k'>0:</span><span class='ee-v'>30</span></li><li><span class='ee-k'>1:</span><span class='ee-v'>0</span></li><li><span class='ee-k'>2:</span><span class='ee-v'>255285</span></li><li><span class='ee-k'>3:</span><span class='ee-v'>0</span></li><li><span class='ee-k'>4:</span><span class='ee-v'>-30</span></li><li><span class='ee-k'>5:</span><span class='ee-v'>-1812885</span></li></ul></details></li><li><details><summary>data_type: signed int16</summary><ul><li><span class='ee-k'>type:</span><span class='ee-v'>PixelType</span></li><li><span class='ee-k'>max:</span><span class='ee-v'>32767</span></li><li><span class='ee-k'>min:</span><span class='ee-v'>-32768</span></li><li><span class='ee-k'>precision:</span><span class='ee-v'>int</span></li></ul></details></li><li><details><summary>dimensions: [8081, 6951]</summary><ul><li><span class='ee-k'>0:</span><span class='ee-v'>8081</span></li><li><span class='ee-k'>1:</span><span class='ee-v'>6951</span></li></ul></details></li></ul></details></li><li><details><summary>14: \"ST_QA\", signed int16, EPSG:32635, 8081x6951 px</summary><ul><li><span class='ee-k'>id:</span><span class='ee-v'>ST_QA</span></li><li><span class='ee-k'>crs:</span><span class='ee-v'>EPSG:32635</span></li><li><details><summary>crs_transform: [30, 0, 255285, 0, -30, -1812885]</summary><ul><li><span class='ee-k'>0:</span><span class='ee-v'>30</span></li><li><span class='ee-k'>1:</span><span class='ee-v'>0</span></li><li><span class='ee-k'>2:</span><span class='ee-v'>255285</span></li><li><span class='ee-k'>3:</span><span class='ee-v'>0</span></li><li><span class='ee-k'>4:</span><span class='ee-v'>-30</span></li><li><span class='ee-k'>5:</span><span class='ee-v'>-1812885</span></li></ul></details></li><li><details><summary>data_type: signed int16</summary><ul><li><span class='ee-k'>type:</span><span class='ee-v'>PixelType</span></li><li><span class='ee-k'>max:</span><span class='ee-v'>32767</span></li><li><span class='ee-k'>min:</span><span class='ee-v'>-32768</span></li><li><span class='ee-k'>precision:</span><span class='ee-v'>int</span></li></ul></details></li><li><details><summary>dimensions: [8081, 6951]</summary><ul><li><span class='ee-k'>0:</span><span class='ee-v'>8081</span></li><li><span class='ee-k'>1:</span><span class='ee-v'>6951</span></li></ul></details></li></ul></details></li><li><details><summary>15: \"ST_TRAD\", signed int16, EPSG:32635, 8081x6951 px</summary><ul><li><span class='ee-k'>id:</span><span class='ee-v'>ST_TRAD</span></li><li><span class='ee-k'>crs:</span><span class='ee-v'>EPSG:32635</span></li><li><details><summary>crs_transform: [30, 0, 255285, 0, -30, -1812885]</summary><ul><li><span class='ee-k'>0:</span><span class='ee-v'>30</span></li><li><span class='ee-k'>1:</span><span class='ee-v'>0</span></li><li><span class='ee-k'>2:</span><span class='ee-v'>255285</span></li><li><span class='ee-k'>3:</span><span class='ee-v'>0</span></li><li><span class='ee-k'>4:</span><span class='ee-v'>-30</span></li><li><span class='ee-k'>5:</span><span class='ee-v'>-1812885</span></li></ul></details></li><li><details><summary>data_type: signed int16</summary><ul><li><span class='ee-k'>type:</span><span class='ee-v'>PixelType</span></li><li><span class='ee-k'>max:</span><span class='ee-v'>32767</span></li><li><span class='ee-k'>min:</span><span class='ee-v'>-32768</span></li><li><span class='ee-k'>precision:</span><span class='ee-v'>int</span></li></ul></details></li><li><details><summary>dimensions: [8081, 6951]</summary><ul><li><span class='ee-k'>0:</span><span class='ee-v'>8081</span></li><li><span class='ee-k'>1:</span><span class='ee-v'>6951</span></li></ul></details></li></ul></details></li><li><details><summary>16: \"ST_URAD\", signed int16, EPSG:32635, 8081x6951 px</summary><ul><li><span class='ee-k'>id:</span><span class='ee-v'>ST_URAD</span></li><li><span class='ee-k'>crs:</span><span class='ee-v'>EPSG:32635</span></li><li><details><summary>crs_transform: [30, 0, 255285, 0, -30, -1812885]</summary><ul><li><span class='ee-k'>0:</span><span class='ee-v'>30</span></li><li><span class='ee-k'>1:</span><span class='ee-v'>0</span></li><li><span class='ee-k'>2:</span><span class='ee-v'>255285</span></li><li><span class='ee-k'>3:</span><span class='ee-v'>0</span></li><li><span class='ee-k'>4:</span><span class='ee-v'>-30</span></li><li><span class='ee-k'>5:</span><span class='ee-v'>-1812885</span></li></ul></details></li><li><details><summary>data_type: signed int16</summary><ul><li><span class='ee-k'>type:</span><span class='ee-v'>PixelType</span></li><li><span class='ee-k'>max:</span><span class='ee-v'>32767</span></li><li><span class='ee-k'>min:</span><span class='ee-v'>-32768</span></li><li><span class='ee-k'>precision:</span><span class='ee-v'>int</span></li></ul></details></li><li><details><summary>dimensions: [8081, 6951]</summary><ul><li><span class='ee-k'>0:</span><span class='ee-v'>8081</span></li><li><span class='ee-k'>1:</span><span class='ee-v'>6951</span></li></ul></details></li></ul></details></li><li><details><summary>17: \"QA_PIXEL\", unsigned int16, EPSG:32635, 8081x6951 px</summary><ul><li><span class='ee-k'>id:</span><span class='ee-v'>QA_PIXEL</span></li><li><span class='ee-k'>crs:</span><span class='ee-v'>EPSG:32635</span></li><li><details><summary>crs_transform: [30, 0, 255285, 0, -30, -1812885]</summary><ul><li><span class='ee-k'>0:</span><span class='ee-v'>30</span></li><li><span class='ee-k'>1:</span><span class='ee-v'>0</span></li><li><span class='ee-k'>2:</span><span class='ee-v'>255285</span></li><li><span class='ee-k'>3:</span><span class='ee-v'>0</span></li><li><span class='ee-k'>4:</span><span class='ee-v'>-30</span></li><li><span class='ee-k'>5:</span><span class='ee-v'>-1812885</span></li></ul></details></li><li><details><summary>data_type: unsigned int16</summary><ul><li><span class='ee-k'>type:</span><span class='ee-v'>PixelType</span></li><li><span class='ee-k'>max:</span><span class='ee-v'>65535</span></li><li><span class='ee-k'>min:</span><span class='ee-v'>0</span></li><li><span class='ee-k'>precision:</span><span class='ee-v'>int</span></li></ul></details></li><li><details><summary>dimensions: [8081, 6951]</summary><ul><li><span class='ee-k'>0:</span><span class='ee-v'>8081</span></li><li><span class='ee-k'>1:</span><span class='ee-v'>6951</span></li></ul></details></li></ul></details></li><li><details><summary>18: \"QA_RADSAT\", unsigned int16, EPSG:32635, 8081x6951 px</summary><ul><li><span class='ee-k'>id:</span><span class='ee-v'>QA_RADSAT</span></li><li><span class='ee-k'>crs:</span><span class='ee-v'>EPSG:32635</span></li><li><details><summary>crs_transform: [30, 0, 255285, 0, -30, -1812885]</summary><ul><li><span class='ee-k'>0:</span><span class='ee-v'>30</span></li><li><span class='ee-k'>1:</span><span class='ee-v'>0</span></li><li><span class='ee-k'>2:</span><span class='ee-v'>255285</span></li><li><span class='ee-k'>3:</span><span class='ee-v'>0</span></li><li><span class='ee-k'>4:</span><span class='ee-v'>-30</span></li><li><span class='ee-k'>5:</span><span class='ee-v'>-1812885</span></li></ul></details></li><li><details><summary>data_type: unsigned int16</summary><ul><li><span class='ee-k'>type:</span><span class='ee-v'>PixelType</span></li><li><span class='ee-k'>max:</span><span class='ee-v'>65535</span></li><li><span class='ee-k'>min:</span><span class='ee-v'>0</span></li><li><span class='ee-k'>precision:</span><span class='ee-v'>int</span></li></ul></details></li><li><details><summary>dimensions: [8081, 6951]</summary><ul><li><span class='ee-k'>0:</span><span class='ee-v'>8081</span></li><li><span class='ee-k'>1:</span><span class='ee-v'>6951</span></li></ul></details></li></ul></details></li></ul></details></li><li><details><summary>properties: Object (130 properties)</summary><ul><li><span class='ee-k'>ALGORITHM_SOURCE_SURFACE_REFLECTANCE:</span><span class='ee-v'>LEDAPS_3.4.0</span></li><li><span class='ee-k'>ALGORITHM_SOURCE_SURFACE_TEMPERATURE:</span><span class='ee-v'>st_1.3.0</span></li><li><span class='ee-k'>CLOUD_COVER:</span><span class='ee-v'>1</span></li><li><span class='ee-k'>CLOUD_COVER_LAND:</span><span class='ee-v'>1</span></li><li><span class='ee-k'>COLLECTION_CATEGORY:</span><span class='ee-v'>T1</span></li><li><span class='ee-k'>COLLECTION_NUMBER:</span><span class='ee-v'>2</span></li><li><span class='ee-k'>CORRECTION_BIAS_BAND_1:</span><span class='ee-v'>INTERNAL_CALIBRATION</span></li><li><span class='ee-k'>CORRECTION_BIAS_BAND_2:</span><span class='ee-v'>INTERNAL_CALIBRATION</span></li><li><span class='ee-k'>CORRECTION_BIAS_BAND_3:</span><span class='ee-v'>INTERNAL_CALIBRATION</span></li><li><span class='ee-k'>CORRECTION_BIAS_BAND_4:</span><span class='ee-v'>INTERNAL_CALIBRATION</span></li><li><span class='ee-k'>CORRECTION_BIAS_BAND_5:</span><span class='ee-v'>INTERNAL_CALIBRATION</span></li><li><span class='ee-k'>CORRECTION_BIAS_BAND_6_VCID_1:</span><span class='ee-v'>INTERNAL_CALIBRATION</span></li><li><span class='ee-k'>CORRECTION_BIAS_BAND_6_VCID_2:</span><span class='ee-v'>INTERNAL_CALIBRATION</span></li><li><span class='ee-k'>CORRECTION_BIAS_BAND_7:</span><span class='ee-v'>INTERNAL_CALIBRATION</span></li><li><span class='ee-k'>CORRECTION_BIAS_BAND_8:</span><span class='ee-v'>INTERNAL_CALIBRATION</span></li><li><span class='ee-k'>CORRECTION_GAIN_BAND_1:</span><span class='ee-v'>CPF</span></li><li><span class='ee-k'>CORRECTION_GAIN_BAND_2:</span><span class='ee-v'>CPF</span></li><li><span class='ee-k'>CORRECTION_GAIN_BAND_3:</span><span class='ee-v'>CPF</span></li><li><span class='ee-k'>CORRECTION_GAIN_BAND_4:</span><span class='ee-v'>CPF</span></li><li><span class='ee-k'>CORRECTION_GAIN_BAND_5:</span><span class='ee-v'>CPF</span></li><li><span class='ee-k'>CORRECTION_GAIN_BAND_6_VCID_1:</span><span class='ee-v'>CPF</span></li><li><span class='ee-k'>CORRECTION_GAIN_BAND_6_VCID_2:</span><span class='ee-v'>CPF</span></li><li><span class='ee-k'>CORRECTION_GAIN_BAND_7:</span><span class='ee-v'>CPF</span></li><li><span class='ee-k'>CORRECTION_GAIN_BAND_8:</span><span class='ee-v'>CPF</span></li><li><span class='ee-k'>DATA_SOURCE_AIR_TEMPERATURE:</span><span class='ee-v'>NCEP</span></li><li><span class='ee-k'>DATA_SOURCE_ELEVATION:</span><span class='ee-v'>GLS2000</span></li><li><span class='ee-k'>DATA_SOURCE_OZONE:</span><span class='ee-v'>TOMS</span></li><li><span class='ee-k'>DATA_SOURCE_PRESSURE:</span><span class='ee-v'>NCEP</span></li><li><span class='ee-k'>DATA_SOURCE_REANALYSIS:</span><span class='ee-v'>GEOS-5 FP-IT</span></li><li><span class='ee-k'>DATA_SOURCE_WATER_VAPOR:</span><span class='ee-v'>NCEP</span></li><li><span class='ee-k'>DATE_ACQUIRED:</span><span class='ee-v'>2017-11-21</span></li><li><span class='ee-k'>DATE_PRODUCT_GENERATED:</span><span class='ee-v'>1598780360000</span></li><li><span class='ee-k'>DATUM:</span><span class='ee-v'>WGS84</span></li><li><span class='ee-k'>EARTH_SUN_DISTANCE:</span><span class='ee-v'>0.9878619</span></li><li><span class='ee-k'>ELLIPSOID:</span><span class='ee-v'>WGS84</span></li><li><span class='ee-k'>EPHEMERIS_TYPE:</span><span class='ee-v'>DEFINITIVE</span></li><li><span class='ee-k'>GAIN_BAND_1:</span><span class='ee-v'>L</span></li><li><span class='ee-k'>GAIN_BAND_2:</span><span class='ee-v'>L</span></li><li><span class='ee-k'>GAIN_BAND_3:</span><span class='ee-v'>L</span></li><li><span class='ee-k'>GAIN_BAND_4:</span><span class='ee-v'>L</span></li><li><span class='ee-k'>GAIN_BAND_5:</span><span class='ee-v'>L</span></li><li><span class='ee-k'>GAIN_BAND_6_VCID_1:</span><span class='ee-v'>L</span></li><li><span class='ee-k'>GAIN_BAND_6_VCID_2:</span><span class='ee-v'>H</span></li><li><span class='ee-k'>GAIN_BAND_7:</span><span class='ee-v'>L</span></li><li><span class='ee-k'>GAIN_BAND_8:</span><span class='ee-v'>L</span></li><li><span class='ee-k'>GAIN_CHANGE_BAND_1:</span><span class='ee-v'>LL</span></li><li><span class='ee-k'>GAIN_CHANGE_BAND_2:</span><span class='ee-v'>LL</span></li><li><span class='ee-k'>GAIN_CHANGE_BAND_3:</span><span class='ee-v'>LL</span></li><li><span class='ee-k'>GAIN_CHANGE_BAND_4:</span><span class='ee-v'>LL</span></li><li><span class='ee-k'>GAIN_CHANGE_BAND_5:</span><span class='ee-v'>LL</span></li><li><span class='ee-k'>GAIN_CHANGE_BAND_6_VCID_1:</span><span class='ee-v'>LL</span></li><li><span class='ee-k'>GAIN_CHANGE_BAND_6_VCID_2:</span><span class='ee-v'>HH</span></li><li><span class='ee-k'>GAIN_CHANGE_BAND_7:</span><span class='ee-v'>LL</span></li><li><span class='ee-k'>GAIN_CHANGE_BAND_8:</span><span class='ee-v'>LL</span></li><li><span class='ee-k'>GAIN_CHANGE_SCAN_BAND_1:</span><span class='ee-v'>0</span></li><li><span class='ee-k'>GAIN_CHANGE_SCAN_BAND_2:</span><span class='ee-v'>0</span></li><li><span class='ee-k'>GAIN_CHANGE_SCAN_BAND_3:</span><span class='ee-v'>0</span></li><li><span class='ee-k'>GAIN_CHANGE_SCAN_BAND_4:</span><span class='ee-v'>0</span></li><li><span class='ee-k'>GAIN_CHANGE_SCAN_BAND_5:</span><span class='ee-v'>0</span></li><li><span class='ee-k'>GAIN_CHANGE_SCAN_BAND_6_VCID_1:</span><span class='ee-v'>0</span></li><li><span class='ee-k'>GAIN_CHANGE_SCAN_BAND_6_VCID_2:</span><span class='ee-v'>0</span></li><li><span class='ee-k'>GAIN_CHANGE_SCAN_BAND_7:</span><span class='ee-v'>0</span></li><li><span class='ee-k'>GAIN_CHANGE_SCAN_BAND_8:</span><span class='ee-v'>0</span></li><li><span class='ee-k'>GEOMETRIC_RMSE_MODEL:</span><span class='ee-v'>4.466</span></li><li><span class='ee-k'>GEOMETRIC_RMSE_MODEL_X:</span><span class='ee-v'>3.01</span></li><li><span class='ee-k'>GEOMETRIC_RMSE_MODEL_Y:</span><span class='ee-v'>3.299</span></li><li><span class='ee-k'>GRID_CELL_SIZE_REFLECTIVE:</span><span class='ee-v'>30</span></li><li><span class='ee-k'>GRID_CELL_SIZE_THERMAL:</span><span class='ee-v'>30</span></li><li><span class='ee-k'>GROUND_CONTROL_POINTS_MODEL:</span><span class='ee-v'>659</span></li><li><span class='ee-k'>GROUND_CONTROL_POINTS_VERSION:</span><span class='ee-v'>5</span></li><li><span class='ee-k'>IMAGE_QUALITY:</span><span class='ee-v'>9</span></li><li><span class='ee-k'>L1_DATE_PRODUCT_GENERATED:</span><span class='ee-v'>2020-08-30T09:25:55Z</span></li><li><span class='ee-k'>L1_LANDSAT_PRODUCT_ID:</span><span class='ee-v'>LE07_L1TP_173072_20171121_20200830_02_T1</span></li><li><span class='ee-k'>L1_PROCESSING_LEVEL:</span><span class='ee-v'>L1TP</span></li><li><span class='ee-k'>L1_PROCESSING_SOFTWARE_VERSION:</span><span class='ee-v'>LPGS_15.3.1c</span></li><li><span class='ee-k'>L1_REQUEST_ID:</span><span class='ee-v'>L2</span></li><li><span class='ee-k'>LANDSAT_PRODUCT_ID:</span><span class='ee-v'>LE07_L2SP_173072_20171121_20200830_02_T1</span></li><li><span class='ee-k'>LANDSAT_SCENE_ID:</span><span class='ee-v'>LE71730722017325SG100</span></li><li><span class='ee-k'>MAP_PROJECTION:</span><span class='ee-v'>UTM</span></li><li><span class='ee-k'>ORIENTATION:</span><span class='ee-v'>NORTH_UP</span></li><li><span class='ee-k'>PROCESSING_LEVEL:</span><span class='ee-v'>L2SP</span></li><li><span class='ee-k'>PROCESSING_SOFTWARE_VERSION:</span><span class='ee-v'>LPGS_15.3.1c</span></li><li><span class='ee-k'>REFLECTANCE_ADD_BAND_1:</span><span class='ee-v'>-0.2</span></li><li><span class='ee-k'>REFLECTANCE_ADD_BAND_2:</span><span class='ee-v'>-0.2</span></li><li><span class='ee-k'>REFLECTANCE_ADD_BAND_3:</span><span class='ee-v'>-0.2</span></li><li><span class='ee-k'>REFLECTANCE_ADD_BAND_4:</span><span class='ee-v'>-0.2</span></li><li><span class='ee-k'>REFLECTANCE_ADD_BAND_5:</span><span class='ee-v'>-0.2</span></li><li><span class='ee-k'>REFLECTANCE_ADD_BAND_7:</span><span class='ee-v'>-0.2</span></li><li><span class='ee-k'>REFLECTANCE_MULT_BAND_1:</span><span class='ee-v'>2.75e-05</span></li><li><span class='ee-k'>REFLECTANCE_MULT_BAND_2:</span><span class='ee-v'>2.75e-05</span></li><li><span class='ee-k'>REFLECTANCE_MULT_BAND_3:</span><span class='ee-v'>2.75e-05</span></li><li><span class='ee-k'>REFLECTANCE_MULT_BAND_4:</span><span class='ee-v'>2.75e-05</span></li><li><span class='ee-k'>REFLECTANCE_MULT_BAND_5:</span><span class='ee-v'>2.75e-05</span></li><li><span class='ee-k'>REFLECTANCE_MULT_BAND_7:</span><span class='ee-v'>2.75e-05</span></li><li><span class='ee-k'>REFLECTIVE_LINES:</span><span class='ee-v'>6951</span></li><li><span class='ee-k'>REFLECTIVE_SAMPLES:</span><span class='ee-v'>8081</span></li><li><span class='ee-k'>REQUEST_ID:</span><span class='ee-v'>L2</span></li><li><span class='ee-k'>SATURATION_BAND_1:</span><span class='ee-v'>Y</span></li><li><span class='ee-k'>SATURATION_BAND_2:</span><span class='ee-v'>Y</span></li><li><span class='ee-k'>SATURATION_BAND_3:</span><span class='ee-v'>Y</span></li><li><span class='ee-k'>SATURATION_BAND_4:</span><span class='ee-v'>Y</span></li><li><span class='ee-k'>SATURATION_BAND_5:</span><span class='ee-v'>Y</span></li><li><span class='ee-k'>SATURATION_BAND_6_VCID_1:</span><span class='ee-v'>N</span></li><li><span class='ee-k'>SATURATION_BAND_6_VCID_2:</span><span class='ee-v'>N</span></li><li><span class='ee-k'>SATURATION_BAND_7:</span><span class='ee-v'>Y</span></li><li><span class='ee-k'>SATURATION_BAND_8:</span><span class='ee-v'>N</span></li><li><span class='ee-k'>SCENE_CENTER_TIME:</span><span class='ee-v'>08:21:02.0808414Z</span></li><li><span class='ee-k'>SENSOR_ANOMALIES:</span><span class='ee-v'>NONE</span></li><li><span class='ee-k'>SENSOR_ID:</span><span class='ee-v'>ETM</span></li><li><span class='ee-k'>SENSOR_MODE:</span><span class='ee-v'>BUMPER</span></li><li><span class='ee-k'>SENSOR_MODE_SLC:</span><span class='ee-v'>OFF</span></li><li><span class='ee-k'>SPACECRAFT_ID:</span><span class='ee-v'>LANDSAT_7</span></li><li><span class='ee-k'>STATION_ID:</span><span class='ee-v'>SG1</span></li><li><span class='ee-k'>SUN_AZIMUTH:</span><span class='ee-v'>100.27016397</span></li><li><span class='ee-k'>SUN_ELEVATION:</span><span class='ee-v'>65.84109569</span></li><li><span class='ee-k'>TEMPERATURE_ADD_BAND_ST_B6:</span><span class='ee-v'>149</span></li><li><span class='ee-k'>TEMPERATURE_MAXIMUM_BAND_ST_B6:</span><span class='ee-v'>372.999941</span></li><li><span class='ee-k'>TEMPERATURE_MINIMUM_BAND_ST_B6:</span><span class='ee-v'>149.003418</span></li><li><span class='ee-k'>TEMPERATURE_MULT_BAND_ST_B6:</span><span class='ee-v'>0.00341802</span></li><li><span class='ee-k'>THERMAL_LINES:</span><span class='ee-v'>6951</span></li><li><span class='ee-k'>THERMAL_SAMPLES:</span><span class='ee-v'>8081</span></li><li><span class='ee-k'>UTM_ZONE:</span><span class='ee-v'>35</span></li><li><span class='ee-k'>WRS_PATH:</span><span class='ee-v'>173</span></li><li><span class='ee-k'>WRS_ROW:</span><span class='ee-v'>72</span></li><li><span class='ee-k'>WRS_TYPE:</span><span class='ee-v'>2</span></li><li><span class='ee-k'>system:asset_size:</span><span class='ee-v'>568794802</span></li><li><details><summary>system:footprint: LinearRing (19 vertices)</summary><ul><li><span class='ee-k'>type:</span><span class='ee-v'>LinearRing</span></li><li><details><summary>coordinates: List (19 elements)</summary><ul><li><details><summary>0: [26.50491928237432, -18.26245000389176]</summary><ul><li><span class='ee-k'>0:</span><span class='ee-v'>26.50491928237432</span></li><li><span class='ee-k'>1:</span><span class='ee-v'>-18.26245000389176</span></li></ul></details></li><li><details><summary>1: [26.562282695819334, -18.270377376379166]</summary><ul><li><span class='ee-k'>0:</span><span class='ee-v'>26.562282695819334</span></li><li><span class='ee-k'>1:</span><span class='ee-v'>-18.270377376379166</span></li></ul></details></li><li><details><summary>2: [26.571448319604645, -18.27039815351122]</summary><ul><li><span class='ee-k'>0:</span><span class='ee-v'>26.571448319604645</span></li><li><span class='ee-k'>1:</span><span class='ee-v'>-18.27039815351122</span></li></ul></details></li><li><details><summary>3: [26.57589438703095, -18.26842799793021]</summary><ul><li><span class='ee-k'>0:</span><span class='ee-v'>26.57589438703095</span></li><li><span class='ee-k'>1:</span><span class='ee-v'>-18.26842799793021</span></li></ul></details></li><li><details><summary>4: [26.579939553848877, -18.251223666575385]</summary><ul><li><span class='ee-k'>0:</span><span class='ee-v'>26.579939553848877</span></li><li><span class='ee-k'>1:</span><span class='ee-v'>-18.251223666575385</span></li></ul></details></li><li><details><summary>5: [26.622347344980984, -18.06177659412498]</summary><ul><li><span class='ee-k'>0:</span><span class='ee-v'>26.622347344980984</span></li><li><span class='ee-k'>1:</span><span class='ee-v'>-18.06177659412498</span></li></ul></details></li><li><details><summary>6: [26.929138207071663, -16.666812551351597]</summary><ul><li><span class='ee-k'>0:</span><span class='ee-v'>26.929138207071663</span></li><li><span class='ee-k'>1:</span><span class='ee-v'>-16.666812551351597</span></li></ul></details></li><li><details><summary>7: [26.91819673880225, -16.658254387732327]</summary><ul><li><span class='ee-k'>0:</span><span class='ee-v'>26.91819673880225</span></li><li><span class='ee-k'>1:</span><span class='ee-v'>-16.658254387732327</span></li></ul></details></li><li><details><summary>8: [25.13081718000534, -16.4020927300526]</summary><ul><li><span class='ee-k'>0:</span><span class='ee-v'>25.13081718000534</span></li><li><span class='ee-k'>1:</span><span class='ee-v'>-16.4020927300526</span></li></ul></details></li><li><details><summary>9: [25.127711291757088, -16.403392171048505]</summary><ul><li><span class='ee-k'>0:</span><span class='ee-v'>25.127711291757088</span></li><li><span class='ee-k'>1:</span><span class='ee-v'>-16.403392171048505</span></li></ul></details></li><li><details><summary>10: [25.121946675886115, -16.40885443425611]</summary><ul><li><span class='ee-k'>0:</span><span class='ee-v'>25.121946675886115</span></li><li><span class='ee-k'>1:</span><span class='ee-v'>-16.40885443425611</span></li></ul></details></li><li><details><summary>11: [24.976298490164467, -17.036961941853036]</summary><ul><li><span class='ee-k'>0:</span><span class='ee-v'>24.976298490164467</span></li><li><span class='ee-k'>1:</span><span class='ee-v'>-17.036961941853036</span></li></ul></details></li><li><details><summary>12: [24.780741883899964, -17.87883448265622]</summary><ul><li><span class='ee-k'>0:</span><span class='ee-v'>24.780741883899964</span></li><li><span class='ee-k'>1:</span><span class='ee-v'>-17.87883448265622</span></li></ul></details></li><li><details><summary>13: [24.774754443168952, -17.905053737744627]</summary><ul><li><span class='ee-k'>0:</span><span class='ee-v'>24.774754443168952</span></li><li><span class='ee-k'>1:</span><span class='ee-v'>-17.905053737744627</span></li></ul></details></li><li><details><summary>14: [24.753449244850792, -17.999714012310314]</summary><ul><li><span class='ee-k'>0:</span><span class='ee-v'>24.753449244850792</span></li><li><span class='ee-k'>1:</span><span class='ee-v'>-17.999714012310314</span></li></ul></details></li><li><details><summary>15: [24.75622114689637, -18.011484380858924]</summary><ul><li><span class='ee-k'>0:</span><span class='ee-v'>24.75622114689637</span></li><li><span class='ee-k'>1:</span><span class='ee-v'>-18.011484380858924</span></li></ul></details></li><li><details><summary>16: [24.889739759974248, -18.03126876136014]</summary><ul><li><span class='ee-k'>0:</span><span class='ee-v'>24.889739759974248</span></li><li><span class='ee-k'>1:</span><span class='ee-v'>-18.03126876136014</span></li></ul></details></li><li><details><summary>17: [25.352701783040622, -18.098976597571173]</summary><ul><li><span class='ee-k'>0:</span><span class='ee-v'>25.352701783040622</span></li><li><span class='ee-k'>1:</span><span class='ee-v'>-18.098976597571173</span></li></ul></details></li><li><details><summary>18: [26.50491928237432, -18.26245000389176]</summary><ul><li><span class='ee-k'>0:</span><span class='ee-v'>26.50491928237432</span></li><li><span class='ee-k'>1:</span><span class='ee-v'>-18.26245000389176</span></li></ul></details></li></ul></details></li></ul></details></li><li><span class='ee-k'>system:index:</span><span class='ee-v'>LE07_173072_20171121</span></li><li><span class='ee-k'>system:time_end:</span><span class='ee-v'>1511252462080</span></li><li><span class='ee-k'>system:time_start:</span><span class='ee-v'>1511252462080</span></li></ul></details></li></ul></details></li><li><details><summary>8: Image LANDSAT/LE07/C02/T1_L2/LE07_173073_20151116 (19 bands)</summary><ul><li><span class='ee-k'>type:</span><span class='ee-v'>Image</span></li><li><span class='ee-k'>id:</span><span class='ee-v'>LANDSAT/LE07/C02/T1_L2/LE07_173073_20151116</span></li><li><span class='ee-k'>version:</span><span class='ee-v'>1624538058125293</span></li><li><details><summary>bands: List (19 elements)</summary><ul><li><details><summary>0: \"SR_B1\", unsigned int16, EPSG:32635, 8061x6971 px</summary><ul><li><span class='ee-k'>id:</span><span class='ee-v'>SR_B1</span></li><li><span class='ee-k'>crs:</span><span class='ee-v'>EPSG:32635</span></li><li><details><summary>crs_transform: [30, 0, 227685, 0, -30, -1972485]</summary><ul><li><span class='ee-k'>0:</span><span class='ee-v'>30</span></li><li><span class='ee-k'>1:</span><span class='ee-v'>0</span></li><li><span class='ee-k'>2:</span><span class='ee-v'>227685</span></li><li><span class='ee-k'>3:</span><span class='ee-v'>0</span></li><li><span class='ee-k'>4:</span><span class='ee-v'>-30</span></li><li><span class='ee-k'>5:</span><span class='ee-v'>-1972485</span></li></ul></details></li><li><details><summary>data_type: unsigned int16</summary><ul><li><span class='ee-k'>type:</span><span class='ee-v'>PixelType</span></li><li><span class='ee-k'>max:</span><span class='ee-v'>65535</span></li><li><span class='ee-k'>min:</span><span class='ee-v'>0</span></li><li><span class='ee-k'>precision:</span><span class='ee-v'>int</span></li></ul></details></li><li><details><summary>dimensions: [8061, 6971]</summary><ul><li><span class='ee-k'>0:</span><span class='ee-v'>8061</span></li><li><span class='ee-k'>1:</span><span class='ee-v'>6971</span></li></ul></details></li></ul></details></li><li><details><summary>1: \"SR_B2\", unsigned int16, EPSG:32635, 8061x6971 px</summary><ul><li><span class='ee-k'>id:</span><span class='ee-v'>SR_B2</span></li><li><span class='ee-k'>crs:</span><span class='ee-v'>EPSG:32635</span></li><li><details><summary>crs_transform: [30, 0, 227685, 0, -30, -1972485]</summary><ul><li><span class='ee-k'>0:</span><span class='ee-v'>30</span></li><li><span class='ee-k'>1:</span><span class='ee-v'>0</span></li><li><span class='ee-k'>2:</span><span class='ee-v'>227685</span></li><li><span class='ee-k'>3:</span><span class='ee-v'>0</span></li><li><span class='ee-k'>4:</span><span class='ee-v'>-30</span></li><li><span class='ee-k'>5:</span><span class='ee-v'>-1972485</span></li></ul></details></li><li><details><summary>data_type: unsigned int16</summary><ul><li><span class='ee-k'>type:</span><span class='ee-v'>PixelType</span></li><li><span class='ee-k'>max:</span><span class='ee-v'>65535</span></li><li><span class='ee-k'>min:</span><span class='ee-v'>0</span></li><li><span class='ee-k'>precision:</span><span class='ee-v'>int</span></li></ul></details></li><li><details><summary>dimensions: [8061, 6971]</summary><ul><li><span class='ee-k'>0:</span><span class='ee-v'>8061</span></li><li><span class='ee-k'>1:</span><span class='ee-v'>6971</span></li></ul></details></li></ul></details></li><li><details><summary>2: \"SR_B3\", unsigned int16, EPSG:32635, 8061x6971 px</summary><ul><li><span class='ee-k'>id:</span><span class='ee-v'>SR_B3</span></li><li><span class='ee-k'>crs:</span><span class='ee-v'>EPSG:32635</span></li><li><details><summary>crs_transform: [30, 0, 227685, 0, -30, -1972485]</summary><ul><li><span class='ee-k'>0:</span><span class='ee-v'>30</span></li><li><span class='ee-k'>1:</span><span class='ee-v'>0</span></li><li><span class='ee-k'>2:</span><span class='ee-v'>227685</span></li><li><span class='ee-k'>3:</span><span class='ee-v'>0</span></li><li><span class='ee-k'>4:</span><span class='ee-v'>-30</span></li><li><span class='ee-k'>5:</span><span class='ee-v'>-1972485</span></li></ul></details></li><li><details><summary>data_type: unsigned int16</summary><ul><li><span class='ee-k'>type:</span><span class='ee-v'>PixelType</span></li><li><span class='ee-k'>max:</span><span class='ee-v'>65535</span></li><li><span class='ee-k'>min:</span><span class='ee-v'>0</span></li><li><span class='ee-k'>precision:</span><span class='ee-v'>int</span></li></ul></details></li><li><details><summary>dimensions: [8061, 6971]</summary><ul><li><span class='ee-k'>0:</span><span class='ee-v'>8061</span></li><li><span class='ee-k'>1:</span><span class='ee-v'>6971</span></li></ul></details></li></ul></details></li><li><details><summary>3: \"SR_B4\", unsigned int16, EPSG:32635, 8061x6971 px</summary><ul><li><span class='ee-k'>id:</span><span class='ee-v'>SR_B4</span></li><li><span class='ee-k'>crs:</span><span class='ee-v'>EPSG:32635</span></li><li><details><summary>crs_transform: [30, 0, 227685, 0, -30, -1972485]</summary><ul><li><span class='ee-k'>0:</span><span class='ee-v'>30</span></li><li><span class='ee-k'>1:</span><span class='ee-v'>0</span></li><li><span class='ee-k'>2:</span><span class='ee-v'>227685</span></li><li><span class='ee-k'>3:</span><span class='ee-v'>0</span></li><li><span class='ee-k'>4:</span><span class='ee-v'>-30</span></li><li><span class='ee-k'>5:</span><span class='ee-v'>-1972485</span></li></ul></details></li><li><details><summary>data_type: unsigned int16</summary><ul><li><span class='ee-k'>type:</span><span class='ee-v'>PixelType</span></li><li><span class='ee-k'>max:</span><span class='ee-v'>65535</span></li><li><span class='ee-k'>min:</span><span class='ee-v'>0</span></li><li><span class='ee-k'>precision:</span><span class='ee-v'>int</span></li></ul></details></li><li><details><summary>dimensions: [8061, 6971]</summary><ul><li><span class='ee-k'>0:</span><span class='ee-v'>8061</span></li><li><span class='ee-k'>1:</span><span class='ee-v'>6971</span></li></ul></details></li></ul></details></li><li><details><summary>4: \"SR_B5\", unsigned int16, EPSG:32635, 8061x6971 px</summary><ul><li><span class='ee-k'>id:</span><span class='ee-v'>SR_B5</span></li><li><span class='ee-k'>crs:</span><span class='ee-v'>EPSG:32635</span></li><li><details><summary>crs_transform: [30, 0, 227685, 0, -30, -1972485]</summary><ul><li><span class='ee-k'>0:</span><span class='ee-v'>30</span></li><li><span class='ee-k'>1:</span><span class='ee-v'>0</span></li><li><span class='ee-k'>2:</span><span class='ee-v'>227685</span></li><li><span class='ee-k'>3:</span><span class='ee-v'>0</span></li><li><span class='ee-k'>4:</span><span class='ee-v'>-30</span></li><li><span class='ee-k'>5:</span><span class='ee-v'>-1972485</span></li></ul></details></li><li><details><summary>data_type: unsigned int16</summary><ul><li><span class='ee-k'>type:</span><span class='ee-v'>PixelType</span></li><li><span class='ee-k'>max:</span><span class='ee-v'>65535</span></li><li><span class='ee-k'>min:</span><span class='ee-v'>0</span></li><li><span class='ee-k'>precision:</span><span class='ee-v'>int</span></li></ul></details></li><li><details><summary>dimensions: [8061, 6971]</summary><ul><li><span class='ee-k'>0:</span><span class='ee-v'>8061</span></li><li><span class='ee-k'>1:</span><span class='ee-v'>6971</span></li></ul></details></li></ul></details></li><li><details><summary>5: \"SR_B7\", unsigned int16, EPSG:32635, 8061x6971 px</summary><ul><li><span class='ee-k'>id:</span><span class='ee-v'>SR_B7</span></li><li><span class='ee-k'>crs:</span><span class='ee-v'>EPSG:32635</span></li><li><details><summary>crs_transform: [30, 0, 227685, 0, -30, -1972485]</summary><ul><li><span class='ee-k'>0:</span><span class='ee-v'>30</span></li><li><span class='ee-k'>1:</span><span class='ee-v'>0</span></li><li><span class='ee-k'>2:</span><span class='ee-v'>227685</span></li><li><span class='ee-k'>3:</span><span class='ee-v'>0</span></li><li><span class='ee-k'>4:</span><span class='ee-v'>-30</span></li><li><span class='ee-k'>5:</span><span class='ee-v'>-1972485</span></li></ul></details></li><li><details><summary>data_type: unsigned int16</summary><ul><li><span class='ee-k'>type:</span><span class='ee-v'>PixelType</span></li><li><span class='ee-k'>max:</span><span class='ee-v'>65535</span></li><li><span class='ee-k'>min:</span><span class='ee-v'>0</span></li><li><span class='ee-k'>precision:</span><span class='ee-v'>int</span></li></ul></details></li><li><details><summary>dimensions: [8061, 6971]</summary><ul><li><span class='ee-k'>0:</span><span class='ee-v'>8061</span></li><li><span class='ee-k'>1:</span><span class='ee-v'>6971</span></li></ul></details></li></ul></details></li><li><details><summary>6: \"SR_ATMOS_OPACITY\", signed int16, EPSG:32635, 8061x6971 px</summary><ul><li><span class='ee-k'>id:</span><span class='ee-v'>SR_ATMOS_OPACITY</span></li><li><span class='ee-k'>crs:</span><span class='ee-v'>EPSG:32635</span></li><li><details><summary>crs_transform: [30, 0, 227685, 0, -30, -1972485]</summary><ul><li><span class='ee-k'>0:</span><span class='ee-v'>30</span></li><li><span class='ee-k'>1:</span><span class='ee-v'>0</span></li><li><span class='ee-k'>2:</span><span class='ee-v'>227685</span></li><li><span class='ee-k'>3:</span><span class='ee-v'>0</span></li><li><span class='ee-k'>4:</span><span class='ee-v'>-30</span></li><li><span class='ee-k'>5:</span><span class='ee-v'>-1972485</span></li></ul></details></li><li><details><summary>data_type: signed int16</summary><ul><li><span class='ee-k'>type:</span><span class='ee-v'>PixelType</span></li><li><span class='ee-k'>max:</span><span class='ee-v'>32767</span></li><li><span class='ee-k'>min:</span><span class='ee-v'>-32768</span></li><li><span class='ee-k'>precision:</span><span class='ee-v'>int</span></li></ul></details></li><li><details><summary>dimensions: [8061, 6971]</summary><ul><li><span class='ee-k'>0:</span><span class='ee-v'>8061</span></li><li><span class='ee-k'>1:</span><span class='ee-v'>6971</span></li></ul></details></li></ul></details></li><li><details><summary>7: \"SR_CLOUD_QA\", unsigned int8, EPSG:32635, 8061x6971 px</summary><ul><li><span class='ee-k'>id:</span><span class='ee-v'>SR_CLOUD_QA</span></li><li><span class='ee-k'>crs:</span><span class='ee-v'>EPSG:32635</span></li><li><details><summary>crs_transform: [30, 0, 227685, 0, -30, -1972485]</summary><ul><li><span class='ee-k'>0:</span><span class='ee-v'>30</span></li><li><span class='ee-k'>1:</span><span class='ee-v'>0</span></li><li><span class='ee-k'>2:</span><span class='ee-v'>227685</span></li><li><span class='ee-k'>3:</span><span class='ee-v'>0</span></li><li><span class='ee-k'>4:</span><span class='ee-v'>-30</span></li><li><span class='ee-k'>5:</span><span class='ee-v'>-1972485</span></li></ul></details></li><li><details><summary>data_type: unsigned int8</summary><ul><li><span class='ee-k'>type:</span><span class='ee-v'>PixelType</span></li><li><span class='ee-k'>max:</span><span class='ee-v'>255</span></li><li><span class='ee-k'>min:</span><span class='ee-v'>0</span></li><li><span class='ee-k'>precision:</span><span class='ee-v'>int</span></li></ul></details></li><li><details><summary>dimensions: [8061, 6971]</summary><ul><li><span class='ee-k'>0:</span><span class='ee-v'>8061</span></li><li><span class='ee-k'>1:</span><span class='ee-v'>6971</span></li></ul></details></li></ul></details></li><li><details><summary>8: \"ST_B6\", unsigned int16, EPSG:32635, 8061x6971 px</summary><ul><li><span class='ee-k'>id:</span><span class='ee-v'>ST_B6</span></li><li><span class='ee-k'>crs:</span><span class='ee-v'>EPSG:32635</span></li><li><details><summary>crs_transform: [30, 0, 227685, 0, -30, -1972485]</summary><ul><li><span class='ee-k'>0:</span><span class='ee-v'>30</span></li><li><span class='ee-k'>1:</span><span class='ee-v'>0</span></li><li><span class='ee-k'>2:</span><span class='ee-v'>227685</span></li><li><span class='ee-k'>3:</span><span class='ee-v'>0</span></li><li><span class='ee-k'>4:</span><span class='ee-v'>-30</span></li><li><span class='ee-k'>5:</span><span class='ee-v'>-1972485</span></li></ul></details></li><li><details><summary>data_type: unsigned int16</summary><ul><li><span class='ee-k'>type:</span><span class='ee-v'>PixelType</span></li><li><span class='ee-k'>max:</span><span class='ee-v'>65535</span></li><li><span class='ee-k'>min:</span><span class='ee-v'>0</span></li><li><span class='ee-k'>precision:</span><span class='ee-v'>int</span></li></ul></details></li><li><details><summary>dimensions: [8061, 6971]</summary><ul><li><span class='ee-k'>0:</span><span class='ee-v'>8061</span></li><li><span class='ee-k'>1:</span><span class='ee-v'>6971</span></li></ul></details></li></ul></details></li><li><details><summary>9: \"ST_ATRAN\", signed int16, EPSG:32635, 8061x6971 px</summary><ul><li><span class='ee-k'>id:</span><span class='ee-v'>ST_ATRAN</span></li><li><span class='ee-k'>crs:</span><span class='ee-v'>EPSG:32635</span></li><li><details><summary>crs_transform: [30, 0, 227685, 0, -30, -1972485]</summary><ul><li><span class='ee-k'>0:</span><span class='ee-v'>30</span></li><li><span class='ee-k'>1:</span><span class='ee-v'>0</span></li><li><span class='ee-k'>2:</span><span class='ee-v'>227685</span></li><li><span class='ee-k'>3:</span><span class='ee-v'>0</span></li><li><span class='ee-k'>4:</span><span class='ee-v'>-30</span></li><li><span class='ee-k'>5:</span><span class='ee-v'>-1972485</span></li></ul></details></li><li><details><summary>data_type: signed int16</summary><ul><li><span class='ee-k'>type:</span><span class='ee-v'>PixelType</span></li><li><span class='ee-k'>max:</span><span class='ee-v'>32767</span></li><li><span class='ee-k'>min:</span><span class='ee-v'>-32768</span></li><li><span class='ee-k'>precision:</span><span class='ee-v'>int</span></li></ul></details></li><li><details><summary>dimensions: [8061, 6971]</summary><ul><li><span class='ee-k'>0:</span><span class='ee-v'>8061</span></li><li><span class='ee-k'>1:</span><span class='ee-v'>6971</span></li></ul></details></li></ul></details></li><li><details><summary>10: \"ST_CDIST\", signed int16, EPSG:32635, 8061x6971 px</summary><ul><li><span class='ee-k'>id:</span><span class='ee-v'>ST_CDIST</span></li><li><span class='ee-k'>crs:</span><span class='ee-v'>EPSG:32635</span></li><li><details><summary>crs_transform: [30, 0, 227685, 0, -30, -1972485]</summary><ul><li><span class='ee-k'>0:</span><span class='ee-v'>30</span></li><li><span class='ee-k'>1:</span><span class='ee-v'>0</span></li><li><span class='ee-k'>2:</span><span class='ee-v'>227685</span></li><li><span class='ee-k'>3:</span><span class='ee-v'>0</span></li><li><span class='ee-k'>4:</span><span class='ee-v'>-30</span></li><li><span class='ee-k'>5:</span><span class='ee-v'>-1972485</span></li></ul></details></li><li><details><summary>data_type: signed int16</summary><ul><li><span class='ee-k'>type:</span><span class='ee-v'>PixelType</span></li><li><span class='ee-k'>max:</span><span class='ee-v'>32767</span></li><li><span class='ee-k'>min:</span><span class='ee-v'>-32768</span></li><li><span class='ee-k'>precision:</span><span class='ee-v'>int</span></li></ul></details></li><li><details><summary>dimensions: [8061, 6971]</summary><ul><li><span class='ee-k'>0:</span><span class='ee-v'>8061</span></li><li><span class='ee-k'>1:</span><span class='ee-v'>6971</span></li></ul></details></li></ul></details></li><li><details><summary>11: \"ST_DRAD\", signed int16, EPSG:32635, 8061x6971 px</summary><ul><li><span class='ee-k'>id:</span><span class='ee-v'>ST_DRAD</span></li><li><span class='ee-k'>crs:</span><span class='ee-v'>EPSG:32635</span></li><li><details><summary>crs_transform: [30, 0, 227685, 0, -30, -1972485]</summary><ul><li><span class='ee-k'>0:</span><span class='ee-v'>30</span></li><li><span class='ee-k'>1:</span><span class='ee-v'>0</span></li><li><span class='ee-k'>2:</span><span class='ee-v'>227685</span></li><li><span class='ee-k'>3:</span><span class='ee-v'>0</span></li><li><span class='ee-k'>4:</span><span class='ee-v'>-30</span></li><li><span class='ee-k'>5:</span><span class='ee-v'>-1972485</span></li></ul></details></li><li><details><summary>data_type: signed int16</summary><ul><li><span class='ee-k'>type:</span><span class='ee-v'>PixelType</span></li><li><span class='ee-k'>max:</span><span class='ee-v'>32767</span></li><li><span class='ee-k'>min:</span><span class='ee-v'>-32768</span></li><li><span class='ee-k'>precision:</span><span class='ee-v'>int</span></li></ul></details></li><li><details><summary>dimensions: [8061, 6971]</summary><ul><li><span class='ee-k'>0:</span><span class='ee-v'>8061</span></li><li><span class='ee-k'>1:</span><span class='ee-v'>6971</span></li></ul></details></li></ul></details></li><li><details><summary>12: \"ST_EMIS\", signed int16, EPSG:32635, 8061x6971 px</summary><ul><li><span class='ee-k'>id:</span><span class='ee-v'>ST_EMIS</span></li><li><span class='ee-k'>crs:</span><span class='ee-v'>EPSG:32635</span></li><li><details><summary>crs_transform: [30, 0, 227685, 0, -30, -1972485]</summary><ul><li><span class='ee-k'>0:</span><span class='ee-v'>30</span></li><li><span class='ee-k'>1:</span><span class='ee-v'>0</span></li><li><span class='ee-k'>2:</span><span class='ee-v'>227685</span></li><li><span class='ee-k'>3:</span><span class='ee-v'>0</span></li><li><span class='ee-k'>4:</span><span class='ee-v'>-30</span></li><li><span class='ee-k'>5:</span><span class='ee-v'>-1972485</span></li></ul></details></li><li><details><summary>data_type: signed int16</summary><ul><li><span class='ee-k'>type:</span><span class='ee-v'>PixelType</span></li><li><span class='ee-k'>max:</span><span class='ee-v'>32767</span></li><li><span class='ee-k'>min:</span><span class='ee-v'>-32768</span></li><li><span class='ee-k'>precision:</span><span class='ee-v'>int</span></li></ul></details></li><li><details><summary>dimensions: [8061, 6971]</summary><ul><li><span class='ee-k'>0:</span><span class='ee-v'>8061</span></li><li><span class='ee-k'>1:</span><span class='ee-v'>6971</span></li></ul></details></li></ul></details></li><li><details><summary>13: \"ST_EMSD\", signed int16, EPSG:32635, 8061x6971 px</summary><ul><li><span class='ee-k'>id:</span><span class='ee-v'>ST_EMSD</span></li><li><span class='ee-k'>crs:</span><span class='ee-v'>EPSG:32635</span></li><li><details><summary>crs_transform: [30, 0, 227685, 0, -30, -1972485]</summary><ul><li><span class='ee-k'>0:</span><span class='ee-v'>30</span></li><li><span class='ee-k'>1:</span><span class='ee-v'>0</span></li><li><span class='ee-k'>2:</span><span class='ee-v'>227685</span></li><li><span class='ee-k'>3:</span><span class='ee-v'>0</span></li><li><span class='ee-k'>4:</span><span class='ee-v'>-30</span></li><li><span class='ee-k'>5:</span><span class='ee-v'>-1972485</span></li></ul></details></li><li><details><summary>data_type: signed int16</summary><ul><li><span class='ee-k'>type:</span><span class='ee-v'>PixelType</span></li><li><span class='ee-k'>max:</span><span class='ee-v'>32767</span></li><li><span class='ee-k'>min:</span><span class='ee-v'>-32768</span></li><li><span class='ee-k'>precision:</span><span class='ee-v'>int</span></li></ul></details></li><li><details><summary>dimensions: [8061, 6971]</summary><ul><li><span class='ee-k'>0:</span><span class='ee-v'>8061</span></li><li><span class='ee-k'>1:</span><span class='ee-v'>6971</span></li></ul></details></li></ul></details></li><li><details><summary>14: \"ST_QA\", signed int16, EPSG:32635, 8061x6971 px</summary><ul><li><span class='ee-k'>id:</span><span class='ee-v'>ST_QA</span></li><li><span class='ee-k'>crs:</span><span class='ee-v'>EPSG:32635</span></li><li><details><summary>crs_transform: [30, 0, 227685, 0, -30, -1972485]</summary><ul><li><span class='ee-k'>0:</span><span class='ee-v'>30</span></li><li><span class='ee-k'>1:</span><span class='ee-v'>0</span></li><li><span class='ee-k'>2:</span><span class='ee-v'>227685</span></li><li><span class='ee-k'>3:</span><span class='ee-v'>0</span></li><li><span class='ee-k'>4:</span><span class='ee-v'>-30</span></li><li><span class='ee-k'>5:</span><span class='ee-v'>-1972485</span></li></ul></details></li><li><details><summary>data_type: signed int16</summary><ul><li><span class='ee-k'>type:</span><span class='ee-v'>PixelType</span></li><li><span class='ee-k'>max:</span><span class='ee-v'>32767</span></li><li><span class='ee-k'>min:</span><span class='ee-v'>-32768</span></li><li><span class='ee-k'>precision:</span><span class='ee-v'>int</span></li></ul></details></li><li><details><summary>dimensions: [8061, 6971]</summary><ul><li><span class='ee-k'>0:</span><span class='ee-v'>8061</span></li><li><span class='ee-k'>1:</span><span class='ee-v'>6971</span></li></ul></details></li></ul></details></li><li><details><summary>15: \"ST_TRAD\", signed int16, EPSG:32635, 8061x6971 px</summary><ul><li><span class='ee-k'>id:</span><span class='ee-v'>ST_TRAD</span></li><li><span class='ee-k'>crs:</span><span class='ee-v'>EPSG:32635</span></li><li><details><summary>crs_transform: [30, 0, 227685, 0, -30, -1972485]</summary><ul><li><span class='ee-k'>0:</span><span class='ee-v'>30</span></li><li><span class='ee-k'>1:</span><span class='ee-v'>0</span></li><li><span class='ee-k'>2:</span><span class='ee-v'>227685</span></li><li><span class='ee-k'>3:</span><span class='ee-v'>0</span></li><li><span class='ee-k'>4:</span><span class='ee-v'>-30</span></li><li><span class='ee-k'>5:</span><span class='ee-v'>-1972485</span></li></ul></details></li><li><details><summary>data_type: signed int16</summary><ul><li><span class='ee-k'>type:</span><span class='ee-v'>PixelType</span></li><li><span class='ee-k'>max:</span><span class='ee-v'>32767</span></li><li><span class='ee-k'>min:</span><span class='ee-v'>-32768</span></li><li><span class='ee-k'>precision:</span><span class='ee-v'>int</span></li></ul></details></li><li><details><summary>dimensions: [8061, 6971]</summary><ul><li><span class='ee-k'>0:</span><span class='ee-v'>8061</span></li><li><span class='ee-k'>1:</span><span class='ee-v'>6971</span></li></ul></details></li></ul></details></li><li><details><summary>16: \"ST_URAD\", signed int16, EPSG:32635, 8061x6971 px</summary><ul><li><span class='ee-k'>id:</span><span class='ee-v'>ST_URAD</span></li><li><span class='ee-k'>crs:</span><span class='ee-v'>EPSG:32635</span></li><li><details><summary>crs_transform: [30, 0, 227685, 0, -30, -1972485]</summary><ul><li><span class='ee-k'>0:</span><span class='ee-v'>30</span></li><li><span class='ee-k'>1:</span><span class='ee-v'>0</span></li><li><span class='ee-k'>2:</span><span class='ee-v'>227685</span></li><li><span class='ee-k'>3:</span><span class='ee-v'>0</span></li><li><span class='ee-k'>4:</span><span class='ee-v'>-30</span></li><li><span class='ee-k'>5:</span><span class='ee-v'>-1972485</span></li></ul></details></li><li><details><summary>data_type: signed int16</summary><ul><li><span class='ee-k'>type:</span><span class='ee-v'>PixelType</span></li><li><span class='ee-k'>max:</span><span class='ee-v'>32767</span></li><li><span class='ee-k'>min:</span><span class='ee-v'>-32768</span></li><li><span class='ee-k'>precision:</span><span class='ee-v'>int</span></li></ul></details></li><li><details><summary>dimensions: [8061, 6971]</summary><ul><li><span class='ee-k'>0:</span><span class='ee-v'>8061</span></li><li><span class='ee-k'>1:</span><span class='ee-v'>6971</span></li></ul></details></li></ul></details></li><li><details><summary>17: \"QA_PIXEL\", unsigned int16, EPSG:32635, 8061x6971 px</summary><ul><li><span class='ee-k'>id:</span><span class='ee-v'>QA_PIXEL</span></li><li><span class='ee-k'>crs:</span><span class='ee-v'>EPSG:32635</span></li><li><details><summary>crs_transform: [30, 0, 227685, 0, -30, -1972485]</summary><ul><li><span class='ee-k'>0:</span><span class='ee-v'>30</span></li><li><span class='ee-k'>1:</span><span class='ee-v'>0</span></li><li><span class='ee-k'>2:</span><span class='ee-v'>227685</span></li><li><span class='ee-k'>3:</span><span class='ee-v'>0</span></li><li><span class='ee-k'>4:</span><span class='ee-v'>-30</span></li><li><span class='ee-k'>5:</span><span class='ee-v'>-1972485</span></li></ul></details></li><li><details><summary>data_type: unsigned int16</summary><ul><li><span class='ee-k'>type:</span><span class='ee-v'>PixelType</span></li><li><span class='ee-k'>max:</span><span class='ee-v'>65535</span></li><li><span class='ee-k'>min:</span><span class='ee-v'>0</span></li><li><span class='ee-k'>precision:</span><span class='ee-v'>int</span></li></ul></details></li><li><details><summary>dimensions: [8061, 6971]</summary><ul><li><span class='ee-k'>0:</span><span class='ee-v'>8061</span></li><li><span class='ee-k'>1:</span><span class='ee-v'>6971</span></li></ul></details></li></ul></details></li><li><details><summary>18: \"QA_RADSAT\", unsigned int16, EPSG:32635, 8061x6971 px</summary><ul><li><span class='ee-k'>id:</span><span class='ee-v'>QA_RADSAT</span></li><li><span class='ee-k'>crs:</span><span class='ee-v'>EPSG:32635</span></li><li><details><summary>crs_transform: [30, 0, 227685, 0, -30, -1972485]</summary><ul><li><span class='ee-k'>0:</span><span class='ee-v'>30</span></li><li><span class='ee-k'>1:</span><span class='ee-v'>0</span></li><li><span class='ee-k'>2:</span><span class='ee-v'>227685</span></li><li><span class='ee-k'>3:</span><span class='ee-v'>0</span></li><li><span class='ee-k'>4:</span><span class='ee-v'>-30</span></li><li><span class='ee-k'>5:</span><span class='ee-v'>-1972485</span></li></ul></details></li><li><details><summary>data_type: unsigned int16</summary><ul><li><span class='ee-k'>type:</span><span class='ee-v'>PixelType</span></li><li><span class='ee-k'>max:</span><span class='ee-v'>65535</span></li><li><span class='ee-k'>min:</span><span class='ee-v'>0</span></li><li><span class='ee-k'>precision:</span><span class='ee-v'>int</span></li></ul></details></li><li><details><summary>dimensions: [8061, 6971]</summary><ul><li><span class='ee-k'>0:</span><span class='ee-v'>8061</span></li><li><span class='ee-k'>1:</span><span class='ee-v'>6971</span></li></ul></details></li></ul></details></li></ul></details></li><li><details><summary>properties: Object (130 properties)</summary><ul><li><span class='ee-k'>ALGORITHM_SOURCE_SURFACE_REFLECTANCE:</span><span class='ee-v'>LEDAPS_3.4.0</span></li><li><span class='ee-k'>ALGORITHM_SOURCE_SURFACE_TEMPERATURE:</span><span class='ee-v'>st_1.3.0</span></li><li><span class='ee-k'>CLOUD_COVER:</span><span class='ee-v'>4</span></li><li><span class='ee-k'>CLOUD_COVER_LAND:</span><span class='ee-v'>4</span></li><li><span class='ee-k'>COLLECTION_CATEGORY:</span><span class='ee-v'>T1</span></li><li><span class='ee-k'>COLLECTION_NUMBER:</span><span class='ee-v'>2</span></li><li><span class='ee-k'>CORRECTION_BIAS_BAND_1:</span><span class='ee-v'>INTERNAL_CALIBRATION</span></li><li><span class='ee-k'>CORRECTION_BIAS_BAND_2:</span><span class='ee-v'>INTERNAL_CALIBRATION</span></li><li><span class='ee-k'>CORRECTION_BIAS_BAND_3:</span><span class='ee-v'>INTERNAL_CALIBRATION</span></li><li><span class='ee-k'>CORRECTION_BIAS_BAND_4:</span><span class='ee-v'>INTERNAL_CALIBRATION</span></li><li><span class='ee-k'>CORRECTION_BIAS_BAND_5:</span><span class='ee-v'>INTERNAL_CALIBRATION</span></li><li><span class='ee-k'>CORRECTION_BIAS_BAND_6_VCID_1:</span><span class='ee-v'>INTERNAL_CALIBRATION</span></li><li><span class='ee-k'>CORRECTION_BIAS_BAND_6_VCID_2:</span><span class='ee-v'>INTERNAL_CALIBRATION</span></li><li><span class='ee-k'>CORRECTION_BIAS_BAND_7:</span><span class='ee-v'>INTERNAL_CALIBRATION</span></li><li><span class='ee-k'>CORRECTION_BIAS_BAND_8:</span><span class='ee-v'>INTERNAL_CALIBRATION</span></li><li><span class='ee-k'>CORRECTION_GAIN_BAND_1:</span><span class='ee-v'>CPF</span></li><li><span class='ee-k'>CORRECTION_GAIN_BAND_2:</span><span class='ee-v'>CPF</span></li><li><span class='ee-k'>CORRECTION_GAIN_BAND_3:</span><span class='ee-v'>CPF</span></li><li><span class='ee-k'>CORRECTION_GAIN_BAND_4:</span><span class='ee-v'>CPF</span></li><li><span class='ee-k'>CORRECTION_GAIN_BAND_5:</span><span class='ee-v'>CPF</span></li><li><span class='ee-k'>CORRECTION_GAIN_BAND_6_VCID_1:</span><span class='ee-v'>CPF</span></li><li><span class='ee-k'>CORRECTION_GAIN_BAND_6_VCID_2:</span><span class='ee-v'>CPF</span></li><li><span class='ee-k'>CORRECTION_GAIN_BAND_7:</span><span class='ee-v'>CPF</span></li><li><span class='ee-k'>CORRECTION_GAIN_BAND_8:</span><span class='ee-v'>CPF</span></li><li><span class='ee-k'>DATA_SOURCE_AIR_TEMPERATURE:</span><span class='ee-v'>NCEP</span></li><li><span class='ee-k'>DATA_SOURCE_ELEVATION:</span><span class='ee-v'>GLS2000</span></li><li><span class='ee-k'>DATA_SOURCE_OZONE:</span><span class='ee-v'>TOMS</span></li><li><span class='ee-k'>DATA_SOURCE_PRESSURE:</span><span class='ee-v'>NCEP</span></li><li><span class='ee-k'>DATA_SOURCE_REANALYSIS:</span><span class='ee-v'>GEOS-5 FP-IT</span></li><li><span class='ee-k'>DATA_SOURCE_WATER_VAPOR:</span><span class='ee-v'>NCEP</span></li><li><span class='ee-k'>DATE_ACQUIRED:</span><span class='ee-v'>2015-11-16</span></li><li><span class='ee-k'>DATE_PRODUCT_GENERATED:</span><span class='ee-v'>1599130413000</span></li><li><span class='ee-k'>DATUM:</span><span class='ee-v'>WGS84</span></li><li><span class='ee-k'>EARTH_SUN_DISTANCE:</span><span class='ee-v'>0.9890091</span></li><li><span class='ee-k'>ELLIPSOID:</span><span class='ee-v'>WGS84</span></li><li><span class='ee-k'>EPHEMERIS_TYPE:</span><span class='ee-v'>DEFINITIVE</span></li><li><span class='ee-k'>GAIN_BAND_1:</span><span class='ee-v'>H</span></li><li><span class='ee-k'>GAIN_BAND_2:</span><span class='ee-v'>H</span></li><li><span class='ee-k'>GAIN_BAND_3:</span><span class='ee-v'>H</span></li><li><span class='ee-k'>GAIN_BAND_4:</span><span class='ee-v'>L</span></li><li><span class='ee-k'>GAIN_BAND_5:</span><span class='ee-v'>H</span></li><li><span class='ee-k'>GAIN_BAND_6_VCID_1:</span><span class='ee-v'>L</span></li><li><span class='ee-k'>GAIN_BAND_6_VCID_2:</span><span class='ee-v'>H</span></li><li><span class='ee-k'>GAIN_BAND_7:</span><span class='ee-v'>H</span></li><li><span class='ee-k'>GAIN_BAND_8:</span><span class='ee-v'>L</span></li><li><span class='ee-k'>GAIN_CHANGE_BAND_1:</span><span class='ee-v'>HH</span></li><li><span class='ee-k'>GAIN_CHANGE_BAND_2:</span><span class='ee-v'>HH</span></li><li><span class='ee-k'>GAIN_CHANGE_BAND_3:</span><span class='ee-v'>HH</span></li><li><span class='ee-k'>GAIN_CHANGE_BAND_4:</span><span class='ee-v'>LL</span></li><li><span class='ee-k'>GAIN_CHANGE_BAND_5:</span><span class='ee-v'>HH</span></li><li><span class='ee-k'>GAIN_CHANGE_BAND_6_VCID_1:</span><span class='ee-v'>LL</span></li><li><span class='ee-k'>GAIN_CHANGE_BAND_6_VCID_2:</span><span class='ee-v'>HH</span></li><li><span class='ee-k'>GAIN_CHANGE_BAND_7:</span><span class='ee-v'>HH</span></li><li><span class='ee-k'>GAIN_CHANGE_BAND_8:</span><span class='ee-v'>LL</span></li><li><span class='ee-k'>GAIN_CHANGE_SCAN_BAND_1:</span><span class='ee-v'>0</span></li><li><span class='ee-k'>GAIN_CHANGE_SCAN_BAND_2:</span><span class='ee-v'>0</span></li><li><span class='ee-k'>GAIN_CHANGE_SCAN_BAND_3:</span><span class='ee-v'>0</span></li><li><span class='ee-k'>GAIN_CHANGE_SCAN_BAND_4:</span><span class='ee-v'>0</span></li><li><span class='ee-k'>GAIN_CHANGE_SCAN_BAND_5:</span><span class='ee-v'>0</span></li><li><span class='ee-k'>GAIN_CHANGE_SCAN_BAND_6_VCID_1:</span><span class='ee-v'>0</span></li><li><span class='ee-k'>GAIN_CHANGE_SCAN_BAND_6_VCID_2:</span><span class='ee-v'>0</span></li><li><span class='ee-k'>GAIN_CHANGE_SCAN_BAND_7:</span><span class='ee-v'>0</span></li><li><span class='ee-k'>GAIN_CHANGE_SCAN_BAND_8:</span><span class='ee-v'>0</span></li><li><span class='ee-k'>GEOMETRIC_RMSE_MODEL:</span><span class='ee-v'>4.808</span></li><li><span class='ee-k'>GEOMETRIC_RMSE_MODEL_X:</span><span class='ee-v'>3.352</span></li><li><span class='ee-k'>GEOMETRIC_RMSE_MODEL_Y:</span><span class='ee-v'>3.447</span></li><li><span class='ee-k'>GRID_CELL_SIZE_REFLECTIVE:</span><span class='ee-v'>30</span></li><li><span class='ee-k'>GRID_CELL_SIZE_THERMAL:</span><span class='ee-v'>30</span></li><li><span class='ee-k'>GROUND_CONTROL_POINTS_MODEL:</span><span class='ee-v'>401</span></li><li><span class='ee-k'>GROUND_CONTROL_POINTS_VERSION:</span><span class='ee-v'>5</span></li><li><span class='ee-k'>IMAGE_QUALITY:</span><span class='ee-v'>9</span></li><li><span class='ee-k'>L1_DATE_PRODUCT_GENERATED:</span><span class='ee-v'>2020-09-03T10:36:38Z</span></li><li><span class='ee-k'>L1_LANDSAT_PRODUCT_ID:</span><span class='ee-v'>LE07_L1TP_173073_20151116_20200903_02_T1</span></li><li><span class='ee-k'>L1_PROCESSING_LEVEL:</span><span class='ee-v'>L1TP</span></li><li><span class='ee-k'>L1_PROCESSING_SOFTWARE_VERSION:</span><span class='ee-v'>LPGS_15.3.1c</span></li><li><span class='ee-k'>L1_REQUEST_ID:</span><span class='ee-v'>L2</span></li><li><span class='ee-k'>LANDSAT_PRODUCT_ID:</span><span class='ee-v'>LE07_L2SP_173073_20151116_20200903_02_T1</span></li><li><span class='ee-k'>LANDSAT_SCENE_ID:</span><span class='ee-v'>LE71730732015320SG100</span></li><li><span class='ee-k'>MAP_PROJECTION:</span><span class='ee-v'>UTM</span></li><li><span class='ee-k'>ORIENTATION:</span><span class='ee-v'>NORTH_UP</span></li><li><span class='ee-k'>PROCESSING_LEVEL:</span><span class='ee-v'>L2SP</span></li><li><span class='ee-k'>PROCESSING_SOFTWARE_VERSION:</span><span class='ee-v'>LPGS_15.3.1c</span></li><li><span class='ee-k'>REFLECTANCE_ADD_BAND_1:</span><span class='ee-v'>-0.2</span></li><li><span class='ee-k'>REFLECTANCE_ADD_BAND_2:</span><span class='ee-v'>-0.2</span></li><li><span class='ee-k'>REFLECTANCE_ADD_BAND_3:</span><span class='ee-v'>-0.2</span></li><li><span class='ee-k'>REFLECTANCE_ADD_BAND_4:</span><span class='ee-v'>-0.2</span></li><li><span class='ee-k'>REFLECTANCE_ADD_BAND_5:</span><span class='ee-v'>-0.2</span></li><li><span class='ee-k'>REFLECTANCE_ADD_BAND_7:</span><span class='ee-v'>-0.2</span></li><li><span class='ee-k'>REFLECTANCE_MULT_BAND_1:</span><span class='ee-v'>2.75e-05</span></li><li><span class='ee-k'>REFLECTANCE_MULT_BAND_2:</span><span class='ee-v'>2.75e-05</span></li><li><span class='ee-k'>REFLECTANCE_MULT_BAND_3:</span><span class='ee-v'>2.75e-05</span></li><li><span class='ee-k'>REFLECTANCE_MULT_BAND_4:</span><span class='ee-v'>2.75e-05</span></li><li><span class='ee-k'>REFLECTANCE_MULT_BAND_5:</span><span class='ee-v'>2.75e-05</span></li><li><span class='ee-k'>REFLECTANCE_MULT_BAND_7:</span><span class='ee-v'>2.75e-05</span></li><li><span class='ee-k'>REFLECTIVE_LINES:</span><span class='ee-v'>6971</span></li><li><span class='ee-k'>REFLECTIVE_SAMPLES:</span><span class='ee-v'>8061</span></li><li><span class='ee-k'>REQUEST_ID:</span><span class='ee-v'>L2</span></li><li><span class='ee-k'>SATURATION_BAND_1:</span><span class='ee-v'>Y</span></li><li><span class='ee-k'>SATURATION_BAND_2:</span><span class='ee-v'>Y</span></li><li><span class='ee-k'>SATURATION_BAND_3:</span><span class='ee-v'>Y</span></li><li><span class='ee-k'>SATURATION_BAND_4:</span><span class='ee-v'>Y</span></li><li><span class='ee-k'>SATURATION_BAND_5:</span><span class='ee-v'>Y</span></li><li><span class='ee-k'>SATURATION_BAND_6_VCID_1:</span><span class='ee-v'>N</span></li><li><span class='ee-k'>SATURATION_BAND_6_VCID_2:</span><span class='ee-v'>Y</span></li><li><span class='ee-k'>SATURATION_BAND_7:</span><span class='ee-v'>Y</span></li><li><span class='ee-k'>SATURATION_BAND_8:</span><span class='ee-v'>N</span></li><li><span class='ee-k'>SCENE_CENTER_TIME:</span><span class='ee-v'>08:19:36.2691851Z</span></li><li><span class='ee-k'>SENSOR_ANOMALIES:</span><span class='ee-v'>NONE</span></li><li><span class='ee-k'>SENSOR_ID:</span><span class='ee-v'>ETM</span></li><li><span class='ee-k'>SENSOR_MODE:</span><span class='ee-v'>BUMPER</span></li><li><span class='ee-k'>SENSOR_MODE_SLC:</span><span class='ee-v'>OFF</span></li><li><span class='ee-k'>SPACECRAFT_ID:</span><span class='ee-v'>LANDSAT_7</span></li><li><span class='ee-k'>STATION_ID:</span><span class='ee-v'>SG1</span></li><li><span class='ee-k'>SUN_AZIMUTH:</span><span class='ee-v'>93.94995292</span></li><li><span class='ee-k'>SUN_ELEVATION:</span><span class='ee-v'>65.67290295</span></li><li><span class='ee-k'>TEMPERATURE_ADD_BAND_ST_B6:</span><span class='ee-v'>149</span></li><li><span class='ee-k'>TEMPERATURE_MAXIMUM_BAND_ST_B6:</span><span class='ee-v'>372.999941</span></li><li><span class='ee-k'>TEMPERATURE_MINIMUM_BAND_ST_B6:</span><span class='ee-v'>149.003418</span></li><li><span class='ee-k'>TEMPERATURE_MULT_BAND_ST_B6:</span><span class='ee-v'>0.00341802</span></li><li><span class='ee-k'>THERMAL_LINES:</span><span class='ee-v'>6971</span></li><li><span class='ee-k'>THERMAL_SAMPLES:</span><span class='ee-v'>8061</span></li><li><span class='ee-k'>UTM_ZONE:</span><span class='ee-v'>35</span></li><li><span class='ee-k'>WRS_PATH:</span><span class='ee-v'>173</span></li><li><span class='ee-k'>WRS_ROW:</span><span class='ee-v'>73</span></li><li><span class='ee-k'>WRS_TYPE:</span><span class='ee-v'>2</span></li><li><span class='ee-k'>system:asset_size:</span><span class='ee-v'>531051757</span></li><li><details><summary>system:footprint: LinearRing (18 vertices)</summary><ul><li><span class='ee-k'>type:</span><span class='ee-v'>LinearRing</span></li><li><details><summary>coordinates: List (18 elements)</summary><ul><li><details><summary>0: [26.29974188988168, -19.70794316090872]</summary><ul><li><span class='ee-k'>0:</span><span class='ee-v'>26.29974188988168</span></li><li><span class='ee-k'>1:</span><span class='ee-v'>-19.70794316090872</span></li></ul></details></li><li><details><summary>1: [26.301789338024008, -19.69925050725142]</summary><ul><li><span class='ee-k'>0:</span><span class='ee-v'>26.301789338024008</span></li><li><span class='ee-k'>1:</span><span class='ee-v'>-19.69925050725142</span></li></ul></details></li><li><details><summary>2: [26.65683829963786, -18.116286803546146]</summary><ul><li><span class='ee-k'>0:</span><span class='ee-v'>26.65683829963786</span></li><li><span class='ee-k'>1:</span><span class='ee-v'>-18.116286803546146</span></li></ul></details></li><li><details><summary>3: [26.65504135591316, -18.108194260891242]</summary><ul><li><span class='ee-k'>0:</span><span class='ee-v'>26.65504135591316</span></li><li><span class='ee-k'>1:</span><span class='ee-v'>-18.108194260891242</span></li></ul></details></li><li><details><summary>4: [26.528204437213745, -18.089989085476347]</summary><ul><li><span class='ee-k'>0:</span><span class='ee-v'>26.528204437213745</span></li><li><span class='ee-k'>1:</span><span class='ee-v'>-18.089989085476347</span></li></ul></details></li><li><details><summary>5: [24.84846070189428, -17.84081158594528]</summary><ul><li><span class='ee-k'>0:</span><span class='ee-v'>24.84846070189428</span></li><li><span class='ee-k'>1:</span><span class='ee-v'>-17.84081158594528</span></li></ul></details></li><li><details><summary>6: [24.8437062483629, -17.84747390100176]</summary><ul><li><span class='ee-k'>0:</span><span class='ee-v'>24.8437062483629</span></li><li><span class='ee-k'>1:</span><span class='ee-v'>-17.84747390100176</span></li></ul></details></li><li><details><summary>7: [24.838489070794108, -17.855587088673012]</summary><ul><li><span class='ee-k'>0:</span><span class='ee-v'>24.838489070794108</span></li><li><span class='ee-k'>1:</span><span class='ee-v'>-17.855587088673012</span></li></ul></details></li><li><details><summary>8: [24.836106124579324, -17.864545715838915]</summary><ul><li><span class='ee-k'>0:</span><span class='ee-v'>24.836106124579324</span></li><li><span class='ee-k'>1:</span><span class='ee-v'>-17.864545715838915</span></li></ul></details></li><li><details><summary>9: [24.831939869147806, -17.881305333882064]</summary><ul><li><span class='ee-k'>0:</span><span class='ee-v'>24.831939869147806</span></li><li><span class='ee-k'>1:</span><span class='ee-v'>-17.881305333882064</span></li></ul></details></li><li><details><summary>10: [24.69408204917368, -18.465845612320646]</summary><ul><li><span class='ee-k'>0:</span><span class='ee-v'>24.69408204917368</span></li><li><span class='ee-k'>1:</span><span class='ee-v'>-18.465845612320646</span></li></ul></details></li><li><details><summary>11: [24.59233286387469, -18.895117716498795]</summary><ul><li><span class='ee-k'>0:</span><span class='ee-v'>24.59233286387469</span></li><li><span class='ee-k'>1:</span><span class='ee-v'>-18.895117716498795</span></li></ul></details></li><li><details><summary>12: [24.470780925140378, -19.41881829043787]</summary><ul><li><span class='ee-k'>0:</span><span class='ee-v'>24.470780925140378</span></li><li><span class='ee-k'>1:</span><span class='ee-v'>-19.41881829043787</span></li></ul></details></li><li><details><summary>13: [24.465990818869706, -19.44508526854607]</summary><ul><li><span class='ee-k'>0:</span><span class='ee-v'>24.465990818869706</span></li><li><span class='ee-k'>1:</span><span class='ee-v'>-19.44508526854607</span></li></ul></details></li><li><details><summary>14: [24.469691705222303, -19.44900272823176]</summary><ul><li><span class='ee-k'>0:</span><span class='ee-v'>24.469691705222303</span></li><li><span class='ee-k'>1:</span><span class='ee-v'>-19.44900272823176</span></li></ul></details></li><li><details><summary>15: [25.87384674664706, -19.65852317201944]</summary><ul><li><span class='ee-k'>0:</span><span class='ee-v'>25.87384674664706</span></li><li><span class='ee-k'>1:</span><span class='ee-v'>-19.65852317201944</span></li></ul></details></li><li><details><summary>16: [26.29468369525847, -19.7190859233733]</summary><ul><li><span class='ee-k'>0:</span><span class='ee-v'>26.29468369525847</span></li><li><span class='ee-k'>1:</span><span class='ee-v'>-19.7190859233733</span></li></ul></details></li><li><details><summary>17: [26.29974188988168, -19.70794316090872]</summary><ul><li><span class='ee-k'>0:</span><span class='ee-v'>26.29974188988168</span></li><li><span class='ee-k'>1:</span><span class='ee-v'>-19.70794316090872</span></li></ul></details></li></ul></details></li></ul></details></li><li><span class='ee-k'>system:index:</span><span class='ee-v'>LE07_173073_20151116</span></li><li><span class='ee-k'>system:time_end:</span><span class='ee-v'>1447661976269</span></li><li><span class='ee-k'>system:time_start:</span><span class='ee-v'>1447661976269</span></li></ul></details></li></ul></details></li><li><details><summary>9: Image LANDSAT/LE07/C02/T1_L2/LE07_173073_20160204 (19 bands)</summary><ul><li><span class='ee-k'>type:</span><span class='ee-v'>Image</span></li><li><span class='ee-k'>id:</span><span class='ee-v'>LANDSAT/LE07/C02/T1_L2/LE07_173073_20160204</span></li><li><span class='ee-k'>version:</span><span class='ee-v'>1624546122159726</span></li><li><details><summary>bands: List (19 elements)</summary><ul><li><details><summary>0: \"SR_B1\", unsigned int16, EPSG:32635, 8061x6971 px</summary><ul><li><span class='ee-k'>id:</span><span class='ee-v'>SR_B1</span></li><li><span class='ee-k'>crs:</span><span class='ee-v'>EPSG:32635</span></li><li><details><summary>crs_transform: [30, 0, 226185, 0, -30, -1972785]</summary><ul><li><span class='ee-k'>0:</span><span class='ee-v'>30</span></li><li><span class='ee-k'>1:</span><span class='ee-v'>0</span></li><li><span class='ee-k'>2:</span><span class='ee-v'>226185</span></li><li><span class='ee-k'>3:</span><span class='ee-v'>0</span></li><li><span class='ee-k'>4:</span><span class='ee-v'>-30</span></li><li><span class='ee-k'>5:</span><span class='ee-v'>-1972785</span></li></ul></details></li><li><details><summary>data_type: unsigned int16</summary><ul><li><span class='ee-k'>type:</span><span class='ee-v'>PixelType</span></li><li><span class='ee-k'>max:</span><span class='ee-v'>65535</span></li><li><span class='ee-k'>min:</span><span class='ee-v'>0</span></li><li><span class='ee-k'>precision:</span><span class='ee-v'>int</span></li></ul></details></li><li><details><summary>dimensions: [8061, 6971]</summary><ul><li><span class='ee-k'>0:</span><span class='ee-v'>8061</span></li><li><span class='ee-k'>1:</span><span class='ee-v'>6971</span></li></ul></details></li></ul></details></li><li><details><summary>1: \"SR_B2\", unsigned int16, EPSG:32635, 8061x6971 px</summary><ul><li><span class='ee-k'>id:</span><span class='ee-v'>SR_B2</span></li><li><span class='ee-k'>crs:</span><span class='ee-v'>EPSG:32635</span></li><li><details><summary>crs_transform: [30, 0, 226185, 0, -30, -1972785]</summary><ul><li><span class='ee-k'>0:</span><span class='ee-v'>30</span></li><li><span class='ee-k'>1:</span><span class='ee-v'>0</span></li><li><span class='ee-k'>2:</span><span class='ee-v'>226185</span></li><li><span class='ee-k'>3:</span><span class='ee-v'>0</span></li><li><span class='ee-k'>4:</span><span class='ee-v'>-30</span></li><li><span class='ee-k'>5:</span><span class='ee-v'>-1972785</span></li></ul></details></li><li><details><summary>data_type: unsigned int16</summary><ul><li><span class='ee-k'>type:</span><span class='ee-v'>PixelType</span></li><li><span class='ee-k'>max:</span><span class='ee-v'>65535</span></li><li><span class='ee-k'>min:</span><span class='ee-v'>0</span></li><li><span class='ee-k'>precision:</span><span class='ee-v'>int</span></li></ul></details></li><li><details><summary>dimensions: [8061, 6971]</summary><ul><li><span class='ee-k'>0:</span><span class='ee-v'>8061</span></li><li><span class='ee-k'>1:</span><span class='ee-v'>6971</span></li></ul></details></li></ul></details></li><li><details><summary>2: \"SR_B3\", unsigned int16, EPSG:32635, 8061x6971 px</summary><ul><li><span class='ee-k'>id:</span><span class='ee-v'>SR_B3</span></li><li><span class='ee-k'>crs:</span><span class='ee-v'>EPSG:32635</span></li><li><details><summary>crs_transform: [30, 0, 226185, 0, -30, -1972785]</summary><ul><li><span class='ee-k'>0:</span><span class='ee-v'>30</span></li><li><span class='ee-k'>1:</span><span class='ee-v'>0</span></li><li><span class='ee-k'>2:</span><span class='ee-v'>226185</span></li><li><span class='ee-k'>3:</span><span class='ee-v'>0</span></li><li><span class='ee-k'>4:</span><span class='ee-v'>-30</span></li><li><span class='ee-k'>5:</span><span class='ee-v'>-1972785</span></li></ul></details></li><li><details><summary>data_type: unsigned int16</summary><ul><li><span class='ee-k'>type:</span><span class='ee-v'>PixelType</span></li><li><span class='ee-k'>max:</span><span class='ee-v'>65535</span></li><li><span class='ee-k'>min:</span><span class='ee-v'>0</span></li><li><span class='ee-k'>precision:</span><span class='ee-v'>int</span></li></ul></details></li><li><details><summary>dimensions: [8061, 6971]</summary><ul><li><span class='ee-k'>0:</span><span class='ee-v'>8061</span></li><li><span class='ee-k'>1:</span><span class='ee-v'>6971</span></li></ul></details></li></ul></details></li><li><details><summary>3: \"SR_B4\", unsigned int16, EPSG:32635, 8061x6971 px</summary><ul><li><span class='ee-k'>id:</span><span class='ee-v'>SR_B4</span></li><li><span class='ee-k'>crs:</span><span class='ee-v'>EPSG:32635</span></li><li><details><summary>crs_transform: [30, 0, 226185, 0, -30, -1972785]</summary><ul><li><span class='ee-k'>0:</span><span class='ee-v'>30</span></li><li><span class='ee-k'>1:</span><span class='ee-v'>0</span></li><li><span class='ee-k'>2:</span><span class='ee-v'>226185</span></li><li><span class='ee-k'>3:</span><span class='ee-v'>0</span></li><li><span class='ee-k'>4:</span><span class='ee-v'>-30</span></li><li><span class='ee-k'>5:</span><span class='ee-v'>-1972785</span></li></ul></details></li><li><details><summary>data_type: unsigned int16</summary><ul><li><span class='ee-k'>type:</span><span class='ee-v'>PixelType</span></li><li><span class='ee-k'>max:</span><span class='ee-v'>65535</span></li><li><span class='ee-k'>min:</span><span class='ee-v'>0</span></li><li><span class='ee-k'>precision:</span><span class='ee-v'>int</span></li></ul></details></li><li><details><summary>dimensions: [8061, 6971]</summary><ul><li><span class='ee-k'>0:</span><span class='ee-v'>8061</span></li><li><span class='ee-k'>1:</span><span class='ee-v'>6971</span></li></ul></details></li></ul></details></li><li><details><summary>4: \"SR_B5\", unsigned int16, EPSG:32635, 8061x6971 px</summary><ul><li><span class='ee-k'>id:</span><span class='ee-v'>SR_B5</span></li><li><span class='ee-k'>crs:</span><span class='ee-v'>EPSG:32635</span></li><li><details><summary>crs_transform: [30, 0, 226185, 0, -30, -1972785]</summary><ul><li><span class='ee-k'>0:</span><span class='ee-v'>30</span></li><li><span class='ee-k'>1:</span><span class='ee-v'>0</span></li><li><span class='ee-k'>2:</span><span class='ee-v'>226185</span></li><li><span class='ee-k'>3:</span><span class='ee-v'>0</span></li><li><span class='ee-k'>4:</span><span class='ee-v'>-30</span></li><li><span class='ee-k'>5:</span><span class='ee-v'>-1972785</span></li></ul></details></li><li><details><summary>data_type: unsigned int16</summary><ul><li><span class='ee-k'>type:</span><span class='ee-v'>PixelType</span></li><li><span class='ee-k'>max:</span><span class='ee-v'>65535</span></li><li><span class='ee-k'>min:</span><span class='ee-v'>0</span></li><li><span class='ee-k'>precision:</span><span class='ee-v'>int</span></li></ul></details></li><li><details><summary>dimensions: [8061, 6971]</summary><ul><li><span class='ee-k'>0:</span><span class='ee-v'>8061</span></li><li><span class='ee-k'>1:</span><span class='ee-v'>6971</span></li></ul></details></li></ul></details></li><li><details><summary>5: \"SR_B7\", unsigned int16, EPSG:32635, 8061x6971 px</summary><ul><li><span class='ee-k'>id:</span><span class='ee-v'>SR_B7</span></li><li><span class='ee-k'>crs:</span><span class='ee-v'>EPSG:32635</span></li><li><details><summary>crs_transform: [30, 0, 226185, 0, -30, -1972785]</summary><ul><li><span class='ee-k'>0:</span><span class='ee-v'>30</span></li><li><span class='ee-k'>1:</span><span class='ee-v'>0</span></li><li><span class='ee-k'>2:</span><span class='ee-v'>226185</span></li><li><span class='ee-k'>3:</span><span class='ee-v'>0</span></li><li><span class='ee-k'>4:</span><span class='ee-v'>-30</span></li><li><span class='ee-k'>5:</span><span class='ee-v'>-1972785</span></li></ul></details></li><li><details><summary>data_type: unsigned int16</summary><ul><li><span class='ee-k'>type:</span><span class='ee-v'>PixelType</span></li><li><span class='ee-k'>max:</span><span class='ee-v'>65535</span></li><li><span class='ee-k'>min:</span><span class='ee-v'>0</span></li><li><span class='ee-k'>precision:</span><span class='ee-v'>int</span></li></ul></details></li><li><details><summary>dimensions: [8061, 6971]</summary><ul><li><span class='ee-k'>0:</span><span class='ee-v'>8061</span></li><li><span class='ee-k'>1:</span><span class='ee-v'>6971</span></li></ul></details></li></ul></details></li><li><details><summary>6: \"SR_ATMOS_OPACITY\", signed int16, EPSG:32635, 8061x6971 px</summary><ul><li><span class='ee-k'>id:</span><span class='ee-v'>SR_ATMOS_OPACITY</span></li><li><span class='ee-k'>crs:</span><span class='ee-v'>EPSG:32635</span></li><li><details><summary>crs_transform: [30, 0, 226185, 0, -30, -1972785]</summary><ul><li><span class='ee-k'>0:</span><span class='ee-v'>30</span></li><li><span class='ee-k'>1:</span><span class='ee-v'>0</span></li><li><span class='ee-k'>2:</span><span class='ee-v'>226185</span></li><li><span class='ee-k'>3:</span><span class='ee-v'>0</span></li><li><span class='ee-k'>4:</span><span class='ee-v'>-30</span></li><li><span class='ee-k'>5:</span><span class='ee-v'>-1972785</span></li></ul></details></li><li><details><summary>data_type: signed int16</summary><ul><li><span class='ee-k'>type:</span><span class='ee-v'>PixelType</span></li><li><span class='ee-k'>max:</span><span class='ee-v'>32767</span></li><li><span class='ee-k'>min:</span><span class='ee-v'>-32768</span></li><li><span class='ee-k'>precision:</span><span class='ee-v'>int</span></li></ul></details></li><li><details><summary>dimensions: [8061, 6971]</summary><ul><li><span class='ee-k'>0:</span><span class='ee-v'>8061</span></li><li><span class='ee-k'>1:</span><span class='ee-v'>6971</span></li></ul></details></li></ul></details></li><li><details><summary>7: \"SR_CLOUD_QA\", unsigned int8, EPSG:32635, 8061x6971 px</summary><ul><li><span class='ee-k'>id:</span><span class='ee-v'>SR_CLOUD_QA</span></li><li><span class='ee-k'>crs:</span><span class='ee-v'>EPSG:32635</span></li><li><details><summary>crs_transform: [30, 0, 226185, 0, -30, -1972785]</summary><ul><li><span class='ee-k'>0:</span><span class='ee-v'>30</span></li><li><span class='ee-k'>1:</span><span class='ee-v'>0</span></li><li><span class='ee-k'>2:</span><span class='ee-v'>226185</span></li><li><span class='ee-k'>3:</span><span class='ee-v'>0</span></li><li><span class='ee-k'>4:</span><span class='ee-v'>-30</span></li><li><span class='ee-k'>5:</span><span class='ee-v'>-1972785</span></li></ul></details></li><li><details><summary>data_type: unsigned int8</summary><ul><li><span class='ee-k'>type:</span><span class='ee-v'>PixelType</span></li><li><span class='ee-k'>max:</span><span class='ee-v'>255</span></li><li><span class='ee-k'>min:</span><span class='ee-v'>0</span></li><li><span class='ee-k'>precision:</span><span class='ee-v'>int</span></li></ul></details></li><li><details><summary>dimensions: [8061, 6971]</summary><ul><li><span class='ee-k'>0:</span><span class='ee-v'>8061</span></li><li><span class='ee-k'>1:</span><span class='ee-v'>6971</span></li></ul></details></li></ul></details></li><li><details><summary>8: \"ST_B6\", unsigned int16, EPSG:32635, 8061x6971 px</summary><ul><li><span class='ee-k'>id:</span><span class='ee-v'>ST_B6</span></li><li><span class='ee-k'>crs:</span><span class='ee-v'>EPSG:32635</span></li><li><details><summary>crs_transform: [30, 0, 226185, 0, -30, -1972785]</summary><ul><li><span class='ee-k'>0:</span><span class='ee-v'>30</span></li><li><span class='ee-k'>1:</span><span class='ee-v'>0</span></li><li><span class='ee-k'>2:</span><span class='ee-v'>226185</span></li><li><span class='ee-k'>3:</span><span class='ee-v'>0</span></li><li><span class='ee-k'>4:</span><span class='ee-v'>-30</span></li><li><span class='ee-k'>5:</span><span class='ee-v'>-1972785</span></li></ul></details></li><li><details><summary>data_type: unsigned int16</summary><ul><li><span class='ee-k'>type:</span><span class='ee-v'>PixelType</span></li><li><span class='ee-k'>max:</span><span class='ee-v'>65535</span></li><li><span class='ee-k'>min:</span><span class='ee-v'>0</span></li><li><span class='ee-k'>precision:</span><span class='ee-v'>int</span></li></ul></details></li><li><details><summary>dimensions: [8061, 6971]</summary><ul><li><span class='ee-k'>0:</span><span class='ee-v'>8061</span></li><li><span class='ee-k'>1:</span><span class='ee-v'>6971</span></li></ul></details></li></ul></details></li><li><details><summary>9: \"ST_ATRAN\", signed int16, EPSG:32635, 8061x6971 px</summary><ul><li><span class='ee-k'>id:</span><span class='ee-v'>ST_ATRAN</span></li><li><span class='ee-k'>crs:</span><span class='ee-v'>EPSG:32635</span></li><li><details><summary>crs_transform: [30, 0, 226185, 0, -30, -1972785]</summary><ul><li><span class='ee-k'>0:</span><span class='ee-v'>30</span></li><li><span class='ee-k'>1:</span><span class='ee-v'>0</span></li><li><span class='ee-k'>2:</span><span class='ee-v'>226185</span></li><li><span class='ee-k'>3:</span><span class='ee-v'>0</span></li><li><span class='ee-k'>4:</span><span class='ee-v'>-30</span></li><li><span class='ee-k'>5:</span><span class='ee-v'>-1972785</span></li></ul></details></li><li><details><summary>data_type: signed int16</summary><ul><li><span class='ee-k'>type:</span><span class='ee-v'>PixelType</span></li><li><span class='ee-k'>max:</span><span class='ee-v'>32767</span></li><li><span class='ee-k'>min:</span><span class='ee-v'>-32768</span></li><li><span class='ee-k'>precision:</span><span class='ee-v'>int</span></li></ul></details></li><li><details><summary>dimensions: [8061, 6971]</summary><ul><li><span class='ee-k'>0:</span><span class='ee-v'>8061</span></li><li><span class='ee-k'>1:</span><span class='ee-v'>6971</span></li></ul></details></li></ul></details></li><li><details><summary>10: \"ST_CDIST\", signed int16, EPSG:32635, 8061x6971 px</summary><ul><li><span class='ee-k'>id:</span><span class='ee-v'>ST_CDIST</span></li><li><span class='ee-k'>crs:</span><span class='ee-v'>EPSG:32635</span></li><li><details><summary>crs_transform: [30, 0, 226185, 0, -30, -1972785]</summary><ul><li><span class='ee-k'>0:</span><span class='ee-v'>30</span></li><li><span class='ee-k'>1:</span><span class='ee-v'>0</span></li><li><span class='ee-k'>2:</span><span class='ee-v'>226185</span></li><li><span class='ee-k'>3:</span><span class='ee-v'>0</span></li><li><span class='ee-k'>4:</span><span class='ee-v'>-30</span></li><li><span class='ee-k'>5:</span><span class='ee-v'>-1972785</span></li></ul></details></li><li><details><summary>data_type: signed int16</summary><ul><li><span class='ee-k'>type:</span><span class='ee-v'>PixelType</span></li><li><span class='ee-k'>max:</span><span class='ee-v'>32767</span></li><li><span class='ee-k'>min:</span><span class='ee-v'>-32768</span></li><li><span class='ee-k'>precision:</span><span class='ee-v'>int</span></li></ul></details></li><li><details><summary>dimensions: [8061, 6971]</summary><ul><li><span class='ee-k'>0:</span><span class='ee-v'>8061</span></li><li><span class='ee-k'>1:</span><span class='ee-v'>6971</span></li></ul></details></li></ul></details></li><li><details><summary>11: \"ST_DRAD\", signed int16, EPSG:32635, 8061x6971 px</summary><ul><li><span class='ee-k'>id:</span><span class='ee-v'>ST_DRAD</span></li><li><span class='ee-k'>crs:</span><span class='ee-v'>EPSG:32635</span></li><li><details><summary>crs_transform: [30, 0, 226185, 0, -30, -1972785]</summary><ul><li><span class='ee-k'>0:</span><span class='ee-v'>30</span></li><li><span class='ee-k'>1:</span><span class='ee-v'>0</span></li><li><span class='ee-k'>2:</span><span class='ee-v'>226185</span></li><li><span class='ee-k'>3:</span><span class='ee-v'>0</span></li><li><span class='ee-k'>4:</span><span class='ee-v'>-30</span></li><li><span class='ee-k'>5:</span><span class='ee-v'>-1972785</span></li></ul></details></li><li><details><summary>data_type: signed int16</summary><ul><li><span class='ee-k'>type:</span><span class='ee-v'>PixelType</span></li><li><span class='ee-k'>max:</span><span class='ee-v'>32767</span></li><li><span class='ee-k'>min:</span><span class='ee-v'>-32768</span></li><li><span class='ee-k'>precision:</span><span class='ee-v'>int</span></li></ul></details></li><li><details><summary>dimensions: [8061, 6971]</summary><ul><li><span class='ee-k'>0:</span><span class='ee-v'>8061</span></li><li><span class='ee-k'>1:</span><span class='ee-v'>6971</span></li></ul></details></li></ul></details></li><li><details><summary>12: \"ST_EMIS\", signed int16, EPSG:32635, 8061x6971 px</summary><ul><li><span class='ee-k'>id:</span><span class='ee-v'>ST_EMIS</span></li><li><span class='ee-k'>crs:</span><span class='ee-v'>EPSG:32635</span></li><li><details><summary>crs_transform: [30, 0, 226185, 0, -30, -1972785]</summary><ul><li><span class='ee-k'>0:</span><span class='ee-v'>30</span></li><li><span class='ee-k'>1:</span><span class='ee-v'>0</span></li><li><span class='ee-k'>2:</span><span class='ee-v'>226185</span></li><li><span class='ee-k'>3:</span><span class='ee-v'>0</span></li><li><span class='ee-k'>4:</span><span class='ee-v'>-30</span></li><li><span class='ee-k'>5:</span><span class='ee-v'>-1972785</span></li></ul></details></li><li><details><summary>data_type: signed int16</summary><ul><li><span class='ee-k'>type:</span><span class='ee-v'>PixelType</span></li><li><span class='ee-k'>max:</span><span class='ee-v'>32767</span></li><li><span class='ee-k'>min:</span><span class='ee-v'>-32768</span></li><li><span class='ee-k'>precision:</span><span class='ee-v'>int</span></li></ul></details></li><li><details><summary>dimensions: [8061, 6971]</summary><ul><li><span class='ee-k'>0:</span><span class='ee-v'>8061</span></li><li><span class='ee-k'>1:</span><span class='ee-v'>6971</span></li></ul></details></li></ul></details></li><li><details><summary>13: \"ST_EMSD\", signed int16, EPSG:32635, 8061x6971 px</summary><ul><li><span class='ee-k'>id:</span><span class='ee-v'>ST_EMSD</span></li><li><span class='ee-k'>crs:</span><span class='ee-v'>EPSG:32635</span></li><li><details><summary>crs_transform: [30, 0, 226185, 0, -30, -1972785]</summary><ul><li><span class='ee-k'>0:</span><span class='ee-v'>30</span></li><li><span class='ee-k'>1:</span><span class='ee-v'>0</span></li><li><span class='ee-k'>2:</span><span class='ee-v'>226185</span></li><li><span class='ee-k'>3:</span><span class='ee-v'>0</span></li><li><span class='ee-k'>4:</span><span class='ee-v'>-30</span></li><li><span class='ee-k'>5:</span><span class='ee-v'>-1972785</span></li></ul></details></li><li><details><summary>data_type: signed int16</summary><ul><li><span class='ee-k'>type:</span><span class='ee-v'>PixelType</span></li><li><span class='ee-k'>max:</span><span class='ee-v'>32767</span></li><li><span class='ee-k'>min:</span><span class='ee-v'>-32768</span></li><li><span class='ee-k'>precision:</span><span class='ee-v'>int</span></li></ul></details></li><li><details><summary>dimensions: [8061, 6971]</summary><ul><li><span class='ee-k'>0:</span><span class='ee-v'>8061</span></li><li><span class='ee-k'>1:</span><span class='ee-v'>6971</span></li></ul></details></li></ul></details></li><li><details><summary>14: \"ST_QA\", signed int16, EPSG:32635, 8061x6971 px</summary><ul><li><span class='ee-k'>id:</span><span class='ee-v'>ST_QA</span></li><li><span class='ee-k'>crs:</span><span class='ee-v'>EPSG:32635</span></li><li><details><summary>crs_transform: [30, 0, 226185, 0, -30, -1972785]</summary><ul><li><span class='ee-k'>0:</span><span class='ee-v'>30</span></li><li><span class='ee-k'>1:</span><span class='ee-v'>0</span></li><li><span class='ee-k'>2:</span><span class='ee-v'>226185</span></li><li><span class='ee-k'>3:</span><span class='ee-v'>0</span></li><li><span class='ee-k'>4:</span><span class='ee-v'>-30</span></li><li><span class='ee-k'>5:</span><span class='ee-v'>-1972785</span></li></ul></details></li><li><details><summary>data_type: signed int16</summary><ul><li><span class='ee-k'>type:</span><span class='ee-v'>PixelType</span></li><li><span class='ee-k'>max:</span><span class='ee-v'>32767</span></li><li><span class='ee-k'>min:</span><span class='ee-v'>-32768</span></li><li><span class='ee-k'>precision:</span><span class='ee-v'>int</span></li></ul></details></li><li><details><summary>dimensions: [8061, 6971]</summary><ul><li><span class='ee-k'>0:</span><span class='ee-v'>8061</span></li><li><span class='ee-k'>1:</span><span class='ee-v'>6971</span></li></ul></details></li></ul></details></li><li><details><summary>15: \"ST_TRAD\", signed int16, EPSG:32635, 8061x6971 px</summary><ul><li><span class='ee-k'>id:</span><span class='ee-v'>ST_TRAD</span></li><li><span class='ee-k'>crs:</span><span class='ee-v'>EPSG:32635</span></li><li><details><summary>crs_transform: [30, 0, 226185, 0, -30, -1972785]</summary><ul><li><span class='ee-k'>0:</span><span class='ee-v'>30</span></li><li><span class='ee-k'>1:</span><span class='ee-v'>0</span></li><li><span class='ee-k'>2:</span><span class='ee-v'>226185</span></li><li><span class='ee-k'>3:</span><span class='ee-v'>0</span></li><li><span class='ee-k'>4:</span><span class='ee-v'>-30</span></li><li><span class='ee-k'>5:</span><span class='ee-v'>-1972785</span></li></ul></details></li><li><details><summary>data_type: signed int16</summary><ul><li><span class='ee-k'>type:</span><span class='ee-v'>PixelType</span></li><li><span class='ee-k'>max:</span><span class='ee-v'>32767</span></li><li><span class='ee-k'>min:</span><span class='ee-v'>-32768</span></li><li><span class='ee-k'>precision:</span><span class='ee-v'>int</span></li></ul></details></li><li><details><summary>dimensions: [8061, 6971]</summary><ul><li><span class='ee-k'>0:</span><span class='ee-v'>8061</span></li><li><span class='ee-k'>1:</span><span class='ee-v'>6971</span></li></ul></details></li></ul></details></li><li><details><summary>16: \"ST_URAD\", signed int16, EPSG:32635, 8061x6971 px</summary><ul><li><span class='ee-k'>id:</span><span class='ee-v'>ST_URAD</span></li><li><span class='ee-k'>crs:</span><span class='ee-v'>EPSG:32635</span></li><li><details><summary>crs_transform: [30, 0, 226185, 0, -30, -1972785]</summary><ul><li><span class='ee-k'>0:</span><span class='ee-v'>30</span></li><li><span class='ee-k'>1:</span><span class='ee-v'>0</span></li><li><span class='ee-k'>2:</span><span class='ee-v'>226185</span></li><li><span class='ee-k'>3:</span><span class='ee-v'>0</span></li><li><span class='ee-k'>4:</span><span class='ee-v'>-30</span></li><li><span class='ee-k'>5:</span><span class='ee-v'>-1972785</span></li></ul></details></li><li><details><summary>data_type: signed int16</summary><ul><li><span class='ee-k'>type:</span><span class='ee-v'>PixelType</span></li><li><span class='ee-k'>max:</span><span class='ee-v'>32767</span></li><li><span class='ee-k'>min:</span><span class='ee-v'>-32768</span></li><li><span class='ee-k'>precision:</span><span class='ee-v'>int</span></li></ul></details></li><li><details><summary>dimensions: [8061, 6971]</summary><ul><li><span class='ee-k'>0:</span><span class='ee-v'>8061</span></li><li><span class='ee-k'>1:</span><span class='ee-v'>6971</span></li></ul></details></li></ul></details></li><li><details><summary>17: \"QA_PIXEL\", unsigned int16, EPSG:32635, 8061x6971 px</summary><ul><li><span class='ee-k'>id:</span><span class='ee-v'>QA_PIXEL</span></li><li><span class='ee-k'>crs:</span><span class='ee-v'>EPSG:32635</span></li><li><details><summary>crs_transform: [30, 0, 226185, 0, -30, -1972785]</summary><ul><li><span class='ee-k'>0:</span><span class='ee-v'>30</span></li><li><span class='ee-k'>1:</span><span class='ee-v'>0</span></li><li><span class='ee-k'>2:</span><span class='ee-v'>226185</span></li><li><span class='ee-k'>3:</span><span class='ee-v'>0</span></li><li><span class='ee-k'>4:</span><span class='ee-v'>-30</span></li><li><span class='ee-k'>5:</span><span class='ee-v'>-1972785</span></li></ul></details></li><li><details><summary>data_type: unsigned int16</summary><ul><li><span class='ee-k'>type:</span><span class='ee-v'>PixelType</span></li><li><span class='ee-k'>max:</span><span class='ee-v'>65535</span></li><li><span class='ee-k'>min:</span><span class='ee-v'>0</span></li><li><span class='ee-k'>precision:</span><span class='ee-v'>int</span></li></ul></details></li><li><details><summary>dimensions: [8061, 6971]</summary><ul><li><span class='ee-k'>0:</span><span class='ee-v'>8061</span></li><li><span class='ee-k'>1:</span><span class='ee-v'>6971</span></li></ul></details></li></ul></details></li><li><details><summary>18: \"QA_RADSAT\", unsigned int16, EPSG:32635, 8061x6971 px</summary><ul><li><span class='ee-k'>id:</span><span class='ee-v'>QA_RADSAT</span></li><li><span class='ee-k'>crs:</span><span class='ee-v'>EPSG:32635</span></li><li><details><summary>crs_transform: [30, 0, 226185, 0, -30, -1972785]</summary><ul><li><span class='ee-k'>0:</span><span class='ee-v'>30</span></li><li><span class='ee-k'>1:</span><span class='ee-v'>0</span></li><li><span class='ee-k'>2:</span><span class='ee-v'>226185</span></li><li><span class='ee-k'>3:</span><span class='ee-v'>0</span></li><li><span class='ee-k'>4:</span><span class='ee-v'>-30</span></li><li><span class='ee-k'>5:</span><span class='ee-v'>-1972785</span></li></ul></details></li><li><details><summary>data_type: unsigned int16</summary><ul><li><span class='ee-k'>type:</span><span class='ee-v'>PixelType</span></li><li><span class='ee-k'>max:</span><span class='ee-v'>65535</span></li><li><span class='ee-k'>min:</span><span class='ee-v'>0</span></li><li><span class='ee-k'>precision:</span><span class='ee-v'>int</span></li></ul></details></li><li><details><summary>dimensions: [8061, 6971]</summary><ul><li><span class='ee-k'>0:</span><span class='ee-v'>8061</span></li><li><span class='ee-k'>1:</span><span class='ee-v'>6971</span></li></ul></details></li></ul></details></li></ul></details></li><li><details><summary>properties: Object (130 properties)</summary><ul><li><span class='ee-k'>ALGORITHM_SOURCE_SURFACE_REFLECTANCE:</span><span class='ee-v'>LEDAPS_3.4.0</span></li><li><span class='ee-k'>ALGORITHM_SOURCE_SURFACE_TEMPERATURE:</span><span class='ee-v'>st_1.3.0</span></li><li><span class='ee-k'>CLOUD_COVER:</span><span class='ee-v'>2</span></li><li><span class='ee-k'>CLOUD_COVER_LAND:</span><span class='ee-v'>2</span></li><li><span class='ee-k'>COLLECTION_CATEGORY:</span><span class='ee-v'>T1</span></li><li><span class='ee-k'>COLLECTION_NUMBER:</span><span class='ee-v'>2</span></li><li><span class='ee-k'>CORRECTION_BIAS_BAND_1:</span><span class='ee-v'>INTERNAL_CALIBRATION</span></li><li><span class='ee-k'>CORRECTION_BIAS_BAND_2:</span><span class='ee-v'>INTERNAL_CALIBRATION</span></li><li><span class='ee-k'>CORRECTION_BIAS_BAND_3:</span><span class='ee-v'>INTERNAL_CALIBRATION</span></li><li><span class='ee-k'>CORRECTION_BIAS_BAND_4:</span><span class='ee-v'>INTERNAL_CALIBRATION</span></li><li><span class='ee-k'>CORRECTION_BIAS_BAND_5:</span><span class='ee-v'>INTERNAL_CALIBRATION</span></li><li><span class='ee-k'>CORRECTION_BIAS_BAND_6_VCID_1:</span><span class='ee-v'>INTERNAL_CALIBRATION</span></li><li><span class='ee-k'>CORRECTION_BIAS_BAND_6_VCID_2:</span><span class='ee-v'>INTERNAL_CALIBRATION</span></li><li><span class='ee-k'>CORRECTION_BIAS_BAND_7:</span><span class='ee-v'>INTERNAL_CALIBRATION</span></li><li><span class='ee-k'>CORRECTION_BIAS_BAND_8:</span><span class='ee-v'>INTERNAL_CALIBRATION</span></li><li><span class='ee-k'>CORRECTION_GAIN_BAND_1:</span><span class='ee-v'>CPF</span></li><li><span class='ee-k'>CORRECTION_GAIN_BAND_2:</span><span class='ee-v'>CPF</span></li><li><span class='ee-k'>CORRECTION_GAIN_BAND_3:</span><span class='ee-v'>CPF</span></li><li><span class='ee-k'>CORRECTION_GAIN_BAND_4:</span><span class='ee-v'>CPF</span></li><li><span class='ee-k'>CORRECTION_GAIN_BAND_5:</span><span class='ee-v'>CPF</span></li><li><span class='ee-k'>CORRECTION_GAIN_BAND_6_VCID_1:</span><span class='ee-v'>CPF</span></li><li><span class='ee-k'>CORRECTION_GAIN_BAND_6_VCID_2:</span><span class='ee-v'>CPF</span></li><li><span class='ee-k'>CORRECTION_GAIN_BAND_7:</span><span class='ee-v'>CPF</span></li><li><span class='ee-k'>CORRECTION_GAIN_BAND_8:</span><span class='ee-v'>CPF</span></li><li><span class='ee-k'>DATA_SOURCE_AIR_TEMPERATURE:</span><span class='ee-v'>NCEP</span></li><li><span class='ee-k'>DATA_SOURCE_ELEVATION:</span><span class='ee-v'>GLS2000</span></li><li><span class='ee-k'>DATA_SOURCE_OZONE:</span><span class='ee-v'>TOMS</span></li><li><span class='ee-k'>DATA_SOURCE_PRESSURE:</span><span class='ee-v'>NCEP</span></li><li><span class='ee-k'>DATA_SOURCE_REANALYSIS:</span><span class='ee-v'>GEOS-5 FP-IT</span></li><li><span class='ee-k'>DATA_SOURCE_WATER_VAPOR:</span><span class='ee-v'>NCEP</span></li><li><span class='ee-k'>DATE_ACQUIRED:</span><span class='ee-v'>2016-02-04</span></li><li><span class='ee-k'>DATE_PRODUCT_GENERATED:</span><span class='ee-v'>1599107228000</span></li><li><span class='ee-k'>DATUM:</span><span class='ee-v'>WGS84</span></li><li><span class='ee-k'>EARTH_SUN_DISTANCE:</span><span class='ee-v'>0.9857158</span></li><li><span class='ee-k'>ELLIPSOID:</span><span class='ee-v'>WGS84</span></li><li><span class='ee-k'>EPHEMERIS_TYPE:</span><span class='ee-v'>DEFINITIVE</span></li><li><span class='ee-k'>GAIN_BAND_1:</span><span class='ee-v'>L</span></li><li><span class='ee-k'>GAIN_BAND_2:</span><span class='ee-v'>L</span></li><li><span class='ee-k'>GAIN_BAND_3:</span><span class='ee-v'>L</span></li><li><span class='ee-k'>GAIN_BAND_4:</span><span class='ee-v'>L</span></li><li><span class='ee-k'>GAIN_BAND_5:</span><span class='ee-v'>L</span></li><li><span class='ee-k'>GAIN_BAND_6_VCID_1:</span><span class='ee-v'>L</span></li><li><span class='ee-k'>GAIN_BAND_6_VCID_2:</span><span class='ee-v'>H</span></li><li><span class='ee-k'>GAIN_BAND_7:</span><span class='ee-v'>L</span></li><li><span class='ee-k'>GAIN_BAND_8:</span><span class='ee-v'>L</span></li><li><span class='ee-k'>GAIN_CHANGE_BAND_1:</span><span class='ee-v'>LL</span></li><li><span class='ee-k'>GAIN_CHANGE_BAND_2:</span><span class='ee-v'>LL</span></li><li><span class='ee-k'>GAIN_CHANGE_BAND_3:</span><span class='ee-v'>LL</span></li><li><span class='ee-k'>GAIN_CHANGE_BAND_4:</span><span class='ee-v'>LL</span></li><li><span class='ee-k'>GAIN_CHANGE_BAND_5:</span><span class='ee-v'>LL</span></li><li><span class='ee-k'>GAIN_CHANGE_BAND_6_VCID_1:</span><span class='ee-v'>LL</span></li><li><span class='ee-k'>GAIN_CHANGE_BAND_6_VCID_2:</span><span class='ee-v'>HH</span></li><li><span class='ee-k'>GAIN_CHANGE_BAND_7:</span><span class='ee-v'>LL</span></li><li><span class='ee-k'>GAIN_CHANGE_BAND_8:</span><span class='ee-v'>LL</span></li><li><span class='ee-k'>GAIN_CHANGE_SCAN_BAND_1:</span><span class='ee-v'>0</span></li><li><span class='ee-k'>GAIN_CHANGE_SCAN_BAND_2:</span><span class='ee-v'>0</span></li><li><span class='ee-k'>GAIN_CHANGE_SCAN_BAND_3:</span><span class='ee-v'>0</span></li><li><span class='ee-k'>GAIN_CHANGE_SCAN_BAND_4:</span><span class='ee-v'>0</span></li><li><span class='ee-k'>GAIN_CHANGE_SCAN_BAND_5:</span><span class='ee-v'>0</span></li><li><span class='ee-k'>GAIN_CHANGE_SCAN_BAND_6_VCID_1:</span><span class='ee-v'>0</span></li><li><span class='ee-k'>GAIN_CHANGE_SCAN_BAND_6_VCID_2:</span><span class='ee-v'>0</span></li><li><span class='ee-k'>GAIN_CHANGE_SCAN_BAND_7:</span><span class='ee-v'>0</span></li><li><span class='ee-k'>GAIN_CHANGE_SCAN_BAND_8:</span><span class='ee-v'>0</span></li><li><span class='ee-k'>GEOMETRIC_RMSE_MODEL:</span><span class='ee-v'>9.505</span></li><li><span class='ee-k'>GEOMETRIC_RMSE_MODEL_X:</span><span class='ee-v'>8.84</span></li><li><span class='ee-k'>GEOMETRIC_RMSE_MODEL_Y:</span><span class='ee-v'>3.493</span></li><li><span class='ee-k'>GRID_CELL_SIZE_REFLECTIVE:</span><span class='ee-v'>30</span></li><li><span class='ee-k'>GRID_CELL_SIZE_THERMAL:</span><span class='ee-v'>30</span></li><li><span class='ee-k'>GROUND_CONTROL_POINTS_MODEL:</span><span class='ee-v'>786</span></li><li><span class='ee-k'>GROUND_CONTROL_POINTS_VERSION:</span><span class='ee-v'>5</span></li><li><span class='ee-k'>IMAGE_QUALITY:</span><span class='ee-v'>9</span></li><li><span class='ee-k'>L1_DATE_PRODUCT_GENERATED:</span><span class='ee-v'>2020-09-03T04:11:31Z</span></li><li><span class='ee-k'>L1_LANDSAT_PRODUCT_ID:</span><span class='ee-v'>LE07_L1TP_173073_20160204_20200903_02_T1</span></li><li><span class='ee-k'>L1_PROCESSING_LEVEL:</span><span class='ee-v'>L1TP</span></li><li><span class='ee-k'>L1_PROCESSING_SOFTWARE_VERSION:</span><span class='ee-v'>LPGS_15.3.1c</span></li><li><span class='ee-k'>L1_REQUEST_ID:</span><span class='ee-v'>L2</span></li><li><span class='ee-k'>LANDSAT_PRODUCT_ID:</span><span class='ee-v'>LE07_L2SP_173073_20160204_20200903_02_T1</span></li><li><span class='ee-k'>LANDSAT_SCENE_ID:</span><span class='ee-v'>LE71730732016035SG100</span></li><li><span class='ee-k'>MAP_PROJECTION:</span><span class='ee-v'>UTM</span></li><li><span class='ee-k'>ORIENTATION:</span><span class='ee-v'>NORTH_UP</span></li><li><span class='ee-k'>PROCESSING_LEVEL:</span><span class='ee-v'>L2SP</span></li><li><span class='ee-k'>PROCESSING_SOFTWARE_VERSION:</span><span class='ee-v'>LPGS_15.3.1c</span></li><li><span class='ee-k'>REFLECTANCE_ADD_BAND_1:</span><span class='ee-v'>-0.2</span></li><li><span class='ee-k'>REFLECTANCE_ADD_BAND_2:</span><span class='ee-v'>-0.2</span></li><li><span class='ee-k'>REFLECTANCE_ADD_BAND_3:</span><span class='ee-v'>-0.2</span></li><li><span class='ee-k'>REFLECTANCE_ADD_BAND_4:</span><span class='ee-v'>-0.2</span></li><li><span class='ee-k'>REFLECTANCE_ADD_BAND_5:</span><span class='ee-v'>-0.2</span></li><li><span class='ee-k'>REFLECTANCE_ADD_BAND_7:</span><span class='ee-v'>-0.2</span></li><li><span class='ee-k'>REFLECTANCE_MULT_BAND_1:</span><span class='ee-v'>2.75e-05</span></li><li><span class='ee-k'>REFLECTANCE_MULT_BAND_2:</span><span class='ee-v'>2.75e-05</span></li><li><span class='ee-k'>REFLECTANCE_MULT_BAND_3:</span><span class='ee-v'>2.75e-05</span></li><li><span class='ee-k'>REFLECTANCE_MULT_BAND_4:</span><span class='ee-v'>2.75e-05</span></li><li><span class='ee-k'>REFLECTANCE_MULT_BAND_5:</span><span class='ee-v'>2.75e-05</span></li><li><span class='ee-k'>REFLECTANCE_MULT_BAND_7:</span><span class='ee-v'>2.75e-05</span></li><li><span class='ee-k'>REFLECTIVE_LINES:</span><span class='ee-v'>6971</span></li><li><span class='ee-k'>REFLECTIVE_SAMPLES:</span><span class='ee-v'>8061</span></li><li><span class='ee-k'>REQUEST_ID:</span><span class='ee-v'>L2</span></li><li><span class='ee-k'>SATURATION_BAND_1:</span><span class='ee-v'>Y</span></li><li><span class='ee-k'>SATURATION_BAND_2:</span><span class='ee-v'>Y</span></li><li><span class='ee-k'>SATURATION_BAND_3:</span><span class='ee-v'>Y</span></li><li><span class='ee-k'>SATURATION_BAND_4:</span><span class='ee-v'>Y</span></li><li><span class='ee-k'>SATURATION_BAND_5:</span><span class='ee-v'>Y</span></li><li><span class='ee-k'>SATURATION_BAND_6_VCID_1:</span><span class='ee-v'>N</span></li><li><span class='ee-k'>SATURATION_BAND_6_VCID_2:</span><span class='ee-v'>N</span></li><li><span class='ee-k'>SATURATION_BAND_7:</span><span class='ee-v'>Y</span></li><li><span class='ee-k'>SATURATION_BAND_8:</span><span class='ee-v'>N</span></li><li><span class='ee-k'>SCENE_CENTER_TIME:</span><span class='ee-v'>08:20:42.1091588Z</span></li><li><span class='ee-k'>SENSOR_ANOMALIES:</span><span class='ee-v'>NONE</span></li><li><span class='ee-k'>SENSOR_ID:</span><span class='ee-v'>ETM</span></li><li><span class='ee-k'>SENSOR_MODE:</span><span class='ee-v'>BUMPER</span></li><li><span class='ee-k'>SENSOR_MODE_SLC:</span><span class='ee-v'>OFF</span></li><li><span class='ee-k'>SPACECRAFT_ID:</span><span class='ee-v'>LANDSAT_7</span></li><li><span class='ee-k'>STATION_ID:</span><span class='ee-v'>SG1</span></li><li><span class='ee-k'>SUN_AZIMUTH:</span><span class='ee-v'>90.71787619</span></li><li><span class='ee-k'>SUN_ELEVATION:</span><span class='ee-v'>58.73948132</span></li><li><span class='ee-k'>TEMPERATURE_ADD_BAND_ST_B6:</span><span class='ee-v'>149</span></li><li><span class='ee-k'>TEMPERATURE_MAXIMUM_BAND_ST_B6:</span><span class='ee-v'>372.999941</span></li><li><span class='ee-k'>TEMPERATURE_MINIMUM_BAND_ST_B6:</span><span class='ee-v'>149.003418</span></li><li><span class='ee-k'>TEMPERATURE_MULT_BAND_ST_B6:</span><span class='ee-v'>0.00341802</span></li><li><span class='ee-k'>THERMAL_LINES:</span><span class='ee-v'>6971</span></li><li><span class='ee-k'>THERMAL_SAMPLES:</span><span class='ee-v'>8061</span></li><li><span class='ee-k'>UTM_ZONE:</span><span class='ee-v'>35</span></li><li><span class='ee-k'>WRS_PATH:</span><span class='ee-v'>173</span></li><li><span class='ee-k'>WRS_ROW:</span><span class='ee-v'>73</span></li><li><span class='ee-k'>WRS_TYPE:</span><span class='ee-v'>2</span></li><li><span class='ee-k'>system:asset_size:</span><span class='ee-v'>557340173</span></li><li><details><summary>system:footprint: LinearRing (20 vertices)</summary><ul><li><span class='ee-k'>type:</span><span class='ee-v'>LinearRing</span></li><li><details><summary>coordinates: List (20 elements)</summary><ul><li><details><summary>0: [25.466081492961795, -19.602925106061083]</summary><ul><li><span class='ee-k'>0:</span><span class='ee-v'>25.466081492961795</span></li><li><span class='ee-k'>1:</span><span class='ee-v'>-19.602925106061083</span></li></ul></details></li><li><details><summary>1: [25.918127310423507, -19.669095957952248]</summary><ul><li><span class='ee-k'>0:</span><span class='ee-v'>25.918127310423507</span></li><li><span class='ee-k'>1:</span><span class='ee-v'>-19.669095957952248</span></li></ul></details></li><li><details><summary>2: [26.280911493390022, -19.721340284071943]</summary><ul><li><span class='ee-k'>0:</span><span class='ee-v'>26.280911493390022</span></li><li><span class='ee-k'>1:</span><span class='ee-v'>-19.721340284071943</span></li></ul></details></li><li><details><summary>3: [26.282427039688482, -19.72134633534823]</summary><ul><li><span class='ee-k'>0:</span><span class='ee-v'>26.282427039688482</span></li><li><span class='ee-k'>1:</span><span class='ee-v'>-19.72134633534823</span></li></ul></details></li><li><details><summary>4: [26.28713733686691, -19.710329474210027]</summary><ul><li><span class='ee-k'>0:</span><span class='ee-v'>26.28713733686691</span></li><li><span class='ee-k'>1:</span><span class='ee-v'>-19.710329474210027</span></li></ul></details></li><li><details><summary>5: [26.634332333566537, -18.16049844899987]</summary><ul><li><span class='ee-k'>0:</span><span class='ee-v'>26.634332333566537</span></li><li><span class='ee-k'>1:</span><span class='ee-v'>-18.16049844899987</span></li></ul></details></li><li><details><summary>6: [26.640058470470414, -18.13447828297744]</summary><ul><li><span class='ee-k'>0:</span><span class='ee-v'>26.640058470470414</span></li><li><span class='ee-k'>1:</span><span class='ee-v'>-18.13447828297744</span></li></ul></details></li><li><details><summary>7: [26.643792657249172, -18.117343603957444]</summary><ul><li><span class='ee-k'>0:</span><span class='ee-v'>26.643792657249172</span></li><li><span class='ee-k'>1:</span><span class='ee-v'>-18.117343603957444</span></li></ul></details></li><li><details><summary>8: [26.64175657183561, -18.109208661107942]</summary><ul><li><span class='ee-k'>0:</span><span class='ee-v'>26.64175657183561</span></li><li><span class='ee-k'>1:</span><span class='ee-v'>-18.109208661107942</span></li></ul></details></li><li><details><summary>9: [24.835165402438495, -17.84153545318345]</summary><ul><li><span class='ee-k'>0:</span><span class='ee-v'>24.835165402438495</span></li><li><span class='ee-k'>1:</span><span class='ee-v'>-17.84153545318345</span></li></ul></details></li><li><details><summary>10: [24.82812992001272, -17.847569459108698]</summary><ul><li><span class='ee-k'>0:</span><span class='ee-v'>24.82812992001272</span></li><li><span class='ee-k'>1:</span><span class='ee-v'>-17.847569459108698</span></li></ul></details></li><li><details><summary>11: [24.82545330443509, -17.856292814667565]</summary><ul><li><span class='ee-k'>0:</span><span class='ee-v'>24.82545330443509</span></li><li><span class='ee-k'>1:</span><span class='ee-v'>-17.856292814667565</span></li></ul></details></li><li><details><summary>12: [24.78967512629657, -18.00277957086382]</summary><ul><li><span class='ee-k'>0:</span><span class='ee-v'>24.78967512629657</span></li><li><span class='ee-k'>1:</span><span class='ee-v'>-18.00277957086382</span></li></ul></details></li><li><details><summary>13: [24.627735568446667, -18.69479798205451]</summary><ul><li><span class='ee-k'>0:</span><span class='ee-v'>24.627735568446667</span></li><li><span class='ee-k'>1:</span><span class='ee-v'>-18.69479798205451</span></li></ul></details></li><li><details><summary>14: [24.46414457791172, -19.386483956319516]</summary><ul><li><span class='ee-k'>0:</span><span class='ee-v'>24.46414457791172</span></li><li><span class='ee-k'>1:</span><span class='ee-v'>-19.386483956319516</span></li></ul></details></li><li><details><summary>15: [24.451700289410404, -19.446889868132057]</summary><ul><li><span class='ee-k'>0:</span><span class='ee-v'>24.451700289410404</span></li><li><span class='ee-k'>1:</span><span class='ee-v'>-19.446889868132057</span></li></ul></details></li><li><details><summary>16: [24.45672526233739, -19.450909140797524]</summary><ul><li><span class='ee-k'>0:</span><span class='ee-v'>24.45672526233739</span></li><li><span class='ee-k'>1:</span><span class='ee-v'>-19.450909140797524</span></li></ul></details></li><li><details><summary>17: [24.578857047326313, -19.469622803464276]</summary><ul><li><span class='ee-k'>0:</span><span class='ee-v'>24.578857047326313</span></li><li><span class='ee-k'>1:</span><span class='ee-v'>-19.469622803464276</span></li></ul></details></li><li><details><summary>18: [24.925194066336797, -19.52220160190567]</summary><ul><li><span class='ee-k'>0:</span><span class='ee-v'>24.925194066336797</span></li><li><span class='ee-k'>1:</span><span class='ee-v'>-19.52220160190567</span></li></ul></details></li><li><details><summary>19: [25.466081492961795, -19.602925106061083]</summary><ul><li><span class='ee-k'>0:</span><span class='ee-v'>25.466081492961795</span></li><li><span class='ee-k'>1:</span><span class='ee-v'>-19.602925106061083</span></li></ul></details></li></ul></details></li></ul></details></li><li><span class='ee-k'>system:index:</span><span class='ee-v'>LE07_173073_20160204</span></li><li><span class='ee-k'>system:time_end:</span><span class='ee-v'>1454574042109</span></li><li><span class='ee-k'>system:time_start:</span><span class='ee-v'>1454574042109</span></li></ul></details></li></ul></details></li><li><details><summary>10: Image LANDSAT/LE07/C02/T1_L2/LE07_173073_20160220 (19 bands)</summary><ul><li><span class='ee-k'>type:</span><span class='ee-v'>Image</span></li><li><span class='ee-k'>id:</span><span class='ee-v'>LANDSAT/LE07/C02/T1_L2/LE07_173073_20160220</span></li><li><span class='ee-k'>version:</span><span class='ee-v'>1624540907777016</span></li><li><details><summary>bands: List (19 elements)</summary><ul><li><details><summary>0: \"SR_B1\", unsigned int16, EPSG:32635, 8071x6941 px</summary><ul><li><span class='ee-k'>id:</span><span class='ee-v'>SR_B1</span></li><li><span class='ee-k'>crs:</span><span class='ee-v'>EPSG:32635</span></li><li><details><summary>crs_transform: [30, 0, 228585, 0, -30, -1972785]</summary><ul><li><span class='ee-k'>0:</span><span class='ee-v'>30</span></li><li><span class='ee-k'>1:</span><span class='ee-v'>0</span></li><li><span class='ee-k'>2:</span><span class='ee-v'>228585</span></li><li><span class='ee-k'>3:</span><span class='ee-v'>0</span></li><li><span class='ee-k'>4:</span><span class='ee-v'>-30</span></li><li><span class='ee-k'>5:</span><span class='ee-v'>-1972785</span></li></ul></details></li><li><details><summary>data_type: unsigned int16</summary><ul><li><span class='ee-k'>type:</span><span class='ee-v'>PixelType</span></li><li><span class='ee-k'>max:</span><span class='ee-v'>65535</span></li><li><span class='ee-k'>min:</span><span class='ee-v'>0</span></li><li><span class='ee-k'>precision:</span><span class='ee-v'>int</span></li></ul></details></li><li><details><summary>dimensions: [8071, 6941]</summary><ul><li><span class='ee-k'>0:</span><span class='ee-v'>8071</span></li><li><span class='ee-k'>1:</span><span class='ee-v'>6941</span></li></ul></details></li></ul></details></li><li><details><summary>1: \"SR_B2\", unsigned int16, EPSG:32635, 8071x6941 px</summary><ul><li><span class='ee-k'>id:</span><span class='ee-v'>SR_B2</span></li><li><span class='ee-k'>crs:</span><span class='ee-v'>EPSG:32635</span></li><li><details><summary>crs_transform: [30, 0, 228585, 0, -30, -1972785]</summary><ul><li><span class='ee-k'>0:</span><span class='ee-v'>30</span></li><li><span class='ee-k'>1:</span><span class='ee-v'>0</span></li><li><span class='ee-k'>2:</span><span class='ee-v'>228585</span></li><li><span class='ee-k'>3:</span><span class='ee-v'>0</span></li><li><span class='ee-k'>4:</span><span class='ee-v'>-30</span></li><li><span class='ee-k'>5:</span><span class='ee-v'>-1972785</span></li></ul></details></li><li><details><summary>data_type: unsigned int16</summary><ul><li><span class='ee-k'>type:</span><span class='ee-v'>PixelType</span></li><li><span class='ee-k'>max:</span><span class='ee-v'>65535</span></li><li><span class='ee-k'>min:</span><span class='ee-v'>0</span></li><li><span class='ee-k'>precision:</span><span class='ee-v'>int</span></li></ul></details></li><li><details><summary>dimensions: [8071, 6941]</summary><ul><li><span class='ee-k'>0:</span><span class='ee-v'>8071</span></li><li><span class='ee-k'>1:</span><span class='ee-v'>6941</span></li></ul></details></li></ul></details></li><li><details><summary>2: \"SR_B3\", unsigned int16, EPSG:32635, 8071x6941 px</summary><ul><li><span class='ee-k'>id:</span><span class='ee-v'>SR_B3</span></li><li><span class='ee-k'>crs:</span><span class='ee-v'>EPSG:32635</span></li><li><details><summary>crs_transform: [30, 0, 228585, 0, -30, -1972785]</summary><ul><li><span class='ee-k'>0:</span><span class='ee-v'>30</span></li><li><span class='ee-k'>1:</span><span class='ee-v'>0</span></li><li><span class='ee-k'>2:</span><span class='ee-v'>228585</span></li><li><span class='ee-k'>3:</span><span class='ee-v'>0</span></li><li><span class='ee-k'>4:</span><span class='ee-v'>-30</span></li><li><span class='ee-k'>5:</span><span class='ee-v'>-1972785</span></li></ul></details></li><li><details><summary>data_type: unsigned int16</summary><ul><li><span class='ee-k'>type:</span><span class='ee-v'>PixelType</span></li><li><span class='ee-k'>max:</span><span class='ee-v'>65535</span></li><li><span class='ee-k'>min:</span><span class='ee-v'>0</span></li><li><span class='ee-k'>precision:</span><span class='ee-v'>int</span></li></ul></details></li><li><details><summary>dimensions: [8071, 6941]</summary><ul><li><span class='ee-k'>0:</span><span class='ee-v'>8071</span></li><li><span class='ee-k'>1:</span><span class='ee-v'>6941</span></li></ul></details></li></ul></details></li><li><details><summary>3: \"SR_B4\", unsigned int16, EPSG:32635, 8071x6941 px</summary><ul><li><span class='ee-k'>id:</span><span class='ee-v'>SR_B4</span></li><li><span class='ee-k'>crs:</span><span class='ee-v'>EPSG:32635</span></li><li><details><summary>crs_transform: [30, 0, 228585, 0, -30, -1972785]</summary><ul><li><span class='ee-k'>0:</span><span class='ee-v'>30</span></li><li><span class='ee-k'>1:</span><span class='ee-v'>0</span></li><li><span class='ee-k'>2:</span><span class='ee-v'>228585</span></li><li><span class='ee-k'>3:</span><span class='ee-v'>0</span></li><li><span class='ee-k'>4:</span><span class='ee-v'>-30</span></li><li><span class='ee-k'>5:</span><span class='ee-v'>-1972785</span></li></ul></details></li><li><details><summary>data_type: unsigned int16</summary><ul><li><span class='ee-k'>type:</span><span class='ee-v'>PixelType</span></li><li><span class='ee-k'>max:</span><span class='ee-v'>65535</span></li><li><span class='ee-k'>min:</span><span class='ee-v'>0</span></li><li><span class='ee-k'>precision:</span><span class='ee-v'>int</span></li></ul></details></li><li><details><summary>dimensions: [8071, 6941]</summary><ul><li><span class='ee-k'>0:</span><span class='ee-v'>8071</span></li><li><span class='ee-k'>1:</span><span class='ee-v'>6941</span></li></ul></details></li></ul></details></li><li><details><summary>4: \"SR_B5\", unsigned int16, EPSG:32635, 8071x6941 px</summary><ul><li><span class='ee-k'>id:</span><span class='ee-v'>SR_B5</span></li><li><span class='ee-k'>crs:</span><span class='ee-v'>EPSG:32635</span></li><li><details><summary>crs_transform: [30, 0, 228585, 0, -30, -1972785]</summary><ul><li><span class='ee-k'>0:</span><span class='ee-v'>30</span></li><li><span class='ee-k'>1:</span><span class='ee-v'>0</span></li><li><span class='ee-k'>2:</span><span class='ee-v'>228585</span></li><li><span class='ee-k'>3:</span><span class='ee-v'>0</span></li><li><span class='ee-k'>4:</span><span class='ee-v'>-30</span></li><li><span class='ee-k'>5:</span><span class='ee-v'>-1972785</span></li></ul></details></li><li><details><summary>data_type: unsigned int16</summary><ul><li><span class='ee-k'>type:</span><span class='ee-v'>PixelType</span></li><li><span class='ee-k'>max:</span><span class='ee-v'>65535</span></li><li><span class='ee-k'>min:</span><span class='ee-v'>0</span></li><li><span class='ee-k'>precision:</span><span class='ee-v'>int</span></li></ul></details></li><li><details><summary>dimensions: [8071, 6941]</summary><ul><li><span class='ee-k'>0:</span><span class='ee-v'>8071</span></li><li><span class='ee-k'>1:</span><span class='ee-v'>6941</span></li></ul></details></li></ul></details></li><li><details><summary>5: \"SR_B7\", unsigned int16, EPSG:32635, 8071x6941 px</summary><ul><li><span class='ee-k'>id:</span><span class='ee-v'>SR_B7</span></li><li><span class='ee-k'>crs:</span><span class='ee-v'>EPSG:32635</span></li><li><details><summary>crs_transform: [30, 0, 228585, 0, -30, -1972785]</summary><ul><li><span class='ee-k'>0:</span><span class='ee-v'>30</span></li><li><span class='ee-k'>1:</span><span class='ee-v'>0</span></li><li><span class='ee-k'>2:</span><span class='ee-v'>228585</span></li><li><span class='ee-k'>3:</span><span class='ee-v'>0</span></li><li><span class='ee-k'>4:</span><span class='ee-v'>-30</span></li><li><span class='ee-k'>5:</span><span class='ee-v'>-1972785</span></li></ul></details></li><li><details><summary>data_type: unsigned int16</summary><ul><li><span class='ee-k'>type:</span><span class='ee-v'>PixelType</span></li><li><span class='ee-k'>max:</span><span class='ee-v'>65535</span></li><li><span class='ee-k'>min:</span><span class='ee-v'>0</span></li><li><span class='ee-k'>precision:</span><span class='ee-v'>int</span></li></ul></details></li><li><details><summary>dimensions: [8071, 6941]</summary><ul><li><span class='ee-k'>0:</span><span class='ee-v'>8071</span></li><li><span class='ee-k'>1:</span><span class='ee-v'>6941</span></li></ul></details></li></ul></details></li><li><details><summary>6: \"SR_ATMOS_OPACITY\", signed int16, EPSG:32635, 8071x6941 px</summary><ul><li><span class='ee-k'>id:</span><span class='ee-v'>SR_ATMOS_OPACITY</span></li><li><span class='ee-k'>crs:</span><span class='ee-v'>EPSG:32635</span></li><li><details><summary>crs_transform: [30, 0, 228585, 0, -30, -1972785]</summary><ul><li><span class='ee-k'>0:</span><span class='ee-v'>30</span></li><li><span class='ee-k'>1:</span><span class='ee-v'>0</span></li><li><span class='ee-k'>2:</span><span class='ee-v'>228585</span></li><li><span class='ee-k'>3:</span><span class='ee-v'>0</span></li><li><span class='ee-k'>4:</span><span class='ee-v'>-30</span></li><li><span class='ee-k'>5:</span><span class='ee-v'>-1972785</span></li></ul></details></li><li><details><summary>data_type: signed int16</summary><ul><li><span class='ee-k'>type:</span><span class='ee-v'>PixelType</span></li><li><span class='ee-k'>max:</span><span class='ee-v'>32767</span></li><li><span class='ee-k'>min:</span><span class='ee-v'>-32768</span></li><li><span class='ee-k'>precision:</span><span class='ee-v'>int</span></li></ul></details></li><li><details><summary>dimensions: [8071, 6941]</summary><ul><li><span class='ee-k'>0:</span><span class='ee-v'>8071</span></li><li><span class='ee-k'>1:</span><span class='ee-v'>6941</span></li></ul></details></li></ul></details></li><li><details><summary>7: \"SR_CLOUD_QA\", unsigned int8, EPSG:32635, 8071x6941 px</summary><ul><li><span class='ee-k'>id:</span><span class='ee-v'>SR_CLOUD_QA</span></li><li><span class='ee-k'>crs:</span><span class='ee-v'>EPSG:32635</span></li><li><details><summary>crs_transform: [30, 0, 228585, 0, -30, -1972785]</summary><ul><li><span class='ee-k'>0:</span><span class='ee-v'>30</span></li><li><span class='ee-k'>1:</span><span class='ee-v'>0</span></li><li><span class='ee-k'>2:</span><span class='ee-v'>228585</span></li><li><span class='ee-k'>3:</span><span class='ee-v'>0</span></li><li><span class='ee-k'>4:</span><span class='ee-v'>-30</span></li><li><span class='ee-k'>5:</span><span class='ee-v'>-1972785</span></li></ul></details></li><li><details><summary>data_type: unsigned int8</summary><ul><li><span class='ee-k'>type:</span><span class='ee-v'>PixelType</span></li><li><span class='ee-k'>max:</span><span class='ee-v'>255</span></li><li><span class='ee-k'>min:</span><span class='ee-v'>0</span></li><li><span class='ee-k'>precision:</span><span class='ee-v'>int</span></li></ul></details></li><li><details><summary>dimensions: [8071, 6941]</summary><ul><li><span class='ee-k'>0:</span><span class='ee-v'>8071</span></li><li><span class='ee-k'>1:</span><span class='ee-v'>6941</span></li></ul></details></li></ul></details></li><li><details><summary>8: \"ST_B6\", unsigned int16, EPSG:32635, 8071x6941 px</summary><ul><li><span class='ee-k'>id:</span><span class='ee-v'>ST_B6</span></li><li><span class='ee-k'>crs:</span><span class='ee-v'>EPSG:32635</span></li><li><details><summary>crs_transform: [30, 0, 228585, 0, -30, -1972785]</summary><ul><li><span class='ee-k'>0:</span><span class='ee-v'>30</span></li><li><span class='ee-k'>1:</span><span class='ee-v'>0</span></li><li><span class='ee-k'>2:</span><span class='ee-v'>228585</span></li><li><span class='ee-k'>3:</span><span class='ee-v'>0</span></li><li><span class='ee-k'>4:</span><span class='ee-v'>-30</span></li><li><span class='ee-k'>5:</span><span class='ee-v'>-1972785</span></li></ul></details></li><li><details><summary>data_type: unsigned int16</summary><ul><li><span class='ee-k'>type:</span><span class='ee-v'>PixelType</span></li><li><span class='ee-k'>max:</span><span class='ee-v'>65535</span></li><li><span class='ee-k'>min:</span><span class='ee-v'>0</span></li><li><span class='ee-k'>precision:</span><span class='ee-v'>int</span></li></ul></details></li><li><details><summary>dimensions: [8071, 6941]</summary><ul><li><span class='ee-k'>0:</span><span class='ee-v'>8071</span></li><li><span class='ee-k'>1:</span><span class='ee-v'>6941</span></li></ul></details></li></ul></details></li><li><details><summary>9: \"ST_ATRAN\", signed int16, EPSG:32635, 8071x6941 px</summary><ul><li><span class='ee-k'>id:</span><span class='ee-v'>ST_ATRAN</span></li><li><span class='ee-k'>crs:</span><span class='ee-v'>EPSG:32635</span></li><li><details><summary>crs_transform: [30, 0, 228585, 0, -30, -1972785]</summary><ul><li><span class='ee-k'>0:</span><span class='ee-v'>30</span></li><li><span class='ee-k'>1:</span><span class='ee-v'>0</span></li><li><span class='ee-k'>2:</span><span class='ee-v'>228585</span></li><li><span class='ee-k'>3:</span><span class='ee-v'>0</span></li><li><span class='ee-k'>4:</span><span class='ee-v'>-30</span></li><li><span class='ee-k'>5:</span><span class='ee-v'>-1972785</span></li></ul></details></li><li><details><summary>data_type: signed int16</summary><ul><li><span class='ee-k'>type:</span><span class='ee-v'>PixelType</span></li><li><span class='ee-k'>max:</span><span class='ee-v'>32767</span></li><li><span class='ee-k'>min:</span><span class='ee-v'>-32768</span></li><li><span class='ee-k'>precision:</span><span class='ee-v'>int</span></li></ul></details></li><li><details><summary>dimensions: [8071, 6941]</summary><ul><li><span class='ee-k'>0:</span><span class='ee-v'>8071</span></li><li><span class='ee-k'>1:</span><span class='ee-v'>6941</span></li></ul></details></li></ul></details></li><li><details><summary>10: \"ST_CDIST\", signed int16, EPSG:32635, 8071x6941 px</summary><ul><li><span class='ee-k'>id:</span><span class='ee-v'>ST_CDIST</span></li><li><span class='ee-k'>crs:</span><span class='ee-v'>EPSG:32635</span></li><li><details><summary>crs_transform: [30, 0, 228585, 0, -30, -1972785]</summary><ul><li><span class='ee-k'>0:</span><span class='ee-v'>30</span></li><li><span class='ee-k'>1:</span><span class='ee-v'>0</span></li><li><span class='ee-k'>2:</span><span class='ee-v'>228585</span></li><li><span class='ee-k'>3:</span><span class='ee-v'>0</span></li><li><span class='ee-k'>4:</span><span class='ee-v'>-30</span></li><li><span class='ee-k'>5:</span><span class='ee-v'>-1972785</span></li></ul></details></li><li><details><summary>data_type: signed int16</summary><ul><li><span class='ee-k'>type:</span><span class='ee-v'>PixelType</span></li><li><span class='ee-k'>max:</span><span class='ee-v'>32767</span></li><li><span class='ee-k'>min:</span><span class='ee-v'>-32768</span></li><li><span class='ee-k'>precision:</span><span class='ee-v'>int</span></li></ul></details></li><li><details><summary>dimensions: [8071, 6941]</summary><ul><li><span class='ee-k'>0:</span><span class='ee-v'>8071</span></li><li><span class='ee-k'>1:</span><span class='ee-v'>6941</span></li></ul></details></li></ul></details></li><li><details><summary>11: \"ST_DRAD\", signed int16, EPSG:32635, 8071x6941 px</summary><ul><li><span class='ee-k'>id:</span><span class='ee-v'>ST_DRAD</span></li><li><span class='ee-k'>crs:</span><span class='ee-v'>EPSG:32635</span></li><li><details><summary>crs_transform: [30, 0, 228585, 0, -30, -1972785]</summary><ul><li><span class='ee-k'>0:</span><span class='ee-v'>30</span></li><li><span class='ee-k'>1:</span><span class='ee-v'>0</span></li><li><span class='ee-k'>2:</span><span class='ee-v'>228585</span></li><li><span class='ee-k'>3:</span><span class='ee-v'>0</span></li><li><span class='ee-k'>4:</span><span class='ee-v'>-30</span></li><li><span class='ee-k'>5:</span><span class='ee-v'>-1972785</span></li></ul></details></li><li><details><summary>data_type: signed int16</summary><ul><li><span class='ee-k'>type:</span><span class='ee-v'>PixelType</span></li><li><span class='ee-k'>max:</span><span class='ee-v'>32767</span></li><li><span class='ee-k'>min:</span><span class='ee-v'>-32768</span></li><li><span class='ee-k'>precision:</span><span class='ee-v'>int</span></li></ul></details></li><li><details><summary>dimensions: [8071, 6941]</summary><ul><li><span class='ee-k'>0:</span><span class='ee-v'>8071</span></li><li><span class='ee-k'>1:</span><span class='ee-v'>6941</span></li></ul></details></li></ul></details></li><li><details><summary>12: \"ST_EMIS\", signed int16, EPSG:32635, 8071x6941 px</summary><ul><li><span class='ee-k'>id:</span><span class='ee-v'>ST_EMIS</span></li><li><span class='ee-k'>crs:</span><span class='ee-v'>EPSG:32635</span></li><li><details><summary>crs_transform: [30, 0, 228585, 0, -30, -1972785]</summary><ul><li><span class='ee-k'>0:</span><span class='ee-v'>30</span></li><li><span class='ee-k'>1:</span><span class='ee-v'>0</span></li><li><span class='ee-k'>2:</span><span class='ee-v'>228585</span></li><li><span class='ee-k'>3:</span><span class='ee-v'>0</span></li><li><span class='ee-k'>4:</span><span class='ee-v'>-30</span></li><li><span class='ee-k'>5:</span><span class='ee-v'>-1972785</span></li></ul></details></li><li><details><summary>data_type: signed int16</summary><ul><li><span class='ee-k'>type:</span><span class='ee-v'>PixelType</span></li><li><span class='ee-k'>max:</span><span class='ee-v'>32767</span></li><li><span class='ee-k'>min:</span><span class='ee-v'>-32768</span></li><li><span class='ee-k'>precision:</span><span class='ee-v'>int</span></li></ul></details></li><li><details><summary>dimensions: [8071, 6941]</summary><ul><li><span class='ee-k'>0:</span><span class='ee-v'>8071</span></li><li><span class='ee-k'>1:</span><span class='ee-v'>6941</span></li></ul></details></li></ul></details></li><li><details><summary>13: \"ST_EMSD\", signed int16, EPSG:32635, 8071x6941 px</summary><ul><li><span class='ee-k'>id:</span><span class='ee-v'>ST_EMSD</span></li><li><span class='ee-k'>crs:</span><span class='ee-v'>EPSG:32635</span></li><li><details><summary>crs_transform: [30, 0, 228585, 0, -30, -1972785]</summary><ul><li><span class='ee-k'>0:</span><span class='ee-v'>30</span></li><li><span class='ee-k'>1:</span><span class='ee-v'>0</span></li><li><span class='ee-k'>2:</span><span class='ee-v'>228585</span></li><li><span class='ee-k'>3:</span><span class='ee-v'>0</span></li><li><span class='ee-k'>4:</span><span class='ee-v'>-30</span></li><li><span class='ee-k'>5:</span><span class='ee-v'>-1972785</span></li></ul></details></li><li><details><summary>data_type: signed int16</summary><ul><li><span class='ee-k'>type:</span><span class='ee-v'>PixelType</span></li><li><span class='ee-k'>max:</span><span class='ee-v'>32767</span></li><li><span class='ee-k'>min:</span><span class='ee-v'>-32768</span></li><li><span class='ee-k'>precision:</span><span class='ee-v'>int</span></li></ul></details></li><li><details><summary>dimensions: [8071, 6941]</summary><ul><li><span class='ee-k'>0:</span><span class='ee-v'>8071</span></li><li><span class='ee-k'>1:</span><span class='ee-v'>6941</span></li></ul></details></li></ul></details></li><li><details><summary>14: \"ST_QA\", signed int16, EPSG:32635, 8071x6941 px</summary><ul><li><span class='ee-k'>id:</span><span class='ee-v'>ST_QA</span></li><li><span class='ee-k'>crs:</span><span class='ee-v'>EPSG:32635</span></li><li><details><summary>crs_transform: [30, 0, 228585, 0, -30, -1972785]</summary><ul><li><span class='ee-k'>0:</span><span class='ee-v'>30</span></li><li><span class='ee-k'>1:</span><span class='ee-v'>0</span></li><li><span class='ee-k'>2:</span><span class='ee-v'>228585</span></li><li><span class='ee-k'>3:</span><span class='ee-v'>0</span></li><li><span class='ee-k'>4:</span><span class='ee-v'>-30</span></li><li><span class='ee-k'>5:</span><span class='ee-v'>-1972785</span></li></ul></details></li><li><details><summary>data_type: signed int16</summary><ul><li><span class='ee-k'>type:</span><span class='ee-v'>PixelType</span></li><li><span class='ee-k'>max:</span><span class='ee-v'>32767</span></li><li><span class='ee-k'>min:</span><span class='ee-v'>-32768</span></li><li><span class='ee-k'>precision:</span><span class='ee-v'>int</span></li></ul></details></li><li><details><summary>dimensions: [8071, 6941]</summary><ul><li><span class='ee-k'>0:</span><span class='ee-v'>8071</span></li><li><span class='ee-k'>1:</span><span class='ee-v'>6941</span></li></ul></details></li></ul></details></li><li><details><summary>15: \"ST_TRAD\", signed int16, EPSG:32635, 8071x6941 px</summary><ul><li><span class='ee-k'>id:</span><span class='ee-v'>ST_TRAD</span></li><li><span class='ee-k'>crs:</span><span class='ee-v'>EPSG:32635</span></li><li><details><summary>crs_transform: [30, 0, 228585, 0, -30, -1972785]</summary><ul><li><span class='ee-k'>0:</span><span class='ee-v'>30</span></li><li><span class='ee-k'>1:</span><span class='ee-v'>0</span></li><li><span class='ee-k'>2:</span><span class='ee-v'>228585</span></li><li><span class='ee-k'>3:</span><span class='ee-v'>0</span></li><li><span class='ee-k'>4:</span><span class='ee-v'>-30</span></li><li><span class='ee-k'>5:</span><span class='ee-v'>-1972785</span></li></ul></details></li><li><details><summary>data_type: signed int16</summary><ul><li><span class='ee-k'>type:</span><span class='ee-v'>PixelType</span></li><li><span class='ee-k'>max:</span><span class='ee-v'>32767</span></li><li><span class='ee-k'>min:</span><span class='ee-v'>-32768</span></li><li><span class='ee-k'>precision:</span><span class='ee-v'>int</span></li></ul></details></li><li><details><summary>dimensions: [8071, 6941]</summary><ul><li><span class='ee-k'>0:</span><span class='ee-v'>8071</span></li><li><span class='ee-k'>1:</span><span class='ee-v'>6941</span></li></ul></details></li></ul></details></li><li><details><summary>16: \"ST_URAD\", signed int16, EPSG:32635, 8071x6941 px</summary><ul><li><span class='ee-k'>id:</span><span class='ee-v'>ST_URAD</span></li><li><span class='ee-k'>crs:</span><span class='ee-v'>EPSG:32635</span></li><li><details><summary>crs_transform: [30, 0, 228585, 0, -30, -1972785]</summary><ul><li><span class='ee-k'>0:</span><span class='ee-v'>30</span></li><li><span class='ee-k'>1:</span><span class='ee-v'>0</span></li><li><span class='ee-k'>2:</span><span class='ee-v'>228585</span></li><li><span class='ee-k'>3:</span><span class='ee-v'>0</span></li><li><span class='ee-k'>4:</span><span class='ee-v'>-30</span></li><li><span class='ee-k'>5:</span><span class='ee-v'>-1972785</span></li></ul></details></li><li><details><summary>data_type: signed int16</summary><ul><li><span class='ee-k'>type:</span><span class='ee-v'>PixelType</span></li><li><span class='ee-k'>max:</span><span class='ee-v'>32767</span></li><li><span class='ee-k'>min:</span><span class='ee-v'>-32768</span></li><li><span class='ee-k'>precision:</span><span class='ee-v'>int</span></li></ul></details></li><li><details><summary>dimensions: [8071, 6941]</summary><ul><li><span class='ee-k'>0:</span><span class='ee-v'>8071</span></li><li><span class='ee-k'>1:</span><span class='ee-v'>6941</span></li></ul></details></li></ul></details></li><li><details><summary>17: \"QA_PIXEL\", unsigned int16, EPSG:32635, 8071x6941 px</summary><ul><li><span class='ee-k'>id:</span><span class='ee-v'>QA_PIXEL</span></li><li><span class='ee-k'>crs:</span><span class='ee-v'>EPSG:32635</span></li><li><details><summary>crs_transform: [30, 0, 228585, 0, -30, -1972785]</summary><ul><li><span class='ee-k'>0:</span><span class='ee-v'>30</span></li><li><span class='ee-k'>1:</span><span class='ee-v'>0</span></li><li><span class='ee-k'>2:</span><span class='ee-v'>228585</span></li><li><span class='ee-k'>3:</span><span class='ee-v'>0</span></li><li><span class='ee-k'>4:</span><span class='ee-v'>-30</span></li><li><span class='ee-k'>5:</span><span class='ee-v'>-1972785</span></li></ul></details></li><li><details><summary>data_type: unsigned int16</summary><ul><li><span class='ee-k'>type:</span><span class='ee-v'>PixelType</span></li><li><span class='ee-k'>max:</span><span class='ee-v'>65535</span></li><li><span class='ee-k'>min:</span><span class='ee-v'>0</span></li><li><span class='ee-k'>precision:</span><span class='ee-v'>int</span></li></ul></details></li><li><details><summary>dimensions: [8071, 6941]</summary><ul><li><span class='ee-k'>0:</span><span class='ee-v'>8071</span></li><li><span class='ee-k'>1:</span><span class='ee-v'>6941</span></li></ul></details></li></ul></details></li><li><details><summary>18: \"QA_RADSAT\", unsigned int16, EPSG:32635, 8071x6941 px</summary><ul><li><span class='ee-k'>id:</span><span class='ee-v'>QA_RADSAT</span></li><li><span class='ee-k'>crs:</span><span class='ee-v'>EPSG:32635</span></li><li><details><summary>crs_transform: [30, 0, 228585, 0, -30, -1972785]</summary><ul><li><span class='ee-k'>0:</span><span class='ee-v'>30</span></li><li><span class='ee-k'>1:</span><span class='ee-v'>0</span></li><li><span class='ee-k'>2:</span><span class='ee-v'>228585</span></li><li><span class='ee-k'>3:</span><span class='ee-v'>0</span></li><li><span class='ee-k'>4:</span><span class='ee-v'>-30</span></li><li><span class='ee-k'>5:</span><span class='ee-v'>-1972785</span></li></ul></details></li><li><details><summary>data_type: unsigned int16</summary><ul><li><span class='ee-k'>type:</span><span class='ee-v'>PixelType</span></li><li><span class='ee-k'>max:</span><span class='ee-v'>65535</span></li><li><span class='ee-k'>min:</span><span class='ee-v'>0</span></li><li><span class='ee-k'>precision:</span><span class='ee-v'>int</span></li></ul></details></li><li><details><summary>dimensions: [8071, 6941]</summary><ul><li><span class='ee-k'>0:</span><span class='ee-v'>8071</span></li><li><span class='ee-k'>1:</span><span class='ee-v'>6941</span></li></ul></details></li></ul></details></li></ul></details></li><li><details><summary>properties: Object (130 properties)</summary><ul><li><span class='ee-k'>ALGORITHM_SOURCE_SURFACE_REFLECTANCE:</span><span class='ee-v'>LEDAPS_3.4.0</span></li><li><span class='ee-k'>ALGORITHM_SOURCE_SURFACE_TEMPERATURE:</span><span class='ee-v'>st_1.3.0</span></li><li><span class='ee-k'>CLOUD_COVER:</span><span class='ee-v'>2</span></li><li><span class='ee-k'>CLOUD_COVER_LAND:</span><span class='ee-v'>2</span></li><li><span class='ee-k'>COLLECTION_CATEGORY:</span><span class='ee-v'>T1</span></li><li><span class='ee-k'>COLLECTION_NUMBER:</span><span class='ee-v'>2</span></li><li><span class='ee-k'>CORRECTION_BIAS_BAND_1:</span><span class='ee-v'>INTERNAL_CALIBRATION</span></li><li><span class='ee-k'>CORRECTION_BIAS_BAND_2:</span><span class='ee-v'>INTERNAL_CALIBRATION</span></li><li><span class='ee-k'>CORRECTION_BIAS_BAND_3:</span><span class='ee-v'>INTERNAL_CALIBRATION</span></li><li><span class='ee-k'>CORRECTION_BIAS_BAND_4:</span><span class='ee-v'>INTERNAL_CALIBRATION</span></li><li><span class='ee-k'>CORRECTION_BIAS_BAND_5:</span><span class='ee-v'>INTERNAL_CALIBRATION</span></li><li><span class='ee-k'>CORRECTION_BIAS_BAND_6_VCID_1:</span><span class='ee-v'>INTERNAL_CALIBRATION</span></li><li><span class='ee-k'>CORRECTION_BIAS_BAND_6_VCID_2:</span><span class='ee-v'>INTERNAL_CALIBRATION</span></li><li><span class='ee-k'>CORRECTION_BIAS_BAND_7:</span><span class='ee-v'>INTERNAL_CALIBRATION</span></li><li><span class='ee-k'>CORRECTION_BIAS_BAND_8:</span><span class='ee-v'>INTERNAL_CALIBRATION</span></li><li><span class='ee-k'>CORRECTION_GAIN_BAND_1:</span><span class='ee-v'>CPF</span></li><li><span class='ee-k'>CORRECTION_GAIN_BAND_2:</span><span class='ee-v'>CPF</span></li><li><span class='ee-k'>CORRECTION_GAIN_BAND_3:</span><span class='ee-v'>CPF</span></li><li><span class='ee-k'>CORRECTION_GAIN_BAND_4:</span><span class='ee-v'>CPF</span></li><li><span class='ee-k'>CORRECTION_GAIN_BAND_5:</span><span class='ee-v'>CPF</span></li><li><span class='ee-k'>CORRECTION_GAIN_BAND_6_VCID_1:</span><span class='ee-v'>CPF</span></li><li><span class='ee-k'>CORRECTION_GAIN_BAND_6_VCID_2:</span><span class='ee-v'>CPF</span></li><li><span class='ee-k'>CORRECTION_GAIN_BAND_7:</span><span class='ee-v'>CPF</span></li><li><span class='ee-k'>CORRECTION_GAIN_BAND_8:</span><span class='ee-v'>CPF</span></li><li><span class='ee-k'>DATA_SOURCE_AIR_TEMPERATURE:</span><span class='ee-v'>NCEP</span></li><li><span class='ee-k'>DATA_SOURCE_ELEVATION:</span><span class='ee-v'>GLS2000</span></li><li><span class='ee-k'>DATA_SOURCE_OZONE:</span><span class='ee-v'>TOMS</span></li><li><span class='ee-k'>DATA_SOURCE_PRESSURE:</span><span class='ee-v'>NCEP</span></li><li><span class='ee-k'>DATA_SOURCE_REANALYSIS:</span><span class='ee-v'>GEOS-5 FP-IT</span></li><li><span class='ee-k'>DATA_SOURCE_WATER_VAPOR:</span><span class='ee-v'>NCEP</span></li><li><span class='ee-k'>DATE_ACQUIRED:</span><span class='ee-v'>2016-02-20</span></li><li><span class='ee-k'>DATE_PRODUCT_GENERATED:</span><span class='ee-v'>1599107333000</span></li><li><span class='ee-k'>DATUM:</span><span class='ee-v'>WGS84</span></li><li><span class='ee-k'>EARTH_SUN_DISTANCE:</span><span class='ee-v'>0.9886499</span></li><li><span class='ee-k'>ELLIPSOID:</span><span class='ee-v'>WGS84</span></li><li><span class='ee-k'>EPHEMERIS_TYPE:</span><span class='ee-v'>DEFINITIVE</span></li><li><span class='ee-k'>GAIN_BAND_1:</span><span class='ee-v'>H</span></li><li><span class='ee-k'>GAIN_BAND_2:</span><span class='ee-v'>H</span></li><li><span class='ee-k'>GAIN_BAND_3:</span><span class='ee-v'>H</span></li><li><span class='ee-k'>GAIN_BAND_4:</span><span class='ee-v'>L</span></li><li><span class='ee-k'>GAIN_BAND_5:</span><span class='ee-v'>H</span></li><li><span class='ee-k'>GAIN_BAND_6_VCID_1:</span><span class='ee-v'>L</span></li><li><span class='ee-k'>GAIN_BAND_6_VCID_2:</span><span class='ee-v'>H</span></li><li><span class='ee-k'>GAIN_BAND_7:</span><span class='ee-v'>H</span></li><li><span class='ee-k'>GAIN_BAND_8:</span><span class='ee-v'>L</span></li><li><span class='ee-k'>GAIN_CHANGE_BAND_1:</span><span class='ee-v'>HH</span></li><li><span class='ee-k'>GAIN_CHANGE_BAND_2:</span><span class='ee-v'>HH</span></li><li><span class='ee-k'>GAIN_CHANGE_BAND_3:</span><span class='ee-v'>HH</span></li><li><span class='ee-k'>GAIN_CHANGE_BAND_4:</span><span class='ee-v'>LL</span></li><li><span class='ee-k'>GAIN_CHANGE_BAND_5:</span><span class='ee-v'>HH</span></li><li><span class='ee-k'>GAIN_CHANGE_BAND_6_VCID_1:</span><span class='ee-v'>LL</span></li><li><span class='ee-k'>GAIN_CHANGE_BAND_6_VCID_2:</span><span class='ee-v'>HH</span></li><li><span class='ee-k'>GAIN_CHANGE_BAND_7:</span><span class='ee-v'>HH</span></li><li><span class='ee-k'>GAIN_CHANGE_BAND_8:</span><span class='ee-v'>LL</span></li><li><span class='ee-k'>GAIN_CHANGE_SCAN_BAND_1:</span><span class='ee-v'>0</span></li><li><span class='ee-k'>GAIN_CHANGE_SCAN_BAND_2:</span><span class='ee-v'>0</span></li><li><span class='ee-k'>GAIN_CHANGE_SCAN_BAND_3:</span><span class='ee-v'>0</span></li><li><span class='ee-k'>GAIN_CHANGE_SCAN_BAND_4:</span><span class='ee-v'>0</span></li><li><span class='ee-k'>GAIN_CHANGE_SCAN_BAND_5:</span><span class='ee-v'>0</span></li><li><span class='ee-k'>GAIN_CHANGE_SCAN_BAND_6_VCID_1:</span><span class='ee-v'>0</span></li><li><span class='ee-k'>GAIN_CHANGE_SCAN_BAND_6_VCID_2:</span><span class='ee-v'>0</span></li><li><span class='ee-k'>GAIN_CHANGE_SCAN_BAND_7:</span><span class='ee-v'>0</span></li><li><span class='ee-k'>GAIN_CHANGE_SCAN_BAND_8:</span><span class='ee-v'>0</span></li><li><span class='ee-k'>GEOMETRIC_RMSE_MODEL:</span><span class='ee-v'>5.38</span></li><li><span class='ee-k'>GEOMETRIC_RMSE_MODEL_X:</span><span class='ee-v'>2.729</span></li><li><span class='ee-k'>GEOMETRIC_RMSE_MODEL_Y:</span><span class='ee-v'>4.637</span></li><li><span class='ee-k'>GRID_CELL_SIZE_REFLECTIVE:</span><span class='ee-v'>30</span></li><li><span class='ee-k'>GRID_CELL_SIZE_THERMAL:</span><span class='ee-v'>30</span></li><li><span class='ee-k'>GROUND_CONTROL_POINTS_MODEL:</span><span class='ee-v'>738</span></li><li><span class='ee-k'>GROUND_CONTROL_POINTS_VERSION:</span><span class='ee-v'>5</span></li><li><span class='ee-k'>IMAGE_QUALITY:</span><span class='ee-v'>9</span></li><li><span class='ee-k'>L1_DATE_PRODUCT_GENERATED:</span><span class='ee-v'>2020-09-03T04:12:15Z</span></li><li><span class='ee-k'>L1_LANDSAT_PRODUCT_ID:</span><span class='ee-v'>LE07_L1TP_173073_20160220_20200903_02_T1</span></li><li><span class='ee-k'>L1_PROCESSING_LEVEL:</span><span class='ee-v'>L1TP</span></li><li><span class='ee-k'>L1_PROCESSING_SOFTWARE_VERSION:</span><span class='ee-v'>LPGS_15.3.1c</span></li><li><span class='ee-k'>L1_REQUEST_ID:</span><span class='ee-v'>L2</span></li><li><span class='ee-k'>LANDSAT_PRODUCT_ID:</span><span class='ee-v'>LE07_L2SP_173073_20160220_20200903_02_T1</span></li><li><span class='ee-k'>LANDSAT_SCENE_ID:</span><span class='ee-v'>LE71730732016051SG100</span></li><li><span class='ee-k'>MAP_PROJECTION:</span><span class='ee-v'>UTM</span></li><li><span class='ee-k'>ORIENTATION:</span><span class='ee-v'>NORTH_UP</span></li><li><span class='ee-k'>PROCESSING_LEVEL:</span><span class='ee-v'>L2SP</span></li><li><span class='ee-k'>PROCESSING_SOFTWARE_VERSION:</span><span class='ee-v'>LPGS_15.3.1c</span></li><li><span class='ee-k'>REFLECTANCE_ADD_BAND_1:</span><span class='ee-v'>-0.2</span></li><li><span class='ee-k'>REFLECTANCE_ADD_BAND_2:</span><span class='ee-v'>-0.2</span></li><li><span class='ee-k'>REFLECTANCE_ADD_BAND_3:</span><span class='ee-v'>-0.2</span></li><li><span class='ee-k'>REFLECTANCE_ADD_BAND_4:</span><span class='ee-v'>-0.2</span></li><li><span class='ee-k'>REFLECTANCE_ADD_BAND_5:</span><span class='ee-v'>-0.2</span></li><li><span class='ee-k'>REFLECTANCE_ADD_BAND_7:</span><span class='ee-v'>-0.2</span></li><li><span class='ee-k'>REFLECTANCE_MULT_BAND_1:</span><span class='ee-v'>2.75e-05</span></li><li><span class='ee-k'>REFLECTANCE_MULT_BAND_2:</span><span class='ee-v'>2.75e-05</span></li><li><span class='ee-k'>REFLECTANCE_MULT_BAND_3:</span><span class='ee-v'>2.75e-05</span></li><li><span class='ee-k'>REFLECTANCE_MULT_BAND_4:</span><span class='ee-v'>2.75e-05</span></li><li><span class='ee-k'>REFLECTANCE_MULT_BAND_5:</span><span class='ee-v'>2.75e-05</span></li><li><span class='ee-k'>REFLECTANCE_MULT_BAND_7:</span><span class='ee-v'>2.75e-05</span></li><li><span class='ee-k'>REFLECTIVE_LINES:</span><span class='ee-v'>6941</span></li><li><span class='ee-k'>REFLECTIVE_SAMPLES:</span><span class='ee-v'>8071</span></li><li><span class='ee-k'>REQUEST_ID:</span><span class='ee-v'>L2</span></li><li><span class='ee-k'>SATURATION_BAND_1:</span><span class='ee-v'>Y</span></li><li><span class='ee-k'>SATURATION_BAND_2:</span><span class='ee-v'>Y</span></li><li><span class='ee-k'>SATURATION_BAND_3:</span><span class='ee-v'>Y</span></li><li><span class='ee-k'>SATURATION_BAND_4:</span><span class='ee-v'>Y</span></li><li><span class='ee-k'>SATURATION_BAND_5:</span><span class='ee-v'>Y</span></li><li><span class='ee-k'>SATURATION_BAND_6_VCID_1:</span><span class='ee-v'>N</span></li><li><span class='ee-k'>SATURATION_BAND_6_VCID_2:</span><span class='ee-v'>N</span></li><li><span class='ee-k'>SATURATION_BAND_7:</span><span class='ee-v'>Y</span></li><li><span class='ee-k'>SATURATION_BAND_8:</span><span class='ee-v'>N</span></li><li><span class='ee-k'>SCENE_CENTER_TIME:</span><span class='ee-v'>08:20:44.7812825Z</span></li><li><span class='ee-k'>SENSOR_ANOMALIES:</span><span class='ee-v'>NONE</span></li><li><span class='ee-k'>SENSOR_ID:</span><span class='ee-v'>ETM</span></li><li><span class='ee-k'>SENSOR_MODE:</span><span class='ee-v'>BUMPER</span></li><li><span class='ee-k'>SENSOR_MODE_SLC:</span><span class='ee-v'>OFF</span></li><li><span class='ee-k'>SPACECRAFT_ID:</span><span class='ee-v'>LANDSAT_7</span></li><li><span class='ee-k'>STATION_ID:</span><span class='ee-v'>SG1</span></li><li><span class='ee-k'>SUN_AZIMUTH:</span><span class='ee-v'>80.96838486</span></li><li><span class='ee-k'>SUN_ELEVATION:</span><span class='ee-v'>57.54566451</span></li><li><span class='ee-k'>TEMPERATURE_ADD_BAND_ST_B6:</span><span class='ee-v'>149</span></li><li><span class='ee-k'>TEMPERATURE_MAXIMUM_BAND_ST_B6:</span><span class='ee-v'>372.999941</span></li><li><span class='ee-k'>TEMPERATURE_MINIMUM_BAND_ST_B6:</span><span class='ee-v'>149.003418</span></li><li><span class='ee-k'>TEMPERATURE_MULT_BAND_ST_B6:</span><span class='ee-v'>0.00341802</span></li><li><span class='ee-k'>THERMAL_LINES:</span><span class='ee-v'>6941</span></li><li><span class='ee-k'>THERMAL_SAMPLES:</span><span class='ee-v'>8071</span></li><li><span class='ee-k'>UTM_ZONE:</span><span class='ee-v'>35</span></li><li><span class='ee-k'>WRS_PATH:</span><span class='ee-v'>173</span></li><li><span class='ee-k'>WRS_ROW:</span><span class='ee-v'>73</span></li><li><span class='ee-k'>WRS_TYPE:</span><span class='ee-v'>2</span></li><li><span class='ee-k'>system:asset_size:</span><span class='ee-v'>556687210</span></li><li><details><summary>system:footprint: LinearRing (20 vertices)</summary><ul><li><span class='ee-k'>type:</span><span class='ee-v'>LinearRing</span></li><li><details><summary>coordinates: List (20 elements)</summary><ul><li><details><summary>0: [24.48286339622191, -19.451510465247463]</summary><ul><li><span class='ee-k'>0:</span><span class='ee-v'>24.48286339622191</span></li><li><span class='ee-k'>1:</span><span class='ee-v'>-19.451510465247463</span></li></ul></details></li><li><details><summary>1: [24.532949205498852, -19.459001645532712]</summary><ul><li><span class='ee-k'>0:</span><span class='ee-v'>24.532949205498852</span></li><li><span class='ee-k'>1:</span><span class='ee-v'>-19.459001645532712</span></li></ul></details></li><li><details><summary>2: [24.65300496771332, -19.47685026889425]</summary><ul><li><span class='ee-k'>0:</span><span class='ee-v'>24.65300496771332</span></li><li><span class='ee-k'>1:</span><span class='ee-v'>-19.47685026889425</span></li></ul></details></li><li><details><summary>3: [26.301301916296847, -19.713302893700117]</summary><ul><li><span class='ee-k'>0:</span><span class='ee-v'>26.301301916296847</span></li><li><span class='ee-k'>1:</span><span class='ee-v'>-19.713302893700117</span></li></ul></details></li><li><details><summary>4: [26.30980777995546, -19.713048190861812]</summary><ul><li><span class='ee-k'>0:</span><span class='ee-v'>26.30980777995546</span></li><li><span class='ee-k'>1:</span><span class='ee-v'>-19.713048190861812</span></li></ul></details></li><li><details><summary>5: [26.31467070021239, -19.71134244458195]</summary><ul><li><span class='ee-k'>0:</span><span class='ee-v'>26.31467070021239</span></li><li><span class='ee-k'>1:</span><span class='ee-v'>-19.71134244458195</span></li></ul></details></li><li><details><summary>6: [26.673654477883446, -18.110552325970858]</summary><ul><li><span class='ee-k'>0:</span><span class='ee-v'>26.673654477883446</span></li><li><span class='ee-k'>1:</span><span class='ee-v'>-18.110552325970858</span></li></ul></details></li><li><details><summary>7: [26.66256395481112, -18.102209064520633]</summary><ul><li><span class='ee-k'>0:</span><span class='ee-v'>26.66256395481112</span></li><li><span class='ee-k'>1:</span><span class='ee-v'>-18.102209064520633</span></li></ul></details></li><li><details><summary>8: [26.323071139936076, -18.054672152684528]</summary><ul><li><span class='ee-k'>0:</span><span class='ee-v'>26.323071139936076</span></li><li><span class='ee-k'>1:</span><span class='ee-v'>-18.054672152684528</span></li></ul></details></li><li><details><summary>9: [24.900568347763013, -17.84878367046754]</summary><ul><li><span class='ee-k'>0:</span><span class='ee-v'>24.900568347763013</span></li><li><span class='ee-k'>1:</span><span class='ee-v'>-17.84878367046754</span></li></ul></details></li><li><details><summary>10: [24.861841339281632, -17.843055418248557]</summary><ul><li><span class='ee-k'>0:</span><span class='ee-v'>24.861841339281632</span></li><li><span class='ee-k'>1:</span><span class='ee-v'>-17.843055418248557</span></li></ul></details></li><li><details><summary>11: [24.855258254725825, -17.850056377140607]</summary><ul><li><span class='ee-k'>0:</span><span class='ee-v'>24.855258254725825</span></li><li><span class='ee-k'>1:</span><span class='ee-v'>-17.850056377140607</span></li></ul></details></li><li><details><summary>12: [24.84605083781414, -17.88471213004835]</summary><ul><li><span class='ee-k'>0:</span><span class='ee-v'>24.84605083781414</span></li><li><span class='ee-k'>1:</span><span class='ee-v'>-17.88471213004835</span></li></ul></details></li><li><details><summary>13: [24.767666769336074, -18.2198613899175]</summary><ul><li><span class='ee-k'>0:</span><span class='ee-v'>24.767666769336074</span></li><li><span class='ee-k'>1:</span><span class='ee-v'>-18.2198613899175</span></li></ul></details></li><li><details><summary>14: [24.58340434821555, -19.001210034963925]</summary><ul><li><span class='ee-k'>0:</span><span class='ee-v'>24.58340434821555</span></li><li><span class='ee-k'>1:</span><span class='ee-v'>-19.001210034963925</span></li></ul></details></li><li><details><summary>15: [24.528397591911524, -19.2334811159977]</summary><ul><li><span class='ee-k'>0:</span><span class='ee-v'>24.528397591911524</span></li><li><span class='ee-k'>1:</span><span class='ee-v'>-19.2334811159977</span></li></ul></details></li><li><details><summary>16: [24.490258745057563, -19.396326235024993]</summary><ul><li><span class='ee-k'>0:</span><span class='ee-v'>24.490258745057563</span></li><li><span class='ee-k'>1:</span><span class='ee-v'>-19.396326235024993</span></li></ul></details></li><li><details><summary>17: [24.48627587744569, -19.41388684755723]</summary><ul><li><span class='ee-k'>0:</span><span class='ee-v'>24.48627587744569</span></li><li><span class='ee-k'>1:</span><span class='ee-v'>-19.41388684755723</span></li></ul></details></li><li><details><summary>18: [24.481589475425753, -19.439600371158683]</summary><ul><li><span class='ee-k'>0:</span><span class='ee-v'>24.481589475425753</span></li><li><span class='ee-k'>1:</span><span class='ee-v'>-19.439600371158683</span></li></ul></details></li><li><details><summary>19: [24.48286339622191, -19.451510465247463]</summary><ul><li><span class='ee-k'>0:</span><span class='ee-v'>24.48286339622191</span></li><li><span class='ee-k'>1:</span><span class='ee-v'>-19.451510465247463</span></li></ul></details></li></ul></details></li></ul></details></li><li><span class='ee-k'>system:index:</span><span class='ee-v'>LE07_173073_20160220</span></li><li><span class='ee-k'>system:time_end:</span><span class='ee-v'>1455956444781</span></li><li><span class='ee-k'>system:time_start:</span><span class='ee-v'>1455956444781</span></li></ul></details></li></ul></details></li><li><details><summary>11: Image LANDSAT/LE07/C02/T1_L2/LE07_173073_20161118 (19 bands)</summary><ul><li><span class='ee-k'>type:</span><span class='ee-v'>Image</span></li><li><span class='ee-k'>id:</span><span class='ee-v'>LANDSAT/LE07/C02/T1_L2/LE07_173073_20161118</span></li><li><span class='ee-k'>version:</span><span class='ee-v'>1624542001427386</span></li><li><details><summary>bands: List (19 elements)</summary><ul><li><details><summary>0: \"SR_B1\", unsigned int16, EPSG:32635, 8071x6971 px</summary><ul><li><span class='ee-k'>id:</span><span class='ee-v'>SR_B1</span></li><li><span class='ee-k'>crs:</span><span class='ee-v'>EPSG:32635</span></li><li><details><summary>crs_transform: [30, 0, 229185, 0, -30, -1972485]</summary><ul><li><span class='ee-k'>0:</span><span class='ee-v'>30</span></li><li><span class='ee-k'>1:</span><span class='ee-v'>0</span></li><li><span class='ee-k'>2:</span><span class='ee-v'>229185</span></li><li><span class='ee-k'>3:</span><span class='ee-v'>0</span></li><li><span class='ee-k'>4:</span><span class='ee-v'>-30</span></li><li><span class='ee-k'>5:</span><span class='ee-v'>-1972485</span></li></ul></details></li><li><details><summary>data_type: unsigned int16</summary><ul><li><span class='ee-k'>type:</span><span class='ee-v'>PixelType</span></li><li><span class='ee-k'>max:</span><span class='ee-v'>65535</span></li><li><span class='ee-k'>min:</span><span class='ee-v'>0</span></li><li><span class='ee-k'>precision:</span><span class='ee-v'>int</span></li></ul></details></li><li><details><summary>dimensions: [8071, 6971]</summary><ul><li><span class='ee-k'>0:</span><span class='ee-v'>8071</span></li><li><span class='ee-k'>1:</span><span class='ee-v'>6971</span></li></ul></details></li></ul></details></li><li><details><summary>1: \"SR_B2\", unsigned int16, EPSG:32635, 8071x6971 px</summary><ul><li><span class='ee-k'>id:</span><span class='ee-v'>SR_B2</span></li><li><span class='ee-k'>crs:</span><span class='ee-v'>EPSG:32635</span></li><li><details><summary>crs_transform: [30, 0, 229185, 0, -30, -1972485]</summary><ul><li><span class='ee-k'>0:</span><span class='ee-v'>30</span></li><li><span class='ee-k'>1:</span><span class='ee-v'>0</span></li><li><span class='ee-k'>2:</span><span class='ee-v'>229185</span></li><li><span class='ee-k'>3:</span><span class='ee-v'>0</span></li><li><span class='ee-k'>4:</span><span class='ee-v'>-30</span></li><li><span class='ee-k'>5:</span><span class='ee-v'>-1972485</span></li></ul></details></li><li><details><summary>data_type: unsigned int16</summary><ul><li><span class='ee-k'>type:</span><span class='ee-v'>PixelType</span></li><li><span class='ee-k'>max:</span><span class='ee-v'>65535</span></li><li><span class='ee-k'>min:</span><span class='ee-v'>0</span></li><li><span class='ee-k'>precision:</span><span class='ee-v'>int</span></li></ul></details></li><li><details><summary>dimensions: [8071, 6971]</summary><ul><li><span class='ee-k'>0:</span><span class='ee-v'>8071</span></li><li><span class='ee-k'>1:</span><span class='ee-v'>6971</span></li></ul></details></li></ul></details></li><li><details><summary>2: \"SR_B3\", unsigned int16, EPSG:32635, 8071x6971 px</summary><ul><li><span class='ee-k'>id:</span><span class='ee-v'>SR_B3</span></li><li><span class='ee-k'>crs:</span><span class='ee-v'>EPSG:32635</span></li><li><details><summary>crs_transform: [30, 0, 229185, 0, -30, -1972485]</summary><ul><li><span class='ee-k'>0:</span><span class='ee-v'>30</span></li><li><span class='ee-k'>1:</span><span class='ee-v'>0</span></li><li><span class='ee-k'>2:</span><span class='ee-v'>229185</span></li><li><span class='ee-k'>3:</span><span class='ee-v'>0</span></li><li><span class='ee-k'>4:</span><span class='ee-v'>-30</span></li><li><span class='ee-k'>5:</span><span class='ee-v'>-1972485</span></li></ul></details></li><li><details><summary>data_type: unsigned int16</summary><ul><li><span class='ee-k'>type:</span><span class='ee-v'>PixelType</span></li><li><span class='ee-k'>max:</span><span class='ee-v'>65535</span></li><li><span class='ee-k'>min:</span><span class='ee-v'>0</span></li><li><span class='ee-k'>precision:</span><span class='ee-v'>int</span></li></ul></details></li><li><details><summary>dimensions: [8071, 6971]</summary><ul><li><span class='ee-k'>0:</span><span class='ee-v'>8071</span></li><li><span class='ee-k'>1:</span><span class='ee-v'>6971</span></li></ul></details></li></ul></details></li><li><details><summary>3: \"SR_B4\", unsigned int16, EPSG:32635, 8071x6971 px</summary><ul><li><span class='ee-k'>id:</span><span class='ee-v'>SR_B4</span></li><li><span class='ee-k'>crs:</span><span class='ee-v'>EPSG:32635</span></li><li><details><summary>crs_transform: [30, 0, 229185, 0, -30, -1972485]</summary><ul><li><span class='ee-k'>0:</span><span class='ee-v'>30</span></li><li><span class='ee-k'>1:</span><span class='ee-v'>0</span></li><li><span class='ee-k'>2:</span><span class='ee-v'>229185</span></li><li><span class='ee-k'>3:</span><span class='ee-v'>0</span></li><li><span class='ee-k'>4:</span><span class='ee-v'>-30</span></li><li><span class='ee-k'>5:</span><span class='ee-v'>-1972485</span></li></ul></details></li><li><details><summary>data_type: unsigned int16</summary><ul><li><span class='ee-k'>type:</span><span class='ee-v'>PixelType</span></li><li><span class='ee-k'>max:</span><span class='ee-v'>65535</span></li><li><span class='ee-k'>min:</span><span class='ee-v'>0</span></li><li><span class='ee-k'>precision:</span><span class='ee-v'>int</span></li></ul></details></li><li><details><summary>dimensions: [8071, 6971]</summary><ul><li><span class='ee-k'>0:</span><span class='ee-v'>8071</span></li><li><span class='ee-k'>1:</span><span class='ee-v'>6971</span></li></ul></details></li></ul></details></li><li><details><summary>4: \"SR_B5\", unsigned int16, EPSG:32635, 8071x6971 px</summary><ul><li><span class='ee-k'>id:</span><span class='ee-v'>SR_B5</span></li><li><span class='ee-k'>crs:</span><span class='ee-v'>EPSG:32635</span></li><li><details><summary>crs_transform: [30, 0, 229185, 0, -30, -1972485]</summary><ul><li><span class='ee-k'>0:</span><span class='ee-v'>30</span></li><li><span class='ee-k'>1:</span><span class='ee-v'>0</span></li><li><span class='ee-k'>2:</span><span class='ee-v'>229185</span></li><li><span class='ee-k'>3:</span><span class='ee-v'>0</span></li><li><span class='ee-k'>4:</span><span class='ee-v'>-30</span></li><li><span class='ee-k'>5:</span><span class='ee-v'>-1972485</span></li></ul></details></li><li><details><summary>data_type: unsigned int16</summary><ul><li><span class='ee-k'>type:</span><span class='ee-v'>PixelType</span></li><li><span class='ee-k'>max:</span><span class='ee-v'>65535</span></li><li><span class='ee-k'>min:</span><span class='ee-v'>0</span></li><li><span class='ee-k'>precision:</span><span class='ee-v'>int</span></li></ul></details></li><li><details><summary>dimensions: [8071, 6971]</summary><ul><li><span class='ee-k'>0:</span><span class='ee-v'>8071</span></li><li><span class='ee-k'>1:</span><span class='ee-v'>6971</span></li></ul></details></li></ul></details></li><li><details><summary>5: \"SR_B7\", unsigned int16, EPSG:32635, 8071x6971 px</summary><ul><li><span class='ee-k'>id:</span><span class='ee-v'>SR_B7</span></li><li><span class='ee-k'>crs:</span><span class='ee-v'>EPSG:32635</span></li><li><details><summary>crs_transform: [30, 0, 229185, 0, -30, -1972485]</summary><ul><li><span class='ee-k'>0:</span><span class='ee-v'>30</span></li><li><span class='ee-k'>1:</span><span class='ee-v'>0</span></li><li><span class='ee-k'>2:</span><span class='ee-v'>229185</span></li><li><span class='ee-k'>3:</span><span class='ee-v'>0</span></li><li><span class='ee-k'>4:</span><span class='ee-v'>-30</span></li><li><span class='ee-k'>5:</span><span class='ee-v'>-1972485</span></li></ul></details></li><li><details><summary>data_type: unsigned int16</summary><ul><li><span class='ee-k'>type:</span><span class='ee-v'>PixelType</span></li><li><span class='ee-k'>max:</span><span class='ee-v'>65535</span></li><li><span class='ee-k'>min:</span><span class='ee-v'>0</span></li><li><span class='ee-k'>precision:</span><span class='ee-v'>int</span></li></ul></details></li><li><details><summary>dimensions: [8071, 6971]</summary><ul><li><span class='ee-k'>0:</span><span class='ee-v'>8071</span></li><li><span class='ee-k'>1:</span><span class='ee-v'>6971</span></li></ul></details></li></ul></details></li><li><details><summary>6: \"SR_ATMOS_OPACITY\", signed int16, EPSG:32635, 8071x6971 px</summary><ul><li><span class='ee-k'>id:</span><span class='ee-v'>SR_ATMOS_OPACITY</span></li><li><span class='ee-k'>crs:</span><span class='ee-v'>EPSG:32635</span></li><li><details><summary>crs_transform: [30, 0, 229185, 0, -30, -1972485]</summary><ul><li><span class='ee-k'>0:</span><span class='ee-v'>30</span></li><li><span class='ee-k'>1:</span><span class='ee-v'>0</span></li><li><span class='ee-k'>2:</span><span class='ee-v'>229185</span></li><li><span class='ee-k'>3:</span><span class='ee-v'>0</span></li><li><span class='ee-k'>4:</span><span class='ee-v'>-30</span></li><li><span class='ee-k'>5:</span><span class='ee-v'>-1972485</span></li></ul></details></li><li><details><summary>data_type: signed int16</summary><ul><li><span class='ee-k'>type:</span><span class='ee-v'>PixelType</span></li><li><span class='ee-k'>max:</span><span class='ee-v'>32767</span></li><li><span class='ee-k'>min:</span><span class='ee-v'>-32768</span></li><li><span class='ee-k'>precision:</span><span class='ee-v'>int</span></li></ul></details></li><li><details><summary>dimensions: [8071, 6971]</summary><ul><li><span class='ee-k'>0:</span><span class='ee-v'>8071</span></li><li><span class='ee-k'>1:</span><span class='ee-v'>6971</span></li></ul></details></li></ul></details></li><li><details><summary>7: \"SR_CLOUD_QA\", unsigned int8, EPSG:32635, 8071x6971 px</summary><ul><li><span class='ee-k'>id:</span><span class='ee-v'>SR_CLOUD_QA</span></li><li><span class='ee-k'>crs:</span><span class='ee-v'>EPSG:32635</span></li><li><details><summary>crs_transform: [30, 0, 229185, 0, -30, -1972485]</summary><ul><li><span class='ee-k'>0:</span><span class='ee-v'>30</span></li><li><span class='ee-k'>1:</span><span class='ee-v'>0</span></li><li><span class='ee-k'>2:</span><span class='ee-v'>229185</span></li><li><span class='ee-k'>3:</span><span class='ee-v'>0</span></li><li><span class='ee-k'>4:</span><span class='ee-v'>-30</span></li><li><span class='ee-k'>5:</span><span class='ee-v'>-1972485</span></li></ul></details></li><li><details><summary>data_type: unsigned int8</summary><ul><li><span class='ee-k'>type:</span><span class='ee-v'>PixelType</span></li><li><span class='ee-k'>max:</span><span class='ee-v'>255</span></li><li><span class='ee-k'>min:</span><span class='ee-v'>0</span></li><li><span class='ee-k'>precision:</span><span class='ee-v'>int</span></li></ul></details></li><li><details><summary>dimensions: [8071, 6971]</summary><ul><li><span class='ee-k'>0:</span><span class='ee-v'>8071</span></li><li><span class='ee-k'>1:</span><span class='ee-v'>6971</span></li></ul></details></li></ul></details></li><li><details><summary>8: \"ST_B6\", unsigned int16, EPSG:32635, 8071x6971 px</summary><ul><li><span class='ee-k'>id:</span><span class='ee-v'>ST_B6</span></li><li><span class='ee-k'>crs:</span><span class='ee-v'>EPSG:32635</span></li><li><details><summary>crs_transform: [30, 0, 229185, 0, -30, -1972485]</summary><ul><li><span class='ee-k'>0:</span><span class='ee-v'>30</span></li><li><span class='ee-k'>1:</span><span class='ee-v'>0</span></li><li><span class='ee-k'>2:</span><span class='ee-v'>229185</span></li><li><span class='ee-k'>3:</span><span class='ee-v'>0</span></li><li><span class='ee-k'>4:</span><span class='ee-v'>-30</span></li><li><span class='ee-k'>5:</span><span class='ee-v'>-1972485</span></li></ul></details></li><li><details><summary>data_type: unsigned int16</summary><ul><li><span class='ee-k'>type:</span><span class='ee-v'>PixelType</span></li><li><span class='ee-k'>max:</span><span class='ee-v'>65535</span></li><li><span class='ee-k'>min:</span><span class='ee-v'>0</span></li><li><span class='ee-k'>precision:</span><span class='ee-v'>int</span></li></ul></details></li><li><details><summary>dimensions: [8071, 6971]</summary><ul><li><span class='ee-k'>0:</span><span class='ee-v'>8071</span></li><li><span class='ee-k'>1:</span><span class='ee-v'>6971</span></li></ul></details></li></ul></details></li><li><details><summary>9: \"ST_ATRAN\", signed int16, EPSG:32635, 8071x6971 px</summary><ul><li><span class='ee-k'>id:</span><span class='ee-v'>ST_ATRAN</span></li><li><span class='ee-k'>crs:</span><span class='ee-v'>EPSG:32635</span></li><li><details><summary>crs_transform: [30, 0, 229185, 0, -30, -1972485]</summary><ul><li><span class='ee-k'>0:</span><span class='ee-v'>30</span></li><li><span class='ee-k'>1:</span><span class='ee-v'>0</span></li><li><span class='ee-k'>2:</span><span class='ee-v'>229185</span></li><li><span class='ee-k'>3:</span><span class='ee-v'>0</span></li><li><span class='ee-k'>4:</span><span class='ee-v'>-30</span></li><li><span class='ee-k'>5:</span><span class='ee-v'>-1972485</span></li></ul></details></li><li><details><summary>data_type: signed int16</summary><ul><li><span class='ee-k'>type:</span><span class='ee-v'>PixelType</span></li><li><span class='ee-k'>max:</span><span class='ee-v'>32767</span></li><li><span class='ee-k'>min:</span><span class='ee-v'>-32768</span></li><li><span class='ee-k'>precision:</span><span class='ee-v'>int</span></li></ul></details></li><li><details><summary>dimensions: [8071, 6971]</summary><ul><li><span class='ee-k'>0:</span><span class='ee-v'>8071</span></li><li><span class='ee-k'>1:</span><span class='ee-v'>6971</span></li></ul></details></li></ul></details></li><li><details><summary>10: \"ST_CDIST\", signed int16, EPSG:32635, 8071x6971 px</summary><ul><li><span class='ee-k'>id:</span><span class='ee-v'>ST_CDIST</span></li><li><span class='ee-k'>crs:</span><span class='ee-v'>EPSG:32635</span></li><li><details><summary>crs_transform: [30, 0, 229185, 0, -30, -1972485]</summary><ul><li><span class='ee-k'>0:</span><span class='ee-v'>30</span></li><li><span class='ee-k'>1:</span><span class='ee-v'>0</span></li><li><span class='ee-k'>2:</span><span class='ee-v'>229185</span></li><li><span class='ee-k'>3:</span><span class='ee-v'>0</span></li><li><span class='ee-k'>4:</span><span class='ee-v'>-30</span></li><li><span class='ee-k'>5:</span><span class='ee-v'>-1972485</span></li></ul></details></li><li><details><summary>data_type: signed int16</summary><ul><li><span class='ee-k'>type:</span><span class='ee-v'>PixelType</span></li><li><span class='ee-k'>max:</span><span class='ee-v'>32767</span></li><li><span class='ee-k'>min:</span><span class='ee-v'>-32768</span></li><li><span class='ee-k'>precision:</span><span class='ee-v'>int</span></li></ul></details></li><li><details><summary>dimensions: [8071, 6971]</summary><ul><li><span class='ee-k'>0:</span><span class='ee-v'>8071</span></li><li><span class='ee-k'>1:</span><span class='ee-v'>6971</span></li></ul></details></li></ul></details></li><li><details><summary>11: \"ST_DRAD\", signed int16, EPSG:32635, 8071x6971 px</summary><ul><li><span class='ee-k'>id:</span><span class='ee-v'>ST_DRAD</span></li><li><span class='ee-k'>crs:</span><span class='ee-v'>EPSG:32635</span></li><li><details><summary>crs_transform: [30, 0, 229185, 0, -30, -1972485]</summary><ul><li><span class='ee-k'>0:</span><span class='ee-v'>30</span></li><li><span class='ee-k'>1:</span><span class='ee-v'>0</span></li><li><span class='ee-k'>2:</span><span class='ee-v'>229185</span></li><li><span class='ee-k'>3:</span><span class='ee-v'>0</span></li><li><span class='ee-k'>4:</span><span class='ee-v'>-30</span></li><li><span class='ee-k'>5:</span><span class='ee-v'>-1972485</span></li></ul></details></li><li><details><summary>data_type: signed int16</summary><ul><li><span class='ee-k'>type:</span><span class='ee-v'>PixelType</span></li><li><span class='ee-k'>max:</span><span class='ee-v'>32767</span></li><li><span class='ee-k'>min:</span><span class='ee-v'>-32768</span></li><li><span class='ee-k'>precision:</span><span class='ee-v'>int</span></li></ul></details></li><li><details><summary>dimensions: [8071, 6971]</summary><ul><li><span class='ee-k'>0:</span><span class='ee-v'>8071</span></li><li><span class='ee-k'>1:</span><span class='ee-v'>6971</span></li></ul></details></li></ul></details></li><li><details><summary>12: \"ST_EMIS\", signed int16, EPSG:32635, 8071x6971 px</summary><ul><li><span class='ee-k'>id:</span><span class='ee-v'>ST_EMIS</span></li><li><span class='ee-k'>crs:</span><span class='ee-v'>EPSG:32635</span></li><li><details><summary>crs_transform: [30, 0, 229185, 0, -30, -1972485]</summary><ul><li><span class='ee-k'>0:</span><span class='ee-v'>30</span></li><li><span class='ee-k'>1:</span><span class='ee-v'>0</span></li><li><span class='ee-k'>2:</span><span class='ee-v'>229185</span></li><li><span class='ee-k'>3:</span><span class='ee-v'>0</span></li><li><span class='ee-k'>4:</span><span class='ee-v'>-30</span></li><li><span class='ee-k'>5:</span><span class='ee-v'>-1972485</span></li></ul></details></li><li><details><summary>data_type: signed int16</summary><ul><li><span class='ee-k'>type:</span><span class='ee-v'>PixelType</span></li><li><span class='ee-k'>max:</span><span class='ee-v'>32767</span></li><li><span class='ee-k'>min:</span><span class='ee-v'>-32768</span></li><li><span class='ee-k'>precision:</span><span class='ee-v'>int</span></li></ul></details></li><li><details><summary>dimensions: [8071, 6971]</summary><ul><li><span class='ee-k'>0:</span><span class='ee-v'>8071</span></li><li><span class='ee-k'>1:</span><span class='ee-v'>6971</span></li></ul></details></li></ul></details></li><li><details><summary>13: \"ST_EMSD\", signed int16, EPSG:32635, 8071x6971 px</summary><ul><li><span class='ee-k'>id:</span><span class='ee-v'>ST_EMSD</span></li><li><span class='ee-k'>crs:</span><span class='ee-v'>EPSG:32635</span></li><li><details><summary>crs_transform: [30, 0, 229185, 0, -30, -1972485]</summary><ul><li><span class='ee-k'>0:</span><span class='ee-v'>30</span></li><li><span class='ee-k'>1:</span><span class='ee-v'>0</span></li><li><span class='ee-k'>2:</span><span class='ee-v'>229185</span></li><li><span class='ee-k'>3:</span><span class='ee-v'>0</span></li><li><span class='ee-k'>4:</span><span class='ee-v'>-30</span></li><li><span class='ee-k'>5:</span><span class='ee-v'>-1972485</span></li></ul></details></li><li><details><summary>data_type: signed int16</summary><ul><li><span class='ee-k'>type:</span><span class='ee-v'>PixelType</span></li><li><span class='ee-k'>max:</span><span class='ee-v'>32767</span></li><li><span class='ee-k'>min:</span><span class='ee-v'>-32768</span></li><li><span class='ee-k'>precision:</span><span class='ee-v'>int</span></li></ul></details></li><li><details><summary>dimensions: [8071, 6971]</summary><ul><li><span class='ee-k'>0:</span><span class='ee-v'>8071</span></li><li><span class='ee-k'>1:</span><span class='ee-v'>6971</span></li></ul></details></li></ul></details></li><li><details><summary>14: \"ST_QA\", signed int16, EPSG:32635, 8071x6971 px</summary><ul><li><span class='ee-k'>id:</span><span class='ee-v'>ST_QA</span></li><li><span class='ee-k'>crs:</span><span class='ee-v'>EPSG:32635</span></li><li><details><summary>crs_transform: [30, 0, 229185, 0, -30, -1972485]</summary><ul><li><span class='ee-k'>0:</span><span class='ee-v'>30</span></li><li><span class='ee-k'>1:</span><span class='ee-v'>0</span></li><li><span class='ee-k'>2:</span><span class='ee-v'>229185</span></li><li><span class='ee-k'>3:</span><span class='ee-v'>0</span></li><li><span class='ee-k'>4:</span><span class='ee-v'>-30</span></li><li><span class='ee-k'>5:</span><span class='ee-v'>-1972485</span></li></ul></details></li><li><details><summary>data_type: signed int16</summary><ul><li><span class='ee-k'>type:</span><span class='ee-v'>PixelType</span></li><li><span class='ee-k'>max:</span><span class='ee-v'>32767</span></li><li><span class='ee-k'>min:</span><span class='ee-v'>-32768</span></li><li><span class='ee-k'>precision:</span><span class='ee-v'>int</span></li></ul></details></li><li><details><summary>dimensions: [8071, 6971]</summary><ul><li><span class='ee-k'>0:</span><span class='ee-v'>8071</span></li><li><span class='ee-k'>1:</span><span class='ee-v'>6971</span></li></ul></details></li></ul></details></li><li><details><summary>15: \"ST_TRAD\", signed int16, EPSG:32635, 8071x6971 px</summary><ul><li><span class='ee-k'>id:</span><span class='ee-v'>ST_TRAD</span></li><li><span class='ee-k'>crs:</span><span class='ee-v'>EPSG:32635</span></li><li><details><summary>crs_transform: [30, 0, 229185, 0, -30, -1972485]</summary><ul><li><span class='ee-k'>0:</span><span class='ee-v'>30</span></li><li><span class='ee-k'>1:</span><span class='ee-v'>0</span></li><li><span class='ee-k'>2:</span><span class='ee-v'>229185</span></li><li><span class='ee-k'>3:</span><span class='ee-v'>0</span></li><li><span class='ee-k'>4:</span><span class='ee-v'>-30</span></li><li><span class='ee-k'>5:</span><span class='ee-v'>-1972485</span></li></ul></details></li><li><details><summary>data_type: signed int16</summary><ul><li><span class='ee-k'>type:</span><span class='ee-v'>PixelType</span></li><li><span class='ee-k'>max:</span><span class='ee-v'>32767</span></li><li><span class='ee-k'>min:</span><span class='ee-v'>-32768</span></li><li><span class='ee-k'>precision:</span><span class='ee-v'>int</span></li></ul></details></li><li><details><summary>dimensions: [8071, 6971]</summary><ul><li><span class='ee-k'>0:</span><span class='ee-v'>8071</span></li><li><span class='ee-k'>1:</span><span class='ee-v'>6971</span></li></ul></details></li></ul></details></li><li><details><summary>16: \"ST_URAD\", signed int16, EPSG:32635, 8071x6971 px</summary><ul><li><span class='ee-k'>id:</span><span class='ee-v'>ST_URAD</span></li><li><span class='ee-k'>crs:</span><span class='ee-v'>EPSG:32635</span></li><li><details><summary>crs_transform: [30, 0, 229185, 0, -30, -1972485]</summary><ul><li><span class='ee-k'>0:</span><span class='ee-v'>30</span></li><li><span class='ee-k'>1:</span><span class='ee-v'>0</span></li><li><span class='ee-k'>2:</span><span class='ee-v'>229185</span></li><li><span class='ee-k'>3:</span><span class='ee-v'>0</span></li><li><span class='ee-k'>4:</span><span class='ee-v'>-30</span></li><li><span class='ee-k'>5:</span><span class='ee-v'>-1972485</span></li></ul></details></li><li><details><summary>data_type: signed int16</summary><ul><li><span class='ee-k'>type:</span><span class='ee-v'>PixelType</span></li><li><span class='ee-k'>max:</span><span class='ee-v'>32767</span></li><li><span class='ee-k'>min:</span><span class='ee-v'>-32768</span></li><li><span class='ee-k'>precision:</span><span class='ee-v'>int</span></li></ul></details></li><li><details><summary>dimensions: [8071, 6971]</summary><ul><li><span class='ee-k'>0:</span><span class='ee-v'>8071</span></li><li><span class='ee-k'>1:</span><span class='ee-v'>6971</span></li></ul></details></li></ul></details></li><li><details><summary>17: \"QA_PIXEL\", unsigned int16, EPSG:32635, 8071x6971 px</summary><ul><li><span class='ee-k'>id:</span><span class='ee-v'>QA_PIXEL</span></li><li><span class='ee-k'>crs:</span><span class='ee-v'>EPSG:32635</span></li><li><details><summary>crs_transform: [30, 0, 229185, 0, -30, -1972485]</summary><ul><li><span class='ee-k'>0:</span><span class='ee-v'>30</span></li><li><span class='ee-k'>1:</span><span class='ee-v'>0</span></li><li><span class='ee-k'>2:</span><span class='ee-v'>229185</span></li><li><span class='ee-k'>3:</span><span class='ee-v'>0</span></li><li><span class='ee-k'>4:</span><span class='ee-v'>-30</span></li><li><span class='ee-k'>5:</span><span class='ee-v'>-1972485</span></li></ul></details></li><li><details><summary>data_type: unsigned int16</summary><ul><li><span class='ee-k'>type:</span><span class='ee-v'>PixelType</span></li><li><span class='ee-k'>max:</span><span class='ee-v'>65535</span></li><li><span class='ee-k'>min:</span><span class='ee-v'>0</span></li><li><span class='ee-k'>precision:</span><span class='ee-v'>int</span></li></ul></details></li><li><details><summary>dimensions: [8071, 6971]</summary><ul><li><span class='ee-k'>0:</span><span class='ee-v'>8071</span></li><li><span class='ee-k'>1:</span><span class='ee-v'>6971</span></li></ul></details></li></ul></details></li><li><details><summary>18: \"QA_RADSAT\", unsigned int16, EPSG:32635, 8071x6971 px</summary><ul><li><span class='ee-k'>id:</span><span class='ee-v'>QA_RADSAT</span></li><li><span class='ee-k'>crs:</span><span class='ee-v'>EPSG:32635</span></li><li><details><summary>crs_transform: [30, 0, 229185, 0, -30, -1972485]</summary><ul><li><span class='ee-k'>0:</span><span class='ee-v'>30</span></li><li><span class='ee-k'>1:</span><span class='ee-v'>0</span></li><li><span class='ee-k'>2:</span><span class='ee-v'>229185</span></li><li><span class='ee-k'>3:</span><span class='ee-v'>0</span></li><li><span class='ee-k'>4:</span><span class='ee-v'>-30</span></li><li><span class='ee-k'>5:</span><span class='ee-v'>-1972485</span></li></ul></details></li><li><details><summary>data_type: unsigned int16</summary><ul><li><span class='ee-k'>type:</span><span class='ee-v'>PixelType</span></li><li><span class='ee-k'>max:</span><span class='ee-v'>65535</span></li><li><span class='ee-k'>min:</span><span class='ee-v'>0</span></li><li><span class='ee-k'>precision:</span><span class='ee-v'>int</span></li></ul></details></li><li><details><summary>dimensions: [8071, 6971]</summary><ul><li><span class='ee-k'>0:</span><span class='ee-v'>8071</span></li><li><span class='ee-k'>1:</span><span class='ee-v'>6971</span></li></ul></details></li></ul></details></li></ul></details></li><li><details><summary>properties: Object (130 properties)</summary><ul><li><span class='ee-k'>ALGORITHM_SOURCE_SURFACE_REFLECTANCE:</span><span class='ee-v'>LEDAPS_3.4.0</span></li><li><span class='ee-k'>ALGORITHM_SOURCE_SURFACE_TEMPERATURE:</span><span class='ee-v'>st_1.3.0</span></li><li><span class='ee-k'>CLOUD_COVER:</span><span class='ee-v'>0</span></li><li><span class='ee-k'>CLOUD_COVER_LAND:</span><span class='ee-v'>0</span></li><li><span class='ee-k'>COLLECTION_CATEGORY:</span><span class='ee-v'>T1</span></li><li><span class='ee-k'>COLLECTION_NUMBER:</span><span class='ee-v'>2</span></li><li><span class='ee-k'>CORRECTION_BIAS_BAND_1:</span><span class='ee-v'>INTERNAL_CALIBRATION</span></li><li><span class='ee-k'>CORRECTION_BIAS_BAND_2:</span><span class='ee-v'>INTERNAL_CALIBRATION</span></li><li><span class='ee-k'>CORRECTION_BIAS_BAND_3:</span><span class='ee-v'>INTERNAL_CALIBRATION</span></li><li><span class='ee-k'>CORRECTION_BIAS_BAND_4:</span><span class='ee-v'>INTERNAL_CALIBRATION</span></li><li><span class='ee-k'>CORRECTION_BIAS_BAND_5:</span><span class='ee-v'>INTERNAL_CALIBRATION</span></li><li><span class='ee-k'>CORRECTION_BIAS_BAND_6_VCID_1:</span><span class='ee-v'>INTERNAL_CALIBRATION</span></li><li><span class='ee-k'>CORRECTION_BIAS_BAND_6_VCID_2:</span><span class='ee-v'>INTERNAL_CALIBRATION</span></li><li><span class='ee-k'>CORRECTION_BIAS_BAND_7:</span><span class='ee-v'>INTERNAL_CALIBRATION</span></li><li><span class='ee-k'>CORRECTION_BIAS_BAND_8:</span><span class='ee-v'>INTERNAL_CALIBRATION</span></li><li><span class='ee-k'>CORRECTION_GAIN_BAND_1:</span><span class='ee-v'>CPF</span></li><li><span class='ee-k'>CORRECTION_GAIN_BAND_2:</span><span class='ee-v'>CPF</span></li><li><span class='ee-k'>CORRECTION_GAIN_BAND_3:</span><span class='ee-v'>CPF</span></li><li><span class='ee-k'>CORRECTION_GAIN_BAND_4:</span><span class='ee-v'>CPF</span></li><li><span class='ee-k'>CORRECTION_GAIN_BAND_5:</span><span class='ee-v'>CPF</span></li><li><span class='ee-k'>CORRECTION_GAIN_BAND_6_VCID_1:</span><span class='ee-v'>CPF</span></li><li><span class='ee-k'>CORRECTION_GAIN_BAND_6_VCID_2:</span><span class='ee-v'>CPF</span></li><li><span class='ee-k'>CORRECTION_GAIN_BAND_7:</span><span class='ee-v'>CPF</span></li><li><span class='ee-k'>CORRECTION_GAIN_BAND_8:</span><span class='ee-v'>CPF</span></li><li><span class='ee-k'>DATA_SOURCE_AIR_TEMPERATURE:</span><span class='ee-v'>NCEP</span></li><li><span class='ee-k'>DATA_SOURCE_ELEVATION:</span><span class='ee-v'>GLS2000</span></li><li><span class='ee-k'>DATA_SOURCE_OZONE:</span><span class='ee-v'>TOMS</span></li><li><span class='ee-k'>DATA_SOURCE_PRESSURE:</span><span class='ee-v'>NCEP</span></li><li><span class='ee-k'>DATA_SOURCE_REANALYSIS:</span><span class='ee-v'>GEOS-5 FP-IT</span></li><li><span class='ee-k'>DATA_SOURCE_WATER_VAPOR:</span><span class='ee-v'>NCEP</span></li><li><span class='ee-k'>DATE_ACQUIRED:</span><span class='ee-v'>2016-11-18</span></li><li><span class='ee-k'>DATE_PRODUCT_GENERATED:</span><span class='ee-v'>1598976744000</span></li><li><span class='ee-k'>DATUM:</span><span class='ee-v'>WGS84</span></li><li><span class='ee-k'>EARTH_SUN_DISTANCE:</span><span class='ee-v'>0.9884225</span></li><li><span class='ee-k'>ELLIPSOID:</span><span class='ee-v'>WGS84</span></li><li><span class='ee-k'>EPHEMERIS_TYPE:</span><span class='ee-v'>DEFINITIVE</span></li><li><span class='ee-k'>GAIN_BAND_1:</span><span class='ee-v'>L</span></li><li><span class='ee-k'>GAIN_BAND_2:</span><span class='ee-v'>L</span></li><li><span class='ee-k'>GAIN_BAND_3:</span><span class='ee-v'>L</span></li><li><span class='ee-k'>GAIN_BAND_4:</span><span class='ee-v'>L</span></li><li><span class='ee-k'>GAIN_BAND_5:</span><span class='ee-v'>L</span></li><li><span class='ee-k'>GAIN_BAND_6_VCID_1:</span><span class='ee-v'>L</span></li><li><span class='ee-k'>GAIN_BAND_6_VCID_2:</span><span class='ee-v'>H</span></li><li><span class='ee-k'>GAIN_BAND_7:</span><span class='ee-v'>L</span></li><li><span class='ee-k'>GAIN_BAND_8:</span><span class='ee-v'>L</span></li><li><span class='ee-k'>GAIN_CHANGE_BAND_1:</span><span class='ee-v'>LL</span></li><li><span class='ee-k'>GAIN_CHANGE_BAND_2:</span><span class='ee-v'>LL</span></li><li><span class='ee-k'>GAIN_CHANGE_BAND_3:</span><span class='ee-v'>LL</span></li><li><span class='ee-k'>GAIN_CHANGE_BAND_4:</span><span class='ee-v'>LL</span></li><li><span class='ee-k'>GAIN_CHANGE_BAND_5:</span><span class='ee-v'>LL</span></li><li><span class='ee-k'>GAIN_CHANGE_BAND_6_VCID_1:</span><span class='ee-v'>LL</span></li><li><span class='ee-k'>GAIN_CHANGE_BAND_6_VCID_2:</span><span class='ee-v'>HH</span></li><li><span class='ee-k'>GAIN_CHANGE_BAND_7:</span><span class='ee-v'>LL</span></li><li><span class='ee-k'>GAIN_CHANGE_BAND_8:</span><span class='ee-v'>LL</span></li><li><span class='ee-k'>GAIN_CHANGE_SCAN_BAND_1:</span><span class='ee-v'>0</span></li><li><span class='ee-k'>GAIN_CHANGE_SCAN_BAND_2:</span><span class='ee-v'>0</span></li><li><span class='ee-k'>GAIN_CHANGE_SCAN_BAND_3:</span><span class='ee-v'>0</span></li><li><span class='ee-k'>GAIN_CHANGE_SCAN_BAND_4:</span><span class='ee-v'>0</span></li><li><span class='ee-k'>GAIN_CHANGE_SCAN_BAND_5:</span><span class='ee-v'>0</span></li><li><span class='ee-k'>GAIN_CHANGE_SCAN_BAND_6_VCID_1:</span><span class='ee-v'>0</span></li><li><span class='ee-k'>GAIN_CHANGE_SCAN_BAND_6_VCID_2:</span><span class='ee-v'>0</span></li><li><span class='ee-k'>GAIN_CHANGE_SCAN_BAND_7:</span><span class='ee-v'>0</span></li><li><span class='ee-k'>GAIN_CHANGE_SCAN_BAND_8:</span><span class='ee-v'>0</span></li><li><span class='ee-k'>GEOMETRIC_RMSE_MODEL:</span><span class='ee-v'>4.624</span></li><li><span class='ee-k'>GEOMETRIC_RMSE_MODEL_X:</span><span class='ee-v'>3.277</span></li><li><span class='ee-k'>GEOMETRIC_RMSE_MODEL_Y:</span><span class='ee-v'>3.262</span></li><li><span class='ee-k'>GRID_CELL_SIZE_REFLECTIVE:</span><span class='ee-v'>30</span></li><li><span class='ee-k'>GRID_CELL_SIZE_THERMAL:</span><span class='ee-v'>30</span></li><li><span class='ee-k'>GROUND_CONTROL_POINTS_MODEL:</span><span class='ee-v'>546</span></li><li><span class='ee-k'>GROUND_CONTROL_POINTS_VERSION:</span><span class='ee-v'>5</span></li><li><span class='ee-k'>IMAGE_QUALITY:</span><span class='ee-v'>9</span></li><li><span class='ee-k'>L1_DATE_PRODUCT_GENERATED:</span><span class='ee-v'>2020-09-01T15:58:43Z</span></li><li><span class='ee-k'>L1_LANDSAT_PRODUCT_ID:</span><span class='ee-v'>LE07_L1TP_173073_20161118_20200901_02_T1</span></li><li><span class='ee-k'>L1_PROCESSING_LEVEL:</span><span class='ee-v'>L1TP</span></li><li><span class='ee-k'>L1_PROCESSING_SOFTWARE_VERSION:</span><span class='ee-v'>LPGS_15.3.1c</span></li><li><span class='ee-k'>L1_REQUEST_ID:</span><span class='ee-v'>L2</span></li><li><span class='ee-k'>LANDSAT_PRODUCT_ID:</span><span class='ee-v'>LE07_L2SP_173073_20161118_20200901_02_T1</span></li><li><span class='ee-k'>LANDSAT_SCENE_ID:</span><span class='ee-v'>LE71730732016323SG100</span></li><li><span class='ee-k'>MAP_PROJECTION:</span><span class='ee-v'>UTM</span></li><li><span class='ee-k'>ORIENTATION:</span><span class='ee-v'>NORTH_UP</span></li><li><span class='ee-k'>PROCESSING_LEVEL:</span><span class='ee-v'>L2SP</span></li><li><span class='ee-k'>PROCESSING_SOFTWARE_VERSION:</span><span class='ee-v'>LPGS_15.3.1c</span></li><li><span class='ee-k'>REFLECTANCE_ADD_BAND_1:</span><span class='ee-v'>-0.2</span></li><li><span class='ee-k'>REFLECTANCE_ADD_BAND_2:</span><span class='ee-v'>-0.2</span></li><li><span class='ee-k'>REFLECTANCE_ADD_BAND_3:</span><span class='ee-v'>-0.2</span></li><li><span class='ee-k'>REFLECTANCE_ADD_BAND_4:</span><span class='ee-v'>-0.2</span></li><li><span class='ee-k'>REFLECTANCE_ADD_BAND_5:</span><span class='ee-v'>-0.2</span></li><li><span class='ee-k'>REFLECTANCE_ADD_BAND_7:</span><span class='ee-v'>-0.2</span></li><li><span class='ee-k'>REFLECTANCE_MULT_BAND_1:</span><span class='ee-v'>2.75e-05</span></li><li><span class='ee-k'>REFLECTANCE_MULT_BAND_2:</span><span class='ee-v'>2.75e-05</span></li><li><span class='ee-k'>REFLECTANCE_MULT_BAND_3:</span><span class='ee-v'>2.75e-05</span></li><li><span class='ee-k'>REFLECTANCE_MULT_BAND_4:</span><span class='ee-v'>2.75e-05</span></li><li><span class='ee-k'>REFLECTANCE_MULT_BAND_5:</span><span class='ee-v'>2.75e-05</span></li><li><span class='ee-k'>REFLECTANCE_MULT_BAND_7:</span><span class='ee-v'>2.75e-05</span></li><li><span class='ee-k'>REFLECTIVE_LINES:</span><span class='ee-v'>6971</span></li><li><span class='ee-k'>REFLECTIVE_SAMPLES:</span><span class='ee-v'>8071</span></li><li><span class='ee-k'>REQUEST_ID:</span><span class='ee-v'>L2</span></li><li><span class='ee-k'>SATURATION_BAND_1:</span><span class='ee-v'>Y</span></li><li><span class='ee-k'>SATURATION_BAND_2:</span><span class='ee-v'>Y</span></li><li><span class='ee-k'>SATURATION_BAND_3:</span><span class='ee-v'>Y</span></li><li><span class='ee-k'>SATURATION_BAND_4:</span><span class='ee-v'>Y</span></li><li><span class='ee-k'>SATURATION_BAND_5:</span><span class='ee-v'>Y</span></li><li><span class='ee-k'>SATURATION_BAND_6_VCID_1:</span><span class='ee-v'>N</span></li><li><span class='ee-k'>SATURATION_BAND_6_VCID_2:</span><span class='ee-v'>Y</span></li><li><span class='ee-k'>SATURATION_BAND_7:</span><span class='ee-v'>Y</span></li><li><span class='ee-k'>SATURATION_BAND_8:</span><span class='ee-v'>N</span></li><li><span class='ee-k'>SCENE_CENTER_TIME:</span><span class='ee-v'>08:21:24.2867331Z</span></li><li><span class='ee-k'>SENSOR_ANOMALIES:</span><span class='ee-v'>NONE</span></li><li><span class='ee-k'>SENSOR_ID:</span><span class='ee-v'>ETM</span></li><li><span class='ee-k'>SENSOR_MODE:</span><span class='ee-v'>BUMPER</span></li><li><span class='ee-k'>SENSOR_MODE_SLC:</span><span class='ee-v'>OFF</span></li><li><span class='ee-k'>SPACECRAFT_ID:</span><span class='ee-v'>LANDSAT_7</span></li><li><span class='ee-k'>STATION_ID:</span><span class='ee-v'>SG1</span></li><li><span class='ee-k'>SUN_AZIMUTH:</span><span class='ee-v'>95.53395749</span></li><li><span class='ee-k'>SUN_ELEVATION:</span><span class='ee-v'>66.03095178</span></li><li><span class='ee-k'>TEMPERATURE_ADD_BAND_ST_B6:</span><span class='ee-v'>149</span></li><li><span class='ee-k'>TEMPERATURE_MAXIMUM_BAND_ST_B6:</span><span class='ee-v'>372.999941</span></li><li><span class='ee-k'>TEMPERATURE_MINIMUM_BAND_ST_B6:</span><span class='ee-v'>149.003418</span></li><li><span class='ee-k'>TEMPERATURE_MULT_BAND_ST_B6:</span><span class='ee-v'>0.00341802</span></li><li><span class='ee-k'>THERMAL_LINES:</span><span class='ee-v'>6971</span></li><li><span class='ee-k'>THERMAL_SAMPLES:</span><span class='ee-v'>8071</span></li><li><span class='ee-k'>UTM_ZONE:</span><span class='ee-v'>35</span></li><li><span class='ee-k'>WRS_PATH:</span><span class='ee-v'>173</span></li><li><span class='ee-k'>WRS_ROW:</span><span class='ee-v'>73</span></li><li><span class='ee-k'>WRS_TYPE:</span><span class='ee-v'>2</span></li><li><span class='ee-k'>system:asset_size:</span><span class='ee-v'>493395889</span></li><li><details><summary>system:footprint: LinearRing (20 vertices)</summary><ul><li><span class='ee-k'>type:</span><span class='ee-v'>LinearRing</span></li><li><details><summary>coordinates: List (20 elements)</summary><ul><li><details><summary>0: [26.317212259375964, -19.706906456670445]</summary><ul><li><span class='ee-k'>0:</span><span class='ee-v'>26.317212259375964</span></li><li><span class='ee-k'>1:</span><span class='ee-v'>-19.706906456670445</span></li></ul></details></li><li><details><summary>1: [26.31925406397625, -19.698233163790977]</summary><ul><li><span class='ee-k'>0:</span><span class='ee-v'>26.31925406397625</span></li><li><span class='ee-k'>1:</span><span class='ee-v'>-19.698233163790977</span></li></ul></details></li><li><details><summary>2: [26.673289540117757, -18.114413664446516]</summary><ul><li><span class='ee-k'>0:</span><span class='ee-v'>26.673289540117757</span></li><li><span class='ee-k'>1:</span><span class='ee-v'>-18.114413664446516</span></li></ul></details></li><li><details><summary>3: [26.67123195285524, -18.106198282961234]</summary><ul><li><span class='ee-k'>0:</span><span class='ee-v'>26.67123195285524</span></li><li><span class='ee-k'>1:</span><span class='ee-v'>-18.106198282961234</span></li></ul></details></li><li><details><summary>4: [24.861783838909137, -17.83959002510695]</summary><ul><li><span class='ee-k'>0:</span><span class='ee-v'>24.861783838909137</span></li><li><span class='ee-k'>1:</span><span class='ee-v'>-17.83959002510695</span></li></ul></details></li><li><details><summary>5: [24.85701272378187, -17.846276957483614]</summary><ul><li><span class='ee-k'>0:</span><span class='ee-v'>24.85701272378187</span></li><li><span class='ee-k'>1:</span><span class='ee-v'>-17.846276957483614</span></li></ul></details></li><li><details><summary>6: [24.85264152132616, -17.854946866220462]</summary><ul><li><span class='ee-k'>0:</span><span class='ee-v'>24.85264152132616</span></li><li><span class='ee-k'>1:</span><span class='ee-v'>-17.854946866220462</span></li></ul></details></li><li><details><summary>7: [24.83832760618748, -17.91471113387323]</summary><ul><li><span class='ee-k'>0:</span><span class='ee-v'>24.83832760618748</span></li><li><span class='ee-k'>1:</span><span class='ee-v'>-17.91471113387323</span></li></ul></details></li><li><details><summary>8: [24.69724123799122, -18.51628459445285]</summary><ul><li><span class='ee-k'>0:</span><span class='ee-v'>24.69724123799122</span></li><li><span class='ee-k'>1:</span><span class='ee-v'>-18.51628459445285</span></li></ul></details></li><li><details><summary>9: [24.55492344659441, -19.117608518200544]</summary><ul><li><span class='ee-k'>0:</span><span class='ee-v'>24.55492344659441</span></li><li><span class='ee-k'>1:</span><span class='ee-v'>-19.117608518200544</span></li></ul></details></li><li><details><summary>10: [24.487187752832384, -19.41037186157449]</summary><ul><li><span class='ee-k'>0:</span><span class='ee-v'>24.487187752832384</span></li><li><span class='ee-k'>1:</span><span class='ee-v'>-19.41037186157449</span></li></ul></details></li><li><details><summary>11: [24.479491313286992, -19.444547650029534]</summary><ul><li><span class='ee-k'>0:</span><span class='ee-v'>24.479491313286992</span></li><li><span class='ee-k'>1:</span><span class='ee-v'>-19.444547650029534</span></li></ul></details></li><li><details><summary>12: [24.48400279677699, -19.448660715130725]</summary><ul><li><span class='ee-k'>0:</span><span class='ee-v'>24.48400279677699</span></li><li><span class='ee-k'>1:</span><span class='ee-v'>-19.448660715130725</span></li></ul></details></li><li><details><summary>13: [24.571177922458663, -19.461956196683396]</summary><ul><li><span class='ee-k'>0:</span><span class='ee-v'>24.571177922458663</span></li><li><span class='ee-k'>1:</span><span class='ee-v'>-19.461956196683396</span></li></ul></details></li><li><details><summary>14: [24.93042052945945, -19.51627560884651]</summary><ul><li><span class='ee-k'>0:</span><span class='ee-v'>24.93042052945945</span></li><li><span class='ee-k'>1:</span><span class='ee-v'>-19.51627560884651</span></li></ul></details></li><li><details><summary>15: [25.5932545153624, -19.61453389422969]</summary><ul><li><span class='ee-k'>0:</span><span class='ee-v'>25.5932545153624</span></li><li><span class='ee-k'>1:</span><span class='ee-v'>-19.61453389422969</span></li></ul></details></li><li><details><summary>16: [26.312117041885802, -19.71820959414599]</summary><ul><li><span class='ee-k'>0:</span><span class='ee-v'>26.312117041885802</span></li><li><span class='ee-k'>1:</span><span class='ee-v'>-19.71820959414599</span></li></ul></details></li><li><details><summary>17: [26.313341305726354, -19.71821428177175]</summary><ul><li><span class='ee-k'>0:</span><span class='ee-v'>26.313341305726354</span></li><li><span class='ee-k'>1:</span><span class='ee-v'>-19.71821428177175</span></li></ul></details></li><li><details><summary>18: [26.314877460217485, -19.715333877171396]</summary><ul><li><span class='ee-k'>0:</span><span class='ee-v'>26.314877460217485</span></li><li><span class='ee-k'>1:</span><span class='ee-v'>-19.715333877171396</span></li></ul></details></li><li><details><summary>19: [26.317212259375964, -19.706906456670445]</summary><ul><li><span class='ee-k'>0:</span><span class='ee-v'>26.317212259375964</span></li><li><span class='ee-k'>1:</span><span class='ee-v'>-19.706906456670445</span></li></ul></details></li></ul></details></li></ul></details></li><li><span class='ee-k'>system:index:</span><span class='ee-v'>LE07_173073_20161118</span></li><li><span class='ee-k'>system:time_end:</span><span class='ee-v'>1479457284286</span></li><li><span class='ee-k'>system:time_start:</span><span class='ee-v'>1479457284286</span></li></ul></details></li></ul></details></li><li><details><summary>12: Image LANDSAT/LE07/C02/T1_L2/LE07_173073_20161204 (19 bands)</summary><ul><li><span class='ee-k'>type:</span><span class='ee-v'>Image</span></li><li><span class='ee-k'>id:</span><span class='ee-v'>LANDSAT/LE07/C02/T1_L2/LE07_173073_20161204</span></li><li><span class='ee-k'>version:</span><span class='ee-v'>1624541726178288</span></li><li><details><summary>bands: List (19 elements)</summary><ul><li><details><summary>0: \"SR_B1\", unsigned int16, EPSG:32635, 8071x6961 px</summary><ul><li><span class='ee-k'>id:</span><span class='ee-v'>SR_B1</span></li><li><span class='ee-k'>crs:</span><span class='ee-v'>EPSG:32635</span></li><li><details><summary>crs_transform: [30, 0, 227985, 0, -30, -1973085]</summary><ul><li><span class='ee-k'>0:</span><span class='ee-v'>30</span></li><li><span class='ee-k'>1:</span><span class='ee-v'>0</span></li><li><span class='ee-k'>2:</span><span class='ee-v'>227985</span></li><li><span class='ee-k'>3:</span><span class='ee-v'>0</span></li><li><span class='ee-k'>4:</span><span class='ee-v'>-30</span></li><li><span class='ee-k'>5:</span><span class='ee-v'>-1973085</span></li></ul></details></li><li><details><summary>data_type: unsigned int16</summary><ul><li><span class='ee-k'>type:</span><span class='ee-v'>PixelType</span></li><li><span class='ee-k'>max:</span><span class='ee-v'>65535</span></li><li><span class='ee-k'>min:</span><span class='ee-v'>0</span></li><li><span class='ee-k'>precision:</span><span class='ee-v'>int</span></li></ul></details></li><li><details><summary>dimensions: [8071, 6961]</summary><ul><li><span class='ee-k'>0:</span><span class='ee-v'>8071</span></li><li><span class='ee-k'>1:</span><span class='ee-v'>6961</span></li></ul></details></li></ul></details></li><li><details><summary>1: \"SR_B2\", unsigned int16, EPSG:32635, 8071x6961 px</summary><ul><li><span class='ee-k'>id:</span><span class='ee-v'>SR_B2</span></li><li><span class='ee-k'>crs:</span><span class='ee-v'>EPSG:32635</span></li><li><details><summary>crs_transform: [30, 0, 227985, 0, -30, -1973085]</summary><ul><li><span class='ee-k'>0:</span><span class='ee-v'>30</span></li><li><span class='ee-k'>1:</span><span class='ee-v'>0</span></li><li><span class='ee-k'>2:</span><span class='ee-v'>227985</span></li><li><span class='ee-k'>3:</span><span class='ee-v'>0</span></li><li><span class='ee-k'>4:</span><span class='ee-v'>-30</span></li><li><span class='ee-k'>5:</span><span class='ee-v'>-1973085</span></li></ul></details></li><li><details><summary>data_type: unsigned int16</summary><ul><li><span class='ee-k'>type:</span><span class='ee-v'>PixelType</span></li><li><span class='ee-k'>max:</span><span class='ee-v'>65535</span></li><li><span class='ee-k'>min:</span><span class='ee-v'>0</span></li><li><span class='ee-k'>precision:</span><span class='ee-v'>int</span></li></ul></details></li><li><details><summary>dimensions: [8071, 6961]</summary><ul><li><span class='ee-k'>0:</span><span class='ee-v'>8071</span></li><li><span class='ee-k'>1:</span><span class='ee-v'>6961</span></li></ul></details></li></ul></details></li><li><details><summary>2: \"SR_B3\", unsigned int16, EPSG:32635, 8071x6961 px</summary><ul><li><span class='ee-k'>id:</span><span class='ee-v'>SR_B3</span></li><li><span class='ee-k'>crs:</span><span class='ee-v'>EPSG:32635</span></li><li><details><summary>crs_transform: [30, 0, 227985, 0, -30, -1973085]</summary><ul><li><span class='ee-k'>0:</span><span class='ee-v'>30</span></li><li><span class='ee-k'>1:</span><span class='ee-v'>0</span></li><li><span class='ee-k'>2:</span><span class='ee-v'>227985</span></li><li><span class='ee-k'>3:</span><span class='ee-v'>0</span></li><li><span class='ee-k'>4:</span><span class='ee-v'>-30</span></li><li><span class='ee-k'>5:</span><span class='ee-v'>-1973085</span></li></ul></details></li><li><details><summary>data_type: unsigned int16</summary><ul><li><span class='ee-k'>type:</span><span class='ee-v'>PixelType</span></li><li><span class='ee-k'>max:</span><span class='ee-v'>65535</span></li><li><span class='ee-k'>min:</span><span class='ee-v'>0</span></li><li><span class='ee-k'>precision:</span><span class='ee-v'>int</span></li></ul></details></li><li><details><summary>dimensions: [8071, 6961]</summary><ul><li><span class='ee-k'>0:</span><span class='ee-v'>8071</span></li><li><span class='ee-k'>1:</span><span class='ee-v'>6961</span></li></ul></details></li></ul></details></li><li><details><summary>3: \"SR_B4\", unsigned int16, EPSG:32635, 8071x6961 px</summary><ul><li><span class='ee-k'>id:</span><span class='ee-v'>SR_B4</span></li><li><span class='ee-k'>crs:</span><span class='ee-v'>EPSG:32635</span></li><li><details><summary>crs_transform: [30, 0, 227985, 0, -30, -1973085]</summary><ul><li><span class='ee-k'>0:</span><span class='ee-v'>30</span></li><li><span class='ee-k'>1:</span><span class='ee-v'>0</span></li><li><span class='ee-k'>2:</span><span class='ee-v'>227985</span></li><li><span class='ee-k'>3:</span><span class='ee-v'>0</span></li><li><span class='ee-k'>4:</span><span class='ee-v'>-30</span></li><li><span class='ee-k'>5:</span><span class='ee-v'>-1973085</span></li></ul></details></li><li><details><summary>data_type: unsigned int16</summary><ul><li><span class='ee-k'>type:</span><span class='ee-v'>PixelType</span></li><li><span class='ee-k'>max:</span><span class='ee-v'>65535</span></li><li><span class='ee-k'>min:</span><span class='ee-v'>0</span></li><li><span class='ee-k'>precision:</span><span class='ee-v'>int</span></li></ul></details></li><li><details><summary>dimensions: [8071, 6961]</summary><ul><li><span class='ee-k'>0:</span><span class='ee-v'>8071</span></li><li><span class='ee-k'>1:</span><span class='ee-v'>6961</span></li></ul></details></li></ul></details></li><li><details><summary>4: \"SR_B5\", unsigned int16, EPSG:32635, 8071x6961 px</summary><ul><li><span class='ee-k'>id:</span><span class='ee-v'>SR_B5</span></li><li><span class='ee-k'>crs:</span><span class='ee-v'>EPSG:32635</span></li><li><details><summary>crs_transform: [30, 0, 227985, 0, -30, -1973085]</summary><ul><li><span class='ee-k'>0:</span><span class='ee-v'>30</span></li><li><span class='ee-k'>1:</span><span class='ee-v'>0</span></li><li><span class='ee-k'>2:</span><span class='ee-v'>227985</span></li><li><span class='ee-k'>3:</span><span class='ee-v'>0</span></li><li><span class='ee-k'>4:</span><span class='ee-v'>-30</span></li><li><span class='ee-k'>5:</span><span class='ee-v'>-1973085</span></li></ul></details></li><li><details><summary>data_type: unsigned int16</summary><ul><li><span class='ee-k'>type:</span><span class='ee-v'>PixelType</span></li><li><span class='ee-k'>max:</span><span class='ee-v'>65535</span></li><li><span class='ee-k'>min:</span><span class='ee-v'>0</span></li><li><span class='ee-k'>precision:</span><span class='ee-v'>int</span></li></ul></details></li><li><details><summary>dimensions: [8071, 6961]</summary><ul><li><span class='ee-k'>0:</span><span class='ee-v'>8071</span></li><li><span class='ee-k'>1:</span><span class='ee-v'>6961</span></li></ul></details></li></ul></details></li><li><details><summary>5: \"SR_B7\", unsigned int16, EPSG:32635, 8071x6961 px</summary><ul><li><span class='ee-k'>id:</span><span class='ee-v'>SR_B7</span></li><li><span class='ee-k'>crs:</span><span class='ee-v'>EPSG:32635</span></li><li><details><summary>crs_transform: [30, 0, 227985, 0, -30, -1973085]</summary><ul><li><span class='ee-k'>0:</span><span class='ee-v'>30</span></li><li><span class='ee-k'>1:</span><span class='ee-v'>0</span></li><li><span class='ee-k'>2:</span><span class='ee-v'>227985</span></li><li><span class='ee-k'>3:</span><span class='ee-v'>0</span></li><li><span class='ee-k'>4:</span><span class='ee-v'>-30</span></li><li><span class='ee-k'>5:</span><span class='ee-v'>-1973085</span></li></ul></details></li><li><details><summary>data_type: unsigned int16</summary><ul><li><span class='ee-k'>type:</span><span class='ee-v'>PixelType</span></li><li><span class='ee-k'>max:</span><span class='ee-v'>65535</span></li><li><span class='ee-k'>min:</span><span class='ee-v'>0</span></li><li><span class='ee-k'>precision:</span><span class='ee-v'>int</span></li></ul></details></li><li><details><summary>dimensions: [8071, 6961]</summary><ul><li><span class='ee-k'>0:</span><span class='ee-v'>8071</span></li><li><span class='ee-k'>1:</span><span class='ee-v'>6961</span></li></ul></details></li></ul></details></li><li><details><summary>6: \"SR_ATMOS_OPACITY\", signed int16, EPSG:32635, 8071x6961 px</summary><ul><li><span class='ee-k'>id:</span><span class='ee-v'>SR_ATMOS_OPACITY</span></li><li><span class='ee-k'>crs:</span><span class='ee-v'>EPSG:32635</span></li><li><details><summary>crs_transform: [30, 0, 227985, 0, -30, -1973085]</summary><ul><li><span class='ee-k'>0:</span><span class='ee-v'>30</span></li><li><span class='ee-k'>1:</span><span class='ee-v'>0</span></li><li><span class='ee-k'>2:</span><span class='ee-v'>227985</span></li><li><span class='ee-k'>3:</span><span class='ee-v'>0</span></li><li><span class='ee-k'>4:</span><span class='ee-v'>-30</span></li><li><span class='ee-k'>5:</span><span class='ee-v'>-1973085</span></li></ul></details></li><li><details><summary>data_type: signed int16</summary><ul><li><span class='ee-k'>type:</span><span class='ee-v'>PixelType</span></li><li><span class='ee-k'>max:</span><span class='ee-v'>32767</span></li><li><span class='ee-k'>min:</span><span class='ee-v'>-32768</span></li><li><span class='ee-k'>precision:</span><span class='ee-v'>int</span></li></ul></details></li><li><details><summary>dimensions: [8071, 6961]</summary><ul><li><span class='ee-k'>0:</span><span class='ee-v'>8071</span></li><li><span class='ee-k'>1:</span><span class='ee-v'>6961</span></li></ul></details></li></ul></details></li><li><details><summary>7: \"SR_CLOUD_QA\", unsigned int8, EPSG:32635, 8071x6961 px</summary><ul><li><span class='ee-k'>id:</span><span class='ee-v'>SR_CLOUD_QA</span></li><li><span class='ee-k'>crs:</span><span class='ee-v'>EPSG:32635</span></li><li><details><summary>crs_transform: [30, 0, 227985, 0, -30, -1973085]</summary><ul><li><span class='ee-k'>0:</span><span class='ee-v'>30</span></li><li><span class='ee-k'>1:</span><span class='ee-v'>0</span></li><li><span class='ee-k'>2:</span><span class='ee-v'>227985</span></li><li><span class='ee-k'>3:</span><span class='ee-v'>0</span></li><li><span class='ee-k'>4:</span><span class='ee-v'>-30</span></li><li><span class='ee-k'>5:</span><span class='ee-v'>-1973085</span></li></ul></details></li><li><details><summary>data_type: unsigned int8</summary><ul><li><span class='ee-k'>type:</span><span class='ee-v'>PixelType</span></li><li><span class='ee-k'>max:</span><span class='ee-v'>255</span></li><li><span class='ee-k'>min:</span><span class='ee-v'>0</span></li><li><span class='ee-k'>precision:</span><span class='ee-v'>int</span></li></ul></details></li><li><details><summary>dimensions: [8071, 6961]</summary><ul><li><span class='ee-k'>0:</span><span class='ee-v'>8071</span></li><li><span class='ee-k'>1:</span><span class='ee-v'>6961</span></li></ul></details></li></ul></details></li><li><details><summary>8: \"ST_B6\", unsigned int16, EPSG:32635, 8071x6961 px</summary><ul><li><span class='ee-k'>id:</span><span class='ee-v'>ST_B6</span></li><li><span class='ee-k'>crs:</span><span class='ee-v'>EPSG:32635</span></li><li><details><summary>crs_transform: [30, 0, 227985, 0, -30, -1973085]</summary><ul><li><span class='ee-k'>0:</span><span class='ee-v'>30</span></li><li><span class='ee-k'>1:</span><span class='ee-v'>0</span></li><li><span class='ee-k'>2:</span><span class='ee-v'>227985</span></li><li><span class='ee-k'>3:</span><span class='ee-v'>0</span></li><li><span class='ee-k'>4:</span><span class='ee-v'>-30</span></li><li><span class='ee-k'>5:</span><span class='ee-v'>-1973085</span></li></ul></details></li><li><details><summary>data_type: unsigned int16</summary><ul><li><span class='ee-k'>type:</span><span class='ee-v'>PixelType</span></li><li><span class='ee-k'>max:</span><span class='ee-v'>65535</span></li><li><span class='ee-k'>min:</span><span class='ee-v'>0</span></li><li><span class='ee-k'>precision:</span><span class='ee-v'>int</span></li></ul></details></li><li><details><summary>dimensions: [8071, 6961]</summary><ul><li><span class='ee-k'>0:</span><span class='ee-v'>8071</span></li><li><span class='ee-k'>1:</span><span class='ee-v'>6961</span></li></ul></details></li></ul></details></li><li><details><summary>9: \"ST_ATRAN\", signed int16, EPSG:32635, 8071x6961 px</summary><ul><li><span class='ee-k'>id:</span><span class='ee-v'>ST_ATRAN</span></li><li><span class='ee-k'>crs:</span><span class='ee-v'>EPSG:32635</span></li><li><details><summary>crs_transform: [30, 0, 227985, 0, -30, -1973085]</summary><ul><li><span class='ee-k'>0:</span><span class='ee-v'>30</span></li><li><span class='ee-k'>1:</span><span class='ee-v'>0</span></li><li><span class='ee-k'>2:</span><span class='ee-v'>227985</span></li><li><span class='ee-k'>3:</span><span class='ee-v'>0</span></li><li><span class='ee-k'>4:</span><span class='ee-v'>-30</span></li><li><span class='ee-k'>5:</span><span class='ee-v'>-1973085</span></li></ul></details></li><li><details><summary>data_type: signed int16</summary><ul><li><span class='ee-k'>type:</span><span class='ee-v'>PixelType</span></li><li><span class='ee-k'>max:</span><span class='ee-v'>32767</span></li><li><span class='ee-k'>min:</span><span class='ee-v'>-32768</span></li><li><span class='ee-k'>precision:</span><span class='ee-v'>int</span></li></ul></details></li><li><details><summary>dimensions: [8071, 6961]</summary><ul><li><span class='ee-k'>0:</span><span class='ee-v'>8071</span></li><li><span class='ee-k'>1:</span><span class='ee-v'>6961</span></li></ul></details></li></ul></details></li><li><details><summary>10: \"ST_CDIST\", signed int16, EPSG:32635, 8071x6961 px</summary><ul><li><span class='ee-k'>id:</span><span class='ee-v'>ST_CDIST</span></li><li><span class='ee-k'>crs:</span><span class='ee-v'>EPSG:32635</span></li><li><details><summary>crs_transform: [30, 0, 227985, 0, -30, -1973085]</summary><ul><li><span class='ee-k'>0:</span><span class='ee-v'>30</span></li><li><span class='ee-k'>1:</span><span class='ee-v'>0</span></li><li><span class='ee-k'>2:</span><span class='ee-v'>227985</span></li><li><span class='ee-k'>3:</span><span class='ee-v'>0</span></li><li><span class='ee-k'>4:</span><span class='ee-v'>-30</span></li><li><span class='ee-k'>5:</span><span class='ee-v'>-1973085</span></li></ul></details></li><li><details><summary>data_type: signed int16</summary><ul><li><span class='ee-k'>type:</span><span class='ee-v'>PixelType</span></li><li><span class='ee-k'>max:</span><span class='ee-v'>32767</span></li><li><span class='ee-k'>min:</span><span class='ee-v'>-32768</span></li><li><span class='ee-k'>precision:</span><span class='ee-v'>int</span></li></ul></details></li><li><details><summary>dimensions: [8071, 6961]</summary><ul><li><span class='ee-k'>0:</span><span class='ee-v'>8071</span></li><li><span class='ee-k'>1:</span><span class='ee-v'>6961</span></li></ul></details></li></ul></details></li><li><details><summary>11: \"ST_DRAD\", signed int16, EPSG:32635, 8071x6961 px</summary><ul><li><span class='ee-k'>id:</span><span class='ee-v'>ST_DRAD</span></li><li><span class='ee-k'>crs:</span><span class='ee-v'>EPSG:32635</span></li><li><details><summary>crs_transform: [30, 0, 227985, 0, -30, -1973085]</summary><ul><li><span class='ee-k'>0:</span><span class='ee-v'>30</span></li><li><span class='ee-k'>1:</span><span class='ee-v'>0</span></li><li><span class='ee-k'>2:</span><span class='ee-v'>227985</span></li><li><span class='ee-k'>3:</span><span class='ee-v'>0</span></li><li><span class='ee-k'>4:</span><span class='ee-v'>-30</span></li><li><span class='ee-k'>5:</span><span class='ee-v'>-1973085</span></li></ul></details></li><li><details><summary>data_type: signed int16</summary><ul><li><span class='ee-k'>type:</span><span class='ee-v'>PixelType</span></li><li><span class='ee-k'>max:</span><span class='ee-v'>32767</span></li><li><span class='ee-k'>min:</span><span class='ee-v'>-32768</span></li><li><span class='ee-k'>precision:</span><span class='ee-v'>int</span></li></ul></details></li><li><details><summary>dimensions: [8071, 6961]</summary><ul><li><span class='ee-k'>0:</span><span class='ee-v'>8071</span></li><li><span class='ee-k'>1:</span><span class='ee-v'>6961</span></li></ul></details></li></ul></details></li><li><details><summary>12: \"ST_EMIS\", signed int16, EPSG:32635, 8071x6961 px</summary><ul><li><span class='ee-k'>id:</span><span class='ee-v'>ST_EMIS</span></li><li><span class='ee-k'>crs:</span><span class='ee-v'>EPSG:32635</span></li><li><details><summary>crs_transform: [30, 0, 227985, 0, -30, -1973085]</summary><ul><li><span class='ee-k'>0:</span><span class='ee-v'>30</span></li><li><span class='ee-k'>1:</span><span class='ee-v'>0</span></li><li><span class='ee-k'>2:</span><span class='ee-v'>227985</span></li><li><span class='ee-k'>3:</span><span class='ee-v'>0</span></li><li><span class='ee-k'>4:</span><span class='ee-v'>-30</span></li><li><span class='ee-k'>5:</span><span class='ee-v'>-1973085</span></li></ul></details></li><li><details><summary>data_type: signed int16</summary><ul><li><span class='ee-k'>type:</span><span class='ee-v'>PixelType</span></li><li><span class='ee-k'>max:</span><span class='ee-v'>32767</span></li><li><span class='ee-k'>min:</span><span class='ee-v'>-32768</span></li><li><span class='ee-k'>precision:</span><span class='ee-v'>int</span></li></ul></details></li><li><details><summary>dimensions: [8071, 6961]</summary><ul><li><span class='ee-k'>0:</span><span class='ee-v'>8071</span></li><li><span class='ee-k'>1:</span><span class='ee-v'>6961</span></li></ul></details></li></ul></details></li><li><details><summary>13: \"ST_EMSD\", signed int16, EPSG:32635, 8071x6961 px</summary><ul><li><span class='ee-k'>id:</span><span class='ee-v'>ST_EMSD</span></li><li><span class='ee-k'>crs:</span><span class='ee-v'>EPSG:32635</span></li><li><details><summary>crs_transform: [30, 0, 227985, 0, -30, -1973085]</summary><ul><li><span class='ee-k'>0:</span><span class='ee-v'>30</span></li><li><span class='ee-k'>1:</span><span class='ee-v'>0</span></li><li><span class='ee-k'>2:</span><span class='ee-v'>227985</span></li><li><span class='ee-k'>3:</span><span class='ee-v'>0</span></li><li><span class='ee-k'>4:</span><span class='ee-v'>-30</span></li><li><span class='ee-k'>5:</span><span class='ee-v'>-1973085</span></li></ul></details></li><li><details><summary>data_type: signed int16</summary><ul><li><span class='ee-k'>type:</span><span class='ee-v'>PixelType</span></li><li><span class='ee-k'>max:</span><span class='ee-v'>32767</span></li><li><span class='ee-k'>min:</span><span class='ee-v'>-32768</span></li><li><span class='ee-k'>precision:</span><span class='ee-v'>int</span></li></ul></details></li><li><details><summary>dimensions: [8071, 6961]</summary><ul><li><span class='ee-k'>0:</span><span class='ee-v'>8071</span></li><li><span class='ee-k'>1:</span><span class='ee-v'>6961</span></li></ul></details></li></ul></details></li><li><details><summary>14: \"ST_QA\", signed int16, EPSG:32635, 8071x6961 px</summary><ul><li><span class='ee-k'>id:</span><span class='ee-v'>ST_QA</span></li><li><span class='ee-k'>crs:</span><span class='ee-v'>EPSG:32635</span></li><li><details><summary>crs_transform: [30, 0, 227985, 0, -30, -1973085]</summary><ul><li><span class='ee-k'>0:</span><span class='ee-v'>30</span></li><li><span class='ee-k'>1:</span><span class='ee-v'>0</span></li><li><span class='ee-k'>2:</span><span class='ee-v'>227985</span></li><li><span class='ee-k'>3:</span><span class='ee-v'>0</span></li><li><span class='ee-k'>4:</span><span class='ee-v'>-30</span></li><li><span class='ee-k'>5:</span><span class='ee-v'>-1973085</span></li></ul></details></li><li><details><summary>data_type: signed int16</summary><ul><li><span class='ee-k'>type:</span><span class='ee-v'>PixelType</span></li><li><span class='ee-k'>max:</span><span class='ee-v'>32767</span></li><li><span class='ee-k'>min:</span><span class='ee-v'>-32768</span></li><li><span class='ee-k'>precision:</span><span class='ee-v'>int</span></li></ul></details></li><li><details><summary>dimensions: [8071, 6961]</summary><ul><li><span class='ee-k'>0:</span><span class='ee-v'>8071</span></li><li><span class='ee-k'>1:</span><span class='ee-v'>6961</span></li></ul></details></li></ul></details></li><li><details><summary>15: \"ST_TRAD\", signed int16, EPSG:32635, 8071x6961 px</summary><ul><li><span class='ee-k'>id:</span><span class='ee-v'>ST_TRAD</span></li><li><span class='ee-k'>crs:</span><span class='ee-v'>EPSG:32635</span></li><li><details><summary>crs_transform: [30, 0, 227985, 0, -30, -1973085]</summary><ul><li><span class='ee-k'>0:</span><span class='ee-v'>30</span></li><li><span class='ee-k'>1:</span><span class='ee-v'>0</span></li><li><span class='ee-k'>2:</span><span class='ee-v'>227985</span></li><li><span class='ee-k'>3:</span><span class='ee-v'>0</span></li><li><span class='ee-k'>4:</span><span class='ee-v'>-30</span></li><li><span class='ee-k'>5:</span><span class='ee-v'>-1973085</span></li></ul></details></li><li><details><summary>data_type: signed int16</summary><ul><li><span class='ee-k'>type:</span><span class='ee-v'>PixelType</span></li><li><span class='ee-k'>max:</span><span class='ee-v'>32767</span></li><li><span class='ee-k'>min:</span><span class='ee-v'>-32768</span></li><li><span class='ee-k'>precision:</span><span class='ee-v'>int</span></li></ul></details></li><li><details><summary>dimensions: [8071, 6961]</summary><ul><li><span class='ee-k'>0:</span><span class='ee-v'>8071</span></li><li><span class='ee-k'>1:</span><span class='ee-v'>6961</span></li></ul></details></li></ul></details></li><li><details><summary>16: \"ST_URAD\", signed int16, EPSG:32635, 8071x6961 px</summary><ul><li><span class='ee-k'>id:</span><span class='ee-v'>ST_URAD</span></li><li><span class='ee-k'>crs:</span><span class='ee-v'>EPSG:32635</span></li><li><details><summary>crs_transform: [30, 0, 227985, 0, -30, -1973085]</summary><ul><li><span class='ee-k'>0:</span><span class='ee-v'>30</span></li><li><span class='ee-k'>1:</span><span class='ee-v'>0</span></li><li><span class='ee-k'>2:</span><span class='ee-v'>227985</span></li><li><span class='ee-k'>3:</span><span class='ee-v'>0</span></li><li><span class='ee-k'>4:</span><span class='ee-v'>-30</span></li><li><span class='ee-k'>5:</span><span class='ee-v'>-1973085</span></li></ul></details></li><li><details><summary>data_type: signed int16</summary><ul><li><span class='ee-k'>type:</span><span class='ee-v'>PixelType</span></li><li><span class='ee-k'>max:</span><span class='ee-v'>32767</span></li><li><span class='ee-k'>min:</span><span class='ee-v'>-32768</span></li><li><span class='ee-k'>precision:</span><span class='ee-v'>int</span></li></ul></details></li><li><details><summary>dimensions: [8071, 6961]</summary><ul><li><span class='ee-k'>0:</span><span class='ee-v'>8071</span></li><li><span class='ee-k'>1:</span><span class='ee-v'>6961</span></li></ul></details></li></ul></details></li><li><details><summary>17: \"QA_PIXEL\", unsigned int16, EPSG:32635, 8071x6961 px</summary><ul><li><span class='ee-k'>id:</span><span class='ee-v'>QA_PIXEL</span></li><li><span class='ee-k'>crs:</span><span class='ee-v'>EPSG:32635</span></li><li><details><summary>crs_transform: [30, 0, 227985, 0, -30, -1973085]</summary><ul><li><span class='ee-k'>0:</span><span class='ee-v'>30</span></li><li><span class='ee-k'>1:</span><span class='ee-v'>0</span></li><li><span class='ee-k'>2:</span><span class='ee-v'>227985</span></li><li><span class='ee-k'>3:</span><span class='ee-v'>0</span></li><li><span class='ee-k'>4:</span><span class='ee-v'>-30</span></li><li><span class='ee-k'>5:</span><span class='ee-v'>-1973085</span></li></ul></details></li><li><details><summary>data_type: unsigned int16</summary><ul><li><span class='ee-k'>type:</span><span class='ee-v'>PixelType</span></li><li><span class='ee-k'>max:</span><span class='ee-v'>65535</span></li><li><span class='ee-k'>min:</span><span class='ee-v'>0</span></li><li><span class='ee-k'>precision:</span><span class='ee-v'>int</span></li></ul></details></li><li><details><summary>dimensions: [8071, 6961]</summary><ul><li><span class='ee-k'>0:</span><span class='ee-v'>8071</span></li><li><span class='ee-k'>1:</span><span class='ee-v'>6961</span></li></ul></details></li></ul></details></li><li><details><summary>18: \"QA_RADSAT\", unsigned int16, EPSG:32635, 8071x6961 px</summary><ul><li><span class='ee-k'>id:</span><span class='ee-v'>QA_RADSAT</span></li><li><span class='ee-k'>crs:</span><span class='ee-v'>EPSG:32635</span></li><li><details><summary>crs_transform: [30, 0, 227985, 0, -30, -1973085]</summary><ul><li><span class='ee-k'>0:</span><span class='ee-v'>30</span></li><li><span class='ee-k'>1:</span><span class='ee-v'>0</span></li><li><span class='ee-k'>2:</span><span class='ee-v'>227985</span></li><li><span class='ee-k'>3:</span><span class='ee-v'>0</span></li><li><span class='ee-k'>4:</span><span class='ee-v'>-30</span></li><li><span class='ee-k'>5:</span><span class='ee-v'>-1973085</span></li></ul></details></li><li><details><summary>data_type: unsigned int16</summary><ul><li><span class='ee-k'>type:</span><span class='ee-v'>PixelType</span></li><li><span class='ee-k'>max:</span><span class='ee-v'>65535</span></li><li><span class='ee-k'>min:</span><span class='ee-v'>0</span></li><li><span class='ee-k'>precision:</span><span class='ee-v'>int</span></li></ul></details></li><li><details><summary>dimensions: [8071, 6961]</summary><ul><li><span class='ee-k'>0:</span><span class='ee-v'>8071</span></li><li><span class='ee-k'>1:</span><span class='ee-v'>6961</span></li></ul></details></li></ul></details></li></ul></details></li><li><details><summary>properties: Object (130 properties)</summary><ul><li><span class='ee-k'>ALGORITHM_SOURCE_SURFACE_REFLECTANCE:</span><span class='ee-v'>LEDAPS_3.4.0</span></li><li><span class='ee-k'>ALGORITHM_SOURCE_SURFACE_TEMPERATURE:</span><span class='ee-v'>st_1.3.0</span></li><li><span class='ee-k'>CLOUD_COVER:</span><span class='ee-v'>4</span></li><li><span class='ee-k'>CLOUD_COVER_LAND:</span><span class='ee-v'>4</span></li><li><span class='ee-k'>COLLECTION_CATEGORY:</span><span class='ee-v'>T1</span></li><li><span class='ee-k'>COLLECTION_NUMBER:</span><span class='ee-v'>2</span></li><li><span class='ee-k'>CORRECTION_BIAS_BAND_1:</span><span class='ee-v'>INTERNAL_CALIBRATION</span></li><li><span class='ee-k'>CORRECTION_BIAS_BAND_2:</span><span class='ee-v'>INTERNAL_CALIBRATION</span></li><li><span class='ee-k'>CORRECTION_BIAS_BAND_3:</span><span class='ee-v'>INTERNAL_CALIBRATION</span></li><li><span class='ee-k'>CORRECTION_BIAS_BAND_4:</span><span class='ee-v'>INTERNAL_CALIBRATION</span></li><li><span class='ee-k'>CORRECTION_BIAS_BAND_5:</span><span class='ee-v'>INTERNAL_CALIBRATION</span></li><li><span class='ee-k'>CORRECTION_BIAS_BAND_6_VCID_1:</span><span class='ee-v'>INTERNAL_CALIBRATION</span></li><li><span class='ee-k'>CORRECTION_BIAS_BAND_6_VCID_2:</span><span class='ee-v'>INTERNAL_CALIBRATION</span></li><li><span class='ee-k'>CORRECTION_BIAS_BAND_7:</span><span class='ee-v'>INTERNAL_CALIBRATION</span></li><li><span class='ee-k'>CORRECTION_BIAS_BAND_8:</span><span class='ee-v'>INTERNAL_CALIBRATION</span></li><li><span class='ee-k'>CORRECTION_GAIN_BAND_1:</span><span class='ee-v'>CPF</span></li><li><span class='ee-k'>CORRECTION_GAIN_BAND_2:</span><span class='ee-v'>CPF</span></li><li><span class='ee-k'>CORRECTION_GAIN_BAND_3:</span><span class='ee-v'>CPF</span></li><li><span class='ee-k'>CORRECTION_GAIN_BAND_4:</span><span class='ee-v'>CPF</span></li><li><span class='ee-k'>CORRECTION_GAIN_BAND_5:</span><span class='ee-v'>CPF</span></li><li><span class='ee-k'>CORRECTION_GAIN_BAND_6_VCID_1:</span><span class='ee-v'>CPF</span></li><li><span class='ee-k'>CORRECTION_GAIN_BAND_6_VCID_2:</span><span class='ee-v'>CPF</span></li><li><span class='ee-k'>CORRECTION_GAIN_BAND_7:</span><span class='ee-v'>CPF</span></li><li><span class='ee-k'>CORRECTION_GAIN_BAND_8:</span><span class='ee-v'>CPF</span></li><li><span class='ee-k'>DATA_SOURCE_AIR_TEMPERATURE:</span><span class='ee-v'>NCEP</span></li><li><span class='ee-k'>DATA_SOURCE_ELEVATION:</span><span class='ee-v'>GLS2000</span></li><li><span class='ee-k'>DATA_SOURCE_OZONE:</span><span class='ee-v'>TOMS</span></li><li><span class='ee-k'>DATA_SOURCE_PRESSURE:</span><span class='ee-v'>NCEP</span></li><li><span class='ee-k'>DATA_SOURCE_REANALYSIS:</span><span class='ee-v'>GEOS-5 FP-IT</span></li><li><span class='ee-k'>DATA_SOURCE_WATER_VAPOR:</span><span class='ee-v'>NCEP</span></li><li><span class='ee-k'>DATE_ACQUIRED:</span><span class='ee-v'>2016-12-04</span></li><li><span class='ee-k'>DATE_PRODUCT_GENERATED:</span><span class='ee-v'>1602179369000</span></li><li><span class='ee-k'>DATUM:</span><span class='ee-v'>WGS84</span></li><li><span class='ee-k'>EARTH_SUN_DISTANCE:</span><span class='ee-v'>0.985556</span></li><li><span class='ee-k'>ELLIPSOID:</span><span class='ee-v'>WGS84</span></li><li><span class='ee-k'>EPHEMERIS_TYPE:</span><span class='ee-v'>DEFINITIVE</span></li><li><span class='ee-k'>GAIN_BAND_1:</span><span class='ee-v'>H</span></li><li><span class='ee-k'>GAIN_BAND_2:</span><span class='ee-v'>H</span></li><li><span class='ee-k'>GAIN_BAND_3:</span><span class='ee-v'>H</span></li><li><span class='ee-k'>GAIN_BAND_4:</span><span class='ee-v'>L</span></li><li><span class='ee-k'>GAIN_BAND_5:</span><span class='ee-v'>H</span></li><li><span class='ee-k'>GAIN_BAND_6_VCID_1:</span><span class='ee-v'>L</span></li><li><span class='ee-k'>GAIN_BAND_6_VCID_2:</span><span class='ee-v'>H</span></li><li><span class='ee-k'>GAIN_BAND_7:</span><span class='ee-v'>H</span></li><li><span class='ee-k'>GAIN_BAND_8:</span><span class='ee-v'>L</span></li><li><span class='ee-k'>GAIN_CHANGE_BAND_1:</span><span class='ee-v'>HH</span></li><li><span class='ee-k'>GAIN_CHANGE_BAND_2:</span><span class='ee-v'>HH</span></li><li><span class='ee-k'>GAIN_CHANGE_BAND_3:</span><span class='ee-v'>HH</span></li><li><span class='ee-k'>GAIN_CHANGE_BAND_4:</span><span class='ee-v'>LL</span></li><li><span class='ee-k'>GAIN_CHANGE_BAND_5:</span><span class='ee-v'>HH</span></li><li><span class='ee-k'>GAIN_CHANGE_BAND_6_VCID_1:</span><span class='ee-v'>LL</span></li><li><span class='ee-k'>GAIN_CHANGE_BAND_6_VCID_2:</span><span class='ee-v'>HH</span></li><li><span class='ee-k'>GAIN_CHANGE_BAND_7:</span><span class='ee-v'>HH</span></li><li><span class='ee-k'>GAIN_CHANGE_BAND_8:</span><span class='ee-v'>LL</span></li><li><span class='ee-k'>GAIN_CHANGE_SCAN_BAND_1:</span><span class='ee-v'>0</span></li><li><span class='ee-k'>GAIN_CHANGE_SCAN_BAND_2:</span><span class='ee-v'>0</span></li><li><span class='ee-k'>GAIN_CHANGE_SCAN_BAND_3:</span><span class='ee-v'>0</span></li><li><span class='ee-k'>GAIN_CHANGE_SCAN_BAND_4:</span><span class='ee-v'>0</span></li><li><span class='ee-k'>GAIN_CHANGE_SCAN_BAND_5:</span><span class='ee-v'>0</span></li><li><span class='ee-k'>GAIN_CHANGE_SCAN_BAND_6_VCID_1:</span><span class='ee-v'>0</span></li><li><span class='ee-k'>GAIN_CHANGE_SCAN_BAND_6_VCID_2:</span><span class='ee-v'>0</span></li><li><span class='ee-k'>GAIN_CHANGE_SCAN_BAND_7:</span><span class='ee-v'>0</span></li><li><span class='ee-k'>GAIN_CHANGE_SCAN_BAND_8:</span><span class='ee-v'>0</span></li><li><span class='ee-k'>GEOMETRIC_RMSE_MODEL:</span><span class='ee-v'>5.311</span></li><li><span class='ee-k'>GEOMETRIC_RMSE_MODEL_X:</span><span class='ee-v'>3.255</span></li><li><span class='ee-k'>GEOMETRIC_RMSE_MODEL_Y:</span><span class='ee-v'>4.197</span></li><li><span class='ee-k'>GRID_CELL_SIZE_REFLECTIVE:</span><span class='ee-v'>30</span></li><li><span class='ee-k'>GRID_CELL_SIZE_THERMAL:</span><span class='ee-v'>30</span></li><li><span class='ee-k'>GROUND_CONTROL_POINTS_MODEL:</span><span class='ee-v'>462</span></li><li><span class='ee-k'>GROUND_CONTROL_POINTS_VERSION:</span><span class='ee-v'>5</span></li><li><span class='ee-k'>IMAGE_QUALITY:</span><span class='ee-v'>9</span></li><li><span class='ee-k'>L1_DATE_PRODUCT_GENERATED:</span><span class='ee-v'>2020-10-08T17:35:25Z</span></li><li><span class='ee-k'>L1_LANDSAT_PRODUCT_ID:</span><span class='ee-v'>LE07_L1TP_173073_20161204_20201008_02_T1</span></li><li><span class='ee-k'>L1_PROCESSING_LEVEL:</span><span class='ee-v'>L1TP</span></li><li><span class='ee-k'>L1_PROCESSING_SOFTWARE_VERSION:</span><span class='ee-v'>LPGS_15.3.1c</span></li><li><span class='ee-k'>L1_REQUEST_ID:</span><span class='ee-v'>L2</span></li><li><span class='ee-k'>LANDSAT_PRODUCT_ID:</span><span class='ee-v'>LE07_L2SP_173073_20161204_20201008_02_T1</span></li><li><span class='ee-k'>LANDSAT_SCENE_ID:</span><span class='ee-v'>LE71730732016339SG100</span></li><li><span class='ee-k'>MAP_PROJECTION:</span><span class='ee-v'>UTM</span></li><li><span class='ee-k'>ORIENTATION:</span><span class='ee-v'>NORTH_UP</span></li><li><span class='ee-k'>PROCESSING_LEVEL:</span><span class='ee-v'>L2SP</span></li><li><span class='ee-k'>PROCESSING_SOFTWARE_VERSION:</span><span class='ee-v'>LPGS_15.3.1c</span></li><li><span class='ee-k'>REFLECTANCE_ADD_BAND_1:</span><span class='ee-v'>-0.2</span></li><li><span class='ee-k'>REFLECTANCE_ADD_BAND_2:</span><span class='ee-v'>-0.2</span></li><li><span class='ee-k'>REFLECTANCE_ADD_BAND_3:</span><span class='ee-v'>-0.2</span></li><li><span class='ee-k'>REFLECTANCE_ADD_BAND_4:</span><span class='ee-v'>-0.2</span></li><li><span class='ee-k'>REFLECTANCE_ADD_BAND_5:</span><span class='ee-v'>-0.2</span></li><li><span class='ee-k'>REFLECTANCE_ADD_BAND_7:</span><span class='ee-v'>-0.2</span></li><li><span class='ee-k'>REFLECTANCE_MULT_BAND_1:</span><span class='ee-v'>2.75e-05</span></li><li><span class='ee-k'>REFLECTANCE_MULT_BAND_2:</span><span class='ee-v'>2.75e-05</span></li><li><span class='ee-k'>REFLECTANCE_MULT_BAND_3:</span><span class='ee-v'>2.75e-05</span></li><li><span class='ee-k'>REFLECTANCE_MULT_BAND_4:</span><span class='ee-v'>2.75e-05</span></li><li><span class='ee-k'>REFLECTANCE_MULT_BAND_5:</span><span class='ee-v'>2.75e-05</span></li><li><span class='ee-k'>REFLECTANCE_MULT_BAND_7:</span><span class='ee-v'>2.75e-05</span></li><li><span class='ee-k'>REFLECTIVE_LINES:</span><span class='ee-v'>6961</span></li><li><span class='ee-k'>REFLECTIVE_SAMPLES:</span><span class='ee-v'>8071</span></li><li><span class='ee-k'>REQUEST_ID:</span><span class='ee-v'>L2</span></li><li><span class='ee-k'>SATURATION_BAND_1:</span><span class='ee-v'>Y</span></li><li><span class='ee-k'>SATURATION_BAND_2:</span><span class='ee-v'>Y</span></li><li><span class='ee-k'>SATURATION_BAND_3:</span><span class='ee-v'>Y</span></li><li><span class='ee-k'>SATURATION_BAND_4:</span><span class='ee-v'>Y</span></li><li><span class='ee-k'>SATURATION_BAND_5:</span><span class='ee-v'>Y</span></li><li><span class='ee-k'>SATURATION_BAND_6_VCID_1:</span><span class='ee-v'>N</span></li><li><span class='ee-k'>SATURATION_BAND_6_VCID_2:</span><span class='ee-v'>Y</span></li><li><span class='ee-k'>SATURATION_BAND_7:</span><span class='ee-v'>Y</span></li><li><span class='ee-k'>SATURATION_BAND_8:</span><span class='ee-v'>N</span></li><li><span class='ee-k'>SCENE_CENTER_TIME:</span><span class='ee-v'>08:21:22.1117968Z</span></li><li><span class='ee-k'>SENSOR_ANOMALIES:</span><span class='ee-v'>NONE</span></li><li><span class='ee-k'>SENSOR_ID:</span><span class='ee-v'>ETM</span></li><li><span class='ee-k'>SENSOR_MODE:</span><span class='ee-v'>BUMPER</span></li><li><span class='ee-k'>SENSOR_MODE_SLC:</span><span class='ee-v'>OFF</span></li><li><span class='ee-k'>SPACECRAFT_ID:</span><span class='ee-v'>LANDSAT_7</span></li><li><span class='ee-k'>STATION_ID:</span><span class='ee-v'>SG1</span></li><li><span class='ee-k'>SUN_AZIMUTH:</span><span class='ee-v'>102.62643446</span></li><li><span class='ee-k'>SUN_ELEVATION:</span><span class='ee-v'>64.81307441</span></li><li><span class='ee-k'>TEMPERATURE_ADD_BAND_ST_B6:</span><span class='ee-v'>149</span></li><li><span class='ee-k'>TEMPERATURE_MAXIMUM_BAND_ST_B6:</span><span class='ee-v'>372.999941</span></li><li><span class='ee-k'>TEMPERATURE_MINIMUM_BAND_ST_B6:</span><span class='ee-v'>149.003418</span></li><li><span class='ee-k'>TEMPERATURE_MULT_BAND_ST_B6:</span><span class='ee-v'>0.00341802</span></li><li><span class='ee-k'>THERMAL_LINES:</span><span class='ee-v'>6961</span></li><li><span class='ee-k'>THERMAL_SAMPLES:</span><span class='ee-v'>8071</span></li><li><span class='ee-k'>UTM_ZONE:</span><span class='ee-v'>35</span></li><li><span class='ee-k'>WRS_PATH:</span><span class='ee-v'>173</span></li><li><span class='ee-k'>WRS_ROW:</span><span class='ee-v'>73</span></li><li><span class='ee-k'>WRS_TYPE:</span><span class='ee-v'>2</span></li><li><span class='ee-k'>system:asset_size:</span><span class='ee-v'>546588988</span></li><li><details><summary>system:footprint: LinearRing (18 vertices)</summary><ul><li><span class='ee-k'>type:</span><span class='ee-v'>LinearRing</span></li><li><details><summary>coordinates: List (18 elements)</summary><ul><li><details><summary>0: [25.443819780540025, -19.598126657022302]</summary><ul><li><span class='ee-k'>0:</span><span class='ee-v'>25.443819780540025</span></li><li><span class='ee-k'>1:</span><span class='ee-v'>-19.598126657022302</span></li></ul></details></li><li><details><summary>1: [25.99063134848691, -19.67761098703631]</summary><ul><li><span class='ee-k'>0:</span><span class='ee-v'>25.99063134848691</span></li><li><span class='ee-k'>1:</span><span class='ee-v'>-19.67761098703631</span></li></ul></details></li><li><details><summary>2: [26.30124560596011, -19.721982528722116]</summary><ul><li><span class='ee-k'>0:</span><span class='ee-v'>26.30124560596011</span></li><li><span class='ee-k'>1:</span><span class='ee-v'>-19.721982528722116</span></li></ul></details></li><li><details><summary>3: [26.30369189509892, -19.719111067271882]</summary><ul><li><span class='ee-k'>0:</span><span class='ee-v'>26.30369189509892</span></li><li><span class='ee-k'>1:</span><span class='ee-v'>-19.719111067271882</span></li></ul></details></li><li><details><summary>4: [26.30734236261553, -19.7040875630092]</summary><ul><li><span class='ee-k'>0:</span><span class='ee-v'>26.30734236261553</span></li><li><span class='ee-k'>1:</span><span class='ee-v'>-19.7040875630092</span></li></ul></details></li><li><details><summary>5: [26.661673918624263, -18.11855054790184]</summary><ul><li><span class='ee-k'>0:</span><span class='ee-v'>26.661673918624263</span></li><li><span class='ee-k'>1:</span><span class='ee-v'>-18.11855054790184</span></li></ul></details></li><li><details><summary>6: [26.659864959143135, -18.11040514811295]</summary><ul><li><span class='ee-k'>0:</span><span class='ee-v'>26.659864959143135</span></li><li><span class='ee-k'>1:</span><span class='ee-v'>-18.11040514811295</span></li></ul></details></li><li><details><summary>7: [24.850409445018784, -17.84407483570186]</summary><ul><li><span class='ee-k'>0:</span><span class='ee-v'>24.850409445018784</span></li><li><span class='ee-k'>1:</span><span class='ee-v'>-17.84407483570186</span></li></ul></details></li><li><details><summary>8: [24.845629390618157, -17.850773056696884]</summary><ul><li><span class='ee-k'>0:</span><span class='ee-v'>24.845629390618157</span></li><li><span class='ee-k'>1:</span><span class='ee-v'>-17.850773056696884</span></li></ul></details></li><li><details><summary>9: [24.84237479420768, -17.86006659500762]</summary><ul><li><span class='ee-k'>0:</span><span class='ee-v'>24.84237479420768</span></li><li><span class='ee-k'>1:</span><span class='ee-v'>-17.86006659500762</span></li></ul></details></li><li><details><summary>10: [24.83111749741391, -17.902432651137435]</summary><ul><li><span class='ee-k'>0:</span><span class='ee-v'>24.83111749741391</span></li><li><span class='ee-k'>1:</span><span class='ee-v'>-17.902432651137435</span></li></ul></details></li><li><details><summary>11: [24.67509590545659, -18.568038769849586]</summary><ul><li><span class='ee-k'>0:</span><span class='ee-v'>24.67509590545659</span></li><li><span class='ee-k'>1:</span><span class='ee-v'>-18.568038769849586</span></li></ul></details></li><li><details><summary>12: [24.517561056594033, -19.23333470949758]</summary><ul><li><span class='ee-k'>0:</span><span class='ee-v'>24.517561056594033</span></li><li><span class='ee-k'>1:</span><span class='ee-v'>-19.23333470949758</span></li></ul></details></li><li><details><summary>13: [24.491609049486918, -19.345413837071877]</summary><ul><li><span class='ee-k'>0:</span><span class='ee-v'>24.491609049486918</span></li><li><span class='ee-k'>1:</span><span class='ee-v'>-19.345413837071877</span></li></ul></details></li><li><details><summary>14: [24.470734966937066, -19.44021995180468]</summary><ul><li><span class='ee-k'>0:</span><span class='ee-v'>24.470734966937066</span></li><li><span class='ee-k'>1:</span><span class='ee-v'>-19.44021995180468</span></li></ul></details></li><li><details><summary>15: [24.46906369823567, -19.44893932398375]</summary><ul><li><span class='ee-k'>0:</span><span class='ee-v'>24.46906369823567</span></li><li><span class='ee-k'>1:</span><span class='ee-v'>-19.44893932398375</span></li></ul></details></li><li><details><summary>16: [24.47331079362725, -19.45279206852267]</summary><ul><li><span class='ee-k'>0:</span><span class='ee-v'>24.47331079362725</span></li><li><span class='ee-k'>1:</span><span class='ee-v'>-19.45279206852267</span></li></ul></details></li><li><details><summary>17: [25.443819780540025, -19.598126657022302]</summary><ul><li><span class='ee-k'>0:</span><span class='ee-v'>25.443819780540025</span></li><li><span class='ee-k'>1:</span><span class='ee-v'>-19.598126657022302</span></li></ul></details></li></ul></details></li></ul></details></li><li><span class='ee-k'>system:index:</span><span class='ee-v'>LE07_173073_20161204</span></li><li><span class='ee-k'>system:time_end:</span><span class='ee-v'>1480839682111</span></li><li><span class='ee-k'>system:time_start:</span><span class='ee-v'>1480839682111</span></li></ul></details></li></ul></details></li><li><details><summary>13: Image LANDSAT/LE07/C02/T1_L2/LE07_173073_20171105 (19 bands)</summary><ul><li><span class='ee-k'>type:</span><span class='ee-v'>Image</span></li><li><span class='ee-k'>id:</span><span class='ee-v'>LANDSAT/LE07/C02/T1_L2/LE07_173073_20171105</span></li><li><span class='ee-k'>version:</span><span class='ee-v'>1624541199629870.0</span></li><li><details><summary>bands: List (19 elements)</summary><ul><li><details><summary>0: \"SR_B1\", unsigned int16, EPSG:32635, 8071x6941 px</summary><ul><li><span class='ee-k'>id:</span><span class='ee-v'>SR_B1</span></li><li><span class='ee-k'>crs:</span><span class='ee-v'>EPSG:32635</span></li><li><details><summary>crs_transform: [30, 0, 222285, 0, -30, -1973385]</summary><ul><li><span class='ee-k'>0:</span><span class='ee-v'>30</span></li><li><span class='ee-k'>1:</span><span class='ee-v'>0</span></li><li><span class='ee-k'>2:</span><span class='ee-v'>222285</span></li><li><span class='ee-k'>3:</span><span class='ee-v'>0</span></li><li><span class='ee-k'>4:</span><span class='ee-v'>-30</span></li><li><span class='ee-k'>5:</span><span class='ee-v'>-1973385</span></li></ul></details></li><li><details><summary>data_type: unsigned int16</summary><ul><li><span class='ee-k'>type:</span><span class='ee-v'>PixelType</span></li><li><span class='ee-k'>max:</span><span class='ee-v'>65535</span></li><li><span class='ee-k'>min:</span><span class='ee-v'>0</span></li><li><span class='ee-k'>precision:</span><span class='ee-v'>int</span></li></ul></details></li><li><details><summary>dimensions: [8071, 6941]</summary><ul><li><span class='ee-k'>0:</span><span class='ee-v'>8071</span></li><li><span class='ee-k'>1:</span><span class='ee-v'>6941</span></li></ul></details></li></ul></details></li><li><details><summary>1: \"SR_B2\", unsigned int16, EPSG:32635, 8071x6941 px</summary><ul><li><span class='ee-k'>id:</span><span class='ee-v'>SR_B2</span></li><li><span class='ee-k'>crs:</span><span class='ee-v'>EPSG:32635</span></li><li><details><summary>crs_transform: [30, 0, 222285, 0, -30, -1973385]</summary><ul><li><span class='ee-k'>0:</span><span class='ee-v'>30</span></li><li><span class='ee-k'>1:</span><span class='ee-v'>0</span></li><li><span class='ee-k'>2:</span><span class='ee-v'>222285</span></li><li><span class='ee-k'>3:</span><span class='ee-v'>0</span></li><li><span class='ee-k'>4:</span><span class='ee-v'>-30</span></li><li><span class='ee-k'>5:</span><span class='ee-v'>-1973385</span></li></ul></details></li><li><details><summary>data_type: unsigned int16</summary><ul><li><span class='ee-k'>type:</span><span class='ee-v'>PixelType</span></li><li><span class='ee-k'>max:</span><span class='ee-v'>65535</span></li><li><span class='ee-k'>min:</span><span class='ee-v'>0</span></li><li><span class='ee-k'>precision:</span><span class='ee-v'>int</span></li></ul></details></li><li><details><summary>dimensions: [8071, 6941]</summary><ul><li><span class='ee-k'>0:</span><span class='ee-v'>8071</span></li><li><span class='ee-k'>1:</span><span class='ee-v'>6941</span></li></ul></details></li></ul></details></li><li><details><summary>2: \"SR_B3\", unsigned int16, EPSG:32635, 8071x6941 px</summary><ul><li><span class='ee-k'>id:</span><span class='ee-v'>SR_B3</span></li><li><span class='ee-k'>crs:</span><span class='ee-v'>EPSG:32635</span></li><li><details><summary>crs_transform: [30, 0, 222285, 0, -30, -1973385]</summary><ul><li><span class='ee-k'>0:</span><span class='ee-v'>30</span></li><li><span class='ee-k'>1:</span><span class='ee-v'>0</span></li><li><span class='ee-k'>2:</span><span class='ee-v'>222285</span></li><li><span class='ee-k'>3:</span><span class='ee-v'>0</span></li><li><span class='ee-k'>4:</span><span class='ee-v'>-30</span></li><li><span class='ee-k'>5:</span><span class='ee-v'>-1973385</span></li></ul></details></li><li><details><summary>data_type: unsigned int16</summary><ul><li><span class='ee-k'>type:</span><span class='ee-v'>PixelType</span></li><li><span class='ee-k'>max:</span><span class='ee-v'>65535</span></li><li><span class='ee-k'>min:</span><span class='ee-v'>0</span></li><li><span class='ee-k'>precision:</span><span class='ee-v'>int</span></li></ul></details></li><li><details><summary>dimensions: [8071, 6941]</summary><ul><li><span class='ee-k'>0:</span><span class='ee-v'>8071</span></li><li><span class='ee-k'>1:</span><span class='ee-v'>6941</span></li></ul></details></li></ul></details></li><li><details><summary>3: \"SR_B4\", unsigned int16, EPSG:32635, 8071x6941 px</summary><ul><li><span class='ee-k'>id:</span><span class='ee-v'>SR_B4</span></li><li><span class='ee-k'>crs:</span><span class='ee-v'>EPSG:32635</span></li><li><details><summary>crs_transform: [30, 0, 222285, 0, -30, -1973385]</summary><ul><li><span class='ee-k'>0:</span><span class='ee-v'>30</span></li><li><span class='ee-k'>1:</span><span class='ee-v'>0</span></li><li><span class='ee-k'>2:</span><span class='ee-v'>222285</span></li><li><span class='ee-k'>3:</span><span class='ee-v'>0</span></li><li><span class='ee-k'>4:</span><span class='ee-v'>-30</span></li><li><span class='ee-k'>5:</span><span class='ee-v'>-1973385</span></li></ul></details></li><li><details><summary>data_type: unsigned int16</summary><ul><li><span class='ee-k'>type:</span><span class='ee-v'>PixelType</span></li><li><span class='ee-k'>max:</span><span class='ee-v'>65535</span></li><li><span class='ee-k'>min:</span><span class='ee-v'>0</span></li><li><span class='ee-k'>precision:</span><span class='ee-v'>int</span></li></ul></details></li><li><details><summary>dimensions: [8071, 6941]</summary><ul><li><span class='ee-k'>0:</span><span class='ee-v'>8071</span></li><li><span class='ee-k'>1:</span><span class='ee-v'>6941</span></li></ul></details></li></ul></details></li><li><details><summary>4: \"SR_B5\", unsigned int16, EPSG:32635, 8071x6941 px</summary><ul><li><span class='ee-k'>id:</span><span class='ee-v'>SR_B5</span></li><li><span class='ee-k'>crs:</span><span class='ee-v'>EPSG:32635</span></li><li><details><summary>crs_transform: [30, 0, 222285, 0, -30, -1973385]</summary><ul><li><span class='ee-k'>0:</span><span class='ee-v'>30</span></li><li><span class='ee-k'>1:</span><span class='ee-v'>0</span></li><li><span class='ee-k'>2:</span><span class='ee-v'>222285</span></li><li><span class='ee-k'>3:</span><span class='ee-v'>0</span></li><li><span class='ee-k'>4:</span><span class='ee-v'>-30</span></li><li><span class='ee-k'>5:</span><span class='ee-v'>-1973385</span></li></ul></details></li><li><details><summary>data_type: unsigned int16</summary><ul><li><span class='ee-k'>type:</span><span class='ee-v'>PixelType</span></li><li><span class='ee-k'>max:</span><span class='ee-v'>65535</span></li><li><span class='ee-k'>min:</span><span class='ee-v'>0</span></li><li><span class='ee-k'>precision:</span><span class='ee-v'>int</span></li></ul></details></li><li><details><summary>dimensions: [8071, 6941]</summary><ul><li><span class='ee-k'>0:</span><span class='ee-v'>8071</span></li><li><span class='ee-k'>1:</span><span class='ee-v'>6941</span></li></ul></details></li></ul></details></li><li><details><summary>5: \"SR_B7\", unsigned int16, EPSG:32635, 8071x6941 px</summary><ul><li><span class='ee-k'>id:</span><span class='ee-v'>SR_B7</span></li><li><span class='ee-k'>crs:</span><span class='ee-v'>EPSG:32635</span></li><li><details><summary>crs_transform: [30, 0, 222285, 0, -30, -1973385]</summary><ul><li><span class='ee-k'>0:</span><span class='ee-v'>30</span></li><li><span class='ee-k'>1:</span><span class='ee-v'>0</span></li><li><span class='ee-k'>2:</span><span class='ee-v'>222285</span></li><li><span class='ee-k'>3:</span><span class='ee-v'>0</span></li><li><span class='ee-k'>4:</span><span class='ee-v'>-30</span></li><li><span class='ee-k'>5:</span><span class='ee-v'>-1973385</span></li></ul></details></li><li><details><summary>data_type: unsigned int16</summary><ul><li><span class='ee-k'>type:</span><span class='ee-v'>PixelType</span></li><li><span class='ee-k'>max:</span><span class='ee-v'>65535</span></li><li><span class='ee-k'>min:</span><span class='ee-v'>0</span></li><li><span class='ee-k'>precision:</span><span class='ee-v'>int</span></li></ul></details></li><li><details><summary>dimensions: [8071, 6941]</summary><ul><li><span class='ee-k'>0:</span><span class='ee-v'>8071</span></li><li><span class='ee-k'>1:</span><span class='ee-v'>6941</span></li></ul></details></li></ul></details></li><li><details><summary>6: \"SR_ATMOS_OPACITY\", signed int16, EPSG:32635, 8071x6941 px</summary><ul><li><span class='ee-k'>id:</span><span class='ee-v'>SR_ATMOS_OPACITY</span></li><li><span class='ee-k'>crs:</span><span class='ee-v'>EPSG:32635</span></li><li><details><summary>crs_transform: [30, 0, 222285, 0, -30, -1973385]</summary><ul><li><span class='ee-k'>0:</span><span class='ee-v'>30</span></li><li><span class='ee-k'>1:</span><span class='ee-v'>0</span></li><li><span class='ee-k'>2:</span><span class='ee-v'>222285</span></li><li><span class='ee-k'>3:</span><span class='ee-v'>0</span></li><li><span class='ee-k'>4:</span><span class='ee-v'>-30</span></li><li><span class='ee-k'>5:</span><span class='ee-v'>-1973385</span></li></ul></details></li><li><details><summary>data_type: signed int16</summary><ul><li><span class='ee-k'>type:</span><span class='ee-v'>PixelType</span></li><li><span class='ee-k'>max:</span><span class='ee-v'>32767</span></li><li><span class='ee-k'>min:</span><span class='ee-v'>-32768</span></li><li><span class='ee-k'>precision:</span><span class='ee-v'>int</span></li></ul></details></li><li><details><summary>dimensions: [8071, 6941]</summary><ul><li><span class='ee-k'>0:</span><span class='ee-v'>8071</span></li><li><span class='ee-k'>1:</span><span class='ee-v'>6941</span></li></ul></details></li></ul></details></li><li><details><summary>7: \"SR_CLOUD_QA\", unsigned int8, EPSG:32635, 8071x6941 px</summary><ul><li><span class='ee-k'>id:</span><span class='ee-v'>SR_CLOUD_QA</span></li><li><span class='ee-k'>crs:</span><span class='ee-v'>EPSG:32635</span></li><li><details><summary>crs_transform: [30, 0, 222285, 0, -30, -1973385]</summary><ul><li><span class='ee-k'>0:</span><span class='ee-v'>30</span></li><li><span class='ee-k'>1:</span><span class='ee-v'>0</span></li><li><span class='ee-k'>2:</span><span class='ee-v'>222285</span></li><li><span class='ee-k'>3:</span><span class='ee-v'>0</span></li><li><span class='ee-k'>4:</span><span class='ee-v'>-30</span></li><li><span class='ee-k'>5:</span><span class='ee-v'>-1973385</span></li></ul></details></li><li><details><summary>data_type: unsigned int8</summary><ul><li><span class='ee-k'>type:</span><span class='ee-v'>PixelType</span></li><li><span class='ee-k'>max:</span><span class='ee-v'>255</span></li><li><span class='ee-k'>min:</span><span class='ee-v'>0</span></li><li><span class='ee-k'>precision:</span><span class='ee-v'>int</span></li></ul></details></li><li><details><summary>dimensions: [8071, 6941]</summary><ul><li><span class='ee-k'>0:</span><span class='ee-v'>8071</span></li><li><span class='ee-k'>1:</span><span class='ee-v'>6941</span></li></ul></details></li></ul></details></li><li><details><summary>8: \"ST_B6\", unsigned int16, EPSG:32635, 8071x6941 px</summary><ul><li><span class='ee-k'>id:</span><span class='ee-v'>ST_B6</span></li><li><span class='ee-k'>crs:</span><span class='ee-v'>EPSG:32635</span></li><li><details><summary>crs_transform: [30, 0, 222285, 0, -30, -1973385]</summary><ul><li><span class='ee-k'>0:</span><span class='ee-v'>30</span></li><li><span class='ee-k'>1:</span><span class='ee-v'>0</span></li><li><span class='ee-k'>2:</span><span class='ee-v'>222285</span></li><li><span class='ee-k'>3:</span><span class='ee-v'>0</span></li><li><span class='ee-k'>4:</span><span class='ee-v'>-30</span></li><li><span class='ee-k'>5:</span><span class='ee-v'>-1973385</span></li></ul></details></li><li><details><summary>data_type: unsigned int16</summary><ul><li><span class='ee-k'>type:</span><span class='ee-v'>PixelType</span></li><li><span class='ee-k'>max:</span><span class='ee-v'>65535</span></li><li><span class='ee-k'>min:</span><span class='ee-v'>0</span></li><li><span class='ee-k'>precision:</span><span class='ee-v'>int</span></li></ul></details></li><li><details><summary>dimensions: [8071, 6941]</summary><ul><li><span class='ee-k'>0:</span><span class='ee-v'>8071</span></li><li><span class='ee-k'>1:</span><span class='ee-v'>6941</span></li></ul></details></li></ul></details></li><li><details><summary>9: \"ST_ATRAN\", signed int16, EPSG:32635, 8071x6941 px</summary><ul><li><span class='ee-k'>id:</span><span class='ee-v'>ST_ATRAN</span></li><li><span class='ee-k'>crs:</span><span class='ee-v'>EPSG:32635</span></li><li><details><summary>crs_transform: [30, 0, 222285, 0, -30, -1973385]</summary><ul><li><span class='ee-k'>0:</span><span class='ee-v'>30</span></li><li><span class='ee-k'>1:</span><span class='ee-v'>0</span></li><li><span class='ee-k'>2:</span><span class='ee-v'>222285</span></li><li><span class='ee-k'>3:</span><span class='ee-v'>0</span></li><li><span class='ee-k'>4:</span><span class='ee-v'>-30</span></li><li><span class='ee-k'>5:</span><span class='ee-v'>-1973385</span></li></ul></details></li><li><details><summary>data_type: signed int16</summary><ul><li><span class='ee-k'>type:</span><span class='ee-v'>PixelType</span></li><li><span class='ee-k'>max:</span><span class='ee-v'>32767</span></li><li><span class='ee-k'>min:</span><span class='ee-v'>-32768</span></li><li><span class='ee-k'>precision:</span><span class='ee-v'>int</span></li></ul></details></li><li><details><summary>dimensions: [8071, 6941]</summary><ul><li><span class='ee-k'>0:</span><span class='ee-v'>8071</span></li><li><span class='ee-k'>1:</span><span class='ee-v'>6941</span></li></ul></details></li></ul></details></li><li><details><summary>10: \"ST_CDIST\", signed int16, EPSG:32635, 8071x6941 px</summary><ul><li><span class='ee-k'>id:</span><span class='ee-v'>ST_CDIST</span></li><li><span class='ee-k'>crs:</span><span class='ee-v'>EPSG:32635</span></li><li><details><summary>crs_transform: [30, 0, 222285, 0, -30, -1973385]</summary><ul><li><span class='ee-k'>0:</span><span class='ee-v'>30</span></li><li><span class='ee-k'>1:</span><span class='ee-v'>0</span></li><li><span class='ee-k'>2:</span><span class='ee-v'>222285</span></li><li><span class='ee-k'>3:</span><span class='ee-v'>0</span></li><li><span class='ee-k'>4:</span><span class='ee-v'>-30</span></li><li><span class='ee-k'>5:</span><span class='ee-v'>-1973385</span></li></ul></details></li><li><details><summary>data_type: signed int16</summary><ul><li><span class='ee-k'>type:</span><span class='ee-v'>PixelType</span></li><li><span class='ee-k'>max:</span><span class='ee-v'>32767</span></li><li><span class='ee-k'>min:</span><span class='ee-v'>-32768</span></li><li><span class='ee-k'>precision:</span><span class='ee-v'>int</span></li></ul></details></li><li><details><summary>dimensions: [8071, 6941]</summary><ul><li><span class='ee-k'>0:</span><span class='ee-v'>8071</span></li><li><span class='ee-k'>1:</span><span class='ee-v'>6941</span></li></ul></details></li></ul></details></li><li><details><summary>11: \"ST_DRAD\", signed int16, EPSG:32635, 8071x6941 px</summary><ul><li><span class='ee-k'>id:</span><span class='ee-v'>ST_DRAD</span></li><li><span class='ee-k'>crs:</span><span class='ee-v'>EPSG:32635</span></li><li><details><summary>crs_transform: [30, 0, 222285, 0, -30, -1973385]</summary><ul><li><span class='ee-k'>0:</span><span class='ee-v'>30</span></li><li><span class='ee-k'>1:</span><span class='ee-v'>0</span></li><li><span class='ee-k'>2:</span><span class='ee-v'>222285</span></li><li><span class='ee-k'>3:</span><span class='ee-v'>0</span></li><li><span class='ee-k'>4:</span><span class='ee-v'>-30</span></li><li><span class='ee-k'>5:</span><span class='ee-v'>-1973385</span></li></ul></details></li><li><details><summary>data_type: signed int16</summary><ul><li><span class='ee-k'>type:</span><span class='ee-v'>PixelType</span></li><li><span class='ee-k'>max:</span><span class='ee-v'>32767</span></li><li><span class='ee-k'>min:</span><span class='ee-v'>-32768</span></li><li><span class='ee-k'>precision:</span><span class='ee-v'>int</span></li></ul></details></li><li><details><summary>dimensions: [8071, 6941]</summary><ul><li><span class='ee-k'>0:</span><span class='ee-v'>8071</span></li><li><span class='ee-k'>1:</span><span class='ee-v'>6941</span></li></ul></details></li></ul></details></li><li><details><summary>12: \"ST_EMIS\", signed int16, EPSG:32635, 8071x6941 px</summary><ul><li><span class='ee-k'>id:</span><span class='ee-v'>ST_EMIS</span></li><li><span class='ee-k'>crs:</span><span class='ee-v'>EPSG:32635</span></li><li><details><summary>crs_transform: [30, 0, 222285, 0, -30, -1973385]</summary><ul><li><span class='ee-k'>0:</span><span class='ee-v'>30</span></li><li><span class='ee-k'>1:</span><span class='ee-v'>0</span></li><li><span class='ee-k'>2:</span><span class='ee-v'>222285</span></li><li><span class='ee-k'>3:</span><span class='ee-v'>0</span></li><li><span class='ee-k'>4:</span><span class='ee-v'>-30</span></li><li><span class='ee-k'>5:</span><span class='ee-v'>-1973385</span></li></ul></details></li><li><details><summary>data_type: signed int16</summary><ul><li><span class='ee-k'>type:</span><span class='ee-v'>PixelType</span></li><li><span class='ee-k'>max:</span><span class='ee-v'>32767</span></li><li><span class='ee-k'>min:</span><span class='ee-v'>-32768</span></li><li><span class='ee-k'>precision:</span><span class='ee-v'>int</span></li></ul></details></li><li><details><summary>dimensions: [8071, 6941]</summary><ul><li><span class='ee-k'>0:</span><span class='ee-v'>8071</span></li><li><span class='ee-k'>1:</span><span class='ee-v'>6941</span></li></ul></details></li></ul></details></li><li><details><summary>13: \"ST_EMSD\", signed int16, EPSG:32635, 8071x6941 px</summary><ul><li><span class='ee-k'>id:</span><span class='ee-v'>ST_EMSD</span></li><li><span class='ee-k'>crs:</span><span class='ee-v'>EPSG:32635</span></li><li><details><summary>crs_transform: [30, 0, 222285, 0, -30, -1973385]</summary><ul><li><span class='ee-k'>0:</span><span class='ee-v'>30</span></li><li><span class='ee-k'>1:</span><span class='ee-v'>0</span></li><li><span class='ee-k'>2:</span><span class='ee-v'>222285</span></li><li><span class='ee-k'>3:</span><span class='ee-v'>0</span></li><li><span class='ee-k'>4:</span><span class='ee-v'>-30</span></li><li><span class='ee-k'>5:</span><span class='ee-v'>-1973385</span></li></ul></details></li><li><details><summary>data_type: signed int16</summary><ul><li><span class='ee-k'>type:</span><span class='ee-v'>PixelType</span></li><li><span class='ee-k'>max:</span><span class='ee-v'>32767</span></li><li><span class='ee-k'>min:</span><span class='ee-v'>-32768</span></li><li><span class='ee-k'>precision:</span><span class='ee-v'>int</span></li></ul></details></li><li><details><summary>dimensions: [8071, 6941]</summary><ul><li><span class='ee-k'>0:</span><span class='ee-v'>8071</span></li><li><span class='ee-k'>1:</span><span class='ee-v'>6941</span></li></ul></details></li></ul></details></li><li><details><summary>14: \"ST_QA\", signed int16, EPSG:32635, 8071x6941 px</summary><ul><li><span class='ee-k'>id:</span><span class='ee-v'>ST_QA</span></li><li><span class='ee-k'>crs:</span><span class='ee-v'>EPSG:32635</span></li><li><details><summary>crs_transform: [30, 0, 222285, 0, -30, -1973385]</summary><ul><li><span class='ee-k'>0:</span><span class='ee-v'>30</span></li><li><span class='ee-k'>1:</span><span class='ee-v'>0</span></li><li><span class='ee-k'>2:</span><span class='ee-v'>222285</span></li><li><span class='ee-k'>3:</span><span class='ee-v'>0</span></li><li><span class='ee-k'>4:</span><span class='ee-v'>-30</span></li><li><span class='ee-k'>5:</span><span class='ee-v'>-1973385</span></li></ul></details></li><li><details><summary>data_type: signed int16</summary><ul><li><span class='ee-k'>type:</span><span class='ee-v'>PixelType</span></li><li><span class='ee-k'>max:</span><span class='ee-v'>32767</span></li><li><span class='ee-k'>min:</span><span class='ee-v'>-32768</span></li><li><span class='ee-k'>precision:</span><span class='ee-v'>int</span></li></ul></details></li><li><details><summary>dimensions: [8071, 6941]</summary><ul><li><span class='ee-k'>0:</span><span class='ee-v'>8071</span></li><li><span class='ee-k'>1:</span><span class='ee-v'>6941</span></li></ul></details></li></ul></details></li><li><details><summary>15: \"ST_TRAD\", signed int16, EPSG:32635, 8071x6941 px</summary><ul><li><span class='ee-k'>id:</span><span class='ee-v'>ST_TRAD</span></li><li><span class='ee-k'>crs:</span><span class='ee-v'>EPSG:32635</span></li><li><details><summary>crs_transform: [30, 0, 222285, 0, -30, -1973385]</summary><ul><li><span class='ee-k'>0:</span><span class='ee-v'>30</span></li><li><span class='ee-k'>1:</span><span class='ee-v'>0</span></li><li><span class='ee-k'>2:</span><span class='ee-v'>222285</span></li><li><span class='ee-k'>3:</span><span class='ee-v'>0</span></li><li><span class='ee-k'>4:</span><span class='ee-v'>-30</span></li><li><span class='ee-k'>5:</span><span class='ee-v'>-1973385</span></li></ul></details></li><li><details><summary>data_type: signed int16</summary><ul><li><span class='ee-k'>type:</span><span class='ee-v'>PixelType</span></li><li><span class='ee-k'>max:</span><span class='ee-v'>32767</span></li><li><span class='ee-k'>min:</span><span class='ee-v'>-32768</span></li><li><span class='ee-k'>precision:</span><span class='ee-v'>int</span></li></ul></details></li><li><details><summary>dimensions: [8071, 6941]</summary><ul><li><span class='ee-k'>0:</span><span class='ee-v'>8071</span></li><li><span class='ee-k'>1:</span><span class='ee-v'>6941</span></li></ul></details></li></ul></details></li><li><details><summary>16: \"ST_URAD\", signed int16, EPSG:32635, 8071x6941 px</summary><ul><li><span class='ee-k'>id:</span><span class='ee-v'>ST_URAD</span></li><li><span class='ee-k'>crs:</span><span class='ee-v'>EPSG:32635</span></li><li><details><summary>crs_transform: [30, 0, 222285, 0, -30, -1973385]</summary><ul><li><span class='ee-k'>0:</span><span class='ee-v'>30</span></li><li><span class='ee-k'>1:</span><span class='ee-v'>0</span></li><li><span class='ee-k'>2:</span><span class='ee-v'>222285</span></li><li><span class='ee-k'>3:</span><span class='ee-v'>0</span></li><li><span class='ee-k'>4:</span><span class='ee-v'>-30</span></li><li><span class='ee-k'>5:</span><span class='ee-v'>-1973385</span></li></ul></details></li><li><details><summary>data_type: signed int16</summary><ul><li><span class='ee-k'>type:</span><span class='ee-v'>PixelType</span></li><li><span class='ee-k'>max:</span><span class='ee-v'>32767</span></li><li><span class='ee-k'>min:</span><span class='ee-v'>-32768</span></li><li><span class='ee-k'>precision:</span><span class='ee-v'>int</span></li></ul></details></li><li><details><summary>dimensions: [8071, 6941]</summary><ul><li><span class='ee-k'>0:</span><span class='ee-v'>8071</span></li><li><span class='ee-k'>1:</span><span class='ee-v'>6941</span></li></ul></details></li></ul></details></li><li><details><summary>17: \"QA_PIXEL\", unsigned int16, EPSG:32635, 8071x6941 px</summary><ul><li><span class='ee-k'>id:</span><span class='ee-v'>QA_PIXEL</span></li><li><span class='ee-k'>crs:</span><span class='ee-v'>EPSG:32635</span></li><li><details><summary>crs_transform: [30, 0, 222285, 0, -30, -1973385]</summary><ul><li><span class='ee-k'>0:</span><span class='ee-v'>30</span></li><li><span class='ee-k'>1:</span><span class='ee-v'>0</span></li><li><span class='ee-k'>2:</span><span class='ee-v'>222285</span></li><li><span class='ee-k'>3:</span><span class='ee-v'>0</span></li><li><span class='ee-k'>4:</span><span class='ee-v'>-30</span></li><li><span class='ee-k'>5:</span><span class='ee-v'>-1973385</span></li></ul></details></li><li><details><summary>data_type: unsigned int16</summary><ul><li><span class='ee-k'>type:</span><span class='ee-v'>PixelType</span></li><li><span class='ee-k'>max:</span><span class='ee-v'>65535</span></li><li><span class='ee-k'>min:</span><span class='ee-v'>0</span></li><li><span class='ee-k'>precision:</span><span class='ee-v'>int</span></li></ul></details></li><li><details><summary>dimensions: [8071, 6941]</summary><ul><li><span class='ee-k'>0:</span><span class='ee-v'>8071</span></li><li><span class='ee-k'>1:</span><span class='ee-v'>6941</span></li></ul></details></li></ul></details></li><li><details><summary>18: \"QA_RADSAT\", unsigned int16, EPSG:32635, 8071x6941 px</summary><ul><li><span class='ee-k'>id:</span><span class='ee-v'>QA_RADSAT</span></li><li><span class='ee-k'>crs:</span><span class='ee-v'>EPSG:32635</span></li><li><details><summary>crs_transform: [30, 0, 222285, 0, -30, -1973385]</summary><ul><li><span class='ee-k'>0:</span><span class='ee-v'>30</span></li><li><span class='ee-k'>1:</span><span class='ee-v'>0</span></li><li><span class='ee-k'>2:</span><span class='ee-v'>222285</span></li><li><span class='ee-k'>3:</span><span class='ee-v'>0</span></li><li><span class='ee-k'>4:</span><span class='ee-v'>-30</span></li><li><span class='ee-k'>5:</span><span class='ee-v'>-1973385</span></li></ul></details></li><li><details><summary>data_type: unsigned int16</summary><ul><li><span class='ee-k'>type:</span><span class='ee-v'>PixelType</span></li><li><span class='ee-k'>max:</span><span class='ee-v'>65535</span></li><li><span class='ee-k'>min:</span><span class='ee-v'>0</span></li><li><span class='ee-k'>precision:</span><span class='ee-v'>int</span></li></ul></details></li><li><details><summary>dimensions: [8071, 6941]</summary><ul><li><span class='ee-k'>0:</span><span class='ee-v'>8071</span></li><li><span class='ee-k'>1:</span><span class='ee-v'>6941</span></li></ul></details></li></ul></details></li></ul></details></li><li><details><summary>properties: Object (130 properties)</summary><ul><li><span class='ee-k'>ALGORITHM_SOURCE_SURFACE_REFLECTANCE:</span><span class='ee-v'>LEDAPS_3.4.0</span></li><li><span class='ee-k'>ALGORITHM_SOURCE_SURFACE_TEMPERATURE:</span><span class='ee-v'>st_1.3.0</span></li><li><span class='ee-k'>CLOUD_COVER:</span><span class='ee-v'>0</span></li><li><span class='ee-k'>CLOUD_COVER_LAND:</span><span class='ee-v'>0</span></li><li><span class='ee-k'>COLLECTION_CATEGORY:</span><span class='ee-v'>T1</span></li><li><span class='ee-k'>COLLECTION_NUMBER:</span><span class='ee-v'>2</span></li><li><span class='ee-k'>CORRECTION_BIAS_BAND_1:</span><span class='ee-v'>INTERNAL_CALIBRATION</span></li><li><span class='ee-k'>CORRECTION_BIAS_BAND_2:</span><span class='ee-v'>INTERNAL_CALIBRATION</span></li><li><span class='ee-k'>CORRECTION_BIAS_BAND_3:</span><span class='ee-v'>INTERNAL_CALIBRATION</span></li><li><span class='ee-k'>CORRECTION_BIAS_BAND_4:</span><span class='ee-v'>INTERNAL_CALIBRATION</span></li><li><span class='ee-k'>CORRECTION_BIAS_BAND_5:</span><span class='ee-v'>INTERNAL_CALIBRATION</span></li><li><span class='ee-k'>CORRECTION_BIAS_BAND_6_VCID_1:</span><span class='ee-v'>INTERNAL_CALIBRATION</span></li><li><span class='ee-k'>CORRECTION_BIAS_BAND_6_VCID_2:</span><span class='ee-v'>INTERNAL_CALIBRATION</span></li><li><span class='ee-k'>CORRECTION_BIAS_BAND_7:</span><span class='ee-v'>INTERNAL_CALIBRATION</span></li><li><span class='ee-k'>CORRECTION_BIAS_BAND_8:</span><span class='ee-v'>INTERNAL_CALIBRATION</span></li><li><span class='ee-k'>CORRECTION_GAIN_BAND_1:</span><span class='ee-v'>CPF</span></li><li><span class='ee-k'>CORRECTION_GAIN_BAND_2:</span><span class='ee-v'>CPF</span></li><li><span class='ee-k'>CORRECTION_GAIN_BAND_3:</span><span class='ee-v'>CPF</span></li><li><span class='ee-k'>CORRECTION_GAIN_BAND_4:</span><span class='ee-v'>CPF</span></li><li><span class='ee-k'>CORRECTION_GAIN_BAND_5:</span><span class='ee-v'>CPF</span></li><li><span class='ee-k'>CORRECTION_GAIN_BAND_6_VCID_1:</span><span class='ee-v'>CPF</span></li><li><span class='ee-k'>CORRECTION_GAIN_BAND_6_VCID_2:</span><span class='ee-v'>CPF</span></li><li><span class='ee-k'>CORRECTION_GAIN_BAND_7:</span><span class='ee-v'>CPF</span></li><li><span class='ee-k'>CORRECTION_GAIN_BAND_8:</span><span class='ee-v'>CPF</span></li><li><span class='ee-k'>DATA_SOURCE_AIR_TEMPERATURE:</span><span class='ee-v'>NCEP</span></li><li><span class='ee-k'>DATA_SOURCE_ELEVATION:</span><span class='ee-v'>GLS2000</span></li><li><span class='ee-k'>DATA_SOURCE_OZONE:</span><span class='ee-v'>TOMS</span></li><li><span class='ee-k'>DATA_SOURCE_PRESSURE:</span><span class='ee-v'>NCEP</span></li><li><span class='ee-k'>DATA_SOURCE_REANALYSIS:</span><span class='ee-v'>GEOS-5 FP-IT</span></li><li><span class='ee-k'>DATA_SOURCE_WATER_VAPOR:</span><span class='ee-v'>NCEP</span></li><li><span class='ee-k'>DATE_ACQUIRED:</span><span class='ee-v'>2017-11-05</span></li><li><span class='ee-k'>DATE_PRODUCT_GENERATED:</span><span class='ee-v'>1598805924000</span></li><li><span class='ee-k'>DATUM:</span><span class='ee-v'>WGS84</span></li><li><span class='ee-k'>EARTH_SUN_DISTANCE:</span><span class='ee-v'>0.991478</span></li><li><span class='ee-k'>ELLIPSOID:</span><span class='ee-v'>WGS84</span></li><li><span class='ee-k'>EPHEMERIS_TYPE:</span><span class='ee-v'>DEFINITIVE</span></li><li><span class='ee-k'>GAIN_BAND_1:</span><span class='ee-v'>H</span></li><li><span class='ee-k'>GAIN_BAND_2:</span><span class='ee-v'>H</span></li><li><span class='ee-k'>GAIN_BAND_3:</span><span class='ee-v'>H</span></li><li><span class='ee-k'>GAIN_BAND_4:</span><span class='ee-v'>L</span></li><li><span class='ee-k'>GAIN_BAND_5:</span><span class='ee-v'>H</span></li><li><span class='ee-k'>GAIN_BAND_6_VCID_1:</span><span class='ee-v'>L</span></li><li><span class='ee-k'>GAIN_BAND_6_VCID_2:</span><span class='ee-v'>H</span></li><li><span class='ee-k'>GAIN_BAND_7:</span><span class='ee-v'>H</span></li><li><span class='ee-k'>GAIN_BAND_8:</span><span class='ee-v'>L</span></li><li><span class='ee-k'>GAIN_CHANGE_BAND_1:</span><span class='ee-v'>HH</span></li><li><span class='ee-k'>GAIN_CHANGE_BAND_2:</span><span class='ee-v'>HH</span></li><li><span class='ee-k'>GAIN_CHANGE_BAND_3:</span><span class='ee-v'>HH</span></li><li><span class='ee-k'>GAIN_CHANGE_BAND_4:</span><span class='ee-v'>LL</span></li><li><span class='ee-k'>GAIN_CHANGE_BAND_5:</span><span class='ee-v'>HH</span></li><li><span class='ee-k'>GAIN_CHANGE_BAND_6_VCID_1:</span><span class='ee-v'>LL</span></li><li><span class='ee-k'>GAIN_CHANGE_BAND_6_VCID_2:</span><span class='ee-v'>HH</span></li><li><span class='ee-k'>GAIN_CHANGE_BAND_7:</span><span class='ee-v'>HH</span></li><li><span class='ee-k'>GAIN_CHANGE_BAND_8:</span><span class='ee-v'>LL</span></li><li><span class='ee-k'>GAIN_CHANGE_SCAN_BAND_1:</span><span class='ee-v'>0</span></li><li><span class='ee-k'>GAIN_CHANGE_SCAN_BAND_2:</span><span class='ee-v'>0</span></li><li><span class='ee-k'>GAIN_CHANGE_SCAN_BAND_3:</span><span class='ee-v'>0</span></li><li><span class='ee-k'>GAIN_CHANGE_SCAN_BAND_4:</span><span class='ee-v'>0</span></li><li><span class='ee-k'>GAIN_CHANGE_SCAN_BAND_5:</span><span class='ee-v'>0</span></li><li><span class='ee-k'>GAIN_CHANGE_SCAN_BAND_6_VCID_1:</span><span class='ee-v'>0</span></li><li><span class='ee-k'>GAIN_CHANGE_SCAN_BAND_6_VCID_2:</span><span class='ee-v'>0</span></li><li><span class='ee-k'>GAIN_CHANGE_SCAN_BAND_7:</span><span class='ee-v'>0</span></li><li><span class='ee-k'>GAIN_CHANGE_SCAN_BAND_8:</span><span class='ee-v'>0</span></li><li><span class='ee-k'>GEOMETRIC_RMSE_MODEL:</span><span class='ee-v'>5.356</span></li><li><span class='ee-k'>GEOMETRIC_RMSE_MODEL_X:</span><span class='ee-v'>3.427</span></li><li><span class='ee-k'>GEOMETRIC_RMSE_MODEL_Y:</span><span class='ee-v'>4.116</span></li><li><span class='ee-k'>GRID_CELL_SIZE_REFLECTIVE:</span><span class='ee-v'>30</span></li><li><span class='ee-k'>GRID_CELL_SIZE_THERMAL:</span><span class='ee-v'>30</span></li><li><span class='ee-k'>GROUND_CONTROL_POINTS_MODEL:</span><span class='ee-v'>509</span></li><li><span class='ee-k'>GROUND_CONTROL_POINTS_VERSION:</span><span class='ee-v'>5</span></li><li><span class='ee-k'>IMAGE_QUALITY:</span><span class='ee-v'>9</span></li><li><span class='ee-k'>L1_DATE_PRODUCT_GENERATED:</span><span class='ee-v'>2020-08-30T16:32:30Z</span></li><li><span class='ee-k'>L1_LANDSAT_PRODUCT_ID:</span><span class='ee-v'>LE07_L1TP_173073_20171105_20200830_02_T1</span></li><li><span class='ee-k'>L1_PROCESSING_LEVEL:</span><span class='ee-v'>L1TP</span></li><li><span class='ee-k'>L1_PROCESSING_SOFTWARE_VERSION:</span><span class='ee-v'>LPGS_15.3.1c</span></li><li><span class='ee-k'>L1_REQUEST_ID:</span><span class='ee-v'>L2</span></li><li><span class='ee-k'>LANDSAT_PRODUCT_ID:</span><span class='ee-v'>LE07_L2SP_173073_20171105_20200830_02_T1</span></li><li><span class='ee-k'>LANDSAT_SCENE_ID:</span><span class='ee-v'>LE71730732017309SG100</span></li><li><span class='ee-k'>MAP_PROJECTION:</span><span class='ee-v'>UTM</span></li><li><span class='ee-k'>ORIENTATION:</span><span class='ee-v'>NORTH_UP</span></li><li><span class='ee-k'>PROCESSING_LEVEL:</span><span class='ee-v'>L2SP</span></li><li><span class='ee-k'>PROCESSING_SOFTWARE_VERSION:</span><span class='ee-v'>LPGS_15.3.1c</span></li><li><span class='ee-k'>REFLECTANCE_ADD_BAND_1:</span><span class='ee-v'>-0.2</span></li><li><span class='ee-k'>REFLECTANCE_ADD_BAND_2:</span><span class='ee-v'>-0.2</span></li><li><span class='ee-k'>REFLECTANCE_ADD_BAND_3:</span><span class='ee-v'>-0.2</span></li><li><span class='ee-k'>REFLECTANCE_ADD_BAND_4:</span><span class='ee-v'>-0.2</span></li><li><span class='ee-k'>REFLECTANCE_ADD_BAND_5:</span><span class='ee-v'>-0.2</span></li><li><span class='ee-k'>REFLECTANCE_ADD_BAND_7:</span><span class='ee-v'>-0.2</span></li><li><span class='ee-k'>REFLECTANCE_MULT_BAND_1:</span><span class='ee-v'>2.75e-05</span></li><li><span class='ee-k'>REFLECTANCE_MULT_BAND_2:</span><span class='ee-v'>2.75e-05</span></li><li><span class='ee-k'>REFLECTANCE_MULT_BAND_3:</span><span class='ee-v'>2.75e-05</span></li><li><span class='ee-k'>REFLECTANCE_MULT_BAND_4:</span><span class='ee-v'>2.75e-05</span></li><li><span class='ee-k'>REFLECTANCE_MULT_BAND_5:</span><span class='ee-v'>2.75e-05</span></li><li><span class='ee-k'>REFLECTANCE_MULT_BAND_7:</span><span class='ee-v'>2.75e-05</span></li><li><span class='ee-k'>REFLECTIVE_LINES:</span><span class='ee-v'>6941</span></li><li><span class='ee-k'>REFLECTIVE_SAMPLES:</span><span class='ee-v'>8071</span></li><li><span class='ee-k'>REQUEST_ID:</span><span class='ee-v'>L2</span></li><li><span class='ee-k'>SATURATION_BAND_1:</span><span class='ee-v'>Y</span></li><li><span class='ee-k'>SATURATION_BAND_2:</span><span class='ee-v'>Y</span></li><li><span class='ee-k'>SATURATION_BAND_3:</span><span class='ee-v'>Y</span></li><li><span class='ee-k'>SATURATION_BAND_4:</span><span class='ee-v'>N</span></li><li><span class='ee-k'>SATURATION_BAND_5:</span><span class='ee-v'>Y</span></li><li><span class='ee-k'>SATURATION_BAND_6_VCID_1:</span><span class='ee-v'>N</span></li><li><span class='ee-k'>SATURATION_BAND_6_VCID_2:</span><span class='ee-v'>Y</span></li><li><span class='ee-k'>SATURATION_BAND_7:</span><span class='ee-v'>Y</span></li><li><span class='ee-k'>SATURATION_BAND_8:</span><span class='ee-v'>N</span></li><li><span class='ee-k'>SCENE_CENTER_TIME:</span><span class='ee-v'>08:21:29.9532036Z</span></li><li><span class='ee-k'>SENSOR_ANOMALIES:</span><span class='ee-v'>NONE</span></li><li><span class='ee-k'>SENSOR_ID:</span><span class='ee-v'>ETM</span></li><li><span class='ee-k'>SENSOR_MODE:</span><span class='ee-v'>BUMPER</span></li><li><span class='ee-k'>SENSOR_MODE_SLC:</span><span class='ee-v'>OFF</span></li><li><span class='ee-k'>SPACECRAFT_ID:</span><span class='ee-v'>LANDSAT_7</span></li><li><span class='ee-k'>STATION_ID:</span><span class='ee-v'>SG1</span></li><li><span class='ee-k'>SUN_AZIMUTH:</span><span class='ee-v'>86.68226251</span></li><li><span class='ee-k'>SUN_ELEVATION:</span><span class='ee-v'>65.94852015</span></li><li><span class='ee-k'>TEMPERATURE_ADD_BAND_ST_B6:</span><span class='ee-v'>149</span></li><li><span class='ee-k'>TEMPERATURE_MAXIMUM_BAND_ST_B6:</span><span class='ee-v'>372.999941</span></li><li><span class='ee-k'>TEMPERATURE_MINIMUM_BAND_ST_B6:</span><span class='ee-v'>149.003418</span></li><li><span class='ee-k'>TEMPERATURE_MULT_BAND_ST_B6:</span><span class='ee-v'>0.00341802</span></li><li><span class='ee-k'>THERMAL_LINES:</span><span class='ee-v'>6941</span></li><li><span class='ee-k'>THERMAL_SAMPLES:</span><span class='ee-v'>8071</span></li><li><span class='ee-k'>UTM_ZONE:</span><span class='ee-v'>35</span></li><li><span class='ee-k'>WRS_PATH:</span><span class='ee-v'>173</span></li><li><span class='ee-k'>WRS_ROW:</span><span class='ee-v'>73</span></li><li><span class='ee-k'>WRS_TYPE:</span><span class='ee-v'>2</span></li><li><span class='ee-k'>system:asset_size:</span><span class='ee-v'>512375798</span></li><li><details><summary>system:footprint: LinearRing (21 vertices)</summary><ul><li><span class='ee-k'>type:</span><span class='ee-v'>LinearRing</span></li><li><details><summary>coordinates: List (21 elements)</summary><ul><li><details><summary>0: [26.605081225480134, -18.1064415737857]</summary><ul><li><span class='ee-k'>0:</span><span class='ee-v'>26.605081225480134</span></li><li><span class='ee-k'>1:</span><span class='ee-v'>-18.1064415737857</span></li></ul></details></li><li><details><summary>1: [26.56333349524401, -18.10064650802036]</summary><ul><li><span class='ee-k'>0:</span><span class='ee-v'>26.56333349524401</span></li><li><span class='ee-k'>1:</span><span class='ee-v'>-18.10064650802036</span></li></ul></details></li><li><details><summary>2: [26.428146534564636, -18.08185501764783]</summary><ul><li><span class='ee-k'>0:</span><span class='ee-v'>26.428146534564636</span></li><li><span class='ee-k'>1:</span><span class='ee-v'>-18.08185501764783</span></li></ul></details></li><li><details><summary>3: [24.79897403942579, -17.84773954695583]</summary><ul><li><span class='ee-k'>0:</span><span class='ee-v'>24.79897403942579</span></li><li><span class='ee-k'>1:</span><span class='ee-v'>-17.84773954695583</span></li></ul></details></li><li><details><summary>4: [24.797571048692596, -17.849379053772402]</summary><ul><li><span class='ee-k'>0:</span><span class='ee-v'>24.797571048692596</span></li><li><span class='ee-k'>1:</span><span class='ee-v'>-17.849379053772402</span></li></ul></details></li><li><details><summary>5: [24.793218762507312, -17.855071075626]</summary><ul><li><span class='ee-k'>0:</span><span class='ee-v'>24.793218762507312</span></li><li><span class='ee-k'>1:</span><span class='ee-v'>-17.855071075626</span></li></ul></details></li><li><details><summary>6: [24.78456982267433, -17.88971506748004]</summary><ul><li><span class='ee-k'>0:</span><span class='ee-v'>24.78456982267433</span></li><li><span class='ee-k'>1:</span><span class='ee-v'>-17.88971506748004</span></li></ul></details></li><li><details><summary>7: [24.627880907547695, -18.551193444570263]</summary><ul><li><span class='ee-k'>0:</span><span class='ee-v'>24.627880907547695</span></li><li><span class='ee-k'>1:</span><span class='ee-v'>-18.551193444570263</span></li></ul></details></li><li><details><summary>8: [24.467297967138034, -19.237522574252484]</summary><ul><li><span class='ee-k'>0:</span><span class='ee-v'>24.467297967138034</span></li><li><span class='ee-k'>1:</span><span class='ee-v'>-19.237522574252484</span></li></ul></details></li><li><details><summary>9: [24.41897532191358, -19.443884223988434]</summary><ul><li><span class='ee-k'>0:</span><span class='ee-v'>24.41897532191358</span></li><li><span class='ee-k'>1:</span><span class='ee-v'>-19.443884223988434</span></li></ul></details></li><li><details><summary>10: [24.42261789714435, -19.45625913947156]</summary><ul><li><span class='ee-k'>0:</span><span class='ee-v'>24.42261789714435</span></li><li><span class='ee-k'>1:</span><span class='ee-v'>-19.45625913947156</span></li></ul></details></li><li><details><summary>11: [24.504896207042684, -19.468463917610723]</summary><ul><li><span class='ee-k'>0:</span><span class='ee-v'>24.504896207042684</span></li><li><span class='ee-k'>1:</span><span class='ee-v'>-19.468463917610723</span></li></ul></details></li><li><details><summary>12: [24.750547520098056, -19.504643967906677]</summary><ul><li><span class='ee-k'>0:</span><span class='ee-v'>24.750547520098056</span></li><li><span class='ee-k'>1:</span><span class='ee-v'>-19.504643967906677</span></li></ul></details></li><li><details><summary>13: [25.424049810198934, -19.602020549613616]</summary><ul><li><span class='ee-k'>0:</span><span class='ee-v'>25.424049810198934</span></li><li><span class='ee-k'>1:</span><span class='ee-v'>-19.602020549613616</span></li></ul></details></li><li><details><summary>14: [26.232862711697322, -19.715512853655476]</summary><ul><li><span class='ee-k'>0:</span><span class='ee-v'>26.232862711697322</span></li><li><span class='ee-k'>1:</span><span class='ee-v'>-19.715512853655476</span></li></ul></details></li><li><details><summary>15: [26.244730477991965, -19.717125141474416]</summary><ul><li><span class='ee-k'>0:</span><span class='ee-v'>26.244730477991965</span></li><li><span class='ee-k'>1:</span><span class='ee-v'>-19.717125141474416</span></li></ul></details></li><li><details><summary>16: [26.253988701039756, -19.717163918359415]</summary><ul><li><span class='ee-k'>0:</span><span class='ee-v'>26.253988701039756</span></li><li><span class='ee-k'>1:</span><span class='ee-v'>-19.717163918359415</span></li></ul></details></li><li><details><summary>17: [26.257609907578807, -19.715183562709257]</summary><ul><li><span class='ee-k'>0:</span><span class='ee-v'>26.257609907578807</span></li><li><span class='ee-k'>1:</span><span class='ee-v'>-19.715183562709257</span></li></ul></details></li><li><details><summary>18: [26.61170373691996, -18.132253787433037]</summary><ul><li><span class='ee-k'>0:</span><span class='ee-v'>26.61170373691996</span></li><li><span class='ee-k'>1:</span><span class='ee-v'>-18.132253787433037</span></li></ul></details></li><li><details><summary>19: [26.615462235109906, -18.1147496003941]</summary><ul><li><span class='ee-k'>0:</span><span class='ee-v'>26.615462235109906</span></li><li><span class='ee-k'>1:</span><span class='ee-v'>-18.1147496003941</span></li></ul></details></li><li><details><summary>20: [26.605081225480134, -18.1064415737857]</summary><ul><li><span class='ee-k'>0:</span><span class='ee-v'>26.605081225480134</span></li><li><span class='ee-k'>1:</span><span class='ee-v'>-18.1064415737857</span></li></ul></details></li></ul></details></li></ul></details></li><li><span class='ee-k'>system:index:</span><span class='ee-v'>LE07_173073_20171105</span></li><li><span class='ee-k'>system:time_end:</span><span class='ee-v'>1509870089953</span></li><li><span class='ee-k'>system:time_start:</span><span class='ee-v'>1509870089953</span></li></ul></details></li></ul></details></li><li><details><summary>14: Image LANDSAT/LE07/C02/T1_L2/LE07_173073_20171121 (19 bands)</summary><ul><li><span class='ee-k'>type:</span><span class='ee-v'>Image</span></li><li><span class='ee-k'>id:</span><span class='ee-v'>LANDSAT/LE07/C02/T1_L2/LE07_173073_20171121</span></li><li><span class='ee-k'>version:</span><span class='ee-v'>1624536971758017</span></li><li><details><summary>bands: List (19 elements)</summary><ul><li><details><summary>0: \"SR_B1\", unsigned int16, EPSG:32635, 8081x6931 px</summary><ul><li><span class='ee-k'>id:</span><span class='ee-v'>SR_B1</span></li><li><span class='ee-k'>crs:</span><span class='ee-v'>EPSG:32635</span></li><li><details><summary>crs_transform: [30, 0, 221685, 0, -30, -1973385]</summary><ul><li><span class='ee-k'>0:</span><span class='ee-v'>30</span></li><li><span class='ee-k'>1:</span><span class='ee-v'>0</span></li><li><span class='ee-k'>2:</span><span class='ee-v'>221685</span></li><li><span class='ee-k'>3:</span><span class='ee-v'>0</span></li><li><span class='ee-k'>4:</span><span class='ee-v'>-30</span></li><li><span class='ee-k'>5:</span><span class='ee-v'>-1973385</span></li></ul></details></li><li><details><summary>data_type: unsigned int16</summary><ul><li><span class='ee-k'>type:</span><span class='ee-v'>PixelType</span></li><li><span class='ee-k'>max:</span><span class='ee-v'>65535</span></li><li><span class='ee-k'>min:</span><span class='ee-v'>0</span></li><li><span class='ee-k'>precision:</span><span class='ee-v'>int</span></li></ul></details></li><li><details><summary>dimensions: [8081, 6931]</summary><ul><li><span class='ee-k'>0:</span><span class='ee-v'>8081</span></li><li><span class='ee-k'>1:</span><span class='ee-v'>6931</span></li></ul></details></li></ul></details></li><li><details><summary>1: \"SR_B2\", unsigned int16, EPSG:32635, 8081x6931 px</summary><ul><li><span class='ee-k'>id:</span><span class='ee-v'>SR_B2</span></li><li><span class='ee-k'>crs:</span><span class='ee-v'>EPSG:32635</span></li><li><details><summary>crs_transform: [30, 0, 221685, 0, -30, -1973385]</summary><ul><li><span class='ee-k'>0:</span><span class='ee-v'>30</span></li><li><span class='ee-k'>1:</span><span class='ee-v'>0</span></li><li><span class='ee-k'>2:</span><span class='ee-v'>221685</span></li><li><span class='ee-k'>3:</span><span class='ee-v'>0</span></li><li><span class='ee-k'>4:</span><span class='ee-v'>-30</span></li><li><span class='ee-k'>5:</span><span class='ee-v'>-1973385</span></li></ul></details></li><li><details><summary>data_type: unsigned int16</summary><ul><li><span class='ee-k'>type:</span><span class='ee-v'>PixelType</span></li><li><span class='ee-k'>max:</span><span class='ee-v'>65535</span></li><li><span class='ee-k'>min:</span><span class='ee-v'>0</span></li><li><span class='ee-k'>precision:</span><span class='ee-v'>int</span></li></ul></details></li><li><details><summary>dimensions: [8081, 6931]</summary><ul><li><span class='ee-k'>0:</span><span class='ee-v'>8081</span></li><li><span class='ee-k'>1:</span><span class='ee-v'>6931</span></li></ul></details></li></ul></details></li><li><details><summary>2: \"SR_B3\", unsigned int16, EPSG:32635, 8081x6931 px</summary><ul><li><span class='ee-k'>id:</span><span class='ee-v'>SR_B3</span></li><li><span class='ee-k'>crs:</span><span class='ee-v'>EPSG:32635</span></li><li><details><summary>crs_transform: [30, 0, 221685, 0, -30, -1973385]</summary><ul><li><span class='ee-k'>0:</span><span class='ee-v'>30</span></li><li><span class='ee-k'>1:</span><span class='ee-v'>0</span></li><li><span class='ee-k'>2:</span><span class='ee-v'>221685</span></li><li><span class='ee-k'>3:</span><span class='ee-v'>0</span></li><li><span class='ee-k'>4:</span><span class='ee-v'>-30</span></li><li><span class='ee-k'>5:</span><span class='ee-v'>-1973385</span></li></ul></details></li><li><details><summary>data_type: unsigned int16</summary><ul><li><span class='ee-k'>type:</span><span class='ee-v'>PixelType</span></li><li><span class='ee-k'>max:</span><span class='ee-v'>65535</span></li><li><span class='ee-k'>min:</span><span class='ee-v'>0</span></li><li><span class='ee-k'>precision:</span><span class='ee-v'>int</span></li></ul></details></li><li><details><summary>dimensions: [8081, 6931]</summary><ul><li><span class='ee-k'>0:</span><span class='ee-v'>8081</span></li><li><span class='ee-k'>1:</span><span class='ee-v'>6931</span></li></ul></details></li></ul></details></li><li><details><summary>3: \"SR_B4\", unsigned int16, EPSG:32635, 8081x6931 px</summary><ul><li><span class='ee-k'>id:</span><span class='ee-v'>SR_B4</span></li><li><span class='ee-k'>crs:</span><span class='ee-v'>EPSG:32635</span></li><li><details><summary>crs_transform: [30, 0, 221685, 0, -30, -1973385]</summary><ul><li><span class='ee-k'>0:</span><span class='ee-v'>30</span></li><li><span class='ee-k'>1:</span><span class='ee-v'>0</span></li><li><span class='ee-k'>2:</span><span class='ee-v'>221685</span></li><li><span class='ee-k'>3:</span><span class='ee-v'>0</span></li><li><span class='ee-k'>4:</span><span class='ee-v'>-30</span></li><li><span class='ee-k'>5:</span><span class='ee-v'>-1973385</span></li></ul></details></li><li><details><summary>data_type: unsigned int16</summary><ul><li><span class='ee-k'>type:</span><span class='ee-v'>PixelType</span></li><li><span class='ee-k'>max:</span><span class='ee-v'>65535</span></li><li><span class='ee-k'>min:</span><span class='ee-v'>0</span></li><li><span class='ee-k'>precision:</span><span class='ee-v'>int</span></li></ul></details></li><li><details><summary>dimensions: [8081, 6931]</summary><ul><li><span class='ee-k'>0:</span><span class='ee-v'>8081</span></li><li><span class='ee-k'>1:</span><span class='ee-v'>6931</span></li></ul></details></li></ul></details></li><li><details><summary>4: \"SR_B5\", unsigned int16, EPSG:32635, 8081x6931 px</summary><ul><li><span class='ee-k'>id:</span><span class='ee-v'>SR_B5</span></li><li><span class='ee-k'>crs:</span><span class='ee-v'>EPSG:32635</span></li><li><details><summary>crs_transform: [30, 0, 221685, 0, -30, -1973385]</summary><ul><li><span class='ee-k'>0:</span><span class='ee-v'>30</span></li><li><span class='ee-k'>1:</span><span class='ee-v'>0</span></li><li><span class='ee-k'>2:</span><span class='ee-v'>221685</span></li><li><span class='ee-k'>3:</span><span class='ee-v'>0</span></li><li><span class='ee-k'>4:</span><span class='ee-v'>-30</span></li><li><span class='ee-k'>5:</span><span class='ee-v'>-1973385</span></li></ul></details></li><li><details><summary>data_type: unsigned int16</summary><ul><li><span class='ee-k'>type:</span><span class='ee-v'>PixelType</span></li><li><span class='ee-k'>max:</span><span class='ee-v'>65535</span></li><li><span class='ee-k'>min:</span><span class='ee-v'>0</span></li><li><span class='ee-k'>precision:</span><span class='ee-v'>int</span></li></ul></details></li><li><details><summary>dimensions: [8081, 6931]</summary><ul><li><span class='ee-k'>0:</span><span class='ee-v'>8081</span></li><li><span class='ee-k'>1:</span><span class='ee-v'>6931</span></li></ul></details></li></ul></details></li><li><details><summary>5: \"SR_B7\", unsigned int16, EPSG:32635, 8081x6931 px</summary><ul><li><span class='ee-k'>id:</span><span class='ee-v'>SR_B7</span></li><li><span class='ee-k'>crs:</span><span class='ee-v'>EPSG:32635</span></li><li><details><summary>crs_transform: [30, 0, 221685, 0, -30, -1973385]</summary><ul><li><span class='ee-k'>0:</span><span class='ee-v'>30</span></li><li><span class='ee-k'>1:</span><span class='ee-v'>0</span></li><li><span class='ee-k'>2:</span><span class='ee-v'>221685</span></li><li><span class='ee-k'>3:</span><span class='ee-v'>0</span></li><li><span class='ee-k'>4:</span><span class='ee-v'>-30</span></li><li><span class='ee-k'>5:</span><span class='ee-v'>-1973385</span></li></ul></details></li><li><details><summary>data_type: unsigned int16</summary><ul><li><span class='ee-k'>type:</span><span class='ee-v'>PixelType</span></li><li><span class='ee-k'>max:</span><span class='ee-v'>65535</span></li><li><span class='ee-k'>min:</span><span class='ee-v'>0</span></li><li><span class='ee-k'>precision:</span><span class='ee-v'>int</span></li></ul></details></li><li><details><summary>dimensions: [8081, 6931]</summary><ul><li><span class='ee-k'>0:</span><span class='ee-v'>8081</span></li><li><span class='ee-k'>1:</span><span class='ee-v'>6931</span></li></ul></details></li></ul></details></li><li><details><summary>6: \"SR_ATMOS_OPACITY\", signed int16, EPSG:32635, 8081x6931 px</summary><ul><li><span class='ee-k'>id:</span><span class='ee-v'>SR_ATMOS_OPACITY</span></li><li><span class='ee-k'>crs:</span><span class='ee-v'>EPSG:32635</span></li><li><details><summary>crs_transform: [30, 0, 221685, 0, -30, -1973385]</summary><ul><li><span class='ee-k'>0:</span><span class='ee-v'>30</span></li><li><span class='ee-k'>1:</span><span class='ee-v'>0</span></li><li><span class='ee-k'>2:</span><span class='ee-v'>221685</span></li><li><span class='ee-k'>3:</span><span class='ee-v'>0</span></li><li><span class='ee-k'>4:</span><span class='ee-v'>-30</span></li><li><span class='ee-k'>5:</span><span class='ee-v'>-1973385</span></li></ul></details></li><li><details><summary>data_type: signed int16</summary><ul><li><span class='ee-k'>type:</span><span class='ee-v'>PixelType</span></li><li><span class='ee-k'>max:</span><span class='ee-v'>32767</span></li><li><span class='ee-k'>min:</span><span class='ee-v'>-32768</span></li><li><span class='ee-k'>precision:</span><span class='ee-v'>int</span></li></ul></details></li><li><details><summary>dimensions: [8081, 6931]</summary><ul><li><span class='ee-k'>0:</span><span class='ee-v'>8081</span></li><li><span class='ee-k'>1:</span><span class='ee-v'>6931</span></li></ul></details></li></ul></details></li><li><details><summary>7: \"SR_CLOUD_QA\", unsigned int8, EPSG:32635, 8081x6931 px</summary><ul><li><span class='ee-k'>id:</span><span class='ee-v'>SR_CLOUD_QA</span></li><li><span class='ee-k'>crs:</span><span class='ee-v'>EPSG:32635</span></li><li><details><summary>crs_transform: [30, 0, 221685, 0, -30, -1973385]</summary><ul><li><span class='ee-k'>0:</span><span class='ee-v'>30</span></li><li><span class='ee-k'>1:</span><span class='ee-v'>0</span></li><li><span class='ee-k'>2:</span><span class='ee-v'>221685</span></li><li><span class='ee-k'>3:</span><span class='ee-v'>0</span></li><li><span class='ee-k'>4:</span><span class='ee-v'>-30</span></li><li><span class='ee-k'>5:</span><span class='ee-v'>-1973385</span></li></ul></details></li><li><details><summary>data_type: unsigned int8</summary><ul><li><span class='ee-k'>type:</span><span class='ee-v'>PixelType</span></li><li><span class='ee-k'>max:</span><span class='ee-v'>255</span></li><li><span class='ee-k'>min:</span><span class='ee-v'>0</span></li><li><span class='ee-k'>precision:</span><span class='ee-v'>int</span></li></ul></details></li><li><details><summary>dimensions: [8081, 6931]</summary><ul><li><span class='ee-k'>0:</span><span class='ee-v'>8081</span></li><li><span class='ee-k'>1:</span><span class='ee-v'>6931</span></li></ul></details></li></ul></details></li><li><details><summary>8: \"ST_B6\", unsigned int16, EPSG:32635, 8081x6931 px</summary><ul><li><span class='ee-k'>id:</span><span class='ee-v'>ST_B6</span></li><li><span class='ee-k'>crs:</span><span class='ee-v'>EPSG:32635</span></li><li><details><summary>crs_transform: [30, 0, 221685, 0, -30, -1973385]</summary><ul><li><span class='ee-k'>0:</span><span class='ee-v'>30</span></li><li><span class='ee-k'>1:</span><span class='ee-v'>0</span></li><li><span class='ee-k'>2:</span><span class='ee-v'>221685</span></li><li><span class='ee-k'>3:</span><span class='ee-v'>0</span></li><li><span class='ee-k'>4:</span><span class='ee-v'>-30</span></li><li><span class='ee-k'>5:</span><span class='ee-v'>-1973385</span></li></ul></details></li><li><details><summary>data_type: unsigned int16</summary><ul><li><span class='ee-k'>type:</span><span class='ee-v'>PixelType</span></li><li><span class='ee-k'>max:</span><span class='ee-v'>65535</span></li><li><span class='ee-k'>min:</span><span class='ee-v'>0</span></li><li><span class='ee-k'>precision:</span><span class='ee-v'>int</span></li></ul></details></li><li><details><summary>dimensions: [8081, 6931]</summary><ul><li><span class='ee-k'>0:</span><span class='ee-v'>8081</span></li><li><span class='ee-k'>1:</span><span class='ee-v'>6931</span></li></ul></details></li></ul></details></li><li><details><summary>9: \"ST_ATRAN\", signed int16, EPSG:32635, 8081x6931 px</summary><ul><li><span class='ee-k'>id:</span><span class='ee-v'>ST_ATRAN</span></li><li><span class='ee-k'>crs:</span><span class='ee-v'>EPSG:32635</span></li><li><details><summary>crs_transform: [30, 0, 221685, 0, -30, -1973385]</summary><ul><li><span class='ee-k'>0:</span><span class='ee-v'>30</span></li><li><span class='ee-k'>1:</span><span class='ee-v'>0</span></li><li><span class='ee-k'>2:</span><span class='ee-v'>221685</span></li><li><span class='ee-k'>3:</span><span class='ee-v'>0</span></li><li><span class='ee-k'>4:</span><span class='ee-v'>-30</span></li><li><span class='ee-k'>5:</span><span class='ee-v'>-1973385</span></li></ul></details></li><li><details><summary>data_type: signed int16</summary><ul><li><span class='ee-k'>type:</span><span class='ee-v'>PixelType</span></li><li><span class='ee-k'>max:</span><span class='ee-v'>32767</span></li><li><span class='ee-k'>min:</span><span class='ee-v'>-32768</span></li><li><span class='ee-k'>precision:</span><span class='ee-v'>int</span></li></ul></details></li><li><details><summary>dimensions: [8081, 6931]</summary><ul><li><span class='ee-k'>0:</span><span class='ee-v'>8081</span></li><li><span class='ee-k'>1:</span><span class='ee-v'>6931</span></li></ul></details></li></ul></details></li><li><details><summary>10: \"ST_CDIST\", signed int16, EPSG:32635, 8081x6931 px</summary><ul><li><span class='ee-k'>id:</span><span class='ee-v'>ST_CDIST</span></li><li><span class='ee-k'>crs:</span><span class='ee-v'>EPSG:32635</span></li><li><details><summary>crs_transform: [30, 0, 221685, 0, -30, -1973385]</summary><ul><li><span class='ee-k'>0:</span><span class='ee-v'>30</span></li><li><span class='ee-k'>1:</span><span class='ee-v'>0</span></li><li><span class='ee-k'>2:</span><span class='ee-v'>221685</span></li><li><span class='ee-k'>3:</span><span class='ee-v'>0</span></li><li><span class='ee-k'>4:</span><span class='ee-v'>-30</span></li><li><span class='ee-k'>5:</span><span class='ee-v'>-1973385</span></li></ul></details></li><li><details><summary>data_type: signed int16</summary><ul><li><span class='ee-k'>type:</span><span class='ee-v'>PixelType</span></li><li><span class='ee-k'>max:</span><span class='ee-v'>32767</span></li><li><span class='ee-k'>min:</span><span class='ee-v'>-32768</span></li><li><span class='ee-k'>precision:</span><span class='ee-v'>int</span></li></ul></details></li><li><details><summary>dimensions: [8081, 6931]</summary><ul><li><span class='ee-k'>0:</span><span class='ee-v'>8081</span></li><li><span class='ee-k'>1:</span><span class='ee-v'>6931</span></li></ul></details></li></ul></details></li><li><details><summary>11: \"ST_DRAD\", signed int16, EPSG:32635, 8081x6931 px</summary><ul><li><span class='ee-k'>id:</span><span class='ee-v'>ST_DRAD</span></li><li><span class='ee-k'>crs:</span><span class='ee-v'>EPSG:32635</span></li><li><details><summary>crs_transform: [30, 0, 221685, 0, -30, -1973385]</summary><ul><li><span class='ee-k'>0:</span><span class='ee-v'>30</span></li><li><span class='ee-k'>1:</span><span class='ee-v'>0</span></li><li><span class='ee-k'>2:</span><span class='ee-v'>221685</span></li><li><span class='ee-k'>3:</span><span class='ee-v'>0</span></li><li><span class='ee-k'>4:</span><span class='ee-v'>-30</span></li><li><span class='ee-k'>5:</span><span class='ee-v'>-1973385</span></li></ul></details></li><li><details><summary>data_type: signed int16</summary><ul><li><span class='ee-k'>type:</span><span class='ee-v'>PixelType</span></li><li><span class='ee-k'>max:</span><span class='ee-v'>32767</span></li><li><span class='ee-k'>min:</span><span class='ee-v'>-32768</span></li><li><span class='ee-k'>precision:</span><span class='ee-v'>int</span></li></ul></details></li><li><details><summary>dimensions: [8081, 6931]</summary><ul><li><span class='ee-k'>0:</span><span class='ee-v'>8081</span></li><li><span class='ee-k'>1:</span><span class='ee-v'>6931</span></li></ul></details></li></ul></details></li><li><details><summary>12: \"ST_EMIS\", signed int16, EPSG:32635, 8081x6931 px</summary><ul><li><span class='ee-k'>id:</span><span class='ee-v'>ST_EMIS</span></li><li><span class='ee-k'>crs:</span><span class='ee-v'>EPSG:32635</span></li><li><details><summary>crs_transform: [30, 0, 221685, 0, -30, -1973385]</summary><ul><li><span class='ee-k'>0:</span><span class='ee-v'>30</span></li><li><span class='ee-k'>1:</span><span class='ee-v'>0</span></li><li><span class='ee-k'>2:</span><span class='ee-v'>221685</span></li><li><span class='ee-k'>3:</span><span class='ee-v'>0</span></li><li><span class='ee-k'>4:</span><span class='ee-v'>-30</span></li><li><span class='ee-k'>5:</span><span class='ee-v'>-1973385</span></li></ul></details></li><li><details><summary>data_type: signed int16</summary><ul><li><span class='ee-k'>type:</span><span class='ee-v'>PixelType</span></li><li><span class='ee-k'>max:</span><span class='ee-v'>32767</span></li><li><span class='ee-k'>min:</span><span class='ee-v'>-32768</span></li><li><span class='ee-k'>precision:</span><span class='ee-v'>int</span></li></ul></details></li><li><details><summary>dimensions: [8081, 6931]</summary><ul><li><span class='ee-k'>0:</span><span class='ee-v'>8081</span></li><li><span class='ee-k'>1:</span><span class='ee-v'>6931</span></li></ul></details></li></ul></details></li><li><details><summary>13: \"ST_EMSD\", signed int16, EPSG:32635, 8081x6931 px</summary><ul><li><span class='ee-k'>id:</span><span class='ee-v'>ST_EMSD</span></li><li><span class='ee-k'>crs:</span><span class='ee-v'>EPSG:32635</span></li><li><details><summary>crs_transform: [30, 0, 221685, 0, -30, -1973385]</summary><ul><li><span class='ee-k'>0:</span><span class='ee-v'>30</span></li><li><span class='ee-k'>1:</span><span class='ee-v'>0</span></li><li><span class='ee-k'>2:</span><span class='ee-v'>221685</span></li><li><span class='ee-k'>3:</span><span class='ee-v'>0</span></li><li><span class='ee-k'>4:</span><span class='ee-v'>-30</span></li><li><span class='ee-k'>5:</span><span class='ee-v'>-1973385</span></li></ul></details></li><li><details><summary>data_type: signed int16</summary><ul><li><span class='ee-k'>type:</span><span class='ee-v'>PixelType</span></li><li><span class='ee-k'>max:</span><span class='ee-v'>32767</span></li><li><span class='ee-k'>min:</span><span class='ee-v'>-32768</span></li><li><span class='ee-k'>precision:</span><span class='ee-v'>int</span></li></ul></details></li><li><details><summary>dimensions: [8081, 6931]</summary><ul><li><span class='ee-k'>0:</span><span class='ee-v'>8081</span></li><li><span class='ee-k'>1:</span><span class='ee-v'>6931</span></li></ul></details></li></ul></details></li><li><details><summary>14: \"ST_QA\", signed int16, EPSG:32635, 8081x6931 px</summary><ul><li><span class='ee-k'>id:</span><span class='ee-v'>ST_QA</span></li><li><span class='ee-k'>crs:</span><span class='ee-v'>EPSG:32635</span></li><li><details><summary>crs_transform: [30, 0, 221685, 0, -30, -1973385]</summary><ul><li><span class='ee-k'>0:</span><span class='ee-v'>30</span></li><li><span class='ee-k'>1:</span><span class='ee-v'>0</span></li><li><span class='ee-k'>2:</span><span class='ee-v'>221685</span></li><li><span class='ee-k'>3:</span><span class='ee-v'>0</span></li><li><span class='ee-k'>4:</span><span class='ee-v'>-30</span></li><li><span class='ee-k'>5:</span><span class='ee-v'>-1973385</span></li></ul></details></li><li><details><summary>data_type: signed int16</summary><ul><li><span class='ee-k'>type:</span><span class='ee-v'>PixelType</span></li><li><span class='ee-k'>max:</span><span class='ee-v'>32767</span></li><li><span class='ee-k'>min:</span><span class='ee-v'>-32768</span></li><li><span class='ee-k'>precision:</span><span class='ee-v'>int</span></li></ul></details></li><li><details><summary>dimensions: [8081, 6931]</summary><ul><li><span class='ee-k'>0:</span><span class='ee-v'>8081</span></li><li><span class='ee-k'>1:</span><span class='ee-v'>6931</span></li></ul></details></li></ul></details></li><li><details><summary>15: \"ST_TRAD\", signed int16, EPSG:32635, 8081x6931 px</summary><ul><li><span class='ee-k'>id:</span><span class='ee-v'>ST_TRAD</span></li><li><span class='ee-k'>crs:</span><span class='ee-v'>EPSG:32635</span></li><li><details><summary>crs_transform: [30, 0, 221685, 0, -30, -1973385]</summary><ul><li><span class='ee-k'>0:</span><span class='ee-v'>30</span></li><li><span class='ee-k'>1:</span><span class='ee-v'>0</span></li><li><span class='ee-k'>2:</span><span class='ee-v'>221685</span></li><li><span class='ee-k'>3:</span><span class='ee-v'>0</span></li><li><span class='ee-k'>4:</span><span class='ee-v'>-30</span></li><li><span class='ee-k'>5:</span><span class='ee-v'>-1973385</span></li></ul></details></li><li><details><summary>data_type: signed int16</summary><ul><li><span class='ee-k'>type:</span><span class='ee-v'>PixelType</span></li><li><span class='ee-k'>max:</span><span class='ee-v'>32767</span></li><li><span class='ee-k'>min:</span><span class='ee-v'>-32768</span></li><li><span class='ee-k'>precision:</span><span class='ee-v'>int</span></li></ul></details></li><li><details><summary>dimensions: [8081, 6931]</summary><ul><li><span class='ee-k'>0:</span><span class='ee-v'>8081</span></li><li><span class='ee-k'>1:</span><span class='ee-v'>6931</span></li></ul></details></li></ul></details></li><li><details><summary>16: \"ST_URAD\", signed int16, EPSG:32635, 8081x6931 px</summary><ul><li><span class='ee-k'>id:</span><span class='ee-v'>ST_URAD</span></li><li><span class='ee-k'>crs:</span><span class='ee-v'>EPSG:32635</span></li><li><details><summary>crs_transform: [30, 0, 221685, 0, -30, -1973385]</summary><ul><li><span class='ee-k'>0:</span><span class='ee-v'>30</span></li><li><span class='ee-k'>1:</span><span class='ee-v'>0</span></li><li><span class='ee-k'>2:</span><span class='ee-v'>221685</span></li><li><span class='ee-k'>3:</span><span class='ee-v'>0</span></li><li><span class='ee-k'>4:</span><span class='ee-v'>-30</span></li><li><span class='ee-k'>5:</span><span class='ee-v'>-1973385</span></li></ul></details></li><li><details><summary>data_type: signed int16</summary><ul><li><span class='ee-k'>type:</span><span class='ee-v'>PixelType</span></li><li><span class='ee-k'>max:</span><span class='ee-v'>32767</span></li><li><span class='ee-k'>min:</span><span class='ee-v'>-32768</span></li><li><span class='ee-k'>precision:</span><span class='ee-v'>int</span></li></ul></details></li><li><details><summary>dimensions: [8081, 6931]</summary><ul><li><span class='ee-k'>0:</span><span class='ee-v'>8081</span></li><li><span class='ee-k'>1:</span><span class='ee-v'>6931</span></li></ul></details></li></ul></details></li><li><details><summary>17: \"QA_PIXEL\", unsigned int16, EPSG:32635, 8081x6931 px</summary><ul><li><span class='ee-k'>id:</span><span class='ee-v'>QA_PIXEL</span></li><li><span class='ee-k'>crs:</span><span class='ee-v'>EPSG:32635</span></li><li><details><summary>crs_transform: [30, 0, 221685, 0, -30, -1973385]</summary><ul><li><span class='ee-k'>0:</span><span class='ee-v'>30</span></li><li><span class='ee-k'>1:</span><span class='ee-v'>0</span></li><li><span class='ee-k'>2:</span><span class='ee-v'>221685</span></li><li><span class='ee-k'>3:</span><span class='ee-v'>0</span></li><li><span class='ee-k'>4:</span><span class='ee-v'>-30</span></li><li><span class='ee-k'>5:</span><span class='ee-v'>-1973385</span></li></ul></details></li><li><details><summary>data_type: unsigned int16</summary><ul><li><span class='ee-k'>type:</span><span class='ee-v'>PixelType</span></li><li><span class='ee-k'>max:</span><span class='ee-v'>65535</span></li><li><span class='ee-k'>min:</span><span class='ee-v'>0</span></li><li><span class='ee-k'>precision:</span><span class='ee-v'>int</span></li></ul></details></li><li><details><summary>dimensions: [8081, 6931]</summary><ul><li><span class='ee-k'>0:</span><span class='ee-v'>8081</span></li><li><span class='ee-k'>1:</span><span class='ee-v'>6931</span></li></ul></details></li></ul></details></li><li><details><summary>18: \"QA_RADSAT\", unsigned int16, EPSG:32635, 8081x6931 px</summary><ul><li><span class='ee-k'>id:</span><span class='ee-v'>QA_RADSAT</span></li><li><span class='ee-k'>crs:</span><span class='ee-v'>EPSG:32635</span></li><li><details><summary>crs_transform: [30, 0, 221685, 0, -30, -1973385]</summary><ul><li><span class='ee-k'>0:</span><span class='ee-v'>30</span></li><li><span class='ee-k'>1:</span><span class='ee-v'>0</span></li><li><span class='ee-k'>2:</span><span class='ee-v'>221685</span></li><li><span class='ee-k'>3:</span><span class='ee-v'>0</span></li><li><span class='ee-k'>4:</span><span class='ee-v'>-30</span></li><li><span class='ee-k'>5:</span><span class='ee-v'>-1973385</span></li></ul></details></li><li><details><summary>data_type: unsigned int16</summary><ul><li><span class='ee-k'>type:</span><span class='ee-v'>PixelType</span></li><li><span class='ee-k'>max:</span><span class='ee-v'>65535</span></li><li><span class='ee-k'>min:</span><span class='ee-v'>0</span></li><li><span class='ee-k'>precision:</span><span class='ee-v'>int</span></li></ul></details></li><li><details><summary>dimensions: [8081, 6931]</summary><ul><li><span class='ee-k'>0:</span><span class='ee-v'>8081</span></li><li><span class='ee-k'>1:</span><span class='ee-v'>6931</span></li></ul></details></li></ul></details></li></ul></details></li><li><details><summary>properties: Object (130 properties)</summary><ul><li><span class='ee-k'>ALGORITHM_SOURCE_SURFACE_REFLECTANCE:</span><span class='ee-v'>LEDAPS_3.4.0</span></li><li><span class='ee-k'>ALGORITHM_SOURCE_SURFACE_TEMPERATURE:</span><span class='ee-v'>st_1.3.0</span></li><li><span class='ee-k'>CLOUD_COVER:</span><span class='ee-v'>1</span></li><li><span class='ee-k'>CLOUD_COVER_LAND:</span><span class='ee-v'>1</span></li><li><span class='ee-k'>COLLECTION_CATEGORY:</span><span class='ee-v'>T1</span></li><li><span class='ee-k'>COLLECTION_NUMBER:</span><span class='ee-v'>2</span></li><li><span class='ee-k'>CORRECTION_BIAS_BAND_1:</span><span class='ee-v'>INTERNAL_CALIBRATION</span></li><li><span class='ee-k'>CORRECTION_BIAS_BAND_2:</span><span class='ee-v'>INTERNAL_CALIBRATION</span></li><li><span class='ee-k'>CORRECTION_BIAS_BAND_3:</span><span class='ee-v'>INTERNAL_CALIBRATION</span></li><li><span class='ee-k'>CORRECTION_BIAS_BAND_4:</span><span class='ee-v'>INTERNAL_CALIBRATION</span></li><li><span class='ee-k'>CORRECTION_BIAS_BAND_5:</span><span class='ee-v'>INTERNAL_CALIBRATION</span></li><li><span class='ee-k'>CORRECTION_BIAS_BAND_6_VCID_1:</span><span class='ee-v'>INTERNAL_CALIBRATION</span></li><li><span class='ee-k'>CORRECTION_BIAS_BAND_6_VCID_2:</span><span class='ee-v'>INTERNAL_CALIBRATION</span></li><li><span class='ee-k'>CORRECTION_BIAS_BAND_7:</span><span class='ee-v'>INTERNAL_CALIBRATION</span></li><li><span class='ee-k'>CORRECTION_BIAS_BAND_8:</span><span class='ee-v'>INTERNAL_CALIBRATION</span></li><li><span class='ee-k'>CORRECTION_GAIN_BAND_1:</span><span class='ee-v'>CPF</span></li><li><span class='ee-k'>CORRECTION_GAIN_BAND_2:</span><span class='ee-v'>CPF</span></li><li><span class='ee-k'>CORRECTION_GAIN_BAND_3:</span><span class='ee-v'>CPF</span></li><li><span class='ee-k'>CORRECTION_GAIN_BAND_4:</span><span class='ee-v'>CPF</span></li><li><span class='ee-k'>CORRECTION_GAIN_BAND_5:</span><span class='ee-v'>CPF</span></li><li><span class='ee-k'>CORRECTION_GAIN_BAND_6_VCID_1:</span><span class='ee-v'>CPF</span></li><li><span class='ee-k'>CORRECTION_GAIN_BAND_6_VCID_2:</span><span class='ee-v'>CPF</span></li><li><span class='ee-k'>CORRECTION_GAIN_BAND_7:</span><span class='ee-v'>CPF</span></li><li><span class='ee-k'>CORRECTION_GAIN_BAND_8:</span><span class='ee-v'>CPF</span></li><li><span class='ee-k'>DATA_SOURCE_AIR_TEMPERATURE:</span><span class='ee-v'>NCEP</span></li><li><span class='ee-k'>DATA_SOURCE_ELEVATION:</span><span class='ee-v'>GLS2000</span></li><li><span class='ee-k'>DATA_SOURCE_OZONE:</span><span class='ee-v'>TOMS</span></li><li><span class='ee-k'>DATA_SOURCE_PRESSURE:</span><span class='ee-v'>NCEP</span></li><li><span class='ee-k'>DATA_SOURCE_REANALYSIS:</span><span class='ee-v'>GEOS-5 FP-IT</span></li><li><span class='ee-k'>DATA_SOURCE_WATER_VAPOR:</span><span class='ee-v'>NCEP</span></li><li><span class='ee-k'>DATE_ACQUIRED:</span><span class='ee-v'>2017-11-21</span></li><li><span class='ee-k'>DATE_PRODUCT_GENERATED:</span><span class='ee-v'>1598793652000</span></li><li><span class='ee-k'>DATUM:</span><span class='ee-v'>WGS84</span></li><li><span class='ee-k'>EARTH_SUN_DISTANCE:</span><span class='ee-v'>0.9878619</span></li><li><span class='ee-k'>ELLIPSOID:</span><span class='ee-v'>WGS84</span></li><li><span class='ee-k'>EPHEMERIS_TYPE:</span><span class='ee-v'>DEFINITIVE</span></li><li><span class='ee-k'>GAIN_BAND_1:</span><span class='ee-v'>L</span></li><li><span class='ee-k'>GAIN_BAND_2:</span><span class='ee-v'>L</span></li><li><span class='ee-k'>GAIN_BAND_3:</span><span class='ee-v'>L</span></li><li><span class='ee-k'>GAIN_BAND_4:</span><span class='ee-v'>L</span></li><li><span class='ee-k'>GAIN_BAND_5:</span><span class='ee-v'>L</span></li><li><span class='ee-k'>GAIN_BAND_6_VCID_1:</span><span class='ee-v'>L</span></li><li><span class='ee-k'>GAIN_BAND_6_VCID_2:</span><span class='ee-v'>H</span></li><li><span class='ee-k'>GAIN_BAND_7:</span><span class='ee-v'>L</span></li><li><span class='ee-k'>GAIN_BAND_8:</span><span class='ee-v'>L</span></li><li><span class='ee-k'>GAIN_CHANGE_BAND_1:</span><span class='ee-v'>LL</span></li><li><span class='ee-k'>GAIN_CHANGE_BAND_2:</span><span class='ee-v'>LL</span></li><li><span class='ee-k'>GAIN_CHANGE_BAND_3:</span><span class='ee-v'>LL</span></li><li><span class='ee-k'>GAIN_CHANGE_BAND_4:</span><span class='ee-v'>LL</span></li><li><span class='ee-k'>GAIN_CHANGE_BAND_5:</span><span class='ee-v'>LL</span></li><li><span class='ee-k'>GAIN_CHANGE_BAND_6_VCID_1:</span><span class='ee-v'>LL</span></li><li><span class='ee-k'>GAIN_CHANGE_BAND_6_VCID_2:</span><span class='ee-v'>HH</span></li><li><span class='ee-k'>GAIN_CHANGE_BAND_7:</span><span class='ee-v'>LL</span></li><li><span class='ee-k'>GAIN_CHANGE_BAND_8:</span><span class='ee-v'>LL</span></li><li><span class='ee-k'>GAIN_CHANGE_SCAN_BAND_1:</span><span class='ee-v'>0</span></li><li><span class='ee-k'>GAIN_CHANGE_SCAN_BAND_2:</span><span class='ee-v'>0</span></li><li><span class='ee-k'>GAIN_CHANGE_SCAN_BAND_3:</span><span class='ee-v'>0</span></li><li><span class='ee-k'>GAIN_CHANGE_SCAN_BAND_4:</span><span class='ee-v'>0</span></li><li><span class='ee-k'>GAIN_CHANGE_SCAN_BAND_5:</span><span class='ee-v'>0</span></li><li><span class='ee-k'>GAIN_CHANGE_SCAN_BAND_6_VCID_1:</span><span class='ee-v'>0</span></li><li><span class='ee-k'>GAIN_CHANGE_SCAN_BAND_6_VCID_2:</span><span class='ee-v'>0</span></li><li><span class='ee-k'>GAIN_CHANGE_SCAN_BAND_7:</span><span class='ee-v'>0</span></li><li><span class='ee-k'>GAIN_CHANGE_SCAN_BAND_8:</span><span class='ee-v'>0</span></li><li><span class='ee-k'>GEOMETRIC_RMSE_MODEL:</span><span class='ee-v'>4.605</span></li><li><span class='ee-k'>GEOMETRIC_RMSE_MODEL_X:</span><span class='ee-v'>3.007</span></li><li><span class='ee-k'>GEOMETRIC_RMSE_MODEL_Y:</span><span class='ee-v'>3.488</span></li><li><span class='ee-k'>GRID_CELL_SIZE_REFLECTIVE:</span><span class='ee-v'>30</span></li><li><span class='ee-k'>GRID_CELL_SIZE_THERMAL:</span><span class='ee-v'>30</span></li><li><span class='ee-k'>GROUND_CONTROL_POINTS_MODEL:</span><span class='ee-v'>538</span></li><li><span class='ee-k'>GROUND_CONTROL_POINTS_VERSION:</span><span class='ee-v'>5</span></li><li><span class='ee-k'>IMAGE_QUALITY:</span><span class='ee-v'>9</span></li><li><span class='ee-k'>L1_DATE_PRODUCT_GENERATED:</span><span class='ee-v'>2020-08-30T13:06:38Z</span></li><li><span class='ee-k'>L1_LANDSAT_PRODUCT_ID:</span><span class='ee-v'>LE07_L1TP_173073_20171121_20200830_02_T1</span></li><li><span class='ee-k'>L1_PROCESSING_LEVEL:</span><span class='ee-v'>L1TP</span></li><li><span class='ee-k'>L1_PROCESSING_SOFTWARE_VERSION:</span><span class='ee-v'>LPGS_15.3.1c</span></li><li><span class='ee-k'>L1_REQUEST_ID:</span><span class='ee-v'>L2</span></li><li><span class='ee-k'>LANDSAT_PRODUCT_ID:</span><span class='ee-v'>LE07_L2SP_173073_20171121_20200830_02_T1</span></li><li><span class='ee-k'>LANDSAT_SCENE_ID:</span><span class='ee-v'>LE71730732017325SG100</span></li><li><span class='ee-k'>MAP_PROJECTION:</span><span class='ee-v'>UTM</span></li><li><span class='ee-k'>ORIENTATION:</span><span class='ee-v'>NORTH_UP</span></li><li><span class='ee-k'>PROCESSING_LEVEL:</span><span class='ee-v'>L2SP</span></li><li><span class='ee-k'>PROCESSING_SOFTWARE_VERSION:</span><span class='ee-v'>LPGS_15.3.1c</span></li><li><span class='ee-k'>REFLECTANCE_ADD_BAND_1:</span><span class='ee-v'>-0.2</span></li><li><span class='ee-k'>REFLECTANCE_ADD_BAND_2:</span><span class='ee-v'>-0.2</span></li><li><span class='ee-k'>REFLECTANCE_ADD_BAND_3:</span><span class='ee-v'>-0.2</span></li><li><span class='ee-k'>REFLECTANCE_ADD_BAND_4:</span><span class='ee-v'>-0.2</span></li><li><span class='ee-k'>REFLECTANCE_ADD_BAND_5:</span><span class='ee-v'>-0.2</span></li><li><span class='ee-k'>REFLECTANCE_ADD_BAND_7:</span><span class='ee-v'>-0.2</span></li><li><span class='ee-k'>REFLECTANCE_MULT_BAND_1:</span><span class='ee-v'>2.75e-05</span></li><li><span class='ee-k'>REFLECTANCE_MULT_BAND_2:</span><span class='ee-v'>2.75e-05</span></li><li><span class='ee-k'>REFLECTANCE_MULT_BAND_3:</span><span class='ee-v'>2.75e-05</span></li><li><span class='ee-k'>REFLECTANCE_MULT_BAND_4:</span><span class='ee-v'>2.75e-05</span></li><li><span class='ee-k'>REFLECTANCE_MULT_BAND_5:</span><span class='ee-v'>2.75e-05</span></li><li><span class='ee-k'>REFLECTANCE_MULT_BAND_7:</span><span class='ee-v'>2.75e-05</span></li><li><span class='ee-k'>REFLECTIVE_LINES:</span><span class='ee-v'>6931</span></li><li><span class='ee-k'>REFLECTIVE_SAMPLES:</span><span class='ee-v'>8081</span></li><li><span class='ee-k'>REQUEST_ID:</span><span class='ee-v'>L2</span></li><li><span class='ee-k'>SATURATION_BAND_1:</span><span class='ee-v'>Y</span></li><li><span class='ee-k'>SATURATION_BAND_2:</span><span class='ee-v'>Y</span></li><li><span class='ee-k'>SATURATION_BAND_3:</span><span class='ee-v'>Y</span></li><li><span class='ee-k'>SATURATION_BAND_4:</span><span class='ee-v'>Y</span></li><li><span class='ee-k'>SATURATION_BAND_5:</span><span class='ee-v'>Y</span></li><li><span class='ee-k'>SATURATION_BAND_6_VCID_1:</span><span class='ee-v'>Y</span></li><li><span class='ee-k'>SATURATION_BAND_6_VCID_2:</span><span class='ee-v'>Y</span></li><li><span class='ee-k'>SATURATION_BAND_7:</span><span class='ee-v'>Y</span></li><li><span class='ee-k'>SATURATION_BAND_8:</span><span class='ee-v'>N</span></li><li><span class='ee-k'>SCENE_CENTER_TIME:</span><span class='ee-v'>08:21:26.0180066Z</span></li><li><span class='ee-k'>SENSOR_ANOMALIES:</span><span class='ee-v'>NONE</span></li><li><span class='ee-k'>SENSOR_ID:</span><span class='ee-v'>ETM</span></li><li><span class='ee-k'>SENSOR_MODE:</span><span class='ee-v'>BUMPER</span></li><li><span class='ee-k'>SENSOR_MODE_SLC:</span><span class='ee-v'>OFF</span></li><li><span class='ee-k'>SPACECRAFT_ID:</span><span class='ee-v'>LANDSAT_7</span></li><li><span class='ee-k'>STATION_ID:</span><span class='ee-v'>SG1</span></li><li><span class='ee-k'>SUN_AZIMUTH:</span><span class='ee-v'>97.08296807</span></li><li><span class='ee-k'>SUN_ELEVATION:</span><span class='ee-v'>65.8442673</span></li><li><span class='ee-k'>TEMPERATURE_ADD_BAND_ST_B6:</span><span class='ee-v'>149</span></li><li><span class='ee-k'>TEMPERATURE_MAXIMUM_BAND_ST_B6:</span><span class='ee-v'>372.999941</span></li><li><span class='ee-k'>TEMPERATURE_MINIMUM_BAND_ST_B6:</span><span class='ee-v'>149.003418</span></li><li><span class='ee-k'>TEMPERATURE_MULT_BAND_ST_B6:</span><span class='ee-v'>0.00341802</span></li><li><span class='ee-k'>THERMAL_LINES:</span><span class='ee-v'>6931</span></li><li><span class='ee-k'>THERMAL_SAMPLES:</span><span class='ee-v'>8081</span></li><li><span class='ee-k'>UTM_ZONE:</span><span class='ee-v'>35</span></li><li><span class='ee-k'>WRS_PATH:</span><span class='ee-v'>173</span></li><li><span class='ee-k'>WRS_ROW:</span><span class='ee-v'>73</span></li><li><span class='ee-k'>WRS_TYPE:</span><span class='ee-v'>2</span></li><li><span class='ee-k'>system:asset_size:</span><span class='ee-v'>510867725</span></li><li><details><summary>system:footprint: LinearRing (21 vertices)</summary><ul><li><span class='ee-k'>type:</span><span class='ee-v'>LinearRing</span></li><li><details><summary>coordinates: List (21 elements)</summary><ul><li><details><summary>0: [26.420214733236765, -18.07993334584271]</summary><ul><li><span class='ee-k'>0:</span><span class='ee-v'>26.420214733236765</span></li><li><span class='ee-k'>1:</span><span class='ee-v'>-18.07993334584271</span></li></ul></details></li><li><details><summary>1: [26.213673674111046, -18.05100430573006]</summary><ul><li><span class='ee-k'>0:</span><span class='ee-v'>26.213673674111046</span></li><li><span class='ee-k'>1:</span><span class='ee-v'>-18.05100430573006</span></li></ul></details></li><li><details><summary>2: [24.796722966139814, -17.84642854313983]</summary><ul><li><span class='ee-k'>0:</span><span class='ee-v'>24.796722966139814</span></li><li><span class='ee-k'>1:</span><span class='ee-v'>-17.84642854313983</span></li></ul></details></li><li><details><summary>3: [24.793123574048888, -17.847636174875284]</summary><ul><li><span class='ee-k'>0:</span><span class='ee-v'>24.793123574048888</span></li><li><span class='ee-k'>1:</span><span class='ee-v'>-17.847636174875284</span></li></ul></details></li><li><details><summary>4: [24.788155443873595, -17.85310136271662]</summary><ul><li><span class='ee-k'>0:</span><span class='ee-v'>24.788155443873595</span></li><li><span class='ee-k'>1:</span><span class='ee-v'>-17.85310136271662</span></li></ul></details></li><li><details><summary>5: [24.780743514206296, -17.878827535148613]</summary><ul><li><span class='ee-k'>0:</span><span class='ee-v'>24.780743514206296</span></li><li><span class='ee-k'>1:</span><span class='ee-v'>-17.878827535148613</span></li></ul></details></li><li><details><summary>6: [24.65844979359979, -18.40268086101677]</summary><ul><li><span class='ee-k'>0:</span><span class='ee-v'>24.65844979359979</span></li><li><span class='ee-k'>1:</span><span class='ee-v'>-18.40268086101677</span></li></ul></details></li><li><details><summary>7: [24.53522925197482, -18.92633888549447]</summary><ul><li><span class='ee-k'>0:</span><span class='ee-v'>24.53522925197482</span></li><li><span class='ee-k'>1:</span><span class='ee-v'>-18.92633888549447</span></li></ul></details></li><li><details><summary>8: [24.49479167791519, -19.098105792552637]</summary><ul><li><span class='ee-k'>0:</span><span class='ee-v'>24.49479167791519</span></li><li><span class='ee-k'>1:</span><span class='ee-v'>-19.098105792552637</span></li></ul></details></li><li><details><summary>9: [24.444738722589708, -19.312793532979622]</summary><ul><li><span class='ee-k'>0:</span><span class='ee-v'>24.444738722589708</span></li><li><span class='ee-k'>1:</span><span class='ee-v'>-19.312793532979622</span></li></ul></details></li><li><details><summary>10: [24.424833397931522, -19.399207048234445]</summary><ul><li><span class='ee-k'>0:</span><span class='ee-v'>24.424833397931522</span></li><li><span class='ee-k'>1:</span><span class='ee-v'>-19.399207048234445</span></li></ul></details></li><li><details><summary>11: [24.416148742813235, -19.442464386284517]</summary><ul><li><span class='ee-k'>0:</span><span class='ee-v'>24.416148742813235</span></li><li><span class='ee-k'>1:</span><span class='ee-v'>-19.442464386284517</span></li></ul></details></li><li><details><summary>12: [24.416854528178938, -19.453991651822637]</summary><ul><li><span class='ee-k'>0:</span><span class='ee-v'>24.416854528178938</span></li><li><span class='ee-k'>1:</span><span class='ee-v'>-19.453991651822637</span></li></ul></details></li><li><details><summary>13: [24.504076462709158, -19.46694851633463]</summary><ul><li><span class='ee-k'>0:</span><span class='ee-v'>24.504076462709158</span></li><li><span class='ee-k'>1:</span><span class='ee-v'>-19.46694851633463</span></li></ul></details></li><li><details><summary>14: [24.747669775949646, -19.5028731656919]</summary><ul><li><span class='ee-k'>0:</span><span class='ee-v'>24.747669775949646</span></li><li><span class='ee-k'>1:</span><span class='ee-v'>-19.5028731656919</span></li></ul></details></li><li><details><summary>15: [26.24029422531329, -19.715485031057046]</summary><ul><li><span class='ee-k'>0:</span><span class='ee-v'>26.24029422531329</span></li><li><span class='ee-k'>1:</span><span class='ee-v'>-19.715485031057046</span></li></ul></details></li><li><details><summary>16: [26.2497077953034, -19.715246084045212]</summary><ul><li><span class='ee-k'>0:</span><span class='ee-v'>26.2497077953034</span></li><li><span class='ee-k'>1:</span><span class='ee-v'>-19.715246084045212</span></li></ul></details></li><li><details><summary>17: [26.253324919996974, -19.713268082618207]</summary><ul><li><span class='ee-k'>0:</span><span class='ee-v'>26.253324919996974</span></li><li><span class='ee-k'>1:</span><span class='ee-v'>-19.713268082618207</span></li></ul></details></li><li><details><summary>18: [26.61069095083821, -18.113421247499183]</summary><ul><li><span class='ee-k'>0:</span><span class='ee-v'>26.61069095083821</span></li><li><span class='ee-k'>1:</span><span class='ee-v'>-18.113421247499183</span></li></ul></details></li><li><details><summary>19: [26.600146856196808, -18.104982208015038]</summary><ul><li><span class='ee-k'>0:</span><span class='ee-v'>26.600146856196808</span></li><li><span class='ee-k'>1:</span><span class='ee-v'>-18.104982208015038</span></li></ul></details></li><li><details><summary>20: [26.420214733236765, -18.07993334584271]</summary><ul><li><span class='ee-k'>0:</span><span class='ee-v'>26.420214733236765</span></li><li><span class='ee-k'>1:</span><span class='ee-v'>-18.07993334584271</span></li></ul></details></li></ul></details></li></ul></details></li><li><span class='ee-k'>system:index:</span><span class='ee-v'>LE07_173073_20171121</span></li><li><span class='ee-k'>system:time_end:</span><span class='ee-v'>1511252486018</span></li><li><span class='ee-k'>system:time_start:</span><span class='ee-v'>1511252486018</span></li></ul></details></li></ul></details></li></ul></details></li></ul></details></li></ul></div></div>"
            ]
          },
          "metadata": {}
        }
      ]
    },
    {
      "cell_type": "code",
      "source": [
        "image1=collection.first()\n",
        "display('image 1',image1)"
      ],
      "metadata": {
        "colab": {
          "base_uri": "https://localhost:8080/",
          "height": 86
        },
        "id": "vxx9qQ7IRCVX",
        "outputId": "d827fee6-9786-49d3-e319-af43255b9f4a"
      },
      "execution_count": null,
      "outputs": [
        {
          "output_type": "display_data",
          "data": {
            "text/plain": [
              "<IPython.core.display.HTML object>"
            ],
            "text/html": [
              "\n",
              "            <style>\n",
              "                .geemap-dark {\n",
              "                    --jp-widgets-color: white;\n",
              "                    --jp-widgets-label-color: white;\n",
              "                    --jp-ui-font-color1: white;\n",
              "                    --jp-layout-color2: #454545;\n",
              "                    background-color: #383838;\n",
              "                }\n",
              "\n",
              "                .geemap-dark .jupyter-button {\n",
              "                    --jp-layout-color3: #383838;\n",
              "                }\n",
              "\n",
              "                .geemap-colab {\n",
              "                    background-color: var(--colab-primary-surface-color, white);\n",
              "                }\n",
              "\n",
              "                .geemap-colab .jupyter-button {\n",
              "                    --jp-layout-color3: var(--colab-primary-surface-color, white);\n",
              "                }\n",
              "            </style>\n",
              "            "
            ]
          },
          "metadata": {}
        },
        {
          "output_type": "display_data",
          "data": {
            "text/plain": [
              "'image 1'"
            ],
            "application/vnd.google.colaboratory.intrinsic+json": {
              "type": "string"
            }
          },
          "metadata": {}
        },
        {
          "output_type": "display_data",
          "data": {
            "text/plain": [
              "<ee.image.Image at 0x7fab3c32c390>"
            ],
            "text/html": [
              "<div><style>:root {\n",
              "  --font-color-primary: var(--jp-content-font-color0, rgba(0, 0, 0, 1));\n",
              "  --font-color-secondary: var(--jp-content-font-color2, rgba(0, 0, 0, 0.7));\n",
              "  --font-color-accent: rgba(123, 31, 162, 1);\n",
              "  --border-color: var(--jp-border-color2, #e0e0e0);\n",
              "  --background-color: var(--jp-layout-color0, white);\n",
              "  --background-color-row-even: var(--jp-layout-color1, white);\n",
              "  --background-color-row-odd: var(--jp-layout-color2, #eeeeee);\n",
              "}\n",
              "\n",
              "html[theme=\"dark\"],\n",
              "body[data-theme=\"dark\"],\n",
              "body.vscode-dark {\n",
              "  --font-color-primary: rgba(255, 255, 255, 1);\n",
              "  --font-color-secondary: rgba(255, 255, 255, 0.7);\n",
              "  --font-color-accent: rgb(173, 132, 190);\n",
              "  --border-color: #2e2e2e;\n",
              "  --background-color: #111111;\n",
              "  --background-color-row-even: #111111;\n",
              "  --background-color-row-odd: #313131;\n",
              "}\n",
              "\n",
              ".eerepr {\n",
              "  padding: 1em;\n",
              "  line-height: 1.5em;\n",
              "  min-width: 300px;\n",
              "  max-width: 1200px;\n",
              "  overflow-y: scroll;\n",
              "  max-height: 600px;\n",
              "  border: 1px solid var(--border-color);\n",
              "  font-family: monospace;\n",
              "  font-size: 14px;\n",
              "}\n",
              "\n",
              ".eerepr li {\n",
              "  list-style-type: none;\n",
              "  margin: 0;\n",
              "}\n",
              "\n",
              ".eerepr ul {\n",
              "  padding-left: 1.5em !important;\n",
              "  margin: 0;\n",
              "}\n",
              "\n",
              ".eerepr > ul {\n",
              "  padding-left: 0 !important;\n",
              "}\n",
              "\n",
              ".eerepr summary {\n",
              "  color: var(--font-color-secondary);\n",
              "  cursor: pointer;\n",
              "  margin: 0;\n",
              "}\n",
              "\n",
              ".eerepr summary:hover {\n",
              "  color: var(--font-color-primary);\n",
              "  background-color: var(--background-color-row-odd)\n",
              "}\n",
              "\n",
              ".ee-k {\n",
              "  color: var(--font-color-accent);\n",
              "  margin-right: 6px;\n",
              "}\n",
              "\n",
              ".ee-v {\n",
              "  color: var(--font-color-primary);\n",
              "}\n",
              "\n",
              ".eerepr details > summary::before {\n",
              "  content: '▼';\n",
              "  display: inline-block;\n",
              "  margin-right: 6px;\n",
              "  transition: transform 0.2s;\n",
              "  transform: rotate(-90deg);\n",
              "}\n",
              "\n",
              ".eerepr details[open] > summary::before {\n",
              "  transform: rotate(0deg);\n",
              "}\n",
              "\n",
              ".eerepr details summary::-webkit-details-marker {\n",
              "  display:none;\n",
              "}\n",
              "\n",
              ".eerepr details summary {\n",
              "  list-style-type: none;\n",
              "}\n",
              "</style><div class='eerepr'><ul><li><details><summary>Image LANDSAT/LE07/C02/T1_L2/LE07_173072_20150116 (19 bands)</summary><ul><li><span class='ee-k'>type:</span><span class='ee-v'>Image</span></li><li><span class='ee-k'>id:</span><span class='ee-v'>LANDSAT/LE07/C02/T1_L2/LE07_173072_20150116</span></li><li><span class='ee-k'>version:</span><span class='ee-v'>1624539308799629</span></li><li><details><summary>bands: List (19 elements)</summary><ul><li><details><summary>0: \"SR_B1\", unsigned int16, EPSG:32635, 8051x6941 px</summary><ul><li><span class='ee-k'>id:</span><span class='ee-v'>SR_B1</span></li><li><span class='ee-k'>crs:</span><span class='ee-v'>EPSG:32635</span></li><li><details><summary>crs_transform: [30, 0, 263085, 0, -30, -1813185]</summary><ul><li><span class='ee-k'>0:</span><span class='ee-v'>30</span></li><li><span class='ee-k'>1:</span><span class='ee-v'>0</span></li><li><span class='ee-k'>2:</span><span class='ee-v'>263085</span></li><li><span class='ee-k'>3:</span><span class='ee-v'>0</span></li><li><span class='ee-k'>4:</span><span class='ee-v'>-30</span></li><li><span class='ee-k'>5:</span><span class='ee-v'>-1813185</span></li></ul></details></li><li><details><summary>data_type: unsigned int16</summary><ul><li><span class='ee-k'>type:</span><span class='ee-v'>PixelType</span></li><li><span class='ee-k'>max:</span><span class='ee-v'>65535</span></li><li><span class='ee-k'>min:</span><span class='ee-v'>0</span></li><li><span class='ee-k'>precision:</span><span class='ee-v'>int</span></li></ul></details></li><li><details><summary>dimensions: [8051, 6941]</summary><ul><li><span class='ee-k'>0:</span><span class='ee-v'>8051</span></li><li><span class='ee-k'>1:</span><span class='ee-v'>6941</span></li></ul></details></li></ul></details></li><li><details><summary>1: \"SR_B2\", unsigned int16, EPSG:32635, 8051x6941 px</summary><ul><li><span class='ee-k'>id:</span><span class='ee-v'>SR_B2</span></li><li><span class='ee-k'>crs:</span><span class='ee-v'>EPSG:32635</span></li><li><details><summary>crs_transform: [30, 0, 263085, 0, -30, -1813185]</summary><ul><li><span class='ee-k'>0:</span><span class='ee-v'>30</span></li><li><span class='ee-k'>1:</span><span class='ee-v'>0</span></li><li><span class='ee-k'>2:</span><span class='ee-v'>263085</span></li><li><span class='ee-k'>3:</span><span class='ee-v'>0</span></li><li><span class='ee-k'>4:</span><span class='ee-v'>-30</span></li><li><span class='ee-k'>5:</span><span class='ee-v'>-1813185</span></li></ul></details></li><li><details><summary>data_type: unsigned int16</summary><ul><li><span class='ee-k'>type:</span><span class='ee-v'>PixelType</span></li><li><span class='ee-k'>max:</span><span class='ee-v'>65535</span></li><li><span class='ee-k'>min:</span><span class='ee-v'>0</span></li><li><span class='ee-k'>precision:</span><span class='ee-v'>int</span></li></ul></details></li><li><details><summary>dimensions: [8051, 6941]</summary><ul><li><span class='ee-k'>0:</span><span class='ee-v'>8051</span></li><li><span class='ee-k'>1:</span><span class='ee-v'>6941</span></li></ul></details></li></ul></details></li><li><details><summary>2: \"SR_B3\", unsigned int16, EPSG:32635, 8051x6941 px</summary><ul><li><span class='ee-k'>id:</span><span class='ee-v'>SR_B3</span></li><li><span class='ee-k'>crs:</span><span class='ee-v'>EPSG:32635</span></li><li><details><summary>crs_transform: [30, 0, 263085, 0, -30, -1813185]</summary><ul><li><span class='ee-k'>0:</span><span class='ee-v'>30</span></li><li><span class='ee-k'>1:</span><span class='ee-v'>0</span></li><li><span class='ee-k'>2:</span><span class='ee-v'>263085</span></li><li><span class='ee-k'>3:</span><span class='ee-v'>0</span></li><li><span class='ee-k'>4:</span><span class='ee-v'>-30</span></li><li><span class='ee-k'>5:</span><span class='ee-v'>-1813185</span></li></ul></details></li><li><details><summary>data_type: unsigned int16</summary><ul><li><span class='ee-k'>type:</span><span class='ee-v'>PixelType</span></li><li><span class='ee-k'>max:</span><span class='ee-v'>65535</span></li><li><span class='ee-k'>min:</span><span class='ee-v'>0</span></li><li><span class='ee-k'>precision:</span><span class='ee-v'>int</span></li></ul></details></li><li><details><summary>dimensions: [8051, 6941]</summary><ul><li><span class='ee-k'>0:</span><span class='ee-v'>8051</span></li><li><span class='ee-k'>1:</span><span class='ee-v'>6941</span></li></ul></details></li></ul></details></li><li><details><summary>3: \"SR_B4\", unsigned int16, EPSG:32635, 8051x6941 px</summary><ul><li><span class='ee-k'>id:</span><span class='ee-v'>SR_B4</span></li><li><span class='ee-k'>crs:</span><span class='ee-v'>EPSG:32635</span></li><li><details><summary>crs_transform: [30, 0, 263085, 0, -30, -1813185]</summary><ul><li><span class='ee-k'>0:</span><span class='ee-v'>30</span></li><li><span class='ee-k'>1:</span><span class='ee-v'>0</span></li><li><span class='ee-k'>2:</span><span class='ee-v'>263085</span></li><li><span class='ee-k'>3:</span><span class='ee-v'>0</span></li><li><span class='ee-k'>4:</span><span class='ee-v'>-30</span></li><li><span class='ee-k'>5:</span><span class='ee-v'>-1813185</span></li></ul></details></li><li><details><summary>data_type: unsigned int16</summary><ul><li><span class='ee-k'>type:</span><span class='ee-v'>PixelType</span></li><li><span class='ee-k'>max:</span><span class='ee-v'>65535</span></li><li><span class='ee-k'>min:</span><span class='ee-v'>0</span></li><li><span class='ee-k'>precision:</span><span class='ee-v'>int</span></li></ul></details></li><li><details><summary>dimensions: [8051, 6941]</summary><ul><li><span class='ee-k'>0:</span><span class='ee-v'>8051</span></li><li><span class='ee-k'>1:</span><span class='ee-v'>6941</span></li></ul></details></li></ul></details></li><li><details><summary>4: \"SR_B5\", unsigned int16, EPSG:32635, 8051x6941 px</summary><ul><li><span class='ee-k'>id:</span><span class='ee-v'>SR_B5</span></li><li><span class='ee-k'>crs:</span><span class='ee-v'>EPSG:32635</span></li><li><details><summary>crs_transform: [30, 0, 263085, 0, -30, -1813185]</summary><ul><li><span class='ee-k'>0:</span><span class='ee-v'>30</span></li><li><span class='ee-k'>1:</span><span class='ee-v'>0</span></li><li><span class='ee-k'>2:</span><span class='ee-v'>263085</span></li><li><span class='ee-k'>3:</span><span class='ee-v'>0</span></li><li><span class='ee-k'>4:</span><span class='ee-v'>-30</span></li><li><span class='ee-k'>5:</span><span class='ee-v'>-1813185</span></li></ul></details></li><li><details><summary>data_type: unsigned int16</summary><ul><li><span class='ee-k'>type:</span><span class='ee-v'>PixelType</span></li><li><span class='ee-k'>max:</span><span class='ee-v'>65535</span></li><li><span class='ee-k'>min:</span><span class='ee-v'>0</span></li><li><span class='ee-k'>precision:</span><span class='ee-v'>int</span></li></ul></details></li><li><details><summary>dimensions: [8051, 6941]</summary><ul><li><span class='ee-k'>0:</span><span class='ee-v'>8051</span></li><li><span class='ee-k'>1:</span><span class='ee-v'>6941</span></li></ul></details></li></ul></details></li><li><details><summary>5: \"SR_B7\", unsigned int16, EPSG:32635, 8051x6941 px</summary><ul><li><span class='ee-k'>id:</span><span class='ee-v'>SR_B7</span></li><li><span class='ee-k'>crs:</span><span class='ee-v'>EPSG:32635</span></li><li><details><summary>crs_transform: [30, 0, 263085, 0, -30, -1813185]</summary><ul><li><span class='ee-k'>0:</span><span class='ee-v'>30</span></li><li><span class='ee-k'>1:</span><span class='ee-v'>0</span></li><li><span class='ee-k'>2:</span><span class='ee-v'>263085</span></li><li><span class='ee-k'>3:</span><span class='ee-v'>0</span></li><li><span class='ee-k'>4:</span><span class='ee-v'>-30</span></li><li><span class='ee-k'>5:</span><span class='ee-v'>-1813185</span></li></ul></details></li><li><details><summary>data_type: unsigned int16</summary><ul><li><span class='ee-k'>type:</span><span class='ee-v'>PixelType</span></li><li><span class='ee-k'>max:</span><span class='ee-v'>65535</span></li><li><span class='ee-k'>min:</span><span class='ee-v'>0</span></li><li><span class='ee-k'>precision:</span><span class='ee-v'>int</span></li></ul></details></li><li><details><summary>dimensions: [8051, 6941]</summary><ul><li><span class='ee-k'>0:</span><span class='ee-v'>8051</span></li><li><span class='ee-k'>1:</span><span class='ee-v'>6941</span></li></ul></details></li></ul></details></li><li><details><summary>6: \"SR_ATMOS_OPACITY\", signed int16, EPSG:32635, 8051x6941 px</summary><ul><li><span class='ee-k'>id:</span><span class='ee-v'>SR_ATMOS_OPACITY</span></li><li><span class='ee-k'>crs:</span><span class='ee-v'>EPSG:32635</span></li><li><details><summary>crs_transform: [30, 0, 263085, 0, -30, -1813185]</summary><ul><li><span class='ee-k'>0:</span><span class='ee-v'>30</span></li><li><span class='ee-k'>1:</span><span class='ee-v'>0</span></li><li><span class='ee-k'>2:</span><span class='ee-v'>263085</span></li><li><span class='ee-k'>3:</span><span class='ee-v'>0</span></li><li><span class='ee-k'>4:</span><span class='ee-v'>-30</span></li><li><span class='ee-k'>5:</span><span class='ee-v'>-1813185</span></li></ul></details></li><li><details><summary>data_type: signed int16</summary><ul><li><span class='ee-k'>type:</span><span class='ee-v'>PixelType</span></li><li><span class='ee-k'>max:</span><span class='ee-v'>32767</span></li><li><span class='ee-k'>min:</span><span class='ee-v'>-32768</span></li><li><span class='ee-k'>precision:</span><span class='ee-v'>int</span></li></ul></details></li><li><details><summary>dimensions: [8051, 6941]</summary><ul><li><span class='ee-k'>0:</span><span class='ee-v'>8051</span></li><li><span class='ee-k'>1:</span><span class='ee-v'>6941</span></li></ul></details></li></ul></details></li><li><details><summary>7: \"SR_CLOUD_QA\", unsigned int8, EPSG:32635, 8051x6941 px</summary><ul><li><span class='ee-k'>id:</span><span class='ee-v'>SR_CLOUD_QA</span></li><li><span class='ee-k'>crs:</span><span class='ee-v'>EPSG:32635</span></li><li><details><summary>crs_transform: [30, 0, 263085, 0, -30, -1813185]</summary><ul><li><span class='ee-k'>0:</span><span class='ee-v'>30</span></li><li><span class='ee-k'>1:</span><span class='ee-v'>0</span></li><li><span class='ee-k'>2:</span><span class='ee-v'>263085</span></li><li><span class='ee-k'>3:</span><span class='ee-v'>0</span></li><li><span class='ee-k'>4:</span><span class='ee-v'>-30</span></li><li><span class='ee-k'>5:</span><span class='ee-v'>-1813185</span></li></ul></details></li><li><details><summary>data_type: unsigned int8</summary><ul><li><span class='ee-k'>type:</span><span class='ee-v'>PixelType</span></li><li><span class='ee-k'>max:</span><span class='ee-v'>255</span></li><li><span class='ee-k'>min:</span><span class='ee-v'>0</span></li><li><span class='ee-k'>precision:</span><span class='ee-v'>int</span></li></ul></details></li><li><details><summary>dimensions: [8051, 6941]</summary><ul><li><span class='ee-k'>0:</span><span class='ee-v'>8051</span></li><li><span class='ee-k'>1:</span><span class='ee-v'>6941</span></li></ul></details></li></ul></details></li><li><details><summary>8: \"ST_B6\", unsigned int16, EPSG:32635, 8051x6941 px</summary><ul><li><span class='ee-k'>id:</span><span class='ee-v'>ST_B6</span></li><li><span class='ee-k'>crs:</span><span class='ee-v'>EPSG:32635</span></li><li><details><summary>crs_transform: [30, 0, 263085, 0, -30, -1813185]</summary><ul><li><span class='ee-k'>0:</span><span class='ee-v'>30</span></li><li><span class='ee-k'>1:</span><span class='ee-v'>0</span></li><li><span class='ee-k'>2:</span><span class='ee-v'>263085</span></li><li><span class='ee-k'>3:</span><span class='ee-v'>0</span></li><li><span class='ee-k'>4:</span><span class='ee-v'>-30</span></li><li><span class='ee-k'>5:</span><span class='ee-v'>-1813185</span></li></ul></details></li><li><details><summary>data_type: unsigned int16</summary><ul><li><span class='ee-k'>type:</span><span class='ee-v'>PixelType</span></li><li><span class='ee-k'>max:</span><span class='ee-v'>65535</span></li><li><span class='ee-k'>min:</span><span class='ee-v'>0</span></li><li><span class='ee-k'>precision:</span><span class='ee-v'>int</span></li></ul></details></li><li><details><summary>dimensions: [8051, 6941]</summary><ul><li><span class='ee-k'>0:</span><span class='ee-v'>8051</span></li><li><span class='ee-k'>1:</span><span class='ee-v'>6941</span></li></ul></details></li></ul></details></li><li><details><summary>9: \"ST_ATRAN\", signed int16, EPSG:32635, 8051x6941 px</summary><ul><li><span class='ee-k'>id:</span><span class='ee-v'>ST_ATRAN</span></li><li><span class='ee-k'>crs:</span><span class='ee-v'>EPSG:32635</span></li><li><details><summary>crs_transform: [30, 0, 263085, 0, -30, -1813185]</summary><ul><li><span class='ee-k'>0:</span><span class='ee-v'>30</span></li><li><span class='ee-k'>1:</span><span class='ee-v'>0</span></li><li><span class='ee-k'>2:</span><span class='ee-v'>263085</span></li><li><span class='ee-k'>3:</span><span class='ee-v'>0</span></li><li><span class='ee-k'>4:</span><span class='ee-v'>-30</span></li><li><span class='ee-k'>5:</span><span class='ee-v'>-1813185</span></li></ul></details></li><li><details><summary>data_type: signed int16</summary><ul><li><span class='ee-k'>type:</span><span class='ee-v'>PixelType</span></li><li><span class='ee-k'>max:</span><span class='ee-v'>32767</span></li><li><span class='ee-k'>min:</span><span class='ee-v'>-32768</span></li><li><span class='ee-k'>precision:</span><span class='ee-v'>int</span></li></ul></details></li><li><details><summary>dimensions: [8051, 6941]</summary><ul><li><span class='ee-k'>0:</span><span class='ee-v'>8051</span></li><li><span class='ee-k'>1:</span><span class='ee-v'>6941</span></li></ul></details></li></ul></details></li><li><details><summary>10: \"ST_CDIST\", signed int16, EPSG:32635, 8051x6941 px</summary><ul><li><span class='ee-k'>id:</span><span class='ee-v'>ST_CDIST</span></li><li><span class='ee-k'>crs:</span><span class='ee-v'>EPSG:32635</span></li><li><details><summary>crs_transform: [30, 0, 263085, 0, -30, -1813185]</summary><ul><li><span class='ee-k'>0:</span><span class='ee-v'>30</span></li><li><span class='ee-k'>1:</span><span class='ee-v'>0</span></li><li><span class='ee-k'>2:</span><span class='ee-v'>263085</span></li><li><span class='ee-k'>3:</span><span class='ee-v'>0</span></li><li><span class='ee-k'>4:</span><span class='ee-v'>-30</span></li><li><span class='ee-k'>5:</span><span class='ee-v'>-1813185</span></li></ul></details></li><li><details><summary>data_type: signed int16</summary><ul><li><span class='ee-k'>type:</span><span class='ee-v'>PixelType</span></li><li><span class='ee-k'>max:</span><span class='ee-v'>32767</span></li><li><span class='ee-k'>min:</span><span class='ee-v'>-32768</span></li><li><span class='ee-k'>precision:</span><span class='ee-v'>int</span></li></ul></details></li><li><details><summary>dimensions: [8051, 6941]</summary><ul><li><span class='ee-k'>0:</span><span class='ee-v'>8051</span></li><li><span class='ee-k'>1:</span><span class='ee-v'>6941</span></li></ul></details></li></ul></details></li><li><details><summary>11: \"ST_DRAD\", signed int16, EPSG:32635, 8051x6941 px</summary><ul><li><span class='ee-k'>id:</span><span class='ee-v'>ST_DRAD</span></li><li><span class='ee-k'>crs:</span><span class='ee-v'>EPSG:32635</span></li><li><details><summary>crs_transform: [30, 0, 263085, 0, -30, -1813185]</summary><ul><li><span class='ee-k'>0:</span><span class='ee-v'>30</span></li><li><span class='ee-k'>1:</span><span class='ee-v'>0</span></li><li><span class='ee-k'>2:</span><span class='ee-v'>263085</span></li><li><span class='ee-k'>3:</span><span class='ee-v'>0</span></li><li><span class='ee-k'>4:</span><span class='ee-v'>-30</span></li><li><span class='ee-k'>5:</span><span class='ee-v'>-1813185</span></li></ul></details></li><li><details><summary>data_type: signed int16</summary><ul><li><span class='ee-k'>type:</span><span class='ee-v'>PixelType</span></li><li><span class='ee-k'>max:</span><span class='ee-v'>32767</span></li><li><span class='ee-k'>min:</span><span class='ee-v'>-32768</span></li><li><span class='ee-k'>precision:</span><span class='ee-v'>int</span></li></ul></details></li><li><details><summary>dimensions: [8051, 6941]</summary><ul><li><span class='ee-k'>0:</span><span class='ee-v'>8051</span></li><li><span class='ee-k'>1:</span><span class='ee-v'>6941</span></li></ul></details></li></ul></details></li><li><details><summary>12: \"ST_EMIS\", signed int16, EPSG:32635, 8051x6941 px</summary><ul><li><span class='ee-k'>id:</span><span class='ee-v'>ST_EMIS</span></li><li><span class='ee-k'>crs:</span><span class='ee-v'>EPSG:32635</span></li><li><details><summary>crs_transform: [30, 0, 263085, 0, -30, -1813185]</summary><ul><li><span class='ee-k'>0:</span><span class='ee-v'>30</span></li><li><span class='ee-k'>1:</span><span class='ee-v'>0</span></li><li><span class='ee-k'>2:</span><span class='ee-v'>263085</span></li><li><span class='ee-k'>3:</span><span class='ee-v'>0</span></li><li><span class='ee-k'>4:</span><span class='ee-v'>-30</span></li><li><span class='ee-k'>5:</span><span class='ee-v'>-1813185</span></li></ul></details></li><li><details><summary>data_type: signed int16</summary><ul><li><span class='ee-k'>type:</span><span class='ee-v'>PixelType</span></li><li><span class='ee-k'>max:</span><span class='ee-v'>32767</span></li><li><span class='ee-k'>min:</span><span class='ee-v'>-32768</span></li><li><span class='ee-k'>precision:</span><span class='ee-v'>int</span></li></ul></details></li><li><details><summary>dimensions: [8051, 6941]</summary><ul><li><span class='ee-k'>0:</span><span class='ee-v'>8051</span></li><li><span class='ee-k'>1:</span><span class='ee-v'>6941</span></li></ul></details></li></ul></details></li><li><details><summary>13: \"ST_EMSD\", signed int16, EPSG:32635, 8051x6941 px</summary><ul><li><span class='ee-k'>id:</span><span class='ee-v'>ST_EMSD</span></li><li><span class='ee-k'>crs:</span><span class='ee-v'>EPSG:32635</span></li><li><details><summary>crs_transform: [30, 0, 263085, 0, -30, -1813185]</summary><ul><li><span class='ee-k'>0:</span><span class='ee-v'>30</span></li><li><span class='ee-k'>1:</span><span class='ee-v'>0</span></li><li><span class='ee-k'>2:</span><span class='ee-v'>263085</span></li><li><span class='ee-k'>3:</span><span class='ee-v'>0</span></li><li><span class='ee-k'>4:</span><span class='ee-v'>-30</span></li><li><span class='ee-k'>5:</span><span class='ee-v'>-1813185</span></li></ul></details></li><li><details><summary>data_type: signed int16</summary><ul><li><span class='ee-k'>type:</span><span class='ee-v'>PixelType</span></li><li><span class='ee-k'>max:</span><span class='ee-v'>32767</span></li><li><span class='ee-k'>min:</span><span class='ee-v'>-32768</span></li><li><span class='ee-k'>precision:</span><span class='ee-v'>int</span></li></ul></details></li><li><details><summary>dimensions: [8051, 6941]</summary><ul><li><span class='ee-k'>0:</span><span class='ee-v'>8051</span></li><li><span class='ee-k'>1:</span><span class='ee-v'>6941</span></li></ul></details></li></ul></details></li><li><details><summary>14: \"ST_QA\", signed int16, EPSG:32635, 8051x6941 px</summary><ul><li><span class='ee-k'>id:</span><span class='ee-v'>ST_QA</span></li><li><span class='ee-k'>crs:</span><span class='ee-v'>EPSG:32635</span></li><li><details><summary>crs_transform: [30, 0, 263085, 0, -30, -1813185]</summary><ul><li><span class='ee-k'>0:</span><span class='ee-v'>30</span></li><li><span class='ee-k'>1:</span><span class='ee-v'>0</span></li><li><span class='ee-k'>2:</span><span class='ee-v'>263085</span></li><li><span class='ee-k'>3:</span><span class='ee-v'>0</span></li><li><span class='ee-k'>4:</span><span class='ee-v'>-30</span></li><li><span class='ee-k'>5:</span><span class='ee-v'>-1813185</span></li></ul></details></li><li><details><summary>data_type: signed int16</summary><ul><li><span class='ee-k'>type:</span><span class='ee-v'>PixelType</span></li><li><span class='ee-k'>max:</span><span class='ee-v'>32767</span></li><li><span class='ee-k'>min:</span><span class='ee-v'>-32768</span></li><li><span class='ee-k'>precision:</span><span class='ee-v'>int</span></li></ul></details></li><li><details><summary>dimensions: [8051, 6941]</summary><ul><li><span class='ee-k'>0:</span><span class='ee-v'>8051</span></li><li><span class='ee-k'>1:</span><span class='ee-v'>6941</span></li></ul></details></li></ul></details></li><li><details><summary>15: \"ST_TRAD\", signed int16, EPSG:32635, 8051x6941 px</summary><ul><li><span class='ee-k'>id:</span><span class='ee-v'>ST_TRAD</span></li><li><span class='ee-k'>crs:</span><span class='ee-v'>EPSG:32635</span></li><li><details><summary>crs_transform: [30, 0, 263085, 0, -30, -1813185]</summary><ul><li><span class='ee-k'>0:</span><span class='ee-v'>30</span></li><li><span class='ee-k'>1:</span><span class='ee-v'>0</span></li><li><span class='ee-k'>2:</span><span class='ee-v'>263085</span></li><li><span class='ee-k'>3:</span><span class='ee-v'>0</span></li><li><span class='ee-k'>4:</span><span class='ee-v'>-30</span></li><li><span class='ee-k'>5:</span><span class='ee-v'>-1813185</span></li></ul></details></li><li><details><summary>data_type: signed int16</summary><ul><li><span class='ee-k'>type:</span><span class='ee-v'>PixelType</span></li><li><span class='ee-k'>max:</span><span class='ee-v'>32767</span></li><li><span class='ee-k'>min:</span><span class='ee-v'>-32768</span></li><li><span class='ee-k'>precision:</span><span class='ee-v'>int</span></li></ul></details></li><li><details><summary>dimensions: [8051, 6941]</summary><ul><li><span class='ee-k'>0:</span><span class='ee-v'>8051</span></li><li><span class='ee-k'>1:</span><span class='ee-v'>6941</span></li></ul></details></li></ul></details></li><li><details><summary>16: \"ST_URAD\", signed int16, EPSG:32635, 8051x6941 px</summary><ul><li><span class='ee-k'>id:</span><span class='ee-v'>ST_URAD</span></li><li><span class='ee-k'>crs:</span><span class='ee-v'>EPSG:32635</span></li><li><details><summary>crs_transform: [30, 0, 263085, 0, -30, -1813185]</summary><ul><li><span class='ee-k'>0:</span><span class='ee-v'>30</span></li><li><span class='ee-k'>1:</span><span class='ee-v'>0</span></li><li><span class='ee-k'>2:</span><span class='ee-v'>263085</span></li><li><span class='ee-k'>3:</span><span class='ee-v'>0</span></li><li><span class='ee-k'>4:</span><span class='ee-v'>-30</span></li><li><span class='ee-k'>5:</span><span class='ee-v'>-1813185</span></li></ul></details></li><li><details><summary>data_type: signed int16</summary><ul><li><span class='ee-k'>type:</span><span class='ee-v'>PixelType</span></li><li><span class='ee-k'>max:</span><span class='ee-v'>32767</span></li><li><span class='ee-k'>min:</span><span class='ee-v'>-32768</span></li><li><span class='ee-k'>precision:</span><span class='ee-v'>int</span></li></ul></details></li><li><details><summary>dimensions: [8051, 6941]</summary><ul><li><span class='ee-k'>0:</span><span class='ee-v'>8051</span></li><li><span class='ee-k'>1:</span><span class='ee-v'>6941</span></li></ul></details></li></ul></details></li><li><details><summary>17: \"QA_PIXEL\", unsigned int16, EPSG:32635, 8051x6941 px</summary><ul><li><span class='ee-k'>id:</span><span class='ee-v'>QA_PIXEL</span></li><li><span class='ee-k'>crs:</span><span class='ee-v'>EPSG:32635</span></li><li><details><summary>crs_transform: [30, 0, 263085, 0, -30, -1813185]</summary><ul><li><span class='ee-k'>0:</span><span class='ee-v'>30</span></li><li><span class='ee-k'>1:</span><span class='ee-v'>0</span></li><li><span class='ee-k'>2:</span><span class='ee-v'>263085</span></li><li><span class='ee-k'>3:</span><span class='ee-v'>0</span></li><li><span class='ee-k'>4:</span><span class='ee-v'>-30</span></li><li><span class='ee-k'>5:</span><span class='ee-v'>-1813185</span></li></ul></details></li><li><details><summary>data_type: unsigned int16</summary><ul><li><span class='ee-k'>type:</span><span class='ee-v'>PixelType</span></li><li><span class='ee-k'>max:</span><span class='ee-v'>65535</span></li><li><span class='ee-k'>min:</span><span class='ee-v'>0</span></li><li><span class='ee-k'>precision:</span><span class='ee-v'>int</span></li></ul></details></li><li><details><summary>dimensions: [8051, 6941]</summary><ul><li><span class='ee-k'>0:</span><span class='ee-v'>8051</span></li><li><span class='ee-k'>1:</span><span class='ee-v'>6941</span></li></ul></details></li></ul></details></li><li><details><summary>18: \"QA_RADSAT\", unsigned int16, EPSG:32635, 8051x6941 px</summary><ul><li><span class='ee-k'>id:</span><span class='ee-v'>QA_RADSAT</span></li><li><span class='ee-k'>crs:</span><span class='ee-v'>EPSG:32635</span></li><li><details><summary>crs_transform: [30, 0, 263085, 0, -30, -1813185]</summary><ul><li><span class='ee-k'>0:</span><span class='ee-v'>30</span></li><li><span class='ee-k'>1:</span><span class='ee-v'>0</span></li><li><span class='ee-k'>2:</span><span class='ee-v'>263085</span></li><li><span class='ee-k'>3:</span><span class='ee-v'>0</span></li><li><span class='ee-k'>4:</span><span class='ee-v'>-30</span></li><li><span class='ee-k'>5:</span><span class='ee-v'>-1813185</span></li></ul></details></li><li><details><summary>data_type: unsigned int16</summary><ul><li><span class='ee-k'>type:</span><span class='ee-v'>PixelType</span></li><li><span class='ee-k'>max:</span><span class='ee-v'>65535</span></li><li><span class='ee-k'>min:</span><span class='ee-v'>0</span></li><li><span class='ee-k'>precision:</span><span class='ee-v'>int</span></li></ul></details></li><li><details><summary>dimensions: [8051, 6941]</summary><ul><li><span class='ee-k'>0:</span><span class='ee-v'>8051</span></li><li><span class='ee-k'>1:</span><span class='ee-v'>6941</span></li></ul></details></li></ul></details></li></ul></details></li><li><details><summary>properties: Object (130 properties)</summary><ul><li><span class='ee-k'>ALGORITHM_SOURCE_SURFACE_REFLECTANCE:</span><span class='ee-v'>LEDAPS_3.4.0</span></li><li><span class='ee-k'>ALGORITHM_SOURCE_SURFACE_TEMPERATURE:</span><span class='ee-v'>st_1.3.0</span></li><li><span class='ee-k'>CLOUD_COVER:</span><span class='ee-v'>46</span></li><li><span class='ee-k'>CLOUD_COVER_LAND:</span><span class='ee-v'>46</span></li><li><span class='ee-k'>COLLECTION_CATEGORY:</span><span class='ee-v'>T1</span></li><li><span class='ee-k'>COLLECTION_NUMBER:</span><span class='ee-v'>2</span></li><li><span class='ee-k'>CORRECTION_BIAS_BAND_1:</span><span class='ee-v'>INTERNAL_CALIBRATION</span></li><li><span class='ee-k'>CORRECTION_BIAS_BAND_2:</span><span class='ee-v'>INTERNAL_CALIBRATION</span></li><li><span class='ee-k'>CORRECTION_BIAS_BAND_3:</span><span class='ee-v'>INTERNAL_CALIBRATION</span></li><li><span class='ee-k'>CORRECTION_BIAS_BAND_4:</span><span class='ee-v'>INTERNAL_CALIBRATION</span></li><li><span class='ee-k'>CORRECTION_BIAS_BAND_5:</span><span class='ee-v'>INTERNAL_CALIBRATION</span></li><li><span class='ee-k'>CORRECTION_BIAS_BAND_6_VCID_1:</span><span class='ee-v'>INTERNAL_CALIBRATION</span></li><li><span class='ee-k'>CORRECTION_BIAS_BAND_6_VCID_2:</span><span class='ee-v'>INTERNAL_CALIBRATION</span></li><li><span class='ee-k'>CORRECTION_BIAS_BAND_7:</span><span class='ee-v'>INTERNAL_CALIBRATION</span></li><li><span class='ee-k'>CORRECTION_BIAS_BAND_8:</span><span class='ee-v'>INTERNAL_CALIBRATION</span></li><li><span class='ee-k'>CORRECTION_GAIN_BAND_1:</span><span class='ee-v'>CPF</span></li><li><span class='ee-k'>CORRECTION_GAIN_BAND_2:</span><span class='ee-v'>CPF</span></li><li><span class='ee-k'>CORRECTION_GAIN_BAND_3:</span><span class='ee-v'>CPF</span></li><li><span class='ee-k'>CORRECTION_GAIN_BAND_4:</span><span class='ee-v'>CPF</span></li><li><span class='ee-k'>CORRECTION_GAIN_BAND_5:</span><span class='ee-v'>CPF</span></li><li><span class='ee-k'>CORRECTION_GAIN_BAND_6_VCID_1:</span><span class='ee-v'>CPF</span></li><li><span class='ee-k'>CORRECTION_GAIN_BAND_6_VCID_2:</span><span class='ee-v'>CPF</span></li><li><span class='ee-k'>CORRECTION_GAIN_BAND_7:</span><span class='ee-v'>CPF</span></li><li><span class='ee-k'>CORRECTION_GAIN_BAND_8:</span><span class='ee-v'>CPF</span></li><li><span class='ee-k'>DATA_SOURCE_AIR_TEMPERATURE:</span><span class='ee-v'>NCEP</span></li><li><span class='ee-k'>DATA_SOURCE_ELEVATION:</span><span class='ee-v'>GLS2000</span></li><li><span class='ee-k'>DATA_SOURCE_OZONE:</span><span class='ee-v'>TOMS</span></li><li><span class='ee-k'>DATA_SOURCE_PRESSURE:</span><span class='ee-v'>NCEP</span></li><li><span class='ee-k'>DATA_SOURCE_REANALYSIS:</span><span class='ee-v'>GEOS-5 FP-IT</span></li><li><span class='ee-k'>DATA_SOURCE_WATER_VAPOR:</span><span class='ee-v'>NCEP</span></li><li><span class='ee-k'>DATE_ACQUIRED:</span><span class='ee-v'>2015-01-16</span></li><li><span class='ee-k'>DATE_PRODUCT_GENERATED:</span><span class='ee-v'>1599312792000</span></li><li><span class='ee-k'>DATUM:</span><span class='ee-v'>WGS84</span></li><li><span class='ee-k'>EARTH_SUN_DISTANCE:</span><span class='ee-v'>0.9836904</span></li><li><span class='ee-k'>ELLIPSOID:</span><span class='ee-v'>WGS84</span></li><li><span class='ee-k'>EPHEMERIS_TYPE:</span><span class='ee-v'>DEFINITIVE</span></li><li><span class='ee-k'>GAIN_BAND_1:</span><span class='ee-v'>L</span></li><li><span class='ee-k'>GAIN_BAND_2:</span><span class='ee-v'>L</span></li><li><span class='ee-k'>GAIN_BAND_3:</span><span class='ee-v'>L</span></li><li><span class='ee-k'>GAIN_BAND_4:</span><span class='ee-v'>L</span></li><li><span class='ee-k'>GAIN_BAND_5:</span><span class='ee-v'>L</span></li><li><span class='ee-k'>GAIN_BAND_6_VCID_1:</span><span class='ee-v'>L</span></li><li><span class='ee-k'>GAIN_BAND_6_VCID_2:</span><span class='ee-v'>H</span></li><li><span class='ee-k'>GAIN_BAND_7:</span><span class='ee-v'>L</span></li><li><span class='ee-k'>GAIN_BAND_8:</span><span class='ee-v'>L</span></li><li><span class='ee-k'>GAIN_CHANGE_BAND_1:</span><span class='ee-v'>LL</span></li><li><span class='ee-k'>GAIN_CHANGE_BAND_2:</span><span class='ee-v'>LL</span></li><li><span class='ee-k'>GAIN_CHANGE_BAND_3:</span><span class='ee-v'>LL</span></li><li><span class='ee-k'>GAIN_CHANGE_BAND_4:</span><span class='ee-v'>LL</span></li><li><span class='ee-k'>GAIN_CHANGE_BAND_5:</span><span class='ee-v'>LL</span></li><li><span class='ee-k'>GAIN_CHANGE_BAND_6_VCID_1:</span><span class='ee-v'>LL</span></li><li><span class='ee-k'>GAIN_CHANGE_BAND_6_VCID_2:</span><span class='ee-v'>HH</span></li><li><span class='ee-k'>GAIN_CHANGE_BAND_7:</span><span class='ee-v'>LL</span></li><li><span class='ee-k'>GAIN_CHANGE_BAND_8:</span><span class='ee-v'>LL</span></li><li><span class='ee-k'>GAIN_CHANGE_SCAN_BAND_1:</span><span class='ee-v'>0</span></li><li><span class='ee-k'>GAIN_CHANGE_SCAN_BAND_2:</span><span class='ee-v'>0</span></li><li><span class='ee-k'>GAIN_CHANGE_SCAN_BAND_3:</span><span class='ee-v'>0</span></li><li><span class='ee-k'>GAIN_CHANGE_SCAN_BAND_4:</span><span class='ee-v'>0</span></li><li><span class='ee-k'>GAIN_CHANGE_SCAN_BAND_5:</span><span class='ee-v'>0</span></li><li><span class='ee-k'>GAIN_CHANGE_SCAN_BAND_6_VCID_1:</span><span class='ee-v'>0</span></li><li><span class='ee-k'>GAIN_CHANGE_SCAN_BAND_6_VCID_2:</span><span class='ee-v'>0</span></li><li><span class='ee-k'>GAIN_CHANGE_SCAN_BAND_7:</span><span class='ee-v'>0</span></li><li><span class='ee-k'>GAIN_CHANGE_SCAN_BAND_8:</span><span class='ee-v'>0</span></li><li><span class='ee-k'>GEOMETRIC_RMSE_MODEL:</span><span class='ee-v'>5.789</span></li><li><span class='ee-k'>GEOMETRIC_RMSE_MODEL_X:</span><span class='ee-v'>3.122</span></li><li><span class='ee-k'>GEOMETRIC_RMSE_MODEL_Y:</span><span class='ee-v'>4.875</span></li><li><span class='ee-k'>GRID_CELL_SIZE_REFLECTIVE:</span><span class='ee-v'>30</span></li><li><span class='ee-k'>GRID_CELL_SIZE_THERMAL:</span><span class='ee-v'>30</span></li><li><span class='ee-k'>GROUND_CONTROL_POINTS_MODEL:</span><span class='ee-v'>240</span></li><li><span class='ee-k'>GROUND_CONTROL_POINTS_VERSION:</span><span class='ee-v'>5</span></li><li><span class='ee-k'>IMAGE_QUALITY:</span><span class='ee-v'>9</span></li><li><span class='ee-k'>L1_DATE_PRODUCT_GENERATED:</span><span class='ee-v'>2020-09-05T13:13:58Z</span></li><li><span class='ee-k'>L1_LANDSAT_PRODUCT_ID:</span><span class='ee-v'>LE07_L1TP_173072_20150116_20200905_02_T1</span></li><li><span class='ee-k'>L1_PROCESSING_LEVEL:</span><span class='ee-v'>L1TP</span></li><li><span class='ee-k'>L1_PROCESSING_SOFTWARE_VERSION:</span><span class='ee-v'>LPGS_15.3.1c</span></li><li><span class='ee-k'>L1_REQUEST_ID:</span><span class='ee-v'>L2</span></li><li><span class='ee-k'>LANDSAT_PRODUCT_ID:</span><span class='ee-v'>LE07_L2SP_173072_20150116_20200905_02_T1</span></li><li><span class='ee-k'>LANDSAT_SCENE_ID:</span><span class='ee-v'>LE71730722015016JSA00</span></li><li><span class='ee-k'>MAP_PROJECTION:</span><span class='ee-v'>UTM</span></li><li><span class='ee-k'>ORIENTATION:</span><span class='ee-v'>NORTH_UP</span></li><li><span class='ee-k'>PROCESSING_LEVEL:</span><span class='ee-v'>L2SP</span></li><li><span class='ee-k'>PROCESSING_SOFTWARE_VERSION:</span><span class='ee-v'>LPGS_15.3.1c</span></li><li><span class='ee-k'>REFLECTANCE_ADD_BAND_1:</span><span class='ee-v'>-0.2</span></li><li><span class='ee-k'>REFLECTANCE_ADD_BAND_2:</span><span class='ee-v'>-0.2</span></li><li><span class='ee-k'>REFLECTANCE_ADD_BAND_3:</span><span class='ee-v'>-0.2</span></li><li><span class='ee-k'>REFLECTANCE_ADD_BAND_4:</span><span class='ee-v'>-0.2</span></li><li><span class='ee-k'>REFLECTANCE_ADD_BAND_5:</span><span class='ee-v'>-0.2</span></li><li><span class='ee-k'>REFLECTANCE_ADD_BAND_7:</span><span class='ee-v'>-0.2</span></li><li><span class='ee-k'>REFLECTANCE_MULT_BAND_1:</span><span class='ee-v'>2.75e-05</span></li><li><span class='ee-k'>REFLECTANCE_MULT_BAND_2:</span><span class='ee-v'>2.75e-05</span></li><li><span class='ee-k'>REFLECTANCE_MULT_BAND_3:</span><span class='ee-v'>2.75e-05</span></li><li><span class='ee-k'>REFLECTANCE_MULT_BAND_4:</span><span class='ee-v'>2.75e-05</span></li><li><span class='ee-k'>REFLECTANCE_MULT_BAND_5:</span><span class='ee-v'>2.75e-05</span></li><li><span class='ee-k'>REFLECTANCE_MULT_BAND_7:</span><span class='ee-v'>2.75e-05</span></li><li><span class='ee-k'>REFLECTIVE_LINES:</span><span class='ee-v'>6941</span></li><li><span class='ee-k'>REFLECTIVE_SAMPLES:</span><span class='ee-v'>8051</span></li><li><span class='ee-k'>REQUEST_ID:</span><span class='ee-v'>L2</span></li><li><span class='ee-k'>SATURATION_BAND_1:</span><span class='ee-v'>Y</span></li><li><span class='ee-k'>SATURATION_BAND_2:</span><span class='ee-v'>Y</span></li><li><span class='ee-k'>SATURATION_BAND_3:</span><span class='ee-v'>Y</span></li><li><span class='ee-k'>SATURATION_BAND_4:</span><span class='ee-v'>Y</span></li><li><span class='ee-k'>SATURATION_BAND_5:</span><span class='ee-v'>Y</span></li><li><span class='ee-k'>SATURATION_BAND_6_VCID_1:</span><span class='ee-v'>N</span></li><li><span class='ee-k'>SATURATION_BAND_6_VCID_2:</span><span class='ee-v'>Y</span></li><li><span class='ee-k'>SATURATION_BAND_7:</span><span class='ee-v'>Y</span></li><li><span class='ee-k'>SATURATION_BAND_8:</span><span class='ee-v'>N</span></li><li><span class='ee-k'>SCENE_CENTER_TIME:</span><span class='ee-v'>08:17:02.2178562Z</span></li><li><span class='ee-k'>SENSOR_ANOMALIES:</span><span class='ee-v'>NONE</span></li><li><span class='ee-k'>SENSOR_ID:</span><span class='ee-v'>ETM</span></li><li><span class='ee-k'>SENSOR_MODE:</span><span class='ee-v'>BUMPER</span></li><li><span class='ee-k'>SENSOR_MODE_SLC:</span><span class='ee-v'>OFF</span></li><li><span class='ee-k'>SPACECRAFT_ID:</span><span class='ee-v'>LANDSAT_7</span></li><li><span class='ee-k'>STATION_ID:</span><span class='ee-v'>JSA</span></li><li><span class='ee-k'>SUN_AZIMUTH:</span><span class='ee-v'>102.0264037</span></li><li><span class='ee-k'>SUN_ELEVATION:</span><span class='ee-v'>59.39404305</span></li><li><span class='ee-k'>TEMPERATURE_ADD_BAND_ST_B6:</span><span class='ee-v'>149</span></li><li><span class='ee-k'>TEMPERATURE_MAXIMUM_BAND_ST_B6:</span><span class='ee-v'>372.999941</span></li><li><span class='ee-k'>TEMPERATURE_MINIMUM_BAND_ST_B6:</span><span class='ee-v'>149.003418</span></li><li><span class='ee-k'>TEMPERATURE_MULT_BAND_ST_B6:</span><span class='ee-v'>0.00341802</span></li><li><span class='ee-k'>THERMAL_LINES:</span><span class='ee-v'>6941</span></li><li><span class='ee-k'>THERMAL_SAMPLES:</span><span class='ee-v'>8051</span></li><li><span class='ee-k'>UTM_ZONE:</span><span class='ee-v'>35</span></li><li><span class='ee-k'>WRS_PATH:</span><span class='ee-v'>173</span></li><li><span class='ee-k'>WRS_ROW:</span><span class='ee-v'>72</span></li><li><span class='ee-k'>WRS_TYPE:</span><span class='ee-v'>2</span></li><li><span class='ee-k'>system:asset_size:</span><span class='ee-v'>667942811</span></li><li><details><summary>system:footprint: LinearRing (20 vertices)</summary><ul><li><span class='ee-k'>type:</span><span class='ee-v'>LinearRing</span></li><li><details><summary>coordinates: List (20 elements)</summary><ul><li><details><summary>0: [26.4681014297246, -18.248986816243914]</summary><ul><li><span class='ee-k'>0:</span><span class='ee-v'>26.4681014297246</span></li><li><span class='ee-k'>1:</span><span class='ee-v'>-18.248986816243914</span></li></ul></details></li><li><details><summary>1: [26.626991164764085, -18.27105682276876]</summary><ul><li><span class='ee-k'>0:</span><span class='ee-v'>26.626991164764085</span></li><li><span class='ee-k'>1:</span><span class='ee-v'>-18.27105682276876</span></li></ul></details></li><li><details><summary>2: [26.637358395529247, -18.27107671369484]</summary><ul><li><span class='ee-k'>0:</span><span class='ee-v'>26.637358395529247</span></li><li><span class='ee-k'>1:</span><span class='ee-v'>-18.27107671369484</span></li></ul></details></li><li><details><summary>3: [26.639595415129516, -18.26864401994907]</summary><ul><li><span class='ee-k'>0:</span><span class='ee-v'>26.639595415129516</span></li><li><span class='ee-k'>1:</span><span class='ee-v'>-18.26864401994907</span></li></ul></details></li><li><details><summary>4: [26.668974827912503, -18.139954739556142]</summary><ul><li><span class='ee-k'>0:</span><span class='ee-v'>26.668974827912503</span></li><li><span class='ee-k'>1:</span><span class='ee-v'>-18.139954739556142</span></li></ul></details></li><li><details><summary>5: [26.97855744171193, -16.73636646392797]</summary><ul><li><span class='ee-k'>0:</span><span class='ee-v'>26.97855744171193</span></li><li><span class='ee-k'>1:</span><span class='ee-v'>-16.73636646392797</span></li></ul></details></li><li><details><summary>6: [26.99150744883338, -16.67615931976993]</summary><ul><li><span class='ee-k'>0:</span><span class='ee-v'>26.99150744883338</span></li><li><span class='ee-k'>1:</span><span class='ee-v'>-16.67615931976993</span></li></ul></details></li><li><details><summary>7: [26.99322706844252, -16.667321238013127]</summary><ul><li><span class='ee-k'>0:</span><span class='ee-v'>26.99322706844252</span></li><li><span class='ee-k'>1:</span><span class='ee-v'>-16.667321238013127</span></li></ul></details></li><li><details><summary>8: [26.982625743199215, -16.659034550981282]</summary><ul><li><span class='ee-k'>0:</span><span class='ee-v'>26.982625743199215</span></li><li><span class='ee-k'>1:</span><span class='ee-v'>-16.659034550981282</span></li></ul></details></li><li><details><summary>9: [25.199700668718553, -16.403547251996105]</summary><ul><li><span class='ee-k'>0:</span><span class='ee-v'>25.199700668718553</span></li><li><span class='ee-k'>1:</span><span class='ee-v'>-16.403547251996105</span></li></ul></details></li><li><details><summary>10: [25.19522289299186, -16.410887463278055]</summary><ul><li><span class='ee-k'>0:</span><span class='ee-v'>25.19522289299186</span></li><li><span class='ee-k'>1:</span><span class='ee-v'>-16.410887463278055</span></li></ul></details></li><li><details><summary>11: [25.159846875111832, -16.557277300987824]</summary><ul><li><span class='ee-k'>0:</span><span class='ee-v'>25.159846875111832</span></li><li><span class='ee-k'>1:</span><span class='ee-v'>-16.557277300987824</span></li></ul></details></li><li><details><summary>12: [24.993133619695595, -17.279442316800317]</summary><ul><li><span class='ee-k'>0:</span><span class='ee-v'>24.993133619695595</span></li><li><span class='ee-k'>1:</span><span class='ee-v'>-17.279442316800317</span></li></ul></details></li><li><details><summary>13: [24.893402264781137, -17.708803300616662]</summary><ul><li><span class='ee-k'>0:</span><span class='ee-v'>24.893402264781137</span></li><li><span class='ee-k'>1:</span><span class='ee-v'>-17.708803300616662</span></li></ul></details></li><li><details><summary>14: [24.84748614515079, -17.906413610531782]</summary><ul><li><span class='ee-k'>0:</span><span class='ee-v'>24.84748614515079</span></li><li><span class='ee-k'>1:</span><span class='ee-v'>-17.906413610531782</span></li></ul></details></li><li><details><summary>15: [24.840515929772018, -17.93756231762724]</summary><ul><li><span class='ee-k'>0:</span><span class='ee-v'>24.840515929772018</span></li><li><span class='ee-k'>1:</span><span class='ee-v'>-17.93756231762724</span></li></ul></details></li><li><details><summary>16: [24.82650462741255, -18.00107716274951]</summary><ul><li><span class='ee-k'>0:</span><span class='ee-v'>24.82650462741255</span></li><li><span class='ee-k'>1:</span><span class='ee-v'>-18.00107716274951</span></li></ul></details></li><li><details><summary>17: [24.828109634465676, -18.013112582323206]</summary><ul><li><span class='ee-k'>0:</span><span class='ee-v'>24.828109634465676</span></li><li><span class='ee-k'>1:</span><span class='ee-v'>-18.013112582323206</span></li></ul></details></li><li><details><summary>18: [25.007305741767173, -18.039614346016982]</summary><ul><li><span class='ee-k'>0:</span><span class='ee-v'>25.007305741767173</span></li><li><span class='ee-k'>1:</span><span class='ee-v'>-18.039614346016982</span></li></ul></details></li><li><details><summary>19: [26.4681014297246, -18.248986816243914]</summary><ul><li><span class='ee-k'>0:</span><span class='ee-v'>26.4681014297246</span></li><li><span class='ee-k'>1:</span><span class='ee-v'>-18.248986816243914</span></li></ul></details></li></ul></details></li></ul></details></li><li><span class='ee-k'>system:index:</span><span class='ee-v'>LE07_173072_20150116</span></li><li><span class='ee-k'>system:time_end:</span><span class='ee-v'>1421396222217</span></li><li><span class='ee-k'>system:time_start:</span><span class='ee-v'>1421396222217</span></li></ul></details></li></ul></details></li></ul></div></div>"
            ]
          },
          "metadata": {}
        }
      ]
    },
    {
      "cell_type": "code",
      "source": [
        "# prompt: convert the sr_b3 counts to reflectivity\n",
        "\n",
        "# Function to convert SR_B3 counts to reflectance\n",
        "def sr_b3_to_reflectance(image):\n",
        "    # Apply the scaling factor for SR_B3 band\n",
        "    reflected_image = image.expression(\n",
        "        '(SR_B3 * 0.0000275) - 0.2',\n",
        "        {'SR_B3': image.select('SR_B3')}\n",
        "    ).rename('SR_B3_Reflectance')\n",
        "    return image.addBands(reflected_image)\n",
        "\n",
        "\n",
        "# Map the function over the image collection\n",
        "collection_with_reflectance = clipped_collection.map(sr_b3_to_reflectance)\n",
        "\n",
        "\n",
        "# Function to download a TIFF file for a specific band and image\n",
        "def download_b3_reflectance_tiff(image):\n",
        "    # Get the image ID\n",
        "    image_id = image.id().getInfo()\n",
        "\n",
        "    # Define the output filename\n",
        "    filename = f'/content/drive/MyDrive/b3_reflectance_{image_id}.tif'  # Specify your desired folder and filename\n",
        "\n",
        "    # Export the image as a GeoTIFF\n",
        "    geemap.ee_export_image(\n",
        "        image.select('SR_B3_Reflectance'),  # Select the reflectance band\n",
        "        filename=filename,\n",
        "        scale=30,  # Adjust the scale as needed\n",
        "        region=image.geometry(),  # Use the image's geometry for the region\n",
        "        file_per_band=False  # Export as a single TIFF file\n",
        "    )\n",
        "\n",
        "# Iterate through the images in the collection and download the B3 reflectance band\n",
        "for i in range(collection_with_reflectance.size().getInfo()):\n",
        "    image = ee.Image(collection_with_reflectance.toList(collection_with_reflectance.size()).get(i))\n",
        "    download_b3_reflectance_tiff(image)\n"
      ],
      "metadata": {
        "id": "pHVLzVAvx2s7"
      },
      "execution_count": null,
      "outputs": []
    },
    {
      "cell_type": "code",
      "source": [
        "cloud_cover_values = collection.aggregate_array('CLOUD_COVER').getInfo()\n",
        "print(cloud_cover_values)"
      ],
      "metadata": {
        "colab": {
          "base_uri": "https://localhost:8080/",
          "height": 35
        },
        "id": "sCf0z_0nMQ-y",
        "outputId": "cd4361d5-eca4-40af-b6dc-f007d0719d7f"
      },
      "execution_count": null,
      "outputs": [
        {
          "output_type": "display_data",
          "data": {
            "text/plain": [
              "<IPython.core.display.HTML object>"
            ],
            "text/html": [
              "\n",
              "            <style>\n",
              "                .geemap-dark {\n",
              "                    --jp-widgets-color: white;\n",
              "                    --jp-widgets-label-color: white;\n",
              "                    --jp-ui-font-color1: white;\n",
              "                    --jp-layout-color2: #454545;\n",
              "                    background-color: #383838;\n",
              "                }\n",
              "\n",
              "                .geemap-dark .jupyter-button {\n",
              "                    --jp-layout-color3: #383838;\n",
              "                }\n",
              "\n",
              "                .geemap-colab {\n",
              "                    background-color: var(--colab-primary-surface-color, white);\n",
              "                }\n",
              "\n",
              "                .geemap-colab .jupyter-button {\n",
              "                    --jp-layout-color3: var(--colab-primary-surface-color, white);\n",
              "                }\n",
              "            </style>\n",
              "            "
            ]
          },
          "metadata": {}
        },
        {
          "output_type": "stream",
          "name": "stdout",
          "text": [
            "[46, 51, 53, 1, 74, 35, 60, 1, 6, 12, 1, 14, 35, 70, 76, 0, 1, 89, 85, 57, 44, 28, 4, 77, 55, 30, 2, 2, 24, 0, 4, 26, 76, 63, 0, 1, 75, 88]\n"
          ]
        }
      ]
    },
    {
      "cell_type": "code",
      "source": [
        "# prompt: get urls for tif downloads of an image collection\n",
        "\n",
        "import ee\n",
        "import geemap.core as geemap\n",
        "\n",
        "# Assuming 'filtered_collection' is defined as in the provided code\n",
        "# ... (your existing code)\n",
        "\n",
        "# Get the number of images in the collection\n",
        "num_images = collection.size().getInfo()\n",
        "\n",
        "# Iterate through the images and get their download URLs\n",
        "for i in range(num_images):\n",
        "    image = ee.Image(collection.toList(num_images).get(i))\n",
        "\n",
        "    # Define the region of interest (ROI) - adjust as needed\n",
        "    roi = ee.Geometry.Point(ubc_lon, ubc_lat).buffer(1000)  # 1km buffer around the point\n",
        "\n",
        "    # Get the download URL for the TIFF file\n",
        "    url = image.getDownloadURL({\n",
        "        'name': f'landsat_image_{i}',\n",
        "        'scale': 30,  # Adjust scale as needed\n",
        "        'crs': 'EPSG:4326', # Adjust CRS as needed\n",
        "        'region': roi,\n",
        "        'filePerBand': False,\n",
        "        'format': 'GEO_TIFF'\n",
        "    })\n",
        "\n",
        "    print(f'Download URL for image {i}: {url}')\n"
      ],
      "metadata": {
        "colab": {
          "base_uri": "https://localhost:8080/",
          "height": 696
        },
        "id": "Mw6-fi0DRvIF",
        "outputId": "b40ee9b7-7241-45be-dd31-a7c903d6c6b6"
      },
      "execution_count": null,
      "outputs": [
        {
          "output_type": "display_data",
          "data": {
            "text/plain": [
              "<IPython.core.display.HTML object>"
            ],
            "text/html": [
              "\n",
              "            <style>\n",
              "                .geemap-dark {\n",
              "                    --jp-widgets-color: white;\n",
              "                    --jp-widgets-label-color: white;\n",
              "                    --jp-ui-font-color1: white;\n",
              "                    --jp-layout-color2: #454545;\n",
              "                    background-color: #383838;\n",
              "                }\n",
              "\n",
              "                .geemap-dark .jupyter-button {\n",
              "                    --jp-layout-color3: #383838;\n",
              "                }\n",
              "\n",
              "                .geemap-colab {\n",
              "                    background-color: var(--colab-primary-surface-color, white);\n",
              "                }\n",
              "\n",
              "                .geemap-colab .jupyter-button {\n",
              "                    --jp-layout-color3: var(--colab-primary-surface-color, white);\n",
              "                }\n",
              "            </style>\n",
              "            "
            ]
          },
          "metadata": {}
        },
        {
          "output_type": "stream",
          "name": "stdout",
          "text": [
            "Download URL for image 0: https://earthengine.googleapis.com/v1/projects/ee-a301/thumbnails/0135fbdcbf38f2c30692699ce4a12a9b-14a3f54beb8cc939d86d5ed72e1ea183:getPixels\n",
            "Download URL for image 1: https://earthengine.googleapis.com/v1/projects/ee-a301/thumbnails/9b50f7100b7685217b484de47d2a7352-58395ad1cd8cfaf926c4563385eb02f9:getPixels\n",
            "Download URL for image 2: https://earthengine.googleapis.com/v1/projects/ee-a301/thumbnails/4af84730e33306b9cd241411f8d15f4d-db5cf6fa859b17d20515162976c139e2:getPixels\n",
            "Download URL for image 3: https://earthengine.googleapis.com/v1/projects/ee-a301/thumbnails/71012191e5ffd823a6177a4c90bfebf2-9e8b9ef6d0e868359654696e25e229c6:getPixels\n",
            "Download URL for image 4: https://earthengine.googleapis.com/v1/projects/ee-a301/thumbnails/eb0589fff2a956d7ce15ef26781564a0-55755108562693ea04e4d423042973a2:getPixels\n",
            "Download URL for image 5: https://earthengine.googleapis.com/v1/projects/ee-a301/thumbnails/f8f70c8091db2f1aca0dd68ac7226b20-92da57dc3f23efb0dd43080e1c6a6bb8:getPixels\n",
            "Download URL for image 6: https://earthengine.googleapis.com/v1/projects/ee-a301/thumbnails/b97f2574fe2476779525d1a20e971d3f-0961a6b18e3b84525f685542b90884fe:getPixels\n",
            "Download URL for image 7: https://earthengine.googleapis.com/v1/projects/ee-a301/thumbnails/4c5db777ecd6e4473ce11f11aa0888c0-51768b6c44cfb87329915f22412cd11b:getPixels\n",
            "Download URL for image 8: https://earthengine.googleapis.com/v1/projects/ee-a301/thumbnails/fd3511cb5cc3e6e64aa8e90bd2bb4ad1-f77ebc7e9cc250479aca19bec52235c9:getPixels\n",
            "Download URL for image 9: https://earthengine.googleapis.com/v1/projects/ee-a301/thumbnails/892aee41ba03ccdd150cad7b17151591-03b1808b2b426d2ba18fec1bf87110e4:getPixels\n",
            "Download URL for image 10: https://earthengine.googleapis.com/v1/projects/ee-a301/thumbnails/2bde4d0ee94e80d4750e905543aa5a1e-6487de1a74aad0099cd5d50c29aa88b8:getPixels\n",
            "Download URL for image 11: https://earthengine.googleapis.com/v1/projects/ee-a301/thumbnails/c510f70ce61ef7374f19cfd8389a098d-01d63adeafc1cfe8d1c97a147952eefe:getPixels\n",
            "Download URL for image 12: https://earthengine.googleapis.com/v1/projects/ee-a301/thumbnails/d7a19bc487cd7ea15862b003db9b56d2-441f0b9deeeaddd42ce43d3ebb918154:getPixels\n",
            "Download URL for image 13: https://earthengine.googleapis.com/v1/projects/ee-a301/thumbnails/c6ebf546db90c9653526037fec0f4859-2f0503e430f56c560acf4464b3c81204:getPixels\n",
            "Download URL for image 14: https://earthengine.googleapis.com/v1/projects/ee-a301/thumbnails/df6778e7ebad6f010272e3b7a70f56a8-4084d7eebc1ed229556aeb14307bf414:getPixels\n",
            "Download URL for image 15: https://earthengine.googleapis.com/v1/projects/ee-a301/thumbnails/9eca30ce1e5140f15ec7b32cac62d1d4-2119afe84c0a1c43cf6447e70f736ec3:getPixels\n",
            "Download URL for image 16: https://earthengine.googleapis.com/v1/projects/ee-a301/thumbnails/7c8a86ea53df2d76654e10f6bdd400aa-64a1103839d9b0fd1897298fea603151:getPixels\n",
            "Download URL for image 17: https://earthengine.googleapis.com/v1/projects/ee-a301/thumbnails/ba918af4f93ab7473ec848b3631d20d4-5a332f34664b0bdb14169c37817e3c1e:getPixels\n",
            "Download URL for image 18: https://earthengine.googleapis.com/v1/projects/ee-a301/thumbnails/d8523fce6e7e7e25c841f955f37e3322-bd2cb50ff2c73bc7ac94c327224eae80:getPixels\n",
            "Download URL for image 19: https://earthengine.googleapis.com/v1/projects/ee-a301/thumbnails/aedf24d6b8bd84a9e84f0edf813b364d-92380f4c0961e51fd2e2d0d7cd0622d3:getPixels\n",
            "Download URL for image 20: https://earthengine.googleapis.com/v1/projects/ee-a301/thumbnails/62a0cf8b5091018fa5ca1d7b92b3725e-7e862244099d0e9f40ea3ffec4598b7d:getPixels\n",
            "Download URL for image 21: https://earthengine.googleapis.com/v1/projects/ee-a301/thumbnails/44682a54b0a2f599610a607c94686d24-df6da5cfe87d3f85896309ecf5dabb98:getPixels\n",
            "Download URL for image 22: https://earthengine.googleapis.com/v1/projects/ee-a301/thumbnails/cc6a6895d21039f565a091e59901873f-16166a4f1ba8b4aad7db35b2186fbaee:getPixels\n",
            "Download URL for image 23: https://earthengine.googleapis.com/v1/projects/ee-a301/thumbnails/33f6d0a0701ef3166882dfb9362048f1-17a3fdacf0f332168c13b4d14af77f0d:getPixels\n",
            "Download URL for image 24: https://earthengine.googleapis.com/v1/projects/ee-a301/thumbnails/a0250542518a349792f228eefed3f760-0627a781ba20f0c5ab36c39e2765bea3:getPixels\n",
            "Download URL for image 25: https://earthengine.googleapis.com/v1/projects/ee-a301/thumbnails/6733aca33f1bba8716adf6dfcbca54ee-578cfdfd43813a00975c700414d83e8c:getPixels\n",
            "Download URL for image 26: https://earthengine.googleapis.com/v1/projects/ee-a301/thumbnails/a0e0a550cf63435e8561d8de5620f74a-333b92ac2fc9922b63a82330f9ee8a26:getPixels\n",
            "Download URL for image 27: https://earthengine.googleapis.com/v1/projects/ee-a301/thumbnails/066f434ce31a63eda89c100197e39609-c986d9cf6cbb5275cf941ff216284c9b:getPixels\n",
            "Download URL for image 28: https://earthengine.googleapis.com/v1/projects/ee-a301/thumbnails/c6adba858fb7845b4044016d0a3941e8-39eebdaf9638d745113dcb44a4f613a0:getPixels\n",
            "Download URL for image 29: https://earthengine.googleapis.com/v1/projects/ee-a301/thumbnails/db58497451243c6807e55589b0fbc342-0c616df071e159a76da904a7678b306b:getPixels\n",
            "Download URL for image 30: https://earthengine.googleapis.com/v1/projects/ee-a301/thumbnails/ed278587f6242232f555aadd2f473f67-bed33bb042816c0d48cb2dfb4d0c452d:getPixels\n",
            "Download URL for image 31: https://earthengine.googleapis.com/v1/projects/ee-a301/thumbnails/d5e83c9dde1669e5b46744ead7975d70-39f745322ec38a1b7f0dd988e1097654:getPixels\n",
            "Download URL for image 32: https://earthengine.googleapis.com/v1/projects/ee-a301/thumbnails/287b98401f34b92834cef93f646b9298-b0d923c6493ecb0f92035a62389fd3b6:getPixels\n",
            "Download URL for image 33: https://earthengine.googleapis.com/v1/projects/ee-a301/thumbnails/5f06773a8cc5a732ddde44dd1c3ae14d-1f17d8c95330d952f95db9cbc1e37928:getPixels\n",
            "Download URL for image 34: https://earthengine.googleapis.com/v1/projects/ee-a301/thumbnails/6761f13c2e4d417fe825b062aed66002-86fcaec832a68a755b805fdb2d71e3fc:getPixels\n",
            "Download URL for image 35: https://earthengine.googleapis.com/v1/projects/ee-a301/thumbnails/8866328eddc22d3cdaa138265f13c821-d7a5486e8dd5046cb3f0dc8ba788b32e:getPixels\n",
            "Download URL for image 36: https://earthengine.googleapis.com/v1/projects/ee-a301/thumbnails/b1b12d3a898e19699ac5878355fc9fd9-f7994213fa4fa16ab163cf8864b3ff91:getPixels\n",
            "Download URL for image 37: https://earthengine.googleapis.com/v1/projects/ee-a301/thumbnails/90dd7557aa5101ffd16a9830b91c5d1f-9924cab97a50526bda86c8e062a3539d:getPixels\n"
          ]
        }
      ]
    },
    {
      "cell_type": "code",
      "source": [
        "# prompt: print all properties of an image\n",
        "\n",
        "print(l7_aug.first().getInfo())\n"
      ],
      "metadata": {
        "colab": {
          "base_uri": "https://localhost:8080/",
          "height": 180
        },
        "id": "Kd-gxgkaMAZk",
        "outputId": "794d1065-6153-4a7d-f7a3-bc7ff95dbdef"
      },
      "execution_count": null,
      "outputs": [
        {
          "output_type": "display_data",
          "data": {
            "text/plain": [
              "<IPython.core.display.HTML object>"
            ],
            "text/html": [
              "\n",
              "            <style>\n",
              "                .geemap-dark {\n",
              "                    --jp-widgets-color: white;\n",
              "                    --jp-widgets-label-color: white;\n",
              "                    --jp-ui-font-color1: white;\n",
              "                    --jp-layout-color2: #454545;\n",
              "                    background-color: #383838;\n",
              "                }\n",
              "\n",
              "                .geemap-dark .jupyter-button {\n",
              "                    --jp-layout-color3: #383838;\n",
              "                }\n",
              "\n",
              "                .geemap-colab {\n",
              "                    background-color: var(--colab-primary-surface-color, white);\n",
              "                }\n",
              "\n",
              "                .geemap-colab .jupyter-button {\n",
              "                    --jp-layout-color3: var(--colab-primary-surface-color, white);\n",
              "                }\n",
              "            </style>\n",
              "            "
            ]
          },
          "metadata": {}
        },
        {
          "output_type": "error",
          "ename": "NameError",
          "evalue": "name 'l7_aug' is not defined",
          "traceback": [
            "\u001b[0;31m---------------------------------------------------------------------------\u001b[0m",
            "\u001b[0;31mNameError\u001b[0m                                 Traceback (most recent call last)",
            "\u001b[0;32m<ipython-input-21-ccfb9e4474d7>\u001b[0m in \u001b[0;36m<cell line: 0>\u001b[0;34m()\u001b[0m\n\u001b[1;32m      1\u001b[0m \u001b[0;31m# prompt: print all properties of an image\u001b[0m\u001b[0;34m\u001b[0m\u001b[0;34m\u001b[0m\u001b[0m\n\u001b[1;32m      2\u001b[0m \u001b[0;34m\u001b[0m\u001b[0m\n\u001b[0;32m----> 3\u001b[0;31m \u001b[0mprint\u001b[0m\u001b[0;34m(\u001b[0m\u001b[0ml7_aug\u001b[0m\u001b[0;34m.\u001b[0m\u001b[0mfirst\u001b[0m\u001b[0;34m(\u001b[0m\u001b[0;34m)\u001b[0m\u001b[0;34m.\u001b[0m\u001b[0mgetInfo\u001b[0m\u001b[0;34m(\u001b[0m\u001b[0;34m)\u001b[0m\u001b[0;34m)\u001b[0m\u001b[0;34m\u001b[0m\u001b[0;34m\u001b[0m\u001b[0m\n\u001b[0m",
            "\u001b[0;31mNameError\u001b[0m: name 'l7_aug' is not defined"
          ]
        }
      ]
    },
    {
      "cell_type": "code",
      "metadata": {
        "id": "WyNni8FsP0Ss"
      },
      "source": [
        "# Define the urban location of interest as a point near Lyon, France.\n",
        "u_lon = 4.8148\n",
        "u_lat = 45.7758\n",
        "u_poi = ee.Geometry.Point(u_lon, u_lat)\n",
        "\n",
        "# Define the rural location of interest as a point away from the city.\n",
        "r_lon = 5.175964\n",
        "r_lat = 45.574064\n",
        "r_poi = ee.Geometry.Point(r_lon, r_lat)"
      ],
      "execution_count": null,
      "outputs": []
    },
    {
      "cell_type": "markdown",
      "metadata": {
        "id": "5_b5z0ieQAO0"
      },
      "source": [
        "We can easily get information about our region/point of interest using the following methods (to get more information about available methods and required arguments, please visit the API documentation [here](https://developers.google.com/earth-engine/api_docs)):\n",
        "\n",
        "- `sample()`: samples the image (does NOT work for an `ee.ImageCollection` — we'll talk about sampling an `ee.ImageCollection` later) according to a given geometry and a scale (in meters) of the projection to sample in. It returns an `ee.FeatureCollection`.\n",
        "- `first()`: returns the first entry of the collection,\n",
        "- `get()`: to select the appropriate band of your Image/Collection,\n",
        "- `getInfo()`: evaluates server-side expression graph and transfers result to client.\n",
        "\n",
        "Then we can query the ground elevation and LST around our point of interest using the following commands. Please be careful when evaluating LST. According to the [dataset description](https://developers.google.com/earth-engine/datasets/catalog/MODIS_006_MOD11A1), the value should be corrected by a factor of 0.02 to get units of Kelvin (do not forget the conversion). To get the mean multi-annual daytime LST, we use the `mean()` collection reduction method on the LST `ee.ImageCollection`. (The following run might take about 15-20 seconds)"
      ]
    },
    {
      "cell_type": "code",
      "metadata": {
        "id": "qwNoBjtyP3P8"
      },
      "source": [
        "scale = 1000  # scale in meters\n",
        "\n",
        "# Print the elevation near Lyon, France.\n",
        "elv_urban_point = elv.sample(u_poi, scale).first().get('elevation').getInfo()\n",
        "print('Ground elevation at urban point:', elv_urban_point, 'm')\n",
        "\n",
        "# Calculate and print the mean value of the LST collection at the point.\n",
        "lst_urban_point = lst.mean().sample(u_poi, scale).first().get('LST_Day_1km').getInfo()\n",
        "print('Average daytime LST at urban point:', round(lst_urban_point*0.02 -273.15, 2), '°C')\n",
        "\n",
        "# Print the land cover type at the point.\n",
        "lc_urban_point = lc.first().sample(u_poi, scale).first().get('LC_Type1').getInfo()\n",
        "print('Land cover value at urban point is:', lc_urban_point)"
      ],
      "execution_count": null,
      "outputs": []
    },
    {
      "cell_type": "markdown",
      "metadata": {
        "id": "uPiiAMxJQLDc"
      },
      "source": [
        "Going back to the band description of the `lc` dataset, we see that a `lc` value of \"13\" corresponds to an urban land. You can run the above cells with the rural point coordinates if you want to notice a difference."
      ]
    },
    {
      "cell_type": "markdown",
      "metadata": {
        "id": "oCLX5Nu_QWKE"
      },
      "source": [
        "## Get a time series\n",
        "\n",
        "Now that you see we can get geospatial information about a place of interest pretty easily, you may want to inspect a time series, probably make some charts and calculate statistics about a place. Hence, we import the data at the given locations using the `getRegion()` method."
      ]
    },
    {
      "cell_type": "code",
      "metadata": {
        "id": "tl2aDJe7Qbr6"
      },
      "source": [
        "# Get the data for the pixel intersecting the point in urban area.\n",
        "lst_u_poi = lst.getRegion(u_poi, scale).getInfo()\n",
        "\n",
        "# Get the data for the pixel intersecting the point in rural area.\n",
        "lst_r_poi = lst.getRegion(r_poi, scale).getInfo()\n",
        "\n",
        "# Preview the result.\n",
        "lst_u_poi[:5]"
      ],
      "execution_count": null,
      "outputs": []
    },
    {
      "cell_type": "markdown",
      "metadata": {
        "id": "MCM4L83rQjfE"
      },
      "source": [
        "Printing the first 5 lines of the result shows that we now have arrays full of data. As we can see several `None` values appear in the _LST\\_Day\\_1km_ column. The associated quality indicator _QC\\_Day_ indicates a value of _2_ meaning that the LST is not calculated because of cloud effects.\n",
        "\n",
        "We now define a function to transform this array into a pandas Dataframe which is much more convenient to manipulate."
      ]
    },
    {
      "cell_type": "code",
      "metadata": {
        "id": "eQdthk0m5vJ9"
      },
      "source": [
        "import pandas as pd\n",
        "\n",
        "def ee_array_to_df(arr, list_of_bands):\n",
        "    \"\"\"Transforms client-side ee.Image.getRegion array to pandas.DataFrame.\"\"\"\n",
        "    df = pd.DataFrame(arr)\n",
        "\n",
        "    # Rearrange the header.\n",
        "    headers = df.iloc[0]\n",
        "    df = pd.DataFrame(df.values[1:], columns=headers)\n",
        "\n",
        "    # Remove rows without data inside.\n",
        "    df = df[['longitude', 'latitude', 'time', *list_of_bands]].dropna()\n",
        "\n",
        "    # Convert the data to numeric values.\n",
        "    for band in list_of_bands:\n",
        "        df[band] = pd.to_numeric(df[band], errors='coerce')\n",
        "\n",
        "    # Convert the time field into a datetime.\n",
        "    df['datetime'] = pd.to_datetime(df['time'], unit='ms')\n",
        "\n",
        "    # Keep the columns of interest.\n",
        "    df = df[['time','datetime',  *list_of_bands]]\n",
        "\n",
        "    return df"
      ],
      "execution_count": null,
      "outputs": []
    },
    {
      "cell_type": "markdown",
      "metadata": {
        "id": "-bqU_iyJQqi1"
      },
      "source": [
        "We apply this function to get the two time series we want (and print one).\n"
      ]
    },
    {
      "cell_type": "code",
      "metadata": {
        "id": "0-HSQbMDQrdV"
      },
      "source": [
        "lst_df_urban = ee_array_to_df(lst_u_poi,['LST_Day_1km'])\n",
        "\n",
        "def t_modis_to_celsius(t_modis):\n",
        "    \"\"\"Converts MODIS LST units to degrees Celsius.\"\"\"\n",
        "    t_celsius =  0.02*t_modis - 273.15\n",
        "    return t_celsius\n",
        "\n",
        "# Apply the function to get temperature in celsius.\n",
        "lst_df_urban['LST_Day_1km'] = lst_df_urban['LST_Day_1km'].apply(t_modis_to_celsius)\n",
        "\n",
        "# Do the same for the rural point.\n",
        "lst_df_rural = ee_array_to_df(lst_r_poi,['LST_Day_1km'])\n",
        "lst_df_rural['LST_Day_1km'] = lst_df_rural['LST_Day_1km'].apply(t_modis_to_celsius)\n",
        "\n",
        "lst_df_urban.head()"
      ],
      "execution_count": null,
      "outputs": []
    },
    {
      "cell_type": "markdown",
      "metadata": {
        "id": "vcrTDkERQwg9"
      },
      "source": [
        "Now that we have our data in a good shape, we can easily make plots and compare the trends. As the area of Lyon, France experiences a semi-continental climate, we expect that LST has a seasonality influence and the sinusoidal trend described by [Stallman (1965)](https://doi.org/10.1029/JZ070i012p02821) reading as follow:\n",
        "\n",
        "$$\n",
        "LST(t) = LST_{0} + \\frac{\\Delta _{LST}}{2}sin(\\frac{2\\pi t}{\\tau} + \\phi)\n",
        "$$\n",
        "\n",
        "where:\n",
        "\n",
        "- $LST_{0}$ represents the mean annual LST,\n",
        "- $\\Delta _{LST}$ represents the amplitude between maximal and minimal LST,\n",
        "- $\\tau$ represents the period of oscillation of LST, and\n",
        "- $\\phi$ represents an offset needed to adjust the time when $LST(t) = LST_{0}$\n",
        "\n",
        "Consequently, on the top of the data scatter plot, we plot the fitting curve using the scipy library:"
      ]
    },
    {
      "cell_type": "code",
      "metadata": {
        "id": "G3APsp1JQz8l"
      },
      "source": [
        "import matplotlib.pyplot as plt\n",
        "import numpy as np\n",
        "from scipy import optimize\n",
        "%matplotlib inline\n",
        "\n",
        "# Fitting curves.\n",
        "## First, extract x values (times) from the dfs.\n",
        "x_data_u = np.asanyarray(lst_df_urban['time'].apply(float))  # urban\n",
        "x_data_r = np.asanyarray(lst_df_rural['time'].apply(float))  # rural\n",
        "\n",
        "## Secondly, extract y values (LST) from the dfs.\n",
        "y_data_u = np.asanyarray(lst_df_urban['LST_Day_1km'].apply(float))  # urban\n",
        "y_data_r = np.asanyarray(lst_df_rural['LST_Day_1km'].apply(float))  # rural\n",
        "\n",
        "## Then, define the fitting function with parameters.\n",
        "def fit_func(t, lst0, delta_lst, tau, phi):\n",
        "    return lst0 + (delta_lst/2)*np.sin(2*np.pi*t/tau + phi)\n",
        "\n",
        "## Optimize the parameters using a good start p0.\n",
        "lst0 = 20\n",
        "delta_lst = 40\n",
        "tau = 365*24*3600*1000   # milliseconds in a year\n",
        "phi = 2*np.pi*4*30.5*3600*1000/tau  # offset regarding when we expect LST(t)=LST0\n",
        "\n",
        "params_u, params_covariance_u = optimize.curve_fit(\n",
        "    fit_func, x_data_u, y_data_u, p0=[lst0, delta_lst, tau, phi])\n",
        "params_r, params_covariance_r = optimize.curve_fit(\n",
        "    fit_func, x_data_r, y_data_r, p0=[lst0, delta_lst, tau, phi])\n",
        "\n",
        "# Subplots.\n",
        "fig, ax = plt.subplots(figsize=(14, 6))\n",
        "\n",
        "# Add scatter plots.\n",
        "ax.scatter(lst_df_urban['datetime'], lst_df_urban['LST_Day_1km'],\n",
        "           c='black', alpha=0.2, label='Urban (data)')\n",
        "ax.scatter(lst_df_rural['datetime'], lst_df_rural['LST_Day_1km'],\n",
        "           c='green', alpha=0.35, label='Rural (data)')\n",
        "\n",
        "# Add fitting curves.\n",
        "ax.plot(lst_df_urban['datetime'],\n",
        "        fit_func(x_data_u, params_u[0], params_u[1], params_u[2], params_u[3]),\n",
        "        label='Urban (fitted)', color='black', lw=2.5)\n",
        "ax.plot(lst_df_rural['datetime'],\n",
        "        fit_func(x_data_r, params_r[0], params_r[1], params_r[2], params_r[3]),\n",
        "        label='Rural (fitted)', color='green', lw=2.5)\n",
        "\n",
        "# Add some parameters.\n",
        "ax.set_title('Daytime Land Surface Temperature Near Lyon', fontsize=16)\n",
        "ax.set_xlabel('Date', fontsize=14)\n",
        "ax.set_ylabel('Temperature [C]', fontsize=14)\n",
        "ax.set_ylim(-0, 40)\n",
        "ax.grid(lw=0.2)\n",
        "ax.legend(fontsize=14, loc='lower right')\n",
        "\n",
        "plt.show()"
      ],
      "execution_count": null,
      "outputs": []
    },
    {
      "cell_type": "markdown",
      "metadata": {
        "id": "83Fo8CQMRQFX"
      },
      "source": [
        "## Static mapping of land surface temperature and ground elevation"
      ]
    },
    {
      "cell_type": "markdown",
      "metadata": {
        "id": "26WGEXdKGnDO"
      },
      "source": [
        "### Get a static map\n",
        "\n",
        "Now, we want to get static maps of land surface temperature and ground elevation around a region of interest. We define this region of interest using a buffer zone of 1000 km around Lyon, France."
      ]
    },
    {
      "cell_type": "code",
      "metadata": {
        "id": "DyYbq27DRpF3"
      },
      "source": [
        "# Define a region of interest with a buffer zone of 1000 km around Lyon.\n",
        "roi = u_poi.buffer(1e6)"
      ],
      "execution_count": null,
      "outputs": []
    },
    {
      "cell_type": "markdown",
      "metadata": {
        "id": "5pLydjJzRw3m"
      },
      "source": [
        "Also, we have to convert the LST `ee.ImageCollection` into an `ee.Image`, for example by taking the mean value of each pixel over the period of interest. And we convert the value of pixels into Celsius:"
      ]
    },
    {
      "cell_type": "code",
      "metadata": {
        "id": "zl7ueytoRxx-"
      },
      "source": [
        "# Reduce the LST collection by mean.\n",
        "lst_img = lst.mean()\n",
        "\n",
        "# Adjust for scale factor.\n",
        "lst_img = lst_img.select('LST_Day_1km').multiply(0.02)\n",
        "\n",
        "# Convert Kelvin to Celsius.\n",
        "lst_img = lst_img.select('LST_Day_1km').add(-273.15)"
      ],
      "execution_count": null,
      "outputs": []
    },
    {
      "cell_type": "markdown",
      "metadata": {
        "id": "HH5517P-R5E-"
      },
      "source": [
        "Then, we use the `getThumbUrl()` method to get a URL and we can use the IPython library to display the mean daytime LST map for the region of interest. Blue represents the coldest areas (< 10°C) and red represents the warmest areas (> 30°C) (note that it may take a moment for the image to load after the cell completes execution)."
      ]
    },
    {
      "cell_type": "code",
      "metadata": {
        "id": "vdzURyDxYdRM"
      },
      "source": [
        "from IPython.display import Image\n",
        "\n",
        "# Create a URL to the styled image for a region around France.\n",
        "url = lst_img.getThumbUrl({\n",
        "    'min': 10, 'max': 30, 'dimensions': 512, 'region': roi,\n",
        "    'palette': ['blue', 'yellow', 'orange', 'red']})\n",
        "print(url)\n",
        "\n",
        "# Display the thumbnail land surface temperature in France.\n",
        "print('\\nPlease wait while the thumbnail loads, it may take a moment...')\n",
        "Image(url=url)"
      ],
      "execution_count": null,
      "outputs": []
    },
    {
      "cell_type": "markdown",
      "metadata": {
        "id": "WavcJTkDSAl1"
      },
      "source": [
        "We do the same for ground elevation:"
      ]
    },
    {
      "cell_type": "code",
      "metadata": {
        "id": "m9KQojW-b4au"
      },
      "source": [
        "# Make pixels with elevation below sea level transparent.\n",
        "elv_img = elv.updateMask(elv.gt(0))\n",
        "\n",
        "# Display the thumbnail of styled elevation in France.\n",
        "Image(url=elv_img.getThumbURL({\n",
        "    'min': 0, 'max': 2000, 'dimensions': 512, 'region': roi,\n",
        "    'palette': ['006633', 'E5FFCC', '662A00', 'D8D8D8', 'F5F5F5']}))"
      ],
      "execution_count": null,
      "outputs": []
    },
    {
      "cell_type": "markdown",
      "metadata": {
        "id": "zeJCOL23SE4-"
      },
      "source": [
        "Of course you may want to have a closer look around a specific part of the map. So let's define another region (a buffer zone around Lyon), adjust the min/max scale and display:"
      ]
    },
    {
      "cell_type": "code",
      "metadata": {
        "id": "0cYxt2mVSHil"
      },
      "source": [
        "# Create a buffer zone of 10 km around Lyon.\n",
        "lyon = u_poi.buffer(10000)  # meters\n",
        "\n",
        "url = elv_img.getThumbUrl({\n",
        "    'min': 150, 'max': 350, 'region': lyon, 'dimensions': 512,\n",
        "    'palette': ['006633', 'E5FFCC', '662A00', 'D8D8D8', 'F5F5F5']})\n",
        "Image(url=url)"
      ],
      "execution_count": null,
      "outputs": []
    },
    {
      "cell_type": "markdown",
      "metadata": {
        "id": "x7HQlF2FSPFl"
      },
      "source": [
        "### Clip an image by a region of interest\n",
        "\n",
        "In case you want to display an image over a given region (and not outside), we can clip our dataset using the region as an argument of the `clip()` method. Let's say that we want to display the ground elevation in France. We can get the geometry of the administrative boundary of France with the [FAO feature collection](https://developers.google.com/earth-engine/datasets/catalog/FAO_GAUL_2015_level0) and do the same as before:"
      ]
    },
    {
      "cell_type": "code",
      "metadata": {
        "id": "XyiRmMt8SVot"
      },
      "source": [
        "# Get a feature collection of administrative boundaries.\n",
        "countries = ee.FeatureCollection('FAO/GAUL/2015/level0').select('ADM0_NAME')\n",
        "\n",
        "# Filter the feature collection to subset France.\n",
        "france = countries.filter(ee.Filter.eq('ADM0_NAME', 'France'))\n",
        "\n",
        "# Clip the image by France.\n",
        "elv_fr = elv_img.clip(france)\n",
        "\n",
        "# Create the URL associated with the styled image data.\n",
        "url = elv_fr.getThumbUrl({\n",
        "    'min': 0, 'max': 2500, 'region': roi, 'dimensions': 512,\n",
        "    'palette': ['006633', 'E5FFCC', '662A00', 'D8D8D8', 'F5F5F5']})\n",
        "\n",
        "# Display a thumbnail of elevation in France.\n",
        "Image(url=url)"
      ],
      "execution_count": null,
      "outputs": []
    },
    {
      "cell_type": "markdown",
      "metadata": {
        "id": "nPE71g0rSanG"
      },
      "source": [
        "## Export a GeoTIFF file\n",
        "\n",
        "After manipulating Earth Engine datasets, you may need to export a resulting `ee.Image` to a GeoTIFF. For example, to use it as an input of a numerical model outside of Earth Engine, or to overlap it with personal georeferenced files in your favorite GIS. There are multiple ways to do that (see the [Exporting](https://developers.google.com/earth-engine/guides/exporting#exporting-images) section of the Developer Guide). Here we explore two options:\n",
        "\n",
        "- Save the `ee.Image` you want in Google Drive\n",
        "- Directly download the image."
      ]
    },
    {
      "cell_type": "markdown",
      "metadata": {
        "id": "M18DAo-sHFUd"
      },
      "source": [
        "### Save a GeoTIFF file in your Google Drive\n",
        "\n",
        "To export the `ee.Image` to Google Drive, we have to define a task and start it. We have to specify the size of pixels (here 30 m), the projection (here EPSG:4326), the file format (here GeoTIFF), the region of interest (here the area of Lyon defined before), and the file will be exported to the Google Drive directory head and named according to the `fileNamePrefix` we choose."
      ]
    },
    {
      "cell_type": "code",
      "metadata": {
        "id": "pxJSKalPT2xA"
      },
      "source": [
        "task = ee.batch.Export.image.toDrive(image=elv_img,\n",
        "                                     description='elevation_near_lyon_france',\n",
        "                                     scale=30,\n",
        "                                     region=lyon,\n",
        "                                     fileNamePrefix='my_export_lyon',\n",
        "                                     crs='EPSG:4326',\n",
        "                                     fileFormat='GeoTIFF')\n",
        "task.start()"
      ],
      "execution_count": null,
      "outputs": []
    },
    {
      "cell_type": "markdown",
      "metadata": {
        "id": "1dq_B43MT8d_"
      },
      "source": [
        "Then we can check the status of our task (note: the task will also be registered in the JavaScript [Code Editor's](https://code.earthengine.google.com/) list of tasks) using the `status()` method. Depending on the size of the request, we might run this cell several times until the task *state* becomes 'COMPLETED' (in order, the state of the export task is 'READY', then 'RUNNING', and finally 'COMPLETED')."
      ]
    },
    {
      "cell_type": "code",
      "metadata": {
        "id": "FHMfGQPNT9Ue"
      },
      "source": [
        "task.status()"
      ],
      "execution_count": null,
      "outputs": []
    },
    {
      "cell_type": "markdown",
      "metadata": {
        "id": "u3Vqk5nQUBs2"
      },
      "source": [
        "Now you can check your google drive to find your file.\n",
        "\n",
        "### Get a link to download your GeoTIFF\n",
        "\n",
        "Similarly, we can use the `getDownloadUrl()` method and click on the provided link. Please note the following points:\n",
        "\n",
        "- For large or long-running exports, using the `ee.batch.Export` module (previous section) is a better method.\n",
        "- The token to generate the Earth Engine layer tiles expires after about a day.\n"
      ]
    },
    {
      "cell_type": "code",
      "metadata": {
        "id": "gzHi1xooUJ1A"
      },
      "source": [
        "link = lst_img.getDownloadURL({\n",
        "    'scale': 30,\n",
        "    'crs': 'EPSG:4326',\n",
        "    'fileFormat': 'GeoTIFF',\n",
        "    'region': lyon})\n",
        "print(link)"
      ],
      "execution_count": null,
      "outputs": []
    },
    {
      "cell_type": "markdown",
      "metadata": {
        "id": "JAn5ihMPUPrQ"
      },
      "source": [
        "## Interactive mapping using folium\n",
        "\n",
        "To display these GEE datasets on an interactive map, let me introduce you to [folium](https://python-visualization.github.io/folium/). Folium is a python library based on [leaflet.js](https://leafletjs.com/) (open-source JavaScript library for mobile-friendly interactive maps) that you can use to make interactive maps. Folium supports WMS, GeoJSON layers, vector layers, and tile layers which make it very convenient and straightforward to visualize the data we manipulate with python. We create our first interactive map with one line of code, specifying the location where we want to center the map, the zoom level, and the main dimensions of the map:"
      ]
    },
    {
      "cell_type": "code",
      "metadata": {
        "id": "zawegH1MUdlX"
      },
      "source": [
        "import folium\n",
        "\n",
        "# Define the center of our map.\n",
        "lat, lon = 45.77, 4.855\n",
        "\n",
        "my_map = folium.Map(location=[lat, lon], zoom_start=10)\n",
        "my_map"
      ],
      "execution_count": null,
      "outputs": []
    },
    {
      "cell_type": "markdown",
      "metadata": {
        "id": "lQn6Gig1Uh2A"
      },
      "source": [
        "On top of this map, we now want to add the GEE layers we studied before: land cover (LC), land surface temperature (LST) and ground elevation model (ELV). For each GEE dataset, the process consists of adding a new tile layer to our map with specified visualization parameters. Let's define a new method for handing Earth Engine tiles and using it to display an elevation model to a Leaflet map."
      ]
    },
    {
      "cell_type": "code",
      "metadata": {
        "id": "89EeGz_3lVEn"
      },
      "source": [
        "def add_ee_layer(self, ee_image_object, vis_params, name):\n",
        "    \"\"\"Adds a method for displaying Earth Engine image tiles to folium map.\"\"\"\n",
        "    map_id_dict = ee.Image(ee_image_object).getMapId(vis_params)\n",
        "    folium.raster_layers.TileLayer(\n",
        "        tiles=map_id_dict['tile_fetcher'].url_format,\n",
        "        attr='Map Data &copy; <a href=\"https://earthengine.google.com/\">Google Earth Engine</a>',\n",
        "        name=name,\n",
        "        overlay=True,\n",
        "        control=True\n",
        "    ).add_to(self)\n",
        "\n",
        "# Add Earth Engine drawing method to folium.\n",
        "folium.Map.add_ee_layer = add_ee_layer"
      ],
      "execution_count": null,
      "outputs": []
    },
    {
      "cell_type": "markdown",
      "metadata": {
        "id": "t-OsgK3Gll-3"
      },
      "source": [
        "We want to respect the common LC classes defined in the table of the previous section (hexadecimal codes are given for each class: water bodies are blue, urban areas are grey, forests are green, etc.). Then we define visualization parameters associated with LC and apply the method we defined earlier:"
      ]
    },
    {
      "cell_type": "code",
      "metadata": {
        "id": "zNIAkdfqUjF3"
      },
      "source": [
        "# Select a specific band and dates for land cover.\n",
        "lc_img = lc.select('LC_Type1').filterDate(i_date).first()\n",
        "\n",
        "# Set visualization parameters for land cover.\n",
        "lc_vis_params = {\n",
        "    'min': 1,'max': 17,\n",
        "    'palette': ['05450a','086a10', '54a708', '78d203', '009900', 'c6b044',\n",
        "                'dcd159', 'dade48', 'fbff13', 'b6ff05', '27ff87', 'c24f44',\n",
        "                'a5a5a5', 'ff6d4c', '69fff8', 'f9ffa4', '1c0dff']\n",
        "}\n",
        "\n",
        "# Create a map.\n",
        "lat, lon = 45.77, 4.855\n",
        "my_map = folium.Map(location=[lat, lon], zoom_start=7)\n",
        "\n",
        "# Add the land cover to the map object.\n",
        "my_map.add_ee_layer(lc_img, lc_vis_params, 'Land Cover')\n",
        "\n",
        "# Add a layer control panel to the map.\n",
        "my_map.add_child(folium.LayerControl())\n",
        "\n",
        "# Display the map.\n",
        "display(my_map)"
      ],
      "execution_count": null,
      "outputs": []
    },
    {
      "cell_type": "markdown",
      "metadata": {
        "id": "fuSdKLP0ntSH"
      },
      "source": [
        "Finally, the map can be saved in *HTML* format using the folium method `save()` specifying the file name as an argument of this method. If you run this cell using Google Colab, your *HTML* file is saved in the *content* folder of your Colab environment. If you run this cell locally, the file is saved inside your current working directory. Then, you will be able to open your *HTML* file with your favorite navigator.\n"
      ]
    },
    {
      "cell_type": "code",
      "metadata": {
        "id": "rtL7fIuSUszw"
      },
      "source": [
        "my_map.save('my_lc_interactive_map.html')"
      ],
      "execution_count": null,
      "outputs": []
    },
    {
      "cell_type": "markdown",
      "metadata": {
        "id": "FNFWTpRXUw0Y"
      },
      "source": [
        "Of course we can add other datasets similarly, by defining some visualization parameters and by adding the appropriate tiles:"
      ]
    },
    {
      "cell_type": "code",
      "metadata": {
        "id": "_VURxXlQUxro"
      },
      "source": [
        "# Set visualization parameters for ground elevation.\n",
        "elv_vis_params = {\n",
        "    'min': 0, 'max': 4000,\n",
        "    'palette': ['006633', 'E5FFCC', '662A00', 'D8D8D8', 'F5F5F5']}\n",
        "\n",
        "# Set visualization parameters for land surface temperature.\n",
        "lst_vis_params = {\n",
        "    'min': 0, 'max': 40,\n",
        "    'palette': ['white', 'blue', 'green', 'yellow', 'orange', 'red']}\n",
        "\n",
        "# Arrange layers inside a list (elevation, LST and land cover).\n",
        "ee_tiles = [elv_img, lst_img, lc_img]\n",
        "\n",
        "# Arrange visualization parameters inside a list.\n",
        "ee_vis_params = [elv_vis_params, lst_vis_params, lc_vis_params]\n",
        "\n",
        "# Arrange layer names inside a list.\n",
        "ee_tiles_names = ['Elevation', 'Land Surface Temperature', 'Land Cover']\n",
        "\n",
        "# Create a new map.\n",
        "lat, lon = 45.77, 4.855\n",
        "my_map = folium.Map(location=[lat, lon], zoom_start=5)\n",
        "\n",
        "# Add layers to the map using a loop.\n",
        "for tile, vis_param, name in zip(ee_tiles, ee_vis_params, ee_tiles_names):\n",
        "    my_map.add_ee_layer(tile, vis_param, name)\n",
        "\n",
        "folium.LayerControl(collapsed = False).add_to(my_map)\n",
        "\n",
        "my_map"
      ],
      "execution_count": null,
      "outputs": []
    },
    {
      "cell_type": "markdown",
      "metadata": {
        "id": "PpFkh36BVLMh"
      },
      "source": [
        "## Documentation\n",
        "\n",
        "- The full documentation of the Google Earth Engine Python API is available [here](https://developers.google.com/earth-engine/api_docs).\n",
        "- The Google Earth Engine User Guide is available [here](https://developers.google.com/earth-engine).\n",
        "- Some tutorials are available [here](https://developers.google.com/earth-engine/tutorials).\n",
        "- An example based on the Google Earth Engine Javascript console dedicated to Land Surface Temperature estimation is provided in the open access supplementary material of [Benz et al., (2017)](https://iopscience.iop.org/article/10.1088/1748-9326/aa5fb0/meta). You can access the code [here](https://code.earthengine.google.com/4a1bc64dbc3351a1e364490758d4cf2d).\n",
        "\n",
        "## Acknowledgements\n",
        "\n",
        "Thanks to Susanne Benz and Justin Braaten for reviewing and helping write this tutorial."
      ]
    }
  ]
}