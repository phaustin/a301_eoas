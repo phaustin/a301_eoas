{
 "cells": [
  {
   "cell_type": "markdown",
   "id": "6a81afb5",
   "metadata": {},
   "source": [
    "(week10:false_color_examples)=\n",
    "# Landsat 8 false color examples\n",
    "\n",
    "In the {ref}`week7:false_color` notebook we showed how to make a false color composite with Landsat 8 bands 5, 4, 3 mapped to \n",
    "red, blue and green (color infrared)\n",
    "\n",
    "In this notebook we move that code into a function called `make_false_color`, and show a Vancouver scene with some different band combinations.  We make use of a boolean mask to get a stretched histogram using\n",
    "skimage.exposure that only calculates the stretched histogram for cloud-free pixels over land.\n",
    "\n",
    "The `make_false_color` function takes an [xarray.Dataset](https://docs.xarray.dev/en/stable/generated/xarray.Dataset.html) containing an fmask and all the Landsat bands\n",
    "and returns a false color rioxarray.DataArray containing a [3,nrows,ncols] array with the stacked bands.\n",
    "\n",
    "New functions:\n",
    "\n",
    "- {ref}`make_dataset`\n",
    "- {ref}`make_bool_mask`\n",
    "- {ref}`make_false_color`\n",
    "\n",
    "## Installation\n",
    "\n",
    "1) Download [false_color_examples.ipynb](https://drive.google.com/drive/folders/1-Ja2wVKVIjkZb7Gx_rfc14J_aBYiknuw?usp=sharing) from the week 10 folder\n",
    "2) Download the  week10 tif files from `satdata/landsat/vancouver_2023/week10` and move them to `~/repos/a301/satdata/landsat/week10/"
   ]
  },
  {
   "cell_type": "code",
   "execution_count": null,
   "id": "57d28516",
   "metadata": {},
   "outputs": [],
   "source": [
    "import xarray\n",
    "import rioxarray\n",
    "from matplotlib import pyplot as plt\n",
    "import numpy as np\n",
    "from skimage import exposure, img_as_ubyte\n",
    "from IPython.display import Image\n",
    "from pathlib import Path\n",
    "from numpy.typing import NDArray"
   ]
  },
  {
   "cell_type": "markdown",
   "id": "aaf5c74b",
   "metadata": {},
   "source": [
    "## Understanding Landsat band location\n",
    "\n",
    "The figure below shows average reflectances for various surface types. Compare some of thse\n",
    "reflectance values with the landsat band locations in microns\n",
    "\n",
    "1) coastal aerosol: 0.44\n",
    "2) blue: 0.47\n",
    "3) green: 0.55\n",
    "4) red:  0.65\n",
    "5) near-ir:  0.86\n",
    "6) swir1  1.6\n",
    "7) swir2: 2.2"
   ]
  },
  {
   "cell_type": "markdown",
   "id": "c81bc2da",
   "metadata": {},
   "source": [
    "```{figure} figures/hou_reflectance.png\n",
    ":name: fig:reflectance_spectra\n",
    ":width: 80%\n",
    "\n",
    "Reflectance spectra\n",
    "```"
   ]
  },
  {
   "cell_type": "markdown",
   "id": "613f26d4",
   "metadata": {},
   "source": [
    "## Landsat bands by surface type"
   ]
  },
  {
   "cell_type": "markdown",
   "id": "99954d79",
   "metadata": {},
   "source": [
    "```{figure} figures/landsat8_bands.png\n",
    ":name: landsat_8_bands![landsat8_bands.png](attachment:9454ecea-8cba-488a-87ec-110fb2b5d57f.png)\n",
    ":width: 80%\n",
    "\n",
    "Landsat 8 band wavelengths\n",
    "```"
   ]
  },
  {
   "cell_type": "markdown",
   "id": "d21f650e",
   "metadata": {},
   "source": [
    "## Landsat false color combinations"
   ]
  },
  {
   "cell_type": "markdown",
   "id": "6091d299",
   "metadata": {},
   "source": [
    "```{figure} figures/arc_gis_bands.png\n",
    ":width: 80%\n",
    ":name: landsat_8_bands\n",
    "\n",
    "\n",
    "```"
   ]
  },
  {
   "cell_type": "markdown",
   "id": "8947815b",
   "metadata": {},
   "source": [
    "### Specific examples\n",
    "\n",
    "- see [this website](https://www.nv5geospatialsoftware.com/Learn/Blogs/Blog-Details/the-many-band-combinations-of-landsat-8) for images that demonstrate the combinations\n",
    "- see [this goes2go demo](https://blaylockbk.github.io/goes2go/_build/html/user_guide/notebooks/DEMO_rgb_recipes.html) for mulitple GOES band combinations"
   ]
  },
  {
   "cell_type": "markdown",
   "id": "f331fe39",
   "metadata": {},
   "source": [
    "## False color bands for Vancouver"
   ]
  },
  {
   "cell_type": "code",
   "execution_count": null,
   "id": "3a36b37c",
   "metadata": {
    "user_expressions": []
   },
   "outputs": [],
   "source": [
    "bands={'B01':'Coastal_Aerosol',\n",
    "        'B02':'Blue',\n",
    "        'B03':'Green',\n",
    "        'B04':'Red',\n",
    "        'B05':'NIR',\n",
    "        'B06':'SWIR1',\n",
    "        'B07':'SWIR2',\n",
    "        'B09':'Cirrus',\n",
    "        'B10':'TIRS1',\n",
    "        'B11':'TIRS2',\n",
    "        'fmask':'fmask'}"
   ]
  },
  {
   "cell_type": "markdown",
   "id": "a9797bf4",
   "metadata": {},
   "source": [
    "### Read all bands into a dictionary\n",
    "\n",
    "Use the `bands` dictionary to identify the band by its name (Blue, Green, etc)\n",
    "and store it in `scene_dict`.  Masking fmask would convert it from 8 bit to float, so we\n",
    "need to special-case the fmask file."
   ]
  },
  {
   "cell_type": "code",
   "execution_count": null,
   "id": "1942af69",
   "metadata": {},
   "outputs": [],
   "source": [
    "data_dir = Path().home() / 'repos/a301/satdata/landsat'\n",
    "all_tifs = list(data_dir.glob('**/week10*clipped_*.tif'))\n",
    "scene_dict = {}\n",
    "for key,bandname in bands.items():\n",
    "    band_tif = None\n",
    "    for the_tif in all_tifs:\n",
    "        if str(the_tif).find(bandname) > -1:\n",
    "            print(f\"reading {key}:{the_tif}\")\n",
    "            if key == 'fmask':\n",
    "                scene_dict[key] = rioxarray.open_rasterio(the_tif)\n",
    "            else:\n",
    "                scene_dict[key] = rioxarray.open_rasterio(the_tif, mask_and_scale=True)\n",
    "            continue\n",
    "   \n",
    "    "
   ]
  },
  {
   "cell_type": "markdown",
   "id": "68446f26",
   "metadata": {},
   "source": [
    "### Create an xarray dataset from the band dictionary\n",
    "\n",
    "(make_dataset)=\n",
    "#### make_dataset function"
   ]
  },
  {
   "cell_type": "code",
   "execution_count": null,
   "id": "4b4ac3a2",
   "metadata": {},
   "outputs": [],
   "source": [
    "def make_dataset(\n",
    "      scene_dict: dict)-> xarray.Dataset:\n",
    "    \"\"\"\n",
    "    given a dictionary with landsat bands stored as rioxarray, keyed by\n",
    "    the band name, return an rioxarray dataset containing all the bands\n",
    "    plus metadata\n",
    "\n",
    "    Parameters\n",
    "    ----------\n",
    "\n",
    "    scene_dict: dictionary with keys like 'B03'\n",
    "\n",
    "    Returns\n",
    "    -------\n",
    "\n",
    "    ds_allbands: xarray dataset with all bands from the dictionary stored as variables\n",
    "    \n",
    "    \"\"\"\n",
    "    the_keys=list(scene_dict.keys())\n",
    "    first_band=the_keys[0]\n",
    "    ds_allbands = xarray.Dataset(data_vars=scene_dict,\n",
    "               coords=scene_dict[first_band].coords,attrs=scene_dict[first_band].attrs)\n",
    "    return ds_allbands"
   ]
  },
  {
   "cell_type": "code",
   "execution_count": null,
   "id": "e91c88c5",
   "metadata": {},
   "outputs": [],
   "source": [
    "ds_allbands = make_dataset(scene_dict)"
   ]
  },
  {
   "cell_type": "code",
   "execution_count": null,
   "id": "35246a51",
   "metadata": {},
   "outputs": [],
   "source": [
    "ds_allbands"
   ]
  },
  {
   "cell_type": "markdown",
   "id": "a1d2d1a8",
   "metadata": {},
   "source": [
    "(make_bool_mask)=\n",
    "### make_bool_mask function"
   ]
  },
  {
   "cell_type": "code",
   "execution_count": null,
   "id": "7d8c1e74",
   "metadata": {},
   "outputs": [],
   "source": [
    "def make_bool_mask(\n",
    "      da_fmask:xarray.DataArray\n",
    "     ) -> NDArray[np.uint8]:\n",
    "    \"\"\"'\n",
    "    turn a Landsat fmask into a boolean 1/0 array where\n",
    "    cloud-free land pixels are 1 and all other pixels are 0\n",
    "    For use by skimage.exposure.equalize_hist\n",
    "\n",
    "    Parameters\n",
    "    ----------\n",
    "\n",
    "    da_fmask: the fmask DataArray\n",
    "\n",
    "    Returns: bool_mask with the same shape\n",
    "    \"\"\"\n",
    "    scene_mask = da_fmask.data\n",
    "    mask_select =  0b00100011  #find water (bit 5), cloud (bit 1) , cirrus (bit 0)\n",
    "    ref_mask = np.zeros_like(scene_mask)\n",
    "    ref_mask[...] = mask_select\n",
    "    masked_values = np.bitwise_and(scene_mask,ref_mask)\n",
    "    masked_values[masked_values>0]=1  #cloud or water\n",
    "    masked_values[masked_values==0]=0 #rest of scene\n",
    "    #\n",
    "    # now invert this, writing 1 for 0 and 0 for 1\n",
    "    # use 9 as a placeholder value\n",
    "    bool_mask = masked_values[...]\n",
    "    bool_mask[masked_values==1] = 9\n",
    "    bool_mask[masked_values==0] = 1\n",
    "    bool_mask[masked_values==9] = 0\n",
    "    return bool_mask\n",
    "    \n",
    "    \n",
    "    \n",
    "    "
   ]
  },
  {
   "cell_type": "code",
   "execution_count": null,
   "id": "4c2aba38",
   "metadata": {},
   "outputs": [],
   "source": [
    "bool_image = make_bool_mask(scene_dict['fmask'])\n",
    "plt.imshow(bool_image.squeeze())"
   ]
  },
  {
   "cell_type": "markdown",
   "id": "408fb801",
   "metadata": {},
   "source": [
    "(make_false_color)=\n",
    "### make_false_color function"
   ]
  },
  {
   "cell_type": "code",
   "execution_count": null,
   "id": "d9c34003",
   "metadata": {},
   "outputs": [],
   "source": [
    "def make_false_color(\n",
    "        the_ds: xarray.Dataset,\n",
    "        band_names: list[str]) -> xarray.DataArray:\n",
    "    \"\"\"\n",
    "    given a landsat dataset created with at least an fmask and 3 bands,\n",
    "    return a histogram-equalized false color image with rgb mapped\n",
    "    to the bands in the order they appear in the list band_names\n",
    "\n",
    "    example usage:\n",
    "\n",
    "    landsat_654 = make_false_color(the_ds,['B06','B05','B04'])\n",
    "\n",
    "    Parameters\n",
    "    ----------\n",
    "\n",
    "    the_ds:\n",
    "       output og get_landsat_datascene -- must contain at least 3 bands and Fmask\n",
    "    band_names: \n",
    "       list of strings with the names of the bands to be mapped to red, green and blue\n",
    "\n",
    "    Returns\n",
    "    -------\n",
    "\n",
    "    false_color: rioxarray with shape [3,nrows,ncols] that can be converted to png\n",
    "    \"\"\"\n",
    "    the_ds = the_ds.squeeze()\n",
    "    rgb_names = [\"band_red\", \"band_green\", \"band_blue\"]\n",
    "    #\n",
    "    # dictionary to hold the 3 rgb bands\n",
    "    #\n",
    "    scene_dict = dict()\n",
    "    for the_rgb, the_band in zip(rgb_names, band_names):\n",
    "        # print(f\"{the_rgb=}, {the_band=}\")\n",
    "        scene_dict[the_rgb] = the_ds[the_band]\n",
    "    crs = the_ds.rio.crs\n",
    "    transform = the_ds.rio.transform()\n",
    "    fmask = the_ds[\"fmask\"].data\n",
    "    bool_mask = make_bool_mask(fmask)\n",
    "    #\n",
    "    # histogram equalize the 3 bands\n",
    "    #\n",
    "    for key, image in scene_dict.items():\n",
    "        scene_dict[key] = exposure.equalize_hist(image.data, mask=bool_mask)\n",
    "    nrows, ncols = bool_mask.shape\n",
    "    band_values = np.empty([3, nrows, ncols], dtype=np.uint8)\n",
    "    #\n",
    "    # convert to 0-255\n",
    "    #\n",
    "    for index, key in enumerate(rgb_names):\n",
    "        stretched = scene_dict[key]\n",
    "        band_values[index, :, :] = img_as_ubyte(stretched)\n",
    "    #\n",
    "    # only keep a subset of the attributes\n",
    "    #\n",
    "    keep_attrs = [\"cloud_cover\", \"date\", \"day\", \"target_lat\", \"target_lon\"]\n",
    "    all_attrs = the_ds.attrs\n",
    "    attr_dict = {key: value for key, value in all_attrs.items() if key in keep_attrs}\n",
    "    attr_dict[\"history\"] = \"written by make_false_color\"\n",
    "    attr_dict[\"landsat_rgb_bands\"] = band_names\n",
    "    band_nums = [int(item[-1]) for item in band_names]\n",
    "    coords = {\"band\": band_nums, \"y\": the_ds[\"y\"], \"x\": the_ds[\"x\"]}\n",
    "    dims = [\"band\", \"y\", \"x\"]\n",
    "    # print(f\"{dims=}\")\n",
    "    # print(f\"{band_values.shape=}\")\n",
    "    false_color = xarray.DataArray(\n",
    "        band_values, coords=coords, dims=dims, attrs=attr_dict\n",
    "    )\n",
    "    false_color.rio.write_crs(crs, inplace=True)\n",
    "    false_color.rio.write_transform(transform, inplace=True)\n",
    "    return false_color"
   ]
  },
  {
   "cell_type": "markdown",
   "id": "fda039f6",
   "metadata": {},
   "source": [
    "## True color (red, green, blue)"
   ]
  },
  {
   "cell_type": "code",
   "execution_count": null,
   "id": "7245c4df",
   "metadata": {},
   "outputs": [],
   "source": [
    "true_color = make_false_color(ds_allbands, band_names=[\"B04\",\"B03\",\"B02\"])\n",
    "fig1, ax1 = plt.subplots(1,1,figsize=(6,9))\n",
    "true_color.plot.imshow(ax=ax1);\n",
    "ax1.set(title=\"True color 432\");"
   ]
  },
  {
   "cell_type": "markdown",
   "id": "d678b45e",
   "metadata": {},
   "source": [
    "## Color infrared: near-ir, red, green\n",
    "\n",
    "Add the 5-4 red edge for vegetation, plus green (also vegetation). See [band543 detail](https://eos.com/make-an-analysis/color-infrared/)"
   ]
  },
  {
   "cell_type": "code",
   "execution_count": null,
   "id": "e844cca4",
   "metadata": {},
   "outputs": [],
   "source": [
    "color_ir = make_false_color(ds_allbands, band_names=[\"B05\",\"B04\",\"B03\"])\n",
    "fig2, ax2 = plt.subplots(1,1,figsize=(6,9))\n",
    "color_ir.plot.imshow(ax=ax2);\n",
    "ax2.set(title=\"color ir 543\");"
   ]
  },
  {
   "cell_type": "markdown",
   "id": "26b9cccb",
   "metadata": {},
   "source": [
    "## Vegetation swir-1, near-ir, red\n",
    "\n",
    "Add swir-1 for moisture content, keep the 5-4 red edge. Less contrast for turbid/fresh water.  See [band654 detail](https://eos.com/make-an-analysis/vegetation-analysis/)"
   ]
  },
  {
   "cell_type": "code",
   "execution_count": null,
   "id": "39d545bb",
   "metadata": {},
   "outputs": [],
   "source": [
    "veg_ir = make_false_color(ds_allbands, band_names=[\"B06\",\"B05\",\"B04\"])\n",
    "fig3, ax3 = plt.subplots(1,1,figsize=(6,9))\n",
    "veg_ir.plot.imshow(ax=ax3);\n",
    "ax3.set(title=\"veg ir 654\");"
   ]
  },
  {
   "cell_type": "markdown",
   "id": "d5086b5e",
   "metadata": {},
   "source": [
    "## Agriculture swir-1, near-ir, blue\n",
    "\n",
    "Swap out red for blue.  See [band652 detail](https://eos.com/make-an-analysis/agriculture-band/)"
   ]
  },
  {
   "cell_type": "code",
   "execution_count": null,
   "id": "f46a9178",
   "metadata": {},
   "outputs": [],
   "source": [
    "agri = make_false_color(ds_allbands, band_names=[\"B06\",\"B05\",\"B02\"])\n",
    "fig4, ax4 = plt.subplots(1,1,figsize=(6,9))\n",
    "agri.plot.imshow(ax=ax4);\n",
    "ax4.set(title=\"Agri 652\");"
   ]
  },
  {
   "cell_type": "markdown",
   "id": "a53526aa",
   "metadata": {},
   "source": [
    "## Urban swir-2, swir-1, red\n",
    "\n",
    "concrete and bare soil have approximately constant reflectivities between 1.6 and 2.2 microns,\n",
    "while vegetation reflects more in swir-1 than swir-2.  This combination distinguishes between\n",
    "types of urban development.  Less contrast for turbid/fresh water.  See: [band764 detail](https://eos.com/make-an-analysis/shortwave-infrared/)"
   ]
  },
  {
   "cell_type": "code",
   "execution_count": null,
   "id": "2f9a4f99",
   "metadata": {},
   "outputs": [],
   "source": [
    "urban = make_false_color(ds_allbands, band_names=[\"B07\",\"B06\",\"B04\"])\n",
    "fig5, ax5 = plt.subplots(1,1,figsize=(6,9))\n",
    "urban.plot.imshow(ax=ax5);\n",
    "ax5.set(title=\"Urban 764\");"
   ]
  }
 ],
 "metadata": {
  "jupytext": {
   "formats": "ipynb,md:myst",
   "notebook_metadata_filter": "all,-language_info,-toc,-latex_envs"
  },
  "kernelspec": {
   "display_name": "Python 3 (ipykernel)",
   "language": "python",
   "name": "python3"
  },
  "language_info": {
   "codemirror_mode": {
    "name": "ipython",
    "version": 3
   },
   "file_extension": ".py",
   "mimetype": "text/x-python",
   "name": "python",
   "nbconvert_exporter": "python",
   "pygments_lexer": "ipython3",
   "version": "3.13.1"
  }
 },
 "nbformat": 4,
 "nbformat_minor": 5
}
