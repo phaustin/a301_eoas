{
 "cells": [
  {
   "cell_type": "markdown",
   "id": "890c08bb",
   "metadata": {},
   "source": [
    "(sec:planck)=\n",
    "# Integrating the Planck function with python\n",
    "\n",
    "Download this notebook from this link:"
   ]
  },
  {
   "cell_type": "code",
   "execution_count": null,
   "id": "f67b0e8d",
   "metadata": {},
   "outputs": [],
   "source": [
    "import numpy as np\n",
    "from matplotlib import pyplot as plt"
   ]
  },
  {
   "cell_type": "markdown",
   "id": "57b2b3d7",
   "metadata": {},
   "source": [
    "## Write a module to compute Stull 2.13"
   ]
  },
  {
   "cell_type": "code",
   "execution_count": null,
   "id": "6f62e1db",
   "metadata": {},
   "outputs": [],
   "source": [
    "import numpy as np\n",
    "#\n",
    "# get Stull's c_1 and c_2 from fundamental constants\n",
    "#\n",
    "# c=2.99792458e+08  #m/s -- speed of light in vacuum\n",
    "# h=6.62606876e-34  #J s  -- Planck's constant\n",
    "# k=1.3806503e-23  # J/K  -- Boltzman's constant\n",
    "\n",
    "c, h, k = 299_792_458.0, 6.626_070_04e-34, 1.380_648_52e-23\n",
    "c1 = 2.0 * h * c ** 2.0\n",
    "c2 = h * c / k\n",
    "sigma = 2.0 * np.pi ** 5.0 * k ** 4.0 / (15 * h ** 3.0 * c ** 2.0)\n",
    "print(f\"in radiation.py, here is sigma {sigma}\")\n",
    "\n",
    "\n",
    "def Flambda(wavel, Temp):\n",
    "    \"\"\"\n",
    "    Calculate the blackbody radiant exitence (Stull 2.13)\n",
    "\n",
    "    Parameters\n",
    "    ----------\n",
    "\n",
    "      wavel: float or array\n",
    "           wavelength (meters)\n",
    "\n",
    "      Temp: float\n",
    "           temperature (K)\n",
    "\n",
    "    Returns\n",
    "    -------\n",
    "\n",
    "    Elambda:  float or arr\n",
    "           monochromatic radiant exitence (W/m^2/m)\n",
    "    \"\"\"\n",
    "    Flambda_val = c1 * np.pi / (wavel ** 5.0 * (np.exp(c2 / (wavel * Temp)) - 1))\n",
    "    return Flambda_val"
   ]
  },
  {
   "cell_type": "markdown",
   "id": "7978598f",
   "metadata": {},
   "source": [
    "## import the function from that file and use it"
   ]
  },
  {
   "cell_type": "code",
   "execution_count": null,
   "id": "05d583da",
   "metadata": {},
   "outputs": [],
   "source": [
    "npoints = 10000\n",
    "Temp = 255  # K\n",
    "wavelengths = np.linspace(0.1, 500.0, npoints) * 1.0e-6  # meters\n",
    "Fstar = Flambda(wavelengths, Temp)\n",
    "fig, ax = plt.subplots(1, 1, figsize=(10, 10))\n",
    "#\n",
    "#  change wavelength to microns and flux to W/m^2/micron\n",
    "#\n",
    "ax.plot(wavelengths * 1.0e6, Fstar * 1.0e-6)\n",
    "ax.set(xlim=[0, 50])\n",
    "ax.grid(True)\n",
    "ax.set(\n",
    "    xlabel=\"wavelength (m)\",\n",
    "    ylabel=\"$F_\\lambda^*\\ (W\\,m^{-2}\\,\\mu^{-1}$)\",\n",
    "    title=f\"Monochromatic blackbody flux at Temp={Temp} K\",\n",
    ");"
   ]
  },
  {
   "cell_type": "markdown",
   "id": "80ab5f63",
   "metadata": {},
   "source": [
    "## Convert flux to radiance\n",
    "\n",
    "This uses the reading {ref}`week2_flux_from_radiance`"
   ]
  },
  {
   "cell_type": "code",
   "execution_count": null,
   "id": "4362e866",
   "metadata": {},
   "outputs": [],
   "source": [
    "Lstar = Fstar / np.pi\n",
    "fig, ax = plt.subplots(1, 1, figsize=(10, 10))\n",
    "ax.plot(wavelengths * 1.0e6, Lstar * 1.0e-6)\n",
    "ax.set(xlim=[0, 50])\n",
    "ax.grid(True)\n",
    "ax.set(\n",
    "    xlabel=\"wavelength (m)\",\n",
    "    ylabel=\"$L_\\lambda^*\\ (W\\,m^{-2}\\,sr^{-1}\\,\\mu^{-1}$)\",\n",
    "    title=f\"Monochromatic blackbody radiance at Temp={Temp} K\",\n",
    ");"
   ]
  },
  {
   "cell_type": "code",
   "execution_count": null,
   "id": "ccb82629",
   "metadata": {},
   "outputs": [],
   "source": []
  }
 ],
 "metadata": {
  "kernelspec": {
   "display_name": "Python 3 (ipykernel)",
   "language": "python",
   "name": "python3"
  }
 },
 "nbformat": 4,
 "nbformat_minor": 5
}
