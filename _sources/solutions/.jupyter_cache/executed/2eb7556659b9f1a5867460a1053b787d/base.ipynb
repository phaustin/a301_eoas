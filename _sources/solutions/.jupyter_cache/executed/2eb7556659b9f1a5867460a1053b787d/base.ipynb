{
 "cells": [],
 "metadata": {
  "jupytext": {
   "cell_metadata_filter": "-all",
   "encoding": "# -*- coding: utf-8 -*-",
   "formats": "ipynb,md:myst,py:percent",
   "text_representation": {
    "extension": ".md",
    "format_name": "myst",
    "format_version": 0.13,
    "jupytext_version": "1.16.7"
   }
  },
  "kernelspec": {
   "display_name": "Python 3 (ipykernel)",
   "language": "python",
   "name": "python3"
  },
  "language_info": {
   "codemirror_mode": {
    "name": "ipython",
    "version": 3
   },
   "file_extension": ".py",
   "mimetype": "text/x-python",
   "name": "python",
   "nbconvert_exporter": "python",
   "pygments_lexer": "ipython3",
   "version": "3.10.13"
  },
  "source_map": [
   15,
   31,
   57,
   70,
   82,
   86,
   90,
   100
  ]
 },
 "nbformat": 4,
 "nbformat_minor": 5
}